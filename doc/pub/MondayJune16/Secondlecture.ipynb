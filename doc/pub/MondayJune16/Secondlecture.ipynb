{
 "cells": [
  {
   "cell_type": "markdown",
   "id": "94cc573d",
   "metadata": {
    "editable": true
   },
   "source": [
    "<!-- HTML file automatically generated from DocOnce source (https://github.com/doconce/doconce/)\n",
    "doconce format html Secondlecture.do.txt  -->\n",
    "<!-- dom:TITLE: Qubits, density matrices, and entanglement -->"
   ]
  },
  {
   "cell_type": "markdown",
   "id": "b082a40b",
   "metadata": {
    "editable": true
   },
   "source": [
    "# Qubits, density matrices, and entanglement\n",
    "**Nuclear TALENT course on quantum computing**\n",
    "\n",
    "Date: **Monday June 16, 2025**"
   ]
  },
  {
   "cell_type": "markdown",
   "id": "124cb7c7",
   "metadata": {
    "editable": true
   },
   "source": [
    "## Bloch sphere\n",
    "\n",
    "Classically, in a binary system, the bits take only two distinct\n",
    "values, either $0$ or $1$.  The quantum mechanical counterpart is\n",
    "given by two state vectors (our simple computational basis)\n",
    "$\\vert 0 \\rangle$ and $\\vert 1\\rangle $ which can be used to realize the\n",
    "superposition"
   ]
  },
  {
   "cell_type": "markdown",
   "id": "00dffd99",
   "metadata": {
    "editable": true
   },
   "source": [
    "$$\n",
    "\\vert \\psi \\rangle = \\alpha \\vert 0 \\rangle +\\beta\\vert 1\\rangle,\n",
    "$$"
   ]
  },
  {
   "cell_type": "markdown",
   "id": "41b7c6b7",
   "metadata": {
    "editable": true
   },
   "source": [
    "which can be represented using the so-called Bloch sphere, depicted on the next slide (best seen using the jupyter-notebook)."
   ]
  },
  {
   "cell_type": "markdown",
   "id": "52883439",
   "metadata": {
    "editable": true
   },
   "source": [
    "## Meet the Bloch sphere\n",
    "\n",
    "The Bloch shere gives a vialable way to visualize a qubit and its\n",
    "possible realizations in terms of the angles $0\\le \\theta \\le \\pi$ and\n",
    "$0\\le \\phi \\le 2\\pi$.\n",
    "\n",
    "Using the Bloch sphere representation of the qubit $\\vert \\psi \\rangle\n",
    "= \\alpha \\vert 0 \\rangle +\\beta\\vert 1\\rangle$, we can rewrite it as"
   ]
  },
  {
   "cell_type": "markdown",
   "id": "a59d8945",
   "metadata": {
    "editable": true
   },
   "source": [
    "$$\n",
    "\\vert \\psi \\rangle = \\cos{(\\frac{\\theta}{2})} \\vert 0 \\rangle +\\sin{(\\frac{\\theta}{2})}\\exp{(\\imath\\phi)}\\vert 1\\rangle,\n",
    "$$"
   ]
  },
  {
   "cell_type": "markdown",
   "id": "bac3e7c4",
   "metadata": {
    "editable": true
   },
   "source": [
    "## Bloch sphere exercise\n",
    "\n",
    "Determine the Bloch sphere angles $\\theta$ and $\\phi$ for the eigenstates of each Pauli matrix."
   ]
  },
  {
   "cell_type": "markdown",
   "id": "c85276d9",
   "metadata": {
    "editable": true
   },
   "source": [
    "## Measurements\n",
    "\n",
    "Armed with the spectral decomposition from the first lecture, we are now ready to discuss how\n",
    "to compute measurements of observables.  When we make a measurement,\n",
    "quantum mechanics postulates that mutually exclusive measurement\n",
    "outcomes correspond to orthogonal projection operators.\n",
    "\n",
    "We assume now we can contruct a series of such orthogonal operators based on $\\vert i \\rangle \\in \\{\\vert 0\\rangle, \\vert 1\\rangle,\\dots, \\vert n-1\\rangle$ computational basis states. These projection operators $\\boldsymbol{P}_0,\\boldsymbol{P}_1,\\dots,\\boldsymbol{P}_{n-1}$ are all idempotent and sum to one"
   ]
  },
  {
   "cell_type": "markdown",
   "id": "b654cea6",
   "metadata": {
    "editable": true
   },
   "source": [
    "$$\n",
    "\\sum_{i=0}^{n-1}\\boldsymbol{P}_i=\\boldsymbol{I}.\n",
    "$$"
   ]
  },
  {
   "cell_type": "markdown",
   "id": "e6f6ebfb",
   "metadata": {
    "editable": true
   },
   "source": [
    "## Qubit example\n",
    "\n",
    "As an example, consider the basis of two qubits $\\vert 0\\rangle$ and $\\vert 1\\rangle$ with the corresponding sum"
   ]
  },
  {
   "cell_type": "markdown",
   "id": "afd1b7cc",
   "metadata": {
    "editable": true
   },
   "source": [
    "$$\n",
    "\\sum_{i=0}^{1}\\boldsymbol{P}_i=\\begin{bmatrix} 1 & 0 \\\\ 0 & 1\\end{bmatrix}.\n",
    "$$"
   ]
  },
  {
   "cell_type": "markdown",
   "id": "84db36f8",
   "metadata": {
    "editable": true
   },
   "source": [
    "Based on the spectral decomposition discussed above, we can define the probability of eigenvalue $\\lambda_i$ as"
   ]
  },
  {
   "cell_type": "markdown",
   "id": "1121b6ed",
   "metadata": {
    "editable": true
   },
   "source": [
    "$$\n",
    "\\mathrm{Prob}(\\lambda_i) = \\vert \\boldsymbol{P}_i\\vert \\psi\\rangle\\vert^2,\n",
    "$$"
   ]
  },
  {
   "cell_type": "markdown",
   "id": "953b11c3",
   "metadata": {
    "editable": true
   },
   "source": [
    "where $\\vert \\psi_a\\rangle$ is a quantum state representing the system prior to a specific measurement."
   ]
  },
  {
   "cell_type": "markdown",
   "id": "3a09350a",
   "metadata": {
    "editable": true
   },
   "source": [
    "## Total probability\n",
    "\n",
    "We can rewrite this as"
   ]
  },
  {
   "cell_type": "markdown",
   "id": "426f7d24",
   "metadata": {
    "editable": true
   },
   "source": [
    "$$\n",
    "\\mathrm{Prob}(\\lambda_i) = \\langle \\psi\\vert \\boldsymbol{P}_i^{\\dagger}\\boldsymbol{P}_i\\vert \\psi\\rangle =\\langle \\psi\\vert \\boldsymbol{P}_i\\vert \\psi\\rangle.\n",
    "$$"
   ]
  },
  {
   "cell_type": "markdown",
   "id": "1aa9a849",
   "metadata": {
    "editable": true
   },
   "source": [
    "The total probability for all measurements is the sum overt all probabilities"
   ]
  },
  {
   "cell_type": "markdown",
   "id": "1fa9f99b",
   "metadata": {
    "editable": true
   },
   "source": [
    "$$\n",
    "\\sum_{i=0}^{n-1}\\mathrm{Prob}(\\lambda_i)=1.\n",
    "$$"
   ]
  },
  {
   "cell_type": "markdown",
   "id": "e6869512",
   "metadata": {
    "editable": true
   },
   "source": [
    "We can in turn define the post-measurement normalized pure quantum state as, for the specific outcome $\\lambda_i$, as"
   ]
  },
  {
   "cell_type": "markdown",
   "id": "d5eff184",
   "metadata": {
    "editable": true
   },
   "source": [
    "$$\n",
    "\\vert \\psi'\\rangle = \\frac{\\boldsymbol{P}_i\\vert \\psi\\rangle}{\\sqrt{\\langle \\psi \\vert \\boldsymbol{P}_i\\vert \\psi\\rangle}}.\n",
    "$$"
   ]
  },
  {
   "cell_type": "markdown",
   "id": "86e7cee2",
   "metadata": {
    "editable": true
   },
   "source": [
    "## Binary example system\n",
    "\n",
    "As an example, consider the binary system states $\\vert 0\\rangle$ and $\\vert 1\\rangle$ with corresponding projection operators"
   ]
  },
  {
   "cell_type": "markdown",
   "id": "e5965f3d",
   "metadata": {
    "editable": true
   },
   "source": [
    "$$\n",
    "\\boldsymbol{P}_0 =\\vert 0 \\rangle \\langle 0\\vert,\n",
    "$$"
   ]
  },
  {
   "cell_type": "markdown",
   "id": "063742a3",
   "metadata": {
    "editable": true
   },
   "source": [
    "and"
   ]
  },
  {
   "cell_type": "markdown",
   "id": "3badbd20",
   "metadata": {
    "editable": true
   },
   "source": [
    "$$\n",
    "\\boldsymbol{P}_1 =\\vert 1 \\rangle \\langle 1\\vert,\n",
    "$$"
   ]
  },
  {
   "cell_type": "markdown",
   "id": "4535a3e9",
   "metadata": {
    "editable": true
   },
   "source": [
    "with the properties"
   ]
  },
  {
   "cell_type": "markdown",
   "id": "b1e54661",
   "metadata": {
    "editable": true
   },
   "source": [
    "$$\n",
    "\\sum_{i=0}^1\\boldsymbol{P}_i^{\\dagger}\\boldsymbol{P}_1=\\boldsymbol{I},\n",
    "$$"
   ]
  },
  {
   "cell_type": "markdown",
   "id": "db819429",
   "metadata": {
    "editable": true
   },
   "source": [
    "$$\n",
    "\\boldsymbol{P}_0^{\\dagger}\\boldsymbol{P}_0=\\boldsymbol{P}_0^2=\\boldsymbol{P}_0,\n",
    "$$"
   ]
  },
  {
   "cell_type": "markdown",
   "id": "9c9161d2",
   "metadata": {
    "editable": true
   },
   "source": [
    "and"
   ]
  },
  {
   "cell_type": "markdown",
   "id": "00dffee0",
   "metadata": {
    "editable": true
   },
   "source": [
    "$$\n",
    "\\boldsymbol{P}_1^{\\dagger}\\boldsymbol{P}_1=\\boldsymbol{P}_1^2=\\boldsymbol{P}_1.\n",
    "$$"
   ]
  },
  {
   "cell_type": "markdown",
   "id": "be5b98c0",
   "metadata": {
    "editable": true
   },
   "source": [
    "## Superposition of states\n",
    "\n",
    "Assume thereafter that we have a state $\\vert \\psi\\rangle$ which is a superposition of the above two qubit states"
   ]
  },
  {
   "cell_type": "markdown",
   "id": "9d6a7d07",
   "metadata": {
    "editable": true
   },
   "source": [
    "$$\n",
    "\\vert \\psi \\rangle = \\alpha\\vert 0 \\rangle + \\beta \\vert 1\\rangle.\n",
    "$$"
   ]
  },
  {
   "cell_type": "markdown",
   "id": "93ba3591",
   "metadata": {
    "editable": true
   },
   "source": [
    "The probability of finding either $\\vert 0\\rangle$ or $\\vert 1\\rangle$ is then"
   ]
  },
  {
   "cell_type": "markdown",
   "id": "4c3cd2eb",
   "metadata": {
    "editable": true
   },
   "source": [
    "$$\n",
    "\\boldsymbol{P}_{\\psi(0)}=\\langle \\psi\\vert \\boldsymbol{P}_0^{\\dagger}\\boldsymbol{P}_0\\vert \\psi\\rangle=\\vert \\alpha\\vert^2,\n",
    "$$"
   ]
  },
  {
   "cell_type": "markdown",
   "id": "35d16ca5",
   "metadata": {
    "editable": true
   },
   "source": [
    "and similarly we have"
   ]
  },
  {
   "cell_type": "markdown",
   "id": "d3f58f3e",
   "metadata": {
    "editable": true
   },
   "source": [
    "$$\n",
    "\\boldsymbol{P}_{\\psi(1)}=\\langle \\psi\\vert \\boldsymbol{P}_1^{\\dagger}\\boldsymbol{P}_1\\vert \\psi\\rangle=\\vert \\beta\\vert^2.\n",
    "$$"
   ]
  },
  {
   "cell_type": "markdown",
   "id": "75cf5802",
   "metadata": {
    "editable": true
   },
   "source": [
    "## More derivations\n",
    "\n",
    "If we set"
   ]
  },
  {
   "cell_type": "markdown",
   "id": "96488451",
   "metadata": {
    "editable": true
   },
   "source": [
    "$$\n",
    "\\vert \\psi \\rangle = \\frac{1}{\\sqrt{2}}\\left(\\vert 0 \\rangle + \\vert 1\\rangle\\right),\n",
    "$$"
   ]
  },
  {
   "cell_type": "markdown",
   "id": "de83195c",
   "metadata": {
    "editable": true
   },
   "source": [
    "we have $\\vert \\alpha\\vert^2=\\vert \\beta\\vert^2=1/2$. In general for this system we have"
   ]
  },
  {
   "cell_type": "markdown",
   "id": "d91bd528",
   "metadata": {
    "editable": true
   },
   "source": [
    "$$\n",
    "\\vert \\psi'_0\\rangle = \\frac{\\boldsymbol{P}_0\\vert \\psi\\rangle}{\\sqrt{\\langle \\psi \\vert \\boldsymbol{P}_0\\vert \\psi\\rangle}}=\\frac{\\alpha}{\\vert \\alpha\\vert}\\vert 0 \\rangle,\n",
    "$$"
   ]
  },
  {
   "cell_type": "markdown",
   "id": "a4feaafe",
   "metadata": {
    "editable": true
   },
   "source": [
    "and"
   ]
  },
  {
   "cell_type": "markdown",
   "id": "3e7c918d",
   "metadata": {
    "editable": true
   },
   "source": [
    "$$\n",
    "\\vert \\psi'_1\\rangle = \\frac{\\boldsymbol{P}_1\\vert \\psi\\rangle}{\\sqrt{\\langle \\psi \\vert \\boldsymbol{P}_1\\vert \\psi\\rangle}}=\\frac{\\beta}{\\vert \\beta\\vert}\\vert 1 \\rangle.\n",
    "$$"
   ]
  },
  {
   "cell_type": "markdown",
   "id": "96fefb41",
   "metadata": {
    "editable": true
   },
   "source": [
    "## Final result\n",
    "In general we have that"
   ]
  },
  {
   "cell_type": "markdown",
   "id": "501452ef",
   "metadata": {
    "editable": true
   },
   "source": [
    "$$\n",
    "\\boldsymbol{P}_{\\psi(x)}=\\langle \\psi\\vert \\boldsymbol{P}_x^{\\dagger}\\boldsymbol{P}_x\\vert \\psi\\rangle,,\n",
    "$$"
   ]
  },
  {
   "cell_type": "markdown",
   "id": "cb3c5372",
   "metadata": {
    "editable": true
   },
   "source": [
    "which we can rewrite as"
   ]
  },
  {
   "cell_type": "markdown",
   "id": "3931f128",
   "metadata": {
    "editable": true
   },
   "source": [
    "$$\n",
    "\\mathrm{Prob}(\\psi(x))=\\mathrm{Tr}\\left[\\boldsymbol{P}_x^{\\dagger}\\boldsymbol{P}_x\\vert \\psi\\rangle\\langle \\psi\\vert\\right].\n",
    "$$"
   ]
  },
  {
   "cell_type": "markdown",
   "id": "71f6aed4",
   "metadata": {
    "editable": true
   },
   "source": [
    "## Example\n",
    "\n",
    "The last equation can be understood better through the following example with a state $\\vert \\psi\\rangle$"
   ]
  },
  {
   "cell_type": "markdown",
   "id": "49abc980",
   "metadata": {
    "editable": true
   },
   "source": [
    "$$\n",
    "\\vert \\psi \\rangle = \\alpha \\vert 0\\rangle+\\beta \\vert 1\\rangle,\n",
    "$$"
   ]
  },
  {
   "cell_type": "markdown",
   "id": "13a321c6",
   "metadata": {
    "editable": true
   },
   "source": [
    "which results in a projection operator"
   ]
  },
  {
   "cell_type": "markdown",
   "id": "253eba1c",
   "metadata": {
    "editable": true
   },
   "source": [
    "$$\n",
    "\\vert \\psi \\rangle\\langle \\psi\\vert = \\begin{bmatrix} \\vert \\alpha \\vert^2 & \\alpha\\beta^* \\\\ \\alpha^*\\beta & \\vert\\beta\\vert^2\\end{bmatrix}.\n",
    "$$"
   ]
  },
  {
   "cell_type": "markdown",
   "id": "90c3f087",
   "metadata": {
    "editable": true
   },
   "source": [
    "## Computing matrix products\n",
    "We have that"
   ]
  },
  {
   "cell_type": "markdown",
   "id": "21387b18",
   "metadata": {
    "editable": true
   },
   "source": [
    "$$\n",
    "\\boldsymbol{P}_0^{\\dagger}\\boldsymbol{P}_0=\\boldsymbol{P}_0=\\begin{bmatrix} 1 & 0 \\\\ 0 & 0\\end{bmatrix},\n",
    "$$"
   ]
  },
  {
   "cell_type": "markdown",
   "id": "47b539f1",
   "metadata": {
    "editable": true
   },
   "source": [
    "and computing the matrix product $\\boldsymbol{P}_0\\vert\\psi\\rangle\\langle \\psi\\vert$ gives"
   ]
  },
  {
   "cell_type": "markdown",
   "id": "1172f6da",
   "metadata": {
    "editable": true
   },
   "source": [
    "$$\n",
    "\\boldsymbol{P}_0\\vert\\psi\\rangle\\langle \\psi\\vert=\\begin{bmatrix} 1 & 0 \\\\ 0 & 0\\end{bmatrix}\\begin{bmatrix} \\vert \\alpha \\vert^2 & \\alpha\\beta^* \\\\ \\alpha^*\\beta & \\vert\\beta\\vert^2\\end{bmatrix}=\\begin{bmatrix} \\vert \\alpha \\vert^2 & \\alpha\\beta^* \\\\ 0 & 0\\end{bmatrix}.\n",
    "$$"
   ]
  },
  {
   "cell_type": "markdown",
   "id": "d9472f42",
   "metadata": {
    "editable": true
   },
   "source": [
    "## Taking the trace\n",
    "\n",
    "Taking the trace of the above matrix, that is computing"
   ]
  },
  {
   "cell_type": "markdown",
   "id": "397c0515",
   "metadata": {
    "editable": true
   },
   "source": [
    "$$\n",
    "\\mathrm{Prob}(\\psi(0))=\\mathrm{Tr}\\left[\\boldsymbol{P}_0^{\\dagger}\\boldsymbol{P}_0\\vert \\psi\\rangle\\langle \\psi\\vert\\right]=\\vert \\alpha\\vert^2,\n",
    "$$"
   ]
  },
  {
   "cell_type": "markdown",
   "id": "b3399586",
   "metadata": {
    "editable": true
   },
   "source": [
    "we obtain the same results as the one we had earlier by computing\n",
    "the probabliblity for $0$ given by the expression"
   ]
  },
  {
   "cell_type": "markdown",
   "id": "3f35404e",
   "metadata": {
    "editable": true
   },
   "source": [
    "$$\n",
    "\\boldsymbol{P}_{\\psi(0)}=\\langle \\psi\\vert \\boldsymbol{P}_0^{\\dagger}\\boldsymbol{P}_0\\vert \\psi\\rangle=\\vert \\alpha\\vert^2.\n",
    "$$"
   ]
  },
  {
   "cell_type": "markdown",
   "id": "2229e18f",
   "metadata": {
    "editable": true
   },
   "source": [
    "## Outcome probability\n",
    "\n",
    "It is straight forward to show that"
   ]
  },
  {
   "cell_type": "markdown",
   "id": "2dbddeaa",
   "metadata": {
    "editable": true
   },
   "source": [
    "$$\n",
    "\\mathrm{Prob}(\\psi(1))=\\mathrm{Tr}\\left[\\boldsymbol{P}_1^{\\dagger}\\boldsymbol{P}_1\\vert \\psi\\rangle\\langle \\psi\\vert\\right]=\\vert \\beta\\vert^2,\n",
    "$$"
   ]
  },
  {
   "cell_type": "markdown",
   "id": "0e2d060f",
   "metadata": {
    "editable": true
   },
   "source": [
    "which we also could have obtained by computing"
   ]
  },
  {
   "cell_type": "markdown",
   "id": "0131fa03",
   "metadata": {
    "editable": true
   },
   "source": [
    "$$\n",
    "\\boldsymbol{P}_{\\psi(1)}=\\langle \\psi\\vert \\boldsymbol{P}_1^{\\dagger}\\boldsymbol{P}_1\\vert \\psi\\rangle=\\vert \\beta\\vert^2.\n",
    "$$"
   ]
  },
  {
   "cell_type": "markdown",
   "id": "eaf9a8b0",
   "metadata": {
    "editable": true
   },
   "source": [
    "## Extending the expressions\n",
    "\n",
    "We can now extend these expressions to the complete ensemble of measurements. Using the spectral decomposition we have that the probability of an outcome $p(x)$ is"
   ]
  },
  {
   "cell_type": "markdown",
   "id": "7b2f68aa",
   "metadata": {
    "editable": true
   },
   "source": [
    "$$\n",
    "p(x)=\\sum_{i=0}^{n-1}p_i\\boldsymbol{P}_{\\psi_i(x)},\n",
    "$$"
   ]
  },
  {
   "cell_type": "markdown",
   "id": "e63acb78",
   "metadata": {
    "editable": true
   },
   "source": [
    "where $p_i$ are the probabilities of a specific outcome. \n",
    "\n",
    "With these prerequisites we are now ready to introduce the density  matrices, or density operators."
   ]
  },
  {
   "cell_type": "markdown",
   "id": "621c7309",
   "metadata": {
    "editable": true
   },
   "source": [
    "## Density matrices/operators\n",
    "\n",
    "The last equation can be rewritten as"
   ]
  },
  {
   "cell_type": "markdown",
   "id": "237c24e0",
   "metadata": {
    "editable": true
   },
   "source": [
    "$$\n",
    "p(x)=\\sum_{i=0}^{n-1}p_i\\boldsymbol{P}_{\\psi_i(x)}=\\sum_{i=0}^{n-1}p_i\\mathrm{Tr}\\left[\\boldsymbol{P}_x^{\\dagger}\\boldsymbol{P}_x\\vert \\psi_i\\rangle\\langle \\psi_i\\vert\\right],\n",
    "$$"
   ]
  },
  {
   "cell_type": "markdown",
   "id": "bd8957d9",
   "metadata": {
    "editable": true
   },
   "source": [
    "and we define the **density matrix/operator** as"
   ]
  },
  {
   "cell_type": "markdown",
   "id": "f21e8ada",
   "metadata": {
    "editable": true
   },
   "source": [
    "$$\n",
    "\\rho=\\sum_{i=0}^{n-1}p_i\\vert \\psi_i\\rangle\\langle \\psi_i\\vert,\n",
    "$$"
   ]
  },
  {
   "cell_type": "markdown",
   "id": "6f6c157c",
   "metadata": {
    "editable": true
   },
   "source": [
    "we can rewrite the first equation above as"
   ]
  },
  {
   "cell_type": "markdown",
   "id": "efb94eb0",
   "metadata": {
    "editable": true
   },
   "source": [
    "$$\n",
    "p(x)=\\mathrm{Tr}\\left[\\boldsymbol{P}_x^{\\dagger}\\boldsymbol{P}_x\\rho\\right].\n",
    "$$"
   ]
  },
  {
   "cell_type": "markdown",
   "id": "cfd45908",
   "metadata": {
    "editable": true
   },
   "source": [
    "If we can define the state of a system in terms of the density matrix, the probability of a specific outcome is then given by"
   ]
  },
  {
   "cell_type": "markdown",
   "id": "94a635d2",
   "metadata": {
    "editable": true
   },
   "source": [
    "$$\n",
    "p(x)_{\\rho}=\\mathrm{Tr}\\left[\\boldsymbol{P}_x^{\\dagger}\\boldsymbol{P}_x\\rho\\right].\n",
    "$$"
   ]
  },
  {
   "cell_type": "markdown",
   "id": "a4657a65",
   "metadata": {
    "editable": true
   },
   "source": [
    "## Properties of density matrices\n",
    "\n",
    "A density matrix in a Hilbert space with $n$ states has the following properties (which we state without proof)\n",
    "1. There exists a probability $p_i\\geq 0$ with $\\sum_ip_i=1$,\n",
    "\n",
    "2. There exists an orthonormal basis $\\psi_i$ such that we can define $\\rho=\\sum_ip_i\\vert\\psi_i\\rangle\\langle \\psi_i\\vert$,\n",
    "\n",
    "3. We have $0 \\leq \\rho^2\\leq 1$ and\n",
    "\n",
    "4. The norm $\\vert\\vert \\rho \\vert\\vert_2\\leq 1$.\n",
    "\n",
    "With the density matrix we can also define the state the system collapses to after a measurement, namely"
   ]
  },
  {
   "cell_type": "markdown",
   "id": "b7255fb6",
   "metadata": {
    "editable": true
   },
   "source": [
    "$$\n",
    "\\rho'_x=\\frac{\\boldsymbol{P}_x\\rho\\boldsymbol{P}_x^{\\dagger}}{\\mathrm{Tr}[\\boldsymbol{P}_x^{\\dagger}\\boldsymbol{P}_x\\rho]}.\n",
    "$$"
   ]
  },
  {
   "cell_type": "markdown",
   "id": "a79a1634",
   "metadata": {
    "editable": true
   },
   "source": [
    "## First entanglement encounter, two qubit system\n",
    "\n",
    "We define a system that can be thought of as composed of two subsystems\n",
    "$A$ and $B$. Each subsystem has computational basis states"
   ]
  },
  {
   "cell_type": "markdown",
   "id": "80876912",
   "metadata": {
    "editable": true
   },
   "source": [
    "$$\n",
    "\\vert 0\\rangle_{\\mathrm{A,B}}=\\begin{bmatrix} 1 & 0\\end{bmatrix}^T \\hspace{1cm} \\vert 1\\rangle_{\\mathrm{A,B}}=\\begin{bmatrix} 0 & 1\\end{bmatrix}^T.\n",
    "$$"
   ]
  },
  {
   "cell_type": "markdown",
   "id": "8b3d2d93",
   "metadata": {
    "editable": true
   },
   "source": [
    "The subsystems could represent single particles or composite many-particle systems of a given symmetry."
   ]
  },
  {
   "cell_type": "markdown",
   "id": "79d3d382",
   "metadata": {
    "editable": true
   },
   "source": [
    "## Computational basis\n",
    "\n",
    "This leads to the many-body computational basis states"
   ]
  },
  {
   "cell_type": "markdown",
   "id": "31f9ffae",
   "metadata": {
    "editable": true
   },
   "source": [
    "$$\n",
    "\\vert 00\\rangle = \\vert 0\\rangle_{\\mathrm{A}}\\otimes \\vert 0\\rangle_{\\mathrm{B}}=\\begin{bmatrix} 1 & 0 & 0 &0\\end{bmatrix}^T,\n",
    "$$"
   ]
  },
  {
   "cell_type": "markdown",
   "id": "45722b5e",
   "metadata": {
    "editable": true
   },
   "source": [
    "and"
   ]
  },
  {
   "cell_type": "markdown",
   "id": "ba22ef76",
   "metadata": {
    "editable": true
   },
   "source": [
    "$$\n",
    "\\vert 01\\rangle = \\vert 0\\rangle_{\\mathrm{A}}\\otimes \\vert 1\\rangle_{\\mathrm{B}}=\\begin{bmatrix} 0 & 1 & 0 &0\\end{bmatrix}^T,\n",
    "$$"
   ]
  },
  {
   "cell_type": "markdown",
   "id": "f5a675c0",
   "metadata": {
    "editable": true
   },
   "source": [
    "and"
   ]
  },
  {
   "cell_type": "markdown",
   "id": "42c14d81",
   "metadata": {
    "editable": true
   },
   "source": [
    "$$\n",
    "\\vert 10\\rangle = \\vert 1\\rangle_{\\mathrm{A}}\\otimes \\vert 0\\rangle_{\\mathrm{B}}=\\begin{bmatrix} 0 & 0 & 1 &0\\end{bmatrix}^T,\n",
    "$$"
   ]
  },
  {
   "cell_type": "markdown",
   "id": "5b699858",
   "metadata": {
    "editable": true
   },
   "source": [
    "and finally"
   ]
  },
  {
   "cell_type": "markdown",
   "id": "fc2171ff",
   "metadata": {
    "editable": true
   },
   "source": [
    "$$\n",
    "\\vert 11\\rangle = \\vert 1\\rangle_{\\mathrm{A}}\\otimes \\vert 1\\rangle_{\\mathrm{B}}=\\begin{bmatrix} 0 & 0 & 0 &1\\end{bmatrix}^T.\n",
    "$$"
   ]
  },
  {
   "cell_type": "markdown",
   "id": "62bd2542",
   "metadata": {
    "editable": true
   },
   "source": [
    "## Bell states\n",
    "\n",
    "The above computational basis states, which define an ONB, can in turn\n",
    "be used to define another ONB. As an example, consider the so-called\n",
    "Bell states"
   ]
  },
  {
   "cell_type": "markdown",
   "id": "8eca9c50",
   "metadata": {
    "editable": true
   },
   "source": [
    "$$\n",
    "\\vert \\Phi^+\\rangle = \\frac{1}{\\sqrt{2}}\\left[\\vert 00\\rangle +\\vert 11\\rangle\\right]=\\frac{1}{\\sqrt{2}}\\begin{bmatrix} 1 \\\\ 0 \\\\ 0 \\\\ 1\\end{bmatrix},\n",
    "$$"
   ]
  },
  {
   "cell_type": "markdown",
   "id": "99ea4e2d",
   "metadata": {
    "editable": true
   },
   "source": [
    "$$\n",
    "\\vert \\Phi^-\\rangle = \\frac{1}{\\sqrt{2}}\\left[\\vert 00\\rangle -\\vert 11\\rangle\\right]=\\frac{1}{\\sqrt{2}}\\begin{bmatrix} 1 \\\\ 0 \\\\ 0 \\\\ -1\\end{bmatrix},\n",
    "$$"
   ]
  },
  {
   "cell_type": "markdown",
   "id": "6a73d0a3",
   "metadata": {
    "editable": true
   },
   "source": [
    "## The next two"
   ]
  },
  {
   "cell_type": "markdown",
   "id": "80f64783",
   "metadata": {
    "editable": true
   },
   "source": [
    "$$\n",
    "\\vert \\Psi^+\\rangle = \\frac{1}{\\sqrt{2}}\\left[\\vert 10\\rangle +\\vert 01\\rangle\\right]=\\frac{1}{\\sqrt{2}}\\begin{bmatrix} 0 \\\\ 1 \\\\ 1 \\\\ 0\\end{bmatrix},\n",
    "$$"
   ]
  },
  {
   "cell_type": "markdown",
   "id": "1982ecd0",
   "metadata": {
    "editable": true
   },
   "source": [
    "and"
   ]
  },
  {
   "cell_type": "markdown",
   "id": "0c5f8d6c",
   "metadata": {
    "editable": true
   },
   "source": [
    "$$\n",
    "\\vert \\Psi^-\\rangle = \\frac{1}{\\sqrt{2}}\\left[\\vert 10\\rangle -\\vert 01\\rangle\\right]=\\frac{1}{\\sqrt{2}}\\begin{bmatrix} 0 \\\\ 1 \\\\ -1 \\\\ 0\\end{bmatrix}.\n",
    "$$"
   ]
  },
  {
   "cell_type": "markdown",
   "id": "27a0a650",
   "metadata": {
    "editable": true
   },
   "source": [
    "It is easy to convince oneself that these states also form an orthonormal basis."
   ]
  },
  {
   "cell_type": "markdown",
   "id": "2962c9ba",
   "metadata": {
    "editable": true
   },
   "source": [
    "## Measurement\n",
    "\n",
    "Measuring one of the qubits of one of the above Bell states,\n",
    "automatically determines, as we will see below, the state of the\n",
    "second qubit. To convince ourselves about this, let us assume we perform a measurement on the qubit in system $A$ by introducing the projections with outcomes $0$ or $1$ as"
   ]
  },
  {
   "cell_type": "markdown",
   "id": "98893db0",
   "metadata": {
    "editable": true
   },
   "source": [
    "$$\n",
    "\\boldsymbol{P}_0=\\vert 0\\rangle\\langle 0\\vert_A\\otimes \\boldsymbol{I}_B=\\begin{bmatrix} 1 & 0\\\\ 0 & 0\\end{bmatrix}\\otimes\\begin{bmatrix} 1& 0 \\\\ 0 & 1\\end{bmatrix}=\\begin{bmatrix} 1 & 0 & 0 & 0 \\\\ 0 & 1 & 0 & 0 \\\\ 0 & 0 & 0 & 0 \\\\ 0 & 0 & 0 & 0\\end{bmatrix},\n",
    "$$"
   ]
  },
  {
   "cell_type": "markdown",
   "id": "34a785e3",
   "metadata": {
    "editable": true
   },
   "source": [
    "for the projection of the $\\vert 0 \\rangle$ state in system $A$ and similarly"
   ]
  },
  {
   "cell_type": "markdown",
   "id": "441ef383",
   "metadata": {
    "editable": true
   },
   "source": [
    "$$\n",
    "\\boldsymbol{P}_1=\\vert 1\\rangle\\langle 1\\vert_A\\otimes \\boldsymbol{I}_B=\\begin{bmatrix} 0 & 0\\\\ 0 & 1\\end{bmatrix}\\otimes\\begin{bmatrix} 1& 0 \\\\ 0 & 1\\end{bmatrix}=\\begin{bmatrix} 0 & 0 & 0 & 0 \\\\ 0 & 0 & 0 & 0 \\\\ 0 & 0 & 1 & 0 \\\\ 0 & 0 & 0 & 1\\end{bmatrix},\n",
    "$$"
   ]
  },
  {
   "cell_type": "markdown",
   "id": "72ca0b36",
   "metadata": {
    "editable": true
   },
   "source": [
    "for the projection of the $\\vert 1 \\rangle$ state in system $A$."
   ]
  },
  {
   "cell_type": "markdown",
   "id": "e4da2609",
   "metadata": {
    "editable": true
   },
   "source": [
    "## Probability of  outcome\n",
    "\n",
    "We can then calculate the probability for the various outcomes by\n",
    "computing for example the probability for measuring qubit $0$"
   ]
  },
  {
   "cell_type": "markdown",
   "id": "afdcc9df",
   "metadata": {
    "editable": true
   },
   "source": [
    "$$\n",
    "\\langle \\Phi^+\\vert \\boldsymbol{P}_0\\vert \\Phi^+\\rangle = \\frac{1}{2} \\left[\\langle 00\\vert +\\langle 11\\vert\\right]\\begin{bmatrix} 1 & 0 & 0 & 0 \\\\ 0 & 1 & 0 & 0 \\\\ 0 & 0 & 0 & 0 \\\\ 0 & 0 & 0 & 0\\end{bmatrix}\\left[\\vert 00\\rangle +\\vert 11\\rangle\\right]=\\frac{1}{2}.\n",
    "$$"
   ]
  },
  {
   "cell_type": "markdown",
   "id": "30d410ec",
   "metadata": {
    "editable": true
   },
   "source": [
    "Similarly, we obtain"
   ]
  },
  {
   "cell_type": "markdown",
   "id": "a17d2524",
   "metadata": {
    "editable": true
   },
   "source": [
    "$$\n",
    "\\langle \\Phi^+\\vert \\boldsymbol{P}_1\\vert \\Phi^+\\rangle = \\frac{1}{2}\\left[\\langle 00\\vert +\\langle 11\\vert\\right]\\begin{bmatrix} 0 & 0 & 0 & 0 \\\\ 0 & 0 & 0 & 0 \\\\ 0 & 0 & 1 & 0 \\\\ 0 & 0 & 0 & 1\\end{bmatrix}\\left[\\vert 00\\rangle +\\vert 11\\rangle\\right]=\\frac{1}{2}.\n",
    "$$"
   ]
  },
  {
   "cell_type": "markdown",
   "id": "a196ec14",
   "metadata": {
    "editable": true
   },
   "source": [
    "## States after measurement\n",
    "After the above measurements the system is in the states"
   ]
  },
  {
   "cell_type": "markdown",
   "id": "371399f3",
   "metadata": {
    "editable": true
   },
   "source": [
    "$$\n",
    "\\vert \\Phi'_0 \\rangle = \\sqrt{2}\\left[\\vert 0\\rangle\\langle 0\\vert_A\\otimes \\boldsymbol{I}_B\\right]\\vert\\Phi^+\\rangle=\\vert 00\\rangle,\n",
    "$$"
   ]
  },
  {
   "cell_type": "markdown",
   "id": "442560b4",
   "metadata": {
    "editable": true
   },
   "source": [
    "and"
   ]
  },
  {
   "cell_type": "markdown",
   "id": "3f98dfc5",
   "metadata": {
    "editable": true
   },
   "source": [
    "$$\n",
    "\\vert \\Phi'_1 \\rangle = \\sqrt{2}\\left[\\vert 1\\rangle\\langle 1\\vert_A\\otimes \\boldsymbol{I}_B\\right]\\vert\\Phi^+\\rangle=\\vert 11\\rangle.\n",
    "$$"
   ]
  },
  {
   "cell_type": "markdown",
   "id": "1bcb3201",
   "metadata": {
    "editable": true
   },
   "source": [
    "We see from the last two equations that the state of the second qubit\n",
    "is determined even though the measurement has only taken place locally\n",
    "on system $A$."
   ]
  },
  {
   "cell_type": "markdown",
   "id": "119a9727",
   "metadata": {
    "editable": true
   },
   "source": [
    "## Other states\n",
    "\n",
    "If we on the other hand consider a state like"
   ]
  },
  {
   "cell_type": "markdown",
   "id": "e4365619",
   "metadata": {
    "editable": true
   },
   "source": [
    "$$\n",
    "\\vert 00 \\rangle = \\vert 0\\rangle_A\\otimes \\vert 0\\rangle_B,\n",
    "$$"
   ]
  },
  {
   "cell_type": "markdown",
   "id": "b9fc5505",
   "metadata": {
    "editable": true
   },
   "source": [
    "this is a pure **product** state of the single-qubit, or single-particle\n",
    "states, of two qubits (particles) in system $A$ and system $B$,\n",
    "respectively. We call such a state for a **pure product state**.  Quantum states\n",
    "that cannot be written as a mixture of other states are called pure\n",
    "quantum states or just product states, while all other states are called mixed quantum states."
   ]
  },
  {
   "cell_type": "markdown",
   "id": "10222e36",
   "metadata": {
    "editable": true
   },
   "source": [
    "## More on Bell states\n",
    "A state like one of the Bell states (where we introduce the subscript $AB$ to indicate that the state is composed of single states from two subsystem)"
   ]
  },
  {
   "cell_type": "markdown",
   "id": "59a5a704",
   "metadata": {
    "editable": true
   },
   "source": [
    "$$\n",
    "\\vert \\Phi^+\\rangle = \\frac{1}{\\sqrt{2}}\\left[\\vert 00\\rangle_{AB} +\\vert 11\\rangle_{AB}\\right],\n",
    "$$"
   ]
  },
  {
   "cell_type": "markdown",
   "id": "48b8a524",
   "metadata": {
    "editable": true
   },
   "source": [
    "is on the other hand a mixed state and we cannot determine whether system $A$ is in a state $0$ or $1$. The above state is a superposition of the states $\\vert 00\\rangle_{AB}$ and $\\vert 11\\rangle_{AB}$ and it is not possible to determine individual states of systems $A$ and $B$, respectively."
   ]
  },
  {
   "cell_type": "markdown",
   "id": "f97836a3",
   "metadata": {
    "editable": true
   },
   "source": [
    "## Entanglement\n",
    "\n",
    "We say that the state is entangled. This yields the following\n",
    "definition of entangled states: a pure bipartite state $\\vert\n",
    "\\psi\\rangle_{AB}$ is entangled if it cannot be written as a product\n",
    "state $\\vert\\psi\\rangle_{A}\\otimes\\vert\\phi\\rangle_B$ for any choice\n",
    "of the states $\\vert\\psi\\rangle_{A}$ and $\\vert\\phi\\rangle_B$. Otherwise we say the state is separable."
   ]
  },
  {
   "cell_type": "markdown",
   "id": "53e0c8c9",
   "metadata": {
    "editable": true
   },
   "source": [
    "## Examples of entanglement\n",
    "\n",
    "As an example, considere an ansatz for the ground state of the helium\n",
    "atom with two electrons in the lowest $1s$ state (hydrogen-like\n",
    "orbits) and with spin $s=1/2$ and spin projections $m_s=-1/2$ and\n",
    "$m_s=1/2$.  The two single-particle states are given by the tensor\n",
    "products of their spatial $1s$ single-particle states\n",
    "$\\vert\\phi_{1s}\\rangle$ and and their spin up or spin down spinors\n",
    "$\\vert\\xi_{sm_s}\\rangle$. The ansatz for the ground state is given by a Slater\n",
    "determinant with total orbital momentum $L=l_1+l_2=0$ and totalt spin\n",
    "$S=s_1+s_2=0$, normally labeled as a spin-singlet state."
   ]
  },
  {
   "cell_type": "markdown",
   "id": "1d9864bc",
   "metadata": {
    "editable": true
   },
   "source": [
    "## Ground state of helium\n",
    "This ansatz\n",
    "for the ground state is then written as, using the compact notations"
   ]
  },
  {
   "cell_type": "markdown",
   "id": "47243e7a",
   "metadata": {
    "editable": true
   },
   "source": [
    "$$\n",
    "\\vert \\psi_{i}\\rangle = \\vert\\phi_{1s}\\rangle_i\\otimes \\vert \\xi\\rangle_{s_im_{s_i}}=\\vert 1s,s,m_s\\rangle_i,\n",
    "$$"
   ]
  },
  {
   "cell_type": "markdown",
   "id": "e8580e31",
   "metadata": {
    "editable": true
   },
   "source": [
    "with $i$ being electron $1$ or $2$, and the tensor product of the two single-electron states as\n",
    "$\\vert 1s,s,m_s\\rangle_1\\vert 1s,s,m_s\\rangle_2=\\vert 1s,s,m_s\\rangle_1\\otimes \\vert 1s,s,m_s\\rangle_2$, we arrive at"
   ]
  },
  {
   "cell_type": "markdown",
   "id": "d8ed3a8e",
   "metadata": {
    "editable": true
   },
   "source": [
    "$$\n",
    "\\Psi(\\boldsymbol{r}_1,\\boldsymbol{r}_2;s_1,s_2)=\\frac{1}{\\sqrt{2}}\\left[\\vert 1s,1/2,1/2\\rangle_1\\vert 1s,1/2,-1/2\\rangle_2-\\vert 1s,1/2,-1/2\\rangle_1\\vert 1s,1/2,1/2\\rangle_2\\right].\n",
    "$$"
   ]
  },
  {
   "cell_type": "markdown",
   "id": "af81aa5a",
   "metadata": {
    "editable": true
   },
   "source": [
    "This is also an example of a state which cannot be written out as a pure state. We call this for an entangled state as well."
   ]
  },
  {
   "cell_type": "markdown",
   "id": "05ef40ea",
   "metadata": {
    "editable": true
   },
   "source": [
    "## Maximally entangled\n",
    "\n",
    "A so-called maximally entangled state for a bipartite system has equal  probability amplitudes"
   ]
  },
  {
   "cell_type": "markdown",
   "id": "7eaf1e25",
   "metadata": {
    "editable": true
   },
   "source": [
    "$$\n",
    "\\vert \\Psi \\rangle = \\frac{1}{\\sqrt{d}}\\sum_{i=0}^{d-1}\\vert ii\\rangle.\n",
    "$$"
   ]
  },
  {
   "cell_type": "markdown",
   "id": "51c511b5",
   "metadata": {
    "editable": true
   },
   "source": [
    "We call a bipartite state composed of systems $A$ and $B$ (these\n",
    "systems can be single-particle systems, or single-qubit systems\n",
    "representing low-lying states of complicated many-body systems) for\n",
    "separable if its density matrix $\\rho_{AB}$ can be written out as the\n",
    "tensor product of the individual density matrices $\\rho_A$ and\n",
    "$\\rho_B$, that is we have for a given probability distribution $p_i$"
   ]
  },
  {
   "cell_type": "markdown",
   "id": "47bee967",
   "metadata": {
    "editable": true
   },
   "source": [
    "$$\n",
    "\\rho_{AB}=\\sum_ip_i\\rho_A(i)\\otimes \\rho_B(i).\n",
    "$$"
   ]
  },
  {
   "cell_type": "markdown",
   "id": "319bd003",
   "metadata": {
    "editable": true
   },
   "source": [
    "## Additional material on time evolution, mathematical background\n",
    "\n",
    "The time-dependent Schrödinger equation (or equation of motion) reads"
   ]
  },
  {
   "cell_type": "markdown",
   "id": "45744f1d",
   "metadata": {
    "editable": true
   },
   "source": [
    "$$\n",
    "\\imath \\hbar\\frac{\\partial }{\\partial t}|\\Psi_S(t)\\rangle = \\hat{H}\\Psi_S(t)\\rangle,\n",
    "$$"
   ]
  },
  {
   "cell_type": "markdown",
   "id": "f2c8a7fe",
   "metadata": {
    "editable": true
   },
   "source": [
    "where the subscript $S$ stands for Schrödinger here.\n",
    "A formal solution is given by"
   ]
  },
  {
   "cell_type": "markdown",
   "id": "b73972f1",
   "metadata": {
    "editable": true
   },
   "source": [
    "$$\n",
    "|\\Psi_S(t)\\rangle = \\exp{(-\\imath\\hat{H}(t-t_0)/\\hbar)}|\\Psi_S(t_0)\\rangle.\n",
    "$$"
   ]
  },
  {
   "cell_type": "markdown",
   "id": "ec3184a6",
   "metadata": {
    "editable": true
   },
   "source": [
    "## Unitary transformation\n",
    "\n",
    "The Hamiltonian $\\hat{H}$ is hermitian and the exponent represents a unitary \n",
    "operator with an operation carried out on the wave function at a time $t_0$.\n",
    "\n",
    "The exponential term $\\exp{(-\\imath\\hat{H}(t-t_0)/\\hbar)}$ is our\n",
    "unitary transformation $U(t,t_0)$ and we have"
   ]
  },
  {
   "cell_type": "markdown",
   "id": "dbe03494",
   "metadata": {
    "editable": true
   },
   "source": [
    "$$\n",
    "|\\Psi_S(t)\\rangle = \\exp{(-\\imath\\hat{H}(t-t_0)/\\hbar)}|\\Psi_S(t_0)\\rangle=U(t,t_0)|\\Psi_S(t_0)\\rangle.\n",
    "$$"
   ]
  },
  {
   "cell_type": "markdown",
   "id": "6ba943fd",
   "metadata": {
    "editable": true
   },
   "source": [
    "## Interaction picture\n",
    "\n",
    "Our Hamiltonian is normally written out as the sum of an unperturbed part $\\hat{H}_0$ and an interaction part $\\hat{H}_I$, that is"
   ]
  },
  {
   "cell_type": "markdown",
   "id": "0eb48b7b",
   "metadata": {
    "editable": true
   },
   "source": [
    "$$\n",
    "\\hat{H}=\\hat{H}_0+\\hat{H}_I.\n",
    "$$"
   ]
  },
  {
   "cell_type": "markdown",
   "id": "443a2570",
   "metadata": {
    "editable": true
   },
   "source": [
    "In general we have $[\\hat{H}_0,\\hat{H}_I]\\ne 0$ since $[\\hat{T},\\hat{V}]\\ne 0$.\n",
    "We wish now to define a unitary transformation in terms of $\\hat{H}_0$ by defining"
   ]
  },
  {
   "cell_type": "markdown",
   "id": "8ab8109d",
   "metadata": {
    "editable": true
   },
   "source": [
    "$$\n",
    "|\\Psi_I(t)\\rangle = \\exp{(\\imath\\hat{H}_0t/\\hbar)}|\\Psi_S(t)\\rangle,\n",
    "$$"
   ]
  },
  {
   "cell_type": "markdown",
   "id": "151fffab",
   "metadata": {
    "editable": true
   },
   "source": [
    "which is again a unitary transformation carried out now at the time $t$ on the \n",
    "wave function in the Schrödinger picture."
   ]
  },
  {
   "cell_type": "markdown",
   "id": "5c83557a",
   "metadata": {
    "editable": true
   },
   "source": [
    "## Taking the derivative wrt time\n",
    "\n",
    "We can easily find the equation of motion by taking the time derivative"
   ]
  },
  {
   "cell_type": "markdown",
   "id": "77259d81",
   "metadata": {
    "editable": true
   },
   "source": [
    "$$\n",
    "\\imath \\hbar\\frac{\\partial }{\\partial t}|\\Psi_I(t)\\rangle = -\\hat{H}_0\\exp{(\\imath\\hat{H}_0t/\\hbar)}\\Psi_S(t)\\rangle+\\exp{(\\imath\\hat{H}_0t/\\hbar)}\n",
    "\\imath \\hbar\\frac{\\partial }{\\partial t}\\Psi_S(t)\\rangle.\n",
    "$$"
   ]
  },
  {
   "cell_type": "markdown",
   "id": "3bdee67f",
   "metadata": {
    "editable": true
   },
   "source": [
    "## Expression using the interaction picture\n",
    "\n",
    "Using the definition of the Schrödinger equation, we can rewrite the last equation as"
   ]
  },
  {
   "cell_type": "markdown",
   "id": "7a402c5a",
   "metadata": {
    "editable": true
   },
   "source": [
    "$$\n",
    "\\imath \\hbar\\frac{\\partial }{\\partial t}|\\Psi_I(t)\\rangle = \\exp{(\\imath\\hat{H}_0t/\\hbar)}\\left[-\\hat{H}_0+\\hat{H}_0+\\hat{H}_I\\right]\\exp{(-\\imath\\hat{H}_0t/\\hbar)}\\Psi_I(t)\\rangle,\n",
    "$$"
   ]
  },
  {
   "cell_type": "markdown",
   "id": "ac17d9e5",
   "metadata": {
    "editable": true
   },
   "source": [
    "which gives us"
   ]
  },
  {
   "cell_type": "markdown",
   "id": "3fb298ac",
   "metadata": {
    "editable": true
   },
   "source": [
    "$$\n",
    "\\imath \\hbar\\frac{\\partial }{\\partial t}|\\Psi_I(t)\\rangle = \\hat{H}_I(t)\\Psi_I(t)\\rangle,\n",
    "$$"
   ]
  },
  {
   "cell_type": "markdown",
   "id": "8a0ff767",
   "metadata": {
    "editable": true
   },
   "source": [
    "with"
   ]
  },
  {
   "cell_type": "markdown",
   "id": "2eed681c",
   "metadata": {
    "editable": true
   },
   "source": [
    "$$\n",
    "\\hat{H}_I(t)=\n",
    "\\exp{(\\imath\\hat{H}_0t/\\hbar)}\\hat{H}_I\\exp{(-\\imath\\hat{H}_0t/\\hbar)}.\n",
    "$$"
   ]
  },
  {
   "cell_type": "markdown",
   "id": "c229ac2c",
   "metadata": {
    "editable": true
   },
   "source": [
    "## Expectation value\n",
    "\n",
    "The order of the operators is important since $\\hat{H}_0$ and $\\hat{H}_I$ do generally not commute.\n",
    "The expectation value of\n",
    "an arbitrary operator in the interaction picture can now be written as"
   ]
  },
  {
   "cell_type": "markdown",
   "id": "d2ecb773",
   "metadata": {
    "editable": true
   },
   "source": [
    "$$\n",
    "\\langle \\Psi'_S(t)|\\hat{O}_S|\\Psi_S(t)\\rangle = \n",
    "\\langle \\Psi'_I(t) |\\exp{(\\imath\\hat{H}_0t/\\hbar)}\\hat{O}_I\n",
    "\\exp{(-\\imath\\hat{H}_0t/\\hbar)}|\\Psi_I(t)\\rangle,\n",
    "$$"
   ]
  },
  {
   "cell_type": "markdown",
   "id": "b4e21233",
   "metadata": {
    "editable": true
   },
   "source": [
    "and using the definition"
   ]
  },
  {
   "cell_type": "markdown",
   "id": "5b9ee84a",
   "metadata": {
    "editable": true
   },
   "source": [
    "$$\n",
    "\\hat{O}_I(t)=\n",
    "\\exp{(\\imath\\hat{H}_0t/\\hbar)}\\hat{O}_I\\exp{(-\\imath\\hat{H}_0t/\\hbar)},\n",
    "$$"
   ]
  },
  {
   "cell_type": "markdown",
   "id": "82631a73",
   "metadata": {
    "editable": true
   },
   "source": [
    "we obtain"
   ]
  },
  {
   "cell_type": "markdown",
   "id": "984729ea",
   "metadata": {
    "editable": true
   },
   "source": [
    "$$\n",
    "\\langle \\Psi'_S(t)|\\hat{O}_S|\\Psi_S(t)\\rangle = \n",
    "\\langle \\Psi'_I(t) |\\hat{O}_I(t)|\\Psi_I(t)\\rangle,\n",
    "$$"
   ]
  },
  {
   "cell_type": "markdown",
   "id": "e842f1ef",
   "metadata": {
    "editable": true
   },
   "source": [
    "stating that a unitary transformation does not change expectation values!"
   ]
  },
  {
   "cell_type": "markdown",
   "id": "3cfa0470",
   "metadata": {
    "editable": true
   },
   "source": [
    "## Interaction picture and equation of motion\n",
    "\n",
    "If the take the time derivative of the operator in the interaction picture we arrive at the following equation of motion"
   ]
  },
  {
   "cell_type": "markdown",
   "id": "6268668a",
   "metadata": {
    "editable": true
   },
   "source": [
    "$$\n",
    "\\imath \\hbar\\frac{\\partial }{\\partial t}\\hat{O}_I(t) = \\exp{(\\imath\\hat{H}_0t/\\hbar)}\\left[\\hat{O}_S\\hat{H}_0-\\hat{H}_0\\hat{O}_S\\right]\\exp{(-\\imath\\hat{H}_0t/\\hbar)}=\\left[\\hat{O}_I(t),\\hat{H}_0\\right].\n",
    "$$"
   ]
  },
  {
   "cell_type": "markdown",
   "id": "ffdc1850",
   "metadata": {
    "editable": true
   },
   "source": [
    "Here we have used the time-independence of the Schrödinger equation\n",
    "together with the observation that any function of an operator commutes with the operator itself."
   ]
  },
  {
   "cell_type": "markdown",
   "id": "aa7031a6",
   "metadata": {
    "editable": true
   },
   "source": [
    "## Unitary operator\n",
    "\n",
    "In order to solve the equation of motion equation in the interaction picture, we define a unitary\n",
    "time-development operator $\\hat{U}(t,t')$. Later we will derive its\n",
    "connection with the linked-diagram theorem, which yields a\n",
    "linked expression for the actual operator. \n",
    "The action of the operator on the wave function is"
   ]
  },
  {
   "cell_type": "markdown",
   "id": "10b0ede3",
   "metadata": {
    "editable": true
   },
   "source": [
    "$$\n",
    "|\\Psi_I(t) \\rangle = \\hat{U}(t,t_0)|\\Psi_I(t_0)\\rangle,\n",
    "$$"
   ]
  },
  {
   "cell_type": "markdown",
   "id": "4e345d58",
   "metadata": {
    "editable": true
   },
   "source": [
    "with the obvious value $\\hat{U}(t_0,t_0)=1$."
   ]
  },
  {
   "cell_type": "markdown",
   "id": "e9c03c14",
   "metadata": {
    "editable": true
   },
   "source": [
    "## Time-development operator\n",
    "\n",
    "The time-development operator $U$ has the\n",
    "properties that"
   ]
  },
  {
   "cell_type": "markdown",
   "id": "ff288f39",
   "metadata": {
    "editable": true
   },
   "source": [
    "$$\n",
    "\\hat{U}^{\\dagger}(t,t')\\hat{U}(t,t')=\\hat{U}(t,t')\\hat{U}^{\\dagger}(t,t')=1,\n",
    "$$"
   ]
  },
  {
   "cell_type": "markdown",
   "id": "abd6cbb7",
   "metadata": {
    "editable": true
   },
   "source": [
    "which implies that $U$ is unitary"
   ]
  },
  {
   "cell_type": "markdown",
   "id": "4eb768c6",
   "metadata": {
    "editable": true
   },
   "source": [
    "$$\n",
    "\\hat{U}^{\\dagger}(t,t')=\\hat{U}^{-1}(t,t').\n",
    "$$"
   ]
  },
  {
   "cell_type": "markdown",
   "id": "99be58a2",
   "metadata": {
    "editable": true
   },
   "source": [
    "Further,"
   ]
  },
  {
   "cell_type": "markdown",
   "id": "8919efe3",
   "metadata": {
    "editable": true
   },
   "source": [
    "$$\n",
    "\\hat{U}(t,t')\\hat{U}(t't'')=\\hat{U}(t,t'')\n",
    "$$"
   ]
  },
  {
   "cell_type": "markdown",
   "id": "a5135365",
   "metadata": {
    "editable": true
   },
   "source": [
    "and"
   ]
  },
  {
   "cell_type": "markdown",
   "id": "b627b068",
   "metadata": {
    "editable": true
   },
   "source": [
    "$$\n",
    "\\hat{U}(t,t')\\hat{U}(t',t)=1,\n",
    "$$"
   ]
  },
  {
   "cell_type": "markdown",
   "id": "048fbb09",
   "metadata": {
    "editable": true
   },
   "source": [
    "which leads to"
   ]
  },
  {
   "cell_type": "markdown",
   "id": "7c63c2cc",
   "metadata": {
    "editable": true
   },
   "source": [
    "$$\n",
    "\\hat{U}(t,t')=\\hat{U}^{\\dagger}(t',t).\n",
    "$$"
   ]
  },
  {
   "cell_type": "markdown",
   "id": "134874e2",
   "metadata": {
    "editable": true
   },
   "source": [
    "## Properties of the operator $U$\n",
    "\n",
    "Using our definition of Schrödinger's equation in the interaction picture, we can then construct the operator $\\hat{U}$. We have defined"
   ]
  },
  {
   "cell_type": "markdown",
   "id": "f0bd2388",
   "metadata": {
    "editable": true
   },
   "source": [
    "$$\n",
    "|\\Psi_I(t)\\rangle = \\exp{(\\imath\\hat{H}_0t/\\hbar)}|\\Psi_S(t)\\rangle,\n",
    "$$"
   ]
  },
  {
   "cell_type": "markdown",
   "id": "0e6fdfc1",
   "metadata": {
    "editable": true
   },
   "source": [
    "which can be rewritten as"
   ]
  },
  {
   "cell_type": "markdown",
   "id": "9a94d01c",
   "metadata": {
    "editable": true
   },
   "source": [
    "$$\n",
    "|\\Psi_I(t)\\rangle = \\exp{(\\imath\\hat{H}_0t/\\hbar)}\\exp{(-\\imath\\hat{H}(t-t_0)/\\hbar)}|\\Psi_S(t_0)\\rangle,\n",
    "$$"
   ]
  },
  {
   "cell_type": "markdown",
   "id": "ebf8aae9",
   "metadata": {
    "editable": true
   },
   "source": [
    "or"
   ]
  },
  {
   "cell_type": "markdown",
   "id": "621cadbc",
   "metadata": {
    "editable": true
   },
   "source": [
    "$$\n",
    "|\\Psi_I(t)\\rangle = \\exp{(\\imath\\hat{H}_0t/\\hbar)}\\exp{(-\\imath\\hat{H}(t-t_0)/\\hbar)}\\exp{(-\\imath\\hat{H}_0t_0/\\hbar)}|\\Psi_I(t_0)\\rangle.\n",
    "$$"
   ]
  },
  {
   "cell_type": "markdown",
   "id": "6a2f3482",
   "metadata": {
    "editable": true
   },
   "source": [
    "## Interaction picture\n",
    "\n",
    "From the last expression we can define"
   ]
  },
  {
   "cell_type": "markdown",
   "id": "b4fffa6d",
   "metadata": {
    "editable": true
   },
   "source": [
    "$$\n",
    "\\hat{U}(t,t_0)=\\exp{(\\imath\\hat{H}_0t/\\hbar)}\\exp{(-\\imath\\hat{H}(t-t_0)/\\hbar)}\\exp{(-\\imath\\hat{H}_0t_0/\\hbar)}.\n",
    "$$"
   ]
  },
  {
   "cell_type": "markdown",
   "id": "2f5f8759",
   "metadata": {
    "editable": true
   },
   "source": [
    "It is then easy to convince oneself that the properties defined above are satisfied by the definition of $\\hat{U}$."
   ]
  },
  {
   "cell_type": "markdown",
   "id": "91bc78be",
   "metadata": {
    "editable": true
   },
   "source": [
    "## Equation of motion\n",
    "\n",
    "We derive the equation of motion for $\\hat{U}$ using the above definition.\n",
    "This results in"
   ]
  },
  {
   "cell_type": "markdown",
   "id": "4e91a5b3",
   "metadata": {
    "editable": true
   },
   "source": [
    "$$\n",
    "\\imath \\hbar\\frac{\\partial }{\\partial t}\\hat{U}(t,t_0) = \\hat{H}_I(t)\\hat{U}(t,t_0),\n",
    "$$"
   ]
  },
  {
   "cell_type": "markdown",
   "id": "4408052d",
   "metadata": {
    "editable": true
   },
   "source": [
    "which we integrate from $t_0$ to a time $t$ resulting in"
   ]
  },
  {
   "cell_type": "markdown",
   "id": "6d50e5cb",
   "metadata": {
    "editable": true
   },
   "source": [
    "$$\n",
    "\\hat{U}(t,t_0)-\\hat{U}(t_0,t_0)=\\hat{U}(t,t_0)-1=-\\frac{\\imath}{\\hbar}\\int_{t_0}^t dt' \\hat{H}_I(t')\\hat{U}(t',t_0),\n",
    "$$"
   ]
  },
  {
   "cell_type": "markdown",
   "id": "1fd13324",
   "metadata": {
    "editable": true
   },
   "source": [
    "which can be rewritten as"
   ]
  },
  {
   "cell_type": "markdown",
   "id": "4e4dd11a",
   "metadata": {
    "editable": true
   },
   "source": [
    "$$\n",
    "\\hat{U}(t,t_0)=1-\\frac{\\imath}{\\hbar}\\int_{t_0}^t dt' \\hat{H}_I(t')\\hat{U}(t',t_0).\n",
    "$$"
   ]
  },
  {
   "cell_type": "markdown",
   "id": "0e34129c",
   "metadata": {
    "editable": true
   },
   "source": [
    "## Time-ordering\n",
    "\n",
    "We can solve this equation iteratively keeping in mind the time-ordering of the operators"
   ]
  },
  {
   "cell_type": "markdown",
   "id": "84f71b9f",
   "metadata": {
    "editable": true
   },
   "source": [
    "$$\n",
    "\\hat{U}(t,t_0)=1-\\frac{\\imath}{\\hbar}\\int_{t_0}^t dt' \\hat{H}_I(t')+\\left(\\frac{-\\imath}{\\hbar}\\right)^2\\int_{t_0}^t dt'\\int_{t_0}^{t'} dt'' \\hat{H}_I(t')\\hat{H}_I(t'')+\\dots\n",
    "$$"
   ]
  },
  {
   "cell_type": "markdown",
   "id": "bb68fa58",
   "metadata": {
    "editable": true
   },
   "source": [
    "The third term can be written as"
   ]
  },
  {
   "cell_type": "markdown",
   "id": "ec8081b5",
   "metadata": {
    "editable": true
   },
   "source": [
    "$$\n",
    "\\int_{t_0}^t dt'\\int_{t_0}^{t'} dt'' \\hat{H}_I(t')\\hat{H}_I(t'')=\n",
    "\\frac{1}{2}\\int_{t_0}^t dt'\\int_{t_0}^{t'} dt'' \\hat{H}_I(t')\\hat{H}_I(t'')\n",
    "$$"
   ]
  },
  {
   "cell_type": "markdown",
   "id": "a1453a66",
   "metadata": {
    "editable": true
   },
   "source": [
    "$$\n",
    "+\\frac{1}{2}\\int_{t_0}^t dt''\\int_{t''}^{t} dt' \\hat{H}_I(t')\\hat{H}_I(t'').\n",
    "$$"
   ]
  },
  {
   "cell_type": "markdown",
   "id": "0479f424",
   "metadata": {
    "editable": true
   },
   "source": [
    "## Changing order of integrations\n",
    "\n",
    "We obtain this expression by changing the integration order in the second term\n",
    "via a change of the integration variables $t'$ and $t''$  in"
   ]
  },
  {
   "cell_type": "markdown",
   "id": "140e8cc7",
   "metadata": {
    "editable": true
   },
   "source": [
    "$$\n",
    "\\frac{1}{2}\\int_{t_0}^t dt'\\int_{t_0}^{t'} dt'' \\hat{H}_I(t')\\hat{H}_I(t'').\n",
    "$$"
   ]
  },
  {
   "cell_type": "markdown",
   "id": "844bbf22",
   "metadata": {
    "editable": true
   },
   "source": [
    "We can rewrite the terms which contain the double integral as"
   ]
  },
  {
   "cell_type": "markdown",
   "id": "13654abf",
   "metadata": {
    "editable": true
   },
   "source": [
    "$$\n",
    "\\int_{t_0}^t dt'\\int_{t_0}^{t'} dt'' \\hat{H}_I(t')\\hat{H}_I(t'')=\n",
    "$$"
   ]
  },
  {
   "cell_type": "markdown",
   "id": "8918bef4",
   "metadata": {
    "editable": true
   },
   "source": [
    "$$\n",
    "\\frac{1}{2}\\int_{t_0}^t dt'\\int_{t_0}^{t'} dt''\\left[\\hat{H}_I(t')\\hat{H}_I(t'')\\Theta(t'-t'')\n",
    "+\\hat{H}_I(t')\\hat{H}_I(t'')\\Theta(t''-t')\\right],\n",
    "$$"
   ]
  },
  {
   "cell_type": "markdown",
   "id": "ded79e2c",
   "metadata": {
    "editable": true
   },
   "source": [
    "with $\\Theta(t''-t')$ being the standard Heavyside or step function. The step function allows us to give a specific time-ordering to the above expression."
   ]
  },
  {
   "cell_type": "markdown",
   "id": "c0c9328e",
   "metadata": {
    "editable": true
   },
   "source": [
    "## Time-ordering operator\n",
    "\n",
    "With the $\\Theta$-function we can rewrite the last expression as"
   ]
  },
  {
   "cell_type": "markdown",
   "id": "b71db024",
   "metadata": {
    "editable": true
   },
   "source": [
    "$$\n",
    "\\int_{t_0}^t dt'\\int_{t_0}^{t'} dt'' \\hat{H}_I(t')\\hat{H}_I(t'')=\n",
    "\\frac{1}{2}\\int_{t_0}^t dt'\\int_{t_0}^{t'} dt''\\hat{T}\\left[\\hat{H}_I(t')\\hat{H}_I(t'')\\right],\n",
    "$$"
   ]
  },
  {
   "cell_type": "markdown",
   "id": "aab05e90",
   "metadata": {
    "editable": true
   },
   "source": [
    "where $\\Hat{T}$ is the so-called time-ordering operator."
   ]
  },
  {
   "cell_type": "markdown",
   "id": "7e932366",
   "metadata": {
    "editable": true
   },
   "source": [
    "## Final expression for $U$\n",
    "\n",
    "With this definition, we can rewrite the expression for $\\hat{U}$ as"
   ]
  },
  {
   "cell_type": "markdown",
   "id": "85d0c40b",
   "metadata": {
    "editable": true
   },
   "source": [
    "$$\n",
    "\\hat{U}(t,t_0)=\\sum_{n=0}^{\\infty}\\left(\\frac{-\\imath}{\\hbar}\\right)^n\\frac{1}{n!}\n",
    "\\int_{t_0}^t dt_1\\dots \\int_{t_0}^t dt_N \\hat{T}\\left[\\hat{H}_I(t_1)\\dots\\hat{H}_I(t_n)\\right]=\n",
    "$$"
   ]
  },
  {
   "cell_type": "markdown",
   "id": "bbc4ebf2",
   "metadata": {
    "editable": true
   },
   "source": [
    "$$\n",
    "\\hat{T}\\exp{\\left[\\frac{-\\imath}{\\hbar}\n",
    "\\int_{t_0}^t dt' \\hat{H}_I(t')\\right]}.\n",
    "$$"
   ]
  },
  {
   "cell_type": "markdown",
   "id": "bbdadf2f",
   "metadata": {
    "editable": true
   },
   "source": [
    "## Heisenberg  picture as alternative\n",
    "\n",
    "We wish now to define a unitary transformation in terms of $\\hat{H}$ by defining"
   ]
  },
  {
   "cell_type": "markdown",
   "id": "f4ba982b",
   "metadata": {
    "editable": true
   },
   "source": [
    "$$\n",
    "|\\Psi_H(t)\\rangle = \\exp{(\\imath\\hat{H}t/\\hbar)}|\\Psi_S(t)\\rangle,\n",
    "$$"
   ]
  },
  {
   "cell_type": "markdown",
   "id": "c9313a60",
   "metadata": {
    "editable": true
   },
   "source": [
    "which is again a unitary transformation carried out now at the time $t$ on the \n",
    "wave function in the Schrödinger picture. If we combine this equation with \n",
    "Schrödinger's equation we obtain the following equation of motion"
   ]
  },
  {
   "cell_type": "markdown",
   "id": "81df17de",
   "metadata": {
    "editable": true
   },
   "source": [
    "$$\n",
    "\\imath \\hbar\\frac{\\partial }{\\partial t}|\\Psi_H(t)\\rangle = 0,\n",
    "$$"
   ]
  },
  {
   "cell_type": "markdown",
   "id": "04d74a6d",
   "metadata": {
    "editable": true
   },
   "source": [
    "meaning that $|\\Psi_H(t)\\rangle$ is time independent. An operator in this picture is defined as"
   ]
  },
  {
   "cell_type": "markdown",
   "id": "e0cafe39",
   "metadata": {
    "editable": true
   },
   "source": [
    "$$\n",
    "\\hat{O}_H(t)=\n",
    "\\exp{(\\imath\\hat{H}t/\\hbar)}\\hat{O}_S\\exp{(-\\imath\\hat{H}t/\\hbar)}.\n",
    "$$"
   ]
  },
  {
   "cell_type": "markdown",
   "id": "a47cc28a",
   "metadata": {
    "editable": true
   },
   "source": [
    "## New equation of motion\n",
    "\n",
    "The time dependence is then in the operator itself, and this yields in turn the\n",
    "following equation of motion"
   ]
  },
  {
   "cell_type": "markdown",
   "id": "5d95f203",
   "metadata": {
    "editable": true
   },
   "source": [
    "$$\n",
    "\\imath \\hbar\\frac{\\partial }{\\partial t}\\hat{O}_H(t) = \\exp{(\\imath\\hat{H}t/\\hbar)}\\left[\\hat{O}_H\\hat{H}-\\hat{H}\\hat{O}_H\\right]\\exp{(-\\imath\\hat{H}t/\\hbar)}=\\left[\\hat{O}_H(t),\\hat{H}\\right].\n",
    "$$"
   ]
  },
  {
   "cell_type": "markdown",
   "id": "8e8262ee",
   "metadata": {
    "editable": true
   },
   "source": [
    "We note that an operator in the Heisenberg picture can be related to the corresponding\n",
    "operator in the interaction picture as"
   ]
  },
  {
   "cell_type": "markdown",
   "id": "187863b0",
   "metadata": {
    "editable": true
   },
   "source": [
    "$$\n",
    "\\hat{O}_H(t)=\n",
    "\\exp{(\\imath\\hat{H}t/\\hbar)}\\hat{O}_S\\exp{(-\\imath\\hat{H}t/\\hbar)}=\n",
    "$$"
   ]
  },
  {
   "cell_type": "markdown",
   "id": "d54033d6",
   "metadata": {
    "editable": true
   },
   "source": [
    "$$\n",
    "\\exp{(\\imath\\hat{H}_It/\\hbar)}\\exp{(-\\imath\\hat{H}_0t/\\hbar)}\\hat{O}_I\\exp{(\\imath\\hat{H}_0t/\\hbar)}\\exp{(-\\imath\\hat{H}_It/\\hbar)}.\n",
    "$$"
   ]
  },
  {
   "cell_type": "markdown",
   "id": "29a9a994",
   "metadata": {
    "editable": true
   },
   "source": [
    "## Unitary transformations again\n",
    "\n",
    "With our definition of the time evolution operator we see that"
   ]
  },
  {
   "cell_type": "markdown",
   "id": "595b24ea",
   "metadata": {
    "editable": true
   },
   "source": [
    "$$\n",
    "\\hat{O}_H(t)=\\hat{U}(0,t)\\hat{O}_I\\hat{U}(t,0),\n",
    "$$"
   ]
  },
  {
   "cell_type": "markdown",
   "id": "acb426a3",
   "metadata": {
    "editable": true
   },
   "source": [
    "which in turn implies that $\\hat{O}_S=\\hat{O}_I(0)=\\hat{O}_H(0)$, all operators are equal at $t=0$. The wave function in the Heisenberg formalism is \n",
    "related to the other pictures as"
   ]
  },
  {
   "cell_type": "markdown",
   "id": "b5f78680",
   "metadata": {
    "editable": true
   },
   "source": [
    "$$\n",
    "|\\Psi_H\\rangle=|\\Psi_S(0)\\rangle=|\\Psi_I(0)\\rangle,\n",
    "$$"
   ]
  },
  {
   "cell_type": "markdown",
   "id": "1e2734c1",
   "metadata": {
    "editable": true
   },
   "source": [
    "since the wave function in the Heisenberg picture is time independent. \n",
    "We can relate this wave function to that a given time $t$ via the time evolution operator as"
   ]
  },
  {
   "cell_type": "markdown",
   "id": "1dbe2c00",
   "metadata": {
    "editable": true
   },
   "source": [
    "$$\n",
    "|\\Psi_H\\rangle=\\hat{U}(0,t)|\\Psi_I(t)\\rangle.\n",
    "$$"
   ]
  },
  {
   "cell_type": "markdown",
   "id": "c5229103",
   "metadata": {
    "editable": true
   },
   "source": [
    "## Adiabatic switching\n",
    "\n",
    "We assume that the interaction term is switched on gradually. Our wave function at time $t=-\\infty$ and $t=\\infty$ is supposed to represent a non-interacting system\n",
    "given by the solution to the unperturbed part of our Hamiltonian $\\hat{H}_0$.\n",
    "We assume the ground state is given by $|\\Phi_0\\rangle$, which could be a Slater determinant.\n",
    "We define our Hamiltonian as"
   ]
  },
  {
   "cell_type": "markdown",
   "id": "609c18d5",
   "metadata": {
    "editable": true
   },
   "source": [
    "$$\n",
    "\\hat{H}=\\hat{H}_0+\\exp{(-\\varepsilon t/\\hbar)}\\hat{H}_I,\n",
    "$$"
   ]
  },
  {
   "cell_type": "markdown",
   "id": "9e482968",
   "metadata": {
    "editable": true
   },
   "source": [
    "where $\\varepsilon$ is a small number. The way we write the Hamiltonian \n",
    "and its interaction term is meant to simulate the switching of the interaction."
   ]
  },
  {
   "cell_type": "markdown",
   "id": "68ef4df8",
   "metadata": {
    "editable": true
   },
   "source": [
    "## Time evolution\n",
    "\n",
    "The time evolution of the wave function in the interaction picture is then"
   ]
  },
  {
   "cell_type": "markdown",
   "id": "57ee760d",
   "metadata": {
    "editable": true
   },
   "source": [
    "$$\n",
    "|\\Psi_I(t) \\rangle = \\hat{U}_{\\varepsilon}(t,t_0)|\\Psi_I(t_0)\\rangle,\n",
    "$$"
   ]
  },
  {
   "cell_type": "markdown",
   "id": "facc82ae",
   "metadata": {
    "editable": true
   },
   "source": [
    "with"
   ]
  },
  {
   "cell_type": "markdown",
   "id": "600d433c",
   "metadata": {
    "editable": true
   },
   "source": [
    "$$\n",
    "\\hat{U}_{\\varepsilon}(t,t_0)=\\sum_{n=0}^{\\infty}\\left(\\frac{-\\imath}{\\hbar}\\right)^n\\frac{1}{n!}\n",
    "\\int_{t_0}^t dt_1\\dots \\int_{t_0}^t dt_N\n",
    "$$"
   ]
  },
  {
   "cell_type": "markdown",
   "id": "d86ce66c",
   "metadata": {
    "editable": true
   },
   "source": [
    "$$\n",
    "\\times \\exp{(-\\varepsilon(t_1+\\dots+t_n)/\\hbar)}\\hat{T}\\left[\\hat{H}_I(t_1)\\dots\\hat{H}_I(t_n)\\right]\n",
    "$$"
   ]
  },
  {
   "cell_type": "markdown",
   "id": "facac97d",
   "metadata": {
    "editable": true
   },
   "source": [
    "## Initial state preparation\n",
    "\n",
    "In the limit $t_0\\rightarrow -\\infty$, the solution ot Schrödinger's equation is\n",
    "$|\\Phi_0\\rangle$, and the eigenenergies are given by"
   ]
  },
  {
   "cell_type": "markdown",
   "id": "085494ba",
   "metadata": {
    "editable": true
   },
   "source": [
    "$$\n",
    "\\hat{H}_0|\\Phi_0\\rangle=W_0|\\Phi_0\\rangle,\n",
    "$$"
   ]
  },
  {
   "cell_type": "markdown",
   "id": "87d9b716",
   "metadata": {
    "editable": true
   },
   "source": [
    "meaning that"
   ]
  },
  {
   "cell_type": "markdown",
   "id": "e8199190",
   "metadata": {
    "editable": true
   },
   "source": [
    "$$\n",
    "|\\Psi_S(t_0)\\rangle = \\exp{(-\\imath W_0t_0/\\hbar)}|\\Phi_0\\rangle,\n",
    "$$"
   ]
  },
  {
   "cell_type": "markdown",
   "id": "96697e71",
   "metadata": {
    "editable": true
   },
   "source": [
    "with the corresponding interaction picture wave function given by"
   ]
  },
  {
   "cell_type": "markdown",
   "id": "66164f16",
   "metadata": {
    "editable": true
   },
   "source": [
    "$$\n",
    "|\\Psi_I(t_0)\\rangle = \\exp{(\\imath \\hat{H}_0t_0/\\hbar)}|\\Psi_S(t_0)\\rangle=|\\Phi_0\\rangle.\n",
    "$$"
   ]
  },
  {
   "cell_type": "markdown",
   "id": "e30e17b5",
   "metadata": {
    "editable": true
   },
   "source": [
    "## Final expression\n",
    "\n",
    "The solution becomes time independent in the limit $t_0\\rightarrow -\\infty$.\n",
    "The same conclusion can be reached by looking at"
   ]
  },
  {
   "cell_type": "markdown",
   "id": "5e96d7e4",
   "metadata": {
    "editable": true
   },
   "source": [
    "$$\n",
    "\\imath \\hbar\\frac{\\partial }{\\partial t}|\\Psi_I(t)\\rangle =\n",
    "\\exp{(\\varepsilon |t|/\\hbar)}\\hat{H}_I|\\Psi_I(t)\\rangle\n",
    "$$"
   ]
  },
  {
   "cell_type": "markdown",
   "id": "a10dfb02",
   "metadata": {
    "editable": true
   },
   "source": [
    "and taking the limit $t\\rightarrow -\\infty$.\n",
    "We can rewrite the equation for the wave function at a time $t=0$ as"
   ]
  },
  {
   "cell_type": "markdown",
   "id": "cd7341a9",
   "metadata": {
    "editable": true
   },
   "source": [
    "$$\n",
    "|\\Psi_I(0) \\rangle = \\hat{U}_{\\varepsilon}(0,-\\infty)|\\Phi_0\\rangle.\n",
    "$$"
   ]
  }
 ],
 "metadata": {},
 "nbformat": 4,
 "nbformat_minor": 5
}
