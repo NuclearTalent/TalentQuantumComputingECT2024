{
 "cells": [
  {
   "cell_type": "markdown",
   "id": "b51d9a75",
   "metadata": {
    "editable": true
   },
   "source": [
    "<!-- HTML file automatically generated from DocOnce source (https://github.com/doconce/doconce/)\n",
    "doconce format html Secondlecture.do.txt  -->\n",
    "<!-- dom:TITLE: Qubits, density matrices, and entanglement -->"
   ]
  },
  {
   "cell_type": "markdown",
   "id": "a7407c17",
   "metadata": {
    "editable": true
   },
   "source": [
    "# Qubits, density matrices, and entanglement\n",
    "**Nuclear TALENT course on quantum computing**\n",
    "\n",
    "Date: **Monday June 16, 2025**"
   ]
  },
  {
   "cell_type": "markdown",
   "id": "c21e248a",
   "metadata": {
    "editable": true
   },
   "source": [
    "## Bloch sphere\n",
    "\n",
    "Classically, in a binary system, the bits take only two distinct\n",
    "values, either $0$ or $1$.  The quantum mechanical counterpart is\n",
    "given by two state vectors (our simple computational basis)\n",
    "$\\vert 0 \\rangle$ and $\\vert 1\\rangle $ which can be used to realize the\n",
    "superposition"
   ]
  },
  {
   "cell_type": "markdown",
   "id": "08db8035",
   "metadata": {
    "editable": true
   },
   "source": [
    "$$\n",
    "\\vert \\psi \\rangle = \\alpha \\vert 0 \\rangle +\\beta\\vert 1\\rangle,\n",
    "$$"
   ]
  },
  {
   "cell_type": "markdown",
   "id": "bc16c2ae",
   "metadata": {
    "editable": true
   },
   "source": [
    "which can be represented using the so-called Bloch sphere, depicted on the next slide (best seen using the jupyter-notebook)."
   ]
  },
  {
   "cell_type": "markdown",
   "id": "f4d8a6bc",
   "metadata": {
    "editable": true
   },
   "source": [
    "## Meet the Bloch sphere\n",
    "\n",
    "The Bloch shere gives a vialable way to visualize a qubit and its\n",
    "possible realizations in terms of the angles $0\\le \\theta \\le \\pi$ and\n",
    "$0\\le \\phi \\le 2\\pi$.\n",
    "\n",
    "Using the Bloch sphere representation of the qubit $\\vert \\psi \\rangle\n",
    "= \\alpha \\vert 0 \\rangle +\\beta\\vert 1\\rangle$, we can rewrite it as"
   ]
  },
  {
   "cell_type": "markdown",
   "id": "d97d36e1",
   "metadata": {
    "editable": true
   },
   "source": [
    "$$\n",
    "\\vert \\psi \\rangle = \\cos{(\\frac{\\theta}{2})} \\vert 0 \\rangle +\\sin{(\\frac{\\theta}{2})}\\exp{(\\imath\\phi)}\\vert 1\\rangle,\n",
    "$$"
   ]
  },
  {
   "cell_type": "markdown",
   "id": "88932fb1",
   "metadata": {
    "editable": true
   },
   "source": [
    "## Bloch sphere exercise\n",
    "\n",
    "Determine the Bloch sphere angles $\\theta$ and $\\phi$ for the eigenstates of each Pauli matrix."
   ]
  },
  {
   "cell_type": "markdown",
   "id": "c9878d4a",
   "metadata": {
    "editable": true
   },
   "source": [
    "## Measurements\n",
    "\n",
    "Armed with the spectral decomposition from the first lecture, we are now ready to discuss how\n",
    "to compute measurements of observables.  When we make a measurement,\n",
    "quantum mechanics postulates that mutually exclusive measurement\n",
    "outcomes correspond to orthogonal projection operators.\n",
    "\n",
    "We assume now we can contruct a series of such orthogonal operators based on $\\vert i \\rangle \\in \\{\\vert 0\\rangle, \\vert 1\\rangle,\\dots, \\vert n-1\\rangle$ computational basis states. These projection operators $\\boldsymbol{P}_0,\\boldsymbol{P}_1,\\dots,\\boldsymbol{P}_{n-1}$ are all idempotent and sum to one"
   ]
  },
  {
   "cell_type": "markdown",
   "id": "08d1c272",
   "metadata": {
    "editable": true
   },
   "source": [
    "$$\n",
    "\\sum_{i=0}^{n-1}\\boldsymbol{P}_i=\\boldsymbol{I}.\n",
    "$$"
   ]
  },
  {
   "cell_type": "markdown",
   "id": "cf6dad31",
   "metadata": {
    "editable": true
   },
   "source": [
    "## Qubit example\n",
    "\n",
    "As an example, consider the basis of two qubits $\\vert 0\\rangle$ and $\\vert 1\\rangle$ with the corresponding sum"
   ]
  },
  {
   "cell_type": "markdown",
   "id": "b8864cc7",
   "metadata": {
    "editable": true
   },
   "source": [
    "$$\n",
    "\\sum_{i=0}^{1}\\boldsymbol{P}_i=\\begin{bmatrix} 1 & 0 \\\\ 0 & 1\\end{bmatrix}.\n",
    "$$"
   ]
  },
  {
   "cell_type": "markdown",
   "id": "bf3173c8",
   "metadata": {
    "editable": true
   },
   "source": [
    "Based on the spectral decomposition discussed above, we can define the probability of eigenvalue $\\lambda_i$ as"
   ]
  },
  {
   "cell_type": "markdown",
   "id": "d7deeb0f",
   "metadata": {
    "editable": true
   },
   "source": [
    "$$\n",
    "\\mathrm{Prob}(\\lambda_i) = \\vert \\boldsymbol{P}_i\\vert \\psi\\rangle\\vert^2,\n",
    "$$"
   ]
  },
  {
   "cell_type": "markdown",
   "id": "feea2c20",
   "metadata": {
    "editable": true
   },
   "source": [
    "where $\\vert \\psi_a\\rangle$ is a quantum state representing the system prior to a specific measurement."
   ]
  },
  {
   "cell_type": "markdown",
   "id": "ad4ccd9e",
   "metadata": {
    "editable": true
   },
   "source": [
    "## Total probability\n",
    "\n",
    "We can rewrite this as"
   ]
  },
  {
   "cell_type": "markdown",
   "id": "6e062f14",
   "metadata": {
    "editable": true
   },
   "source": [
    "$$\n",
    "\\mathrm{Prob}(\\lambda_i) = \\langle \\psi\\vert \\boldsymbol{P}_i^{\\dagger}\\boldsymbol{P}_i\\vert \\psi\\rangle =\\langle \\psi\\vert \\boldsymbol{P}_i\\vert \\psi\\rangle.\n",
    "$$"
   ]
  },
  {
   "cell_type": "markdown",
   "id": "adfe63f0",
   "metadata": {
    "editable": true
   },
   "source": [
    "The total probability for all measurements is the sum overt all probabilities"
   ]
  },
  {
   "cell_type": "markdown",
   "id": "2e5c8d4a",
   "metadata": {
    "editable": true
   },
   "source": [
    "$$\n",
    "\\sum_{i=0}^{n-1}\\mathrm{Prob}(\\lambda_i)=1.\n",
    "$$"
   ]
  },
  {
   "cell_type": "markdown",
   "id": "a38551e8",
   "metadata": {
    "editable": true
   },
   "source": [
    "We can in turn define the post-measurement normalized pure quantum state as, for the specific outcome $\\lambda_i$, as"
   ]
  },
  {
   "cell_type": "markdown",
   "id": "11d02507",
   "metadata": {
    "editable": true
   },
   "source": [
    "$$\n",
    "\\vert \\psi'\\rangle = \\frac{\\boldsymbol{P}_i\\vert \\psi\\rangle}{\\sqrt{\\langle \\psi \\vert \\boldsymbol{P}_i\\vert \\psi\\rangle}}.\n",
    "$$"
   ]
  },
  {
   "cell_type": "markdown",
   "id": "f1c92233",
   "metadata": {
    "editable": true
   },
   "source": [
    "## Binary example system\n",
    "\n",
    "As an example, consider the binary system states $\\vert 0\\rangle$ and $\\vert 1\\rangle$ with corresponding projection operators"
   ]
  },
  {
   "cell_type": "markdown",
   "id": "c4d9277f",
   "metadata": {
    "editable": true
   },
   "source": [
    "$$\n",
    "\\boldsymbol{P}_0 =\\vert 0 \\rangle \\langle 0\\vert,\n",
    "$$"
   ]
  },
  {
   "cell_type": "markdown",
   "id": "dc21db7e",
   "metadata": {
    "editable": true
   },
   "source": [
    "and"
   ]
  },
  {
   "cell_type": "markdown",
   "id": "24ba71d8",
   "metadata": {
    "editable": true
   },
   "source": [
    "$$\n",
    "\\boldsymbol{P}_1 =\\vert 1 \\rangle \\langle 1\\vert,\n",
    "$$"
   ]
  },
  {
   "cell_type": "markdown",
   "id": "beb91dd6",
   "metadata": {
    "editable": true
   },
   "source": [
    "with the properties"
   ]
  },
  {
   "cell_type": "markdown",
   "id": "bc4ce306",
   "metadata": {
    "editable": true
   },
   "source": [
    "$$\n",
    "\\sum_{i=0}^1\\boldsymbol{P}_i^{\\dagger}\\boldsymbol{P}_1=\\boldsymbol{I},\n",
    "$$"
   ]
  },
  {
   "cell_type": "markdown",
   "id": "fcee9d0f",
   "metadata": {
    "editable": true
   },
   "source": [
    "$$\n",
    "\\boldsymbol{P}_0^{\\dagger}\\boldsymbol{P}_0=\\boldsymbol{P}_0^2=\\boldsymbol{P}_0,\n",
    "$$"
   ]
  },
  {
   "cell_type": "markdown",
   "id": "a6840821",
   "metadata": {
    "editable": true
   },
   "source": [
    "and"
   ]
  },
  {
   "cell_type": "markdown",
   "id": "1df7eefe",
   "metadata": {
    "editable": true
   },
   "source": [
    "$$\n",
    "\\boldsymbol{P}_1^{\\dagger}\\boldsymbol{P}_1=\\boldsymbol{P}_1^2=\\boldsymbol{P}_1.\n",
    "$$"
   ]
  },
  {
   "cell_type": "markdown",
   "id": "8468773d",
   "metadata": {
    "editable": true
   },
   "source": [
    "## Superposition of states\n",
    "\n",
    "Assume thereafter that we have a state $\\vert \\psi\\rangle$ which is a superposition of the above two qubit states"
   ]
  },
  {
   "cell_type": "markdown",
   "id": "891b4ae7",
   "metadata": {
    "editable": true
   },
   "source": [
    "$$\n",
    "\\vert \\psi \\rangle = \\alpha\\vert 0 \\rangle + \\beta \\vert 1\\rangle.\n",
    "$$"
   ]
  },
  {
   "cell_type": "markdown",
   "id": "44207caf",
   "metadata": {
    "editable": true
   },
   "source": [
    "The probability of finding either $\\vert 0\\rangle$ or $\\vert 1\\rangle$ is then"
   ]
  },
  {
   "cell_type": "markdown",
   "id": "967ae42a",
   "metadata": {
    "editable": true
   },
   "source": [
    "$$\n",
    "\\boldsymbol{P}_{\\psi(0)}=\\langle \\psi\\vert \\boldsymbol{P}_0^{\\dagger}\\boldsymbol{P}_0\\vert \\psi\\rangle=\\vert \\alpha\\vert^2,\n",
    "$$"
   ]
  },
  {
   "cell_type": "markdown",
   "id": "57f56b74",
   "metadata": {
    "editable": true
   },
   "source": [
    "and similarly we have"
   ]
  },
  {
   "cell_type": "markdown",
   "id": "491b083c",
   "metadata": {
    "editable": true
   },
   "source": [
    "$$\n",
    "\\boldsymbol{P}_{\\psi(1)}=\\langle \\psi\\vert \\boldsymbol{P}_1^{\\dagger}\\boldsymbol{P}_1\\vert \\psi\\rangle=\\vert \\beta\\vert^2.\n",
    "$$"
   ]
  },
  {
   "cell_type": "markdown",
   "id": "a9154589",
   "metadata": {
    "editable": true
   },
   "source": [
    "## More derivations\n",
    "\n",
    "If we set"
   ]
  },
  {
   "cell_type": "markdown",
   "id": "6c8651e0",
   "metadata": {
    "editable": true
   },
   "source": [
    "$$\n",
    "\\vert \\psi \\rangle = \\frac{1}{\\sqrt{2}}\\left(\\vert 0 \\rangle + \\vert 1\\rangle\\right),\n",
    "$$"
   ]
  },
  {
   "cell_type": "markdown",
   "id": "c4d14a57",
   "metadata": {
    "editable": true
   },
   "source": [
    "we have $\\vert \\alpha\\vert^2=\\vert \\beta\\vert^2=1/2$. In general for this system we have"
   ]
  },
  {
   "cell_type": "markdown",
   "id": "e4f0a22b",
   "metadata": {
    "editable": true
   },
   "source": [
    "$$\n",
    "\\vert \\psi'_0\\rangle = \\frac{\\boldsymbol{P}_0\\vert \\psi\\rangle}{\\sqrt{\\langle \\psi \\vert \\boldsymbol{P}_0\\vert \\psi\\rangle}}=\\frac{\\alpha}{\\vert \\alpha\\vert}\\vert 0 \\rangle,\n",
    "$$"
   ]
  },
  {
   "cell_type": "markdown",
   "id": "82c57b76",
   "metadata": {
    "editable": true
   },
   "source": [
    "and"
   ]
  },
  {
   "cell_type": "markdown",
   "id": "34537e62",
   "metadata": {
    "editable": true
   },
   "source": [
    "$$\n",
    "\\vert \\psi'_1\\rangle = \\frac{\\boldsymbol{P}_1\\vert \\psi\\rangle}{\\sqrt{\\langle \\psi \\vert \\boldsymbol{P}_1\\vert \\psi\\rangle}}=\\frac{\\beta}{\\vert \\beta\\vert}\\vert 1 \\rangle.\n",
    "$$"
   ]
  },
  {
   "cell_type": "markdown",
   "id": "0325ad06",
   "metadata": {
    "editable": true
   },
   "source": [
    "## Final result\n",
    "In general we have that"
   ]
  },
  {
   "cell_type": "markdown",
   "id": "9e695a54",
   "metadata": {
    "editable": true
   },
   "source": [
    "$$\n",
    "\\boldsymbol{P}_{\\psi(x)}=\\langle \\psi\\vert \\boldsymbol{P}_x^{\\dagger}\\boldsymbol{P}_x\\vert \\psi\\rangle,,\n",
    "$$"
   ]
  },
  {
   "cell_type": "markdown",
   "id": "7105c32a",
   "metadata": {
    "editable": true
   },
   "source": [
    "which we can rewrite as"
   ]
  },
  {
   "cell_type": "markdown",
   "id": "329fd71b",
   "metadata": {
    "editable": true
   },
   "source": [
    "$$\n",
    "\\mathrm{Prob}(\\psi(x))=\\mathrm{Tr}\\left[\\boldsymbol{P}_x^{\\dagger}\\boldsymbol{P}_x\\vert \\psi\\rangle\\langle \\psi\\vert\\right].\n",
    "$$"
   ]
  },
  {
   "cell_type": "markdown",
   "id": "857e8cf5",
   "metadata": {
    "editable": true
   },
   "source": [
    "## Example\n",
    "\n",
    "The last equation can be understood better through the following example with a state $\\vert \\psi\\rangle$"
   ]
  },
  {
   "cell_type": "markdown",
   "id": "6e6f4ca9",
   "metadata": {
    "editable": true
   },
   "source": [
    "$$\n",
    "\\vert \\psi \\rangle = \\alpha \\vert 0\\rangle+\\beta \\vert 1\\rangle,\n",
    "$$"
   ]
  },
  {
   "cell_type": "markdown",
   "id": "40a0e2df",
   "metadata": {
    "editable": true
   },
   "source": [
    "which results in a projection operator"
   ]
  },
  {
   "cell_type": "markdown",
   "id": "68065526",
   "metadata": {
    "editable": true
   },
   "source": [
    "$$\n",
    "\\vert \\psi \\rangle\\langle \\psi\\vert = \\begin{bmatrix} \\vert \\alpha \\vert^2 & \\alpha\\beta^* \\\\ \\alpha^*\\beta & \\vert\\beta\\vert^2\\end{bmatrix}.\n",
    "$$"
   ]
  },
  {
   "cell_type": "markdown",
   "id": "60d47df2",
   "metadata": {
    "editable": true
   },
   "source": [
    "## Computing matrix products\n",
    "We have that"
   ]
  },
  {
   "cell_type": "markdown",
   "id": "47098710",
   "metadata": {
    "editable": true
   },
   "source": [
    "$$\n",
    "\\boldsymbol{P}_0^{\\dagger}\\boldsymbol{P}_0=\\boldsymbol{P}_0=\\begin{bmatrix} 1 & 0 \\\\ 0 & 0\\end{bmatrix},\n",
    "$$"
   ]
  },
  {
   "cell_type": "markdown",
   "id": "f71f62dc",
   "metadata": {
    "editable": true
   },
   "source": [
    "and computing the matrix product $\\boldsymbol{P}_0\\vert\\psi\\rangle\\langle \\psi\\vert$ gives"
   ]
  },
  {
   "cell_type": "markdown",
   "id": "1b371ea5",
   "metadata": {
    "editable": true
   },
   "source": [
    "$$\n",
    "\\boldsymbol{P}_0\\vert\\psi\\rangle\\langle \\psi\\vert=\\begin{bmatrix} 1 & 0 \\\\ 0 & 0\\end{bmatrix}\\begin{bmatrix} \\vert \\alpha \\vert^2 & \\alpha\\beta^* \\\\ \\alpha^*\\beta & \\vert\\beta\\vert^2\\end{bmatrix}=\\begin{bmatrix} \\vert \\alpha \\vert^2 & \\alpha\\beta^* \\\\ 0 & 0\\end{bmatrix}.\n",
    "$$"
   ]
  },
  {
   "cell_type": "markdown",
   "id": "e32847e0",
   "metadata": {
    "editable": true
   },
   "source": [
    "## Taking the trace\n",
    "\n",
    "Taking the trace of the above matrix, that is computing"
   ]
  },
  {
   "cell_type": "markdown",
   "id": "e7434029",
   "metadata": {
    "editable": true
   },
   "source": [
    "$$\n",
    "\\mathrm{Prob}(\\psi(0))=\\mathrm{Tr}\\left[\\boldsymbol{P}_0^{\\dagger}\\boldsymbol{P}_0\\vert \\psi\\rangle\\langle \\psi\\vert\\right]=\\vert \\alpha\\vert^2,\n",
    "$$"
   ]
  },
  {
   "cell_type": "markdown",
   "id": "d6e8deea",
   "metadata": {
    "editable": true
   },
   "source": [
    "we obtain the same results as the one we had earlier by computing\n",
    "the probabliblity for $0$ given by the expression"
   ]
  },
  {
   "cell_type": "markdown",
   "id": "f2112c18",
   "metadata": {
    "editable": true
   },
   "source": [
    "$$\n",
    "\\boldsymbol{P}_{\\psi(0)}=\\langle \\psi\\vert \\boldsymbol{P}_0^{\\dagger}\\boldsymbol{P}_0\\vert \\psi\\rangle=\\vert \\alpha\\vert^2.\n",
    "$$"
   ]
  },
  {
   "cell_type": "markdown",
   "id": "af7ef04a",
   "metadata": {
    "editable": true
   },
   "source": [
    "## Outcome probability\n",
    "\n",
    "It is straight forward to show that"
   ]
  },
  {
   "cell_type": "markdown",
   "id": "7eed0478",
   "metadata": {
    "editable": true
   },
   "source": [
    "$$\n",
    "\\mathrm{Prob}(\\psi(1))=\\mathrm{Tr}\\left[\\boldsymbol{P}_1^{\\dagger}\\boldsymbol{P}_1\\vert \\psi\\rangle\\langle \\psi\\vert\\right]=\\vert \\beta\\vert^2,\n",
    "$$"
   ]
  },
  {
   "cell_type": "markdown",
   "id": "2c83e9ba",
   "metadata": {
    "editable": true
   },
   "source": [
    "which we also could have obtained by computing"
   ]
  },
  {
   "cell_type": "markdown",
   "id": "825bf33e",
   "metadata": {
    "editable": true
   },
   "source": [
    "$$\n",
    "\\boldsymbol{P}_{\\psi(1)}=\\langle \\psi\\vert \\boldsymbol{P}_1^{\\dagger}\\boldsymbol{P}_1\\vert \\psi\\rangle=\\vert \\beta\\vert^2.\n",
    "$$"
   ]
  },
  {
   "cell_type": "markdown",
   "id": "9b6114ed",
   "metadata": {
    "editable": true
   },
   "source": [
    "## Extending the expressions\n",
    "\n",
    "We can now extend these expressions to the complete ensemble of measurements. Using the spectral decomposition we have that the probability of an outcome $p(x)$ is"
   ]
  },
  {
   "cell_type": "markdown",
   "id": "d4aceacb",
   "metadata": {
    "editable": true
   },
   "source": [
    "$$\n",
    "p(x)=\\sum_{i=0}^{n-1}p_i\\boldsymbol{P}_{\\psi_i(x)},\n",
    "$$"
   ]
  },
  {
   "cell_type": "markdown",
   "id": "e8fac729",
   "metadata": {
    "editable": true
   },
   "source": [
    "where $p_i$ are the probabilities of a specific outcome. \n",
    "\n",
    "With these prerequisites we are now ready to introduce the density  matrices, or density operators."
   ]
  },
  {
   "cell_type": "markdown",
   "id": "7954f549",
   "metadata": {
    "editable": true
   },
   "source": [
    "## Density matrices/operators\n",
    "\n",
    "The last equation can be rewritten as"
   ]
  },
  {
   "cell_type": "markdown",
   "id": "cdf33a95",
   "metadata": {
    "editable": true
   },
   "source": [
    "$$\n",
    "p(x)=\\sum_{i=0}^{n-1}p_i\\boldsymbol{P}_{\\psi_i(x)}=\\sum_{i=0}^{n-1}p_i\\mathrm{Tr}\\left[\\boldsymbol{P}_x^{\\dagger}\\boldsymbol{P}_x\\vert \\psi_i\\rangle\\langle \\psi_i\\vert\\right],\n",
    "$$"
   ]
  },
  {
   "cell_type": "markdown",
   "id": "b51f9f42",
   "metadata": {
    "editable": true
   },
   "source": [
    "and we define the **density matrix/operator** as"
   ]
  },
  {
   "cell_type": "markdown",
   "id": "317f9e4a",
   "metadata": {
    "editable": true
   },
   "source": [
    "$$\n",
    "\\rho=\\sum_{i=0}^{n-1}p_i\\vert \\psi_i\\rangle\\langle \\psi_i\\vert,\n",
    "$$"
   ]
  },
  {
   "cell_type": "markdown",
   "id": "be07ae69",
   "metadata": {
    "editable": true
   },
   "source": [
    "we can rewrite the first equation above as"
   ]
  },
  {
   "cell_type": "markdown",
   "id": "b2b6c2c9",
   "metadata": {
    "editable": true
   },
   "source": [
    "$$\n",
    "p(x)=\\mathrm{Tr}\\left[\\boldsymbol{P}_x^{\\dagger}\\boldsymbol{P}_x\\rho\\right].\n",
    "$$"
   ]
  },
  {
   "cell_type": "markdown",
   "id": "1eb2aa48",
   "metadata": {
    "editable": true
   },
   "source": [
    "If we can define the state of a system in terms of the density matrix, the probability of a specific outcome is then given by"
   ]
  },
  {
   "cell_type": "markdown",
   "id": "63a5cbe9",
   "metadata": {
    "editable": true
   },
   "source": [
    "$$\n",
    "p(x)_{\\rho}=\\mathrm{Tr}\\left[\\boldsymbol{P}_x^{\\dagger}\\boldsymbol{P}_x\\rho\\right].\n",
    "$$"
   ]
  },
  {
   "cell_type": "markdown",
   "id": "109b1c4a",
   "metadata": {
    "editable": true
   },
   "source": [
    "## Properties of density matrices\n",
    "\n",
    "A density matrix in a Hilbert space with $n$ states has the following properties (which we state without proof)\n",
    "1. There exists a probability $p_i\\geq 0$ with $\\sum_ip_i=1$,\n",
    "\n",
    "2. There exists an orthonormal basis $\\psi_i$ such that we can define $\\rho=\\sum_ip_i\\vert\\psi_i\\rangle\\langle \\psi_i\\vert$,\n",
    "\n",
    "3. We have $0 \\leq \\rho^2\\leq 1$ and\n",
    "\n",
    "4. The norm $\\vert\\vert \\rho \\vert\\vert_2\\leq 1$.\n",
    "\n",
    "With the density matrix we can also define the state the system collapses to after a measurement, namely"
   ]
  },
  {
   "cell_type": "markdown",
   "id": "b53e63ef",
   "metadata": {
    "editable": true
   },
   "source": [
    "$$\n",
    "\\rho'_x=\\frac{\\boldsymbol{P}_x\\rho\\boldsymbol{P}_x^{\\dagger}}{\\mathrm{Tr}[\\boldsymbol{P}_x^{\\dagger}\\boldsymbol{P}_x\\rho]}.\n",
    "$$"
   ]
  },
  {
   "cell_type": "markdown",
   "id": "388ce269",
   "metadata": {
    "editable": true
   },
   "source": [
    "## First entanglement encounter, two qubit system\n",
    "\n",
    "We define a system that can be thought of as composed of two subsystems\n",
    "$A$ and $B$. Each subsystem has computational basis states"
   ]
  },
  {
   "cell_type": "markdown",
   "id": "c0145faa",
   "metadata": {
    "editable": true
   },
   "source": [
    "$$\n",
    "\\vert 0\\rangle_{\\mathrm{A,B}}=\\begin{bmatrix} 1 & 0\\end{bmatrix}^T \\hspace{1cm} \\vert 1\\rangle_{\\mathrm{A,B}}=\\begin{bmatrix} 0 & 1\\end{bmatrix}^T.\n",
    "$$"
   ]
  },
  {
   "cell_type": "markdown",
   "id": "0b313c55",
   "metadata": {
    "editable": true
   },
   "source": [
    "The subsystems could represent single particles or composite many-particle systems of a given symmetry."
   ]
  },
  {
   "cell_type": "markdown",
   "id": "7b62d618",
   "metadata": {
    "editable": true
   },
   "source": [
    "## Computational basis\n",
    "\n",
    "This leads to the many-body computational basis states"
   ]
  },
  {
   "cell_type": "markdown",
   "id": "49cc3cf5",
   "metadata": {
    "editable": true
   },
   "source": [
    "$$\n",
    "\\vert 00\\rangle = \\vert 0\\rangle_{\\mathrm{A}}\\otimes \\vert 0\\rangle_{\\mathrm{B}}=\\begin{bmatrix} 1 & 0 & 0 &0\\end{bmatrix}^T,\n",
    "$$"
   ]
  },
  {
   "cell_type": "markdown",
   "id": "b2d6c385",
   "metadata": {
    "editable": true
   },
   "source": [
    "and"
   ]
  },
  {
   "cell_type": "markdown",
   "id": "b28876a2",
   "metadata": {
    "editable": true
   },
   "source": [
    "$$\n",
    "\\vert 01\\rangle = \\vert 0\\rangle_{\\mathrm{A}}\\otimes \\vert 1\\rangle_{\\mathrm{B}}=\\begin{bmatrix} 0 & 1 & 0 &0\\end{bmatrix}^T,\n",
    "$$"
   ]
  },
  {
   "cell_type": "markdown",
   "id": "d8c375d6",
   "metadata": {
    "editable": true
   },
   "source": [
    "and"
   ]
  },
  {
   "cell_type": "markdown",
   "id": "ff05a91b",
   "metadata": {
    "editable": true
   },
   "source": [
    "$$\n",
    "\\vert 10\\rangle = \\vert 1\\rangle_{\\mathrm{A}}\\otimes \\vert 0\\rangle_{\\mathrm{B}}=\\begin{bmatrix} 0 & 0 & 1 &0\\end{bmatrix}^T,\n",
    "$$"
   ]
  },
  {
   "cell_type": "markdown",
   "id": "97afb615",
   "metadata": {
    "editable": true
   },
   "source": [
    "and finally"
   ]
  },
  {
   "cell_type": "markdown",
   "id": "67c2c799",
   "metadata": {
    "editable": true
   },
   "source": [
    "$$\n",
    "\\vert 11\\rangle = \\vert 1\\rangle_{\\mathrm{A}}\\otimes \\vert 1\\rangle_{\\mathrm{B}}=\\begin{bmatrix} 0 & 0 & 0 &1\\end{bmatrix}^T.\n",
    "$$"
   ]
  },
  {
   "cell_type": "markdown",
   "id": "f8f4c57c",
   "metadata": {
    "editable": true
   },
   "source": [
    "## Bell states\n",
    "\n",
    "The above computational basis states, which define an ONB, can in turn\n",
    "be used to define another ONB. As an example, consider the so-called\n",
    "Bell states"
   ]
  },
  {
   "cell_type": "markdown",
   "id": "72a9c268",
   "metadata": {
    "editable": true
   },
   "source": [
    "$$\n",
    "\\vert \\Phi^+\\rangle = \\frac{1}{\\sqrt{2}}\\left[\\vert 00\\rangle +\\vert 11\\rangle\\right]=\\frac{1}{\\sqrt{2}}\\begin{bmatrix} 1 \\\\ 0 \\\\ 0 \\\\ 1\\end{bmatrix},\n",
    "$$"
   ]
  },
  {
   "cell_type": "markdown",
   "id": "7ad1c2a7",
   "metadata": {
    "editable": true
   },
   "source": [
    "$$\n",
    "\\vert \\Phi^-\\rangle = \\frac{1}{\\sqrt{2}}\\left[\\vert 00\\rangle -\\vert 11\\rangle\\right]=\\frac{1}{\\sqrt{2}}\\begin{bmatrix} 1 \\\\ 0 \\\\ 0 \\\\ -1\\end{bmatrix},\n",
    "$$"
   ]
  },
  {
   "cell_type": "markdown",
   "id": "6c48213b",
   "metadata": {
    "editable": true
   },
   "source": [
    "## The next two"
   ]
  },
  {
   "cell_type": "markdown",
   "id": "d82ad715",
   "metadata": {
    "editable": true
   },
   "source": [
    "$$\n",
    "\\vert \\Psi^+\\rangle = \\frac{1}{\\sqrt{2}}\\left[\\vert 10\\rangle +\\vert 01\\rangle\\right]=\\frac{1}{\\sqrt{2}}\\begin{bmatrix} 0 \\\\ 1 \\\\ 1 \\\\ 0\\end{bmatrix},\n",
    "$$"
   ]
  },
  {
   "cell_type": "markdown",
   "id": "18a7de32",
   "metadata": {
    "editable": true
   },
   "source": [
    "and"
   ]
  },
  {
   "cell_type": "markdown",
   "id": "a4d20129",
   "metadata": {
    "editable": true
   },
   "source": [
    "$$\n",
    "\\vert \\Psi^-\\rangle = \\frac{1}{\\sqrt{2}}\\left[\\vert 10\\rangle -\\vert 01\\rangle\\right]=\\frac{1}{\\sqrt{2}}\\begin{bmatrix} 0 \\\\ 1 \\\\ -1 \\\\ 0\\end{bmatrix}.\n",
    "$$"
   ]
  },
  {
   "cell_type": "markdown",
   "id": "f588c742",
   "metadata": {
    "editable": true
   },
   "source": [
    "It is easy to convince oneself that these states also form an orthonormal basis."
   ]
  },
  {
   "cell_type": "markdown",
   "id": "7d095afe",
   "metadata": {
    "editable": true
   },
   "source": [
    "## Measurement\n",
    "\n",
    "Measuring one of the qubits of one of the above Bell states,\n",
    "automatically determines, as we will see below, the state of the\n",
    "second qubit. To convince ourselves about this, let us assume we perform a measurement on the qubit in system $A$ by introducing the projections with outcomes $0$ or $1$ as"
   ]
  },
  {
   "cell_type": "markdown",
   "id": "c0cb90e0",
   "metadata": {
    "editable": true
   },
   "source": [
    "$$\n",
    "\\boldsymbol{P}_0=\\vert 0\\rangle\\langle 0\\vert_A\\otimes \\boldsymbol{I}_B=\\begin{bmatrix} 1 & 0\\\\ 0 & 0\\end{bmatrix}\\otimes\\begin{bmatrix} 1& 0 \\\\ 0 & 1\\end{bmatrix}=\\begin{bmatrix} 1 & 0 & 0 & 0 \\\\ 0 & 1 & 0 & 0 \\\\ 0 & 0 & 0 & 0 \\\\ 0 & 0 & 0 & 0\\end{bmatrix},\n",
    "$$"
   ]
  },
  {
   "cell_type": "markdown",
   "id": "56fd2ece",
   "metadata": {
    "editable": true
   },
   "source": [
    "for the projection of the $\\vert 0 \\rangle$ state in system $A$ and similarly"
   ]
  },
  {
   "cell_type": "markdown",
   "id": "85d7dc78",
   "metadata": {
    "editable": true
   },
   "source": [
    "$$\n",
    "\\boldsymbol{P}_1=\\vert 1\\rangle\\langle 1\\vert_A\\otimes \\boldsymbol{I}_B=\\begin{bmatrix} 0 & 0\\\\ 0 & 1\\end{bmatrix}\\otimes\\begin{bmatrix} 1& 0 \\\\ 0 & 1\\end{bmatrix}=\\begin{bmatrix} 0 & 0 & 0 & 0 \\\\ 0 & 0 & 0 & 0 \\\\ 0 & 0 & 1 & 0 \\\\ 0 & 0 & 0 & 1\\end{bmatrix},\n",
    "$$"
   ]
  },
  {
   "cell_type": "markdown",
   "id": "4afceb0f",
   "metadata": {
    "editable": true
   },
   "source": [
    "for the projection of the $\\vert 1 \\rangle$ state in system $A$."
   ]
  },
  {
   "cell_type": "markdown",
   "id": "be9db31a",
   "metadata": {
    "editable": true
   },
   "source": [
    "## Probability of  outcome\n",
    "\n",
    "We can then calculate the probability for the various outcomes by\n",
    "computing for example the probability for measuring qubit $0$"
   ]
  },
  {
   "cell_type": "markdown",
   "id": "f5648416",
   "metadata": {
    "editable": true
   },
   "source": [
    "$$\n",
    "\\langle \\Phi^+\\vert \\boldsymbol{P}_0\\vert \\Phi^+\\rangle = \\frac{1}{2} \\left[\\langle 00\\vert +\\langle 11\\vert\\right]\\begin{bmatrix} 1 & 0 & 0 & 0 \\\\ 0 & 1 & 0 & 0 \\\\ 0 & 0 & 0 & 0 \\\\ 0 & 0 & 0 & 0\\end{bmatrix}\\left[\\vert 00\\rangle +\\vert 11\\rangle\\right]=\\frac{1}{2}.\n",
    "$$"
   ]
  },
  {
   "cell_type": "markdown",
   "id": "9cc38fd6",
   "metadata": {
    "editable": true
   },
   "source": [
    "Similarly, we obtain"
   ]
  },
  {
   "cell_type": "markdown",
   "id": "611e6baf",
   "metadata": {
    "editable": true
   },
   "source": [
    "$$\n",
    "\\langle \\Phi^+\\vert \\boldsymbol{P}_1\\vert \\Phi^+\\rangle = \\frac{1}{2}\\left[\\langle 00\\vert +\\langle 11\\vert\\right]\\begin{bmatrix} 0 & 0 & 0 & 0 \\\\ 0 & 0 & 0 & 0 \\\\ 0 & 0 & 1 & 0 \\\\ 0 & 0 & 0 & 1\\end{bmatrix}\\left[\\vert 00\\rangle +\\vert 11\\rangle\\right]=\\frac{1}{2}.\n",
    "$$"
   ]
  },
  {
   "cell_type": "markdown",
   "id": "497416c3",
   "metadata": {
    "editable": true
   },
   "source": [
    "## States after measurement\n",
    "After the above measurements the system is in the states"
   ]
  },
  {
   "cell_type": "markdown",
   "id": "05fd3beb",
   "metadata": {
    "editable": true
   },
   "source": [
    "$$\n",
    "\\vert \\Phi'_0 \\rangle = \\sqrt{2}\\left[\\vert 0\\rangle\\langle 0\\vert_A\\otimes \\boldsymbol{I}_B\\right]\\vert\\Phi^+\\rangle=\\vert 00\\rangle,\n",
    "$$"
   ]
  },
  {
   "cell_type": "markdown",
   "id": "6c4b7d34",
   "metadata": {
    "editable": true
   },
   "source": [
    "and"
   ]
  },
  {
   "cell_type": "markdown",
   "id": "e138596c",
   "metadata": {
    "editable": true
   },
   "source": [
    "$$\n",
    "\\vert \\Phi'_1 \\rangle = \\sqrt{2}\\left[\\vert 1\\rangle\\langle 1\\vert_A\\otimes \\boldsymbol{I}_B\\right]\\vert\\Phi^+\\rangle=\\vert 11\\rangle.\n",
    "$$"
   ]
  },
  {
   "cell_type": "markdown",
   "id": "cca28de0",
   "metadata": {
    "editable": true
   },
   "source": [
    "We see from the last two equations that the state of the second qubit\n",
    "is determined even though the measurement has only taken place locally\n",
    "on system $A$."
   ]
  },
  {
   "cell_type": "markdown",
   "id": "e644315f",
   "metadata": {
    "editable": true
   },
   "source": [
    "## Other states\n",
    "\n",
    "If we on the other hand consider a state like"
   ]
  },
  {
   "cell_type": "markdown",
   "id": "47deec99",
   "metadata": {
    "editable": true
   },
   "source": [
    "$$\n",
    "\\vert 00 \\rangle = \\vert 0\\rangle_A\\otimes \\vert 0\\rangle_B,\n",
    "$$"
   ]
  },
  {
   "cell_type": "markdown",
   "id": "1666647a",
   "metadata": {
    "editable": true
   },
   "source": [
    "this is a pure **product** state of the single-qubit, or single-particle\n",
    "states, of two qubits (particles) in system $A$ and system $B$,\n",
    "respectively. We call such a state for a **pure product state**.  Quantum states\n",
    "that cannot be written as a mixture of other states are called pure\n",
    "quantum states or just product states, while all other states are called mixed quantum states."
   ]
  },
  {
   "cell_type": "markdown",
   "id": "c53f34eb",
   "metadata": {
    "editable": true
   },
   "source": [
    "## More on Bell states\n",
    "A state like one of the Bell states (where we introduce the subscript $AB$ to indicate that the state is composed of single states from two subsystem)"
   ]
  },
  {
   "cell_type": "markdown",
   "id": "fe996699",
   "metadata": {
    "editable": true
   },
   "source": [
    "$$\n",
    "\\vert \\Phi^+\\rangle = \\frac{1}{\\sqrt{2}}\\left[\\vert 00\\rangle_{AB} +\\vert 11\\rangle_{AB}\\right],\n",
    "$$"
   ]
  },
  {
   "cell_type": "markdown",
   "id": "c88973cd",
   "metadata": {
    "editable": true
   },
   "source": [
    "is on the other hand a mixed state and we cannot determine whether system $A$ is in a state $0$ or $1$. The above state is a superposition of the states $\\vert 00\\rangle_{AB}$ and $\\vert 11\\rangle_{AB}$ and it is not possible to determine individual states of systems $A$ and $B$, respectively."
   ]
  },
  {
   "cell_type": "markdown",
   "id": "5a044a31",
   "metadata": {
    "editable": true
   },
   "source": [
    "## Entanglement\n",
    "\n",
    "We say that the state is entangled. This yields the following\n",
    "definition of entangled states: a pure bipartite state $\\vert\n",
    "\\psi\\rangle_{AB}$ is entangled if it cannot be written as a product\n",
    "state $\\vert\\psi\\rangle_{A}\\otimes\\vert\\phi\\rangle_B$ for any choice\n",
    "of the states $\\vert\\psi\\rangle_{A}$ and $\\vert\\phi\\rangle_B$. Otherwise we say the state is separable."
   ]
  },
  {
   "cell_type": "markdown",
   "id": "633098e1",
   "metadata": {
    "editable": true
   },
   "source": [
    "## Examples of entanglement\n",
    "\n",
    "As an example, considere an ansatz for the ground state of the helium\n",
    "atom with two electrons in the lowest $1s$ state (hydrogen-like\n",
    "orbits) and with spin $s=1/2$ and spin projections $m_s=-1/2$ and\n",
    "$m_s=1/2$.  The two single-particle states are given by the tensor\n",
    "products of their spatial $1s$ single-particle states\n",
    "$\\vert\\phi_{1s}\\rangle$ and and their spin up or spin down spinors\n",
    "$\\vert\\xi_{sm_s}\\rangle$. The ansatz for the ground state is given by a Slater\n",
    "determinant with total orbital momentum $L=l_1+l_2=0$ and totalt spin\n",
    "$S=s_1+s_2=0$, normally labeled as a spin-singlet state."
   ]
  },
  {
   "cell_type": "markdown",
   "id": "909372b6",
   "metadata": {
    "editable": true
   },
   "source": [
    "## Ground state of helium\n",
    "This ansatz\n",
    "for the ground state is then written as, using the compact notations"
   ]
  },
  {
   "cell_type": "markdown",
   "id": "f22db57e",
   "metadata": {
    "editable": true
   },
   "source": [
    "$$\n",
    "\\vert \\psi_{i}\\rangle = \\vert\\phi_{1s}\\rangle_i\\otimes \\vert \\xi\\rangle_{s_im_{s_i}}=\\vert 1s,s,m_s\\rangle_i,\n",
    "$$"
   ]
  },
  {
   "cell_type": "markdown",
   "id": "2ecb37c7",
   "metadata": {
    "editable": true
   },
   "source": [
    "with $i$ being electron $1$ or $2$, and the tensor product of the two single-electron states as\n",
    "$\\vert 1s,s,m_s\\rangle_1\\vert 1s,s,m_s\\rangle_2=\\vert 1s,s,m_s\\rangle_1\\otimes \\vert 1s,s,m_s\\rangle_2$, we arrive at"
   ]
  },
  {
   "cell_type": "markdown",
   "id": "37c9c6c9",
   "metadata": {
    "editable": true
   },
   "source": [
    "$$\n",
    "\\Psi(\\boldsymbol{r}_1,\\boldsymbol{r}_2;s_1,s_2)=\\frac{1}{\\sqrt{2}}\\left[\\vert 1s,1/2,1/2\\rangle_1\\vert 1s,1/2,-1/2\\rangle_2-\\vert 1s,1/2,-1/2\\rangle_1\\vert 1s,1/2,1/2\\rangle_2\\right].\n",
    "$$"
   ]
  },
  {
   "cell_type": "markdown",
   "id": "ae6a522a",
   "metadata": {
    "editable": true
   },
   "source": [
    "This is also an example of a state which cannot be written out as a pure state. We call this for an entangled state as well."
   ]
  },
  {
   "cell_type": "markdown",
   "id": "0c537c3a",
   "metadata": {
    "editable": true
   },
   "source": [
    "## Maximally entangled\n",
    "\n",
    "A so-called maximally entangled state for a bipartite system has equal  probability amplitudes"
   ]
  },
  {
   "cell_type": "markdown",
   "id": "4e582b44",
   "metadata": {
    "editable": true
   },
   "source": [
    "$$\n",
    "\\vert \\Psi \\rangle = \\frac{1}{\\sqrt{d}}\\sum_{i=0}^{d-1}\\vert ii\\rangle.\n",
    "$$"
   ]
  },
  {
   "cell_type": "markdown",
   "id": "bcf371b8",
   "metadata": {
    "editable": true
   },
   "source": [
    "We call a bipartite state composed of systems $A$ and $B$ (these\n",
    "systems can be single-particle systems, or single-qubit systems\n",
    "representing low-lying states of complicated many-body systems) for\n",
    "separable if its density matrix $\\rho_{AB}$ can be written out as the\n",
    "tensor product of the individual density matrices $\\rho_A$ and\n",
    "$\\rho_B$, that is we have for a given probability distribution $p_i$"
   ]
  },
  {
   "cell_type": "markdown",
   "id": "249fd5d7",
   "metadata": {
    "editable": true
   },
   "source": [
    "$$\n",
    "\\rho_{AB}=\\sum_ip_i\\rho_A(i)\\otimes \\rho_B(i).\n",
    "$$"
   ]
  }
 ],
 "metadata": {},
 "nbformat": 4,
 "nbformat_minor": 5
}
