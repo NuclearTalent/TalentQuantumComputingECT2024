{
 "cells": [
  {
   "cell_type": "markdown",
   "id": "f05c23e9",
   "metadata": {
    "editable": true
   },
   "source": [
    "<!-- HTML file automatically generated from DocOnce source (https://github.com/doconce/doconce/)\n",
    "doconce format html Thirdlecture.do.txt  -->\n",
    "<!-- dom:TITLE: Quantum gates and quantum circuits -->"
   ]
  },
  {
   "cell_type": "markdown",
   "id": "cccf4a9b",
   "metadata": {
    "editable": true
   },
   "source": [
    "# Quantum gates and quantum circuits\n",
    "**Nuclear TALENT course on quantum computing**\n",
    "\n",
    "Date: **Monday June 16, 2025**"
   ]
  },
  {
   "cell_type": "markdown",
   "id": "3fd23195",
   "metadata": {
    "editable": true
   },
   "source": [
    "## Gates, the whys and hows\n",
    "\n",
    "In quantum computing it is common to rewrite various unitary\n",
    "transformations acting on a given state, in terms of so-called gates\n",
    "(one-qubit, two-qubit or more qubit gates). These unitary\n",
    "transformations do actually represent specific interactions of the system with the\n",
    "environment.\n",
    "\n",
    "Each such operation is by convention written in terms of gates and a\n",
    "chain of such gates represents a circuit. The latter represents then a\n",
    "specific set of operations on an initial state in order to perform what we will label\n",
    "as experiments.\n",
    "\n",
    "The aim of the first set of notes this week is to link these gates\n",
    "(and thereby circuits) to their respective unitary\n",
    "transformation. These unitary transformations represent selected\n",
    "physical processes."
   ]
  },
  {
   "cell_type": "markdown",
   "id": "5bf6d711",
   "metadata": {
    "editable": true
   },
   "source": [
    "## Specific realizations and famous gates\n",
    "\n",
    "Nuclear magnetic resonance (NMR) quantum computing is one of the several\n",
    "proposed approaches for constructing a quantum computer. It uses the\n",
    "spin states of nuclei within molecules as qubits. The quantum states\n",
    "are probed through the nuclear magnetic resonances, allowing the\n",
    "system to be implemented as a variation of nuclear magnetic resonance\n",
    "spectroscopy. NMR differs from other implementations of quantum\n",
    "computers in that it uses an ensemble of systems, in this case\n",
    "molecules, rather than a single pure state.\n",
    "\n",
    "You can read more about this at <https://cba.mit.edu/docs/papers/98.06.sciqc.pdf>"
   ]
  },
  {
   "cell_type": "markdown",
   "id": "18ed27e8",
   "metadata": {
    "editable": true
   },
   "source": [
    "## Spin Hamiltonian\n",
    "\n",
    "In order to understand in terms of a given Hamiltonian how the\n",
    "different gates arise, we consider now the Hamiltonian of a nuclear\n",
    "spin in a magnetic field. Since the spin provides provides a magnetic\n",
    "dipole moment, a nucleus with a spin will interact with the magnetic\n",
    "field. The Hamiltonian of a nucleus with spin interacting with a\n",
    "magnetic field $\\boldsymbol{B}$ is"
   ]
  },
  {
   "cell_type": "markdown",
   "id": "cd741b4c",
   "metadata": {
    "editable": true
   },
   "source": [
    "$$\n",
    "H = -\\boldsymbol{\\mu}\\boldsymbol{B},\n",
    "$$"
   ]
  },
  {
   "cell_type": "markdown",
   "id": "6080ea92",
   "metadata": {
    "editable": true
   },
   "source": [
    "with $\\boldsymbol{\\mu}=\\gamma\\boldsymbol{S}$, $\\gamma$ being the so-called gyromagnetic ratio and $\\boldsymbol{S}$ the spin."
   ]
  },
  {
   "cell_type": "markdown",
   "id": "a508d527",
   "metadata": {
    "editable": true
   },
   "source": [
    "## Field along the $z$-axis\n",
    "\n",
    "It is common to let the spin interact with a constant magnetic field\n",
    "along the $z$-axis. This gives an effecitve Hamiltonian"
   ]
  },
  {
   "cell_type": "markdown",
   "id": "20c663f2",
   "metadata": {
    "editable": true
   },
   "source": [
    "$$\n",
    "H_z = -\\frac{\\hbar\\omega_L}{2}\\sigma_z,\n",
    "$$"
   ]
  },
  {
   "cell_type": "markdown",
   "id": "f3540871",
   "metadata": {
    "editable": true
   },
   "source": [
    "where $\\omega_L$ is the so-called Larmor precession frequency. This\n",
    "quantity includes also the constant magnetif field along the\n",
    "$z$-axis. For all practical purposes it suffices for us to have an\n",
    "expression of the Hamiltonian in terms of the Pauli-Z matrix."
   ]
  },
  {
   "cell_type": "markdown",
   "id": "6452dda1",
   "metadata": {
    "editable": true
   },
   "source": [
    "## Bringing back a state on the Bloch sphere\n",
    "\n",
    "Suppose that our initial one qubit state (for example a spin-$1/2$\n",
    "nucleus for NMR studies) points along some arbitrary axis. As\n",
    "discussed during our second lecture, a point on the Bloch sphere can be\n",
    "represented as at time $t=0$"
   ]
  },
  {
   "cell_type": "markdown",
   "id": "dd5bbca5",
   "metadata": {
    "editable": true
   },
   "source": [
    "$$\n",
    "\\vert \\psi(t=0) \\rangle = \\vert \\psi(0) \\rangle=\\cos{(\\frac{\\theta}{2})}\\vert 0\\rangle +\\exp{\\imath\\phi}\\sin{(\\frac{\\theta}{2})}\\vert 1\\rangle.\n",
    "$$"
   ]
  },
  {
   "cell_type": "markdown",
   "id": "560d8a9a",
   "metadata": {
    "editable": true
   },
   "source": [
    "## Time evolution\n",
    "\n",
    "Since the hamiltonian is time-independent, the state $\\vert \\psi(0)\n",
    "\\rangle$, our system will evolve according to the unitary transformation"
   ]
  },
  {
   "cell_type": "markdown",
   "id": "f0d65133",
   "metadata": {
    "editable": true
   },
   "source": [
    "$$\n",
    "\\vert \\psi(t) \\rangle = U(t)\\vert \\psi(0) \\rangle=\\exp{\\imath\\omega_L t\\sigma_z/2}\\vert \\psi(0) \\rangle.\n",
    "$$"
   ]
  },
  {
   "cell_type": "markdown",
   "id": "e2d45425",
   "metadata": {
    "editable": true
   },
   "source": [
    "Inserting the Bloch sphere ansatz we have then"
   ]
  },
  {
   "cell_type": "markdown",
   "id": "e708a739",
   "metadata": {
    "editable": true
   },
   "source": [
    "$$\n",
    "\\vert \\psi(t) \\rangle=\\exp{\\imath\\omega_L t\\sigma_z/2}\\cos{(\\frac{\\theta}{2})}\\vert 0\\rangle +\\exp{\\imath\\omega_L t\\sigma_z/2}\\exp{\\imath\\phi}\\sin{(\\frac{\\theta}{2})}\\vert 1\\rangle.\n",
    "$$"
   ]
  },
  {
   "cell_type": "markdown",
   "id": "031372c5",
   "metadata": {
    "editable": true
   },
   "source": [
    "The specific hamiltonian we have chosen here serves to exemplify how can represent physical operations in terms of specific gates, here a one-qubit gate."
   ]
  },
  {
   "cell_type": "markdown",
   "id": "80bfe637",
   "metadata": {
    "editable": true
   },
   "source": [
    "## Final expression\n",
    "Assume we have a given operator $\\boldsymbol{A}$ acting on a  vector space $\\vert a\\rangle$ with eigenvalues $a$"
   ]
  },
  {
   "cell_type": "markdown",
   "id": "f7501557",
   "metadata": {
    "editable": true
   },
   "source": [
    "$$\n",
    "\\exp{\\boldsymbol{A}}\\vert a\\rangle=\\sum_{n=0}^{\\infty} \\frac{1}{n!}\\boldsymbol{A}^n\\vert a\\rangle=\\sum_{n=0}^{\\infty} \\frac{a^n}{n!}\\vert a\\rangle=\\exp{a}\\vert a\\rangle.\n",
    "$$"
   ]
  },
  {
   "cell_type": "markdown",
   "id": "d8c0441c",
   "metadata": {
    "editable": true
   },
   "source": [
    "Using this result, we obtain"
   ]
  },
  {
   "cell_type": "markdown",
   "id": "8eee5332",
   "metadata": {
    "editable": true
   },
   "source": [
    "$$\n",
    "\\vert \\psi(t) \\rangle=\\exp{\\imath\\omega_L t/2}\\cos{(\\frac{\\theta}{2})}\\vert 0\\rangle +\\exp{-\\imath\\omega_L t/2}\\exp{\\imath\\phi}\\sin{(\\frac{\\theta}{2})}\\vert 1\\rangle.\n",
    "$$"
   ]
  },
  {
   "cell_type": "markdown",
   "id": "55c0c241",
   "metadata": {
    "editable": true
   },
   "source": [
    "## Famous Quantum gates, circuits and simple algorithms\n",
    "\n",
    "Quantum gates are physical actions that are applied to the physical\n",
    "system representing the qubits. Mathematically, they are\n",
    "complex-valued, unitary matrices which act on the complex-values\n",
    "normalized vectors that represent qubits. As the quantum analog of\n",
    "classical logic gates (such as AND and OR), there is a corresponding\n",
    "quantum gate for every classical gate; however, there are quantum\n",
    "gates that have no classical counter-part. They act on a set of qubits\n",
    "and, changing their state. That is, if $U$ is a quantum gate and\n",
    "$\\vert q \\rangle $ is a qubit, then acting the gate $U$ on the qubit $\\vert q \\rangle $\n",
    "transforms the qubit as follows:"
   ]
  },
  {
   "cell_type": "markdown",
   "id": "229c246b",
   "metadata": {
    "editable": true
   },
   "source": [
    "<!-- Equation labels as ordinary links -->\n",
    "<div id=\"_auto1\"></div>\n",
    "\n",
    "$$\n",
    "\\begin{equation}\n",
    "\\vert q \\rangle \\overset{U}{\\to}U\\vert q \\rangle \n",
    ". \\label{_auto1} \\tag{1}\n",
    "\\end{equation}\n",
    "$$"
   ]
  },
  {
   "cell_type": "markdown",
   "id": "f6ede958",
   "metadata": {
    "editable": true
   },
   "source": [
    "## Quantum circuits\n",
    "\n",
    "Quantum circuits are diagrammatic representations of quantum\n",
    "algorithms. The horizontal dimension corresponds to time; moving left\n",
    "to right corresponds to forward motion in time. They consist of a set\n",
    "of qubits $\\vert q_n\\rangle$ which are stacked vertically on the left-hand\n",
    "side of the diagram. Lines, called quantum wires, extend horizontally\n",
    "to the right from each qubit, representing its state moving forward in\n",
    "time. Additionally, they contain a set of quantum gates that are\n",
    "applied to the quantum wires. Gates are applied chronologically, left\n",
    "to right."
   ]
  },
  {
   "cell_type": "markdown",
   "id": "e0064abc",
   "metadata": {
    "editable": true
   },
   "source": [
    "## Single-Qubit Gates\n",
    "\n",
    "A single-qubit gate is a physical action that is applied to one\n",
    "qubit. It can be represented by a matrix $U$ from the group SU(2). Any\n",
    "single-qubit gate can be parameterized by three angles: $\\theta$,\n",
    "$\\phi$, and $\\lambda$ as follows"
   ]
  },
  {
   "cell_type": "markdown",
   "id": "a07b8799",
   "metadata": {
    "editable": true
   },
   "source": [
    "$$\n",
    "U(\\theta,\\phi,\\lambda)=\\begin{bmatrix}\n",
    "\\cos\\frac{\\theta}{2} & -e^{i\\lambda}\\sin\\frac{\\theta}{2}\n",
    "\\\\\n",
    "e^{i\\phi}\\sin\\frac{\\theta}{2} & e^{i(\\phi+\\lambda)}\\cos\\frac{\\theta}{2}\n",
    "\\end{bmatrix}.\n",
    "$$"
   ]
  },
  {
   "cell_type": "markdown",
   "id": "a97352ec",
   "metadata": {
    "editable": true
   },
   "source": [
    "## Widely used gates\n",
    "\n",
    "There are several widely used quantum gates. Perhaps the most famous are \n",
    "the Pauli gates correspond to the Pauli matrices"
   ]
  },
  {
   "cell_type": "markdown",
   "id": "f8472795",
   "metadata": {
    "editable": true
   },
   "source": [
    "$$\n",
    "I=\\begin{bmatrix} 1 & 0 \\\\ 0 & 1 \\end{bmatrix},\n",
    "$$"
   ]
  },
  {
   "cell_type": "markdown",
   "id": "1b6040b9",
   "metadata": {
    "editable": true
   },
   "source": [
    "$$\n",
    "X =\\begin{bmatrix} 0 & 1 \\\\ 1 & 0\\end{bmatrix},\n",
    "$$"
   ]
  },
  {
   "cell_type": "markdown",
   "id": "63c43402",
   "metadata": {
    "editable": true
   },
   "source": [
    "$$\n",
    "Y=\\begin{bmatrix}0 & -i \\\\i & 0\\end{bmatrix},\n",
    "$$"
   ]
  },
  {
   "cell_type": "markdown",
   "id": "7fedeb23",
   "metadata": {
    "editable": true
   },
   "source": [
    "$$\n",
    "Z=\\begin{bmatrix} 1 & 0 \\\\ 0 & -1\\end{bmatrix}.\n",
    "$$"
   ]
  },
  {
   "cell_type": "markdown",
   "id": "557f9e01",
   "metadata": {
    "editable": true
   },
   "source": [
    "## Algebra basis\n",
    "\n",
    "These gates form a basis for\n",
    "the algebra $\\mathfrak{su}(2)$. Exponentiating them will thus give us\n",
    "a basis for SU(2), the group within which all single-qubit gates\n",
    "live."
   ]
  },
  {
   "cell_type": "markdown",
   "id": "7ca8feff",
   "metadata": {
    "editable": true
   },
   "source": [
    "## Exponentiated Pauli gates\n",
    "\n",
    "These exponentiated Pauli gates are called rotation gates\n",
    "$R_{\\sigma}(\\theta)$ because they rotate the quantum state around the\n",
    "axis $\\sigma=X,Y,Z$ of the Bloch sphere by an angle $\\theta$. They are\n",
    "defined as"
   ]
  },
  {
   "cell_type": "markdown",
   "id": "be894dc5",
   "metadata": {
    "editable": true
   },
   "source": [
    "$$\n",
    "R_X(\\theta)=e^{-i\\frac{\\theta}{2}X}=\n",
    "\\begin{bmatrix}\n",
    "\\cos\\frac{\\theta}{2} & -i\\sin\\frac{\\theta}{2} \\\\\n",
    "-i\\sin\\frac{\\theta}{2} & \\cos\\frac{\\theta}{2} \n",
    "\\end{bmatrix},\n",
    "$$"
   ]
  },
  {
   "cell_type": "markdown",
   "id": "e8b486bc",
   "metadata": {
    "editable": true
   },
   "source": [
    "$$\n",
    "R_Y(\\theta)=e^{-i\\frac{\\theta}{2}Y}=\n",
    "\\begin{bmatrix}\n",
    "\\cos\\frac{\\theta}{2} & -\\sin\\frac{\\theta}{2} \\\\\n",
    "\\sin\\frac{\\theta}{2} & \\cos\\frac{\\theta}{2} \n",
    "\\end{bmatrix},\n",
    "$$"
   ]
  },
  {
   "cell_type": "markdown",
   "id": "14498941",
   "metadata": {
    "editable": true
   },
   "source": [
    "$$\n",
    "R_Z(\\theta)=e^{-i\\frac{\\theta}{2}Z}=\\begin{bmatrix}\n",
    "e^{-i\\theta/2} & 0 \\\\\n",
    "0 & e^{i\\theta/2}\\end{bmatrix}.\n",
    "$$"
   ]
  },
  {
   "cell_type": "markdown",
   "id": "a3780bee",
   "metadata": {
    "editable": true
   },
   "source": [
    "## Basis for $\\mathrm{SU}(2)$\n",
    "\n",
    "Because they form a basis for $\\mathrm{SU}(2)$, any single-qubit gate\n",
    "can be decomposed into three rotation gates. Indeed"
   ]
  },
  {
   "cell_type": "markdown",
   "id": "3abc3788",
   "metadata": {
    "editable": true
   },
   "source": [
    "$$\n",
    "R_z(\\phi)R_y(\\theta)R_z(\\lambda)=\n",
    "\\begin{bmatrix}\n",
    "e^{-i\\phi/2} & 0 \\\\\n",
    "0 & e^{i\\phi/2}\n",
    "\\end{bmatrix}\n",
    "\\begin{bmatrix}\n",
    "\\cos\\frac{\\theta}{2} & -\\sin\\frac{\\theta}{2} \\\\\n",
    "\\sin\\frac{\\theta}{2} & \\cos\\frac{\\theta}{2} \n",
    "\\end{bmatrix}\n",
    "\\begin{bmatrix}\n",
    "e^{-i\\lambda/2} & 0 \\\\\n",
    "0 & e^{i\\lambda/2}\n",
    "\\end{bmatrix}\n",
    "$$"
   ]
  },
  {
   "cell_type": "markdown",
   "id": "9836909c",
   "metadata": {
    "editable": true
   },
   "source": [
    "which we can rewite as"
   ]
  },
  {
   "cell_type": "markdown",
   "id": "c54f818b",
   "metadata": {
    "editable": true
   },
   "source": [
    "$$\n",
    "e^{-i(\\phi+\\lambda)/2}\n",
    "\\begin{bmatrix}\n",
    "\\cos\\frac{\\theta}{2} & -e^{i\\lambda}\\sin\\frac{\\theta}{2}\\\\\n",
    "e^{i\\phi}\\sin\\frac{\\theta}{2} & e^{i(\\phi+\\lambda)}\\cos\\frac{\\theta}{2}\n",
    "\\end{bmatrix},\n",
    "$$"
   ]
  },
  {
   "cell_type": "markdown",
   "id": "e233dd1f",
   "metadata": {
    "editable": true
   },
   "source": [
    "which is, up to a global phase, equal to the expression for an arbitrary single-qubit gate."
   ]
  },
  {
   "cell_type": "markdown",
   "id": "9c518ac9",
   "metadata": {
    "editable": true
   },
   "source": [
    "## Two-Qubit Gates\n",
    "\n",
    "A two-qubit gate is a physical action that is applied to two\n",
    "qubits. It can be represented by a matrix $U$ from the group\n",
    "SU(4). One important type of two-qubit gates are controlled gates,\n",
    "which work as follows: Suppose $U$ is a single-qubit gate. A\n",
    "controlled-$U$ gate ($CU$) acts on two qubits: a control qubit\n",
    "$\\vert x \\rangle $ and a target qubit $\\vert y \\rangle $. The controlled-$U$ gate\n",
    "applies the identity $I$ or the single-qubit gate $U$ to the target\n",
    "qubit if the control gate is in the zero state $\\vert 0\\rangle$ or the one\n",
    "state $\\vert 1\\rangle$, respectively."
   ]
  },
  {
   "cell_type": "markdown",
   "id": "1c07e788",
   "metadata": {
    "editable": true
   },
   "source": [
    "## Control qubit\n",
    "\n",
    "The control qubit is not acted\n",
    "upon. This can be represented as follows if"
   ]
  },
  {
   "cell_type": "markdown",
   "id": "56802ea7",
   "metadata": {
    "editable": true
   },
   "source": [
    "$$\n",
    "CU\\vert xy\\rangle=\n",
    "\\vert xy\\rangle \\hspace{0.1cm} \\mathrm{if} \\hspace{0.1cm}  \\vert x \\rangle =\\vert 0\\rangle.\n",
    "$$"
   ]
  },
  {
   "cell_type": "markdown",
   "id": "f0a6d3f8",
   "metadata": {
    "editable": true
   },
   "source": [
    "## In matrix form\n",
    "\n",
    "It is easier to see in a matrix form.\n",
    "It can be written in matrix form by writing it as a superposition of\n",
    "the two possible cases, each written as a simple tensor product"
   ]
  },
  {
   "cell_type": "markdown",
   "id": "ab915f0d",
   "metadata": {
    "editable": true
   },
   "source": [
    "$$\n",
    "CU = \\vert 0\\rangle\\langle 0\\vert\\otimes I + \\vert 1\\rangle\\langle 1 \\vert \\otimes U=\\begin{bmatrix}\n",
    "1 & 0 & 0 & 0 \\\\\n",
    "0 & 1 & 0 & 0 \\\\\n",
    "0 & 0 & u_{00} & u_{01} \\\\\n",
    "0 & 0 & u_{10} & u_{11}\n",
    "\\end{bmatrix}.\n",
    "$$"
   ]
  },
  {
   "cell_type": "markdown",
   "id": "b065a88e",
   "metadata": {
    "editable": true
   },
   "source": [
    "## CNOT gate\n",
    "\n",
    "One of the most fundamental controlled gates is the CNOT gate. It is\n",
    "defined as the controlled-$X$ gate $CX$. It can be written in matrix form as follows:"
   ]
  },
  {
   "cell_type": "markdown",
   "id": "408e7e6c",
   "metadata": {
    "editable": true
   },
   "source": [
    "$$\n",
    "\\mathrm{CNOT}=\\mathrm{CX}=\\begin{bmatrix}\n",
    "1 & 0 & 0 & 0 \\\\\n",
    "0 & 1 & 0 & 0 \\\\\n",
    "0 & 0 & 0 & 1 \\\\\n",
    "0 & 0 & 1 & 0\n",
    "\\end{bmatrix}.\n",
    "$$"
   ]
  },
  {
   "cell_type": "markdown",
   "id": "df7c89f3",
   "metadata": {
    "editable": true
   },
   "source": [
    "## $\\mathrm{CX}$ gate\n",
    "\n",
    "It changes, when operating on a two-qubit state where the first qubit is the control qubit and the second qubit is the target qubit, the states (check this)"
   ]
  },
  {
   "cell_type": "markdown",
   "id": "ecb51859",
   "metadata": {
    "editable": true
   },
   "source": [
    "$$\n",
    "\\mathrm{CX}\\vert 00\\rangle=\\vert 00\\rangle,\n",
    "$$"
   ]
  },
  {
   "cell_type": "markdown",
   "id": "97bd0510",
   "metadata": {
    "editable": true
   },
   "source": [
    "$$\n",
    "\\mathrm{CX}\\vert 10\\rangle= \\vert 11\\rangle,\n",
    "$$"
   ]
  },
  {
   "cell_type": "markdown",
   "id": "c952e646",
   "metadata": {
    "editable": true
   },
   "source": [
    "$$\n",
    "\\mathrm{CX}\\vert 01\\rangle= \\vert 01\\rangle,\n",
    "$$"
   ]
  },
  {
   "cell_type": "markdown",
   "id": "f378afef",
   "metadata": {
    "editable": true
   },
   "source": [
    "$$\n",
    "\\mathrm{CX}\\vert 11\\rangle= \\vert 10\\rangle,\n",
    "$$"
   ]
  },
  {
   "cell_type": "markdown",
   "id": "c60a6489",
   "metadata": {
    "editable": true
   },
   "source": [
    "which you can easily see by simply multiplying the above matrix with any of the above states."
   ]
  },
  {
   "cell_type": "markdown",
   "id": "f19e712c",
   "metadata": {
    "editable": true
   },
   "source": [
    "## Swap gate\n",
    "\n",
    "A widely used two-qubit gate that goes beyond the simple controlled function is the SWAP gate. It swaps the states of the two qubits it acts upon"
   ]
  },
  {
   "cell_type": "markdown",
   "id": "384c67e0",
   "metadata": {
    "editable": true
   },
   "source": [
    "$$\n",
    "\\mathrm{SWAP}\\vert xy\\rangle=\\vert yx\\rangle.\n",
    "$$"
   ]
  },
  {
   "cell_type": "markdown",
   "id": "f3e23ec2",
   "metadata": {
    "editable": true
   },
   "source": [
    "and has the following matrix form"
   ]
  },
  {
   "cell_type": "markdown",
   "id": "7eeb9915",
   "metadata": {
    "editable": true
   },
   "source": [
    "$$\n",
    "\\mathrm{SWAP}\n",
    "=\\begin{bmatrix}\n",
    "1 & 0 & 0 & 0 \\\\\n",
    "0 & 0 & 1 & 0 \\\\\n",
    "0 & 1 & 0 & 0 \\\\\n",
    "0 & 0 & 0 & 1\n",
    "\\end{bmatrix}.\n",
    "$$"
   ]
  },
  {
   "cell_type": "markdown",
   "id": "3dd07c0e",
   "metadata": {
    "editable": true
   },
   "source": [
    "## Setting up an object-oriented environment\n",
    "\n",
    "Here we set up the basic elements for implementing a simple quantum circuit simulator in Python\n",
    "using object-oriented design. We simulate quantum state evolution\n",
    "using only NumPy matrix operations, without relying on specialized\n",
    "quantum libraries like Qiskit or PennyLane. A quantum state of $n$\n",
    "qubits is represented as a length $2^n$ complex state vector, and each\n",
    "quantum gate corresponds to a unitary matrix that transforms this\n",
    "state vector. \n",
    "\n",
    "The simulator allows\n",
    "composing circuits from these gates and visualizing results (either on\n",
    "the Bloch sphere for single qubits or as state-vector probabilities\n",
    "for multi-qubit states)."
   ]
  },
  {
   "cell_type": "markdown",
   "id": "985906e0",
   "metadata": {
    "editable": true
   },
   "source": [
    "## One-Qubit Gates\n",
    "\n",
    "As discussed above,\n",
    "a single-qubit gate is represented by a $2\\times 2$ unitary matrix\n",
    "acting on the two-dimensional Hilbert space spanned by $|0\\rangle$ and\n",
    "$|1\\rangle$.\n",
    "\n",
    "For example, the Pauli-$X$ gate (quantum NOT) has matrix"
   ]
  },
  {
   "cell_type": "markdown",
   "id": "858d7c20",
   "metadata": {
    "editable": true
   },
   "source": [
    "$$\n",
    "X=\\begin{bmatrix}0 & 1\\\\ 1 & 0\\end{bmatrix},\n",
    "$$"
   ]
  },
  {
   "cell_type": "markdown",
   "id": "13693542",
   "metadata": {
    "editable": true
   },
   "source": [
    "which flips the\n",
    "amplitudes of $|0\\rangle$ and $|1\\rangle$.\n",
    "\n",
    "Similarly,"
   ]
  },
  {
   "cell_type": "markdown",
   "id": "3ec383db",
   "metadata": {
    "editable": true
   },
   "source": [
    "$$\n",
    "Y=\\begin{bmatrix}0 & -i\\\\ i & 0\\end{bmatrix},\n",
    "$$"
   ]
  },
  {
   "cell_type": "markdown",
   "id": "0da8b42d",
   "metadata": {
    "editable": true
   },
   "source": [
    "and"
   ]
  },
  {
   "cell_type": "markdown",
   "id": "62b03aed",
   "metadata": {
    "editable": true
   },
   "source": [
    "$$\n",
    "Z=\\begin{bmatrix}1 & 0\\\\ 0 & -1\\end{bmatrix},\n",
    "$$"
   ]
  },
  {
   "cell_type": "markdown",
   "id": "845272e0",
   "metadata": {
    "editable": true
   },
   "source": [
    "are 180° rotations about the $y$- and\n",
    "$z$-axes of the Bloch sphere , with $Z$ applying a phase flip to\n",
    "$|1\\rangle$ (changing its sign)."
   ]
  },
  {
   "cell_type": "markdown",
   "id": "1f76ff21",
   "metadata": {
    "editable": true
   },
   "source": [
    "## Hadamard and more\n",
    "\n",
    "The Hadamard gate"
   ]
  },
  {
   "cell_type": "markdown",
   "id": "fa559a2d",
   "metadata": {
    "editable": true
   },
   "source": [
    "$$\n",
    "H=\\frac{1}{\\sqrt{2}}\\begin{bmatrix}1 & 1\\\\ 1 & -1\\end{bmatrix},\n",
    "$$"
   ]
  },
  {
   "cell_type": "markdown",
   "id": "58bdb3a0",
   "metadata": {
    "editable": true
   },
   "source": [
    "creates superpositions"
   ]
  },
  {
   "cell_type": "markdown",
   "id": "4c3d3f9e",
   "metadata": {
    "editable": true
   },
   "source": [
    "$$\n",
    "H\\vert 0\\rangle =\\frac{\\vert 0\\rangle+\\vert 1\\rangle}{\\sqrt{2}}\\hspace{1cm} \\mathrm{and} \\hspace{1cm} H\\vert 1\\rangle =\n",
    "\\frac{\\vert 0\\rangle-\\vert 1\\rangle}{\\sqrt{2}}.\n",
    "$$"
   ]
  },
  {
   "cell_type": "markdown",
   "id": "fd4046d1",
   "metadata": {
    "editable": true
   },
   "source": [
    "We also include the phase\n",
    "gates $S$ and $T$, which are quarter-turn $Z$-rotations:"
   ]
  },
  {
   "cell_type": "markdown",
   "id": "4e297193",
   "metadata": {
    "editable": true
   },
   "source": [
    "$$\n",
    "S =\n",
    "\\begin{bmatrix}1&0\\\\ 0&i\\end{bmatrix},\n",
    "$$"
   ]
  },
  {
   "cell_type": "markdown",
   "id": "702e5085",
   "metadata": {
    "editable": true
   },
   "source": [
    "(90° phase shift on $|1\\rangle$)\n",
    "and"
   ]
  },
  {
   "cell_type": "markdown",
   "id": "7c717538",
   "metadata": {
    "editable": true
   },
   "source": [
    "$$\n",
    "T = \\begin{bmatrix}1&0\\\\ 0&e^{i\\pi/4}\\end{bmatrix},\n",
    "$$"
   ]
  },
  {
   "cell_type": "markdown",
   "id": "d73d1e6b",
   "metadata": {
    "editable": true
   },
   "source": [
    "a 45 degrees phase\n",
    "shift.\n",
    "\n",
    "These satisfy $S^2 = Z$ and $T^2 = S$ . For arbitrary\n",
    "rotations, we support parameterized gates $R_x(\\theta), R_y(\\theta),\n",
    "R_z(\\theta)$, which rotate a qubit by angle $\\theta$ about the $x$,\n",
    "$y$, or $z$ axis of the Bloch sphere . For instance,"
   ]
  },
  {
   "cell_type": "markdown",
   "id": "8859d6e8",
   "metadata": {
    "editable": true
   },
   "source": [
    "$$\n",
    "R_x(\\theta) =\n",
    "e^{-i\\theta X/2} = \\begin{bmatrix}\\cos(\\theta/2) &\n",
    "-i\\sin(\\theta/2)\\\\ -i\\sin(\\theta/2) & \\cos(\\theta/2)\\end{bmatrix},\n",
    "$$"
   ]
  },
  {
   "cell_type": "markdown",
   "id": "b27679a5",
   "metadata": {
    "editable": true
   },
   "source": [
    "and"
   ]
  },
  {
   "cell_type": "markdown",
   "id": "587292a2",
   "metadata": {
    "editable": true
   },
   "source": [
    "$$\n",
    "R_z(\\theta) = \\begin{bmatrix}e^{-i\\theta/2} & 0\\ 0 &\n",
    "e^{i\\theta/2}\\end{bmatrix}.\n",
    "$$"
   ]
  },
  {
   "cell_type": "markdown",
   "id": "05c9d014",
   "metadata": {
    "editable": true
   },
   "source": [
    "The $R_y$ matrix is similarly"
   ]
  },
  {
   "cell_type": "markdown",
   "id": "04de1472",
   "metadata": {
    "editable": true
   },
   "source": [
    "$$\n",
    "\\begin{bmatrix}\\cos(\\theta/2) & -\\sin(\\theta/2)\\\\ \\sin(\\theta/2) &\n",
    "\\cos(\\theta/2)\\end{bmatrix}.\n",
    "$$"
   ]
  },
  {
   "cell_type": "markdown",
   "id": "fa253ba8",
   "metadata": {
    "editable": true
   },
   "source": [
    "Finally, the identity gate $I$ (doing nothing) is\n",
    "also provided for completeness."
   ]
  },
  {
   "cell_type": "markdown",
   "id": "80180247",
   "metadata": {
    "editable": true
   },
   "source": [
    "## Our first class\n",
    "\n",
    "Below is the implementation of a Qubit class (for labeling qubits) and\n",
    "a base Gate class with subclasses for each one-qubit gate. Each gate\n",
    "class stores its $2\\times 2$ unitary matrix and the target qubit it\n",
    "acts on. We use NumPy to represent matrices and will apply them to\n",
    "state vectors later. (Note: We allow specifying the target as either a\n",
    "Qubit object or an integer index for convenience.)"
   ]
  },
  {
   "cell_type": "code",
   "execution_count": 1,
   "id": "f5fc1d77",
   "metadata": {
    "collapsed": false,
    "editable": true
   },
   "outputs": [],
   "source": [
    "%matplotlib inline\n",
    "\n",
    "import numpy as np\n",
    "import matplotlib.pyplot as plt\n",
    "from mpl_toolkits.mplot3d import Axes3D # Ensure this is imported if visualize_state is used\n",
    "\n",
    "class Qubit:\n",
    "    def __init__(self, index):\n",
    "        self.index = index\n",
    "\n",
    "class Gate:\n",
    "    \"\"\"Base class for quantum gates.\"\"\"\n",
    "    def __init__(self, matrix, targets):\n",
    "        self.matrix = np.array(matrix, dtype=np.complex128)\n",
    "        # Convert Qubit objects to indices if needed\n",
    "        self.targets = [(t.index if isinstance(t, Qubit) else t) for t in targets]\n",
    "        self.num_targets = len(self.targets)\n",
    "        self.name = \"CustomGate\"\n",
    "\n",
    "    def __repr__(self):\n",
    "        return f\"{self.name}(targets={self.targets})\"\n",
    "\n",
    "# One-qubit gate subclasses:\n",
    "class IGate(Gate):\n",
    "    def __init__(self, target):\n",
    "        super().__init__([[1, 0],\n",
    "                          [0, 1]], [target])\n",
    "        self.name = \"I\"\n",
    "\n",
    "class XGate(Gate):\n",
    "    def __init__(self, target):\n",
    "        super().__init__([[0, 1],\n",
    "                          [1, 0]], [target])\n",
    "        self.name = \"X\"\n",
    "\n",
    "class YGate(Gate):\n",
    "    def __init__(self, target):\n",
    "        super().__init__([[0, -1j],\n",
    "                          [1j, 0]], [target])\n",
    "        self.name = \"Y\"\n",
    "\n",
    "class ZGate(Gate):\n",
    "    def __init__(self, target):\n",
    "        super().__init__([[1, 0],\n",
    "                          [0, -1]], [target])\n",
    "        self.name = \"Z\"\n",
    "\n",
    "class HGate(Gate):\n",
    "    def __init__(self, target):\n",
    "        # Convert the list to a NumPy array before multiplication\n",
    "        hadamard_matrix = np.array([[1, 1],\n",
    "                                           [1, -1]], dtype=np.complex128)\n",
    "        scaled_matrix = (1 / np.sqrt(2)) * hadamard_matrix\n",
    "        super().__init__(scaled_matrix, [target])\n",
    "        self.name = \"H\"\n",
    "\n",
    "class SGate(Gate):\n",
    "    def __init__(self, target):\n",
    "        super().__init__([[1, 0],\n",
    "                          [0, 1j]], [target])\n",
    "        self.name = \"S\"\n",
    "\n",
    "class TGate(Gate):\n",
    "    def __init__(self, target):\n",
    "        super().__init__([[1, 0],\n",
    "                          [0, np.exp(1j*np.pi/4)]], [target])\n",
    "        self.name = \"T\"\n",
    "\n",
    "class RXGate(Gate):\n",
    "    def __init__(self, target, theta):\n",
    "        matrix = [[np.cos(theta/2), -1j*np.sin(theta/2)],\n",
    "                  [-1j*np.sin(theta/2), np.cos(theta/2)]]\n",
    "        super().__init__(matrix, [target])\n",
    "        self.name = f\"R_x({theta})\"\n",
    "\n",
    "class RYGate(Gate):\n",
    "    def __init__(self, target, theta):\n",
    "        matrix = [[np.cos(theta/2), -np.sin(theta/2)],\n",
    "                  [np.sin(theta/2),  np.cos(theta/2)]]\n",
    "        super().__init__(matrix, [target])\n",
    "        self.name = f\"R_y({theta})\"\n",
    "\n",
    "class RZGate(Gate):\n",
    "    def __init__(self, target, theta):\n",
    "        matrix = [[np.exp(-1j*theta/2), 0],\n",
    "                  [0, np.exp(1j*theta/2)]]\n",
    "        super().__init__(matrix, [target])\n",
    "        self.name = f\"R_z({theta})\""
   ]
  },
  {
   "cell_type": "markdown",
   "id": "be2505e5",
   "metadata": {
    "editable": true
   },
   "source": [
    "## Two-Qubit Gates\n",
    "\n",
    "The two-qubit gates act on a $4$-dimensional joint state space of two\n",
    "qubits (basis $\\{\\vert 00\\rangle,\\vert 01\\rangle,\\vert 10\\rangle,\\vert 11\\rangle\\}$). The\n",
    "most important two-qubit gate is the Controlled-NOT (CNOT), which\n",
    "flips a target qubit if and only if the control qubit is $|1\\rangle$\n",
    ". In matrix form (with control as the first qubit and target as\n",
    "second), CNOT is:"
   ]
  },
  {
   "cell_type": "markdown",
   "id": "6ec5d61f",
   "metadata": {
    "editable": true
   },
   "source": [
    "$$\n",
    "\\text{CNOT} = \\begin{bmatrix}\n",
    "1 & 0 & 0 & 0\\\\\n",
    "0 & 1 & 0 & 0\\\\\n",
    "0 & 0 & 0 & 1\\\\\n",
    "0 & 0 & 1 & 0\n",
    "\\end{bmatrix},\n",
    "$$"
   ]
  },
  {
   "cell_type": "markdown",
   "id": "f8871141",
   "metadata": {
    "editable": true
   },
   "source": [
    "which swaps the amplitudes of $|10\\rangle$ and $|11\\rangle$ (flipping\n",
    "the target when the control is 1) . Another common entangler is\n",
    "Controlled-Z (CZ), which applies a $Z$ phase flip to the target qubit\n",
    "when the control is 1. Its matrix is diagonal\n",
    "$\\mathrm{diag}(1,1,1,-1)$ in the\n",
    "$\\{\\vert 00\\rangle,\\vert 01\\rangle,\\vert 10\\rangle,\\vert 11\\rangle\\}$ basis , giving a -1\n",
    "phase to $|11\\rangle$ (and leaving the other basis states\n",
    "unchanged). We also implement the SWAP gate, which swaps the states of\n",
    "two qubits. In basis form, SWAP sends $|a,b\\rangle$ to $|b,a\\rangle$;\n",
    "its matrix is"
   ]
  },
  {
   "cell_type": "markdown",
   "id": "bbf444a7",
   "metadata": {
    "editable": true
   },
   "source": [
    "$$\n",
    "\\text{SWAP} = \\begin{bmatrix} 1 & 0 & 0 & 0\\\\ 0 & 0 & 1 & 0\\\\ 0 & 1 & 0 & 0\\\\ 0 & 0 & 0 & 1 \\end{bmatrix},\n",
    "$$"
   ]
  },
  {
   "cell_type": "markdown",
   "id": "c1dd4ef1",
   "metadata": {
    "editable": true
   },
   "source": [
    "which indeed swaps $|01\\rangle$ and $|10\\rangle$ . Beyond these, the\n",
    "simulator can apply any general two-qubit unitary: we provide a\n",
    "generic **TwoQubitGate** class that takes a $4\\times4$ unitary matrix and\n",
    "two target qubit indices.\n",
    "\n",
    "This allows simulation of custom gates or\n",
    "ones like $\\sqrt{\\text{SWAP}}$ or $i\\text{SWAP}$ by specifying their\n",
    "matrices , if desired."
   ]
  },
  {
   "cell_type": "markdown",
   "id": "e473445c",
   "metadata": {
    "editable": true
   },
   "source": [
    "## Code for two-qubit gates\n",
    "\n",
    "Below is the code for two-qubit gate classes (CNOTGate, CZGate,\n",
    "SWAPGate and a general TwoQubitGate), followed by the core Circuit\n",
    "class. Each gate class defines the appropriate $4\\times4$ matrix. The\n",
    "Circuit class encapsulates a list of qubits and gates, along with the\n",
    "current state vector of the system. By default, the circuit’s qubits\n",
    "start in the state $|00\\cdots0\\rangle$ (represented as a state vector\n",
    "with 1 at index 0 and 0 elsewhere). The Circuit.add_gate() method\n",
    "appends gates to the circuit, and Circuit.run() applies them in\n",
    "sequence to evolve the quantum state.\n",
    "\n",
    "In order to study the state evolution, we apply a gate to the full state vector, we perform\n",
    "matrix operations on the state.\n",
    "\n",
    "For example, applying a one-qubit gate\n",
    "$U$ on qubit $j$ in an $n$-qubit state corresponds to the operation $I\n",
    "\\otimes \\cdots \\otimes U_j \\otimes \\cdots \\otimes I$ on the combined\n",
    "Hilbert space , effectively inserting $U$ on the $j$th qubit’s\n",
    "subspace and identity on the others. We implement this by manipulating\n",
    "the state vector indices. Similarly, a two-qubit gate on qubits\n",
    "$(p,q)$ is applied as $I \\otimes \\cdots \\otimes U_{(p,q)} \\otimes\n",
    "\\cdots \\otimes I$. The code efficiently updates the state vector\n",
    "without constructing the full $2^n \\times 2^n$ matrix explicitly: it\n",
    "groups amplitudes into pairs (for one-qubit gates) or quadruples (for\n",
    "two-qubit gates) corresponding to the basis states of the target\n",
    "qubits, and then multiplies by the gate matrix. All matrix\n",
    "multiplications use NumPy for performance. After running the circuit,\n",
    "**Circuit.state** holds the final state vector, and we provide helper\n",
    "methods to retrieve the state or the probability of each basis state."
   ]
  },
  {
   "cell_type": "markdown",
   "id": "74f28522",
   "metadata": {
    "editable": true
   },
   "source": [
    "## Two-qubit gate subclasses:"
   ]
  },
  {
   "cell_type": "code",
   "execution_count": 2,
   "id": "0bd445b5",
   "metadata": {
    "collapsed": false,
    "editable": true
   },
   "outputs": [],
   "source": [
    "\n",
    "# Two-qubit gate subclasses:\n",
    "class CNOTGate(Gate):\n",
    "    \"\"\"Controlled-NOT gate: flips target if control is 1.\"\"\"\n",
    "    def __init__(self, control, target):\n",
    "        matrix = [[1, 0, 0, 0],\n",
    "                  [0, 1, 0, 0],\n",
    "                  [0, 0, 0, 1],\n",
    "                  [0, 0, 1, 0]]\n",
    "        super().__init__(matrix, [control, target])\n",
    "        self.name = \"CNOT\"\n",
    "\n",
    "class CZGate(Gate):\n",
    "    \"\"\"Controlled-Z gate: phase flip on |11>.\"\"\"\n",
    "    def __init__(self, control, target):\n",
    "        matrix = [[1, 0, 0, 0],\n",
    "                  [0, 1, 0, 0],\n",
    "                  [0, 0, 1, 0],\n",
    "                  [0, 0, 0, -1]]\n",
    "        super().__init__(matrix, [control, target])\n",
    "        self.name = \"CZ\"\n",
    "\n",
    "class SWAPGate(Gate):\n",
    "    \"\"\"SWAP gate: exchange two qubit states.\"\"\"\n",
    "    def __init__(self, qubit1, qubit2):\n",
    "        matrix = [[1, 0, 0, 0],\n",
    "                  [0, 0, 1, 0],\n",
    "                  [0, 1, 0, 0],\n",
    "                  [0, 0, 0, 1]]\n",
    "        super().__init__(matrix, [qubit1, qubit2])\n",
    "        self.name = \"SWAP\"\n",
    "\n",
    "class TwoQubitGate(Gate):\n",
    "    \"\"\"Generic two-qubit gate defined by a 4x4 unitary matrix.\"\"\"\n",
    "    def __init__(self, matrix, qubit1, qubit2):\n",
    "        super().__init__(matrix, [qubit1, qubit2])\n",
    "        self.name = \"Custom2QGate\"\n",
    "\n",
    "class Circuit:\n",
    "    def __init__(self, num_qubits):\n",
    "        # Initialize qubits and state vector |00...0>\n",
    "        self.qubits = [Qubit(i) for i in range(num_qubits)]\n",
    "        self.num_qubits = num_qubits\n",
    "        self.state = np.zeros(2**num_qubits, dtype=np.complex128)\n",
    "        self.state[0] = 1.0  # start in |0...0>\n",
    "        self.gates = []\n",
    "\n",
    "    def add_gate(self, gate):\n",
    "        # Ensure gate targets are valid for this circuit\n",
    "        for t in gate.targets:\n",
    "            if t < 0 or t >= self.num_qubits:\n",
    "                raise ValueError(f\"Qubit index {t} out of range for {self.num_qubits} qubits.\")\n",
    "        self.gates.append(gate)\n",
    "\n",
    "    def apply_gate(self, gate):\n",
    "        \"\"\"Apply a single gate's unitary to the current state vector.\"\"\"\n",
    "        if gate.num_targets == 1:\n",
    "            # One-qubit gate\n",
    "            target = gate.targets[0]\n",
    "            n = self.num_qubits\n",
    "            # Calculate indices for pairs (target_qubit=0, target_qubit=1)\n",
    "            diff = 2 ** (n - 1 - target)\n",
    "            step = diff * 2\n",
    "            new_state = self.state.copy()\n",
    "\n",
    "            # Iterate over pairs of amplitudes where target qubit is 0 vs 1\n",
    "            # This loop structure correctly handles applying a single-qubit gate\n",
    "            # across the larger state space.\n",
    "            for i in range(0, len(self.state), step):\n",
    "                for j in range(diff):\n",
    "                    idx0 = i + j             # index where target qubit is 0\n",
    "                    idx1 = idx0 + diff       # index where target qubit is 1\n",
    "                    a0, a1 = self.state[idx0], self.state[idx1]\n",
    "\n",
    "                    # Apply 2x2 matrix U to [a0, a1]\n",
    "                    new_state[idx0] = gate.matrix[0][0]*a0 + gate.matrix[0][1]*a1\n",
    "                    new_state[idx1] = gate.matrix[1][0]*a0 + gate.matrix[1][1]*a1\n",
    "            self.state = new_state\n",
    "\n",
    "        elif gate.num_targets == 2:\n",
    "            # Two-qubit gate\n",
    "            p, q = gate.targets  # the two qubit indices\n",
    "            n = self.num_qubits\n",
    "            # Ensure p is the control and q is the target for CNOT/CZ logic if needed,\n",
    "            # but for a generic 4x4 matrix application, the order in self.targets matters.\n",
    "            # The matrix is assumed to act on qubits p and q in that order.\n",
    "\n",
    "            # Determine the positions of the qubits in the state vector indexing\n",
    "            # Indexing is typically big-endian (most significant bit first).\n",
    "            # If qubit 0 is the left-most bit, its mask is 2^(n-1), qubit 1 is 2^(n-2), etc.\n",
    "            mask_p = 2 ** (n - 1 - p)\n",
    "            mask_q = 2 ** (n - 1 - q)\n",
    "\n",
    "            new_state = self.state.copy()\n",
    "\n",
    "            # Iterate through all possible lower bits combinations (excluding p and q)\n",
    "            # A more efficient way is to iterate directly through the 2x2 sub-blocks\n",
    "            # but this index-based approach is conceptually clearer for the 4x4 application.\n",
    "            # We can iterate over all indices and only process those where the bits\n",
    "            # corresponding to p and q are both 0 in the 'base' index.\n",
    "            for base in range(len(self.state)):\n",
    "                # Check if the p-th and q-th bits are both 0 in the current index `base`.\n",
    "                # This finds the starting index of each 4x4 block in the state vector.\n",
    "                if (base & mask_p) != 0 or (base & mask_q) != 0:\n",
    "                    continue # Skip if this is not a 'base' index (where p and q bits are 0)\n",
    "\n",
    "                # Construct the four indices corresponding to the basis states |p_bit q_bit⟩\n",
    "                # based on the masks. These must correspond to the order expected by the 4x4 matrix.\n",
    "                # The standard order is |00>, |01>, |10>, |11>.\n",
    "                # Assuming the gate matrix is ordered for (qubit p, qubit q):\n",
    "                # |00> corresponds to index `base`\n",
    "                # |01> corresponds to index where p bit is 0 and q bit is 1\n",
    "                # |10> corresponds to index where p bit is 1 and q bit is 0\n",
    "                # |11> corresponds to index where p bit is 1 and q bit is 1\n",
    "                # The indices are constructed by adding the masks.\n",
    "                idx00 = base\n",
    "                idx01 = base + mask_q\n",
    "                idx10 = base + mask_p\n",
    "                idx11 = base + mask_p + mask_q\n",
    "\n",
    "                # Get current amplitudes for these four basis states\n",
    "                a00, a01, a10, a11 = self.state[idx00], self.state[idx01], self.state[idx10], self.state[idx11]\n",
    "\n",
    "                # Apply the 4x4 gate matrix to the vector of these four amplitudes\n",
    "                result = gate.matrix @ np.array([a00, a01, a10, a11], dtype=np.complex128)\n",
    "\n",
    "                # Update the new state vector with the transformed amplitudes\n",
    "                new_state[idx00], new_state[idx01], new_state[idx10], new_state[idx11] = result[0], result[1], result[2], result[3]\n",
    "\n",
    "            self.state = new_state\n",
    "\n",
    "        else:\n",
    "            raise ValueError(\"Gate with unsupported number of targets.\")\n",
    "\n",
    "\n",
    "    def run(self):\n",
    "        \"\"\"Apply all gates in sequence to evolve the quantum state.\"\"\"\n",
    "        for gate in self.gates:\n",
    "            self.apply_gate(gate)\n",
    "        return self.state\n",
    "\n",
    "    def reset(self):\n",
    "        \"\"\"Reset the circuit state back to |00...0⟩.\"\"\"\n",
    "        self.state[:] = 0\n",
    "        self.state[0] = 1.0\n",
    "\n",
    "    def get_statevector(self):\n",
    "        return self.state.copy()\n",
    "\n",
    "    def get_probabilities(self):\n",
    "        \"\"\"Return a list of probabilities for each computational basis state.\"\"\"\n",
    "        return np.abs(self.state)**2\n",
    "\n",
    "    def visualize_state(self):\n",
    "        \"\"\"Basic visualization of the current state: Bloch sphere for 1 qubit, or probabilities for multiple qubits.\"\"\"\n",
    "        if self.num_qubits == 1:\n",
    "            # Bloch sphere visualization for single qubit state\n",
    "            alpha = self.state[0]\n",
    "            beta = self.state[1] if len(self.state) > 1 else 0 # Should always be len 2 for 1 qubit\n",
    "\n",
    "            # Ensure the state is normalized for Bloch sphere calculation\n",
    "            norm = np.sqrt(np.abs(alpha)**2 + np.abs(beta)**2)\n",
    "            if norm > 1e-9: # Avoid division by zero or very small numbers\n",
    "                alpha /= norm\n",
    "                beta /= norm\n",
    "            else:\n",
    "                 # Handle the case of a zero state vector (shouldn't happen in unitary evolution)\n",
    "                 # Or just plot at the origin if the state is somehow zero\n",
    "                 x, y, z = 0, 0, 0\n",
    "\n",
    "\n",
    "            # Compute Bloch sphere coordinates (x,y,z) from state α|0> + β|1>\n",
    "            # x = Tr(rho * sigma_x) where rho = |psi><psi| and sigma_x is Pauli X\n",
    "            # For psi = alpha|0> + beta|1>, rho = |alpha|^2 |0><0| + alpha*conj(beta)|0><1| + conj(alpha)*beta|1><0| + |beta|^2|1><1|\n",
    "            # sigma_x = |0><1| + |1><0|\n",
    "            # Tr(rho * sigma_x) = alpha*conj(beta) * Tr(|0><1|*|0><1|) + alpha*conj(beta) * Tr(|0><1|*|1><0|) + ...\n",
    "            # Tr(|a><b|*|c><d|) = <b|c><d|a>\n",
    "            # Tr(|0><1|*|1><0|) = <1|1><0|0> = 1*1 = 1\n",
    "            # Tr(|1><0|*|0><1|) = <0|0><1|1> = 1*1 = 1\n",
    "            # Tr(|0><1|*|0><1|) = <1|0><1|0> = 0\n",
    "            # Tr(|1><0|*|1><0|) = <0|1><0|1> = 0\n",
    "            # x = alpha*conj(beta) + conj(alpha)*beta = 2 * real(alpha * conj(beta))\n",
    "            # Similarly:\n",
    "            # y = Tr(rho * sigma_y) = alpha*conj(beta)*(-i) + conj(alpha)*beta*(i) = -i(alpha*conj(beta) - conj(alpha)*beta) = 2 * imag(alpha * conj(beta))\n",
    "            # z = Tr(rho * sigma_z) = |alpha|^2 * 1 + |beta|^2 * (-1) = |alpha|^2 - |beta|^2\n",
    "\n",
    "            x = 2 * np.real(alpha * np.conj(beta))\n",
    "            y = 2 * np.imag(alpha * np.conj(beta))\n",
    "            z = np.abs(alpha)**2 - np.abs(beta)**2\n",
    "\n",
    "            # Plot a 3D Bloch sphere with the state vector\n",
    "            fig = plt.figure(figsize=(5,5))\n",
    "            ax = fig.add_subplot(111, projection='3d')\n",
    "\n",
    "            # Draw sphere wireframe\n",
    "            u = np.linspace(0, 2*np.pi, 36)\n",
    "            v = np.linspace(0, np.pi, 18)\n",
    "            xs = np.outer(np.cos(u), np.sin(v))\n",
    "            ys = np.outer(np.sin(u), np.sin(v))\n",
    "            zs = np.outer(np.ones_like(u), np.cos(v))\n",
    "            ax.plot_wireframe(xs, ys, zs, color='gray', alpha=0.3)\n",
    "\n",
    "            # Draw coordinate axes (Scaled slightly for better visualization)\n",
    "            ax.quiver(0,0,0, 1.2,0,0, color='red', arrow_length_ratio=0.05) # X-axis\n",
    "            ax.quiver(0,0,0, 0,1.2,0, color='green', arrow_length_ratio=0.05) # Y-axis\n",
    "            ax.quiver(0,0,0, 0,0,1.2, color='blue', arrow_length_ratio=0.05) # Z-axis\n",
    "            ax.text(1.3, 0, 0, 'X', color='red', fontsize=12)\n",
    "            ax.text(0, 1.3, 0, 'Y', color='green', fontsize=12)\n",
    "            ax.text(0, 0, 1.3, 'Z', color='blue', fontsize=12)\n",
    "\n",
    "\n",
    "            # Plot state vector as an arrow\n",
    "            ax.quiver(0,0,0, x, y, z, color='purple', arrow_length_ratio=0.15, linewidth=2)\n",
    "\n",
    "            # Set plot limits and aspect ratio\n",
    "            ax.set_xlim([-1.2, 1.2])\n",
    "            ax.set_ylim([-1.2, 1.2])\n",
    "            ax.set_zlim([-1.2, 1.2])\n",
    "            ax.set_box_aspect([1,1,1]) # Equal aspect ratio for x, y, z\n",
    "\n",
    "            plt.axis('off') # Hide axes labels and ticks\n",
    "            ax.set_title('Bloch Sphere Representation')\n",
    "\n",
    "            return fig\n",
    "\n",
    "        else:\n",
    "            # Bar chart of outcome probabilities for multi-qubit state\n",
    "            probs = self.get_probabilities()\n",
    "            fig = plt.figure(figsize=(8,5)) # Slightly larger figure\n",
    "            ax = fig.add_subplot(111)\n",
    "\n",
    "            num_states = len(probs)\n",
    "            # Generate labels for the x-axis (binary strings)\n",
    "            labels = [format(i, f'0{self.num_qubits}b') for i in range(num_states)]\n",
    "\n",
    "            # Use np.arange for positions and labels for ticks\n",
    "            x_positions = np.arange(num_states)\n",
    "            ax.bar(x_positions, probs, color='teal', width=0.8) # Adjust width if needed\n",
    "\n",
    "            ax.set_xticks(x_positions)\n",
    "            ax.set_xticklabels(labels, rotation=45, ha='right') # Rotate labels for readability\n",
    "\n",
    "            ax.set_xlabel('Basis state'); ax.set_ylabel('Probability')\n",
    "            ax.set_title('State probabilities')\n",
    "            plt.tight_layout() # Adjust layout to prevent labels overlapping\n",
    "            return fig"
   ]
  },
  {
   "cell_type": "markdown",
   "id": "33950b54",
   "metadata": {
    "editable": true
   },
   "source": [
    "## Example Usage and Visualization\n",
    "\n",
    "To demonstrate the simulator, we construct two example circuits: one\n",
    "single-qubit circuit and one two-qubit circuit. We then run the\n",
    "circuits and visualize the results."
   ]
  },
  {
   "cell_type": "markdown",
   "id": "d4d881e4",
   "metadata": {
    "editable": true
   },
   "source": [
    "## Single-Qubit Circuit Example\n",
    "\n",
    "For the single-qubit example, we apply a Hadamard gate to an initial\n",
    "$|0\\rangle$ state. This should create the state"
   ]
  },
  {
   "cell_type": "markdown",
   "id": "8ac25f65",
   "metadata": {
    "editable": true
   },
   "source": [
    "$$\n",
    "\\frac{|0\\rangle +|1\\rangle}{\\sqrt{2}},\n",
    "$$"
   ]
  },
  {
   "cell_type": "markdown",
   "id": "3b0fdc3d",
   "metadata": {
    "editable": true
   },
   "source": [
    "which is, as already metnioned,  called $|+\\rangle$ a\n",
    "superposition along the $x$-axis of the Bloch sphere.\n",
    "\n",
    "After running\n",
    "the circuit, the state vector is approximately $[0.707+0j,;0.707+0j]$,\n",
    "meaning equal amplitude (and probability 0.5 each) for $|0\\rangle$ and\n",
    "$|1\\rangle$. We visualize this state on the Bloch sphere.\n",
    "\n",
    "The figure we produce shows \n",
    "the Bloch sphere representation of the single-qubit state after applying a\n",
    "Hadamard gate. The state vector (shown in purple) points along the\n",
    "positive $X$-axis, corresponding to the superposition $\\frac{|0\\rangle\n",
    "+ |1\\rangle}{\\sqrt{2}}$ (often denoted $|+\\rangle$). On the Bloch\n",
    "sphere, the north pole represents $|0\\rangle$ (pointing along +Z) and\n",
    "the south pole $|1\\rangle$ (–Z). Here the state lies on the equator at\n",
    "+X, as expected for $|+\\rangle$. The simulator computed Bloch\n",
    "coordinates $(x,y,z) \\approx (1,0,0)$ for this state, indicating an\n",
    "$X$-axis alignment (and zero $Y$ or $Z$ components)."
   ]
  },
  {
   "cell_type": "code",
   "execution_count": 3,
   "id": "faf503c0",
   "metadata": {
    "collapsed": false,
    "editable": true
   },
   "outputs": [],
   "source": [
    "# Single-qubit circuit: start in |0>, apply H gate\n",
    "\n",
    "circuit1 = Circuit(1)\n",
    "\n",
    "circuit1.add_gate(HGate(0))\n",
    "\n",
    "circuit1.run()\n",
    "\n",
    "print(\"Final state vector:\", circuit1.get_statevector())\n",
    "\n",
    "# Visualize on Bloch sphere\n",
    "\n",
    "circuit1.visualize_state()"
   ]
  },
  {
   "cell_type": "markdown",
   "id": "ef728f02",
   "metadata": {
    "editable": true
   },
   "source": [
    "## Two-Qubit Circuit Example\n",
    "\n",
    "For the two-qubit example, we create an entangled Bell state. We start\n",
    "with two qubits in $|00\\rangle$. Then we apply a Hadamard on the first\n",
    "qubit (creating $(|0\\rangle+|1\\rangle)/\\sqrt{2}$ on the first qubit)\n",
    "followed by a CNOT with the first qubit as control and second as\n",
    "target. This sequence produces the Bell state\n",
    "$\\frac{|00\\rangle + |11\\rangle}{\\sqrt{2}}$ . The final state vector is approximately\n",
    "$[0.707+0j,;0,;0,;0.707+0j]$, meaning the system is in an equal\n",
    "superposition of $|00\\rangle$ and $|11\\rangle$ (with 50% probability\n",
    "each) and zero amplitude for $|01\\rangle$ or $|10\\rangle$. We\n",
    "visualize the result by plotting the probabilities of each basis\n",
    "state.\n",
    "\n",
    "The figure we produces shows the probability distribution of the two-qubit state after creating a Bell\n",
    "state. The bars show the probabilities of each computational basis\n",
    "state $|00\\rangle,|01\\rangle,|10\\rangle,|11\\rangle$. Only $|00\\rangle$\n",
    "and $|11\\rangle$ have nonzero probability (each 0.5), confirming that\n",
    "the final state is $\\frac{|00\\rangle + |11\\rangle}{\\sqrt{2}}$. This is\n",
    "an entangled state – measuring one qubit will immediately determine\n",
    "the other, a hallmark of two-qubit entanglement . The simulator\n",
    "successfully reproduces this state by applying a Hadamard and CNOT in\n",
    "sequence."
   ]
  },
  {
   "cell_type": "code",
   "execution_count": 4,
   "id": "e55fb164",
   "metadata": {
    "collapsed": false,
    "editable": true
   },
   "outputs": [],
   "source": [
    "# Two-qubit circuit: create a Bell state (|00> + |11>)/√2\n",
    "\n",
    "circuit2 = Circuit(2)\n",
    "\n",
    "circuit2.add_gate(HGate(0))       # Hadamard on qubit 0\n",
    "\n",
    "circuit2.add_gate(CNOTGate(0, 1)) # CNOT with control 0, target 1\n",
    "\n",
    "circuit2.run()\n",
    "\n",
    "print(\"Final state vector:\", circuit2.get_statevector())\n",
    "\n",
    "# Visualize probabilities of each basis state\n",
    "\n",
    "circuit2.visualize_state()"
   ]
  },
  {
   "cell_type": "markdown",
   "id": "36e4edfa",
   "metadata": {
    "editable": true
   },
   "source": [
    "## Short summary\n",
    "\n",
    "These examples show that our simulator correctly evolves quantum\n",
    "states under the defined gates. The object-oriented design (with\n",
    "Circuit, Gate, and Qubit classes) makes it easy to build a quantum\n",
    "circuit gate-by-gate and then simulate it. All operations use standard\n",
    "linear algebra via NumPy – for instance, the CNOT gate’s action on a\n",
    "2-qubit state is implemented by grouping amplitudes and applying the\n",
    "$4\\times4$ matrix . The visualization functions provide an intuitive\n",
    "understanding of the results: a single qubit’s state is shown on the\n",
    "Bloch sphere (a unit sphere where any pure state corresponds to a\n",
    "point on the surface ), while multi-qubit states can be partially\n",
    "understood by their probability distribution over basis states. This\n",
    "simulator can be extended with more gates or used as a foundation for\n",
    "experimenting with small quantum algorithms, all without any\n",
    "specialized quantum computing library. The fidelity of results matches\n",
    "what we expect from theoretical calculations of these quantum\n",
    "circuits, demonstrating the correctness of the implementation."
   ]
  },
  {
   "cell_type": "markdown",
   "id": "1252f644",
   "metadata": {
    "editable": true
   },
   "source": [
    "## A refined code"
   ]
  },
  {
   "cell_type": "code",
   "execution_count": 5,
   "id": "da4293fc",
   "metadata": {
    "collapsed": false,
    "editable": true
   },
   "outputs": [],
   "source": [
    "\n",
    "import numpy as np\n",
    "import random\n",
    "import matplotlib.pyplot as plt\n",
    "from collections import Counter\n",
    "from mpl_toolkits.mplot3d import Axes3D # Ensure this is imported\n",
    "\n",
    "# =============================== #\n",
    "#       Quantum Gate Classes      #\n",
    "# =============================== #\n",
    "\n",
    "class Gate:\n",
    "    def __init__(self, matrix, targets):\n",
    "        self.matrix = np.array(matrix, dtype=np.complex128)\n",
    "        # Convert Qubit objects (if any) to indices\n",
    "        self.targets = [(t.index if isinstance(t, Qubit) else t) for t in targets]\n",
    "        self.num_targets = len(self.targets)\n",
    "        self.name = \"CustomGate\"\n",
    "\n",
    "class OneQubitGate(Gate):\n",
    "    def __init__(self, matrix, target):\n",
    "        super().__init__(matrix, [target])\n",
    "        # Add name attribute in subclasses if needed for representation\n",
    "        if np.array_equal(matrix, np.eye(2)): self.name = \"I\"\n",
    "        elif np.array_equal(matrix, np.array([[0,1],[1,0]])): self.name = \"X\"\n",
    "        elif np.array_equal(matrix, np.array([[0,-1j],[1j,0]])): self.name = \"Y\"\n",
    "        elif np.array_equal(matrix, np.array([[1,0],[0,-1]])): self.name = \"Z\"\n",
    "        elif np.allclose(matrix, (1/np.sqrt(2))*np.array([[1,1],[1,-1]])): self.name = \"H\"\n",
    "        elif np.array_equal(matrix, np.array([[1,0],[0,1j]])): self.name = \"S\"\n",
    "        elif np.allclose(matrix, np.array([[1,0],[0,np.exp(1j*np.pi/4)]])): self.name = \"T\"\n",
    "        # Note: Naming Rx, Ry, Rz requires theta, which is not stored in the base matrix\n",
    "\n",
    "class TwoQubitGate(Gate):\n",
    "    def __init__(self, matrix, control, target):\n",
    "        super().__init__(matrix, [control, target])\n",
    "        # Add name attribute in subclasses if needed for representation\n",
    "        if np.array_equal(matrix, np.array([[1,0,0,0],[0,1,0,0],[0,0,0,1],[0,0,1,0]])): self.name = \"CNOT\"\n",
    "        elif np.array_equal(matrix, np.array([[1,0,0,0],[0,1,0,0],[0,0,1,0],[0,0,0,-1]])): self.name = \"CZ\"\n",
    "        elif np.array_equal(matrix, np.array([[1,0,0,0],[0,0,1,0],[0,1,0,0],[0,0,0,1]])): self.name = \"SWAP\"\n",
    "\n",
    "\n",
    "# One-qubit standard gate matrices\n",
    "def I():  return np.eye(2)\n",
    "def X():  return np.array([[0,1],[1,0]])\n",
    "def Y():  return np.array([[0,-1j],[1j,0]])\n",
    "def Z():  return np.array([[1,0],[0,-1]])\n",
    "def H():  return (1/np.sqrt(2))*np.array([[1,1],[1,-1]])\n",
    "def S():  return np.array([[1,0],[0,1j]])\n",
    "def T():  return np.array([[1,0],[0,np.exp(1j*np.pi/4)]])\n",
    "\n",
    "def Rx(theta):\n",
    "    return np.array([\n",
    "        [np.cos(theta/2), -1j*np.sin(theta/2)],\n",
    "        [-1j*np.sin(theta/2), np.cos(theta/2)]\n",
    "    ])\n",
    "\n",
    "def Ry(theta):\n",
    "    return np.array([\n",
    "        [np.cos(theta/2), -np.sin(theta/2)],\n",
    "        [np.sin(theta/2),  np.cos(theta/2)]\n",
    "    ])\n",
    "\n",
    "def Rz(theta):\n",
    "    return np.array([\n",
    "        [np.exp(-1j*theta/2), 0],\n",
    "        [0, np.exp(1j*theta/2)]\n",
    "    ])\n",
    "\n",
    "# Two-qubit gate matrices\n",
    "def CNOT_matrix(): # Renamed to avoid conflict if CNOTGate is a class\n",
    "    return np.array([\n",
    "        [1,0,0,0],\n",
    "        [0,1,0,0],\n",
    "        [0,0,0,1],\n",
    "        [0,0,1,0]\n",
    "    ])\n",
    "\n",
    "def CZ_matrix(): # Renamed\n",
    "    return np.array([\n",
    "        [1,0,0,0],\n",
    "        [0,1,0,0],\n",
    "        [0,0,1,0],\n",
    "        [0,0,0,-1]\n",
    "    ])\n",
    "\n",
    "def SWAP_matrix(): # Renamed\n",
    "    return np.array([\n",
    "        [1,0,0,0],\n",
    "        [0,0,1,0],\n",
    "        [0,1,0,0],\n",
    "        [0,0,0,1]\n",
    "    ])\n",
    "\n",
    "# Helper class for Qubit (optional, but consistent with file 1)\n",
    "class Qubit:\n",
    "    def __init__(self, index):\n",
    "        self.index = index\n",
    "\n",
    "\n",
    "# =============================== #\n",
    "#      Quantum Circuit Class      #\n",
    "# =============================== #\n",
    "\n",
    "class Circuit:\n",
    "    def __init__(self, num_qubits):\n",
    "        self.n = num_qubits\n",
    "        self.qubits = [Qubit(i) for i in range(num_qubits)] # Added for consistency\n",
    "        self.reset()\n",
    "\n",
    "    def reset(self):\n",
    "        self.state = np.zeros(2**self.n, dtype=np.complex128)\n",
    "        self.state[0] = 1.0\n",
    "        self.gates = []\n",
    "\n",
    "    def add_gate(self, gate):\n",
    "        # Ensure gate targets are valid for this circuit\n",
    "        for t in gate.targets:\n",
    "            if t < 0 or t >= self.n: # Use self.n for consistency\n",
    "                raise ValueError(f\"Qubit index {t} out of range for {self.n} qubits.\")\n",
    "        self.gates.append(gate)\n",
    "\n",
    "    def run(self):\n",
    "        for gate in self.gates:\n",
    "            self.apply_gate(gate)\n",
    "        # No return needed here, state is updated internally\n",
    "\n",
    "    def apply_gate(self, gate):\n",
    "        \"\"\"Apply a single gate's unitary to the current state vector.\"\"\"\n",
    "        if gate.num_targets == 1:\n",
    "            # One-qubit gate\n",
    "            target = gate.targets[0]\n",
    "            n = self.n\n",
    "            # Calculate indices for pairs (target_qubit=0, target_qubit=1)\n",
    "            diff = 2 ** (n - 1 - target)\n",
    "            step = diff * 2\n",
    "            new_state = self.state.copy()\n",
    "\n",
    "            # Iterate over pairs of amplitudes where target qubit is 0 vs 1\n",
    "            # This loop structure correctly handles applying a single-qubit gate\n",
    "            # across the larger state space.\n",
    "            for i in range(0, len(self.state), step):\n",
    "                for j in range(diff):\n",
    "                    idx0 = i + j             # index where target qubit is 0\n",
    "                    idx1 = idx0 + diff       # index where target qubit is 1\n",
    "                    a0, a1 = self.state[idx0], self.state[idx1]\n",
    "\n",
    "                    # Apply 2x2 matrix U to [a0, a1]\n",
    "                    new_state[idx0] = gate.matrix[0][0]*a0 + gate.matrix[0][1]*a1\n",
    "                    new_state[idx1] = gate.matrix[1][0]*a0 + gate.matrix[1][1]*a1\n",
    "            self.state = new_state\n",
    "\n",
    "        elif gate.num_targets == 2:\n",
    "            # Two-qubit gate\n",
    "            p, q = gate.targets  # the two qubit indices\n",
    "            n = self.n\n",
    "\n",
    "            # Determine the positions of the qubits in the state vector indexing\n",
    "            # Indexing is typically big-endian (most significant bit first).\n",
    "            # If qubit 0 is the left-most bit, its mask is 2^(n-1), qubit 1 is 2^(n-2), etc.\n",
    "            mask_p = 2 ** (n - 1 - p)\n",
    "            mask_q = 2 ** (n - 1 - q)\n",
    "\n",
    "            new_state = self.state.copy()\n",
    "\n",
    "            # Iterate through all possible lower bits combinations (excluding p and q)\n",
    "            # A more efficient way is to iterate directly through the 2x2 sub-blocks\n",
    "            # but this index-based approach is conceptually clearer for the 4x4 application.\n",
    "            # We can iterate over all indices and only process those where the bits\n",
    "            # corresponding to p and q are both 0 in the 'base' index.\n",
    "            for base in range(len(self.state)):\n",
    "                # Check if the p-th and q-th bits are both 0 in the current index `base`.\n",
    "                # This finds the starting index of each 4x4 block in the state vector.\n",
    "                if (base & mask_p) != 0 or (base & mask_q) != 0:\n",
    "                    continue # Skip if this is not a 'base' index (where p and q bits are 0)\n",
    "\n",
    "                # Construct the four indices corresponding to the basis states |p_bit q_bit⟩\n",
    "                # based on the masks. These must correspond to the order expected by the 4x4 matrix.\n",
    "                # The standard order is |00>, |01>, |10>, |11>.\n",
    "                # Assuming the gate matrix is ordered for (qubit p, qubit q):\n",
    "                # |00> corresponds to index `base`\n",
    "                # |01> corresponds to index where p bit is 0 and q bit is 1\n",
    "                # |10> corresponds to index where p bit is 1 and q bit is 0\n",
    "                # |11> corresponds to index where p bit is 1 and q bit is 1\n",
    "                # The indices are constructed by adding the masks.\n",
    "                idx00 = base\n",
    "                idx01 = base + mask_q\n",
    "                idx10 = base + mask_p\n",
    "                idx11 = base + mask_p + mask_q\n",
    "\n",
    "                # Get current amplitudes for these four basis states\n",
    "                a00, a01, a10, a11 = self.state[idx00], self.state[idx01], self.state[idx10], self.state[idx11]\n",
    "\n",
    "                # Apply the 4x4 gate matrix to the vector of these four amplitudes\n",
    "                result = gate.matrix @ np.array([a00, a01, a10, a11], dtype=np.complex128)\n",
    "\n",
    "                # Update the new state vector with the transformed amplitudes\n",
    "                new_state[idx00], new_state[idx01], new_state[idx10], new_state[idx11] = result[0], result[1], result[2], result[3]\n",
    "\n",
    "            self.state = new_state\n",
    "\n",
    "        else:\n",
    "            raise ValueError(\"Gate with unsupported number of targets.\")\n",
    "\n",
    "\n",
    "    # Removed the incorrect expand_gate method\n",
    "\n",
    "    def get_statevector(self):\n",
    "        return self.state.copy() # Return a copy\n",
    "\n",
    "    def get_probabilities(self):\n",
    "        return np.abs(self.state)**2\n",
    "\n",
    "    def measure(self, shots=1024):\n",
    "        probs = self.get_probabilities()\n",
    "        basis_states = [format(i, f'0{self.n}b') for i in range(2**self.n)]\n",
    "        # Ensure probabilities sum to 1 for random.choices\n",
    "        probs_sum = np.sum(probs)\n",
    "        if probs_sum > 1e-9: # Avoid division by zero\n",
    "            normalized_probs = probs / probs_sum\n",
    "        else:\n",
    "            normalized_probs = probs # Or handle as needed, e.g., raise error or return empty counts\n",
    "\n",
    "        samples = random.choices(basis_states, weights=normalized_probs, k=shots)\n",
    "        return dict(Counter(samples))\n",
    "\n",
    "    def visualize_probabilities(self, title=\"State Probabilities\"):\n",
    "        probs = self.get_probabilities()\n",
    "        basis = [format(i, f'0{self.n}b') for i in range(2**self.n)]\n",
    "        plt.figure(figsize=(8, 5)) # Added figure size\n",
    "        plt.bar(basis, probs, color='teal')\n",
    "        plt.xlabel(\"Basis States\")\n",
    "        plt.ylabel(\"Probability\")\n",
    "        plt.title(title)\n",
    "        plt.grid(axis='y', linestyle='--', alpha=0.7) # Added grid\n",
    "        plt.show()\n",
    "\n",
    "    def visualize_state(self):\n",
    "        \"\"\"Basic visualization of the current state: Bloch sphere for 1 qubit, or probabilities for multiple qubits.\"\"\"\n",
    "        if self.n == 1: # Use self.n for consistency\n",
    "            # Bloch sphere visualization for single qubit state\n",
    "            alpha = self.state[0]\n",
    "            beta = self.state[1] if len(self.state) > 1 else 0 # Should always be len 2 for 1 qubit\n",
    "\n",
    "            # Ensure the state is normalized for Bloch sphere calculation\n",
    "            norm = np.sqrt(np.abs(alpha)**2 + np.abs(beta)**2)\n",
    "            if norm > 1e-9: # Avoid division by zero or very small numbers\n",
    "                alpha /= norm\n",
    "                beta /= norm\n",
    "            else:\n",
    "                 # Handle the case of a zero state vector (shouldn't happen in unitary evolution)\n",
    "                 # Or just plot at the origin if the state is somehow zero\n",
    "                 x, y, z = 0, 0, 0\n",
    "\n",
    "\n",
    "            # Compute Bloch sphere coordinates (x,y,z) from state α|0> + β|1>\n",
    "            x = 2 * np.real(alpha * np.conj(beta))\n",
    "            y = 2 * np.imag(alpha * np.conj(beta))\n",
    "            z = np.abs(alpha)**2 - np.abs(beta)**2\n",
    "\n",
    "            # Plot a 3D Bloch sphere with the state vector\n",
    "            fig = plt.figure(figsize=(6,6)) # Adjusted figure size\n",
    "            ax = fig.add_subplot(111, projection='3d')\n",
    "\n",
    "            # Draw sphere wireframe\n",
    "            u = np.linspace(0, 2*np.pi, 36)\n",
    "            v = np.linspace(0, np.pi, 18)\n",
    "            xs = np.outer(np.cos(u), np.sin(v))\n",
    "            ys = np.outer(np.sin(u), np.sin(v))\n",
    "            zs = np.outer(np.ones_like(u), np.cos(v))\n",
    "            ax.plot_wireframe(xs, ys, zs, color='gray', alpha=0.3)\n",
    "\n",
    "            # Draw coordinate axes (Scaled slightly for better visualization)\n",
    "            ax.quiver(0,0,0, 1.2,0,0, color='red', arrow_length_ratio=0.05) # X-axis\n",
    "            ax.quiver(0,0,0, 0,1.2,0, color='green', arrow_length_ratio=0.05) # Y-axis\n",
    "            ax.quiver(0,0,0, 0,0,1.2, color='blue', arrow_length_ratio=0.05) # Z-axis\n",
    "            ax.text(1.3, 0, 0, 'X', color='red', fontsize=12)\n",
    "            ax.text(0, 1.3, 0, 'Y', color='green', fontsize=12)\n",
    "            ax.text(0, 0, 1.3, 'Z', color='blue', fontsize=12)\n",
    "\n",
    "            # Draw state vector\n",
    "            ax.quiver(0,0,0, x, y, z, color='purple', linewidth=2, arrow_length_ratio=0.1) # Used quiver for vector\n",
    "\n",
    "            # Set plot limits and labels\n",
    "            ax.set_xlim([-1, 1])\n",
    "            ax.set_ylim([-1, 1])\n",
    "            ax.set_zlim([-1, 1])\n",
    "            ax.set_xlabel('X')\n",
    "            ax.set_ylabel('Y')\n",
    "            ax.set_zlabel('Z')\n",
    "            ax.set_title('Bloch Sphere')\n",
    "\n",
    "            # Hide grid lines\n",
    "            ax.grid(False)\n",
    "            # Set axis aspect ratio to equal\n",
    "            ax.set_box_aspect([1,1,1])\n",
    "\n",
    "            plt.show()\n",
    "\n",
    "        else:\n",
    "            # For multiple qubits, visualize probabilities\n",
    "            self.visualize_probabilities(title=\"State Probabilities (Multi-Qubit)\")\n",
    "\n",
    "\n",
    "# =============================== #\n",
    "#            Noise models         #\n",
    "# =============================== #\n",
    "\n",
    "def apply_bit_flip(state, p):\n",
    "    # This noise model application is not integrated into the Circuit class's run method.\n",
    "    # It would need to be applied *after* a gate operation to the resulting state,\n",
    "    # or the Circuit class would need a dedicated method to add noise.\n",
    "    # The current implementation modifies the state vector directly and incorrectly\n",
    "    # as bit flips should be applied to the basis states probabilistically, not\n",
    "    # by adding amplitudes.\n",
    "    # This function is likely not working as intended for simulating noise.\n",
    "    # A proper noise simulation would involve density matrices or probabilistic\n",
    "    # application of error operators after each gate.\n",
    "\n",
    "    # Placeholder/Incorrect implementation\n",
    "    noisy_state = state.copy()\n",
    "    for i in range(len(state)):\n",
    "        if random.random() < p:\n",
    "            # This is a very simplified and likely incorrect way to simulate bit flip.\n",
    "            # A bit flip on qubit k means state |...b_k...> flips to |...~b_k...>.\n",
    "            # The index i represents a basis state. Flipping the LSB of i\n",
    "            # does not correspond to flipping a specific qubit's bit unless it's qubit 0.\n",
    "            # A correct implementation would involve applying the error matrix (like X)\n",
    "            # to the state vector with probability p, and Identity with probability (1-p).\n",
    "            pass # Do nothing with the incorrect logic\n",
    "\n",
    "    print(\"Warning: apply_bit_flip function is a simplified and likely incorrect noise model simulation.\")\n",
    "    return state # Return original state as the implementation is incorrect\n",
    "\n",
    "def apply_depolarizing(state, p):\n",
    "     # Similar issues to apply_bit_flip regarding correct noise simulation.\n",
    "     # A depolarizing channel replaces the state with a mixed state I/d with probability p.\n",
    "     # Simulating this with state vectors is not standard; it typically requires density matrices.\n",
    "     d = len(state)\n",
    "     # This calculation (1-p)*state + p/d * ones is incorrect for depolarizing.\n",
    "     print(\"Warning: apply_depolarizing function is a simplified and likely incorrect noise model simulation.\")\n",
    "     return state # Return original state as the implementation is incorrect\n",
    "\n",
    "\n",
    "# =============================== #\n",
    "#       Bell state generator      #\n",
    "# =============================== #\n",
    "\n",
    "def bell_state(label=\"Phi+\"):\n",
    "    c = Circuit(2)\n",
    "    # Use the matrix functions to define the gates\n",
    "    c.add_gate(OneQubitGate(H(), 0))\n",
    "    c.add_gate(TwoQubitGate(CNOT_matrix(), 0, 1)) # Use the renamed matrix function\n",
    "    if label == \"Phi+\":\n",
    "        pass\n",
    "    elif label == \"Phi-\":\n",
    "        c.add_gate(OneQubitGate(Z(), 0))\n",
    "    elif label == \"Psi+\":\n",
    "        c.add_gate(OneQubitGate(X(), 1))\n",
    "    elif label == \"Psi-\":\n",
    "        c.add_gate(OneQubitGate(X(), 1))\n",
    "        c.add_gate(OneQubitGate(Z(), 0))\n",
    "    else:\n",
    "        raise ValueError(\"Unknown Bell state\")\n",
    "    c.run()\n",
    "    return c\n",
    "\n",
    "# =============================== #\n",
    "#         Demonstration           #\n",
    "# =============================== #\n",
    "\n",
    "if __name__ == \"__main__\":\n",
    "\n",
    "    labels = [\"Phi+\", \"Phi-\", \"Psi+\", \"Psi-\"]\n",
    "    shots = 1000\n",
    "\n",
    "    for label in labels:\n",
    "        print(f\"\\n{label} state:\")\n",
    "        c = bell_state(label)\n",
    "        print(\"Statevector:\", c.get_statevector())\n",
    "        # Visualize statevector using the new visualize_state method\n",
    "        c.visualize_state()\n",
    "        # Measure and print counts\n",
    "        results = c.measure(shots=shots)\n",
    "        print(f\"Measurement (shots={shots}):\", results)\n",
    "        # You can also visualize the measurement probabilities directly\n",
    "        c.visualize_probabilities(title=f\"{label} state measurement probabilities\")\n",
    "\n",
    "    # Example of a single qubit circuit and visualization\n",
    "    print(\"\\nSingle qubit example:\")\n",
    "    single_qubit_circuit = Circuit(1)\n",
    "    single_qubit_circuit.add_gate(OneQubitGate(H(), 0))\n",
    "    single_qubit_circuit.run()\n",
    "    print(\"Statevector after H:\", single_qubit_circuit.get_statevector())\n",
    "    single_qubit_circuit.visualize_state()\n",
    "\n",
    "    single_qubit_circuit.add_gate(OneQubitGate(Rx(np.pi/2), 0))\n",
    "    single_qubit_circuit.run()\n",
    "    print(\"Statevector after Rx(pi/2):\", single_qubit_circuit.get_statevector())\n",
    "    single_qubit_circuit.visualize_state()"
   ]
  },
  {
   "cell_type": "markdown",
   "id": "716afc72",
   "metadata": {
    "editable": true
   },
   "source": [
    "## Introduction to [Qiskit](https://qiskit.org/)\n",
    "\n",
    "For the latest **qiskit** version see <https://github.com/NuclearTalent/TalentQuantumComputingECT2025/blob/main/doc/pub/Exercises/1_getting_started_with_qiskit.ipynb>"
   ]
  }
 ],
 "metadata": {},
 "nbformat": 4,
 "nbformat_minor": 5
}
