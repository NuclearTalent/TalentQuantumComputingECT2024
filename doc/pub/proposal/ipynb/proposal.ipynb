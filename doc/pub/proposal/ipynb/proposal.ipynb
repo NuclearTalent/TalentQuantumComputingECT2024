{
 "cells": [
  {
   "cell_type": "markdown",
   "id": "2d0c76fb",
   "metadata": {
    "editable": true
   },
   "source": [
    "<!-- HTML file automatically generated from DocOnce source (https://github.com/doconce/doconce/)\n",
    "doconce format html proposal.do.txt --no_mako -->\n",
    "<!-- dom:TITLE: Proposal for a Nuclear Talent course at the ECT* in 2025: Quantum Computing for Nuclear Physics -->"
   ]
  },
  {
   "cell_type": "markdown",
   "id": "7bc73317",
   "metadata": {
    "editable": true
   },
   "source": [
    "# Proposal for a Nuclear Talent course at the ECT* in 2025: Quantum Computing for Nuclear Physics\n",
    "**[Alexei Bazavov](https://directory.natsci.msu.edu/Directory/Profiles/Person/101033)**, Department of Computational Mathematics, Science and Engineering  and Department of Physics and Astronomy, Michigan State University, East Lansing, MI 48824, USA  \n",
    "**[Zohreh Davoudi](https://umdphysics.umd.edu/people/faculty/current/item/927-davoudi.html), Department of Physics, University of Maryland, College Park, MD 20742, USA**  \n",
    "**[Morten Hjorth-Jensen](http://mhjgit.github.io/info/doc/web/)**, Facility for Rare Isotope Beams and Department of Physics and Astronomy, Michigan State University, East Lansing, MI 48824, USA and Department of Physics, University of Oslo, N-0316 Oslo, Norway  \n",
    "**[Dean Lee](https://frib.msu.edu/for-students/faculty/lee-profile)**, Facility for Rare Isotope Beams and Department of Physics and Astronomy, Michigan State University, East Lansing, MI 48824, USA  \n",
    "**[Ryan Larose](https://www.ryanlarose.com/)**, at Department of Computational Mathematics, Science and Engineering, Michigan State University, East Lansing, MI 48824, USA  \n",
    "**[Alessandro Roggero](https://webapps.unitn.it/du/en/Persona/PER0016084/Didattica), Department of Physics, University of Trento, Povo, 38123 Trento, Italy**\n",
    "\n",
    "Date: **Apr 15, 2024**"
   ]
  },
  {
   "cell_type": "markdown",
   "id": "e5924b98",
   "metadata": {
    "editable": true
   },
   "source": [
    "## Proposal for a Nuclear Talent course at the ECT* in 2025\n",
    "\n",
    "We would like to propose a three-week Nuclear Talent course on theory\n",
    "for exploring quantum computing and quantum information science\n",
    "applied to nuclear physics at the ECT* for the summer of 2025.  We\n",
    "believe such a course has a strong potential to attract many students,\n",
    "theorists and experimentalists alike.\n",
    "\n",
    "Below we give a short motivation for the proposed course and the\n",
    "rationale behind the Nuclear Talent initiative. Thereafter we detail\n",
    "our course plans with learning outcomes, objectives and teaching\n",
    "philosophy, as well as various organizational and practical matters.\n",
    "\n",
    "The teaching teams consists of quantum computing theorists and nuclear\n",
    "theorists, with expertise ranging from many-body methods to quantum\n",
    "field theories. Several of us have developed courses on quantum\n",
    "computing and/or taught similar courses, in addition to our ongoing research on\n",
    "quantum computing. This  spans from quantum engineering to\n",
    "developments of new algorithms and error correction studies.  We\n",
    "believe such a mix is important as it gives the students a better\n",
    "understanding on how quantum computing can be applied to nuclear\n",
    "physics problems, and what are the limitations and possibilities in\n",
    "understanding and interpreting the various algorithms on present and\n",
    "planned quantum technologies."
   ]
  },
  {
   "cell_type": "markdown",
   "id": "d4a77b4a",
   "metadata": {
    "editable": true
   },
   "source": [
    "## Motivation\n",
    "\n",
    "For nuclear theorists, the overarching\n",
    "challenge is to develop a comprehensive description of nuclei and\n",
    "their reactions, grounded in the fundamental interactions between the\n",
    "constituent nucleons with quantifiable uncertainties to maximize\n",
    "predictive power.  As experimental frontiers have shifted to the study\n",
    "of rare isotopes, the predictive power of successful phenomenological\n",
    "approaches like the shell model and density functional theory is\n",
    "challenged by the scarcity of nearby experimental data to constrain\n",
    "model parameters. Therefore, it is expected that few-body and many-body methods\n",
    "will play an increasingly prominent role to help improve the\n",
    "predictive power of such \"data driven\" methods as experiment moves\n",
    "deeper into largely unexplored regions of the nuclear chart.\n",
    "\n",
    "To understand why nuclear matter is stable, and thereby shed light on\n",
    "the limits of nuclear stability, is one of the overarching aims and\n",
    "intellectual challenges of basic research in nuclear physics. To\n",
    "relate the stability of matter to the underlying fundamental forces\n",
    "and particles of nature as manifested in nuclear matter, is central to\n",
    "present and planned rare isotope facilities.  From a\n",
    "theoretical standpoint, this involves understanding how the basic\n",
    "building blocks of Nature interact and conspire to build up atomic\n",
    "nuclei as we know them, with the aim to understand what makes visible\n",
    "matter stable.  The theoretical efforts span from methods like Lattice\n",
    "Quantum Chromodynamics, via effective field theories to many-body\n",
    "theories applied to atomic nuclei and infinite nuclear matter. All\n",
    "these methods rely on theoretical approximations whose applicabilities\n",
    "are often limited by the dimensionality of the specific problem being\n",
    "studied. In recent years there has been considerable progress in our\n",
    "theoretical understanding of algorithms from quantum information theories\n",
    "applied to interacting systems, with the hope to circumvent many of\n",
    "the traditional dimensionality problems.\n",
    "\n",
    "This proposal for a Nuclear Talent schoold aims at bringing together the efforts of nuclear many-body theorists,\n",
    "quantum information theorists and mathematicians in order to \n",
    "present and discuss algorithms for studying nuclear systems\n",
    "using recent progress in quantum information theory."
   ]
  },
  {
   "cell_type": "markdown",
   "id": "cd7a2fba",
   "metadata": {
    "editable": true
   },
   "source": [
    "## Introduction to the Talent Courses\n",
    "\n",
    "The TALENT initiative, [Training in Advanced Low Energy\n",
    "Nuclear Theory](http://www.nucleartalent.org), aims at providing an\n",
    "advanced and comprehensive training to graduate students and young\n",
    "researchers in low-energy nuclear theory. The initiative is a\n",
    "multinational network between several European and Northern American\n",
    "institutions and aims at developing a broad curriculum that will\n",
    "provide the platform for a cutting-edge theory for understanding\n",
    "nuclei and nuclear reactions. These objectives will be met by offering\n",
    "series of lectures, commissioned from experienced teachers in nuclear\n",
    "theory and experiemt. The educational material generated under this program will be\n",
    "collected in the form of WEB-based courses, textbooks, and a variety\n",
    "of modern educational resources. No such all-encompassing material is\n",
    "available at present; its development will allow dispersed university\n",
    "groups to profit from the best expertise available.\n",
    "\n",
    "The Nuclear Talent initiative has organized and run\n",
    "several advanced courses since the summer of 2012. Several of\n",
    "these courses have been run and organized (in a very successful way)\n",
    "at the premises of the ECT*. We hope thus, if this course gets\n",
    "approved by the board of directors of the ECT*, that we can continue\n",
    "this successful and very fruitful collaboration."
   ]
  },
  {
   "cell_type": "markdown",
   "id": "1666507f",
   "metadata": {
    "editable": true
   },
   "source": [
    "## Aims and Learning Outcomes\n",
    "\n",
    "This three-week TALENT course on nuclear theory will focus on the\n",
    "interpretation of data on the structure of nuclei using the Nuclear shell model as main tool."
   ]
  },
  {
   "cell_type": "markdown",
   "id": "436d04ae",
   "metadata": {
    "editable": true
   },
   "source": [
    "### Format:\n",
    "\n",
    "We propose approximately forty-five hours of lectures over three weeks and a\n",
    "comparable amount of practical computer and exercise sessions, including the\n",
    "setting of individual problems and the organization of various individual projects.\n",
    "\n",
    "The mornings will consist of lectures and the\n",
    "afternoons will be devoted to exercises meant to shed light on the exposed theory, \n",
    "the computational projects  and individual student projects. These\n",
    "components will be coordinated to foster student engagement,\n",
    "maximize learning and create lasting value for the students. For the\n",
    "benefit of the TALENT series and of the community, material (courses,\n",
    "slides, problems and solutions, reports on students' projects) will be\n",
    "made publicly available using version control software like *git* and posted electronically on \n",
    "[github](https://github.com). \n",
    "\n",
    "As with previous TALENT courses, we envision\n",
    "the following features for the afternoon sessions: \n",
    "* We will use both individual and group work to carry out tasks that are very specific in technical instructions, but leave freedom for creativity.  \n",
    "\n",
    "* Groups will be carefully put together to maximize diversity of backgrounds.  \n",
    "\n",
    "* Results will be presented in a conference-like setting to create accountability.  \n",
    "\n",
    "* We will organize events where individuals and groups exchange their experiences, difficulties and successes to foster interaction.  \n",
    "\n",
    "* During the school, on-line and lecture-based training tailored to technical issues will be provided. Students will learn to use and interpret the results of computer-based and hand calculations of quantum computing algorithms. The lectures will be aligned with the practical computational projects and exercises and the lecturers will be available to help students and work with them during the exercise sessions.  \n",
    "\n",
    "* These interactions will raise topics not originally envisioned for the course but which are recognized to be valuable for the students. There will be flexibility to organize mini-lectures and discussion sessions on an ad-hoc basis in such cases.  \n",
    "\n",
    "* Each group of students will maintain an online logbook of their activities and results.  \n",
    "\n",
    "* Training modules, codes, lectures, practical exercise instructions, online logbooks, instructions and information created by participants will be merged into a comprehensive website that will be available to the community and the public for self-guided training or for use in various educational settings (for example, a graduate course at a university could assign some of the projects as homework or an extra credit project, etc)."
   ]
  },
  {
   "cell_type": "markdown",
   "id": "15d39196",
   "metadata": {
    "editable": true
   },
   "source": [
    "### Objectives and learning outcomes:\n",
    "\n",
    "At the end of the course the students should have a basic understanding of (these will be updated).\n",
    "More material will be added here."
   ]
  },
  {
   "cell_type": "markdown",
   "id": "b55c6f37",
   "metadata": {
    "editable": true
   },
   "source": [
    "## Course Content and detailed plan (**tentative, not final**)"
   ]
  },
  {
   "cell_type": "markdown",
   "id": "30c85efa",
   "metadata": {
    "editable": true
   },
   "source": [
    "### Week 1, Monday\n",
    "\n",
    "* Definitions, Linear Algebra reminder, Hilbert Space, Operators on Hilbert Spaces, Composite Systems\n",
    "\n",
    "  * Definitions\n",
    "\n",
    "  * Mathematical notation, Hilbert spaces and operators\n",
    "\n",
    "  * Computational basis\n",
    "\n",
    "  * Description of Quantum Systems and one-qubit systems \n",
    "\n",
    "  * States in Hilbert Space, pure and mixed states"
   ]
  },
  {
   "cell_type": "markdown",
   "id": "aa088f27",
   "metadata": {
    "editable": true
   },
   "source": [
    "### Week 1, Tuesday\n",
    "\n",
    "* Composite Systems and Tensor Products\n",
    "\n",
    "  * Spectral decomposition and measurements\n",
    "\n",
    "  * Density matrices\n",
    "\n",
    "  * Simple Hamiltonians and other operators"
   ]
  },
  {
   "cell_type": "markdown",
   "id": "e588fbc5",
   "metadata": {
    "editable": true
   },
   "source": [
    "### Week 1, Wednesday\n",
    "\n",
    "* Density matrices and Measurements\n",
    "\n",
    "  * Spectral decomposition and measurements\n",
    "\n",
    "  * Density matrices\n",
    "\n",
    "  * Entanglement and Schmidt decomposition\n",
    "\n",
    "  * Entropies"
   ]
  },
  {
   "cell_type": "markdown",
   "id": "639c9909",
   "metadata": {
    "editable": true
   },
   "source": [
    "### Week 1, Thursday\n",
    "\n",
    "* Entanglement and entropies\n",
    "\n",
    "  * Entanglement and Schmidt decomposition \n",
    "\n",
    "  * Entropy as a measurement of entanglement\n",
    "\n",
    "  * Introduction to gates and calculations"
   ]
  },
  {
   "cell_type": "markdown",
   "id": "36719f0e",
   "metadata": {
    "editable": true
   },
   "source": [
    "### Week 1, Friday\n",
    "\n",
    "* Starting with project work\n",
    "\n",
    "  * Coding examples, with applications to Bell states and simples systems\n",
    "\n",
    "  * How to set up gates and circuits.\n",
    "\n",
    "  * Writing own code and comparing with existing computational frameworks"
   ]
  },
  {
   "cell_type": "markdown",
   "id": "0a712fde",
   "metadata": {
    "editable": true
   },
   "source": [
    "### Week 2, Monday\n",
    "\n",
    "* Quantum gates and circuits and Hamiltonians\n",
    "\n",
    "  * Quantum gates and operations and simple quantum algorithms\n",
    "\n",
    "  * Discussion of the Varational Quantum Eigensolver algorithm and discussions of computational project"
   ]
  },
  {
   "cell_type": "markdown",
   "id": "a30e3821",
   "metadata": {
    "editable": true
   },
   "source": [
    "### Week 2, Tuesday\n",
    "\n",
    "* Algorithms for solving quantum mechanical problems\n",
    "\n",
    "  * VQE, Variational Quantum Eigensolver and discussion of codes\n",
    "\n",
    "  * Simulations of  of Hamiltonians, focus on simple  Hamiltonians"
   ]
  },
  {
   "cell_type": "markdown",
   "id": "c297f925",
   "metadata": {
    "editable": true
   },
   "source": [
    "### Week 2, Wednesday\n",
    "\n",
    "* Solving quantum mechanical problems\n",
    "\n",
    "  * Introducing the Lipkin model\n",
    "\n",
    "  * Analyzing the solution of eigenvalue problems and the VQE using the Lipkin model\n",
    "\n",
    "  * Comparison with the nuclear shell model"
   ]
  },
  {
   "cell_type": "markdown",
   "id": "724da486",
   "metadata": {
    "editable": true
   },
   "source": [
    "### Week 2, Thursday\n",
    "\n",
    "* Second quantization and Hamiltonians for quantum computing\n",
    "\n",
    "  * Other Hamiltonians (Pairing) and the Jordan-Wigner transformation\n",
    "\n",
    "  * Suzuki-Trotter expansion"
   ]
  },
  {
   "cell_type": "markdown",
   "id": "bc3c7062",
   "metadata": {
    "editable": true
   },
   "source": [
    "### Week 2, Friday\n",
    "\n",
    "* Discussion of other algorithms"
   ]
  },
  {
   "cell_type": "markdown",
   "id": "6a7de167",
   "metadata": {
    "editable": true
   },
   "source": [
    "### Week 3, Monday\n",
    "\n",
    "* Quantum Fourier transforms and fast Fourier transform\n",
    "\n",
    "  * Implementing  Quantum Fourier transforms\n",
    "\n",
    "  * Quantum phase estimation algorithm\n",
    "\n",
    "  * Other algorithms"
   ]
  },
  {
   "cell_type": "markdown",
   "id": "f7bcb802",
   "metadata": {
    "editable": true
   },
   "source": [
    "### Week 3, Tuesday\n",
    "\n",
    "* Quantum computing for field theory"
   ]
  },
  {
   "cell_type": "markdown",
   "id": "9505c51c",
   "metadata": {
    "editable": true
   },
   "source": [
    "### Week 3, Wednesday\n",
    "\n",
    "* Quantum computing for field theory"
   ]
  },
  {
   "cell_type": "markdown",
   "id": "faee91a5",
   "metadata": {
    "editable": true
   },
   "source": [
    "### Week 3, Thursday\n",
    "\n",
    "* Error correction algorithms"
   ]
  },
  {
   "cell_type": "markdown",
   "id": "27218c6a",
   "metadata": {
    "editable": true
   },
   "source": [
    "### Week 3, Friday\n",
    "\n",
    "* Summary of course"
   ]
  },
  {
   "cell_type": "markdown",
   "id": "7edb679e",
   "metadata": {
    "editable": true
   },
   "source": [
    "## Teaching\n",
    "\n",
    "The course will be taught as an intensive course of duration of three\n",
    "weeks, with a total time of 45 h of lectures, 45 h of exercises and a\n",
    "final assignment of 2 weeks of work.  The total load will be\n",
    "approximately 160-170 hours, corresponding to **7 ECTS** in Europe.  The\n",
    "final assignment will be graded with marks A, B, C, D, E and failed\n",
    "for Master students and passed/not passed for PhD students.  A course\n",
    "certificate will be issued for students requiring it from the\n",
    "University of Trento.\n",
    "\n",
    "The organization of a typical course day is as follows:\n",
    "\n",
    "1. 9am-12pm: Lectures, project relevant information and directed exercises\n",
    "\n",
    "2. 12pm-2pm: Lunch\n",
    "\n",
    "3. 2pm-6pm: Computational projects, exercises  and hands-on sessions\n",
    "\n",
    "4. 6pm-7pm: Wrap-up of the day and eventual student presentations\n",
    "\n",
    "If approved by the ECT* board of directors, our preferred time slot\n",
    "would be from the second half of June till the second half of July."
   ]
  },
  {
   "cell_type": "markdown",
   "id": "8770dca8",
   "metadata": {
    "editable": true
   },
   "source": [
    "## Teachers and organizers\n",
    "The organizers and teachers are\n",
    "1. [Alexei Bazavov](https://directory.natsci.msu.edu/Directory/Profiles/Person/101033) at Department of Computational Mathematics, Science and Engineering  and Department of Physics and Astronomy, Michigan State University, East Lansing, MI 48824, USA\n",
    "\n",
    "2. [Zohreh Davoudi](https://umdphysics.umd.edu/people/faculty/current/item/927-davoudi.html), Department of Physics, University of Maryland, College Park, MD 20742, USA\n",
    "\n",
    "3. [Morten Hjorth-Jensen](http://mhjgit.github.io/info/doc/web/)  at Facility for Rare Isotope Beams and Department of Physics and Astronomy, Michigan State University, East Lansing, MI 48824, USA & Department of Physics, University of Oslo, N-0316 Oslo, Norway\n",
    "\n",
    "4. [Dean Lee](https://frib.msu.edu/for-students/faculty/lee-profile) at Facility for Rare Isotope Beams and Department of Physics and Astronomy, Michigan State University, East Lansing, MI 48824, USA\n",
    "\n",
    "5. [Ryan Larose](https://www.ryanlarose.com/) at at Department of Computational Mathematics, Science and Engineering, Michigan State University, East Lansing, MI 48824, USA\n",
    "\n",
    "6. [Alessandro Roggero](https://webapps.unitn.it/du/en/Persona/PER0016084/Didattica), Department of Physics, University of Trento, Povo, 38123 Trento, Italy\n",
    "\n",
    "7. An eventual Post-doctoral fellow and an advanced graduate student as teaching assistants.\n",
    "\n",
    "Morten Hjorth-Jensen will also function as student advisor and coordinator."
   ]
  },
  {
   "cell_type": "markdown",
   "id": "9bd3e1f9",
   "metadata": {
    "editable": true
   },
   "source": [
    "## Audience and Prerequisites\n",
    "\n",
    "Students and post-doctoral fellows interested in quantum computing\n",
    "applied to nuclear physics problems, from nuclear structure to quantum\n",
    "field theories.  The material will be of interest, and accessible, to\n",
    "both theorists and experimentalists, and will include learning the\n",
    "practical use of quantum computing software in order to interpret and\n",
    "study nuclear systems.\n",
    "\n",
    "The students are expected to have operating programming skills in in\n",
    "compiled programming languages like Fortran or C++ or preferentially in  an\n",
    "interpreted language like Python and knowledge of quantum mechanics at\n",
    "an intermediate level."
   ]
  },
  {
   "cell_type": "markdown",
   "id": "b5015e44",
   "metadata": {
    "editable": true
   },
   "source": [
    "## Admission\n",
    "\n",
    "The target group is Master of Science students, PhD students and early\n",
    "post-doctoral fellows.  Also senior staff can attend but they have to\n",
    "be self-supported.  The maximum number of students is 20-30, of which\n",
    "hopefully at most 15-20 can receive full local support.\n",
    "\n",
    "The process of selections of the students will be managed in agreement\n",
    "with the ECT*."
   ]
  },
  {
   "cell_type": "markdown",
   "id": "490e1079",
   "metadata": {
    "editable": true
   },
   "source": [
    "## Preliminary budget\n",
    "\n",
    "We expect to accept between 20-30 students. Local students from the\n",
    "University of Trento are fully self-supported.  If approved, we would\n",
    "very much appreciate if the ECT* can sponsor 15-20 of the selected\n",
    "students with local expenses, that is lodging and meals during\n",
    "weekdays. Any additional funds for sponsoring further students is\n",
    "highly appreciated.\n",
    "\n",
    "All travel expenses will be covered by the respective home institute.\n",
    "Teachers are self-supported. We plan to raise additional funds to\n",
    "cover local support for additional students and the expenses of the\n",
    "teachers.\n",
    "\n",
    "There is no participation fee. Administrative support from the ECT* in\n",
    "organizing the course and setting up the application procedure is\n",
    "essential for a smooth (as always) outcome. The administrative\n",
    "experience of the staff at the ECT* has been unique and essential in\n",
    "running successully our previous Talent courses. We would thus highly\n",
    "appreciate it if these services are provided if the proposal is\n",
    "approved."
   ]
  }
 ],
 "metadata": {},
 "nbformat": 4,
 "nbformat_minor": 5
}
