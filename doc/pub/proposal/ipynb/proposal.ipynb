{
 "cells": [
  {
   "cell_type": "markdown",
   "id": "9d0c2a32",
   "metadata": {
    "editable": true
   },
   "source": [
    "<!-- HTML file automatically generated from DocOnce source (https://github.com/doconce/doconce/)\n",
    "doconce format html proposal.do.txt --no_mako -->\n",
    "<!-- dom:TITLE: Proposal for a Nuclear Talent course at the ECT* in 2025: Quantum Computing for Nuclear Physics -->"
   ]
  },
  {
   "cell_type": "markdown",
   "id": "18a46979",
   "metadata": {
    "editable": true
   },
   "source": [
    "# Proposal for a Nuclear Talent course at the ECT* in 2025: Quantum Computing for Nuclear Physics\n",
    "**[Alexei Bazavov](https://directory.natsci.msu.edu/Directory/Profiles/Person/101033)**, Department of Computational Mathematics, Science and Engineering  and Department of Physics and Astronomy, Michigan State University, East Lansing, MI 48824, USA  \n",
    "**[Zohreh Davoudi](https://umdphysics.umd.edu/people/faculty/current/item/927-davoudi.html), Department of Physics, University of Maryland, College Park, MD 20742, USA**  \n",
    "**[Morten Hjorth-Jensen](http://mhjgit.github.io/info/doc/web/)**, Facility for Rare Isotope Beams and Department of Physics and Astronomy, Michigan State University, East Lansing, MI 48824, USA and Department of Physics, University of Oslo, N-0316 Oslo, Norway  \n",
    "**[Dean Lee](https://frib.msu.edu/for-students/faculty/lee-profile)**, Facility for Rare Isotope Beams and Department of Physics and Astronomy, Michigan State University, East Lansing, MI 48824, USA  \n",
    "**[Ryan Larose](https://www.ryanlarose.com/)**, at Department of Computational Mathematics, Science and Engineering, Michigan State University, East Lansing, MI 48824, USA  \n",
    "**[Alessandro Roggero](https://webapps.unitn.it/du/en/Persona/PER0016084/Didattica), Department of Physics, University of Trento, Povo, 38123 Trento, Italy**\n",
    "\n",
    "Date: **Apr 15, 2024**"
   ]
  },
  {
   "cell_type": "markdown",
   "id": "4a9d00bd",
   "metadata": {
    "editable": true
   },
   "source": [
    "## Proposal for a Nuclear Talent course at the ECT* in 2025\n",
    "\n",
    "We would like to propose a three-week Nuclear Talent course on theory\n",
    "for exploring quantum computing and quantum information science\n",
    "applied to nuclear physics at the ECT* for the summer of 2025.  We\n",
    "believe such a course has a strong potential to attract many students,\n",
    "theorists and experimentalists alike.\n",
    "\n",
    "Below we give a short motivation for the proposed course and the\n",
    "rationale behind the Nuclear Talent initiative. Thereafter we detail\n",
    "our course plans with learning outcomes, objectives and teaching\n",
    "philosophy, as well as various organizational and practical matters.\n",
    "\n",
    "The teaching teams consists of quantum computing theorists and nuclear\n",
    "theorists, with expertise ranging from many-body methods to quantum\n",
    "field theories. Several of us have developed courses on quantum\n",
    "computing and/or taught similar courses, in addition to our ongoing research on\n",
    "quantum computing. This  spans from quantum engineering to\n",
    "developments of new algorithms and error correction studies.  We\n",
    "believe such a mix is important as it gives the students a better\n",
    "understanding on how quantum computing can be applied to nuclear\n",
    "physics problems, and what are the limitations and possibilities in\n",
    "understanding and interpreting the various algorithms on present and\n",
    "planned quantum technologies."
   ]
  },
  {
   "cell_type": "markdown",
   "id": "7ff4fd9c",
   "metadata": {
    "editable": true
   },
   "source": [
    "## Motivation"
   ]
  },
  {
   "cell_type": "markdown",
   "id": "35527e64",
   "metadata": {
    "editable": true
   },
   "source": [
    "## Introduction to the Talent Courses\n",
    "\n",
    "The TALENT initiative, [Training in Advanced Low Energy\n",
    "Nuclear Theory](http://www.nucleartalent.org), aims at providing an\n",
    "advanced and comprehensive training to graduate students and young\n",
    "researchers in low-energy nuclear theory. The initiative is a\n",
    "multinational network between several European and Northern American\n",
    "institutions and aims at developing a broad curriculum that will\n",
    "provide the platform for a cutting-edge theory for understanding\n",
    "nuclei and nuclear reactions. These objectives will be met by offering\n",
    "series of lectures, commissioned from experienced teachers in nuclear\n",
    "theory and experiemt. The educational material generated under this program will be\n",
    "collected in the form of WEB-based courses, textbooks, and a variety\n",
    "of modern educational resources. No such all-encompassing material is\n",
    "available at present; its development will allow dispersed university\n",
    "groups to profit from the best expertise available.\n",
    "\n",
    "The Nuclear Talent initiative has organized and run\n",
    "several advanced courses since the summer of 2012. Several of\n",
    "these courses have been run and organized (in a very successful way)\n",
    "at the premises of the ECT*. We hope thus, if this course gets\n",
    "approved by the board of directors of the ECT*, that we can continue\n",
    "this successful and very fruitful collaboration."
   ]
  },
  {
   "cell_type": "markdown",
   "id": "5a8e4385",
   "metadata": {
    "editable": true
   },
   "source": [
    "## Aims and Learning Outcomes\n",
    "\n",
    "This three-week TALENT course on nuclear theory will focus on the\n",
    "interpretation of data on the structure of nuclei using the Nuclear shell model as main tool."
   ]
  },
  {
   "cell_type": "markdown",
   "id": "05796b80",
   "metadata": {
    "editable": true
   },
   "source": [
    "### Format:\n",
    "\n",
    "We propose approximately forty-five hours of lectures over three weeks and a\n",
    "comparable amount of practical computer and exercise sessions, including the\n",
    "setting of individual problems and the organization of various individual projects.\n",
    "\n",
    "The mornings will consist of lectures and the\n",
    "afternoons will be devoted to exercises meant to shed light on the exposed theory, \n",
    "the computational projects  and individual student projects. These\n",
    "components will be coordinated to foster student engagement,\n",
    "maximize learning and create lasting value for the students. For the\n",
    "benefit of the TALENT series and of the community, material (courses,\n",
    "slides, problems and solutions, reports on students' projects) will be\n",
    "made publicly available using version control software like *git* and posted electronically on \n",
    "[github](https://github.com). \n",
    "\n",
    "As with previous TALENT courses, we envision\n",
    "the following features for the afternoon sessions: \n",
    "* We will use both individual and group work to carry out tasks that are very specific in technical instructions, but leave freedom for creativity.  \n",
    "\n",
    "* Groups will be carefully put together to maximize diversity of backgrounds.  \n",
    "\n",
    "* Results will be presented in a conference-like setting to create accountability.  \n",
    "\n",
    "* We will organize events where individuals and groups exchange their experiences, difficulties and successes to foster interaction.  \n",
    "\n",
    "* During the school, on-line and lecture-based training tailored to technical issues will be provided. Students will learn to use and interpret the results of computer-based and hand calculations of quantum computing algorithms. The lectures will be aligned with the practical computational projects and exercises and the lecturers will be available to help students and work with them during the exercise sessions.  \n",
    "\n",
    "* These interactions will raise topics not originally envisioned for the course but which are recognized to be valuable for the students. There will be flexibility to organize mini-lectures and discussion sessions on an ad-hoc basis in such cases.  \n",
    "\n",
    "* Each group of students will maintain an online logbook of their activities and results.  \n",
    "\n",
    "* Training modules, codes, lectures, practical exercise instructions, online logbooks, instructions and information created by participants will be merged into a comprehensive website that will be available to the community and the public for self-guided training or for use in various educational settings (for example, a graduate course at a university could assign some of the projects as homework or an extra credit project, etc)."
   ]
  },
  {
   "cell_type": "markdown",
   "id": "3e95e1f9",
   "metadata": {
    "editable": true
   },
   "source": [
    "### Objectives and learning outcomes:\n",
    "\n",
    "At the end of the course the students should have a basic understanding of\n",
    "* Configuration interaction methods (nuclear shell-model here) as a central tool to interpret nuclear structure experiment\n",
    "\n",
    "* Have an understanding of single-particle basis functions and the construction of many-body basis states built thereupon. Examples are basis states from a Woods-Saxon potential, harmonic oscillator states and mean-field based states from a Hartree-Fock calculation. The single-particle basis states are orthonormal and are used to construct  a corresponding orthonormal basis set of Slater determinants.\n",
    "\n",
    "* Develop an understanding of what defines an observable. \n",
    "\n",
    "* Understand how theory  can be used to interpret experimental quantities (separation energies and shell gaps for example).\n",
    "\n",
    "* Understand how experiment is used to extract transition probabilities and information about ground and exited states. \n",
    "\n",
    "* Understand how second-quantization is used to represent states and compute expectation values and transition probabilities  of operators\n",
    "\n",
    "* Understand how the Hamiltonian matrix is constructed from this orthonormal basis set of many-body states (linear expansion of Slater determinants)\n",
    "\n",
    "* For nuclear systems like the $sd$-shell, essentially all nuclei can be studied using direct diagonalization methods. In the construction of the shell-model code during the first two weeks, the students will learn to compute  the ground state and the excited states of selected $sd$-shell nuclei. This project applies to all students. During the last week, students can pursue more individually defined projects\n",
    "\n",
    "* The students will also learn to understand the basic elements of effective shell-model Hamiltonians and how to interpret the calculated properties in terms of various components of the nuclear forces (spin-orbit force, tensor force, central force etc). We will provide the students with the necessary tools to perform such analyses. \n",
    "\n",
    "* Understand how to use shell-model calculations to calculate decay rates and transition probabilities and relate these to various electromagnetic transition operators and operators for beta-decays and double-beta decays.  \n",
    "\n",
    "* Develop a critical understanding the limits of shell-model studies and how these can be related to interpretations of data such as results from in-beam and decay experiments.\n",
    "\n",
    "* Understand how to use second-quantization to construct one-body and two-body transfer operators, overlap functions, spectroscopic factors and experiments related to spectroscopic factors. \n",
    "\n",
    "* For the students which wish to follow a more computational path during the last week, iterative eigenvalue solvers will discussed. Similarly, efficient representations of many-body states and computations of Hamiltonian matrices will also be discussed.\n",
    "\n",
    "* We will also discuss modern shell-model codes like NushellX. This suite of programs can be used by students to pursue their own projects. Applications of NushellX to the calculations of various observables will discussed and students who wish to use NushellX, can define individual projects during the last week."
   ]
  },
  {
   "cell_type": "markdown",
   "id": "ae80f9c2",
   "metadata": {
    "editable": true
   },
   "source": [
    "## Course Content and detailed plan"
   ]
  },
  {
   "cell_type": "markdown",
   "id": "67859eb2",
   "metadata": {
    "editable": true
   },
   "source": [
    "### Week 1"
   ]
  },
  {
   "cell_type": "markdown",
   "id": "f71f9011",
   "metadata": {
    "editable": true
   },
   "source": [
    "### Week 2"
   ]
  },
  {
   "cell_type": "markdown",
   "id": "39e61c83",
   "metadata": {
    "editable": true
   },
   "source": [
    "### Week 3"
   ]
  },
  {
   "cell_type": "markdown",
   "id": "999b8acd",
   "metadata": {
    "editable": true
   },
   "source": [
    "## Teaching\n",
    "\n",
    "The course will be taught as an intensive course of duration of three\n",
    "weeks, with a total time of 45 h of lectures, 45 h of exercises and a\n",
    "final assignment of 2 weeks of work.  The total load will be\n",
    "approximately 160-170 hours, corresponding to **7 ECTS** in Europe.  The\n",
    "final assignment will be graded with marks A, B, C, D, E and failed\n",
    "for Master students and passed/not passed for PhD students.  A course\n",
    "certificate will be issued for students requiring it from the\n",
    "University of Trento.\n",
    "\n",
    "The organization of a typical course day is as follows:\n",
    "\n",
    "1. 9am-12pm: Lectures, project relevant information and directed exercises\n",
    "\n",
    "2. 12pm-2pm: Lunch\n",
    "\n",
    "3. 2pm-6pm: Computational projects, exercises  and hands-on sessions\n",
    "\n",
    "4. 6pm-7pm: Wrap-up of the day and eventual student presentations\n",
    "\n",
    "If approved by the ECT* board of directors, our preferred time slot\n",
    "would be from the second half of June till the second half of July."
   ]
  },
  {
   "cell_type": "markdown",
   "id": "93ffe78b",
   "metadata": {
    "editable": true
   },
   "source": [
    "## Teachers and organizers\n",
    "The organizers and teachers are\n",
    "1. [Alexei Bazavov](https://directory.natsci.msu.edu/Directory/Profiles/Person/101033) at Department of Computational Mathematics, Science and Engineering  and Department of Physics and Astronomy, Michigan State University, East Lansing, MI 48824, USA\n",
    "\n",
    "2. [Zohreh Davoudi](https://umdphysics.umd.edu/people/faculty/current/item/927-davoudi.html), Department of Physics, University of Maryland, College Park, MD 20742, USA\n",
    "\n",
    "3. [Morten Hjorth-Jensen](http://mhjgit.github.io/info/doc/web/)  at Facility for Rare Isotope Beams and Department of Physics and Astronomy, Michigan State University, East Lansing, MI 48824, USA & Department of Physics, University of Oslo, N-0316 Oslo, Norway\n",
    "\n",
    "4. [Dean Lee](https://frib.msu.edu/for-students/faculty/lee-profile) at Facility for Rare Isotope Beams and Department of Physics and Astronomy, Michigan State University, East Lansing, MI 48824, USA\n",
    "\n",
    "5. [Ryan Larose](https://www.ryanlarose.com/) at at Department of Computational Mathematics, Science and Engineering, Michigan State University, East Lansing, MI 48824, USA\n",
    "\n",
    "6. [Alessandro Roggero](https://webapps.unitn.it/du/en/Persona/PER0016084/Didattica), Department of Physics, University of Trento, Povo, 38123 Trento, Italy\n",
    "\n",
    "7. An eventual Post-doctoral fellow and an advanced graduate student as teaching assistants.\n",
    "\n",
    "Morten Hjorth-Jensen will also function as student advisor and coordinator."
   ]
  },
  {
   "cell_type": "markdown",
   "id": "9817f913",
   "metadata": {
    "editable": true
   },
   "source": [
    "## Audience and Prerequisites\n",
    "\n",
    "Students and post-doctoral fellows interested in quantum computing\n",
    "applied to nuclear physics problems, from nuclear structure to quantum\n",
    "field theories.  The material will be of interest, and accessible, to\n",
    "both theorists and experimentalists, and will include learning the\n",
    "practical use of quantum computing software in order to interpret and\n",
    "study nuclear systems.\n",
    "\n",
    "The students are expected to have operating programming skills in in\n",
    "compiled programming languages like Fortran or C++ or preferentially in  an\n",
    "interpreted language like Python and knowledge of quantum mechanics at\n",
    "an intermediate level."
   ]
  },
  {
   "cell_type": "markdown",
   "id": "f35a96dc",
   "metadata": {
    "editable": true
   },
   "source": [
    "## Admission\n",
    "\n",
    "The target group is Master of Science students, PhD students and early\n",
    "post-doctoral fellows.  Also senior staff can attend but they have to\n",
    "be self-supported.  The maximum number of students is 20-30, of which\n",
    "hopefully at most 15-20 can receive full local support.\n",
    "\n",
    "The process of selections of the students will be managed in agreement\n",
    "with the ECT*."
   ]
  },
  {
   "cell_type": "markdown",
   "id": "9b098298",
   "metadata": {
    "editable": true
   },
   "source": [
    "## Preliminary budget\n",
    "\n",
    "We expect to accept between 20-30 students. Local students from the\n",
    "University of Trento are fully self-supported.  If approved, we would\n",
    "very much appreciate if the ECT* can sponsor 15-20 of the selected\n",
    "students with local expenses, that is lodging and meals during\n",
    "weekdays. Any additional funds for sponsoring further students is\n",
    "highly appreciated.\n",
    "\n",
    "All travel expenses will be covered by the respective home institute.\n",
    "Teachers are self-supported. We plan to raise additional funds to\n",
    "cover local support for additional students and the expenses of the\n",
    "teachers.\n",
    "\n",
    "There is no participation fee. Administrative support from the ECT* in\n",
    "organizing the course and setting up the application procedure is\n",
    "essential for a smooth (as always) outcome. The administrative\n",
    "experience of the staff at the ECT* has been unique and essential in\n",
    "running successully our previous Talent courses. We would thus highly\n",
    "appreciate it if these services are provided if the proposal is\n",
    "approved."
   ]
  }
 ],
 "metadata": {},
 "nbformat": 4,
 "nbformat_minor": 5
}
