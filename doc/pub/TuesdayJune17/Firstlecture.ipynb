{
 "cells": [
  {
   "cell_type": "markdown",
   "id": "0a59e5e5",
   "metadata": {
    "editable": true
   },
   "source": [
    "<!-- HTML file automatically generated from DocOnce source (https://github.com/doconce/doconce/)\n",
    "doconce format html Fourthlecture.do.txt --no_mako -->\n",
    "<!-- dom:TITLE: Quantum gates and quantum circuits and applications, summary from Monday -->"
   ]
  },
  {
   "cell_type": "markdown",
   "id": "a9e5da7c",
   "metadata": {
    "editable": true
   },
   "source": [
    "# Quantum gates and quantum circuits and applications, summary from Monday\n",
    "**Nuclear TALENT course on quantum computing**\n",
    "\n",
    "Date: **Tuesday June 17, 2025**"
   ]
  },
  {
   "cell_type": "markdown",
   "id": "219d296a",
   "metadata": {
    "editable": true
   },
   "source": [
    "## Quantum Control\n",
    "\n",
    "The three basic steps: \n",
    "1. Initialization (see for example <https://journals.aps.org/prd/pdf/10.1103/PhysRevD.111.074515>)\n",
    "\n",
    "2. Evolution of the system\n",
    "\n",
    "3. Measurement/readout\n",
    "\n",
    "In this lecture we will illustrate this using some simple examples\n",
    "tailored to **quantum sensing**. We will also remind you of how we\n",
    "rephrase the physical processes in terms og gates and circuits.\n",
    "\n",
    "Let us start with a reminder from yesterday about various gates and how to encode them."
   ]
  },
  {
   "cell_type": "markdown",
   "id": "a8674d87",
   "metadata": {
    "editable": true
   },
   "source": [
    "## Widely used gates\n",
    "\n",
    "There are several widely used quantum gates. Perhaps the most famous are \n",
    "the Pauli gates correspond to the Pauli matrices"
   ]
  },
  {
   "cell_type": "markdown",
   "id": "c805452e",
   "metadata": {
    "editable": true
   },
   "source": [
    "$$\n",
    "I=\\begin{bmatrix} 1 & 0 \\\\ 0 & 1 \\end{bmatrix},\n",
    "$$"
   ]
  },
  {
   "cell_type": "markdown",
   "id": "08a7f6c5",
   "metadata": {
    "editable": true
   },
   "source": [
    "$$\n",
    "X =\\begin{bmatrix} 0 & 1 \\\\ 1 & 0\\end{bmatrix},\n",
    "$$"
   ]
  },
  {
   "cell_type": "markdown",
   "id": "34271ed3",
   "metadata": {
    "editable": true
   },
   "source": [
    "$$\n",
    "Y=\\begin{bmatrix}0 & -i \\\\i & 0\\end{bmatrix},\n",
    "$$"
   ]
  },
  {
   "cell_type": "markdown",
   "id": "d16c9e13",
   "metadata": {
    "editable": true
   },
   "source": [
    "$$\n",
    "Z=\\begin{bmatrix} 1 & 0 \\\\ 0 & -1\\end{bmatrix}.\n",
    "$$"
   ]
  },
  {
   "cell_type": "markdown",
   "id": "d006eb94",
   "metadata": {
    "editable": true
   },
   "source": [
    "## Algebra basis\n",
    "\n",
    "These gates form a basis for\n",
    "the algebra $\\mathfrak{su}(2)$. Exponentiating them will thus give us\n",
    "a basis for SU(2), the group within which all single-qubit gates\n",
    "live."
   ]
  },
  {
   "cell_type": "markdown",
   "id": "beac900e",
   "metadata": {
    "editable": true
   },
   "source": [
    "## Exponentiated Pauli gates\n",
    "\n",
    "These exponentiated Pauli gates are called rotation gates\n",
    "$R_{\\sigma}(\\theta)$ because they rotate the quantum state around the\n",
    "axis $\\sigma=X,Y,Z$ of the Bloch sphere by an angle $\\theta$. They are\n",
    "defined as"
   ]
  },
  {
   "cell_type": "markdown",
   "id": "f9bb676d",
   "metadata": {
    "editable": true
   },
   "source": [
    "$$\n",
    "R_X(\\theta)=e^{-i\\frac{\\theta}{2}X}=\n",
    "\\begin{bmatrix}\n",
    "\\cos\\frac{\\theta}{2} & -i\\sin\\frac{\\theta}{2} \\\\\n",
    "-i\\sin\\frac{\\theta}{2} & \\cos\\frac{\\theta}{2} \n",
    "\\end{bmatrix},\n",
    "$$"
   ]
  },
  {
   "cell_type": "markdown",
   "id": "1add2267",
   "metadata": {
    "editable": true
   },
   "source": [
    "$$\n",
    "R_Y(\\theta)=e^{-i\\frac{\\theta}{2}Y}=\n",
    "\\begin{bmatrix}\n",
    "\\cos\\frac{\\theta}{2} & -\\sin\\frac{\\theta}{2} \\\\\n",
    "\\sin\\frac{\\theta}{2} & \\cos\\frac{\\theta}{2} \n",
    "\\end{bmatrix},\n",
    "$$"
   ]
  },
  {
   "cell_type": "markdown",
   "id": "91f7d1a0",
   "metadata": {
    "editable": true
   },
   "source": [
    "$$\n",
    "R_Z(\\theta)=e^{-i\\frac{\\theta}{2}Z}=\\begin{bmatrix}\n",
    "e^{-i\\theta/2} & 0 \\\\\n",
    "0 & e^{i\\theta/2}\\end{bmatrix}.\n",
    "$$"
   ]
  },
  {
   "cell_type": "markdown",
   "id": "bb16909f",
   "metadata": {
    "editable": true
   },
   "source": [
    "## Basis for $\\mathrm{SU}(2)$\n",
    "\n",
    "Because they form a basis for $\\mathrm{SU}(2)$, any single-qubit gate\n",
    "can be decomposed into three rotation gates. Indeed"
   ]
  },
  {
   "cell_type": "markdown",
   "id": "f7425e3a",
   "metadata": {
    "editable": true
   },
   "source": [
    "$$\n",
    "R_z(\\phi)R_y(\\theta)R_z(\\lambda)=\n",
    "\\begin{bmatrix}\n",
    "e^{-i\\phi/2} & 0 \\\\\n",
    "0 & e^{i\\phi/2}\n",
    "\\end{bmatrix}\n",
    "\\begin{bmatrix}\n",
    "\\cos\\frac{\\theta}{2} & -\\sin\\frac{\\theta}{2} \\\\\n",
    "\\sin\\frac{\\theta}{2} & \\cos\\frac{\\theta}{2} \n",
    "\\end{bmatrix}\n",
    "\\begin{bmatrix}\n",
    "e^{-i\\lambda/2} & 0 \\\\\n",
    "0 & e^{i\\lambda/2}\n",
    "\\end{bmatrix}\n",
    "$$"
   ]
  },
  {
   "cell_type": "markdown",
   "id": "46034de0",
   "metadata": {
    "editable": true
   },
   "source": [
    "which we can rewite as"
   ]
  },
  {
   "cell_type": "markdown",
   "id": "caed9403",
   "metadata": {
    "editable": true
   },
   "source": [
    "$$\n",
    "e^{-i(\\phi+\\lambda)/2}\n",
    "\\begin{bmatrix}\n",
    "\\cos\\frac{\\theta}{2} & -e^{i\\lambda}\\sin\\frac{\\theta}{2}\\\\\n",
    "e^{i\\phi}\\sin\\frac{\\theta}{2} & e^{i(\\phi+\\lambda)}\\cos\\frac{\\theta}{2}\n",
    "\\end{bmatrix},\n",
    "$$"
   ]
  },
  {
   "cell_type": "markdown",
   "id": "4d7b7e46",
   "metadata": {
    "editable": true
   },
   "source": [
    "which is, up to a global phase, equal to the expression for an arbitrary single-qubit gate."
   ]
  },
  {
   "cell_type": "markdown",
   "id": "c0761885",
   "metadata": {
    "editable": true
   },
   "source": [
    "## Two-Qubit Gates\n",
    "\n",
    "A two-qubit gate is a physical action that is applied to two\n",
    "qubits. It can be represented by a matrix $U$ from the group\n",
    "SU(4). One important type of two-qubit gates are controlled gates,\n",
    "which work as follows: Suppose $U$ is a single-qubit gate. A\n",
    "controlled-$U$ gate ($CU$) acts on two qubits: a control qubit\n",
    "$\\vert x \\rangle $ and a target qubit $\\vert y \\rangle $. The controlled-$U$ gate\n",
    "applies the identity $I$ or the single-qubit gate $U$ to the target\n",
    "qubit if the control gate is in the zero state $\\vert 0\\rangle$ or the one\n",
    "state $\\vert 1\\rangle$, respectively."
   ]
  },
  {
   "cell_type": "markdown",
   "id": "a1cde3ce",
   "metadata": {
    "editable": true
   },
   "source": [
    "## Control qubit\n",
    "\n",
    "The control qubit is not acted\n",
    "upon. This can be represented as follows if"
   ]
  },
  {
   "cell_type": "markdown",
   "id": "1b763211",
   "metadata": {
    "editable": true
   },
   "source": [
    "$$\n",
    "CU\\vert xy\\rangle=\n",
    "\\vert xy\\rangle \\hspace{0.1cm} \\mathrm{if} \\hspace{0.1cm}  \\vert x \\rangle =\\vert 0\\rangle.\n",
    "$$"
   ]
  },
  {
   "cell_type": "markdown",
   "id": "0a63b2fa",
   "metadata": {
    "editable": true
   },
   "source": [
    "## In matrix form\n",
    "\n",
    "It is easier to see in a matrix form.\n",
    "It can be written in matrix form by writing it as a superposition of\n",
    "the two possible cases, each written as a simple tensor product"
   ]
  },
  {
   "cell_type": "markdown",
   "id": "0c6b0354",
   "metadata": {
    "editable": true
   },
   "source": [
    "$$\n",
    "CU = \\vert 0\\rangle\\langle 0\\vert\\otimes I + \\vert 1\\rangle\\langle 1 \\vert \\otimes U=\\begin{bmatrix}\n",
    "1 & 0 & 0 & 0 \\\\\n",
    "0 & 1 & 0 & 0 \\\\\n",
    "0 & 0 & u_{00} & u_{01} \\\\\n",
    "0 & 0 & u_{10} & u_{11}\n",
    "\\end{bmatrix}.\n",
    "$$"
   ]
  },
  {
   "cell_type": "markdown",
   "id": "975f34ac",
   "metadata": {
    "editable": true
   },
   "source": [
    "## CNOT gate\n",
    "\n",
    "One of the most fundamental controlled gates is the CNOT gate. It is\n",
    "defined as the controlled-$X$ gate $CX$. It can be written in matrix form as follows:"
   ]
  },
  {
   "cell_type": "markdown",
   "id": "4a4bda56",
   "metadata": {
    "editable": true
   },
   "source": [
    "$$\n",
    "\\mathrm{CNOT}=\\mathrm{CX}=\\begin{bmatrix}\n",
    "1 & 0 & 0 & 0 \\\\\n",
    "0 & 1 & 0 & 0 \\\\\n",
    "0 & 0 & 0 & 1 \\\\\n",
    "0 & 0 & 1 & 0\n",
    "\\end{bmatrix}.\n",
    "$$"
   ]
  },
  {
   "cell_type": "markdown",
   "id": "a975c7d6",
   "metadata": {
    "editable": true
   },
   "source": [
    "## $\\mathrm{CX}$ gate\n",
    "\n",
    "It changes, when operating on a two-qubit state where the first qubit is the control qubit and the second qubit is the target qubit, the states (check this)"
   ]
  },
  {
   "cell_type": "markdown",
   "id": "3f3fc382",
   "metadata": {
    "editable": true
   },
   "source": [
    "$$\n",
    "\\mathrm{CX}\\vert 00\\rangle=\\vert 00\\rangle,\n",
    "$$"
   ]
  },
  {
   "cell_type": "markdown",
   "id": "34551baa",
   "metadata": {
    "editable": true
   },
   "source": [
    "$$\n",
    "\\mathrm{CX}\\vert 10\\rangle= \\vert 11\\rangle,\n",
    "$$"
   ]
  },
  {
   "cell_type": "markdown",
   "id": "bf5e02af",
   "metadata": {
    "editable": true
   },
   "source": [
    "$$\n",
    "\\mathrm{CX}\\vert 01\\rangle= \\vert 01\\rangle,\n",
    "$$"
   ]
  },
  {
   "cell_type": "markdown",
   "id": "14f92ce1",
   "metadata": {
    "editable": true
   },
   "source": [
    "$$\n",
    "\\mathrm{CX}\\vert 11\\rangle= \\vert 10\\rangle,\n",
    "$$"
   ]
  },
  {
   "cell_type": "markdown",
   "id": "b785277d",
   "metadata": {
    "editable": true
   },
   "source": [
    "which you can easily see by simply multiplying the above matrix with any of the above states."
   ]
  },
  {
   "cell_type": "markdown",
   "id": "eae30b66",
   "metadata": {
    "editable": true
   },
   "source": [
    "## Swap gate\n",
    "\n",
    "A widely used two-qubit gate that goes beyond the simple controlled function is the SWAP gate. It swaps the states of the two qubits it acts upon"
   ]
  },
  {
   "cell_type": "markdown",
   "id": "398b8115",
   "metadata": {
    "editable": true
   },
   "source": [
    "$$\n",
    "\\mathrm{SWAP}\\vert xy\\rangle=\\vert yx\\rangle.\n",
    "$$"
   ]
  },
  {
   "cell_type": "markdown",
   "id": "20ff19a3",
   "metadata": {
    "editable": true
   },
   "source": [
    "and has the following matrix form"
   ]
  },
  {
   "cell_type": "markdown",
   "id": "0d3f503f",
   "metadata": {
    "editable": true
   },
   "source": [
    "$$\n",
    "\\mathrm{SWAP}\n",
    "=\\begin{bmatrix}\n",
    "1 & 0 & 0 & 0 \\\\\n",
    "0 & 0 & 1 & 0 \\\\\n",
    "0 & 1 & 0 & 0 \\\\\n",
    "0 & 0 & 0 & 1\n",
    "\\end{bmatrix}.\n",
    "$$"
   ]
  },
  {
   "cell_type": "markdown",
   "id": "da40909f",
   "metadata": {
    "editable": true
   },
   "source": [
    "## An example of an OO  code for quantum gates and circuits"
   ]
  },
  {
   "cell_type": "code",
   "execution_count": 1,
   "id": "e51301fb",
   "metadata": {
    "collapsed": false,
    "editable": true
   },
   "outputs": [],
   "source": [
    "%matplotlib inline\n",
    "\n",
    "\n",
    "import numpy as np\n",
    "import random\n",
    "import matplotlib.pyplot as plt\n",
    "from collections import Counter\n",
    "from mpl_toolkits.mplot3d import Axes3D # Ensure this is imported\n",
    "\n",
    "# =============================== #\n",
    "#       Quantum Gate Classes      #\n",
    "# =============================== #\n",
    "\n",
    "class Gate:\n",
    "    def __init__(self, matrix, targets):\n",
    "        self.matrix = np.array(matrix, dtype=np.complex128)\n",
    "        # Convert Qubit objects (if any) to indices\n",
    "        self.targets = [(t.index if isinstance(t, Qubit) else t) for t in targets]\n",
    "        self.num_targets = len(self.targets)\n",
    "        self.name = \"CustomGate\"\n",
    "\n",
    "class OneQubitGate(Gate):\n",
    "    def __init__(self, matrix, target):\n",
    "        super().__init__(matrix, [target])\n",
    "        # Add name attribute in subclasses if needed for representation\n",
    "        if np.array_equal(matrix, np.eye(2)): self.name = \"I\"\n",
    "        elif np.array_equal(matrix, np.array([[0,1],[1,0]])): self.name = \"X\"\n",
    "        elif np.array_equal(matrix, np.array([[0,-1j],[1j,0]])): self.name = \"Y\"\n",
    "        elif np.array_equal(matrix, np.array([[1,0],[0,-1]])): self.name = \"Z\"\n",
    "        elif np.allclose(matrix, (1/np.sqrt(2))*np.array([[1,1],[1,-1]])): self.name = \"H\"\n",
    "        elif np.array_equal(matrix, np.array([[1,0],[0,1j]])): self.name = \"S\"\n",
    "        elif np.allclose(matrix, np.array([[1,0],[0,np.exp(1j*np.pi/4)]])): self.name = \"T\"\n",
    "        # Note: Naming Rx, Ry, Rz requires theta, which is not stored in the base matrix\n",
    "\n",
    "class TwoQubitGate(Gate):\n",
    "    def __init__(self, matrix, control, target):\n",
    "        super().__init__(matrix, [control, target])\n",
    "        # Add name attribute in subclasses if needed for representation\n",
    "        if np.array_equal(matrix, np.array([[1,0,0,0],[0,1,0,0],[0,0,0,1],[0,0,1,0]])): self.name = \"CNOT\"\n",
    "        elif np.array_equal(matrix, np.array([[1,0,0,0],[0,1,0,0],[0,0,1,0],[0,0,0,-1]])): self.name = \"CZ\"\n",
    "        elif np.array_equal(matrix, np.array([[1,0,0,0],[0,0,1,0],[0,1,0,0],[0,0,0,1]])): self.name = \"SWAP\"\n",
    "\n",
    "\n",
    "# One-qubit standard gate matrices\n",
    "def I():  return np.eye(2)\n",
    "def X():  return np.array([[0,1],[1,0]])\n",
    "def Y():  return np.array([[0,-1j],[1j,0]])\n",
    "def Z():  return np.array([[1,0],[0,-1]])\n",
    "def H():  return (1/np.sqrt(2))*np.array([[1,1],[1,-1]])\n",
    "def S():  return np.array([[1,0],[0,1j]])\n",
    "def T():  return np.array([[1,0],[0,np.exp(1j*np.pi/4)]])\n",
    "\n",
    "def Rx(theta):\n",
    "    return np.array([\n",
    "        [np.cos(theta/2), -1j*np.sin(theta/2)],\n",
    "        [-1j*np.sin(theta/2), np.cos(theta/2)]\n",
    "    ])\n",
    "\n",
    "def Ry(theta):\n",
    "    return np.array([\n",
    "        [np.cos(theta/2), -np.sin(theta/2)],\n",
    "        [np.sin(theta/2),  np.cos(theta/2)]\n",
    "    ])\n",
    "\n",
    "def Rz(theta):\n",
    "    return np.array([\n",
    "        [np.exp(-1j*theta/2), 0],\n",
    "        [0, np.exp(1j*theta/2)]\n",
    "    ])\n",
    "\n",
    "# Two-qubit gate matrices\n",
    "def CNOT_matrix(): # Renamed to avoid conflict if CNOTGate is a class\n",
    "    return np.array([\n",
    "        [1,0,0,0],\n",
    "        [0,1,0,0],\n",
    "        [0,0,0,1],\n",
    "        [0,0,1,0]\n",
    "    ])\n",
    "\n",
    "def CZ_matrix(): # Renamed\n",
    "    return np.array([\n",
    "        [1,0,0,0],\n",
    "        [0,1,0,0],\n",
    "        [0,0,1,0],\n",
    "        [0,0,0,-1]\n",
    "    ])\n",
    "\n",
    "def SWAP_matrix(): # Renamed\n",
    "    return np.array([\n",
    "        [1,0,0,0],\n",
    "        [0,0,1,0],\n",
    "        [0,1,0,0],\n",
    "        [0,0,0,1]\n",
    "    ])\n",
    "\n",
    "# Helper class for Qubit (optional, but consistent with file 1)\n",
    "class Qubit:\n",
    "    def __init__(self, index):\n",
    "        self.index = index\n",
    "\n",
    "\n",
    "# =============================== #\n",
    "#      Quantum Circuit Class      #\n",
    "# =============================== #\n",
    "\n",
    "class Circuit:\n",
    "    def __init__(self, num_qubits):\n",
    "        self.n = num_qubits\n",
    "        self.qubits = [Qubit(i) for i in range(num_qubits)] # Added for consistency\n",
    "        self.reset()\n",
    "\n",
    "    def reset(self):\n",
    "        self.state = np.zeros(2**self.n, dtype=np.complex128)\n",
    "        self.state[0] = 1.0\n",
    "        self.gates = []\n",
    "\n",
    "    def add_gate(self, gate):\n",
    "        # Ensure gate targets are valid for this circuit\n",
    "        for t in gate.targets:\n",
    "            if t < 0 or t >= self.n: # Use self.n for consistency\n",
    "                raise ValueError(f\"Qubit index {t} out of range for {self.n} qubits.\")\n",
    "        self.gates.append(gate)\n",
    "\n",
    "    def run(self):\n",
    "        for gate in self.gates:\n",
    "            self.apply_gate(gate)\n",
    "        # No return needed here, state is updated internally\n",
    "\n",
    "    def apply_gate(self, gate):\n",
    "        \"\"\"Apply a single gate's unitary to the current state vector.\"\"\"\n",
    "        if gate.num_targets == 1:\n",
    "            # One-qubit gate\n",
    "            target = gate.targets[0]\n",
    "            n = self.n\n",
    "            # Calculate indices for pairs (target_qubit=0, target_qubit=1)\n",
    "            diff = 2 ** (n - 1 - target)\n",
    "            step = diff * 2\n",
    "            new_state = self.state.copy()\n",
    "\n",
    "            # Iterate over pairs of amplitudes where target qubit is 0 vs 1\n",
    "            # This loop structure correctly handles applying a single-qubit gate\n",
    "            # across the larger state space.\n",
    "            for i in range(0, len(self.state), step):\n",
    "                for j in range(diff):\n",
    "                    idx0 = i + j             # index where target qubit is 0\n",
    "                    idx1 = idx0 + diff       # index where target qubit is 1\n",
    "                    a0, a1 = self.state[idx0], self.state[idx1]\n",
    "\n",
    "                    # Apply 2x2 matrix U to [a0, a1]\n",
    "                    new_state[idx0] = gate.matrix[0][0]*a0 + gate.matrix[0][1]*a1\n",
    "                    new_state[idx1] = gate.matrix[1][0]*a0 + gate.matrix[1][1]*a1\n",
    "            self.state = new_state\n",
    "\n",
    "        elif gate.num_targets == 2:\n",
    "            # Two-qubit gate\n",
    "            p, q = gate.targets  # the two qubit indices\n",
    "            n = self.n\n",
    "\n",
    "            # Determine the positions of the qubits in the state vector indexing\n",
    "            # Indexing is typically big-endian (most significant bit first).\n",
    "            # If qubit 0 is the left-most bit, its mask is 2^(n-1), qubit 1 is 2^(n-2), etc.\n",
    "            mask_p = 2 ** (n - 1 - p)\n",
    "            mask_q = 2 ** (n - 1 - q)\n",
    "\n",
    "            new_state = self.state.copy()\n",
    "\n",
    "            # Iterate through all possible lower bits combinations (excluding p and q)\n",
    "            # A more efficient way is to iterate directly through the 2x2 sub-blocks\n",
    "            # but this index-based approach is conceptually clearer for the 4x4 application.\n",
    "            # We can iterate over all indices and only process those where the bits\n",
    "            # corresponding to p and q are both 0 in the 'base' index.\n",
    "            for base in range(len(self.state)):\n",
    "                # Check if the p-th and q-th bits are both 0 in the current index `base`.\n",
    "                # This finds the starting index of each 4x4 block in the state vector.\n",
    "                if (base & mask_p) != 0 or (base & mask_q) != 0:\n",
    "                    continue # Skip if this is not a 'base' index (where p and q bits are 0)\n",
    "\n",
    "                # Construct the four indices corresponding to the basis states |p_bit q_bit⟩\n",
    "                # based on the masks. These must correspond to the order expected by the 4x4 matrix.\n",
    "                # The standard order is |00>, |01>, |10>, |11>.\n",
    "                # Assuming the gate matrix is ordered for (qubit p, qubit q):\n",
    "                # |00> corresponds to index `base`\n",
    "                # |01> corresponds to index where p bit is 0 and q bit is 1\n",
    "                # |10> corresponds to index where p bit is 1 and q bit is 0\n",
    "                # |11> corresponds to index where p bit is 1 and q bit is 1\n",
    "                # The indices are constructed by adding the masks.\n",
    "                idx00 = base\n",
    "                idx01 = base + mask_q\n",
    "                idx10 = base + mask_p\n",
    "                idx11 = base + mask_p + mask_q\n",
    "\n",
    "                # Get current amplitudes for these four basis states\n",
    "                a00, a01, a10, a11 = self.state[idx00], self.state[idx01], self.state[idx10], self.state[idx11]\n",
    "\n",
    "                # Apply the 4x4 gate matrix to the vector of these four amplitudes\n",
    "                result = gate.matrix @ np.array([a00, a01, a10, a11], dtype=np.complex128)\n",
    "\n",
    "                # Update the new state vector with the transformed amplitudes\n",
    "                new_state[idx00], new_state[idx01], new_state[idx10], new_state[idx11] = result[0], result[1], result[2], result[3]\n",
    "\n",
    "            self.state = new_state\n",
    "\n",
    "        else:\n",
    "            raise ValueError(\"Gate with unsupported number of targets.\")\n",
    "\n",
    "\n",
    "    # Removed the incorrect expand_gate method\n",
    "\n",
    "    def get_statevector(self):\n",
    "        return self.state.copy() # Return a copy\n",
    "\n",
    "    def get_probabilities(self):\n",
    "        return np.abs(self.state)**2\n",
    "\n",
    "    def measure(self, shots=1024):\n",
    "        probs = self.get_probabilities()\n",
    "        basis_states = [format(i, f'0{self.n}b') for i in range(2**self.n)]\n",
    "        # Ensure probabilities sum to 1 for random.choices\n",
    "        probs_sum = np.sum(probs)\n",
    "        if probs_sum > 1e-9: # Avoid division by zero\n",
    "            normalized_probs = probs / probs_sum\n",
    "        else:\n",
    "            normalized_probs = probs # Or handle as needed, e.g., raise error or return empty counts\n",
    "\n",
    "        samples = random.choices(basis_states, weights=normalized_probs, k=shots)\n",
    "        return dict(Counter(samples))\n",
    "\n",
    "    def visualize_probabilities(self, title=\"State Probabilities\"):\n",
    "        probs = self.get_probabilities()\n",
    "        basis = [format(i, f'0{self.n}b') for i in range(2**self.n)]\n",
    "        plt.figure(figsize=(8, 5)) # Added figure size\n",
    "        plt.bar(basis, probs, color='teal')\n",
    "        plt.xlabel(\"Basis States\")\n",
    "        plt.ylabel(\"Probability\")\n",
    "        plt.title(title)\n",
    "        plt.grid(axis='y', linestyle='--', alpha=0.7) # Added grid\n",
    "        plt.show()\n",
    "\n",
    "    def visualize_state(self):\n",
    "        \"\"\"Basic visualization of the current state: Bloch sphere for 1 qubit, or probabilities for multiple qubits.\"\"\"\n",
    "        if self.n == 1: # Use self.n for consistency\n",
    "            # Bloch sphere visualization for single qubit state\n",
    "            alpha = self.state[0]\n",
    "            beta = self.state[1] if len(self.state) > 1 else 0 # Should always be len 2 for 1 qubit\n",
    "\n",
    "            # Ensure the state is normalized for Bloch sphere calculation\n",
    "            norm = np.sqrt(np.abs(alpha)**2 + np.abs(beta)**2)\n",
    "            if norm > 1e-9: # Avoid division by zero or very small numbers\n",
    "                alpha /= norm\n",
    "                beta /= norm\n",
    "            else:\n",
    "                 # Handle the case of a zero state vector (shouldn't happen in unitary evolution)\n",
    "                 # Or just plot at the origin if the state is somehow zero\n",
    "                 x, y, z = 0, 0, 0\n",
    "\n",
    "\n",
    "            # Compute Bloch sphere coordinates (x,y,z) from state alpha | 0> + beta |1>\n",
    "            x = 2 * np.real(alpha * np.conj(beta))\n",
    "            y = 2 * np.imag(alpha * np.conj(beta))\n",
    "            z = np.abs(alpha)**2 - np.abs(beta)**2\n",
    "\n",
    "            # Plot a 3D Bloch sphere with the state vector\n",
    "            fig = plt.figure(figsize=(6,6)) # Adjusted figure size\n",
    "            ax = fig.add_subplot(111, projection='3d')\n",
    "\n",
    "            # Draw sphere wireframe\n",
    "            u = np.linspace(0, 2*np.pi, 36)\n",
    "            v = np.linspace(0, np.pi, 18)\n",
    "            xs = np.outer(np.cos(u), np.sin(v))\n",
    "            ys = np.outer(np.sin(u), np.sin(v))\n",
    "            zs = np.outer(np.ones_like(u), np.cos(v))\n",
    "            ax.plot_wireframe(xs, ys, zs, color='gray', alpha=0.3)\n",
    "\n",
    "            # Draw coordinate axes (Scaled slightly for better visualization)\n",
    "            ax.quiver(0,0,0, 1.2,0,0, color='red', arrow_length_ratio=0.05) # X-axis\n",
    "            ax.quiver(0,0,0, 0,1.2,0, color='green', arrow_length_ratio=0.05) # Y-axis\n",
    "            ax.quiver(0,0,0, 0,0,1.2, color='blue', arrow_length_ratio=0.05) # Z-axis\n",
    "            ax.text(1.3, 0, 0, 'X', color='red', fontsize=12)\n",
    "            ax.text(0, 1.3, 0, 'Y', color='green', fontsize=12)\n",
    "            ax.text(0, 0, 1.3, 'Z', color='blue', fontsize=12)\n",
    "\n",
    "            # Draw state vector\n",
    "            ax.quiver(0,0,0, x, y, z, color='purple', linewidth=2, arrow_length_ratio=0.1) # Used quiver for vector\n",
    "\n",
    "            # Set plot limits and labels\n",
    "            ax.set_xlim([-1, 1])\n",
    "            ax.set_ylim([-1, 1])\n",
    "            ax.set_zlim([-1, 1])\n",
    "            ax.set_xlabel('X')\n",
    "            ax.set_ylabel('Y')\n",
    "            ax.set_zlabel('Z')\n",
    "            ax.set_title('Bloch Sphere')\n",
    "\n",
    "            # Hide grid lines\n",
    "            ax.grid(False)\n",
    "            # Set axis aspect ratio to equal\n",
    "            ax.set_box_aspect([1,1,1])\n",
    "\n",
    "            plt.show()\n",
    "\n",
    "        else:\n",
    "            # For multiple qubits, visualize probabilities\n",
    "            self.visualize_probabilities(title=\"State Probabilities (Multi-Qubit)\")\n",
    "\n",
    "\n",
    "# =============================== #\n",
    "#            Noise models         #\n",
    "# =============================== #\n",
    "\n",
    "def apply_bit_flip(state, p):\n",
    "    # This noise model application is not integrated into the Circuit class's run method.\n",
    "    # It would need to be applied *after* a gate operation to the resulting state,\n",
    "    # or the Circuit class would need a dedicated method to add noise.\n",
    "    # The current implementation modifies the state vector directly and incorrectly\n",
    "    # as bit flips should be applied to the basis states probabilistically, not\n",
    "    # by adding amplitudes.\n",
    "    # This function is likely not working as intended for simulating noise.\n",
    "    # A proper noise simulation would involve density matrices or probabilistic\n",
    "    # application of error operators after each gate.\n",
    "\n",
    "    # Placeholder/Incorrect implementation\n",
    "    noisy_state = state.copy()\n",
    "    for i in range(len(state)):\n",
    "        if random.random() < p:\n",
    "            # This is a very simplified and likely incorrect way to simulate bit flip.\n",
    "            # A bit flip on qubit k means state |...b_k...> flips to |...~b_k...>.\n",
    "            # The index i represents a basis state. Flipping the LSB of i\n",
    "            # does not correspond to flipping a specific qubit's bit unless it's qubit 0.\n",
    "            # A correct implementation would involve applying the error matrix (like X)\n",
    "            # to the state vector with probability p, and Identity with probability (1-p).\n",
    "            pass # Do nothing with the incorrect logic\n",
    "\n",
    "    print(\"Warning: apply_bit_flip function is a simplified and likely incorrect noise model simulation.\")\n",
    "    return state # Return original state as the implementation is incorrect\n",
    "\n",
    "def apply_depolarizing(state, p):\n",
    "     # Similar issues to apply_bit_flip regarding correct noise simulation.\n",
    "     # A depolarizing channel replaces the state with a mixed state I/d with probability p.\n",
    "     # Simulating this with state vectors is not standard; it typically requires density matrices.\n",
    "     d = len(state)\n",
    "     # This calculation (1-p)*state + p/d * ones is incorrect for depolarizing.\n",
    "     print(\"Warning: apply_depolarizing function is a simplified and likely incorrect noise model simulation.\")\n",
    "     return state # Return original state as the implementation is incorrect\n",
    "\n",
    "\n",
    "# =============================== #\n",
    "#       Bell state generator      #\n",
    "# =============================== #\n",
    "\n",
    "def bell_state(label=\"Phi+\"):\n",
    "    c = Circuit(2)\n",
    "    # Use the matrix functions to define the gates\n",
    "    c.add_gate(OneQubitGate(H(), 0))\n",
    "    c.add_gate(TwoQubitGate(CNOT_matrix(), 0, 1)) # Use the renamed matrix function\n",
    "    if label == \"Phi+\":\n",
    "        pass\n",
    "    elif label == \"Phi-\":\n",
    "        c.add_gate(OneQubitGate(Z(), 0))\n",
    "    elif label == \"Psi+\":\n",
    "        c.add_gate(OneQubitGate(X(), 1))\n",
    "    elif label == \"Psi-\":\n",
    "        c.add_gate(OneQubitGate(X(), 1))\n",
    "        c.add_gate(OneQubitGate(Z(), 0))\n",
    "    else:\n",
    "        raise ValueError(\"Unknown Bell state\")\n",
    "    c.run()\n",
    "    return c\n",
    "\n",
    "# =============================== #\n",
    "#         Demonstration           #\n",
    "# =============================== #\n",
    "\n",
    "if __name__ == \"__main__\":\n",
    "\n",
    "    labels = [\"Phi+\", \"Phi-\", \"Psi+\", \"Psi-\"]\n",
    "    shots = 1000\n",
    "\n",
    "    for label in labels:\n",
    "        print(f\"\\n{label} state:\")\n",
    "        c = bell_state(label)\n",
    "        print(\"Statevector:\", c.get_statevector())\n",
    "        # Visualize statevector using the new visualize_state method\n",
    "        c.visualize_state()\n",
    "        # Measure and print counts\n",
    "        results = c.measure(shots=shots)\n",
    "        print(f\"Measurement (shots={shots}):\", results)\n",
    "        # You can also visualize the measurement probabilities directly\n",
    "        c.visualize_probabilities(title=f\"{label} state measurement probabilities\")\n",
    "\n",
    "    # Example of a single qubit circuit and visualization\n",
    "    print(\"\\nSingle qubit example:\")\n",
    "    single_qubit_circuit = Circuit(1)\n",
    "    single_qubit_circuit.add_gate(OneQubitGate(H(), 0))\n",
    "    single_qubit_circuit.run()\n",
    "    print(\"Statevector after H:\", single_qubit_circuit.get_statevector())\n",
    "    single_qubit_circuit.visualize_state()\n",
    "\n",
    "    single_qubit_circuit.add_gate(OneQubitGate(Rx(np.pi/2), 0))\n",
    "    single_qubit_circuit.run()\n",
    "    print(\"Statevector after Rx(pi/2):\", single_qubit_circuit.get_statevector())\n",
    "    single_qubit_circuit.visualize_state()"
   ]
  },
  {
   "cell_type": "markdown",
   "id": "c58b73f3",
   "metadata": {
    "editable": true
   },
   "source": [
    "## Introduction to [Qiskit](https://qiskit.org/)\n",
    "\n",
    "For the latest **qiskit** version see <https://github.com/NuclearTalent/TalentQuantumComputingECT2025/blob/main/doc/pub/Exercises/1_getting_started_with_qiskit.ipynb>"
   ]
  },
  {
   "cell_type": "markdown",
   "id": "dc374db8",
   "metadata": {
    "editable": true
   },
   "source": [
    "## Basics of quantum sensing\n",
    "In quantum sensing, **readout functions** refer to the methods used to\n",
    "extract information about the quantum system after a series of\n",
    "operations or measurements have been performed."
   ]
  },
  {
   "cell_type": "markdown",
   "id": "c337cc7e",
   "metadata": {
    "editable": true
   },
   "source": [
    "The readout process\n",
    "typically involves measuring the state of quantum bits (qubits) or\n",
    "other quantum observables, and this information is then used to infer\n",
    "physical quantities such as time, magnetic fields, temperature, or\n",
    "other parameters being sensed."
   ]
  },
  {
   "cell_type": "markdown",
   "id": "d221e416",
   "metadata": {
    "editable": true
   },
   "source": [
    "## Example of Readout Functions in Quantum Sensing\n",
    "\n",
    "**A common example in quantum sensing involves measuring the state of a\n",
    "qubit after it has interacted with some external field or force.** The\n",
    "quantum sensor’s response is determined by how the qubit state evolves\n",
    "due to the applied field, and the readout function is the measurement\n",
    "procedure that allows us to extract this information."
   ]
  },
  {
   "cell_type": "markdown",
   "id": "fbf8f08c",
   "metadata": {
    "editable": true
   },
   "source": [
    "## Example 1: Quantum Magnetometry with a Single Qubit\n",
    "\n",
    "Let’s consider a typical scenario of quantum magnetometry using a\n",
    "single qubit that interacts with a magnetic field. We will use the\n",
    "concept of quantum state measurement as a readout function to infer\n",
    "the value of the magnetic field."
   ]
  },
  {
   "cell_type": "markdown",
   "id": "321cdd3f",
   "metadata": {
    "editable": true
   },
   "source": [
    "## Step 1: Initial Qubit State\n",
    "\n",
    "In this example, we use a spin-1/2 system (e.g., a qubit) that is\n",
    "sensitive to an external magnetic field. A common method of performing\n",
    "quantum sensing is to apply a quantum gate (e.g., a rotation) to the\n",
    "qubit and then measure its state.\n",
    "\n",
    "Assume the initial state of the qubit is"
   ]
  },
  {
   "cell_type": "markdown",
   "id": "7116baaf",
   "metadata": {
    "editable": true
   },
   "source": [
    "$$\n",
    "\\vert \\psi \\rangle = \\alpha \\vert 0\\rangle + \\beta |1\\rangle,\n",
    "$$"
   ]
  },
  {
   "cell_type": "markdown",
   "id": "e7105e9a",
   "metadata": {
    "editable": true
   },
   "source": [
    "where $\\alpha$ and $\\beta$ are complex\n",
    "amplitudes, and $\\vert 0\\rangle$ and $\\vert 1\\rangle$\n",
    "are the computational basis\n",
    "states."
   ]
  },
  {
   "cell_type": "markdown",
   "id": "b61ebb69",
   "metadata": {
    "editable": true
   },
   "source": [
    "## Step 2: Interaction with External Field\n",
    "\n",
    "When a magnetic field is applied to the qubit, it will induce a phase\n",
    "shift in the qubit’s state. The evolution of the qubit’s state can be\n",
    "modeled using the time evolution operator $U(t)$, which depends on the\n",
    "interaction with the magnetic field. The evolution can be described\n",
    "as:"
   ]
  },
  {
   "cell_type": "markdown",
   "id": "42e895c3",
   "metadata": {
    "editable": true
   },
   "source": [
    "$$\n",
    "U(t) = \\exp{-\\imath  \\mathcal{H} t}\n",
    "$$"
   ]
  },
  {
   "cell_type": "markdown",
   "id": "3a092a3b",
   "metadata": {
    "editable": true
   },
   "source": [
    "where $\\mathcal{H}$ is the Hamiltonian of the qubit system, which in\n",
    "the case of a spin-1/2 particle in a magnetic field $B$ could be"
   ]
  },
  {
   "cell_type": "markdown",
   "id": "5f75ae43",
   "metadata": {
    "editable": true
   },
   "source": [
    "$$\n",
    "\\mathcal{H} =-\\gamma B \\hat{S}_z,\n",
    "$$"
   ]
  },
  {
   "cell_type": "markdown",
   "id": "4a406f33",
   "metadata": {
    "editable": true
   },
   "source": [
    "with $\\gamma$ being the gyromagnetic ratio and\n",
    "$\\hat{S}_z$ being the spin operator along the $z$-axis."
   ]
  },
  {
   "cell_type": "markdown",
   "id": "639b35bd",
   "metadata": {
    "editable": true
   },
   "source": [
    "## As time evolves\n",
    "\n",
    "After time $t$, the qubit’s state becomes:"
   ]
  },
  {
   "cell_type": "markdown",
   "id": "da38adad",
   "metadata": {
    "editable": true
   },
   "source": [
    "$$\n",
    "\\vert \\psi(t) \\rangle = \\alpha \\vert 0\\rangle + \\beta \\exp{-(i \\gamma B t)} \\vert 1\\rangle,\n",
    "$$"
   ]
  },
  {
   "cell_type": "markdown",
   "id": "ac74f9d5",
   "metadata": {
    "editable": true
   },
   "source": [
    "Here, the phase shift $\\exp{-(i \\gamma B t)}$ accumulates depending on the applied magnetic field $B$."
   ]
  },
  {
   "cell_type": "markdown",
   "id": "30055bd8",
   "metadata": {
    "editable": true
   },
   "source": [
    "## Step 3: Measurement (Readout Function)\n",
    "\n",
    "After the interaction with the magnetic field, the next step is to\n",
    "measure the qubit. The readout function involves projecting the\n",
    "quantum state onto a measurement basis, often the computational basis\n",
    "$\\{|0\\rangle, |1\\rangle\\}$. The outcome of the measurement can then be\n",
    "used to infer information about the external field."
   ]
  },
  {
   "cell_type": "markdown",
   "id": "fa270ee9",
   "metadata": {
    "editable": true
   },
   "source": [
    "## Measurement Probability\n",
    "\n",
    "**Measurement Probability**: The probability of measuring the state\n",
    "$\\vert 0\\rangle$  or $\\vert 1\\rangle$ is given by the squared modulus of the\n",
    "corresponding amplitudes.\n",
    "\n",
    "1. Probability of measuring $\\vert 0\\rangle$: $P(0) = |\\alpha|^2$\n",
    "\n",
    "2. Probability of measuring $\\vert 1\\rangle$: $P(1) = |\\beta \\exp{-(i \\gamma B t)}|^2 = |\\beta|^2$"
   ]
  },
  {
   "cell_type": "markdown",
   "id": "8d6187e0",
   "metadata": {
    "editable": true
   },
   "source": [
    "## Readout Function\n",
    "\n",
    "**Readout Function**: The measurement outcome corresponds to a result that\n",
    "is used to estimate the magnetic field. For instance, if the qubit\n",
    "undergoes a rotation due to the magnetic field, the phase shift in the\n",
    "qubit’s state can be used to infer the magnetic field\n",
    "strength. Typically, a series of measurements and repeated experiments\n",
    "are performed to average out the noise and obtain a precise estimate\n",
    "of $B$."
   ]
  },
  {
   "cell_type": "markdown",
   "id": "b73d65e8",
   "metadata": {
    "editable": true
   },
   "source": [
    "## Example 2: Using a Readout Function to Estimate Parameters\n",
    "\n",
    "Let’s say the qubit’s state before the measurement is in a\n",
    "superposition state, and we want to determine the magnetic field\n",
    "strength by reading out the qubit’s state. After the qubit has\n",
    "undergone the evolution $U(t)$, we measure it in the computational basis\n",
    "and repeat the experiment many times to obtain the average outcome.\n",
    "\n",
    "We could perform parameter estimation by measuring the expected value\n",
    "of some observable (e.g., $\\hat{S}_z)$ and comparing the outcomes to\n",
    "theoretical predictions."
   ]
  },
  {
   "cell_type": "markdown",
   "id": "23c76959",
   "metadata": {
    "editable": true
   },
   "source": [
    "## Expectation value of $\\hat{S}_z$\n",
    "\n",
    "For example, the expectation value of $\\hat{S}_z$ (the spin along the $z$-axis)\n",
    "in the state $\\vert \\psi(t) \\rangle$ is:"
   ]
  },
  {
   "cell_type": "markdown",
   "id": "f3d8e1c8",
   "metadata": {
    "editable": true
   },
   "source": [
    "$$\n",
    "\\langle \\hat{S}_z \\rangle = \\langle \\psi(t) \\vert \\hat{S}_z \\vert \\psi(t) \\rangle = \\frac{1}{2} \\left( |\\alpha|^2 - |\\beta|^2 \\right),\n",
    "$$"
   ]
  },
  {
   "cell_type": "markdown",
   "id": "aed5bfd3",
   "metadata": {
    "editable": true
   },
   "source": [
    "## Phase shift\n",
    "\n",
    "Since the magnetic field causes a phase shift $\\exp{-(i \\gamma B t)}$, the\n",
    "measurement of the expectation value of $\\hat{S}_z$ gives us a way to\n",
    "infer the magnetic field $B$. By performing a series of measurements and\n",
    "comparing the observed values to theoretical models, we can estimate\n",
    "the field strength $B$."
   ]
  },
  {
   "cell_type": "markdown",
   "id": "5a396305",
   "metadata": {
    "editable": true
   },
   "source": [
    "## One-qubit system\n",
    "\n",
    "In the first part of this example, we will analyze our systems using\n",
    "plain diagonalization and simple analytical manipulations.  Thereafter\n",
    "we will develop codes and material for performing a quantum computing\n",
    "simulation of the same systems.\n",
    "\n",
    "Our first encounter is a simple one-qubit system, described by a simple $2\\times 2$ Hamiltonian.\n",
    "\n",
    "We start with a simple $2\\times 2$ Hamiltonian matrix expressed in\n",
    "terms of Pauli $\\boldsymbol{X}$, $\\boldsymbol{Y}$  and $\\boldsymbol{Z}$ matrices. But before we proceed, a simple reminder is appropriate."
   ]
  },
  {
   "cell_type": "markdown",
   "id": "f10a4836",
   "metadata": {
    "editable": true
   },
   "source": [
    "## Please not again: Single qubit gates\n",
    "\n",
    "The Pauli matrices (and gate operations following therefrom) are defined as"
   ]
  },
  {
   "cell_type": "markdown",
   "id": "d2541243",
   "metadata": {
    "editable": true
   },
   "source": [
    "$$\n",
    "\\boldsymbol{X} \\equiv \\sigma_x = \\begin{bmatrix}\n",
    "\t\t0 & 1 \\\\\n",
    "\t\t1 & 0\n",
    "\t\\end{bmatrix}, \\quad\n",
    "\t\\boldsymbol{Y} \\equiv \\sigma_y = \\begin{bmatrix}\n",
    "\t\t0 & -i \\\\\n",
    "\t\ti & 0\n",
    "\t\\end{bmatrix}, \\quad\n",
    "\t\\boldsymbol{Z} \\equiv \\sigma_z = \\begin{bmatrix}\n",
    "\t\t1 & 0 \\\\\n",
    "\t\t0 & -1\n",
    "\t\\end{bmatrix}.\n",
    "$$"
   ]
  },
  {
   "cell_type": "markdown",
   "id": "ad253cde",
   "metadata": {
    "editable": true
   },
   "source": [
    "## Pauli gates\n",
    "\n",
    "The Pauli-$\\boldsymbol{X}$ gate is also known as the **NOT** gate, which flips the state of the qubit."
   ]
  },
  {
   "cell_type": "markdown",
   "id": "003bd260",
   "metadata": {
    "editable": true
   },
   "source": [
    "$$\n",
    "\\begin{align*}\n",
    "\t\\boldsymbol{X}\\vert 0\\rangle &= \\vert 1\\rangle, \\\\\n",
    "\t\\boldsymbol{X}\\vert 1\\rangle &= \\vert 0\\rangle.\t\n",
    "\\end{align*}\n",
    "$$"
   ]
  },
  {
   "cell_type": "markdown",
   "id": "126e2e46",
   "metadata": {
    "editable": true
   },
   "source": [
    "The Pauli-$\\boldsymbol{Y}$ gate flips the bit and multiplies the phase by $ i $."
   ]
  },
  {
   "cell_type": "markdown",
   "id": "0b3b06be",
   "metadata": {
    "editable": true
   },
   "source": [
    "$$\n",
    "\\begin{align*}\n",
    "\t\\boldsymbol{Y}\\vert 0\\rangle &= i\\vert 1\\rangle, \\\\\n",
    "\t\\boldsymbol{Y}\\vert 1\\rangle &= -i\\vert 0\\rangle.\n",
    "\\end{align*}\n",
    "$$"
   ]
  },
  {
   "cell_type": "markdown",
   "id": "ef595fbd",
   "metadata": {
    "editable": true
   },
   "source": [
    "The Pauli-$\\boldsymbol{Z}$ gate multiplies only the phase of $\\vert 1\\rangle$ by $ -1 $."
   ]
  },
  {
   "cell_type": "markdown",
   "id": "7234e214",
   "metadata": {
    "editable": true
   },
   "source": [
    "$$\n",
    "\\begin{align*}\n",
    "\t\\boldsymbol{Z}\\vert 0\\rangle &= \\vert 0\\rangle, \\\\\n",
    "\t\\boldsymbol{Z}\\vert 1\\rangle &= -\\vert 1\\rangle.\n",
    "\\end{align*}\n",
    "$$"
   ]
  },
  {
   "cell_type": "markdown",
   "id": "a9ee9d48",
   "metadata": {
    "editable": true
   },
   "source": [
    "## Hadamard gate\n",
    "\n",
    "The Hadamard gate is defined as"
   ]
  },
  {
   "cell_type": "markdown",
   "id": "c716ed84",
   "metadata": {
    "editable": true
   },
   "source": [
    "$$\n",
    "\\boldsymbol{H} = \\frac{1}{\\sqrt{2}} \\begin{bmatrix}\n",
    "\t\t1 & 1 \\\\\n",
    "\t\t1 & -1\n",
    "\t\\end{bmatrix}.\n",
    "$$"
   ]
  },
  {
   "cell_type": "markdown",
   "id": "656faf16",
   "metadata": {
    "editable": true
   },
   "source": [
    "It creates a superposition of the $ \\vert 0\\rangle $ and $ \\vert 1\\rangle $ states."
   ]
  },
  {
   "cell_type": "markdown",
   "id": "a4fce141",
   "metadata": {
    "editable": true
   },
   "source": [
    "<!-- Equation labels as ordinary links -->\n",
    "<div id=\"_auto1\"></div>\n",
    "\n",
    "$$\n",
    "\\begin{equation}\n",
    "\t\\boldsymbol{H}\\vert 0\\rangle = \\frac{1}{\\sqrt{2}} \\left( \\vert 0\\rangle + \\vert 1\\rangle \\right), \n",
    "\\label{_auto1} \\tag{1}\n",
    "\\end{equation}\n",
    "$$"
   ]
  },
  {
   "cell_type": "markdown",
   "id": "d11d1fc8",
   "metadata": {
    "editable": true
   },
   "source": [
    "<!-- Equation labels as ordinary links -->\n",
    "<div id=\"_auto2\"></div>\n",
    "\n",
    "$$\n",
    "\\begin{equation} \n",
    "\t\\boldsymbol{H}\\vert 1\\rangle = \\frac{1}{\\sqrt{2}} \\left( \\vert 0\\rangle - \\vert 1\\rangle \\right).\n",
    "\\label{_auto2} \\tag{2}\n",
    "\\end{equation}\n",
    "$$"
   ]
  },
  {
   "cell_type": "markdown",
   "id": "382d927d",
   "metadata": {
    "editable": true
   },
   "source": [
    "Note that we will use $H$ as symbol for the Hadamard gate while we will reserve the notation $\\mathcal{H}$ for a given Hamiltonian."
   ]
  },
  {
   "cell_type": "markdown",
   "id": "74669532",
   "metadata": {
    "editable": true
   },
   "source": [
    "## Sensing Hamiltonian\n",
    "\n",
    "For our discussions, we will assume that the quantum sensor can be\n",
    "described by the generic Hamiltonian"
   ]
  },
  {
   "cell_type": "markdown",
   "id": "b0a6cbb5",
   "metadata": {
    "editable": true
   },
   "source": [
    "$$\n",
    "\\mathcal{H}(t) = \\mathcal{H}_0 + \\mathcal{H}_I(t) + \\mathcal{H}_\\mathrm{control}(t),\n",
    "$$"
   ]
  },
  {
   "cell_type": "markdown",
   "id": "856389c6",
   "metadata": {
    "editable": true
   },
   "source": [
    "where $\\mathcal{H}_0$ is the internal Hamiltonian, $\\mathcal{H}_I(t)$ is the\n",
    "Hamiltonian associated with a signal ($V(t)$ in the notes below), and\n",
    "$\\mathcal{H}_\\mathrm{control}(t)$ is the control Hamiltonian.  Following\n",
    "the above mentioned authors, we will assume that $\\mathcal{H}_0$ is known\n",
    "and that $\\mathcal{H}_\\mathrm{control}(t)$ can be chosen so as to\n",
    "manipulate or tune the sensor in a controlled way.\n",
    "\n",
    "The goal of a quantum sensing experiment is then to infer $V(t)$ from\n",
    "the effect it has on the actual qubits via its Hamiltonian\n",
    "$\\mathcal{H}_I(t)$, usually by a specific choice of\n",
    "$\\mathcal{H}_\\mathrm{control}(t)$."
   ]
  },
  {
   "cell_type": "markdown",
   "id": "7d218bad",
   "metadata": {
    "editable": true
   },
   "source": [
    "## Time-dependent Hamiltonian matrix\n",
    "\n",
    "We define a  hermitian  matrix  $\\mathcal{H}\\in {\\mathbb{C}}^{2\\times 2}$"
   ]
  },
  {
   "cell_type": "markdown",
   "id": "78fef8cd",
   "metadata": {
    "editable": true
   },
   "source": [
    "$$\n",
    "\\mathcal{H} = \\begin{bmatrix} \\mathcal{H}_{11} & \\mathcal{H}_{12} \\\\ \\mathcal{H}_{21} & \\mathcal{H}_{22}\n",
    "\\end{bmatrix}.\n",
    "$$"
   ]
  },
  {
   "cell_type": "markdown",
   "id": "c9b98af0",
   "metadata": {
    "editable": true
   },
   "source": [
    "We  let $\\mathcal{H} = \\mathcal{H}_0 + \\mathcal{H}_I$, where"
   ]
  },
  {
   "cell_type": "markdown",
   "id": "52cb7bc4",
   "metadata": {
    "editable": true
   },
   "source": [
    "$$\n",
    "\\mathcal{H}_0= \\begin{bmatrix} E_0 & 0 \\\\ 0 & E_1\\end{bmatrix},\n",
    "$$"
   ]
  },
  {
   "cell_type": "markdown",
   "id": "b810011d",
   "metadata": {
    "editable": true
   },
   "source": [
    "is a diagonal matrix. Similarly,"
   ]
  },
  {
   "cell_type": "markdown",
   "id": "4f418ccd",
   "metadata": {
    "editable": true
   },
   "source": [
    "$$\n",
    "\\mathcal{H}_I(t)= \\begin{bmatrix} V_{11}(t) & V_{12}(t) \\\\ V_{21}(t) & V_{22}(t)\\end{bmatrix},\n",
    "$$"
   ]
  },
  {
   "cell_type": "markdown",
   "id": "0059a711",
   "metadata": {
    "editable": true
   },
   "source": [
    "where $V_{ij}(t)$ represent various time-dependent interaction matrix elements and since we have a hermitian matrix, we require that\n",
    "$V_{21}=V_{12}^*$."
   ]
  },
  {
   "cell_type": "markdown",
   "id": "b7061482",
   "metadata": {
    "editable": true
   },
   "source": [
    "## Interaction part\n",
    "\n",
    "We will now label  the interaction matrix elements, assuming that they have an explicit time dependence.\n",
    "We define"
   ]
  },
  {
   "cell_type": "markdown",
   "id": "08d19d44",
   "metadata": {
    "editable": true
   },
   "source": [
    "$$\n",
    "\\begin{align*}\n",
    "V_{11} & = V_z(t)\\\\\n",
    "V_{22} & = -V_z(t)\\\\\n",
    "V_{12} & = V_x(t)-\\imath V_y(t).\n",
    "\\end{align*}\n",
    "$$"
   ]
  },
  {
   "cell_type": "markdown",
   "id": "8dd6fb7f",
   "metadata": {
    "editable": true
   },
   "source": [
    "In the numerical example below we let $V_y(t)=0$, $V_z(t) = tV_z$\n",
    "and $V_x(t) = tV_x$ with $V_z$ and $V_x$ being real-valued constants to\n",
    "be determined. In the same numerical example we let $t\\in [0,1]$."
   ]
  },
  {
   "cell_type": "markdown",
   "id": "4677c9bb",
   "metadata": {
    "editable": true
   },
   "source": [
    "## Non-interacting solution\n",
    "\n",
    "We can view $\\mathcal{H}_0$ as the non-interacting solution"
   ]
  },
  {
   "cell_type": "markdown",
   "id": "ddaafdc5",
   "metadata": {
    "editable": true
   },
   "source": [
    "$$\n",
    "\\mathcal{H}_0\\vert 0 \\rangle =E_0\\vert 0 \\rangle,\n",
    "$$"
   ]
  },
  {
   "cell_type": "markdown",
   "id": "988fe2c1",
   "metadata": {
    "editable": true
   },
   "source": [
    "and"
   ]
  },
  {
   "cell_type": "markdown",
   "id": "b10db244",
   "metadata": {
    "editable": true
   },
   "source": [
    "$$\n",
    "\\mathcal{H}_0\\vert 1\\rangle =E_1\\vert 1\\rangle,\n",
    "$$"
   ]
  },
  {
   "cell_type": "markdown",
   "id": "1066e57d",
   "metadata": {
    "editable": true
   },
   "source": [
    "where we have defined the orthogonal computational one-qubit basis states $\\vert 0\\rangle$ and $\\vert 1\\rangle$."
   ]
  },
  {
   "cell_type": "markdown",
   "id": "01f143e5",
   "metadata": {
    "editable": true
   },
   "source": [
    "## Rewriting with Pauli matrices\n",
    "\n",
    "We rewrite $\\mathcal{H}$ (and $\\mathcal{H}_0$ and $\\mathcal{H}_I$)  via Pauli matrices"
   ]
  },
  {
   "cell_type": "markdown",
   "id": "33c57f0a",
   "metadata": {
    "editable": true
   },
   "source": [
    "$$\n",
    "\\mathcal{H}_0 = \\mathcal{E}_{\\mathrm{avg}} I -\\Delta E \\boldsymbol{Z}, \\quad \\mathcal{E}_{\\mathrm{avg}} = \\frac{E_0\n",
    "  + E_1}{2}, \\; \\Delta E = \\frac{E_1-E_0}{2},\n",
    "$$"
   ]
  },
  {
   "cell_type": "markdown",
   "id": "89c0e849",
   "metadata": {
    "editable": true
   },
   "source": [
    "and"
   ]
  },
  {
   "cell_type": "markdown",
   "id": "1b4607f8",
   "metadata": {
    "editable": true
   },
   "source": [
    "$$\n",
    "\\mathcal{H}_I = V_z(t)\\boldsymbol{Z} + V_x(t)\\boldsymbol{X}+V_y(t)\\boldsymbol{Y},\n",
    "$$"
   ]
  },
  {
   "cell_type": "markdown",
   "id": "da50a5fd",
   "metadata": {
    "editable": true
   },
   "source": [
    "with $V_z(t) = V_{11}=-V_{22}$, $V_x(t) = \\Re (V_{12})$ and $V_y(t) = \\Im (V_{12})$.\n",
    "\n",
    "This is the expression we will discuss in connection with quantum computing simulations. The discussions here, focus mainly on some simpler analytical considerations and simplifications. The numerical solutions are also given by standard eigenvalue solvers."
   ]
  },
  {
   "cell_type": "markdown",
   "id": "1ca70331",
   "metadata": {
    "editable": true
   },
   "source": [
    "## Simple time dependence\n",
    "\n",
    "We let our Hamiltonian depend linearly on time  $t$"
   ]
  },
  {
   "cell_type": "markdown",
   "id": "825c77f8",
   "metadata": {
    "editable": true
   },
   "source": [
    "$$\n",
    "\\mathcal{H}=\\mathcal{H}_0+t \\mathcal{H}_\\mathrm{I},\n",
    "$$"
   ]
  },
  {
   "cell_type": "markdown",
   "id": "10c01259",
   "metadata": {
    "editable": true
   },
   "source": [
    "with $t \\in [0,1]$, where the limits $t=0$ and $t=1$\n",
    "represent the non-interacting (or unperturbed) and fully interacting\n",
    "system, respectively. This means that the various potential terms are given by $V_i(t)=tV_i$, with $i=\\{x,y,z\\}$ and $V_i$ are real-valued constants."
   ]
  },
  {
   "cell_type": "markdown",
   "id": "bb486b30",
   "metadata": {
    "editable": true
   },
   "source": [
    "## Exact solution\n",
    "\n",
    "Since this a simple $2\\times 2$ matrix eigenvalue problem we find the eigenvalues $\\lambda_0$ and $\\lambda_1$ to be"
   ]
  },
  {
   "cell_type": "markdown",
   "id": "21c0c240",
   "metadata": {
    "editable": true
   },
   "source": [
    "$$\n",
    "\\lambda_{0,1}=\\mathcal{E}_{\\mathrm{avg}}\\pm \\Delta E\\sqrt{1+\\frac{2V_z(t)}{\\Delta E}+\\frac{1}{\\Delta E^2}(V_z^2(t)+V_x^2(t)+V_y^2(t))}.\n",
    "$$"
   ]
  },
  {
   "cell_type": "markdown",
   "id": "08a94d44",
   "metadata": {
    "editable": true
   },
   "source": [
    "If we assume that $\\Delta E \\gg V_z(t)$ and set $V_x(t)=V_y(t)=0$ for\n",
    "simplicity and Taylor-expand our square root expression, we obtain"
   ]
  },
  {
   "cell_type": "markdown",
   "id": "3da842bb",
   "metadata": {
    "editable": true
   },
   "source": [
    "$$\n",
    "\\lambda_{0}=E_0-\\frac{1}{2}V_z(t),\n",
    "$$"
   ]
  },
  {
   "cell_type": "markdown",
   "id": "d20653de",
   "metadata": {
    "editable": true
   },
   "source": [
    "$$\n",
    "\\lambda_{1}=E_1+\\frac{1}{2}V_z(t),\n",
    "$$"
   ]
  },
  {
   "cell_type": "markdown",
   "id": "9142d47e",
   "metadata": {
    "editable": true
   },
   "source": [
    "where we kept only terms up to $\\Delta E$. The above problem can however be easily solved numerically, see the code here."
   ]
  },
  {
   "cell_type": "markdown",
   "id": "38ea4857",
   "metadata": {
    "editable": true
   },
   "source": [
    "## Selecting parameters\n",
    "\n",
    "The model is an eigenvalue problem with only\n",
    "two available states.\n",
    "\n",
    "Here we set the parameters $E_0=0$,\n",
    "$E_1=4$, $V_{11}=-V_{22}=3$ and $V_{12}=V_{21}=0.2$.\n",
    "\n",
    "The non-interacting solutions represent our computational basis.\n",
    "Pertinent to our choice of parameters, is that at $t\\geq 2/3$,\n",
    "the lowest eigenstate is dominated by $\\vert 1\\rangle$ while the upper\n",
    "is $\\vert 0 \\rangle$. At $t=1$ the $\\vert 0 \\rangle$ mixing of\n",
    "the lowest eigenvalue is $1\\%$ while for $t\\leq 2/3$ we have a\n",
    "$\\vert 0 \\rangle$ component of more than $90\\%$.  The character of the\n",
    "eigenvectors has therefore been interchanged when passing $z=2/3$. The\n",
    "value of the parameter $V_{12}$ represents the strength of the coupling\n",
    "between the two states.  Here we keep only the real part of the non-diagonal term."
   ]
  },
  {
   "cell_type": "markdown",
   "id": "5a7f82d4",
   "metadata": {
    "editable": true
   },
   "source": [
    "## Setting up the matrix for the simple one-qubit system\n",
    "\n",
    "Here we solve the above problem as a standard eigenvalue problem (best seen using the jupyter-notebook)"
   ]
  },
  {
   "cell_type": "code",
   "execution_count": 2,
   "id": "b5a46745",
   "metadata": {
    "collapsed": false,
    "editable": true
   },
   "outputs": [],
   "source": [
    "import numpy as np\n",
    "import matplotlib.pyplot as plt\n",
    "import seaborn as sns; sns.set_theme(font_scale=1.5)\n",
    "from tqdm import tqdm\n",
    "\n",
    "sigma_x = np.array([[0, 1], [1, 0]])\n",
    "sigma_y = np.array([[0, -1j], [1j, 0]])\n",
    "sigma_z = np.array([[1, 0], [0, -1]])\n",
    "I = np.eye(2)\n",
    "\n",
    "def Hamiltonian(lmb):\n",
    "    E0 = 0\n",
    "    E1 = 4\n",
    "    V11 = 3\n",
    "    V22 = -3\n",
    "    V12 = 0.2\n",
    "    V21 = 0.2\n",
    "\n",
    "    eps = (E0 + E1) / 2\n",
    "    omega = (E0 - E1) / 2\n",
    "    c = (V11 + V22) / 2\n",
    "    omega_z = (V11 - V22) / 2\n",
    "    omega_x = V12\n",
    "\n",
    "    H0 = eps * I + omega * sigma_z\n",
    "    H1 = c * I + omega_z * sigma_z + omega_x * sigma_x\n",
    "    return H0 + lmb * H1\n",
    "    \n",
    "lmbvalues_ana = np.arange(0, 1, 0.01)\n",
    "eigvals_ana = np.zeros((len(lmbvalues_ana), 2))\n",
    "for index, lmb in enumerate(lmbvalues_ana):\n",
    "    H = Hamiltonian(lmb)\n",
    "    eigen, eigvecs = np.linalg.eig(H)\n",
    "    permute = eigen.argsort()\n",
    "    eigvals_ana[index] = eigen[permute]\n",
    "    eigvecs = eigvecs[:,permute]\n",
    "\n",
    "\n",
    "fig, axs = plt.subplots(1, 1, figsize=(10, 10))\n",
    "for i in range(2):\n",
    "    axs.plot(lmbvalues_ana, eigvals_ana[:,i], label=f'$E_{i}$')\n",
    "axs.set_xlabel(r'$\\lambda$')\n",
    "axs.set_ylabel('Energy')\n",
    "axs.legend()\n",
    "plt.show()"
   ]
  },
  {
   "cell_type": "markdown",
   "id": "74754fe4",
   "metadata": {
    "editable": true
   },
   "source": [
    "## Quantum control  protocol, here tailored to sensing\n",
    "\n",
    "1. The quantum sensor is initialized in some known basis, say $\\vert 0\\rangle$.\n",
    "\n",
    "2. The quantum sensor is transformed into the desired initial state $\\vert \\psi_{\\mathrm{Initial}}\\rangle$, through an appropriate transformation $\\boldsymbol{U}_1$. For a single qubit system this could be a Hadamard gate which results in a linear superposition of $\\vert 0\\rangle$ and $\\vert 1\\rangle$.\n",
    "\n",
    "3. The quantum sensor evolves under the Hamiltonian $\\mathcal{H}$ for a time $t$. At the end of the sensing period, the sensor is in its final stage (see below) $\\vert\\psi(t)\\rangle=\\boldsymbol{U}_{\\mathcal{H}}(t, 0)\\left|\\psi_{\\mathrm{Initial}}\\right\\rangle$\n",
    "\n",
    "4. This quantum state is transformed into a superposition of observable readout states, say a superposition of the one=qubit states $\\vert 0\\rangle$ and $\\vert 1\\rangle$, via the action $\\boldsymbol{U}_2\\vert \\psi(t)$.\n",
    "\n",
    "5. The final state of the quantum sensor is read out.\n",
    "\n",
    "6. Steps 1-5 are repeated and averaged over a large number of cycles $N$ to estimate the final transition probabilities $p$.\n",
    "\n",
    "7. The transition probability $p$ is measured as a function of time $t$ and used to infer to desired signal $V(t)$."
   ]
  },
  {
   "cell_type": "markdown",
   "id": "5dd8374f",
   "metadata": {
    "editable": true
   },
   "source": [
    "## Initialization and sensing analysis, Ramsey measurement\n",
    "\n",
    "We stay now with the Taylor-approximated solution from the simple\n",
    "example above (the one-qubit case). We do so in order to illustrate\n",
    "some of the basic sensing ideas.\n",
    "\n",
    "To initialize a given system to a known quantum state, we first start\n",
    "with a known initial state $|0\\rangle$. Then, depending on the type of\n",
    "information that we want to learn about the stimulus, the measurement\n",
    "scheme to be used, and the physical implementation of the quantum\n",
    "system, we choose some unitary operator $\\boldsymbol{U}_{\\mathrm{Initial}}$ such that\n",
    "it transforms our state $|0\\rangle$ to a desired initial superposition\n",
    "state $\\left|\\psi_{\\mathrm{Initial}}\\right\\rangle=a|0\\rangle+b|1\\rangle$\n",
    "for some $a, b \\in \\mathbb{C}$ such that $|a|^{2}+|b|^{2}=1$."
   ]
  },
  {
   "cell_type": "markdown",
   "id": "c98a4a35",
   "metadata": {
    "editable": true
   },
   "source": [
    "## Effects of stimulus\n",
    "\n",
    "After the sensing state is initialized, it is exposed to the\n",
    "environment and evolves according to the time-evolution operator of\n",
    "the sensing Hamiltonian via the unitary transformation $\\boldsymbol{U}_{\\mathcal{H}}$ as (setting $\\hbar=c=e=1$)"
   ]
  },
  {
   "cell_type": "markdown",
   "id": "73546d07",
   "metadata": {
    "editable": true
   },
   "source": [
    "$$\n",
    "|\\psi(t)\\rangle=\\boldsymbol{U}_{\\mathcal{H}}(t, 0)\\left|\\psi_{\\mathrm{Initial}}\\right\\rangle.\n",
    "$$"
   ]
  },
  {
   "cell_type": "markdown",
   "id": "0a2d9213",
   "metadata": {
    "editable": true
   },
   "source": [
    "In general we have"
   ]
  },
  {
   "cell_type": "markdown",
   "id": "7fe06ef1",
   "metadata": {
    "editable": true
   },
   "source": [
    "$$\n",
    "\\boldsymbol{U}_{\\mathcal{H}}=\\exp{(\\imath\\int_{0}^{t}\n",
    "\\mathcal{H}(\\tau) d \\tau)}.\n",
    "$$"
   ]
  },
  {
   "cell_type": "markdown",
   "id": "993975f1",
   "metadata": {
    "editable": true
   },
   "source": [
    "Here the Hamiltonian could be a\n",
    "complicated, non-analytical function with a time-dependent $V(t)$\n",
    "(making $\\mathcal{H}$ time-dependent as well)."
   ]
  },
  {
   "cell_type": "markdown",
   "id": "17ce9356",
   "metadata": {
    "editable": true
   },
   "source": [
    "## Slowly changing potential\n",
    "\n",
    "In the case where $V(t)$ is constant or changes much more slowly than our sensing integration time, we can assume"
   ]
  },
  {
   "cell_type": "markdown",
   "id": "df4332d6",
   "metadata": {
    "editable": true
   },
   "source": [
    "$$\n",
    "|\\psi(t)\\rangle=\\boldsymbol{U}_{\\mathcal{H}}(t, 0)\\left|\\psi_{\\mathrm{Initial}}\\right\\rangle=\\exp{(\\imath t \\mathcal{H})}\\left|\\psi_{\\mathrm{Initial}}\\right\\rangle.\n",
    "$$"
   ]
  },
  {
   "cell_type": "markdown",
   "id": "59c24d13",
   "metadata": {
    "editable": true
   },
   "source": [
    "The sensing state evolves thus as"
   ]
  },
  {
   "cell_type": "markdown",
   "id": "0f193e0a",
   "metadata": {
    "editable": true
   },
   "source": [
    "$$\n",
    "\\begin{align*}\n",
    "|\\psi(t)\\rangle=&\\left(\\exp{\\imath t\\left(E_{0}-\\frac{1}{2}  V_z\\right)}\\left|\\lambda_{0}\\right\\rangle\\left\\langle\\lambda_{0}\\right|+\\exp{\\imath t\\left(E_{1}+\\frac{1}{2}  V_z\\right)}\\left|\\lambda_{1}\\right\\rangle\\left\\langle\\lambda_{1}\\right|\\right) \\\\\n",
    "& \\times \\left|\\psi_{\\mathrm{Initial}}\\right\\rangle,\n",
    "\\end{align*}\n",
    "$$"
   ]
  },
  {
   "cell_type": "markdown",
   "id": "aa5a5a83",
   "metadata": {
    "editable": true
   },
   "source": [
    "where we have using the spectral decomposition and the final representation of the\n",
    "sensing Hamiltonian found above."
   ]
  },
  {
   "cell_type": "markdown",
   "id": "2a20c300",
   "metadata": {
    "editable": true
   },
   "source": [
    "## Readout\n",
    "\n",
    "After the sensing state has evolved over time in the presence of $V(t)$, it\n",
    "can be transformed again before a measurement is taken. The first\n",
    "part, the transformation to some desired read-out state, is performed\n",
    "by a readout  operator, see discussions in Degen et al., 2017) where"
   ]
  },
  {
   "cell_type": "markdown",
   "id": "95294346",
   "metadata": {
    "editable": true
   },
   "source": [
    "$$\n",
    "\\left|\\psi_{\\mathrm{Final}}\\right\\rangle=\\boldsymbol{U}_{\\mathrm{Readout}}|\\psi(t)\\rangle.\n",
    "$$"
   ]
  },
  {
   "cell_type": "markdown",
   "id": "23b81340",
   "metadata": {
    "editable": true
   },
   "source": [
    "Here the readout operator $\\boldsymbol{U}_{\\mathrm{Readout}}$ is left unspecified."
   ]
  },
  {
   "cell_type": "markdown",
   "id": "1a74581c",
   "metadata": {
    "editable": true
   },
   "source": [
    "## Measurement\n",
    "\n",
    "A measurement of this final state $\\left|\\psi_{\\mathrm{Final}}\\right\\rangle=a^{\\prime}|0\\rangle+b^{\\prime}|1\\rangle$ is made with\n",
    "respect to the basis $\\{|0\\rangle,|1\\rangle\\}$ where\n",
    "$|0\\rangle$ is measured with  probability"
   ]
  },
  {
   "cell_type": "markdown",
   "id": "3298aac4",
   "metadata": {
    "editable": true
   },
   "source": [
    "$$\n",
    "\\left|\\left\\langle 0 \\mid \\psi_{\\mathrm{Final}}\\right\\rangle\\right|^{2}=\\left|a^{\\prime}\\right|^{2},\n",
    "$$"
   ]
  },
  {
   "cell_type": "markdown",
   "id": "cf861689",
   "metadata": {
    "editable": true
   },
   "source": [
    "and $|1\\rangle$ is measured with probability"
   ]
  },
  {
   "cell_type": "markdown",
   "id": "d47daa41",
   "metadata": {
    "editable": true
   },
   "source": [
    "$$\n",
    "\\left|\\left\\langle 1 \\mid\\psi_{\\mathrm{Final}}\\right\\rangle\\right|^{2}=\\left|b^{\\prime}\\right|^{2}.\n",
    "$$"
   ]
  },
  {
   "cell_type": "markdown",
   "id": "68c6ac9c",
   "metadata": {
    "editable": true
   },
   "source": [
    "After this measurement, the sensing state has collapsed into one\n",
    "of the basis states and  no more information can be gained."
   ]
  },
  {
   "cell_type": "markdown",
   "id": "aa034bcc",
   "metadata": {
    "editable": true
   },
   "source": [
    "## Multiple measurements\n",
    "\n",
    "However, by having\n",
    "multiple quantum sensing elements time-evolving together or by\n",
    "repeating the process many times before the external stimulus $V(t)$\n",
    "can change, a transition probability"
   ]
  },
  {
   "cell_type": "markdown",
   "id": "8e32c11e",
   "metadata": {
    "editable": true
   },
   "source": [
    "$$\n",
    "p_{|0\\rangle\\rightarrow|1\\rangle}=\\left|\\left\\langle 1 \\mid \\psi_{\\mathrm{Final}}\\right\\rangle\\right|^{2}=\\left|b^{\\prime}\\right|^{2},\n",
    "$$"
   ]
  },
  {
   "cell_type": "markdown",
   "id": "54e6d94e",
   "metadata": {
    "editable": true
   },
   "source": [
    "can be estimated. The *sensing* is then achieved by taking a\n",
    "series of these transition probabilities as a time series, and then\n",
    "using the results to estimate the sensed stimulus $V(t)$"
   ]
  },
  {
   "cell_type": "markdown",
   "id": "1dbe4714",
   "metadata": {
    "editable": true
   },
   "source": [
    "## Example\n",
    "\n",
    "The simplest mathematical example of quantum sensing is sensing an\n",
    "external stimulus's effect on the splitting of the energy levels of an\n",
    "isolated system. Suppose our stimulus is constant and *parallel* with\n",
    "our sensor, that is we set  $V_z(t)=V_{0}$ and $V_x=0$, and we choose\n",
    "our initialization and readout preparation operators to be the famous\n",
    "Hadamard gate"
   ]
  },
  {
   "cell_type": "markdown",
   "id": "9092f27f",
   "metadata": {
    "editable": true
   },
   "source": [
    "$$\n",
    "\\boldsymbol{U}_{H}=\\frac{1}{\\sqrt{2}}\\left[\\begin{array}{cc}\n",
    "1 & 1 \\\\\n",
    "1 & -1\n",
    "\\end{array}\\right].\n",
    "$$"
   ]
  },
  {
   "cell_type": "markdown",
   "id": "614aa465",
   "metadata": {
    "editable": true
   },
   "source": [
    "Here, the subscript $H$ stands for the Hadamard unitary transformation."
   ]
  },
  {
   "cell_type": "markdown",
   "id": "28e28351",
   "metadata": {
    "editable": true
   },
   "source": [
    "## Evolution of initial state\n",
    "\n",
    "The initial state is"
   ]
  },
  {
   "cell_type": "markdown",
   "id": "e0c5bfa8",
   "metadata": {
    "editable": true
   },
   "source": [
    "$$\n",
    "\\left|\\psi_{\\mathrm{Initial}}\\right\\rangle=\\boldsymbol{U}_{H}|0\\rangle=\\frac{1}{\\sqrt{2}}\\left[\\begin{array}{cc}\n",
    "1 & 1 \\\\\n",
    "1 & -1\n",
    "\\end{array}\\right]\\begin{bmatrix} 1 \\\\ 0\\end{bmatrix}=\\frac{1}{\\sqrt{2}}\\begin{bmatrix} 1 \\\\ 1\\end{bmatrix}.\n",
    "$$"
   ]
  },
  {
   "cell_type": "markdown",
   "id": "8154a26b",
   "metadata": {
    "editable": true
   },
   "source": [
    "This may not necessarily be the same basis into which the system was\n",
    "initialized, but we  assume it is so and then we only have to keep track\n",
    "of one basis."
   ]
  },
  {
   "cell_type": "markdown",
   "id": "6bc4ba2e",
   "metadata": {
    "editable": true
   },
   "source": [
    "## State evolution\n",
    "\n",
    "The state evolves as"
   ]
  },
  {
   "cell_type": "markdown",
   "id": "6be81776",
   "metadata": {
    "editable": true
   },
   "source": [
    "$$\n",
    "\\begin{align*}\n",
    "|\\psi(t)\\rangle=&\\left(\\exp{\\imath t\\left(E_{0}-\\frac{1}{2}  V_z\\right)}|0\\rangle\\langle 0|+\\exp{\\imath t\\left(E_{1}+\\frac{1}{2}  V_z\\right)}|1\\rangle\\langle 1|\\right)\\left|\\psi_{\\mathrm{Initial}}\\right\\rangle\\\\\n",
    "&=\\frac{1}{\\sqrt{2}} \\exp{\\imath t\\left(E_{0}-\\frac{1}{2}  V_z\\right)}\\begin{bmatrix}1 \\\\ \\exp{\\imath t\\left(E_{1}-E_{0}+ V_z\\right)}\\end{bmatrix}\n",
    "\\end{align*}\n",
    "$$"
   ]
  },
  {
   "cell_type": "markdown",
   "id": "42e0d756",
   "metadata": {
    "editable": true
   },
   "source": [
    "## Preparing for readout\n",
    "\n",
    "This is then prepared for readout as"
   ]
  },
  {
   "cell_type": "markdown",
   "id": "1bb72023",
   "metadata": {
    "editable": true
   },
   "source": [
    "$$\n",
    "\\vert\\psi_{\\mathrm{Final}}\\rangle=\\frac{1}{2} \\exp{\\imath t(E_{0}-\\frac{1}{2}  V_z)}\n",
    "\\begin{bmatrix} 1+\\exp{\\imath t(E_{1}-E_{0}+ V_z)} \\\\ 1-\\exp{(\\imath t(E_{1}-E_{0}+ V_z)}\\end{bmatrix}.\n",
    "$$"
   ]
  },
  {
   "cell_type": "markdown",
   "id": "3f073e1c",
   "metadata": {
    "editable": true
   },
   "source": [
    "## Transition probability\n",
    "\n",
    "The transition probability"
   ]
  },
  {
   "cell_type": "markdown",
   "id": "651a4056",
   "metadata": {
    "editable": true
   },
   "source": [
    "$$\n",
    "\\begin{align*}\n",
    "p_{|0\\rangle \\rightarrow|1\\rangle}=\\left|\\left\\langle 1 \\mid \\psi_{\\mathrm{Final}}\\right\\rangle\\right|^{2}=&\\left|1-\\exp{\\imath t\\left(E_{1}-E_{0}+ V_z\\right)}\\right|^{2}\\\\\n",
    "&=\\frac{1}{2}\\left(1-\\cos \\left(t\\left(E_{1}-E_{0}\\right)+ V_z\\right)\\right)\n",
    "\\end{align*}\n",
    "$$"
   ]
  },
  {
   "cell_type": "markdown",
   "id": "f8d72de4",
   "metadata": {
    "editable": true
   },
   "source": [
    "## [Ramsey interferometry](https://en.wikipedia.org/wiki/Ramsey_interferometry)\n",
    "\n",
    "We know the difference in energy between $E_{1}$ and $E_{0}$, either\n",
    "since we constructed the system or by taking measurements without the\n",
    "external stimulus $V$, and we can control the time $t$ for which the\n",
    "system is allowed to evolve under the external stimulus. Then we can\n",
    "fix $t$ and take many measurements to estimate $p_{|0\\rangle\n",
    "\\rightarrow|1\\rangle}$, which then makes finding $tV_z$ a simple phase-estimation problem which gives us $\n",
    "V_z$. The physical implementation of this process is known as Ramsey\n",
    "Interferometry, and it can be done with arbitary initialization and\n",
    "readout preparation unitary operators."
   ]
  },
  {
   "cell_type": "markdown",
   "id": "852e5431",
   "metadata": {
    "editable": true
   },
   "source": [
    "## Benefits of Entanglement\n",
    "\n",
    "Up until now, we have said that we take many measurements of\n",
    "$\\left|\\psi_{\\text {Final }}\\right\\rangle$ to estimate $p_{|0\\rangle\n",
    "\\rightarrow|1\\rangle}$, but we have neglected the estimation\n",
    "process. Assuming we can take $N$ measurements, either by having $N$\n",
    "experimental apparatuses running in parallel or by taking $N$\n",
    "different measurements of a (relatively) constant $V$ with a single\n",
    "apparatus (this is what we will do below), the uncertainty in $p$, denoted as $\\sigma_{p}$ (this is a\n",
    "positive real number; not to be confused with the Pauli matrices),\n",
    "scales as"
   ]
  },
  {
   "cell_type": "markdown",
   "id": "2c182b19",
   "metadata": {
    "editable": true
   },
   "source": [
    "$$\n",
    "\\sigma_{p} \\propto \\frac{1}{\\sqrt{N}}\n",
    "$$"
   ]
  },
  {
   "cell_type": "markdown",
   "id": "f93166c2",
   "metadata": {
    "editable": true
   },
   "source": [
    "## Ramsey interferometry\n",
    "\n",
    "If we consider Ramsey Interferometry as an example, see <https://en.wikipedia.org/wiki/Ramsey_interferometry>, then the\n",
    "uncertainty in $V_z$, denoted $\\sigma_{V}$,\n",
    "scales as"
   ]
  },
  {
   "cell_type": "markdown",
   "id": "11a7a593",
   "metadata": {
    "editable": true
   },
   "source": [
    "$$\n",
    "\\sigma_{V} \\propto \\sigma_{p} \\propto \\frac{1}{\\sqrt{N}}\n",
    "$$"
   ]
  },
  {
   "cell_type": "markdown",
   "id": "d6dd5154",
   "metadata": {
    "editable": true
   },
   "source": [
    "This relationship is known as the standard quantum limit (SQL)\n",
    ", see Giovannetti *et al.*, 2011, <https://www.nature.com/articles/nphoton.2011.35>,\n",
    "but can also be explained with the law of\n",
    "Large Numbers from statistics, where measuring $N$ similarly\n",
    "distributed, well-behaved random variables gives the sample mean as an\n",
    "estimator for the population mean and the sample variance divided by\n",
    "the size of the sample as an uncertainty in the estimate of the\n",
    "population mean."
   ]
  },
  {
   "cell_type": "markdown",
   "id": "52ccb4b3",
   "metadata": {
    "editable": true
   },
   "source": [
    "## Key components of code for one qubit\n",
    "\n",
    "**Physical System:**\n",
    "\n",
    "1. Hamiltonian: $\\mathcal{H} = -\\frac{\\gamma B}{2}Z$ (we will set $\\gamma=1$)\n",
    "\n",
    "2. Initial state: $\\vert \\psi_{\\mathrm{Initial}}\\rangle = \\frac{1}{\\sqrt{2}}(|0\\rangle + |1\\rangle)$, Hadamard gate\n",
    "\n",
    "**Time Evolution:**\n",
    "\n",
    "1. Calculated using matrix exponential: $U_{\\mathcal{H}}(t) = \\exp{-i\\mathcal{H}t}$\n",
    "\n",
    "2. State at time $t$: $\\vert \\psi(t)\\rangle = U_{\\mathcal{H}}(t)\\vert\\psi_{\\mathrm{Initial}} \\rangle$\n",
    "\n",
    "**Expectation Values:**\n",
    "\n",
    "1. $\\langle X\\rangle$: Oscillates as $\\cos(Bt)$\n",
    "\n",
    "2. $\\langle Y\\rangle$: Oscillates as $-\\sin(Bt)$\n",
    "\n",
    "3. $\\langle Z\\rangle$: Remains constant at $0$"
   ]
  },
  {
   "cell_type": "markdown",
   "id": "c5de05b2",
   "metadata": {
    "editable": true
   },
   "source": [
    "## One-qubit program example (best seen using the jupyter-notebook)"
   ]
  },
  {
   "cell_type": "code",
   "execution_count": 3,
   "id": "c1efc576",
   "metadata": {
    "collapsed": false,
    "editable": true
   },
   "outputs": [],
   "source": [
    "import numpy as np\n",
    "from scipy.linalg import expm\n",
    "import matplotlib.pyplot as plt\n",
    "\n",
    "# Define single-qubit operations, Identity, Pauli, Hadamard and S matrices\n",
    "Id = np.array([[1, 0], [0, 1]], dtype=complex)\n",
    "X = np.array([[0, 1], [1, 0]], dtype=complex)\n",
    "Y = np.array([[0, -1j], [1j, 0]], dtype=complex)\n",
    "Z = np.array([[1, 0], [0, -1]], dtype=complex)\n",
    "Had = np.array([[1, 1],[1, -1]], dtype=complex) / np.sqrt(2)\n",
    "S = np.array([[1, 0],[0, 1j]], dtype=complex)\n",
    "\n",
    "# Simulation parameters\n",
    "B = 2 * np.pi  # Magnetic field strength (in angular frequency units)\n",
    "times = np.linspace(0, 1, 200)  # Time range from 0 to 1 seconds\n",
    "\n",
    "# Initial state: superposition state via Hadamard gate acting on |0>\n",
    "psi0 =  np.array([1, 0], dtype=complex) # start with |0> then act with Hadamard\n",
    "psi0 = Had @ psi0\n",
    "\n",
    "# Lists to store expectation values\n",
    "expect_x, expect_y, expect_z = [], [], []\n",
    "\n",
    "for t in times:\n",
    "   # Construct Hamiltonian\n",
    "   H = B * Z/ 2\n",
    "   # Calculate time evolution operator\n",
    "   U = expm(-1j * H * t)\n",
    "   # Evolve the initial state\n",
    "   psi_t = U @ psi0\n",
    "   # Calculate expectation values\n",
    "   expect_x.append(np.vdot(psi_t, X @ psi_t).real)\n",
    "   expect_y.append(np.vdot(psi_t, Y @ psi_t).real)\n",
    "   expect_z.append(np.vdot(psi_t, Z @ psi_t).real)\n",
    "# Plot results\n",
    "plt.figure(figsize=(10, 6))\n",
    "plt.plot(times, expect_x, label='<X>')\n",
    "plt.plot(times, expect_y, label='<Y>')\n",
    "plt.plot(times, expect_z, label='<Z>')\n",
    "plt.xlabel('Time (s)')\n",
    "plt.ylabel('Expectation value')\n",
    "plt.title('Qubit Spin Evolution in a z-Directional Magnetic Field')\n",
    "plt.legend()\n",
    "plt.grid(True)\n",
    "plt.show()"
   ]
  },
  {
   "cell_type": "markdown",
   "id": "5452c451",
   "metadata": {
    "editable": true
   },
   "source": [
    "## Interpretation\n",
    "\n",
    "1. The oscillations in $X$ and $Y$ components demonstrate the Larmor precession caused by the magnetic field\n",
    "\n",
    "2. The frequency of oscillation is directly proportional to the magnetic field strength $B$\n",
    "\n",
    "3. This forms the basis for quantum sensing: measuring oscillation frequency allows precise determination of $B$"
   ]
  },
  {
   "cell_type": "markdown",
   "id": "0201e6fb",
   "metadata": {
    "editable": true
   },
   "source": [
    "## To use this for sensing (protocol of Degen *et al.,* (2017))\n",
    "\n",
    "1. Prepare the qubit in a known superposition state\n",
    "\n",
    "2. Let it evolve in the magnetic field for a known time\n",
    "\n",
    "3. Measure the expectation values\n",
    "\n",
    "4. Determine (here) $B$ from the oscillation frequency"
   ]
  },
  {
   "cell_type": "markdown",
   "id": "8e610fca",
   "metadata": {
    "editable": true
   },
   "source": [
    "## Feel free to play around with this code\n",
    "\n",
    "1. Change $B$ value to see different oscillation frequencies\n",
    "\n",
    "2. Adjust *time* array to observe different numbers of oscillations\n",
    "\n",
    "3. Add noise to simulate real-world sensing scenarios\n",
    "\n",
    "4. Implement actual measurement simulations instead of expectation values\n",
    "\n",
    "This code provides a fundamental demonstration of quantum sensing\n",
    "principles using a simple qubit system. Real-world implementations\n",
    "would typically use more sophisticated techniques like Ramsey\n",
    "interferometry or dynamical decoupling for enhanced sensitivity."
   ]
  },
  {
   "cell_type": "markdown",
   "id": "e500123d",
   "metadata": {
    "editable": true
   },
   "source": [
    "## More than one qubit\n",
    "\n",
    "The nature of quantum systems allows for more information to be\n",
    "extracted by exploiting entanglement between quantum systems. This is\n",
    "the fundamental basis for the benefits of quantum computing over\n",
    "classical computing, and quantum sensing has similar benefits over\n",
    "classical sensing. Suppose we return to the example above, but rather\n",
    "than initializing $N$ sensing qubits separately, we initialize\n",
    "$\\frac{N}{n}$ groups each with $n$ entangled quantum systems. Then we\n",
    "have"
   ]
  },
  {
   "cell_type": "markdown",
   "id": "e00a817b",
   "metadata": {
    "editable": true
   },
   "source": [
    "$$\n",
    "\\left|\\psi_{\\text {Init }}\\right\\rangle=\\frac{1}{\\sqrt{2^{n}}}\\left(|0\\rangle^{\\otimes n}+|1\\rangle^{\\otimes n}\\right),\n",
    "$$"
   ]
  },
  {
   "cell_type": "markdown",
   "id": "b8370e6b",
   "metadata": {
    "editable": true
   },
   "source": [
    "where $|0\\rangle^{\\otimes n}=|0\\rangle \\otimes \\ldots \\otimes|0\\rangle, n$ times."
   ]
  },
  {
   "cell_type": "markdown",
   "id": "d26b63a4",
   "metadata": {
    "editable": true
   },
   "source": [
    "## After initialization\n",
    "\n",
    "After initialization, each of the $n$ sensing qubits evolves to pick up a relative phase factor of $\\exp{\\imath t\\left(E_{1}-E_{0}+ V_z\\right)}$, which combined results in"
   ]
  },
  {
   "cell_type": "markdown",
   "id": "5dcc3459",
   "metadata": {
    "editable": true
   },
   "source": [
    "$$\n",
    "|\\psi(t)\\rangle=\\mathcal{N}\\left(|0\\rangle^{\\otimes n}+\\exp{n \\imath t\\left(E_{1}-E_{0}+ V_z\\right)}|1\\rangle^{\\otimes n}\\right)\n",
    "$$"
   ]
  },
  {
   "cell_type": "markdown",
   "id": "95ca2d3b",
   "metadata": {
    "editable": true
   },
   "source": [
    "where $\\mathcal{N}$ is just a factor to take care of normalization."
   ]
  },
  {
   "cell_type": "markdown",
   "id": "6b415b93",
   "metadata": {
    "editable": true
   },
   "source": [
    "## Transition probability\n",
    "\n",
    "The transition probability"
   ]
  },
  {
   "cell_type": "markdown",
   "id": "ccf6498f",
   "metadata": {
    "editable": true
   },
   "source": [
    "$$\n",
    "p_{|0\\rangle \\rightarrow|1\\rangle}=\\left|\\left\\langle 1 \\mid \\psi_{\\text {Final }}\\right\\rangle\\right|^{2}=\\frac{1}{2}\\left(1-\\cos \\left(t n\\left(E_{1}-E_{0}\\right)+n  V_z\\right)\\right)\n",
    "$$"
   ]
  },
  {
   "cell_type": "markdown",
   "id": "c180cd66",
   "metadata": {
    "editable": true
   },
   "source": [
    "## Role of entanglement\n",
    "\n",
    "From this, we can see that through entangling $n$ sensing qubits, the\n",
    "**signal** we are trying to sense increases from $V_z \\rightarrow n\n",
    "V_z$, and with $\\frac{N}{n}$ total measurements,"
   ]
  },
  {
   "cell_type": "markdown",
   "id": "69854f39",
   "metadata": {
    "editable": true
   },
   "source": [
    "$$\n",
    "\\sigma_{V} \\propto \\frac{1}{n} \\sigma_{p} \\propto \\frac{1}{n}\\left(\\frac{1}{\\sqrt{\\frac{N}{n}}}\\right)=\\frac{1}{\\sqrt{N n}}\n",
    "$$"
   ]
  },
  {
   "cell_type": "markdown",
   "id": "04219552",
   "metadata": {
    "editable": true
   },
   "source": [
    "which means the error decreased by a factor of $\\sqrt{n}$. In the case where $n=N$, the uncertainty now scales as"
   ]
  },
  {
   "cell_type": "markdown",
   "id": "853a1785",
   "metadata": {
    "editable": true
   },
   "source": [
    "$$\n",
    "\\sigma_{V} \\propto \\frac{1}{N}\n",
    "$$"
   ]
  },
  {
   "cell_type": "markdown",
   "id": "ba48eb71",
   "metadata": {
    "editable": true
   },
   "source": [
    "which is known as the Heisenberg limit, and is the\n",
    "quantum-mechanically limited, maximal amount of information one can\n",
    "get from taking $n$ quantum sensing measurements, see again Giovannetti *et al.*, at <https://www.nature.com/articles/nphoton.2011.35>."
   ]
  },
  {
   "cell_type": "markdown",
   "id": "8f78c491",
   "metadata": {
    "editable": true
   },
   "source": [
    "## Two-qubit program example (best seen using the jupyter-notebook)"
   ]
  },
  {
   "cell_type": "code",
   "execution_count": 4,
   "id": "168f0644",
   "metadata": {
    "collapsed": false,
    "editable": true
   },
   "outputs": [],
   "source": [
    "import numpy as np\n",
    "from scipy.linalg import expm\n",
    "import matplotlib.pyplot as plt\n",
    "\n",
    "# Define single-qubit operations, Identity, Pauli, Hadamard and S matrices\n",
    "Id = np.array([[1, 0], [0, 1]], dtype=complex)\n",
    "X = np.array([[0, 1], [1, 0]], dtype=complex)\n",
    "Y = np.array([[0, -1j], [1j, 0]], dtype=complex)\n",
    "Z = np.array([[1, 0], [0, -1]], dtype=complex)\n",
    "Had = np.array([[1, 1],[1, -1]], dtype=complex) / np.sqrt(2)\n",
    "S = np.array([[1, 0],[0, 1j]], dtype=complex)\n",
    "# Define two-qubit gates\n",
    "CNOT01 = np.array([[1, 0, 0, 0], [0, 1, 0, 0], [0, 0, 0, 1], [0, 0, 1, 0]], dtype=complex)\n",
    "CNOT10 = np.array([[1, 0, 0, 0], [0, 0, 0, 1], [0, 0, 1, 0], [0, 1, 0, 0]], dtype=complex)\n",
    "SWAP = np.array([[1, 0, 0, 0], [0, 0, 1, 0], [0, 1, 0, 0], [0, 0, 0, 1]], dtype=complex)\n",
    "\n",
    "times = np.linspace(0, 1, 100)  # Time range from 0 to 1 seconds\n",
    "\n",
    "# Initial state for each qubit\n",
    "psi_1 =  np.array([1, 0], dtype=complex) # start with |0> for qubits 1 and 2\n",
    "psi_2 =  np.array([1, 0], dtype=complex) # start with |0> for qubits 1 and 2\n",
    "# possible basis states for measurements\n",
    "basis_00 = np.array([1, 0, 0, 0], dtype=complex)\n",
    "basis_01 = np.array([0, 1, 0, 0], dtype=complex)\n",
    "basis_10 = np.array([0, 0, 1, 0], dtype=complex)\n",
    "basis_11 = np.array([0, 0, 0, 1], dtype=complex)\n",
    "# then act with Hadamard on first qubit only\n",
    "psi_1 = Had @ psi_1\n",
    "# Initial two-qubit state\n",
    "Psi_0 = np.kron(psi_1,psi_2)\n",
    "# Then we act on this state in order to get a Bell state 1/sqrt(2)(|00>+|11)\n",
    "Psi_0 = CNOT01 @ Psi_0\n",
    "# Define parameters of Hamiltonian (Time-independent)\n",
    "B = 1.0  # Strength of the magnetic field (in arbitrary units)\n",
    "omega = B  # Frequency associated with the magnetic field\n",
    "# Constructing the Hamiltonian H = -omega/2 * (Z * I + I * Z)\n",
    "H_z_I = -omega / 2 * np.kron(Z, Id)  # Z * I\n",
    "I_H_z = -omega / 2 * np.kron(Id, Z)    # I * Z\n",
    "# Total Hamiltonian, try a more complicated one, this one is very simple\n",
    "H = H_z_I + I_H_z   \n",
    "# Lists to store expectation values\n",
    "expect_00, expect_11 = [], []\n",
    "for t in times:\n",
    "   # Calculate time evolution operator\n",
    "   U = expm(-1j * H * t)\n",
    "   # Evolve the initial state (if you have a time-dependent H, remember to integrate)\n",
    "   Psi_t = U @ Psi_0\n",
    "   # Calculate probabilities of measuring specific states: P(|00>) and P(|11>)\n",
    "   # Calculate expectation values (boring case here)\n",
    "   expect_00.append(abs(np.dot(basis_00.conj(), Psi_t))**2)\n",
    "   expect_11.append(abs(np.dot(basis_11.conj(), Psi_t))**2)\n",
    "\n",
    "# Plotting results using matplotlib\n",
    "plt.figure(figsize=(10, 6))\n",
    "plt.plot(times, expect_00, label='Probability |00>')\n",
    "plt.plot(times, expect_11, label='Probability |11>')\n",
    "plt.xlabel('Time')\n",
    "plt.ylabel('Probability')\n",
    "plt.title('Quantum Sensing Simulation')\n",
    "plt.legend()\n",
    "plt.show()"
   ]
  },
  {
   "cell_type": "markdown",
   "id": "bd2a19db",
   "metadata": {
    "editable": true
   },
   "source": [
    "## Analysis and additions\n",
    "\n",
    "The result here is pretty boring, we just get $0.5$, as expected. The field acts only in the $z$-direction and is a constant. The probabilities are thus left unchanged.\n",
    "Feel free to change the Hamiltonian. Here's a list of suggestion:\n",
    "1. More realistic Hamiltonian (keep in mind that if you make it time-dependent, you need to integrate over time. Different approximation exist.\n",
    "\n",
    "2. Change the measurements to say making a measurement on only one of the qubits\n",
    "\n",
    "3. More realistic readout functions and series of measurements as experiments\n",
    "\n",
    "4. Study different entangled states\n",
    "\n",
    "5. Find the field which acts on the system! How wuld you do that?\n",
    "\n",
    "6. Study the Fisher entropy and much more"
   ]
  },
  {
   "cell_type": "markdown",
   "id": "d53d9c6f",
   "metadata": {
    "editable": true
   },
   "source": [
    "## Conclusion\n",
    "\n",
    "The readout functions in quantum sensing serve as the crucial step in\n",
    "extracting classical information from a quantum system after a set of\n",
    "operations. In quantum magnetometry, for instance, the readout is\n",
    "typically performed by measuring the qubit in the computational basis\n",
    "and using the outcome (such as the probabilities of measuring\n",
    "$\\vert 0\\rangle$ or $\\vert 1\\rangle$) to infer properties like the magnetic field\n",
    "strength. In more complex systems, the readout functions could involve\n",
    "more sophisticated measurements such as those based on quantum\n",
    "tomography, where the state of the system is fully reconstructed from\n",
    "measurement data."
   ]
  },
  {
   "cell_type": "markdown",
   "id": "2546d714",
   "metadata": {
    "editable": true
   },
   "source": [
    "## Other types of sensors\n",
    "\n",
    "This process can be generalized to other types of quantum sensors,\n",
    "such as those measuring electric fields, temperature, or time. The\n",
    "general concept remains: we manipulate a quantum system, measure it,\n",
    "and extract classical information to sense the desired physical\n",
    "quantity.\n",
    "\n",
    "The examples below illustrate the diversity of quantum sensing\n",
    "applications, where quantum states (entanglement, superposition,\n",
    "squeezing) or quantum systems (atoms, spins, photons) enable\n",
    "breakthroughs in precision beyond classical limits."
   ]
  },
  {
   "cell_type": "markdown",
   "id": "47347fa2",
   "metadata": {
    "editable": true
   },
   "source": [
    "## Magnetic Field Sensing with Nitrogen-Vacancy (NV) Centers\n",
    "\n",
    "* Parameter: Magnetic field strength.  \n",
    "\n",
    "Method/platform: NV centers in diamond have electron spins sensitive to magnetic fields.\n",
    "By optically detecting spin state changes (via fluorescence), magnetic\n",
    "fields at the nanoscale are estimated with high spatial resolution,\n",
    "useful in material science and biomedical imaging."
   ]
  },
  {
   "cell_type": "markdown",
   "id": "e7041544",
   "metadata": {
    "editable": true
   },
   "source": [
    "## Atomic Clocks\n",
    "\n",
    "* Parameter: Time/frequency.  \n",
    "\n",
    "Method/platform: Atomic transitions (e.g., in cesium or rubidium) serve as frequency standards. Quantum superposition states are probed to lock oscillator frequencies, enabling ultra-precise timekeeping critical for GPS and telecommunications."
   ]
  },
  {
   "cell_type": "markdown",
   "id": "32f85532",
   "metadata": {
    "editable": true
   },
   "source": [
    "## Gravitational Wave Detection (LIGO)\n",
    "\n",
    "* Parameter: Phase shift induced by spacetime ripples.  \n",
    "\n",
    "Method/platform: Squeezed light reduces quantum noise in interferometers, enhancing sensitivity to minute phase shifts caused by gravitational waves, pushing measurements below the standard quantum limit."
   ]
  },
  {
   "cell_type": "markdown",
   "id": "cfec2d68",
   "metadata": {
    "editable": true
   },
   "source": [
    "## Quantum Thermometry\n",
    "\n",
    "* Parameter: Temperature.  \n",
    "\n",
    "Method/platform**: Quantum probes like trapped ions or superconducting qubits exploit temperature-dependent decoherence or energy-level shifts to measure microkelvin-scale temperatures in cryogenic systems."
   ]
  },
  {
   "cell_type": "markdown",
   "id": "95d22756",
   "metadata": {
    "editable": true
   },
   "source": [
    "## Entangled Photon Interferometry\n",
    "\n",
    "* Parameter: Optical phase shifts.\n",
    "\n",
    "Method/platform: Entangled photons in interferometers achieve sub-shot-noise precision, enabling enhanced measurements of distances or refractive indices for applications in metrology and imaging."
   ]
  },
  {
   "cell_type": "markdown",
   "id": "73935a38",
   "metadata": {
    "editable": true
   },
   "source": [
    "## Electric Field Sensing with Rydberg Atoms\n",
    "* Parameter: Electric field strength.  \n",
    "\n",
    "Method/platform: Rydberg atoms, highly sensitive to electric fields due to their large polarizability, detect field-induced Stark shifts via microwave spectroscopy, useful in electrometry and communications."
   ]
  },
  {
   "cell_type": "markdown",
   "id": "a17e9a6c",
   "metadata": {
    "editable": true
   },
   "source": [
    "## Quantum Gyroscopes\n",
    "\n",
    "* Parameter: Rotation rate.  \n",
    "\n",
    "Method/platform: Cold atom interferometers or entangled particles exploit the Sagnac effect to measure rotation with quantum-enhanced precision, advancing inertial navigation systems."
   ]
  },
  {
   "cell_type": "markdown",
   "id": "537bc954",
   "metadata": {
    "editable": true
   },
   "source": [
    "## Molecular Concentration Sensing\n",
    "* Parameter: Chemical concentration.  \n",
    "\n",
    "Method/platform: Spin defects in diamond (e.g., NV centers) detect local magnetic perturbations from target molecules, enabling nanoscale NMR spectroscopy for biological or chemical analysis."
   ]
  },
  {
   "cell_type": "markdown",
   "id": "2ed4eeb8",
   "metadata": {
    "editable": true
   },
   "source": [
    "## Superconducting Quantum Interference Devices (SQUIDs)\n",
    "\n",
    "* Parameter: Magnetic flux.  \n",
    "\n",
    "Method/platform: SQUIDs leverage flux quantization and Josephson junctions to measure extremely weak magnetic fields, applied in magnetoencephalography (MEG) for brain activity mapping."
   ]
  },
  {
   "cell_type": "markdown",
   "id": "a8946b51",
   "metadata": {
    "editable": true
   },
   "source": [
    "## A more refined example"
   ]
  },
  {
   "cell_type": "code",
   "execution_count": 5,
   "id": "e43de4d2",
   "metadata": {
    "collapsed": false,
    "editable": true
   },
   "outputs": [],
   "source": [
    "import numpy as np\n",
    "import matplotlib.pyplot as plt\n",
    "from scipy.linalg import expm\n",
    "\n",
    "class QuantumSensor:\n",
    "    def __init__(self, shots=1000, time_steps=100):\n",
    "        self.shots = shots\n",
    "        self.time_steps = time_steps\n",
    "        self.state = self.create_bell_state()\n",
    "        self.measurement_results = np.zeros(shots)\n",
    "        self.time_points = np.linspace(0, 10, self.time_steps)\n",
    "        # B is a 3xN array where N is time_steps. B[:, t] gives the magnetic field vector at time t.\n",
    "        self.B = np.array([np.cos(self.time_points), np.sin(self.time_points), np.zeros_like(self.time_points)])\n",
    "\n",
    "    @staticmethod\n",
    "    def create_bell_state():\n",
    "        \"\"\"Create an entangled Bell state (|00> + |11>)/sqrt(2).\"\"\"\n",
    "        # Representing states in the computational basis |00>, |01>, |10>, |11>\n",
    "        return (1/np.sqrt(2)) * (np.array([[1], [0], [0], [0]]) +\n",
    "                                     np.array([[0], [0], [0], [1]]))\n",
    "\n",
    "    @staticmethod\n",
    "    def hamiltonian(B):\n",
    "        \"\"\"Create the Hamiltonian for the current magnetic field for a two-qubit system.\"\"\"\n",
    "        hbar = 1  # Planck's constant\n",
    "        X = np.array([[0, 1], [1, 0]], dtype=complex)\n",
    "        Y = np.array([[0, -1j], [1j, 0]], dtype=complex)\n",
    "        Z = np.array([[1, 0], [0, -1]], dtype=complex)\n",
    "        I = np.eye(2, dtype=complex) # 2x2 Identity matrix\n",
    "\n",
    "        # Hamiltonian for two independent qubits interacting with the magnetic field\n",
    "        # H = H1 + H2, where H1 = -hbar * B . sigma_1 and H2 = -hbar * B . sigma_2\n",
    "        # In the two-qubit space (4x4 matrix):\n",
    "        # H = -hbar * (Bx * (sigma_x tensor I) + By * (sigma_y tensor I) + Bz * (sigma_z tensor I) +\n",
    "        #           Bx * (I tensor sigma_x) + By * (I tensor sigma_y) + Bz * (I tensor sigma_z))\n",
    "        H1 = -hbar * (B[0] * np.kron(X, I) + B[1] * np.kron(Y, I) + B[2] * np.kron(Z, I))\n",
    "        H2 = -hbar * (B[0] * np.kron(I, X) + B[1] * np.kron(I, Y) + B[2] * np.kron(I, Z))\n",
    "\n",
    "        return H1 + H2\n",
    "\n",
    "    @staticmethod\n",
    "    def evolve_state(state, H, time):\n",
    "        \"\"\"Evolve the state using the unitary operator.\"\"\"\n",
    "        U = expm(-1j * H * time)\n",
    "        return U @ state\n",
    "\n",
    "    def measure(self, state):\n",
    "        \"\"\"Measure the state in the standard basis {|00>, |01>, |10>, |11>}.\"\"\"\n",
    "        # Ensure state is a column vector for probability calculation\n",
    "        state_vector = state.flatten()\n",
    "        probabilities = np.abs(state_vector)**2\n",
    "        # Ensure probabilities sum to 1 (due to potential floating point inaccuracies)\n",
    "        probabilities /= np.sum(probabilities)\n",
    "        # Choose outcome based on probabilities. outcomes correspond to indices 0, 1, 2, 3\n",
    "        outcome = np.random.choice(range(len(probabilities)), p=probabilities)\n",
    "        # Return the outcome (index) and the corresponding state vector component\n",
    "        return outcome, state_vector[outcome]\n",
    "\n",
    "\n",
    "    def simulate(self):\n",
    "        \"\"\"Run the simulation for a given number of shots.\"\"\"\n",
    "        for shot in range(self.shots):\n",
    "            evolved_state = self.state # Start each shot with the initial Bell state\n",
    "            # The Hamiltonian is time-dependent, so we need to apply the evolution operator\n",
    "            # for each small time step. The total evolution U(T) = U(dt_N) * ... * U(dt_1).\n",
    "            # We are assuming a small constant time step dt = 0.1.\n",
    "            for t in range(self.time_steps):\n",
    "                # Get the magnetic field vector at the current time point\n",
    "                current_B = self.B[:, t]\n",
    "                # Calculate the Hamiltonian for the current magnetic field\n",
    "                H = self.hamiltonian(current_B)\n",
    "                # Evolve the state for this small time step\n",
    "                evolved_state = self.evolve_state(evolved_state, H, 0.1)\n",
    "\n",
    "            # Measure the final state after the total evolution time\n",
    "            outcome, _ = self.measure(evolved_state)\n",
    "            self.measurement_results[shot] = outcome\n",
    "\n",
    "    def plot_results(self):\n",
    "        \"\"\"Plot the histogram of measurement outcomes.\"\"\"\n",
    "        plt.figure(figsize=(10, 6))\n",
    "        # The possible outcomes for a two-qubit measurement are 0, 1, 2, 3\n",
    "        plt.hist(self.measurement_results, bins=np.arange(5) - 0.5, density=True, rwidth=0.8)\n",
    "        plt.xticks(range(4))\n",
    "        plt.xlabel('Measurement Outcome (|00>, |01>, |10>, |11>)')\n",
    "        plt.ylabel('Probability')\n",
    "        plt.title(f'Histogram of Measurement Outcomes over {self.shots} Shots')\n",
    "        plt.grid(axis='y', alpha=0.75)\n",
    "        plt.show()\n",
    "\n",
    "# Main execution\n",
    "if __name__ == \"__main__\":\n",
    "    try:\n",
    "        from scipy.linalg import expm\n",
    "    except ImportError:\n",
    "        print(\"Please install scipy: !pip install scipy\")\n",
    "        exit()\n",
    "\n",
    "    sensor = QuantumSensor(shots=1000, time_steps=100)\n",
    "    sensor.simulate()\n",
    "    sensor.plot_results()"
   ]
  }
 ],
 "metadata": {},
 "nbformat": 4,
 "nbformat_minor": 5
}
