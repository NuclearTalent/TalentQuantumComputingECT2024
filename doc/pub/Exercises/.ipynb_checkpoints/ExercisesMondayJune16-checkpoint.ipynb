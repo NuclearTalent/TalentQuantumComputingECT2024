{
 "cells": [
  {
   "cell_type": "markdown",
   "id": "219a4b6a",
   "metadata": {
    "editable": true
   },
   "source": [
    "<!-- HTML file automatically generated from DocOnce source (https://github.com/doconce/doconce/)\n",
    "doconce format html ExercisesMondayJune16.do.txt  -->\n",
    "<!-- dom:TITLE: Exercises June 16 -->"
   ]
  },
  {
   "cell_type": "markdown",
   "id": "bfeafb22",
   "metadata": {
    "editable": true
   },
   "source": [
    "# Exercises June 16\n",
    "**Nuclear TALENT course on quantum computing**\n",
    "\n",
    "Date: **June 16, 2025**"
   ]
  },
  {
   "cell_type": "markdown",
   "id": "f6becd7d",
   "metadata": {
    "editable": true
   },
   "source": [
    "## First exercise set\n",
    "\n",
    "The exercises we present each week are meant to build the basis for\n",
    "the possible  project we will work. See in particular the third lecture today."
   ]
  },
  {
   "cell_type": "markdown",
   "id": "46c33bf0",
   "metadata": {
    "editable": true
   },
   "source": [
    "## Ex1: One-qubit basis and  Pauli matrices\n",
    "\n",
    "Write a function which sets up a one-qubit basis and apply the various Pauli matrices to these basis states."
   ]
  },
  {
   "cell_type": "markdown",
   "id": "cf2efc58",
   "metadata": {
    "editable": true
   },
   "source": [
    "## Ex2: Hadamard and Phase gates\n",
    "\n",
    "Apply the Hadamard and Phase gates to the same one-qubit basis states and study their actions on these states."
   ]
  },
  {
   "cell_type": "markdown",
   "id": "048b2dfd",
   "metadata": {
    "editable": true
   },
   "source": [
    "## Ex3: Traces of operators\n",
    "\n",
    "Prove that the trace is cyclic, that is for three operators $\\boldsymbol{A}$, $\\boldsymbol{B}$ and $\\boldsymbol{C}$, we have"
   ]
  },
  {
   "cell_type": "markdown",
   "id": "cc14e8ca",
   "metadata": {
    "editable": true
   },
   "source": [
    "$$\n",
    "\\mathrm{Tr}\\{\\boldsymbol{ABC}\\}=\\mathrm{Tr}\\{\\boldsymbol{CAB}\\}=\\mathrm{Tr}\\{\\boldsymbol{BCA}\\}.\n",
    "$$"
   ]
  },
  {
   "cell_type": "markdown",
   "id": "c293cdac",
   "metadata": {
    "editable": true
   },
   "source": [
    "## Ex4: Exponentiated operators\n",
    "\n",
    "Let $\\boldsymbol{A}$ be an operator on a vector space satisfying $\\boldsymbol{A}^2=1$ and $\\alpha$ any real constant. Show that"
   ]
  },
  {
   "cell_type": "markdown",
   "id": "ceecc91e",
   "metadata": {
    "editable": true
   },
   "source": [
    "$$\n",
    "\\exp{\\imath\\alpha \\boldsymbol{A}}=\\sum_{n=0}^{\\infty} \\frac{(i\\alpha)^n}{n!}\\boldsymbol{A}^n=\\boldsymbol{I}\\cos{\\alpha}+\\imath\\boldsymbol{A}\\sin{\\alpha}.\n",
    "$$"
   ]
  },
  {
   "cell_type": "markdown",
   "id": "a930196b",
   "metadata": {
    "editable": true
   },
   "source": [
    "Does this apply to the Pauli matrices?"
   ]
  },
  {
   "cell_type": "markdown",
   "id": "5297ba12",
   "metadata": {
    "editable": true
   },
   "source": [
    "## Ex5: Hamiltonians rewritten in terms of simple Pauli matrices\n",
    "\n",
    "We consider a simple $2\\times 2$ real\n",
    "Hamiltonian consisting of a diagonal part $H_0$ and off-diagonal part\n",
    "$H_I$, playing the roles of a non-interactive one-body and interactive\n",
    "two-body part respectively. Defined through their matrix elements, we\n",
    "express them in the Pauli basis $\\vert 0\\rangle$ and $\\vert 1 \\rangle$"
   ]
  },
  {
   "cell_type": "markdown",
   "id": "93ed8dde",
   "metadata": {
    "editable": true
   },
   "source": [
    "$$\n",
    "\\begin{align*}\n",
    "    \\begin{split} \n",
    "        H &= H_0 + H_I \\\\\n",
    "        H_0 = \\begin{bmatrix}\n",
    "            E_1 & 0 \\\\\n",
    "            0 & E_2\n",
    "        \\end{bmatrix}&, \\hspace{20px}\n",
    "        H_I = \\lambda \\begin{bmatrix}\n",
    "            V_{11} & V_{12} \\\\\n",
    "            V_{21} & V_{22}\n",
    "        \\end{bmatrix}\n",
    "    \\end{split}\n",
    "\\end{align*}\n",
    "$$"
   ]
  },
  {
   "cell_type": "markdown",
   "id": "04c1e865",
   "metadata": {
    "editable": true
   },
   "source": [
    "Where $\\lambda \\in [0,1]$ is a coupling constant parameterizing the strength of the interaction."
   ]
  },
  {
   "cell_type": "markdown",
   "id": "5b08e2f8",
   "metadata": {
    "editable": true
   },
   "source": [
    "## Rewriting in terms of Pauli matrices\n",
    "\n",
    "Define"
   ]
  },
  {
   "cell_type": "markdown",
   "id": "18f50d21",
   "metadata": {
    "editable": true
   },
   "source": [
    "$$\n",
    "E_{+} = \\frac{E_1 + E_2}{2},\\hspace{20px} E_{-} = \\frac{E_1 - E_2}{2}\n",
    "$$"
   ]
  },
  {
   "cell_type": "markdown",
   "id": "b8bedd0b",
   "metadata": {
    "editable": true
   },
   "source": [
    "show  that by combining the identity and $Z$ Pauli matrix, this can be expressed as"
   ]
  },
  {
   "cell_type": "markdown",
   "id": "a5925df1",
   "metadata": {
    "editable": true
   },
   "source": [
    "$$\n",
    "H_0 = E_{+} I + E_{-} Z\n",
    "$$"
   ]
  },
  {
   "cell_type": "markdown",
   "id": "bbfa8454",
   "metadata": {
    "editable": true
   },
   "source": [
    "## The interaction part\n",
    "\n",
    "For $H_1$ we use the same trick to fill the diagonal, defining $V_{+} = (V_{11} + V_{22})/2, V_{-} = (V_{11} - V_{22})/2$. From the hermiticity requirements of $H$, we note that $V_{12} = V_{21} \\equiv V_o$. Use this to simplify the problem to a simple $X$ term."
   ]
  },
  {
   "cell_type": "markdown",
   "id": "26a8049f",
   "metadata": {
    "editable": true
   },
   "source": [
    "$$\n",
    "H_I = V_{+} I + V_{-} Z + V_o X\n",
    "$$"
   ]
  },
  {
   "cell_type": "markdown",
   "id": "6b3bd6bf",
   "metadata": {
    "editable": true
   },
   "source": [
    "## Measurement basis\n",
    "\n",
    "For the above system show that the Pauli $X$ matrix can be rewritten in terms of the Hadamard matrices and the Pauli $Z$ matrix, that is"
   ]
  },
  {
   "cell_type": "markdown",
   "id": "b05cf6b2",
   "metadata": {
    "editable": true
   },
   "source": [
    "$$\n",
    "X=HZH.\n",
    "$$"
   ]
  }
 ],
 "metadata": {},
 "nbformat": 4,
 "nbformat_minor": 5
}
