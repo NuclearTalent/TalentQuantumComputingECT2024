{
 "cells": [
  {
   "cell_type": "markdown",
   "id": "1b38b006",
   "metadata": {
    "editable": true
   },
   "source": [
    "<!-- HTML file automatically generated from DocOnce source (https://github.com/doconce/doconce/)\n",
    "doconce format html day1.do.txt  -->\n",
    "<!-- dom:TITLE: Basic notion of quantum computing -->"
   ]
  },
  {
   "cell_type": "markdown",
   "id": "2664736b",
   "metadata": {
    "editable": true
   },
   "source": [
    "# Basic notion of quantum computing\n",
    "**Nuclear TALENT course on quantum computing**\n",
    "\n",
    "Date: **May 21, 2024**"
   ]
  },
  {
   "cell_type": "markdown",
   "id": "abd8eecd",
   "metadata": {
    "editable": true
   },
   "source": [
    "## Overview of first day, Basic Notions of Quantum Mechanics\n",
    "\n",
    "**Linear Algebra reminders, Hilbert Spaces, operators on Hilbert spaces, states, qubits and other definitions.**\n",
    "\n",
    "1. Mathematical notation, Hilbert spaces and operators\n",
    "\n",
    "2. Description of quantum systems and one-qubit systems \n",
    "\n",
    "3. States in Hilbert space, pure and mixed states\n",
    "\n",
    "4. Operators and simple gates\n",
    "\n",
    "**Reading recommendation**: [Scherer, Mathematics of Quantum Computations, chapter 2](https://link.springer.com/book/10.1007/978-3-030-12358-1)"
   ]
  },
  {
   "cell_type": "markdown",
   "id": "203948a5",
   "metadata": {
    "editable": true
   },
   "source": [
    "## Notations and definitions\n",
    "\n",
    "Vectors, matrices and higher-order tensors are always boldfaced, with vectors\n",
    "given by lower case letter letters and matrices and higher-order tensors given by upper case letters.\n",
    "\n",
    "Unless otherwise stated, the elements $v_i$ of a vector $\\boldsymbol{v}$ are assumed to be real. That is a vector of length $n$ is defined as\n",
    "$\\boldsymbol{x}\\in \\mathbb{R}^{n}$ and if we have a complex vector we have $\\boldsymbol{x}\\in \\mathbb{C}^{n}$.\n",
    "\n",
    "For a matrix of dimension $n\\times n$ we have \n",
    "$\\boldsymbol{A}\\in \\mathbb{R}^{n\\times n}$ and the first matrix element starts with row element (row-wise ordering) zero and column element zero."
   ]
  },
  {
   "cell_type": "markdown",
   "id": "57a86122",
   "metadata": {
    "editable": true
   },
   "source": [
    "## Some  mathematical notations\n",
    "1. For all/any  $\\forall$\n",
    "\n",
    "2. Implies $\\implies$\n",
    "\n",
    "3. Equivalent $\\equiv$\n",
    "\n",
    "4. Real variable $\\mathbb{R}$\n",
    "\n",
    "5. Integer variable $\\mathbb{I}$\n",
    "\n",
    "6. Complex  variable $\\mathbb{C}$"
   ]
  },
  {
   "cell_type": "markdown",
   "id": "821ad946",
   "metadata": {
    "editable": true
   },
   "source": [
    "## Vectors\n",
    "\n",
    "We start by defining a vector $\\boldsymbol{x}$  with $n$ components, with $x_0$ as our first element, as"
   ]
  },
  {
   "cell_type": "markdown",
   "id": "a4982759",
   "metadata": {
    "editable": true
   },
   "source": [
    "$$\n",
    "\\boldsymbol{x} = \\begin{bmatrix} x_0\\\\ x_1 \\\\ x_2 \\\\ \\dots \\\\ \\dots \\\\ x_{n-1} \\end{bmatrix}.\n",
    "$$"
   ]
  },
  {
   "cell_type": "markdown",
   "id": "a9cca0f4",
   "metadata": {
    "editable": true
   },
   "source": [
    "and its transpose"
   ]
  },
  {
   "cell_type": "markdown",
   "id": "8eb9d173",
   "metadata": {
    "editable": true
   },
   "source": [
    "$$\n",
    "\\boldsymbol{x}^{T} = \\begin{bmatrix} x_0 & x_1 & x_2 & \\dots & \\dots & x_{n-1} \\end{bmatrix},\n",
    "$$"
   ]
  },
  {
   "cell_type": "markdown",
   "id": "45693046",
   "metadata": {
    "editable": true
   },
   "source": [
    "In case we have a complex vector we define the hermitian conjugate"
   ]
  },
  {
   "cell_type": "markdown",
   "id": "4109713f",
   "metadata": {
    "editable": true
   },
   "source": [
    "$$\n",
    "\\boldsymbol{x}^{\\dagger} = \\begin{bmatrix} x_0^* & x_1^* & x_2^* & \\dots & \\dots & x_{n-1}^* \\end{bmatrix},\n",
    "$$"
   ]
  },
  {
   "cell_type": "markdown",
   "id": "03c6b1c8",
   "metadata": {
    "editable": true
   },
   "source": [
    "With a given vector $\\boldsymbol{x}$, we define the inner product as"
   ]
  },
  {
   "cell_type": "markdown",
   "id": "bc588970",
   "metadata": {
    "editable": true
   },
   "source": [
    "$$\n",
    "\\boldsymbol{x}^T \\boldsymbol{x} = \\sum_{i=0}^{n-1} x_ix_i=x_0^2+x_1^2+\\dots + x_{n-1}^2.\n",
    "$$"
   ]
  },
  {
   "cell_type": "markdown",
   "id": "d3860c8b",
   "metadata": {
    "editable": true
   },
   "source": [
    "## Hermitian conjugate\n",
    "\n",
    "The hermitian conjugate of a matrix is obtained by taking the complex\n",
    "conjugate of each element and then taking the transpose of the\n",
    "resulting matrix. Often we will just say the transpose or just the\n",
    "conjugate, it should be clear from the context that we will mainly\n",
    "deal with hermitian quantities and our matrices will in most cases be square matrices.\n",
    "\n",
    "Unitarity, as we will see below, plays also a central role in this course."
   ]
  },
  {
   "cell_type": "markdown",
   "id": "ac845a86",
   "metadata": {
    "editable": true
   },
   "source": [
    "## Outer products\n",
    "\n",
    "In addition to inner products between vectors/states, the outer\n",
    "product plays a central role in many applications. It is\n",
    "defined as"
   ]
  },
  {
   "cell_type": "markdown",
   "id": "e08d062e",
   "metadata": {
    "editable": true
   },
   "source": [
    "$$\n",
    "\\boldsymbol{x}\\boldsymbol{y}^T = \\begin{bmatrix}\n",
    "               x_0y_0 & x_0y_1 & x_0y_2 & \\dots & \\dots & x_0y_{n-2} & x_0y_{n-1} \\\\\n",
    "\t       x_1y_0 & x_1y_1 & x_1y_2 & \\dots & \\dots & x_1y_{n-2} & x_1y_{n-1} \\\\\n",
    "\t       x_2y_0 & x_2y_1 & x_2y_2 & \\dots & \\dots & x_2y_{n-2} & x_2y_{n-1} \\\\\t       \n",
    "               \\dots &   \\dots   & \\dots  & \\dots & \\dots & \\dots & \\dots \\\\\n",
    "               \\dots &   \\dots   & \\dots  & \\dots & \\dots & \\dots & \\dots \\\\\t       \n",
    "\t       x_{n-2}y_0 & x_{n-2}y_1 & x_{n-2}y_2 & \\dots & \\dots & x_{n-2}y_{n-2} & x_{n-2}y_{n-1} \\\\\n",
    "\t       x_{n-1}y_0 & x_{n-1}y_1 & x_{n-1}y_2 & \\dots & \\dots & x_{n-1}y_{n-2} & x_{n-1}y_{n-1} \\end{bmatrix}\n",
    "$$"
   ]
  },
  {
   "cell_type": "markdown",
   "id": "578977ca",
   "metadata": {
    "editable": true
   },
   "source": [
    "The latter defines also our basic matrix layout."
   ]
  },
  {
   "cell_type": "markdown",
   "id": "0ed93d27",
   "metadata": {
    "editable": true
   },
   "source": [
    "## Basic Matrix Features\n",
    "\n",
    "A general $n\\times n$ matrix is given by"
   ]
  },
  {
   "cell_type": "markdown",
   "id": "feef4303",
   "metadata": {
    "editable": true
   },
   "source": [
    "$$\n",
    "\\boldsymbol{A} =\n",
    "\\begin{bmatrix}\n",
    "               a_{00} & a_{01} & a_{02} & \\dots & \\dots & a_{0n-2} & a_{0n-1} \\\\\n",
    "               a_{10} & a_{11} & a_{12} & \\dots & \\dots & a_{1n-2} & a_{1n-1} \\\\\n",
    "               \\dots &   \\dots   & \\dots  & \\dots & \\dots & \\dots & \\dots \\\\\n",
    "               \\dots &   \\dots   & \\dots  & \\dots & \\dots & \\dots & \\dots \\\\\t       \n",
    "               a_{n-20} & a_{n-21} & a_{n-22} & \\dots & \\dots & a_{n-2n-2} & a_{n-2n-1} \\\\\n",
    "               a_{n-10} & a_{n-11} & a_{n-12} & \\dots & \\dots & a_{n-1n-2} & a_{n-1n-1} \\end{bmatrix},\n",
    "$$"
   ]
  },
  {
   "cell_type": "markdown",
   "id": "dd5a9a46",
   "metadata": {
    "editable": true
   },
   "source": [
    "or in terms of its column vectors $\\boldsymbol{a}_i$ as"
   ]
  },
  {
   "cell_type": "markdown",
   "id": "bbdf8765",
   "metadata": {
    "editable": true
   },
   "source": [
    "$$\n",
    "\\boldsymbol{A} =\n",
    "\\begin{bmatrix}\\boldsymbol{a}_{0} & \\boldsymbol{a}_{1} & \\boldsymbol{a}_{2} & \\dots & \\dots & \\boldsymbol{a}_{n-2} & \\boldsymbol{a}_{n-1}\\end{bmatrix}.\n",
    "$$"
   ]
  },
  {
   "cell_type": "markdown",
   "id": "4f8844a6",
   "metadata": {
    "editable": true
   },
   "source": [
    "We can think of a matrix as a diagram of in general $n$ rowns and $m$ columns. In the example here we have a square matrix."
   ]
  },
  {
   "cell_type": "markdown",
   "id": "06bf6645",
   "metadata": {
    "editable": true
   },
   "source": [
    "## The inverse of a matrix\n",
    "The inverse of a square matrix (if it exists) is defined by"
   ]
  },
  {
   "cell_type": "markdown",
   "id": "d3f9ea6c",
   "metadata": {
    "editable": true
   },
   "source": [
    "$$\n",
    "\\boldsymbol{A}^{-1} \\cdot \\boldsymbol{A} = I,\n",
    "$$"
   ]
  },
  {
   "cell_type": "markdown",
   "id": "b2ae781d",
   "metadata": {
    "editable": true
   },
   "source": [
    "where $\\boldsymbol{I}$ is the unit matrix."
   ]
  },
  {
   "cell_type": "markdown",
   "id": "0b9e88ae",
   "metadata": {
    "editable": true
   },
   "source": [
    "## Selected Matrix Features\n",
    "\n",
    "<table class=\"dotable\" border=\"1\">\n",
    "<thead>\n",
    "<tr><th align=\"center\">                           Relations                            </th> <th align=\"center\">      Name     </th> <th align=\"center\">                            matrix elements                            </th> </tr>\n",
    "</thead>\n",
    "<tbody>\n",
    "<tr><td align=\"center\">   $\\boldsymbol{A} = \\boldsymbol{A}^{T}$                               </td> <td align=\"center\">   symmetric          </td> <td align=\"center\">   $a_{ij} = a_{ji}$                                                          </td> </tr>\n",
    "<tr><td align=\"center\">   $\\boldsymbol{A} = \\left (\\boldsymbol{A}^{T} \\right )^{-1}$          </td> <td align=\"center\">   real orthogonal    </td> <td align=\"center\">   $\\sum_k a_{ik} a_{jk} = \\sum_k a_{ki} a_{kj} = \\delta_{ij}$                </td> </tr>\n",
    "<tr><td align=\"center\">   $\\boldsymbol{A} = \\boldsymbol{A}^{ * }$                             </td> <td align=\"center\">   real matrix        </td> <td align=\"center\">   $a_{ij} = a_{ij}^{ * }$                                                    </td> </tr>\n",
    "<tr><td align=\"center\">   $\\boldsymbol{A} = \\boldsymbol{A}^{\\dagger}$                         </td> <td align=\"center\">   hermitian          </td> <td align=\"center\">   $a_{ij} = a_{ji}^{ * }$                                                    </td> </tr>\n",
    "<tr><td align=\"center\">   $\\boldsymbol{A} = \\left (\\boldsymbol{A}^{\\dagger} \\right )^{-1}$    </td> <td align=\"center\">   unitary            </td> <td align=\"center\">   $\\sum_k a_{ik} a_{jk}^{ * } = \\sum_k a_{ki}^{ * } a_{kj} = \\delta_{ij}$    </td> </tr>\n",
    "</tbody>\n",
    "</table>"
   ]
  },
  {
   "cell_type": "markdown",
   "id": "60728ac5",
   "metadata": {
    "editable": true
   },
   "source": [
    "## Some famous Matrices\n",
    "\n",
    "  * Diagonal if $a_{ij}=0$ for $i\\ne j$\n",
    "\n",
    "  * Upper triangular if $a_{ij}=0$ for $i > j$\n",
    "\n",
    "  * Lower triangular if $a_{ij}=0$ for $i < j$\n",
    "\n",
    "  * Upper Hessenberg if $a_{ij}=0$ for $i > j+1$\n",
    "\n",
    "  * Lower Hessenberg if $a_{ij}=0$ for $i < j+1$\n",
    "\n",
    "  * Tridiagonal if $a_{ij}=0$ for $|i -j| > 1$\n",
    "\n",
    "  * Lower banded with bandwidth $p$: $a_{ij}=0$ for $i > j+p$\n",
    "\n",
    "  * Upper banded with bandwidth $p$: $a_{ij}=0$ for $i < j+p$\n",
    "\n",
    "  * Banded, block upper triangular, block lower triangular...."
   ]
  },
  {
   "cell_type": "markdown",
   "id": "80225a95",
   "metadata": {
    "editable": true
   },
   "source": [
    "## Matrix Features\n",
    "\n",
    "**Some equivalent statements for square matrices.**\n",
    "\n",
    "For an $n\\times n$ matrix  $\\boldsymbol{A}$ the following properties are all equivalent\n",
    "\n",
    "  * If the inverse of $\\boldsymbol{A}$ exists, $\\boldsymbol{A}$ is nonsingular.\n",
    "\n",
    "  * The equation $\\boldsymbol{Ax}=0$ implies $\\boldsymbol{x}=0$.\n",
    "\n",
    "  * The rows of $\\boldsymbol{A}$ form a basis of $\\mathbb{C}^{n}$.\n",
    "\n",
    "  * The columns of $\\boldsymbol{A}$ form a basis of $\\mathbb{C}^{n}$.\n",
    "\n",
    "  * $\\boldsymbol{A}$ is a product of elementary matrices. Can you name one example?\n",
    "\n",
    "  * $0$ is not an eigenvalue of $\\boldsymbol{A}$."
   ]
  },
  {
   "cell_type": "markdown",
   "id": "a462438e",
   "metadata": {
    "editable": true
   },
   "source": [
    "## Important Mathematical Operations\n",
    "\n",
    "The basic matrix operations that we will deal with are addition and subtraction"
   ]
  },
  {
   "cell_type": "markdown",
   "id": "64f7789b",
   "metadata": {
    "editable": true
   },
   "source": [
    "$$\n",
    "\\boldsymbol{A}= \\boldsymbol{B}\\pm\\boldsymbol{C}  \\Longrightarrow a_{ij} = b_{ij}\\pm c_{ij},\n",
    "$$"
   ]
  },
  {
   "cell_type": "markdown",
   "id": "15023b41",
   "metadata": {
    "editable": true
   },
   "source": [
    "and scalar-matrix multiplication"
   ]
  },
  {
   "cell_type": "markdown",
   "id": "57e75af4",
   "metadata": {
    "editable": true
   },
   "source": [
    "$$\n",
    "\\boldsymbol{A}= \\gamma\\boldsymbol{B}  \\Longrightarrow a_{ij} = \\gamma b_{ij}.\n",
    "$$"
   ]
  },
  {
   "cell_type": "markdown",
   "id": "982f64f3",
   "metadata": {
    "editable": true
   },
   "source": [
    "## Vector-matrix and Matrix-matrix multiplication\n",
    "\n",
    "We have also vector-matrix multiplications"
   ]
  },
  {
   "cell_type": "markdown",
   "id": "fc2f7969",
   "metadata": {
    "editable": true
   },
   "source": [
    "$$\n",
    "\\boldsymbol{y}=\\boldsymbol{Ax}   \\Longrightarrow y_{i} = \\sum_{j=0}^{n-1} a_{ij}x_j,\n",
    "$$"
   ]
  },
  {
   "cell_type": "markdown",
   "id": "97a5a386",
   "metadata": {
    "editable": true
   },
   "source": [
    "and matrix-matrix multiplications"
   ]
  },
  {
   "cell_type": "markdown",
   "id": "e6304d9e",
   "metadata": {
    "editable": true
   },
   "source": [
    "$$\n",
    "\\boldsymbol{A}=\\boldsymbol{BC}   \\Longrightarrow a_{ij} = \\sum_{k=0}^{n-1} b_{ik}c_{kj},\n",
    "$$"
   ]
  },
  {
   "cell_type": "markdown",
   "id": "4e1503fc",
   "metadata": {
    "editable": true
   },
   "source": [
    "and transpositions of a matrix"
   ]
  },
  {
   "cell_type": "markdown",
   "id": "8e351804",
   "metadata": {
    "editable": true
   },
   "source": [
    "$$\n",
    "\\boldsymbol{A}=\\boldsymbol{B}^T   \\Longrightarrow a_{ij} = b_{ji}.\n",
    "$$"
   ]
  },
  {
   "cell_type": "markdown",
   "id": "b7b268bc",
   "metadata": {
    "editable": true
   },
   "source": [
    "## Important Mathematical Operations\n",
    "\n",
    "Similarly, important vector operations that we will deal with are addition and subtraction"
   ]
  },
  {
   "cell_type": "markdown",
   "id": "0d93f052",
   "metadata": {
    "editable": true
   },
   "source": [
    "$$\n",
    "\\boldsymbol{x}= \\boldsymbol{y}\\pm\\boldsymbol{z}  \\Longrightarrow x_{i} = y_{i}\\pm z_{i},\n",
    "$$"
   ]
  },
  {
   "cell_type": "markdown",
   "id": "e3acd0d8",
   "metadata": {
    "editable": true
   },
   "source": [
    "scalar-vector multiplication"
   ]
  },
  {
   "cell_type": "markdown",
   "id": "f4beb6d3",
   "metadata": {
    "editable": true
   },
   "source": [
    "$$\n",
    "\\boldsymbol{x}= \\gamma\\boldsymbol{y}  \\Longrightarrow x_{i} = \\gamma y_{i},\n",
    "$$"
   ]
  },
  {
   "cell_type": "markdown",
   "id": "64737eba",
   "metadata": {
    "editable": true
   },
   "source": [
    "## Other important mathematical operations\n",
    "and vector-vector multiplication (called Hadamard multiplication)"
   ]
  },
  {
   "cell_type": "markdown",
   "id": "a900fa55",
   "metadata": {
    "editable": true
   },
   "source": [
    "$$\n",
    "\\boldsymbol{x}=\\boldsymbol{yz}   \\Longrightarrow x_{i} = y_{i}z_i.\n",
    "$$"
   ]
  },
  {
   "cell_type": "markdown",
   "id": "85143beb",
   "metadata": {
    "editable": true
   },
   "source": [
    "Finally, as already metnioned, the inner or so-called dot product  resulting in a constant"
   ]
  },
  {
   "cell_type": "markdown",
   "id": "a977f65b",
   "metadata": {
    "editable": true
   },
   "source": [
    "$$\n",
    "x=\\boldsymbol{y}^T\\boldsymbol{z}   \\Longrightarrow x = \\sum_{j=0}^{n-1} y_{j}z_{j},\n",
    "$$"
   ]
  },
  {
   "cell_type": "markdown",
   "id": "fab0ae56",
   "metadata": {
    "editable": true
   },
   "source": [
    "and the outer product, which yields a matrix,"
   ]
  },
  {
   "cell_type": "markdown",
   "id": "e5c64f5c",
   "metadata": {
    "editable": true
   },
   "source": [
    "$$\n",
    "\\boldsymbol{A}=  \\boldsymbol{y}\\boldsymbol{z}^T \\Longrightarrow  a_{ij} = y_{i}z_{j},\n",
    "$$"
   ]
  },
  {
   "cell_type": "markdown",
   "id": "2eaef820",
   "metadata": {
    "editable": true
   },
   "source": [
    "## Defining basis states and quantum mechanical operators\n",
    "\n",
    "We extend now to quantum mechanics our definitions of vectors, matrices and more.\n",
    "\n",
    "We start by defining a state vector $\\boldsymbol{x}$ (meant to represent\n",
    "various quantum mechanical degrees of freedom) with $n$ components as"
   ]
  },
  {
   "cell_type": "markdown",
   "id": "60692122",
   "metadata": {
    "editable": true
   },
   "source": [
    "$$\n",
    "\\boldsymbol{x} = \\begin{bmatrix} x_0\\\\ x_1 \\\\ x_2 \\\\ \\dots \\\\ \\dots \\\\ x_{n-1} \\end{bmatrix}.\n",
    "$$"
   ]
  },
  {
   "cell_type": "markdown",
   "id": "2ca1c10c",
   "metadata": {
    "editable": true
   },
   "source": [
    "## Dirac notation\n",
    "\n",
    "Throughout these notes we will use the so-called Dirac **bra-ket**\n",
    "formalism and we will replace the above standard boldfaced notation\n",
    "for a vector with"
   ]
  },
  {
   "cell_type": "markdown",
   "id": "eee17e9b",
   "metadata": {
    "editable": true
   },
   "source": [
    "$$\n",
    "\\boldsymbol{x} = \\vert x \\rangle = \\begin{bmatrix} x_0\\\\ x_1 \\\\ x_2 \\\\ \\dots \\\\ \\dots \\\\ x_{n-1} \\end{bmatrix},\n",
    "$$"
   ]
  },
  {
   "cell_type": "markdown",
   "id": "4487f4b3",
   "metadata": {
    "editable": true
   },
   "source": [
    "and"
   ]
  },
  {
   "cell_type": "markdown",
   "id": "a91917b4",
   "metadata": {
    "editable": true
   },
   "source": [
    "$$\n",
    "\\boldsymbol{x}^{\\dagger} = \\langle x \\vert = \\begin{bmatrix} x_0^* & x_1^* & x_2^* & \\dots & \\dots & x_{n-1}^* \\end{bmatrix},\n",
    "$$"
   ]
  },
  {
   "cell_type": "markdown",
   "id": "3dd6259c",
   "metadata": {
    "editable": true
   },
   "source": [
    "## Inner product in Dirac notation\n",
    "\n",
    "With a given vector $\\vert x \\rangle$, we define the inner product as"
   ]
  },
  {
   "cell_type": "markdown",
   "id": "ed97fbef",
   "metadata": {
    "editable": true
   },
   "source": [
    "$$\n",
    "\\langle x \\vert x\\rangle = \\sum_{i=0}^{n-1} x_i^*x_i=x_0^2+x_1^2+\\dots + x_{n-1}^2.\n",
    "$$"
   ]
  },
  {
   "cell_type": "markdown",
   "id": "9a3e90b9",
   "metadata": {
    "editable": true
   },
   "source": [
    "For two arbitrary vectors $\\vert x\\rangle$ and $\\vert y\\rangle$ with the same lentgh, we have the\n",
    "general expression"
   ]
  },
  {
   "cell_type": "markdown",
   "id": "0b7236a3",
   "metadata": {
    "editable": true
   },
   "source": [
    "$$\n",
    "\\langle y \\vert x\\rangle = \\sum_{i=0}^{n-1} y_i^*x_i=y_0^*x_0+y_1^*x_1+\\dots + y_{n-1}^*x_{n-1}.\n",
    "$$"
   ]
  },
  {
   "cell_type": "markdown",
   "id": "3328eb00",
   "metadata": {
    "editable": true
   },
   "source": [
    "## The inner product is a real number\n",
    "\n",
    "Note well that the inner product $\\langle x \\vert x\\rangle$ is always a real number while for a two different vectors $\\langle y \\vert x\\rangle$ is in general not equal to\n",
    "$\\langle x \\vert y\\rangle$, as can be seen from the example in the next slide.\n",
    "\n",
    "We note in bypassing that $\\vert x\\rangle^{\\dagger}=\\langle x \\vert$,\n",
    "$\\langle x\\vert^{\\dagger}=\\vert x\\rangle$ and $(\\vert\n",
    "x\\rangle^{\\dagger})^{\\dagger}=\\vert x \\rangle$."
   ]
  },
  {
   "cell_type": "markdown",
   "id": "0a638bb3",
   "metadata": {
    "editable": true
   },
   "source": [
    "## Examples\n",
    "\n",
    "Let us assume that $\\vert x \\rangle$ is given by"
   ]
  },
  {
   "cell_type": "markdown",
   "id": "d63fbea7",
   "metadata": {
    "editable": true
   },
   "source": [
    "$$\n",
    "\\vert x \\rangle = \\begin{bmatrix} 1-\\imath \\\\ 2+\\imath \\end{bmatrix}.\n",
    "$$"
   ]
  },
  {
   "cell_type": "markdown",
   "id": "af0abd6e",
   "metadata": {
    "editable": true
   },
   "source": [
    "The inner product gives us"
   ]
  },
  {
   "cell_type": "markdown",
   "id": "ab7b19dc",
   "metadata": {
    "editable": true
   },
   "source": [
    "$$\n",
    "\\langle x\\vert x \\rangle = (1+\\imath)(1-\\imath)+(2-\\imath)(2+\\imath)=7,\n",
    "$$"
   ]
  },
  {
   "cell_type": "markdown",
   "id": "0518f2c6",
   "metadata": {
    "editable": true
   },
   "source": [
    "a real number."
   ]
  },
  {
   "cell_type": "markdown",
   "id": "1d73dbb8",
   "metadata": {
    "editable": true
   },
   "source": [
    "## Norm\n",
    "We can use the norm/inner product to normalize the vector $\\vert x \\rangle$ and obtain"
   ]
  },
  {
   "cell_type": "markdown",
   "id": "e12e8b0e",
   "metadata": {
    "editable": true
   },
   "source": [
    "$$\n",
    "\\vert x \\rangle = \\frac{1}{\\sqrt{7}}\\begin{bmatrix} 1-\\imath \\\\ 2+\\imath \\end{bmatrix}.\n",
    "$$"
   ]
  },
  {
   "cell_type": "markdown",
   "id": "59b699d4",
   "metadata": {
    "editable": true
   },
   "source": [
    "As another example, consider the two vectors"
   ]
  },
  {
   "cell_type": "markdown",
   "id": "45063e10",
   "metadata": {
    "editable": true
   },
   "source": [
    "$$\n",
    "\\vert x \\rangle = \\begin{bmatrix} -1 \\\\ 2\\imath \\\\ 1\\end{bmatrix},\n",
    "$$"
   ]
  },
  {
   "cell_type": "markdown",
   "id": "fadcfed6",
   "metadata": {
    "editable": true
   },
   "source": [
    "and"
   ]
  },
  {
   "cell_type": "markdown",
   "id": "ec507d3d",
   "metadata": {
    "editable": true
   },
   "source": [
    "$$\n",
    "\\vert y \\rangle = \\begin{bmatrix} 1 \\\\ 0\\imath \\\\ \\imath\\end{bmatrix}.\n",
    "$$"
   ]
  },
  {
   "cell_type": "markdown",
   "id": "944af575",
   "metadata": {
    "editable": true
   },
   "source": [
    "We see that the inner products $\\langle x\\vert y \\rangle = -1+\\imath$, which is not the same as\n",
    "$\\langle y\\vert x \\rangle = -1-\\imath$. This leads to the important rule"
   ]
  },
  {
   "cell_type": "markdown",
   "id": "f0e2ef45",
   "metadata": {
    "editable": true
   },
   "source": [
    "$$\n",
    "\\langle x\\vert y\\rangle^* = \\langle y \\vert x\\rangle.\n",
    "$$"
   ]
  },
  {
   "cell_type": "markdown",
   "id": "b11f8e97",
   "metadata": {
    "editable": true
   },
   "source": [
    "## Outer products\n",
    "\n",
    "In addition to inner products between vectors/states, the outer\n",
    "product plays a central role in all of quantum mechanics. It is\n",
    "defined as"
   ]
  },
  {
   "cell_type": "markdown",
   "id": "48341ce9",
   "metadata": {
    "editable": true
   },
   "source": [
    "$$\n",
    "\\vert x\\rangle \\langle y \\vert = \\begin{bmatrix}\n",
    "               x_0y_0^* & x_0y_1^* & x_0y_2^* & \\dots & \\dots & x_0y_{n-2}^* & x_0y_{n-1}^* \\\\\n",
    "\t       x_1y_0^* & x_1y_1^* & x_1y_2^* & \\dots & \\dots & x_1y_{n-2}^* & x_1y_{n-1}^* \\\\\n",
    "\t       x_2y_0^* & x_2y_1^* & x_2y_2^* & \\dots & \\dots & x_2y_{n-2}^* & x_2y_{n-1}^* \\\\\t       \n",
    "               \\dots &   \\dots   & \\dots  & \\dots & \\dots & \\dots & \\dots \\\\\n",
    "               \\dots &   \\dots   & \\dots  & \\dots & \\dots & \\dots & \\dots \\\\\t       \n",
    "\t       x_{n-2}y_0^* & x_{n-2}y_1^* & x_{n-2}y_2^* & \\dots & \\dots & x_{n-2}y_{n-2}^* & x_{n-2}y_{n-1}^* \\\\\n",
    "\t       x_{n-1}y_0^* & x_{n-1}y_1^* & x_{n-1}y_2^* & \\dots & \\dots & x_{n-1}y_{n-2}^* & x_{n-1}y_{n-1}^* \\end{bmatrix}\n",
    "$$"
   ]
  },
  {
   "cell_type": "markdown",
   "id": "37f44911",
   "metadata": {
    "editable": true
   },
   "source": [
    "## Different operators and gates\n",
    "\n",
    "In quantum computing, the so-called Pauli matrices, and other simple\n",
    "$2\\times 2$ matrices, play an important role, ranging from the setup\n",
    "of quantum gates to a rewrite of creation and annihilation operators\n",
    "and other quantum mechanical operators. Let us start with the familiar\n",
    "Pauli matrices and remind ourselves of some of their basic properties.\n",
    "\n",
    "The Pauli matrices are defined as"
   ]
  },
  {
   "cell_type": "markdown",
   "id": "9cc536d9",
   "metadata": {
    "editable": true
   },
   "source": [
    "$$\n",
    "\\sigma_x = \\begin{bmatrix} 0 & 1 \\\\ 1 & 0 \\end{bmatrix},\n",
    "$$"
   ]
  },
  {
   "cell_type": "markdown",
   "id": "69cfdfbc",
   "metadata": {
    "editable": true
   },
   "source": [
    "$$\n",
    "\\sigma_y = \\begin{bmatrix} 0 & -\\imath \\\\ \\imath & 0 \\end{bmatrix},\n",
    "$$"
   ]
  },
  {
   "cell_type": "markdown",
   "id": "9cfeca71",
   "metadata": {
    "editable": true
   },
   "source": [
    "and"
   ]
  },
  {
   "cell_type": "markdown",
   "id": "ad1b9cd5",
   "metadata": {
    "editable": true
   },
   "source": [
    "$$\n",
    "\\sigma_z = \\begin{bmatrix} 1 & 0 \\\\ 0 & -1 \\end{bmatrix}.\n",
    "$$"
   ]
  },
  {
   "cell_type": "markdown",
   "id": "cc4b9411",
   "metadata": {
    "editable": true
   },
   "source": [
    "## Properties of Pauli matrices\n",
    "\n",
    "It is easy to show that the matrices obey the properties (being involutory)"
   ]
  },
  {
   "cell_type": "markdown",
   "id": "74eea55b",
   "metadata": {
    "editable": true
   },
   "source": [
    "$$\n",
    "\\sigma_x\\sigma_x = \\sigma_y\\sigma_y=\\sigma_z\\sigma_z = I=\\begin{bmatrix} 1 & 0 \\\\ 0 & 1\\end{bmatrix},\n",
    "$$"
   ]
  },
  {
   "cell_type": "markdown",
   "id": "a11abbc1",
   "metadata": {
    "editable": true
   },
   "source": [
    "that is their products with themselves result in the identity matrix\n",
    "$\\boldsymbol{I}$.  Furthermore, the Pauli matrices are unitary matrices\n",
    "meaning that their inverses are equal to their hermitian conjugated\n",
    "matrices. The determinants of the Pauli matrices are all equal to $-1$,\n",
    "as can be easily verified."
   ]
  },
  {
   "cell_type": "markdown",
   "id": "bfdc1011",
   "metadata": {
    "editable": true
   },
   "source": [
    "## Commutation relations\n",
    "\n",
    "The Pauli matrices obey also the following commutation rules"
   ]
  },
  {
   "cell_type": "markdown",
   "id": "39c7aff4",
   "metadata": {
    "editable": true
   },
   "source": [
    "$$\n",
    "\\left[\\sigma_x,\\sigma_y\\right] = 2\\imath \\sigma_z.\n",
    "$$"
   ]
  },
  {
   "cell_type": "markdown",
   "id": "ddad19d7",
   "metadata": {
    "editable": true
   },
   "source": [
    "Before we proceed with other matrices and how they can be used to\n",
    "operate on various quantum mechanical states, let us try to define\n",
    "various basis sets and their pertinent notations. We will often refer\n",
    "to these basis states as our computational basis."
   ]
  },
  {
   "cell_type": "markdown",
   "id": "60a83aca",
   "metadata": {
    "editable": true
   },
   "source": [
    "## Definition of Computational basis states\n",
    "\n",
    "<!-- to do: make figures with examples of basis states, hydrogen like systems, harmonic oscillator -->\n",
    "Assume we have a two-level system where the two states are represented\n",
    "by the state vectors $\\vert \\phi_0\\rangle$ and $\\vert \\phi_1\\rangle$,\n",
    "respectively. These states could represent selected or effective\n",
    "degrees of freedom for either a single particle (fermion or boson) or\n",
    "they could represent effective many-body degrees of freedon. In actual\n",
    "realizations of quantum computing we search often for candidate\n",
    "systems where we can use some low-lying states as computational basis\n",
    "states. But we are not limited to quantum computing. When doing\n",
    "many-body physics, due to the exploding degrees of freedom, we\n",
    "normally search after effective ways by which we can reduce the\n",
    "involved dimensionalities to a number of degrees of freedom we can\n",
    "handle by a given many-body method.\n",
    "\n",
    "[See handwritten notes January 17 for more details](https://github.com/CompPhysics/QuantumComputingMachineLearning/blob/gh-pages/doc/HandWrittenNotes/2024/NotesJanuary17.pdf)"
   ]
  },
  {
   "cell_type": "markdown",
   "id": "d1e1eef7",
   "metadata": {
    "editable": true
   },
   "source": [
    "## Projection operators\n",
    "\n",
    "We will now relabel the above two states as two orthogonal and normalized basis (ONB) states"
   ]
  },
  {
   "cell_type": "markdown",
   "id": "222b05fe",
   "metadata": {
    "editable": true
   },
   "source": [
    "$$\n",
    "\\vert \\phi_0 \\rangle = \\vert 0 \\rangle = \\begin{bmatrix} 1 \\\\ 0 \\end{bmatrix},\n",
    "$$"
   ]
  },
  {
   "cell_type": "markdown",
   "id": "040e2aa9",
   "metadata": {
    "editable": true
   },
   "source": [
    "and"
   ]
  },
  {
   "cell_type": "markdown",
   "id": "c4cc576a",
   "metadata": {
    "editable": true
   },
   "source": [
    "$$\n",
    "\\vert \\phi_1 \\rangle = \\vert 1 \\rangle = \\begin{bmatrix} 0 \\\\ 1 \\end{bmatrix}.\n",
    "$$"
   ]
  },
  {
   "cell_type": "markdown",
   "id": "83cc2c38",
   "metadata": {
    "editable": true
   },
   "source": [
    "## Identity and projection operators\n",
    "\n",
    "It is straight forward to see that $\\langle 1 \\vert 0\\rangle=0$. With these two states we can define the define the identity operator $\\boldsymbol{I}$ as the sum of the outer products of these two states, namely"
   ]
  },
  {
   "cell_type": "markdown",
   "id": "2382e2f0",
   "metadata": {
    "editable": true
   },
   "source": [
    "$$\n",
    "\\boldsymbol{I} = \\sum_{i=0}^{i=1}\\vert i\\rangle \\langle i\\vert = \\begin{bmatrix} 1 & 0 \\\\ 0 & 0 \\end{bmatrix} +\\begin{bmatrix} 0 & 0 \\\\ 0 & 1 \\end{bmatrix}=\\begin{bmatrix} 1 & 0 \\\\ 0 & 1 \\end{bmatrix}.\n",
    "$$"
   ]
  },
  {
   "cell_type": "markdown",
   "id": "e67cb2f8",
   "metadata": {
    "editable": true
   },
   "source": [
    "We can further define the projection operators"
   ]
  },
  {
   "cell_type": "markdown",
   "id": "9ee32bf1",
   "metadata": {
    "editable": true
   },
   "source": [
    "$$\n",
    "\\boldsymbol{P} = \\vert 0\\rangle \\langle 0\\vert = \\begin{bmatrix} 1 & 0 \\\\ 0 & 0 \\end{bmatrix},\n",
    "$$"
   ]
  },
  {
   "cell_type": "markdown",
   "id": "0cd754b1",
   "metadata": {
    "editable": true
   },
   "source": [
    "and"
   ]
  },
  {
   "cell_type": "markdown",
   "id": "9d6935d5",
   "metadata": {
    "editable": true
   },
   "source": [
    "$$\n",
    "\\boldsymbol{Q} = \\vert 1\\rangle \\langle 1\\vert = \\begin{bmatrix} 0 & 0 \\\\ 0 & 1 \\end{bmatrix}.\n",
    "$$"
   ]
  },
  {
   "cell_type": "markdown",
   "id": "1860d2f1",
   "metadata": {
    "editable": true
   },
   "source": [
    "## Idempotent operators\n",
    "\n",
    "We note that $P^2=P$, $Q^2=Q$ (the operators are idempotent) and that\n",
    "their determinants are zero, meaning in turn that we cannot use these\n",
    "operators for unitary/orthogonal transformations. However, they play\n",
    "important roles in defining effective Hilbert spaces for many-body\n",
    "studies. Finally, before proceeding we note also that the two matrices\n",
    "commute and we have $\\boldsymbol{P}\\boldsymbol{Q}=0$ and $\\left[ \\boldsymbol{P},\\boldsymbol{Q}\\right]=0$."
   ]
  },
  {
   "cell_type": "markdown",
   "id": "a9fb62a0",
   "metadata": {
    "editable": true
   },
   "source": [
    "## Superposition and more\n",
    "\n",
    "Using the properties of ONBs we can expand a new state in terms of the\n",
    "above states. These states could also form  a basis which is an\n",
    "eigenbasis of a selected Hamiltonian (more of this below).\n",
    "\n",
    "We define now a new state which is a linear expansion in terms of\n",
    "these computational basis states"
   ]
  },
  {
   "cell_type": "markdown",
   "id": "207bf562",
   "metadata": {
    "editable": true
   },
   "source": [
    "$$\n",
    "\\vert \\psi \\rangle = \\alpha \\vert 0 \\rangle + \\beta\\vert 1 \\rangle,\n",
    "$$"
   ]
  },
  {
   "cell_type": "markdown",
   "id": "e3fc8471",
   "metadata": {
    "editable": true
   },
   "source": [
    "where the coefficients $\\alpha = \\langle 0 \\vert \\psi \\rangle$ and\n",
    "$\\beta =\\langle 1 \\vert \\psi\\rangle$ reresent the overlaps between the\n",
    "computational basis states and the state $\\vert \\psi\\rangle$. In quantum speech, we say the state is in a superposition of the states $\\vert 0\\rangle$ and $\\vert 1\\rangle$."
   ]
  },
  {
   "cell_type": "markdown",
   "id": "4f16f2c8",
   "metadata": {
    "editable": true
   },
   "source": [
    "## Inner products\n",
    "Computing the inner product of $\\vert \\psi \\rangle$ we obtain"
   ]
  },
  {
   "cell_type": "markdown",
   "id": "733d8cff",
   "metadata": {
    "editable": true
   },
   "source": [
    "$$\n",
    "\\langle \\psi \\vert \\psi \\rangle = \\vert \\alpha \\vert ^2\\langle 0\\vert 0\\rangle + \\vert \\beta \\vert ^2\\langle 1\\vert 1\\rangle = \\vert \\alpha \\vert ^2 + \\vert \\beta \\vert ^2 = 1,\n",
    "$$"
   ]
  },
  {
   "cell_type": "markdown",
   "id": "3f6d2b6b",
   "metadata": {
    "editable": true
   },
   "source": [
    "since the new basis, which is defined in terms of a a unitary/orthogonal\n",
    "transformation, preserves the orthogonality and norm of the original\n",
    "computational basis $\\vert 0\\rangle$ and $\\vert 1\\rangle$. To see\n",
    "this, consider the unitary transformation (show derivation of\n",
    "preserving orthogonality)."
   ]
  },
  {
   "cell_type": "markdown",
   "id": "e15a3534",
   "metadata": {
    "editable": true
   },
   "source": [
    "## Acting with projection operators\n",
    "\n",
    "If we now act with the projection operators $\\boldsymbol{P}$ and $\\boldsymbol{Q}$ on\n",
    "the state $\\vert \\psi\\rangle$ we get"
   ]
  },
  {
   "cell_type": "markdown",
   "id": "a9792b31",
   "metadata": {
    "editable": true
   },
   "source": [
    "$$\n",
    "\\boldsymbol{P}\\vert \\psi \\rangle = \\vert 0 \\rangle\\langle 0\\vert (\\alpha \\vert 0 \\rangle + \\beta\\vert 1 \\rangle)=\\alpha \\vert 0\\rangle,\n",
    "$$"
   ]
  },
  {
   "cell_type": "markdown",
   "id": "f6265c49",
   "metadata": {
    "editable": true
   },
   "source": [
    "that is we **project** out the $\\vert 0\\rangle$ component of the state\n",
    "$\\vert \\psi\\rangle$ with the coefficient $\\alpha$ while $\\boldsymbol{Q}$\n",
    "projects out the $\\vert 1\\rangle$ component with coefficient $\\beta$\n",
    "as seen from"
   ]
  },
  {
   "cell_type": "markdown",
   "id": "62ce3599",
   "metadata": {
    "editable": true
   },
   "source": [
    "$$\n",
    "\\boldsymbol{Q}\\vert \\psi \\rangle = \\vert 1 \\rangle\\langle 1\\vert (\\alpha \\vert 0 \\rangle + \\beta\\vert 1 \\rangle)=\\beta \\vert 1\\rangle.\n",
    "$$"
   ]
  },
  {
   "cell_type": "markdown",
   "id": "fe3f793a",
   "metadata": {
    "editable": true
   },
   "source": [
    "The above results can easily be derived by multiplying the pertinent\n",
    "matrices with the vectors $\\vert 0\\rangle$ and $\\vert 1\\rangle$,\n",
    "respectively."
   ]
  },
  {
   "cell_type": "markdown",
   "id": "4c939439",
   "metadata": {
    "editable": true
   },
   "source": [
    "## Density matrix\n",
    "\n",
    "Using the above linear expansion we can now define the density matrix of the state $\\vert \\psi\\rangle$ as the outer product"
   ]
  },
  {
   "cell_type": "markdown",
   "id": "c8c77be2",
   "metadata": {
    "editable": true
   },
   "source": [
    "$$\n",
    "\\boldsymbol{\\rho}=\\vert \\psi \\rangle\\langle \\psi \\vert = \\alpha\\alpha^* \\vert 0 \\rangle\\langle 0\\vert+\\alpha\\beta^* \\vert 0 \\rangle\\langle 1\\vert+\\beta\\alpha^* \\vert 1 \\rangle\\langle 0\\vert+\\beta\\beta^* \\vert 1 \\rangle\\langle 1\\vert,\n",
    "$$"
   ]
  },
  {
   "cell_type": "markdown",
   "id": "7c7267be",
   "metadata": {
    "editable": true
   },
   "source": [
    "which leads to"
   ]
  },
  {
   "cell_type": "markdown",
   "id": "31c68012",
   "metadata": {
    "editable": true
   },
   "source": [
    "$$\n",
    "\\boldsymbol{\\rho}=\\begin{bmatrix} \\alpha\\alpha^* & \\alpha\\beta^*\\\\ \\beta\\alpha^* & \\beta\\beta^*\\end{bmatrix}.\n",
    "$$"
   ]
  },
  {
   "cell_type": "markdown",
   "id": "7fbe9f5b",
   "metadata": {
    "editable": true
   },
   "source": [
    "Finally, we note that the trace of the density matrix is simply given by unity"
   ]
  },
  {
   "cell_type": "markdown",
   "id": "6a9b6ba5",
   "metadata": {
    "editable": true
   },
   "source": [
    "$$\n",
    "\\mathrm{tr}\\boldsymbol{\\rho}=\\alpha\\alpha^* +\\beta\\beta^*=1.\n",
    "$$"
   ]
  },
  {
   "cell_type": "markdown",
   "id": "c7352d4b",
   "metadata": {
    "editable": true
   },
   "source": [
    "## Other important matrices\n",
    "\n",
    "We present other operators (as matrices) which play an important role in quantum computing, the so-called Hadamard matrix (or gate as we will use later)"
   ]
  },
  {
   "cell_type": "markdown",
   "id": "c46a5265",
   "metadata": {
    "editable": true
   },
   "source": [
    "$$\n",
    "\\boldsymbol{H}=\\frac{1}{\\sqrt{2}}\\begin{bmatrix} 1 & 1 \\\\ 1 & -1\\end{bmatrix}.\n",
    "$$"
   ]
  },
  {
   "cell_type": "markdown",
   "id": "a3455c32",
   "metadata": {
    "editable": true
   },
   "source": [
    "The action of the operator $\\boldsymbol{H}$ on a computational basis state like $\\vert 0\\rangle$ gives"
   ]
  },
  {
   "cell_type": "markdown",
   "id": "c25dc50f",
   "metadata": {
    "editable": true
   },
   "source": [
    "$$\n",
    "\\boldsymbol{H}\\vert 0 \\rangle = \\frac{1}{\\sqrt{2}}\\begin{bmatrix} 1 & 1 \\\\ 1 & -1\\end{bmatrix}\\begin{bmatrix} 1 \\\\ 0\\end{bmatrix}=\\frac{1}{\\sqrt{2}}(\\vert 0\\rangle + \\vert 1\\rangle),\n",
    "$$"
   ]
  },
  {
   "cell_type": "markdown",
   "id": "290d527a",
   "metadata": {
    "editable": true
   },
   "source": [
    "and"
   ]
  },
  {
   "cell_type": "markdown",
   "id": "9bab0fd4",
   "metadata": {
    "editable": true
   },
   "source": [
    "$$\n",
    "\\boldsymbol{H}\\vert 1 \\rangle = \\frac{1}{\\sqrt{2}}\\begin{bmatrix} 1 & 1 \\\\ 1 & -1\\end{bmatrix}\\begin{bmatrix} 0 \\\\ 1\\end{bmatrix}=\\frac{1}{\\sqrt{2}}(\\vert 0\\rangle - \\vert 1\\rangle),\n",
    "$$"
   ]
  },
  {
   "cell_type": "markdown",
   "id": "de8e7ac0",
   "metadata": {
    "editable": true
   },
   "source": [
    "that is we create a superposition of the states $\\vert 0\\rangle$ and $\\vert 1\\rangle$."
   ]
  },
  {
   "cell_type": "markdown",
   "id": "012778d9",
   "metadata": {
    "editable": true
   },
   "source": [
    "## Phase matrix\n",
    "Another famous operation is the phase matrix given by"
   ]
  },
  {
   "cell_type": "markdown",
   "id": "60578684",
   "metadata": {
    "editable": true
   },
   "source": [
    "$$\n",
    "\\boldsymbol{S} = \\begin{bmatrix} 1 & 0 \\\\ 0 & \\imath\\end{bmatrix}.\n",
    "$$"
   ]
  },
  {
   "cell_type": "markdown",
   "id": "b9d8947d",
   "metadata": {
    "editable": true
   },
   "source": [
    "## Tensor products\n",
    "\n",
    "Consider now two vectors with length $n=2$, with elements"
   ]
  },
  {
   "cell_type": "markdown",
   "id": "3f8601ee",
   "metadata": {
    "editable": true
   },
   "source": [
    "$$\n",
    "\\vert x \\rangle = \\begin{bmatrix} x_0 \\\\ x_1 \\end{bmatrix},\n",
    "$$"
   ]
  },
  {
   "cell_type": "markdown",
   "id": "670ff81b",
   "metadata": {
    "editable": true
   },
   "source": [
    "and"
   ]
  },
  {
   "cell_type": "markdown",
   "id": "918e8629",
   "metadata": {
    "editable": true
   },
   "source": [
    "$$\n",
    "\\vert y \\rangle = \\begin{bmatrix} y_0 \\\\ y_1 \\end{bmatrix}.\n",
    "$$"
   ]
  },
  {
   "cell_type": "markdown",
   "id": "db5bea54",
   "metadata": {
    "editable": true
   },
   "source": [
    "The tensor product of these two vectors is defined as"
   ]
  },
  {
   "cell_type": "markdown",
   "id": "357d5522",
   "metadata": {
    "editable": true
   },
   "source": [
    "$$\n",
    "\\vert x \\rangle \\otimes \\vert y \\rangle = \\vert xy \\rangle  = \\begin{bmatrix} x_0y_0 \\\\ x_0y_1 \\\\ x_1y_0 \\\\ x_1y_1 \\end{bmatrix},\n",
    "$$"
   ]
  },
  {
   "cell_type": "markdown",
   "id": "52e8c369",
   "metadata": {
    "editable": true
   },
   "source": [
    "which is now a vector of length $4$."
   ]
  },
  {
   "cell_type": "markdown",
   "id": "ebf63889",
   "metadata": {
    "editable": true
   },
   "source": [
    "## Examples of tensor products\n",
    "If we now go back to our original one-qubit basis states, we can form teh following tensor products"
   ]
  },
  {
   "cell_type": "markdown",
   "id": "1eb51001",
   "metadata": {
    "editable": true
   },
   "source": [
    "$$\n",
    "\\vert 0 \\rangle \\otimes \\vert 0 \\rangle = \\begin{bmatrix} 1 \\\\ 0\\end{bmatrix} \\otimes \\begin{bmatrix} 1 \\\\ 0\\end{bmatrix} =\\begin{bmatrix} 1 \\\\ 0 \\\\ 0 \\\\ 0 \\end{bmatrix}=\\vert 00 \\rangle,\n",
    "$$"
   ]
  },
  {
   "cell_type": "markdown",
   "id": "494751b5",
   "metadata": {
    "editable": true
   },
   "source": [
    "$$\n",
    "\\vert 0 \\rangle \\otimes \\vert 1 \\rangle = \\begin{bmatrix} 1 \\\\ 0\\end{bmatrix} \\otimes \\begin{bmatrix} 0 \\\\ 1\\end{bmatrix} =\\begin{bmatrix} 0 \\\\ 1 \\\\ 0 \\\\ 0 \\end{bmatrix}=\\vert 01 \\rangle.\n",
    "$$"
   ]
  },
  {
   "cell_type": "markdown",
   "id": "dea78daf",
   "metadata": {
    "editable": true
   },
   "source": [
    "## More states"
   ]
  },
  {
   "cell_type": "markdown",
   "id": "9a2cc5cd",
   "metadata": {
    "editable": true
   },
   "source": [
    "$$\n",
    "\\vert 1 \\rangle \\otimes \\vert 0 \\rangle = \\begin{bmatrix} 0 \\\\ 1\\end{bmatrix} \\otimes \\begin{bmatrix} 1 \\\\ 0\\end{bmatrix} =\\begin{bmatrix} 0 \\\\ 0 \\\\ 1 \\\\ 0 \\end{bmatrix}=\\vert 10 \\rangle,\n",
    "$$"
   ]
  },
  {
   "cell_type": "markdown",
   "id": "73ae50e8",
   "metadata": {
    "editable": true
   },
   "source": [
    "and finally"
   ]
  },
  {
   "cell_type": "markdown",
   "id": "e87827c4",
   "metadata": {
    "editable": true
   },
   "source": [
    "$$\n",
    "\\vert 1 \\rangle \\otimes \\vert 1 \\rangle = \\begin{bmatrix} 0 \\\\ 1\\end{bmatrix} \\otimes \\begin{bmatrix} 0 \\\\ 1\\end{bmatrix} =\\begin{bmatrix} 0 \\\\ 0 \\\\ 0 \\\\ 1 \\end{bmatrix}=\\vert 11 \\rangle.\n",
    "$$"
   ]
  },
  {
   "cell_type": "markdown",
   "id": "9f438d64",
   "metadata": {
    "editable": true
   },
   "source": [
    "## Three qubits\n",
    "We have now four different states and we could try to make a new list\n",
    "by relabeling the states as follows $\\vert 00 \\rangle =\\vert 0\n",
    "\\rangle$, $\\vert 01 \\rangle =\\vert 1 \\rangle$, $\\vert 10 \\rangle\n",
    "=\\vert 2 \\rangle$, $\\vert 11 \\rangle =\\vert 3 \\rangle$.\n",
    "\n",
    "In similar ways we can define the tensor product of three qubits (or single-particle states) as"
   ]
  },
  {
   "cell_type": "markdown",
   "id": "58117401",
   "metadata": {
    "editable": true
   },
   "source": [
    "$$\n",
    "\\vert 0 \\rangle \\otimes \\vert 0 \\rangle \\otimes \\vert 0 \\rangle = \\begin{bmatrix} 1 \\\\ 0\\end{bmatrix} \\otimes \\begin{bmatrix} 1 \\\\ 0\\end{bmatrix} \\otimes \\begin{bmatrix} 1 \\\\ 0\\end{bmatrix}=\\begin{bmatrix} 1 \\\\ 0 \\\\ 0 \\\\ 0 \\\\ 0 \\\\0 \\\\ 0 \\\\ 0\\end{bmatrix}=\\vert 000 \\rangle,\n",
    "$$"
   ]
  },
  {
   "cell_type": "markdown",
   "id": "4ff2fe61",
   "metadata": {
    "editable": true
   },
   "source": [
    "which is a new vector of length eight."
   ]
  },
  {
   "cell_type": "markdown",
   "id": "c8342d7d",
   "metadata": {
    "editable": true
   },
   "source": [
    "## Generalizing\n",
    "\n",
    "We note that with a single-particle basis given the states $\\vert\n",
    "0\\rangle$ and $\\vert 1\\rangle$ we can, with $N$ particles construct\n",
    "$2^N$ different states.  This is something we can generalize to\n",
    "* discuss ways of labeling states\n",
    "\n",
    "* how to write a code which does it"
   ]
  },
  {
   "cell_type": "markdown",
   "id": "3862a020",
   "metadata": {
    "editable": true
   },
   "source": [
    "## Tensor products of matrices\n",
    "The tensor product of two $2\\times 2$ matrices $\\boldsymbol{A}$ and $\\boldsymbol{B}$ is given by"
   ]
  },
  {
   "cell_type": "markdown",
   "id": "3f6f4499",
   "metadata": {
    "editable": true
   },
   "source": [
    "$$\n",
    "\\boldsymbol{A} \\times \\boldsymbol{B} = \\begin{bmatrix} a_{00} & a_{01} \\\\ a_{10} & a_{11} \\end{bmatrix} \\otimes \\begin{bmatrix} b_{00} & b_{01} \\\\ b_{10} & b_{11} \\end{bmatrix} =\n",
    "\\begin{bmatrix} a_{00} b_{00} &  a_{00}b_{01} & a_{01} b_{00} & a_{01}b_{01} \\\\\n",
    "                a_{00} b_{10} &  a_{00}b_{11} & a_{01} b_{10} & a_{01}b_{11} \\\\\n",
    "                a_{10} b_{00} &  a_{10}b_{01} & a_{11} b_{00} & a_{11}b_{01} \\\\\n",
    "                a_{10} b_{10} &  a_{10}b_{11} & a_{11} b_{10} & a_{11}b_{11} \\end{bmatrix}\n",
    "$$"
   ]
  },
  {
   "cell_type": "markdown",
   "id": "b3c8709a",
   "metadata": {
    "editable": true
   },
   "source": [
    "## Measurements\n",
    "\n",
    "The probability of a measurement on a quantum system giving a certain\n",
    "result is determined by the weight of the relevant basis state in the\n",
    "state vector. After the measurement, the system is in a state that\n",
    "corresponds to the result of the measurement. The operators and\n",
    "gates discussed below are examples of operations we can perform on\n",
    "specific states.\n",
    "\n",
    "We  consider the state"
   ]
  },
  {
   "cell_type": "markdown",
   "id": "716d35b2",
   "metadata": {
    "editable": true
   },
   "source": [
    "$$\n",
    "\\vert \\psi\\rangle = \\alpha \\vert 0 \\rangle +\\beta \\vert 1 \\rangle\n",
    "$$"
   ]
  },
  {
   "cell_type": "markdown",
   "id": "f0f4598f",
   "metadata": {
    "editable": true
   },
   "source": [
    "## Definitions of measurements\n",
    "\n",
    "1. A measurement can yield only one of the above states, either $\\vert 0\\rangle$ or $\\vert 1\\rangle$.\n",
    "\n",
    "2. The probability of a measurement resulting in $\\vert 0\\rangle$ is $\\alpha^*\\alpha = \\vert \\alpha \\vert^2$.\n",
    "\n",
    "3. The probability of a measurement resulting in $\\vert 1\\rangle$ is $\\beta^*\\beta = \\vert \\beta \\vert^2$.\n",
    "\n",
    "4. And we note that the sum of the outcomes gives $\\alpha^*\\alpha+\\beta^*\\beta=1$ since the two states are normalized.\n",
    "\n",
    "After the measurement, the state of the system is the state associated with the result of the measurement.\n",
    "\n",
    "We have already encountered the projection operators $P$ and $Q$. Let\n",
    "us now look at other types of operations we can make on qubit states."
   ]
  },
  {
   "cell_type": "markdown",
   "id": "0ff0a37a",
   "metadata": {
    "editable": true
   },
   "source": [
    "## Different operators and gates\n",
    "\n",
    "In quantum computing, the so-called Pauli matrices, and other simple\n",
    "$2\\times 2$ matrices, play an important role, ranging from the setup\n",
    "of quantum gates to a rewrite of creation and annihilation operators\n",
    "and other quantum mechanical operators. Let us start with the familiar\n",
    "Pauli matrices and remind ourselves of some of their basic properties.\n",
    "\n",
    "Assume we operate with $\\sigma_x$ on our basis state $\\vert 0 \\rangle$. This gives"
   ]
  },
  {
   "cell_type": "markdown",
   "id": "fd09423e",
   "metadata": {
    "editable": true
   },
   "source": [
    "$$\n",
    "\\begin{bmatrix} 0 & 1 \\\\ 1 & 0 \\end{bmatrix}\\begin{bmatrix} 1 \\\\ 0 \\end{bmatrix}=\\begin{bmatrix} 0  \\\\ 1  \\end{bmatrix},\n",
    "$$"
   ]
  },
  {
   "cell_type": "markdown",
   "id": "3b65e5b5",
   "metadata": {
    "editable": true
   },
   "source": [
    "that is we switch from $\\vert 0\\rangle$ to $\\vert 1\\rangle$ (often called a spin flip operation) and similary we have"
   ]
  },
  {
   "cell_type": "markdown",
   "id": "f0e6cb03",
   "metadata": {
    "editable": true
   },
   "source": [
    "$$\n",
    "\\begin{bmatrix} 0 & 1 \\\\ 1 & 0 \\end{bmatrix}\\begin{bmatrix} 0 \\\\ 1 \\end{bmatrix}=\\begin{bmatrix} 1  \\\\ 0  \\end{bmatrix}.\n",
    "$$"
   ]
  },
  {
   "cell_type": "markdown",
   "id": "4890a217",
   "metadata": {
    "editable": true
   },
   "source": [
    "## More on Pauli matrices\n",
    "\n",
    "This matrix plays an important role in quantum computing since we can\n",
    "link this with the classical **NOT** operation.  If we send in bit 0,\n",
    "the **NOT** gate outputs bit 1 and vice versa. We can use the $\\sigma_x$\n",
    "matrix to implement the quantum mechanical equivalent of a classical\n",
    "**NOT** gate. If we input what we could represent as bit 0 in terms of\n",
    "the basis state $\\vert 0\\rangle$, operating on this state results in\n",
    "the state $\\vert 1\\rangle$, which we in turn can interpret as the\n",
    "classical bit 1."
   ]
  },
  {
   "cell_type": "markdown",
   "id": "82aadcb2",
   "metadata": {
    "editable": true
   },
   "source": [
    "## Linear superposition\n",
    "If we have a linear superposition of these states we obtain"
   ]
  },
  {
   "cell_type": "markdown",
   "id": "4a51e7a0",
   "metadata": {
    "editable": true
   },
   "source": [
    "$$\n",
    "\\begin{bmatrix}0 & 1 \\\\ 1 & 0 \\end{bmatrix}\\begin{bmatrix}\\alpha \\\\ \\beta \\end{bmatrix}=\\begin{bmatrix}\\beta \\\\ \\alpha \\end{bmatrix}.\n",
    "$$"
   ]
  },
  {
   "cell_type": "markdown",
   "id": "10486b9d",
   "metadata": {
    "editable": true
   },
   "source": [
    "The $\\sigma_y$ matrix introduces an imaginary sign, which we will later encounter in terms of so-called phase-shift operations."
   ]
  },
  {
   "cell_type": "markdown",
   "id": "0fa06d07",
   "metadata": {
    "editable": true
   },
   "source": [
    "## The $\\sigma_z$ matrix\n",
    "The $\\sigma_z$ matrix has the following effect"
   ]
  },
  {
   "cell_type": "markdown",
   "id": "e21b48da",
   "metadata": {
    "editable": true
   },
   "source": [
    "$$\n",
    "\\begin{bmatrix} 1 & 0 \\\\ 0 & -1 \\end{bmatrix}\\begin{bmatrix} 1 \\\\ 0 \\end{bmatrix}=\\begin{bmatrix} 1  \\\\ 0  \\end{bmatrix},\n",
    "$$"
   ]
  },
  {
   "cell_type": "markdown",
   "id": "8ba7e682",
   "metadata": {
    "editable": true
   },
   "source": [
    "and"
   ]
  },
  {
   "cell_type": "markdown",
   "id": "33efad2c",
   "metadata": {
    "editable": true
   },
   "source": [
    "$$\n",
    "\\begin{bmatrix} 1 & 0 \\\\ 0 & -1 \\end{bmatrix}\\begin{bmatrix} 0 \\\\ 1 \\end{bmatrix}=\\begin{bmatrix} 0  \\\\ -1  \\end{bmatrix},\n",
    "$$"
   ]
  },
  {
   "cell_type": "markdown",
   "id": "a52d04b0",
   "metadata": {
    "editable": true
   },
   "source": [
    "which we will also link with a specific phase-shift."
   ]
  },
  {
   "cell_type": "markdown",
   "id": "78b4c8b2",
   "metadata": {
    "editable": true
   },
   "source": [
    "## Unitarity\n",
    "\n",
    "The matrices we introduced here are so-called unitary matrices. This\n",
    "is an important element in quantum mechanics since the evolution of a\n",
    "closed quantum system is described by operations involving unitary\n",
    "operations only.\n",
    "\n",
    "We have defined a new state $\\vert \\psi_p\\rangle$ as a linear expansion in terms of an orthogonal and normalized basis (our computational basis) $\\phi_{\\lambda}$"
   ]
  },
  {
   "cell_type": "markdown",
   "id": "48cc877a",
   "metadata": {
    "editable": true
   },
   "source": [
    "<!-- Equation labels as ordinary links -->\n",
    "<div id=\"_auto1\"></div>\n",
    "\n",
    "$$\n",
    "\\begin{equation}\n",
    "\\vert \\psi_i\\rangle = \\sum_{j} u_{ij}\\vert \\phi_{j}\\rangle.\n",
    "\\label{_auto1} \\tag{1}\n",
    "\\end{equation}\n",
    "$$"
   ]
  },
  {
   "cell_type": "markdown",
   "id": "6563439c",
   "metadata": {
    "editable": true
   },
   "source": [
    "## Hamiltonians and basis functions\n",
    "\n",
    "It is normal to choose a basis defined as the eigenfunctions of parts\n",
    "of the full Hamiltonian. The typical situation consists of the\n",
    "solutions of the one-body part of the Hamiltonian, that is we have"
   ]
  },
  {
   "cell_type": "markdown",
   "id": "573f95ba",
   "metadata": {
    "editable": true
   },
   "source": [
    "$$\n",
    "\\hat{h}_0\\vert \\phi_{i}\\rangle=\\epsilon_{i}\\vert \\phi_{i}\\rangle.\n",
    "$$"
   ]
  },
  {
   "cell_type": "markdown",
   "id": "71eadf78",
   "metadata": {
    "editable": true
   },
   "source": [
    "This is normally referred to as a single-particle basis $\\vert\\phi_{i}(\\mathbf{r})\\rangle$,\n",
    "defined by the quantum numbers $i$ and $\\mathbf{r}$."
   ]
  },
  {
   "cell_type": "markdown",
   "id": "bac0a6bb",
   "metadata": {
    "editable": true
   },
   "source": [
    "## Unitary transformations\n",
    "A unitary transformation is important since it keeps the orthogonality.\n",
    "To see this consider first a basis of vectors $\\mathbf{v}_i$,"
   ]
  },
  {
   "cell_type": "markdown",
   "id": "e5c52828",
   "metadata": {
    "editable": true
   },
   "source": [
    "$$\n",
    "\\mathbf{v}_i = \\begin{bmatrix} v_{i1} \\\\ \\dots \\\\ \\dots \\\\v_{in} \\end{bmatrix}\n",
    "$$"
   ]
  },
  {
   "cell_type": "markdown",
   "id": "5ecc419e",
   "metadata": {
    "editable": true
   },
   "source": [
    "We assume that the basis is orthogonal, that is"
   ]
  },
  {
   "cell_type": "markdown",
   "id": "ec818655",
   "metadata": {
    "editable": true
   },
   "source": [
    "$$\n",
    "\\mathbf{v}_j^T\\mathbf{v}_i = \\delta_{ij}.\n",
    "$$"
   ]
  },
  {
   "cell_type": "markdown",
   "id": "43e5a5ea",
   "metadata": {
    "editable": true
   },
   "source": [
    "An orthogonal or unitary transformation"
   ]
  },
  {
   "cell_type": "markdown",
   "id": "777cba92",
   "metadata": {
    "editable": true
   },
   "source": [
    "$$\n",
    "\\mathbf{w}_i=\\mathbf{U}\\mathbf{v}_i,\n",
    "$$"
   ]
  },
  {
   "cell_type": "markdown",
   "id": "7f21e7a3",
   "metadata": {
    "editable": true
   },
   "source": [
    "preserves the dot product and orthogonality since"
   ]
  },
  {
   "cell_type": "markdown",
   "id": "57cc3731",
   "metadata": {
    "editable": true
   },
   "source": [
    "$$\n",
    "\\mathbf{w}_j^T\\mathbf{w}_i=(\\mathbf{U}\\mathbf{v}_j)^T\\mathbf{U}\\mathbf{v}_i=\\mathbf{v}_j^T\\mathbf{U}^T\\mathbf{U}\\mathbf{v}_i= \\mathbf{v}_j^T\\mathbf{v}_i = \\delta_{ij}.\n",
    "$$"
   ]
  },
  {
   "cell_type": "markdown",
   "id": "e15832cb",
   "metadata": {
    "editable": true
   },
   "source": [
    "## Orthogonality preserved\n",
    "\n",
    "This means that if the coefficients $u_{p\\lambda}$ belong to a unitary\n",
    "or orthogonal transformation (using the Dirac bra-ket notation)"
   ]
  },
  {
   "cell_type": "markdown",
   "id": "96157289",
   "metadata": {
    "editable": true
   },
   "source": [
    "$$\n",
    "\\vert \\psi_i\\rangle = \\sum_{j} u_{ij}\\vert \\phi_{j}\\rangle.\n",
    "$$"
   ]
  },
  {
   "cell_type": "markdown",
   "id": "df50a806",
   "metadata": {
    "editable": true
   },
   "source": [
    "orthogonality is preserved.\n",
    "\n",
    "This propertry is extremely useful when we build up a basis of\n",
    "many-body determinant based states.\n",
    "\n",
    "Note also that although a basis $\\left\\{\\vert \\phi_i \\rangle\\right\\}$ contains an infinity of states, for practical calculations we have always to make some truncations."
   ]
  },
  {
   "cell_type": "markdown",
   "id": "d55d53a3",
   "metadata": {
    "editable": true
   },
   "source": [
    "## Example\n",
    "\n",
    "Assume we have two one-qubit states represented by"
   ]
  },
  {
   "cell_type": "markdown",
   "id": "a01c03cb",
   "metadata": {
    "editable": true
   },
   "source": [
    "$$\n",
    "\\vert \\psi \\rangle = \\alpha \\vert 0 \\rangle + \\beta \\vert 1\\rangle=\\begin{bmatrix}\\alpha \\\\ \\beta \\end{bmatrix},\n",
    "$$"
   ]
  },
  {
   "cell_type": "markdown",
   "id": "9d37cd18",
   "metadata": {
    "editable": true
   },
   "source": [
    "and"
   ]
  },
  {
   "cell_type": "markdown",
   "id": "1d32aa39",
   "metadata": {
    "editable": true
   },
   "source": [
    "$$\n",
    "\\vert \\phi \\rangle = \\gamma \\vert 0 \\rangle + \\delta \\vert 1\\rangle=\\begin{bmatrix}\\gamma \\\\ \\delta \\end{bmatrix}.\n",
    "$$"
   ]
  },
  {
   "cell_type": "markdown",
   "id": "c2684f76",
   "metadata": {
    "editable": true
   },
   "source": [
    "We assume that the state $\\vert \\phi \\rangle$ is obtained through a\n",
    "unitary transformation of $\\vert \\psi \\rangle$ through a matrix\n",
    "$\\boldsymbol{U}$ with its hermitian conjugate $\\boldsymbol{U}^{\\dagger}$ with matrix\n",
    "elements $u_{ij}^{\\dagger}=u_{ji}^*$ and\n",
    "$\\boldsymbol{I}=\\boldsymbol{U}\\boldsymbol{U}^{\\dagger}=\\boldsymbol{U}^{\\dagger}\\boldsymbol{U}$."
   ]
  },
  {
   "cell_type": "markdown",
   "id": "628e8e7b",
   "metadata": {
    "editable": true
   },
   "source": [
    "## Inverse of unitary matrices\n",
    "\n",
    "Note that this means that the hermitian conjugate of a unitary matrix\n",
    "is equal to its inverse. This has important consequences for what is\n",
    "called reversibility. We say quantum mechanics is a theory which is\n",
    "reversible with a probabilistic determinism. Classical mechanics on\n",
    "the other is reversible in a deterministic way, that is, knowing all\n",
    "initial conditions we can in principle determine the future motion of\n",
    "an object which obey the laws of motion of classical mechanics.\n",
    "\n",
    "We have then"
   ]
  },
  {
   "cell_type": "markdown",
   "id": "ae4f9918",
   "metadata": {
    "editable": true
   },
   "source": [
    "$$\n",
    "\\begin{bmatrix}\\gamma \\\\ \\delta \\end{bmatrix}=\\begin{bmatrix}u_{00} & u_{01} \\\\ u_{10} & u_{11} \\end{bmatrix}\\begin{bmatrix}\\alpha \\\\ \\beta \\end{bmatrix}.\n",
    "$$"
   ]
  },
  {
   "cell_type": "markdown",
   "id": "c6d62789",
   "metadata": {
    "editable": true
   },
   "source": [
    "## New basis is also orthogonal\n",
    "\n",
    "Since our original basis $\\vert \\psi\\rangle$ is orthogonal and normalized with $\\vert\\alpha\\vert^2+\\vert\\beta\\vert^2=1$, the new basis is also orthogonal and normalized, as we can see below here.\n",
    "\n",
    "Since the inverse of a hermitian matrix is equal to its hermitian\n",
    "conjugate/adjoint), unitary transformations are always reversible.\n",
    "\n",
    "Why are only unitary transformations allowed? The key lies in the way the inner product tranforms.\n",
    "\n",
    "To see this we rewrite the new basis from the previous example in its two components as"
   ]
  },
  {
   "cell_type": "markdown",
   "id": "12983b93",
   "metadata": {
    "editable": true
   },
   "source": [
    "$$\n",
    "\\vert \\phi\\rangle_i=\\sum_{j}u_{ij}\\vert \\psi\\rangle_j,\n",
    "$$"
   ]
  },
  {
   "cell_type": "markdown",
   "id": "c9e8cb5f",
   "metadata": {
    "editable": true
   },
   "source": [
    "or in terms of a matrix-vector notatio we have"
   ]
  },
  {
   "cell_type": "markdown",
   "id": "81848792",
   "metadata": {
    "editable": true
   },
   "source": [
    "$$\n",
    "\\vert \\phi\\rangle=\\boldsymbol{U}\\vert \\psi\\rangle,\n",
    "$$"
   ]
  },
  {
   "cell_type": "markdown",
   "id": "5e0e5753",
   "metadata": {
    "editable": true
   },
   "source": [
    "## More on orthogonality\n",
    "\n",
    "We have already assumed that $\\langle \\psi \\vert \\psi \\rangle = \\vert\\alpha\\vert^2+\\vert\\beta\\vert^2=1$.\n",
    "\n",
    "We have that"
   ]
  },
  {
   "cell_type": "markdown",
   "id": "a4d56dc6",
   "metadata": {
    "editable": true
   },
   "source": [
    "$$\n",
    "\\langle \\phi\\vert_i=\\sum_{j}u_{ij}^*\\langle \\psi\\vert_j,\n",
    "$$"
   ]
  },
  {
   "cell_type": "markdown",
   "id": "e40fbb62",
   "metadata": {
    "editable": true
   },
   "source": [
    "or in terms of a matrix-vector notation we have"
   ]
  },
  {
   "cell_type": "markdown",
   "id": "9e8a3616",
   "metadata": {
    "editable": true
   },
   "source": [
    "$$\n",
    "\\langle \\phi\\vert=\\langle \\psi\\vert\\boldsymbol{U}^{\\dagger}.\n",
    "$$"
   ]
  },
  {
   "cell_type": "markdown",
   "id": "b865ca10",
   "metadata": {
    "editable": true
   },
   "source": [
    "Note that the two vectors are row vectors now.\n",
    "\n",
    "If we stay with this notation we have"
   ]
  },
  {
   "cell_type": "markdown",
   "id": "51a49eaf",
   "metadata": {
    "editable": true
   },
   "source": [
    "$$\n",
    "\\langle \\phi\\vert\\phi\\rangle = \\langle \\psi \\boldsymbol{U}^{\\dagger}\\boldsymbol{U}\\vert \\psi\\rangle = \\langle \\psi\\vert \\psi\\rangle=1!\n",
    "$$"
   ]
  },
  {
   "cell_type": "markdown",
   "id": "4cba9ac3",
   "metadata": {
    "editable": true
   },
   "source": [
    "Unitary transformations are rotations in state space which preserve the\n",
    "length (the square root of the inner product) of the state vector."
   ]
  },
  {
   "cell_type": "markdown",
   "id": "14a0e78c",
   "metadata": {
    "editable": true
   },
   "source": [
    "## Measurements\n",
    "\n",
    "The probability of a measurement on a quantum system giving a certain\n",
    "result is determined by the weight of the relevant basis state in the\n",
    "state vector. After the measurement, the system is in a state that\n",
    "corresponds to the result of the measurement. The operators and\n",
    "gates discussed below are examples of operations we can perform on\n",
    "specific states.\n",
    "\n",
    "We  consider the state"
   ]
  },
  {
   "cell_type": "markdown",
   "id": "7a997624",
   "metadata": {
    "editable": true
   },
   "source": [
    "$$\n",
    "\\vert \\psi\\rangle = \\alpha \\vert 0 \\rangle +\\beta \\vert 1 \\rangle\n",
    "$$"
   ]
  },
  {
   "cell_type": "markdown",
   "id": "fe8b7ed5",
   "metadata": {
    "editable": true
   },
   "source": [
    "## Properties of a measurement\n",
    "\n",
    "1. A measurement can yield only one of the above states, either $\\vert 0\\rangle$ or $\\vert 1\\rangle$.\n",
    "\n",
    "2. The probability of a measurement resulting in $\\vert 0\\rangle$ is $\\alpha^*\\alpha = \\vert \\alpha \\vert^2$.\n",
    "\n",
    "3. The probability of a measurement resulting in $\\vert 1\\rangle$ is $\\beta^*\\beta = \\vert \\beta \\vert^2$.\n",
    "\n",
    "4. And we note that the sum of the outcomes gives $\\alpha^*\\alpha+\\beta^*\\beta=1$ since the two states are normalized.\n",
    "\n",
    "After the measurement, the state of the system is the state associated with the result of the measurement.\n",
    "\n",
    "We have already encountered the projection operators $P$ and $Q$. Let\n",
    "us now look at other types of operations we can make on qubit states."
   ]
  },
  {
   "cell_type": "markdown",
   "id": "6e696dfd",
   "metadata": {
    "editable": true
   },
   "source": [
    "## Entanglement\n",
    "\n",
    "In order to study entanglement and why it is so important for quantum\n",
    "computing, we need to introduce some basic measures and useful\n",
    "quantities.  These quantities are the spectral decomposition of\n",
    "hermitian operators, how these are then used to define measurements\n",
    "and how we can define so-called density operators (matrices). These\n",
    "are all quantities which will become very useful when we discuss\n",
    "entanglement and in particular how to quantify it. In order to define\n",
    "these quantities we need first to remind ourselves about some basic linear\n",
    "algebra properties of hermitian operators and matrices."
   ]
  },
  {
   "cell_type": "markdown",
   "id": "8f5b1a42",
   "metadata": {
    "editable": true
   },
   "source": [
    "## Basic properties of hermitian operators\n",
    "\n",
    "The operators we typically encounter in quantum mechanical studies are\n",
    "1. Hermitian (self-adjoint) meaning that for example the elements of a Hermitian matrix $\\boldsymbol{U}$ obey $u_{ij}=u_{ji}^*$.\n",
    "\n",
    "2. Unitary $\\boldsymbol{U}\\boldsymbol{U}^{\\dagger}=\\boldsymbol{U}^{\\dagger}\\boldsymbol{U}=\\boldsymbol{I}$, where $\\boldsymbol{I}$ is the unit matrix\n",
    "\n",
    "3. The oparator $\\boldsymbol{U}$ and its self-adjoint commute (often labeled as normal operators), that is  $[\\boldsymbol{U},\\boldsymbol{U}^{\\dagger}]=0$. An operator is **normal** if and only if it is diagonalizable. A Hermitian operator is normal.\n",
    "\n",
    "Unitary operators in a Hilbert space preserve the norm and orthogonality. If $\\boldsymbol{U}$ is a unitary operator acting on a state $\\vert \\psi_j\\rangle$, the action of"
   ]
  },
  {
   "cell_type": "markdown",
   "id": "6bb3bd3b",
   "metadata": {
    "editable": true
   },
   "source": [
    "$$\n",
    "\\vert \\phi_i\\rangle=\\boldsymbol{U}\\vert \\psi_j\\rangle,\n",
    "$$"
   ]
  },
  {
   "cell_type": "markdown",
   "id": "c057fbbd",
   "metadata": {
    "editable": true
   },
   "source": [
    "preserves both the norm and orthogonality, that is $\\langle \\phi_i \\vert \\phi_j\\rangle=\\langle \\psi_i \\vert \\psi_j\\rangle=\\delta_{ij}$, as discussed earlier."
   ]
  },
  {
   "cell_type": "markdown",
   "id": "07351029",
   "metadata": {
    "editable": true
   },
   "source": [
    "## The Pauli matrices again\n",
    "\n",
    "As example, consider the Pauli matrix $\\sigma_x$. We have already seen that this matrix is a unitary matrix. Consider then an orthogonal and normalized basis $\\vert 0\\rangle^{\\dagger} =\\begin{bmatrix} 1 &  0\\end{bmatrix}$ and $\\vert 1\\rangle^{\\dagger} =\\begin{bmatrix} 0 &  1\\end{bmatrix}$ and a state which is a linear superposition of these two basis states"
   ]
  },
  {
   "cell_type": "markdown",
   "id": "cb103abc",
   "metadata": {
    "editable": true
   },
   "source": [
    "$$\n",
    "\\vert \\psi_a\\rangle=\\alpha_0\\vert 0\\rangle +\\alpha_1\\vert 1\\rangle.\n",
    "$$"
   ]
  },
  {
   "cell_type": "markdown",
   "id": "a7fb5123",
   "metadata": {
    "editable": true
   },
   "source": [
    "A new state $\\vert \\psi_b\\rangle$ is given by"
   ]
  },
  {
   "cell_type": "markdown",
   "id": "ae9c9f03",
   "metadata": {
    "editable": true
   },
   "source": [
    "$$\n",
    "\\vert \\psi_b\\rangle=\\sigma_x\\vert \\psi_a\\rangle=\\alpha_0\\vert 1\\rangle +\\alpha_1\\vert 0\\rangle.\n",
    "$$"
   ]
  },
  {
   "cell_type": "markdown",
   "id": "a35780e7",
   "metadata": {
    "editable": true
   },
   "source": [
    "## Spectral Decomposition\n",
    "\n",
    "An important technicality which we will use in the discussion of\n",
    "density matrices, entanglement, quantum entropies and other properties\n",
    "is the so-called spectral decomposition of an operator.\n",
    "\n",
    "Let $\\vert \\psi\\rangle$ be a vector in a Hilbert space of dimension $n$ and a hermitian operator $\\boldsymbol{A}$ defined in this\n",
    "space. Assume $\\vert \\psi\\rangle$ is an eigenvector of $\\boldsymbol{A}$ with eigenvalue $\\lambda$, that is"
   ]
  },
  {
   "cell_type": "markdown",
   "id": "5dd5f47d",
   "metadata": {
    "editable": true
   },
   "source": [
    "$$\n",
    "\\boldsymbol{A}\\vert \\psi\\rangle = \\lambda\\vert \\psi\\rangle = \\lambda \\boldsymbol{I}\\vert \\psi \\rangle,\n",
    "$$"
   ]
  },
  {
   "cell_type": "markdown",
   "id": "7d97c3da",
   "metadata": {
    "editable": true
   },
   "source": [
    "where we used $\\boldsymbol{I}\\vert \\psi \\rangle = 1 \\vert \\psi \\rangle$.\n",
    "Subtracting the right hand side from the left hand side gives"
   ]
  },
  {
   "cell_type": "markdown",
   "id": "34f84a91",
   "metadata": {
    "editable": true
   },
   "source": [
    "$$\n",
    "\\left[\\boldsymbol{A}-\\lambda \\boldsymbol{I}\\right]\\vert \\psi \\rangle=0,\n",
    "$$"
   ]
  },
  {
   "cell_type": "markdown",
   "id": "4a342ae6",
   "metadata": {
    "editable": true
   },
   "source": [
    "which has a nontrivial solution only if the determinant\n",
    "$\\mathrm{det}(\\boldsymbol{A}-\\lambda\\boldsymbol{I})=0$."
   ]
  },
  {
   "cell_type": "markdown",
   "id": "17092fac",
   "metadata": {
    "editable": true
   },
   "source": [
    "## ONB again and again\n",
    "\n",
    "We define now an orthonormal basis $\\vert i \\rangle =\\{\\vert 0\n",
    "\\rangle, \\vert 1\\rangle, \\dots, \\vert n-1\\rangle$ in the same Hilbert\n",
    "space. We will assume that this basis is an eigenbasis of $\\boldsymbol{A}$ with eigenvalues $\\lambda_i$\n",
    "\n",
    "We expand a new vector using this eigenbasis of $\\boldsymbol{A}$"
   ]
  },
  {
   "cell_type": "markdown",
   "id": "315d0122",
   "metadata": {
    "editable": true
   },
   "source": [
    "$$\n",
    "\\vert \\psi \\rangle = \\sum_{i=0}^{n-1}\\alpha_i\\vert i\\rangle,\n",
    "$$"
   ]
  },
  {
   "cell_type": "markdown",
   "id": "9f6fef67",
   "metadata": {
    "editable": true
   },
   "source": [
    "with the normalization condition $\\sum_{i=0}^{n-1}\\vert \\alpha_i\\vert^2$.\n",
    "Acting with $\\boldsymbol{A}$ on this new state results in"
   ]
  },
  {
   "cell_type": "markdown",
   "id": "ed0026ee",
   "metadata": {
    "editable": true
   },
   "source": [
    "$$\n",
    "\\boldsymbol{A}\\vert \\psi \\rangle = \\sum_{i=0}^{n-1}\\alpha_i\\boldsymbol{A}\\vert i\\rangle=\\sum_{i=0}^{n-1}\\alpha_i\\lambda_i\\vert i\\rangle.\n",
    "$$"
   ]
  },
  {
   "cell_type": "markdown",
   "id": "a6616b2f",
   "metadata": {
    "editable": true
   },
   "source": [
    "## Projection operators\n",
    "\n",
    "If we then use that the outer product of any state with itself defines a projection operator we have the projection operators"
   ]
  },
  {
   "cell_type": "markdown",
   "id": "6fb98a02",
   "metadata": {
    "editable": true
   },
   "source": [
    "$$\n",
    "\\boldsymbol{P}_{\\psi} = \\vert \\psi\\rangle\\langle \\psi\\vert,\n",
    "$$"
   ]
  },
  {
   "cell_type": "markdown",
   "id": "dd9c4445",
   "metadata": {
    "editable": true
   },
   "source": [
    "and"
   ]
  },
  {
   "cell_type": "markdown",
   "id": "df44857d",
   "metadata": {
    "editable": true
   },
   "source": [
    "$$\n",
    "\\boldsymbol{P}_{j} = \\vert j\\rangle\\langle j\\vert,\n",
    "$$"
   ]
  },
  {
   "cell_type": "markdown",
   "id": "48cc2ac1",
   "metadata": {
    "editable": true
   },
   "source": [
    "we have that"
   ]
  },
  {
   "cell_type": "markdown",
   "id": "4af4cf38",
   "metadata": {
    "editable": true
   },
   "source": [
    "$$\n",
    "\\boldsymbol{P}_{j}\\vert \\psi\\rangle=\\vert j\\rangle\\langle j\\vert\\sum_{i=0}^{n-1}\\alpha_i\\vert i\\rangle=\\sum_{i=0}^{n-1}\\alpha_i\\vert j\\rangle\\langle j\\vert i\\rangle.\n",
    "$$"
   ]
  },
  {
   "cell_type": "markdown",
   "id": "46331e99",
   "metadata": {
    "editable": true
   },
   "source": [
    "## Further manipulations\n",
    "\n",
    "This results in"
   ]
  },
  {
   "cell_type": "markdown",
   "id": "1f13b0d6",
   "metadata": {
    "editable": true
   },
   "source": [
    "$$\n",
    "\\boldsymbol{P}_{j}\\vert \\psi\\rangle=\\alpha_j\\vert j\\rangle,\n",
    "$$"
   ]
  },
  {
   "cell_type": "markdown",
   "id": "80624ea8",
   "metadata": {
    "editable": true
   },
   "source": [
    "since $\\langle j\\vert i\\rangle$.\n",
    "With the last equation we can rewrite"
   ]
  },
  {
   "cell_type": "markdown",
   "id": "ff4f3a40",
   "metadata": {
    "editable": true
   },
   "source": [
    "$$\n",
    "\\boldsymbol{A}\\vert \\psi \\rangle = \\sum_{i=0}^{n-1}\\alpha_i\\lambda_i\\vert i\\rangle=\\sum_{i=0}^{n-1}\\lambda_i\\boldsymbol{P}_i\\vert \\psi\\rangle,\n",
    "$$"
   ]
  },
  {
   "cell_type": "markdown",
   "id": "7f0c7060",
   "metadata": {
    "editable": true
   },
   "source": [
    "from which we conclude that"
   ]
  },
  {
   "cell_type": "markdown",
   "id": "52724abb",
   "metadata": {
    "editable": true
   },
   "source": [
    "$$\n",
    "\\boldsymbol{A}=\\sum_{i=0}^{n-1}\\lambda_i\\boldsymbol{P}_i.\n",
    "$$"
   ]
  },
  {
   "cell_type": "markdown",
   "id": "53961be1",
   "metadata": {
    "editable": true
   },
   "source": [
    "## Spectral decomposition\n",
    "\n",
    "This is the spectral decomposition of a hermitian and normal\n",
    "operator. It is true for any state and it is independent of the\n",
    "basis. The spectral decomposition can in turn be used to exhaustively\n",
    "specify a measurement, as we will see in the next section.\n",
    "\n",
    "As an example, consider two states $\\vert \\psi_a\\rangle$ and $\\vert\n",
    "\\psi_b\\rangle$ that are eigenstates of $\\boldsymbol{A}$ with eigenvalues\n",
    "$\\lambda_a$ and $\\lambda_b$, respectively. In the diagonalization\n",
    "process we have obtained the coefficients $\\alpha_0$, $\\alpha_1$,\n",
    "$\\beta_0$ and $\\beta_1$ using an expansion in terms of the orthogonal\n",
    "basis $\\vert 0\\rangle$ and $\\vert 1\\rangle$."
   ]
  },
  {
   "cell_type": "markdown",
   "id": "69abed7b",
   "metadata": {
    "editable": true
   },
   "source": [
    "## Explicit results\n",
    "\n",
    "We have then"
   ]
  },
  {
   "cell_type": "markdown",
   "id": "a62c3b30",
   "metadata": {
    "editable": true
   },
   "source": [
    "$$\n",
    "\\vert \\psi_a\\rangle = \\alpha_0\\vert 0\\rangle+\\alpha_1\\vert 1\\rangle,\n",
    "$$"
   ]
  },
  {
   "cell_type": "markdown",
   "id": "ed4fcd84",
   "metadata": {
    "editable": true
   },
   "source": [
    "and"
   ]
  },
  {
   "cell_type": "markdown",
   "id": "0fa5b6a5",
   "metadata": {
    "editable": true
   },
   "source": [
    "$$\n",
    "\\vert \\psi_b\\rangle = \\beta_0\\vert 0\\rangle+\\beta_1\\vert 1\\rangle,\n",
    "$$"
   ]
  },
  {
   "cell_type": "markdown",
   "id": "1b3299bb",
   "metadata": {
    "editable": true
   },
   "source": [
    "with corresponding projection operators"
   ]
  },
  {
   "cell_type": "markdown",
   "id": "8ec110d8",
   "metadata": {
    "editable": true
   },
   "source": [
    "$$\n",
    "\\boldsymbol{P}_a=\\vert \\psi_a\\rangle \\langle \\psi_a\\vert = \\begin{bmatrix} \\vert \\alpha_0\\vert^2 &\\alpha_0\\alpha_1^* \\\\\n",
    "                                                                   \\alpha_1\\alpha_0^* & \\vert \\alpha_1\\vert^* \\end{bmatrix},\n",
    "$$"
   ]
  },
  {
   "cell_type": "markdown",
   "id": "8d8f9223",
   "metadata": {
    "editable": true
   },
   "source": [
    "and"
   ]
  },
  {
   "cell_type": "markdown",
   "id": "83d5c1dd",
   "metadata": {
    "editable": true
   },
   "source": [
    "$$\n",
    "\\boldsymbol{P}_b=\\vert \\psi_b\\rangle \\langle \\psi_b\\vert = \\begin{bmatrix} \\vert \\beta_0\\vert^2 &\\beta_0\\beta_1^* \\\\\n",
    "                                                                   \\beta_1\\beta_0^* & \\vert \\beta_1\\vert^* \\end{bmatrix}.\n",
    "$$"
   ]
  },
  {
   "cell_type": "markdown",
   "id": "f21c47f3",
   "metadata": {
    "editable": true
   },
   "source": [
    "## The spectral decomposition\n",
    "The results from the previous slide gives us\n",
    "the following spectral decomposition of $\\boldsymbol{A}$"
   ]
  },
  {
   "cell_type": "markdown",
   "id": "12b9acbf",
   "metadata": {
    "editable": true
   },
   "source": [
    "$$\n",
    "\\boldsymbol{A}=\\lambda_a \\vert \\psi_a\\rangle \\langle \\psi_a\\vert+\\lambda_b \\vert \\psi_b\\rangle \\langle \\psi_b\\vert,\n",
    "$$"
   ]
  },
  {
   "cell_type": "markdown",
   "id": "5afd45cf",
   "metadata": {
    "editable": true
   },
   "source": [
    "which written out in all its details reads"
   ]
  },
  {
   "cell_type": "markdown",
   "id": "5726fb0c",
   "metadata": {
    "editable": true
   },
   "source": [
    "$$\n",
    "\\boldsymbol{A}=\\lambda_a\\begin{bmatrix} \\vert \\alpha_0\\vert^2 &\\alpha_0\\alpha_1^* \\\\\n",
    "                                                                   \\alpha_1\\alpha_0^* & \\vert \\alpha_1\\vert^* \\end{bmatrix} +\\lambda_b\\begin{bmatrix} \\vert \\beta_0\\vert^2 &\\beta_0\\beta_1^* \\\\\n",
    "                                                                   \\beta_1\\beta_0^* & \\vert \\beta_1\\vert^* \\end{bmatrix}.\n",
    "$$"
   ]
  },
  {
   "cell_type": "markdown",
   "id": "ad11715e",
   "metadata": {
    "editable": true
   },
   "source": [
    "## Measurements\n",
    "\n",
    "Armed with the spectral decomposition, we are now ready to discuss how\n",
    "to compute measurements of observables.  When we make a measurement,\n",
    "quantum mechanics postulates that mutually exclusive measurement\n",
    "outcomes correspond to orthogonal projection operators.\n",
    "\n",
    "We assume now we can contruct a series of such orthogonal operators based on $\\vert i \\rangle \\in \\{\\vert 0\\rangle, \\vert 1\\rangle,\\dots, \\vert n-1\\rangle$ computational basis states. These projection operators $\\boldsymbol{P}_0,\\boldsymbol{P}_1,\\dots,\\boldsymbol{P}_{n-1}$ are all idempotent and sum to one"
   ]
  },
  {
   "cell_type": "markdown",
   "id": "0bb724c4",
   "metadata": {
    "editable": true
   },
   "source": [
    "$$\n",
    "\\sum_{i=0}^{n-1}\\boldsymbol{P}_i=\\boldsymbol{I}.\n",
    "$$"
   ]
  },
  {
   "cell_type": "markdown",
   "id": "9b350a1d",
   "metadata": {
    "editable": true
   },
   "source": [
    "## Qubit example\n",
    "\n",
    "As an example, consider the basis of two qubits $\\vert 0\\rangle$ and $\\vert 1\\rangle$ with the correspong sum"
   ]
  },
  {
   "cell_type": "markdown",
   "id": "8dbfac89",
   "metadata": {
    "editable": true
   },
   "source": [
    "$$\n",
    "\\sum_{i=0}^{1}\\boldsymbol{P}_i=\\begin{bmatrix} 1 & 0 \\\\ 0 & 1\\end{bmatrix}.\n",
    "$$"
   ]
  },
  {
   "cell_type": "markdown",
   "id": "ead26faf",
   "metadata": {
    "editable": true
   },
   "source": [
    "Based on the spectral decomposition discussed above, we can define the probability of eigenvalue $\\lambda_i$ as"
   ]
  },
  {
   "cell_type": "markdown",
   "id": "eba1f5d1",
   "metadata": {
    "editable": true
   },
   "source": [
    "$$\n",
    "\\mathrm{Prob}(\\lambda_i) = \\vert \\boldsymbol{P}_i\\vert \\psi\\rangle\\vert^2,\n",
    "$$"
   ]
  },
  {
   "cell_type": "markdown",
   "id": "1caee89c",
   "metadata": {
    "editable": true
   },
   "source": [
    "where $\\vert \\psi_a\\rangle$ is a quantum state representing the system prior to a specific measurement."
   ]
  },
  {
   "cell_type": "markdown",
   "id": "3b54a082",
   "metadata": {
    "editable": true
   },
   "source": [
    "## Total probability\n",
    "\n",
    "We can rewrite this as"
   ]
  },
  {
   "cell_type": "markdown",
   "id": "ebcc43b5",
   "metadata": {
    "editable": true
   },
   "source": [
    "$$\n",
    "\\mathrm{Prob}(\\lambda_i) = \\langle \\psi\\vert \\boldsymbol{P}_i^{\\dagger}\\boldsymbol{P}_i\\vert \\psi\\rangle =\\langle \\psi\\vert \\boldsymbol{P}_i\\vert \\psi\\rangle.\n",
    "$$"
   ]
  },
  {
   "cell_type": "markdown",
   "id": "2bef2499",
   "metadata": {
    "editable": true
   },
   "source": [
    "The total probability for all measurements is the sum overt all probabilities"
   ]
  },
  {
   "cell_type": "markdown",
   "id": "c7def82e",
   "metadata": {
    "editable": true
   },
   "source": [
    "$$\n",
    "\\sum_{i=0}^{n-1}\\mathrm{Prob}(\\lambda_i)=1.\n",
    "$$"
   ]
  },
  {
   "cell_type": "markdown",
   "id": "3617449a",
   "metadata": {
    "editable": true
   },
   "source": [
    "We can in turn define the post-measurement normalized pure quantum state as, for the specific outcome $\\lambda_i$, as"
   ]
  },
  {
   "cell_type": "markdown",
   "id": "12aeb15f",
   "metadata": {
    "editable": true
   },
   "source": [
    "$$\n",
    "\\vert \\psi'\\rangle = \\frac{\\boldsymbol{P}_i\\vert \\psi\\rangle}{\\sqrt{\\langle \\psi \\vert \\boldsymbol{P}_i\\vert \\psi\\rangle}}.\n",
    "$$"
   ]
  },
  {
   "cell_type": "markdown",
   "id": "d686aea7",
   "metadata": {
    "editable": true
   },
   "source": [
    "## Binary example system\n",
    "\n",
    "As an example, consider the binary system states $\\vert 0\\rangle$ and $\\vert 1\\rangle$ with corresponding projection operators"
   ]
  },
  {
   "cell_type": "markdown",
   "id": "fb25f87e",
   "metadata": {
    "editable": true
   },
   "source": [
    "$$\n",
    "\\boldsymbol{P}_0 =\\vert 0 \\rangle \\langle 0\\vert,\n",
    "$$"
   ]
  },
  {
   "cell_type": "markdown",
   "id": "66f7f564",
   "metadata": {
    "editable": true
   },
   "source": [
    "and"
   ]
  },
  {
   "cell_type": "markdown",
   "id": "01d0193f",
   "metadata": {
    "editable": true
   },
   "source": [
    "$$\n",
    "\\boldsymbol{P}_1 =\\vert 1 \\rangle \\langle 1\\vert,\n",
    "$$"
   ]
  },
  {
   "cell_type": "markdown",
   "id": "4378b45a",
   "metadata": {
    "editable": true
   },
   "source": [
    "with the properties"
   ]
  },
  {
   "cell_type": "markdown",
   "id": "a8749f95",
   "metadata": {
    "editable": true
   },
   "source": [
    "$$\n",
    "\\sum_{i=0}^1\\boldsymbol{P}_i^{\\dagger}\\boldsymbol{P}_1=\\boldsymbol{I},\n",
    "$$"
   ]
  },
  {
   "cell_type": "markdown",
   "id": "ed6769cd",
   "metadata": {
    "editable": true
   },
   "source": [
    "$$\n",
    "\\boldsymbol{P}_0^{\\dagger}\\boldsymbol{P}_0=\\boldsymbol{P}_0^2=\\boldsymbol{P}_0,\n",
    "$$"
   ]
  },
  {
   "cell_type": "markdown",
   "id": "30ffd70c",
   "metadata": {
    "editable": true
   },
   "source": [
    "and"
   ]
  },
  {
   "cell_type": "markdown",
   "id": "d47cf1b3",
   "metadata": {
    "editable": true
   },
   "source": [
    "$$\n",
    "\\boldsymbol{P}_1^{\\dagger}\\boldsymbol{P}_1=\\boldsymbol{P}_1^2=\\boldsymbol{P}_1.\n",
    "$$"
   ]
  },
  {
   "cell_type": "markdown",
   "id": "fd5f4adc",
   "metadata": {
    "editable": true
   },
   "source": [
    "## Superposition state\n",
    "\n",
    "Assume thereafter that we have a state $\\vert \\psi\\rangle$ which is a superposition of the above two qubit states"
   ]
  },
  {
   "cell_type": "markdown",
   "id": "833f9234",
   "metadata": {
    "editable": true
   },
   "source": [
    "$$\n",
    "\\vert \\psi \\rangle = \\alpha\\vert 0 \\rangle + \\beta \\vert 1\\rangle.\n",
    "$$"
   ]
  },
  {
   "cell_type": "markdown",
   "id": "cbd5ab89",
   "metadata": {
    "editable": true
   },
   "source": [
    "The probability of finding either $\\vert 0\\rangle$ or $\\vert 1\\rangle$ is then"
   ]
  },
  {
   "cell_type": "markdown",
   "id": "4b9c0fae",
   "metadata": {
    "editable": true
   },
   "source": [
    "$$\n",
    "\\boldsymbol{P}_{\\psi(0)}=\\langle \\psi\\vert \\boldsymbol{P}_0^{\\dagger}\\boldsymbol{P}_0\\vert \\psi\\rangle=\\vert \\alpha\\vert^2,\n",
    "$$"
   ]
  },
  {
   "cell_type": "markdown",
   "id": "b3aaa5b4",
   "metadata": {
    "editable": true
   },
   "source": [
    "and similarly we have"
   ]
  },
  {
   "cell_type": "markdown",
   "id": "6cb2fa94",
   "metadata": {
    "editable": true
   },
   "source": [
    "$$\n",
    "\\boldsymbol{P}_{\\psi(1)}=\\langle \\psi\\vert \\boldsymbol{P}_1^{\\dagger}\\boldsymbol{P}_1\\vert \\psi\\rangle=\\vert \\beta\\vert^2.\n",
    "$$"
   ]
  },
  {
   "cell_type": "markdown",
   "id": "bf95467d",
   "metadata": {
    "editable": true
   },
   "source": [
    "## More derivations\n",
    "\n",
    "If we set"
   ]
  },
  {
   "cell_type": "markdown",
   "id": "1a7de4a8",
   "metadata": {
    "editable": true
   },
   "source": [
    "$$\n",
    "\\vert \\psi \\rangle = \\frac{1}{\\sqrt{2}}\\left(\\vert 0 \\rangle + \\vert 1\\rangle\\right),\n",
    "$$"
   ]
  },
  {
   "cell_type": "markdown",
   "id": "ba426199",
   "metadata": {
    "editable": true
   },
   "source": [
    "we have $\\vert \\alpha\\vert^2=\\vert \\beta\\vert^2=1/2$. In general for this system we have"
   ]
  },
  {
   "cell_type": "markdown",
   "id": "07d25d55",
   "metadata": {
    "editable": true
   },
   "source": [
    "$$\n",
    "\\vert \\psi'_0\\rangle = \\frac{\\boldsymbol{P}_0\\vert \\psi\\rangle}{\\sqrt{\\langle \\psi \\vert \\boldsymbol{P}_0\\vert \\psi\\rangle}}=\\frac{\\alpha}{\\vert \\alpha\\vert}\\vert 0 \\rangle,\n",
    "$$"
   ]
  },
  {
   "cell_type": "markdown",
   "id": "897a8534",
   "metadata": {
    "editable": true
   },
   "source": [
    "and"
   ]
  },
  {
   "cell_type": "markdown",
   "id": "55d00950",
   "metadata": {
    "editable": true
   },
   "source": [
    "$$\n",
    "\\vert \\psi'_1\\rangle = \\frac{\\boldsymbol{P}_1\\vert \\psi\\rangle}{\\sqrt{\\langle \\psi \\vert \\boldsymbol{P}_1\\vert \\psi\\rangle}}=\\frac{\\beta}{\\vert \\beta\\vert}\\vert 1 \\rangle.\n",
    "$$"
   ]
  },
  {
   "cell_type": "markdown",
   "id": "37df92d2",
   "metadata": {
    "editable": true
   },
   "source": [
    "## Final result\n",
    "In general we have that"
   ]
  },
  {
   "cell_type": "markdown",
   "id": "3825e4c5",
   "metadata": {
    "editable": true
   },
   "source": [
    "$$\n",
    "\\boldsymbol{P}_{\\psi(x)}=\\langle \\psi\\vert \\boldsymbol{P}_x^{\\dagger}\\boldsymbol{P}_x\\vert \\psi\\rangle,,\n",
    "$$"
   ]
  },
  {
   "cell_type": "markdown",
   "id": "03f1dc9b",
   "metadata": {
    "editable": true
   },
   "source": [
    "which we can rewrite as"
   ]
  },
  {
   "cell_type": "markdown",
   "id": "56bc63fb",
   "metadata": {
    "editable": true
   },
   "source": [
    "$$\n",
    "\\mathrm{Prob}(\\psi(x))=\\mathrm{Tr}\\left[\\boldsymbol{P}_x^{\\dagger}\\boldsymbol{P}_x\\vert \\psi\\rangle\\langle \\psi\\vert\\right].\n",
    "$$"
   ]
  },
  {
   "cell_type": "markdown",
   "id": "9744189d",
   "metadata": {
    "editable": true
   },
   "source": [
    "## Example\n",
    "\n",
    "The last equation can be understood better through the following example with a state $\\vert \\psi\\rangle$"
   ]
  },
  {
   "cell_type": "markdown",
   "id": "2e055101",
   "metadata": {
    "editable": true
   },
   "source": [
    "$$\n",
    "\\vert \\psi \\rangle = \\alpha \\vert 0\\rangle+\\beta \\vert 1\\rangle,\n",
    "$$"
   ]
  },
  {
   "cell_type": "markdown",
   "id": "e9f5b229",
   "metadata": {
    "editable": true
   },
   "source": [
    "which results in a projection operator"
   ]
  },
  {
   "cell_type": "markdown",
   "id": "94a46726",
   "metadata": {
    "editable": true
   },
   "source": [
    "$$\n",
    "\\vert \\psi \\rangle\\langle \\psi\\vert = \\begin{bmatrix} \\vert \\alpha \\vert^2 & \\alpha\\beta^* \\\\ \\alpha^*\\beta & \\vert\\beta\\vert^2\\end{bmatrix}.\n",
    "$$"
   ]
  },
  {
   "cell_type": "markdown",
   "id": "9792ced1",
   "metadata": {
    "editable": true
   },
   "source": [
    "## Computing matrix products\n",
    "We have that"
   ]
  },
  {
   "cell_type": "markdown",
   "id": "c6fbffa7",
   "metadata": {
    "editable": true
   },
   "source": [
    "$$\n",
    "\\boldsymbol{P}_0^{\\dagger}\\boldsymbol{P}_0=\\boldsymbol{P}_0=\\begin{bmatrix} 1 & 0 \\\\ 0 & 0\\end{bmatrix},\n",
    "$$"
   ]
  },
  {
   "cell_type": "markdown",
   "id": "acca4ef4",
   "metadata": {
    "editable": true
   },
   "source": [
    "and computing the matrix product $\\boldsymbol{P}_0\\vert\\psi\\rangle\\langle \\psi\\vert$ gives"
   ]
  },
  {
   "cell_type": "markdown",
   "id": "0c6eb81f",
   "metadata": {
    "editable": true
   },
   "source": [
    "$$\n",
    "\\boldsymbol{P}_0\\vert\\psi\\rangle\\langle \\psi\\vert=\\begin{bmatrix} 1 & 0 \\\\ 0 & 0\\end{bmatrix}\\begin{bmatrix} \\vert \\alpha \\vert^2 & \\alpha\\beta^* \\\\ \\alpha^*\\beta & \\vert\\beta\\vert^2\\end{bmatrix}=\\begin{bmatrix} \\vert \\alpha \\vert^2 & \\alpha\\beta^* \\\\ 0 & 0\\end{bmatrix},\n",
    "$$"
   ]
  },
  {
   "cell_type": "markdown",
   "id": "03a33388",
   "metadata": {
    "editable": true
   },
   "source": [
    "and taking the trace of this matrix, that is computing"
   ]
  },
  {
   "cell_type": "markdown",
   "id": "e9c757f8",
   "metadata": {
    "editable": true
   },
   "source": [
    "$$\n",
    "\\mathrm{Prob}(\\psi(0))=\\mathrm{Tr}\\left[\\boldsymbol{P}_0^{\\dagger}\\boldsymbol{P}_0\\vert \\psi\\rangle\\langle \\psi\\vert\\right]=\\vert \\alpha\\vert^2,\n",
    "$$"
   ]
  },
  {
   "cell_type": "markdown",
   "id": "4993a457",
   "metadata": {
    "editable": true
   },
   "source": [
    "we obtain the same results as the one we had earlier by computing\n",
    "the probabliblity for $0$ given by the expression"
   ]
  },
  {
   "cell_type": "markdown",
   "id": "1d4af241",
   "metadata": {
    "editable": true
   },
   "source": [
    "$$\n",
    "\\boldsymbol{P}_{\\psi(0)}=\\langle \\psi\\vert \\boldsymbol{P}_0^{\\dagger}\\boldsymbol{P}_0\\vert \\psi\\rangle=\\vert \\alpha\\vert^2.\n",
    "$$"
   ]
  },
  {
   "cell_type": "markdown",
   "id": "ca92cd7f",
   "metadata": {
    "editable": true
   },
   "source": [
    "## Outcome probability\n",
    "\n",
    "It is straight forward to show that"
   ]
  },
  {
   "cell_type": "markdown",
   "id": "2f1fba7a",
   "metadata": {
    "editable": true
   },
   "source": [
    "$$\n",
    "\\mathrm{Prob}(\\psi(1))=\\mathrm{Tr}\\left[\\boldsymbol{P}_1^{\\dagger}\\boldsymbol{P}_1\\vert \\psi\\rangle\\langle \\psi\\vert\\right]=\\vert \\beta\\vert^2,\n",
    "$$"
   ]
  },
  {
   "cell_type": "markdown",
   "id": "22a2493a",
   "metadata": {
    "editable": true
   },
   "source": [
    "which we also could have obtained by computing"
   ]
  },
  {
   "cell_type": "markdown",
   "id": "10ddcc52",
   "metadata": {
    "editable": true
   },
   "source": [
    "$$\n",
    "\\boldsymbol{P}_{\\psi(1)}=\\langle \\psi\\vert \\boldsymbol{P}_1^{\\dagger}\\boldsymbol{P}_1\\vert \\psi\\rangle=\\vert \\beta\\vert^2.\n",
    "$$"
   ]
  },
  {
   "cell_type": "markdown",
   "id": "7da8d136",
   "metadata": {
    "editable": true
   },
   "source": [
    "We can now extend these expressions to the complete ensemble of measurements. Using the spectral decomposition we have that the probability of an outcome $p(x)$ is"
   ]
  },
  {
   "cell_type": "markdown",
   "id": "5b55a83a",
   "metadata": {
    "editable": true
   },
   "source": [
    "$$\n",
    "p(x)=\\sum_{i=0}^{n-1}p_i\\boldsymbol{P}_{\\psi_i(x)},\n",
    "$$"
   ]
  },
  {
   "cell_type": "markdown",
   "id": "122c68de",
   "metadata": {
    "editable": true
   },
   "source": [
    "where $p_i$ are the probabilities of a specific outcome.  Add later a digression on marginal probabilities.\n",
    "\n",
    "With these prerequisites we are now ready to introduce the density  matrices, or density operators."
   ]
  },
  {
   "cell_type": "markdown",
   "id": "da719ed8",
   "metadata": {
    "editable": true
   },
   "source": [
    "## Density matrices/operators\n",
    "\n",
    "The last equation can be rewritten as"
   ]
  },
  {
   "cell_type": "markdown",
   "id": "1121c2ea",
   "metadata": {
    "editable": true
   },
   "source": [
    "$$\n",
    "p(x)=\\sum_{i=0}^{n-1}p_i\\boldsymbol{P}_{\\psi_i(x)}=\\sum_{i=0}^{n-1}p_i\\mathrm{Tr}\\left[\\boldsymbol{P}_x^{\\dagger}\\boldsymbol{P}_x\\vert \\psi_i\\rangle\\langle \\psi_i\\vert\\right],\n",
    "$$"
   ]
  },
  {
   "cell_type": "markdown",
   "id": "c35af151",
   "metadata": {
    "editable": true
   },
   "source": [
    "and we define the **density matrix/operator** as"
   ]
  },
  {
   "cell_type": "markdown",
   "id": "3a2f0555",
   "metadata": {
    "editable": true
   },
   "source": [
    "$$\n",
    "\\rho=\\sum_{i=0}^{n-1}p_i\\vert \\psi_i\\rangle\\langle \\psi_i\\vert,\n",
    "$$"
   ]
  },
  {
   "cell_type": "markdown",
   "id": "00098010",
   "metadata": {
    "editable": true
   },
   "source": [
    "we can rewrite the first equation above as"
   ]
  },
  {
   "cell_type": "markdown",
   "id": "12b9107e",
   "metadata": {
    "editable": true
   },
   "source": [
    "$$\n",
    "p(x)=\\mathrm{Tr}\\left[\\boldsymbol{P}_x^{\\dagger}\\boldsymbol{P}_x\\rho\\right].\n",
    "$$"
   ]
  },
  {
   "cell_type": "markdown",
   "id": "292d87f3",
   "metadata": {
    "editable": true
   },
   "source": [
    "If we can define the state of a system in terms of the density matrix, the probability of a specific outcome is then given by"
   ]
  },
  {
   "cell_type": "markdown",
   "id": "d3f26117",
   "metadata": {
    "editable": true
   },
   "source": [
    "$$\n",
    "p(x)_{\\rho}=\\mathrm{Tr}\\left[\\boldsymbol{P}_x^{\\dagger}\\boldsymbol{P}_x\\rho\\right].\n",
    "$$"
   ]
  },
  {
   "cell_type": "markdown",
   "id": "74daded6",
   "metadata": {
    "editable": true
   },
   "source": [
    "## Properties of density matrices\n",
    "\n",
    "A density matrix in a Hilbert space with $n$ states has the following properties (which we state without proof)\n",
    "1. There exists a probability $p_i\\geq 0$ with $\\sum_ip_i=1$,\n",
    "\n",
    "2. There exists an orthonormal basis $\\psi_i$ such that we can define $\\rho=\\sum_ip_i\\vert\\psi_i\\rangle\\langle \\psi_i\\vert$,\n",
    "\n",
    "3. We have $0 \\leq \\rho^2\\leq 1$ and\n",
    "\n",
    "4. The norm $\\vert\\vert \\rho \\vert\\vert_2\\leq 1$.\n",
    "\n",
    "With the density matrix we can also define the state the system collapses to after a measurement, namely"
   ]
  },
  {
   "cell_type": "markdown",
   "id": "fa588859",
   "metadata": {
    "editable": true
   },
   "source": [
    "$$\n",
    "\\rho'_x=\\frac{\\boldsymbol{P}_x\\rho\\boldsymbol{P}_x^{\\dagger}}{\\mathrm{Tr}[\\boldsymbol{P}_x^{\\dagger}\\boldsymbol{P}_x\\rho]}.\n",
    "$$"
   ]
  },
  {
   "cell_type": "markdown",
   "id": "2f25f4bc",
   "metadata": {
    "editable": true
   },
   "source": [
    "## Representation of states and Hamiltonians\n",
    "\n",
    "Before we proceed we need several other definitions.  Throughout these\n",
    "lectures we will assume that the interacting part of the Hamiltonian\n",
    "can be approximated by a two-body interaction.  This means that our\n",
    "Hamiltonian can be written as the sum of a onebody part, which\n",
    "includes kinetic energy and an eventual external field, and a twobody\n",
    "interaction"
   ]
  },
  {
   "cell_type": "markdown",
   "id": "91fff685",
   "metadata": {
    "editable": true
   },
   "source": [
    "<!-- Equation labels as ordinary links -->\n",
    "<div id=\"_auto2\"></div>\n",
    "\n",
    "$$\n",
    "\\begin{equation}\n",
    "    \\hat{H} = \\hat{H}_0 + \\hat{H}_I \n",
    "    = \\sum_{i=1}^N \\hat{h}_0(x_i) + \\sum_{i < j}^N \\hat{v}(r_{ij}),\n",
    "\\label{_auto2} \\tag{2}\n",
    "\\end{equation}\n",
    "$$"
   ]
  },
  {
   "cell_type": "markdown",
   "id": "0f45f4ce",
   "metadata": {
    "editable": true
   },
   "source": [
    "with the onebody part"
   ]
  },
  {
   "cell_type": "markdown",
   "id": "1797a32a",
   "metadata": {
    "editable": true
   },
   "source": [
    "<!-- Equation labels as ordinary links -->\n",
    "<div id=\"hinuclei\"></div>\n",
    "\n",
    "$$\n",
    "\\begin{equation}\n",
    "  H_0=\\sum_{i=1}^N \\hat{h}_0(x_i).\n",
    "\\label{hinuclei} \\tag{3}\n",
    "\\end{equation}\n",
    "$$"
   ]
  },
  {
   "cell_type": "markdown",
   "id": "325d701f",
   "metadata": {
    "editable": true
   },
   "source": [
    "## Typical onebody Hamiltonians\n",
    "\n",
    "The onebody part $u_{\\mathrm{ext}}(x_i)$ is normally approximated by a\n",
    "harmonic oscillator potential or the Coulomb interaction an electron\n",
    "feels from the nucleus. However, other potentials are fully possible,\n",
    "such as one derived from the self-consistent solution of the\n",
    "Hartree-Fock equations or density functional theories."
   ]
  },
  {
   "cell_type": "markdown",
   "id": "d50e9211",
   "metadata": {
    "editable": true
   },
   "source": [
    "## Symmetries\n",
    "Our Hamiltonian is invariant under the permutation (interchange) of\n",
    "two particles.  Since we deal with fermions however, the total wave\n",
    "function is antisymmetric.  Let $\\hat{P}$ be an operator which\n",
    "interchanges two particles.  Due to the symmetries we have ascribed to\n",
    "our Hamiltonian, this operator commutes with the total Hamiltonian,"
   ]
  },
  {
   "cell_type": "markdown",
   "id": "36f56263",
   "metadata": {
    "editable": true
   },
   "source": [
    "$$\n",
    "[\\hat{H},\\hat{P}] = 0,\n",
    "$$"
   ]
  },
  {
   "cell_type": "markdown",
   "id": "08e08611",
   "metadata": {
    "editable": true
   },
   "source": [
    "meaning that $\\Psi_{\\lambda}(x_1, x_2, \\dots , x_N)$ is an eigenfunction of \n",
    "$\\hat{P}$ as well, that is"
   ]
  },
  {
   "cell_type": "markdown",
   "id": "9e1145f6",
   "metadata": {
    "editable": true
   },
   "source": [
    "$$\n",
    "\\hat{P}_{ij}\\Psi_{\\lambda}(x_1, x_2, \\dots,x_i,\\dots,x_j,\\dots,x_N)=\n",
    "\\beta\\Psi_{\\lambda}(x_1, x_2, \\dots,x_i,\\dots,x_j,\\dots,x_N),\n",
    "$$"
   ]
  },
  {
   "cell_type": "markdown",
   "id": "a377b98b",
   "metadata": {
    "editable": true
   },
   "source": [
    "where $\\beta$ is the eigenvalue of $\\hat{P}$. We have introduced the suffix $ij$ in order to indicate that we permute particles $i$ and $j$. The variable $N$ refers to the number of particles.\n",
    "The Pauli principle tells us that the total wave function for a system of fermions\n",
    "has to be antisymmetric, resulting in the eigenvalue $\\beta = -1$.   The variable $N$ represents the number of particles."
   ]
  },
  {
   "cell_type": "markdown",
   "id": "adab087d",
   "metadata": {
    "editable": true
   },
   "source": [
    "## Fermions\n",
    "If we deal with fermions, we assume that  we can approximate the exact eigenfunction with a Slater determinant"
   ]
  },
  {
   "cell_type": "markdown",
   "id": "c7b229e9",
   "metadata": {
    "editable": true
   },
   "source": [
    "<!-- Equation labels as ordinary links -->\n",
    "<div id=\"eq:HartreeFockDet\"></div>\n",
    "\n",
    "$$\n",
    "\\begin{equation}\n",
    "   \\Phi(x_1, x_2,\\dots ,x_N,\\alpha,\\beta,\\dots, \\sigma)=\\frac{1}{\\sqrt{N!}}\n",
    "\\left| \\begin{array}{ccccc} \\psi_{\\alpha}(x_1)& \\psi_{\\alpha}(x_2)& \\dots & \\dots & \\psi_{\\alpha}(x_N)\\\\\n",
    "                            \\psi_{\\beta}(x_1)&\\psi_{\\beta}(x_2)& \\dots & \\dots & \\psi_{\\beta}(x_N)\\\\  \n",
    "                            \\dots & \\dots & \\dots & \\dots & \\dots \\\\\n",
    "                            \\dots & \\dots & \\dots & \\dots & \\dots \\\\\n",
    "                     \\psi_{\\sigma}(x_1)&\\psi_{\\sigma}(x_2)& \\dots & \\dots & \\psi_{\\sigma}(x_N)\\end{array} \\right|, \\label{eq:HartreeFockDet} \\tag{4}\n",
    "\\end{equation}\n",
    "$$"
   ]
  },
  {
   "cell_type": "markdown",
   "id": "fb7d23ef",
   "metadata": {
    "editable": true
   },
   "source": [
    "where  $x_i$  stand for the coordinates and spin values of a particle $i$ and $\\alpha,\\beta,\\dots, \\gamma$ \n",
    "are quantum numbers needed to describe remaining quantum numbers.  \n",
    "This ansatz for the computational basis is often based on single-particle functions which are eigenfunctions of a part of the total Hamiltonian. Most frequently, these single-particle basis functions are eigenpairs of the non-interacting part of the Hamiltonian (normally defined by kinetic and external potential operators)."
   ]
  },
  {
   "cell_type": "markdown",
   "id": "aaf8a570",
   "metadata": {
    "editable": true
   },
   "source": [
    "## Ansatz for states\n",
    "\n",
    "For Fermions (identical and indistinguishable particles) we will \n",
    "form an ansatz for a given state in terms of so-called Slater determinants determined\n",
    "by a chosen basis of single-particle functions. \n",
    "\n",
    "For a given $n\\times n$ matrix $\\mathbf{A}$ we can write its determinant"
   ]
  },
  {
   "cell_type": "markdown",
   "id": "88de0944",
   "metadata": {
    "editable": true
   },
   "source": [
    "$$\n",
    "det(\\mathbf{A})=|\\mathbf{A}|=\n",
    "\\left| \\begin{array}{ccccc} a_{11}& a_{12}& \\dots & \\dots & a_{1n}\\\\\n",
    "                            a_{21}&a_{22}& \\dots & \\dots & a_{2n}\\\\  \n",
    "                            \\dots & \\dots & \\dots & \\dots & \\dots \\\\\n",
    "                            \\dots & \\dots & \\dots & \\dots & \\dots \\\\\n",
    "                            a_{n1}& a_{n2}& \\dots & \\dots & a_{nn}\\end{array} \\right|,\n",
    "$$"
   ]
  },
  {
   "cell_type": "markdown",
   "id": "5d790ba0",
   "metadata": {
    "editable": true
   },
   "source": [
    "in a more compact form as"
   ]
  },
  {
   "cell_type": "markdown",
   "id": "00fb8f37",
   "metadata": {
    "editable": true
   },
   "source": [
    "$$\n",
    "|\\mathbf{A}|= \\sum_{i=1}^{n!}(-1)^{p_i}\\hat{P}_i a_{11}a_{22}\\dots a_{nn},\n",
    "$$"
   ]
  },
  {
   "cell_type": "markdown",
   "id": "d4b7bbe8",
   "metadata": {
    "editable": true
   },
   "source": [
    "where $\\hat{P}_i$ is a permutation operator which permutes the column indices $1,2,3,\\dots,n$\n",
    "and the sum runs over all $n!$ permutations.  The quantity $p_i$ represents the number of transpositions of column indices that are needed in order to bring a given permutation back to its initial ordering, in our case given by $a_{11}a_{22}\\dots a_{nn}$ here."
   ]
  },
  {
   "cell_type": "markdown",
   "id": "8ec844c5",
   "metadata": {
    "editable": true
   },
   "source": [
    "## Simple fermionic example\n",
    "A simple $2\\times 2$ determinant illustrates this. We have"
   ]
  },
  {
   "cell_type": "markdown",
   "id": "6ef3bf16",
   "metadata": {
    "editable": true
   },
   "source": [
    "$$\n",
    "det(\\mathbf{A})=\n",
    "\\left| \\begin{array}{cc} a_{11}& a_{12}\\\\\n",
    "                            a_{21}&a_{22}\\end{array} \\right|= (-1)^0a_{11}a_{22}+(-1)^1a_{12}a_{21},\n",
    "$$"
   ]
  },
  {
   "cell_type": "markdown",
   "id": "326bf696",
   "metadata": {
    "editable": true
   },
   "source": [
    "where in the last term we have interchanged the column indices $1$ and\n",
    "$2$. The natural ordering we have chosen is $a_{11}a_{22}$."
   ]
  },
  {
   "cell_type": "markdown",
   "id": "754b7a18",
   "metadata": {
    "editable": true
   },
   "source": [
    "## Using an ONB\n",
    "We define our new single-particle basis (this is a normal approach for\n",
    "Hartree-Fock theory) by performing a unitary transformation on our\n",
    "previous basis (labelled with greek indices) as"
   ]
  },
  {
   "cell_type": "markdown",
   "id": "5622aa63",
   "metadata": {
    "editable": true
   },
   "source": [
    "$$\n",
    "\\vert \\psi\\rangle_i  = \\sum_{j} u_{ij}\\vert \\phi\\rangle_j.\n",
    "$$"
   ]
  },
  {
   "cell_type": "markdown",
   "id": "b50d1392",
   "metadata": {
    "editable": true
   },
   "source": [
    "If the basis has infinitely many solutions, we need to truncate the\n",
    "above sum.  We assume that the basis $\\vert\\phi\\rangle_j$ is\n",
    "orthogonal.\n",
    "\n",
    "If we stay with determinants, a feature which will become useful is to\n",
    "expand a new determinant in terms of a previous one that is defined by\n",
    "a given set of single-particle state functions.  As discussed above,\n",
    "we can define a new basis that is a linear combination of another\n",
    "basis (assumed to be orthogonal and normalized).  This means that if\n",
    "the coefficients $u_{ij}$ belong to a unitary or orthogonal\n",
    "orthogonality is preserved, as discussed above.\n",
    "\n",
    "This propertry is extremely useful when we build up a basis of many-body Stater determinant based states."
   ]
  },
  {
   "cell_type": "markdown",
   "id": "7fb73072",
   "metadata": {
    "editable": true
   },
   "source": [
    "## Simple  Hamiltonian models\n",
    "\n",
    "In order to study get started with coding, we will study two simple Hamiltonian systems, one which we can use for a single qubit systems and one which has as basis functions a two-qubit system. These two simple Hamiltonians exhibit also something which is called level crossing, a feature which we will use in later studies of entanglement.\n",
    "\n",
    "We study first a simple two-level system. Thereafter we\n",
    "extend our model to a four-level system which can be\n",
    "interpreted as composed of two separate (not necesseraly identical)\n",
    "subsystems.\n",
    "\n",
    "We let our hamiltonian depend linearly on a strength parameter $z$"
   ]
  },
  {
   "cell_type": "markdown",
   "id": "b33abff9",
   "metadata": {
    "editable": true
   },
   "source": [
    "$$\n",
    "H=H_0+\\lambda H_\\mathrm{I},\n",
    "$$"
   ]
  },
  {
   "cell_type": "markdown",
   "id": "8931ec6a",
   "metadata": {
    "editable": true
   },
   "source": [
    "with $\\lambda \\in [0,1]$, where the limits $\\lambda=0$ and $\\lambda=1$\n",
    "represent the non-interacting (or unperturbed) and fully interacting\n",
    "system, respectively."
   ]
  },
  {
   "cell_type": "markdown",
   "id": "2c4a242e",
   "metadata": {
    "editable": true
   },
   "source": [
    "## Defining a computational basis\n",
    "The model is an eigenvalue problem with only\n",
    "two available states, which we label $\\vert 0\\rangle$ and $\\vert\n",
    "1\\rangle$, respectively. Below we will let state $\\vert 0 \\rangle$\n",
    "represent the lowest state (often referred to as model-space state)\n",
    "with its pertinent eigenvalue and eigenvector whereas state $\\vert 1\\rangle$ represents the eigenvalue of\n",
    "the excluded space.  The non-interacting solutions to our problem are"
   ]
  },
  {
   "cell_type": "markdown",
   "id": "1cefe55d",
   "metadata": {
    "editable": true
   },
   "source": [
    "<!-- Equation labels as ordinary links -->\n",
    "<div id=\"_auto3\"></div>\n",
    "\n",
    "$$\n",
    "\\begin{equation}\n",
    "       H_0\\vert 0 \\rangle =\\epsilon_0\\vert 0 \\rangle,\n",
    "\\label{_auto3} \\tag{5}\n",
    "\\end{equation}\n",
    "$$"
   ]
  },
  {
   "cell_type": "markdown",
   "id": "42152365",
   "metadata": {
    "editable": true
   },
   "source": [
    "and"
   ]
  },
  {
   "cell_type": "markdown",
   "id": "c63ee119",
   "metadata": {
    "editable": true
   },
   "source": [
    "<!-- Equation labels as ordinary links -->\n",
    "<div id=\"_auto4\"></div>\n",
    "\n",
    "$$\n",
    "\\begin{equation}\n",
    "       H_0\\vert 1\\rangle =\\epsilon_1\\vert 1\\rangle,\n",
    "\\label{_auto4} \\tag{6}\n",
    "\\end{equation}\n",
    "$$"
   ]
  },
  {
   "cell_type": "markdown",
   "id": "85eecb9c",
   "metadata": {
    "editable": true
   },
   "source": [
    "with $\\epsilon_0 < \\epsilon_1$. We label the off-diagonal matrix\n",
    "elements $X$, while $X_0=\\langle 0 \\vert H_I\\vert 0 \\rangle$ and\n",
    "$X_1=\\langle 1 \\vert H_1\\vert 1 \\rangle$."
   ]
  },
  {
   "cell_type": "markdown",
   "id": "733731dd",
   "metadata": {
    "editable": true
   },
   "source": [
    "## Analytical solutions\n",
    "The solution to the  eigenvalue\n",
    "problem"
   ]
  },
  {
   "cell_type": "markdown",
   "id": "f0655f35",
   "metadata": {
    "editable": true
   },
   "source": [
    "<!-- Equation labels as ordinary links -->\n",
    "<div id=\"eq:twolevelH\"></div>\n",
    "\n",
    "$$\n",
    "\\label{eq:twolevelH} \\tag{7}\n",
    "\\begin{equation}\n",
    "\\left(\\begin{array}{cc}\\epsilon_0+\\lambda X_0 &\\lambda X \\\\\n",
    "\\lambda X &\\epsilon_1+\\lambda X_1 \\end{array}\\right)\n",
    "\\end{equation}\n",
    "$$"
   ]
  },
  {
   "cell_type": "markdown",
   "id": "7f318105",
   "metadata": {
    "editable": true
   },
   "source": [
    "yields"
   ]
  },
  {
   "cell_type": "markdown",
   "id": "68f79b74",
   "metadata": {
    "editable": true
   },
   "source": [
    "<!-- Equation labels as ordinary links -->\n",
    "<div id=\"eq:exact\"></div>\n",
    "\n",
    "$$\n",
    "\\begin{eqnarray}\n",
    "\\label{eq:exact} \\tag{8}\n",
    "     E(\\lambda)=&\\frac{1}{2}\\left\\{\\epsilon_0 +\\epsilon_1 +\\lambda X_0\n",
    "     +\\lambda X_1 \\pm \\left(\n",
    "     \\epsilon_1 -\\epsilon_0 +\\lambda X_1-\\lambda X_0\\right) \\right. \\\\ \\nonumber\n",
    "     & \\left. \\times\\sqrt{1+\\frac{4\\lambda^2X^2}{\\left(\n",
    "     \\epsilon_1 -\\epsilon_0 +\\lambda X_1-\\lambda X_0\\right)^2}}\n",
    "     \\right\\}.\n",
    "\\end{eqnarray}\n",
    "$$"
   ]
  },
  {
   "cell_type": "markdown",
   "id": "05d591ec",
   "metadata": {
    "editable": true
   },
   "source": [
    "## Numerical examples\n",
    "\n",
    "**For this part we recommend using the jupyter-notebook**.\n",
    "\n",
    "In the results below we set the parameters $\\epsilon_0=0$,\n",
    "$\\epsilon_1=4$, $X_0=-X_1=3$ and $X=0.2$.  This eigenvalue problem can\n",
    "easily be rewritten in terms of the standard Pauli matrices.  The\n",
    "non-interacting solutions represent our computational basis.\n",
    "Pertinent to our choice of parameters, is that at $\\lambda\\geq 2/3$,\n",
    "the lowest eigenstate is dominated by $\\vert 1\\rangle$ while the upper\n",
    "is $\\vert 0 \\rangle$. At $\\lambda=1$ the $\\vert 0 \\rangle$ mixing of\n",
    "the lowest eigenvalue is $1\\%$ while for $\\lambda\\leq 2/3$ we have a\n",
    "$\\vert 0 \\rangle$ component of more than $90\\%$.  The character of the\n",
    "eigenvectors has therefore been interchanged when passing $z=2/3$. The\n",
    "value of the parameter $X$ represents the strength of the coupling\n",
    "between the model space and the excluded space.  The following code\n",
    "computes and plots the eigenvalues."
   ]
  },
  {
   "cell_type": "code",
   "execution_count": 1,
   "id": "447c1785",
   "metadata": {
    "collapsed": false,
    "editable": true
   },
   "outputs": [],
   "source": [
    "%matplotlib inline\n",
    "\n",
    "%matplotlib inline\n",
    "\n",
    "from  matplotlib import pyplot as plt\n",
    "import numpy as np\n",
    "dim = 2\n",
    "#Setting up a tridiagonal matrix and finding eigenvectors and eigenvalues\n",
    "Hamiltonian = np.zeros((dim,dim))\n",
    "#number of lambda values\n",
    "n = 100\n",
    "lmbd = np.linspace(0.,1.0,n)\n",
    "e0 = 0.0\n",
    "e1 = 4.0\n",
    "X = 0.20\n",
    "Xp = 3.0\n",
    "Eigenvalue = np.zeros((dim,n))\n",
    "for i in range(n): \n",
    "    Hamiltonian[0,0] = lmbd[i]*Xp+e0\n",
    "    Hamiltonian[0,1] = lmbd[i]*X\n",
    "    Hamiltonian[1,0] = Hamiltonian[0,1]\n",
    "    Hamiltonian[1,1] = e1+lmbd[i]*(-Xp)\n",
    "    # diagonalize and obtain eigenvalues, not necessarily sorted\n",
    "    EigValues, EigVectors = np.linalg.eig(Hamiltonian)\n",
    "    # sort eigenvectors and eigenvalues\n",
    "    permute = EigValues.argsort()\n",
    "    EigValues = EigValues[permute]\n",
    "    EigVectors = EigVectors[:,permute]\n",
    "    Eigenvalue[0,i] = EigValues[0]\n",
    "    Eigenvalue[1,i] = EigValues[1]\n",
    "plt.plot(lmbd, Eigenvalue[0,:] ,'b-',lmbd, Eigenvalue[1,:],'g-',)\n",
    "plt.xlabel('$\\lambda$')\n",
    "plt.ylabel('Eigenvalues')\n",
    "plt.show()"
   ]
  },
  {
   "cell_type": "markdown",
   "id": "ff33f1a5",
   "metadata": {
    "editable": true
   },
   "source": [
    "This model exhibits a simple level crossing where the\n",
    "composition of the final interacting states change character as we\n",
    "gradually switch on the interaction.\n",
    "\n",
    "We extend the simple two-level system to a four level\n",
    "system. This system can be thought of as composed of two subsystems\n",
    "$A$ and $B$. Each subsystem has computational basis states"
   ]
  },
  {
   "cell_type": "markdown",
   "id": "f36d5deb",
   "metadata": {
    "editable": true
   },
   "source": [
    "$$\n",
    "\\vert 0\\rangle_{\\mathrm{A,B}}=\\begin{bmatrix} 1 & 0\\end{bmatrix}^T \\hspace{1cm} \\vert 1\\rangle_{\\mathrm{A,B}}=\\begin{bmatrix} 0 & 1\\end{bmatrix}^T.\n",
    "$$"
   ]
  },
  {
   "cell_type": "markdown",
   "id": "a45dc361",
   "metadata": {
    "editable": true
   },
   "source": [
    "The subsystems could represent single particles or composite many-particle systems of a given symmetry.\n",
    "This leads to the many-body computational basis states"
   ]
  },
  {
   "cell_type": "markdown",
   "id": "ac7e39b5",
   "metadata": {
    "editable": true
   },
   "source": [
    "$$\n",
    "\\vert 00\\rangle = \\vert 0\\rangle_{\\mathrm{A}}\\otimes \\vert 0\\rangle_{\\mathrm{B}}=\\begin{bmatrix} 1 & 0 & 0 &0\\end{bmatrix}^T,\n",
    "$$"
   ]
  },
  {
   "cell_type": "markdown",
   "id": "f457c797",
   "metadata": {
    "editable": true
   },
   "source": [
    "and"
   ]
  },
  {
   "cell_type": "markdown",
   "id": "9ab94388",
   "metadata": {
    "editable": true
   },
   "source": [
    "$$\n",
    "\\vert 10\\rangle = \\vert 1\\rangle_{\\mathrm{A}}\\otimes \\vert 0\\rangle_{\\mathrm{B}}=\\begin{bmatrix} 0 & 1 & 0 &0\\end{bmatrix}^T,\n",
    "$$"
   ]
  },
  {
   "cell_type": "markdown",
   "id": "67378f74",
   "metadata": {
    "editable": true
   },
   "source": [
    "and"
   ]
  },
  {
   "cell_type": "markdown",
   "id": "0baf806f",
   "metadata": {
    "editable": true
   },
   "source": [
    "$$\n",
    "\\vert 01\\rangle = \\vert 0\\rangle_{\\mathrm{A}}\\otimes \\vert 1\\rangle_{\\mathrm{B}}=\\begin{bmatrix} 0 & 0 & 1 &0\\end{bmatrix}^T,\n",
    "$$"
   ]
  },
  {
   "cell_type": "markdown",
   "id": "66de68aa",
   "metadata": {
    "editable": true
   },
   "source": [
    "and finally"
   ]
  },
  {
   "cell_type": "markdown",
   "id": "324c6ae2",
   "metadata": {
    "editable": true
   },
   "source": [
    "$$\n",
    "\\vert 11\\rangle = \\vert 1\\rangle_{\\mathrm{A}}\\otimes \\vert 1\\rangle_{\\mathrm{B}}=\\begin{bmatrix} 0 & 0 & 0 &1\\end{bmatrix}^T.\n",
    "$$"
   ]
  },
  {
   "cell_type": "markdown",
   "id": "c46d012e",
   "metadata": {
    "editable": true
   },
   "source": [
    "These computational basis states define also the eigenstates of the non-interacting  Hamiltonian"
   ]
  },
  {
   "cell_type": "markdown",
   "id": "2ec816e5",
   "metadata": {
    "editable": true
   },
   "source": [
    "$$\n",
    "H_0\\vert 00 \\rangle = \\epsilon_{00}\\vert 00 \\rangle,\n",
    "$$"
   ]
  },
  {
   "cell_type": "markdown",
   "id": "35aa9d84",
   "metadata": {
    "editable": true
   },
   "source": [
    "$$\n",
    "H_0\\vert 10 \\rangle = \\epsilon_{10}\\vert 10 \\rangle,\n",
    "$$"
   ]
  },
  {
   "cell_type": "markdown",
   "id": "5065d164",
   "metadata": {
    "editable": true
   },
   "source": [
    "$$\n",
    "H_0\\vert 01 \\rangle = \\epsilon_{01}\\vert 01 \\rangle,\n",
    "$$"
   ]
  },
  {
   "cell_type": "markdown",
   "id": "7c098a4b",
   "metadata": {
    "editable": true
   },
   "source": [
    "and"
   ]
  },
  {
   "cell_type": "markdown",
   "id": "76869c7d",
   "metadata": {
    "editable": true
   },
   "source": [
    "$$\n",
    "H_0\\vert 11 \\rangle = \\epsilon_{11}\\vert 11 \\rangle.\n",
    "$$"
   ]
  },
  {
   "cell_type": "markdown",
   "id": "de9359a9",
   "metadata": {
    "editable": true
   },
   "source": [
    "The interacting part of the Hamiltonian $H_{\\mathrm{I}}$ is given by the tensor product of two $\\sigma_x$ and $\\sigma_z$  matrices, respectively, that is"
   ]
  },
  {
   "cell_type": "markdown",
   "id": "4a14a8fa",
   "metadata": {
    "editable": true
   },
   "source": [
    "$$\n",
    "H_{\\mathrm{I}}=H_x\\sigma_x\\otimes\\sigma_x+H_z\\sigma_z\\otimes\\sigma_z,\n",
    "$$"
   ]
  },
  {
   "cell_type": "markdown",
   "id": "dbfa9468",
   "metadata": {
    "editable": true
   },
   "source": [
    "where $H_x$ and $H_z$ are interaction strength parameters. Our final Hamiltonian matrix is given by"
   ]
  },
  {
   "cell_type": "markdown",
   "id": "8517e5a6",
   "metadata": {
    "editable": true
   },
   "source": [
    "$$\n",
    "\\boldsymbol{H}=\\begin{bmatrix} \\epsilon_{00}+H_z & 0 & 0 & H_x \\\\\n",
    "                       0  & \\epsilon_{10}-H_z & H_x & 0 \\\\\n",
    "\t\t       0 & H_x & \\epsilon_{01}-H_z & 0 \\\\\n",
    "\t\t       H_x & 0 & 0 & \\epsilon_{11} +H_z \\end{bmatrix}.\n",
    "$$"
   ]
  },
  {
   "cell_type": "markdown",
   "id": "3ba04279",
   "metadata": {
    "editable": true
   },
   "source": [
    "The four eigenstates of the above Hamiltonian matrix can in turn be used to\n",
    "define density matrices. As an example, the density matrix of the\n",
    "first eigenstate (lowest energy $E_0$) $\\Psi_0$ is"
   ]
  },
  {
   "cell_type": "markdown",
   "id": "11eaf88f",
   "metadata": {
    "editable": true
   },
   "source": [
    "$$\n",
    "\\rho_0=\\left(\\alpha_{00}\\vert 00 \\rangle\\langle 00\\vert+\\alpha_{10}\\vert 10 \\rangle\\langle 10\\vert+\\alpha_{01}\\vert 01 \\rangle\\langle 01\\vert+\\alpha_{11}\\vert 11 \\rangle\\langle 11\\vert\\right),\n",
    "$$"
   ]
  },
  {
   "cell_type": "markdown",
   "id": "032cbc12",
   "metadata": {
    "editable": true
   },
   "source": [
    "where the coefficients $\\alpha_{ij}$ are the eigenvector coefficients\n",
    "resulting from the solution of the above eigenvalue problem."
   ]
  },
  {
   "cell_type": "code",
   "execution_count": 2,
   "id": "0999326a",
   "metadata": {
    "collapsed": false,
    "editable": true
   },
   "outputs": [],
   "source": [
    "%matplotlib inline\n",
    "from  matplotlib import pyplot as plt\n",
    "import numpy as np\n",
    "from scipy.linalg import logm, expm\n",
    "def log2M(a): # base 2 matrix logarithm\n",
    "    return logm(a)/np.log(2.0)\n",
    "\n",
    "dim = 4\n",
    "Hamiltonian = np.zeros((dim,dim))\n",
    "#number of lambda values\n",
    "n = 40\n",
    "lmbd = np.linspace(0.0,1.0,n)\n",
    "Hx = 2.0\n",
    "Hz = 3.0\n",
    "# Non-diagonal part as sigma_x tensor product with sigma_x\n",
    "sx = np.matrix([[0,1],[1,0]])\n",
    "sx2 = Hx*np.kron(sx, sx)\n",
    "# Diagonal part as sigma_z tensor product with sigma_z\n",
    "sz = np.matrix([[1,0],[0,-1]])\n",
    "sz2 = Hz*np.kron(sz, sz)\n",
    "noninteracting = [0.0, 2.5, 6.5, 7.0]\n",
    "D = np.diag(noninteracting)\n",
    "Eigenvalue = np.zeros((dim,n))\n",
    "\n",
    "for i in range(n): \n",
    "    Hamiltonian = lmbd[i]*(sx2+sz2)+D\n",
    "    # diagonalize and obtain eigenvalues, not necessarily sorted\n",
    "    EigValues, EigVectors = np.linalg.eig(Hamiltonian)\n",
    "    # sort eigenvectors and eigenvalues\n",
    "    permute = EigValues.argsort()\n",
    "    EigValues = EigValues[permute]\n",
    "    EigVectors = EigVectors[:,permute]\n",
    "    # Compute density matrix for selected system state, here ground state\n",
    "    DensityMatrix = np.zeros((dim,dim))\n",
    "    DensityMatrix = np.outer(EigVectors[:,0],EigVectors[:,0])\n",
    "    # Plotting eigenvalues \n",
    "    Eigenvalue[0,i] = EigValues[0]\n",
    "    Eigenvalue[1,i] = EigValues[1]\n",
    "    Eigenvalue[2,i] = EigValues[2]\n",
    "    Eigenvalue[3,i] = EigValues[3]\n",
    "plt.plot(lmbd, Eigenvalue[0,:] ,'b-',lmbd, Eigenvalue[1,:],'g-',)\n",
    "plt.plot(lmbd, Eigenvalue[2,:] ,'r-',lmbd, Eigenvalue[3,:],'y-',)\n",
    "plt.xlabel('$\\lambda$')\n",
    "plt.ylabel('Eigenvalues')\n",
    "plt.show()"
   ]
  },
  {
   "cell_type": "markdown",
   "id": "834d0bd2",
   "metadata": {
    "editable": true
   },
   "source": [
    "## First exercise set\n",
    "\n",
    "The exercises we present each week are meant to build the basis for\n",
    "the two projects we will work on during the semester.  The first\n",
    "project deals with implementing the so-called\n",
    "**Variational Quantum Eigensolver** algorithm for finding the eigenvalues and eigenvectors of selected Hamiltonians.\n",
    "Feel free to use the above codes in order to get started."
   ]
  },
  {
   "cell_type": "markdown",
   "id": "3a2ae092",
   "metadata": {
    "editable": true
   },
   "source": [
    "## Exercise 1: One-qubit basis and  Pauli matrices\n",
    "\n",
    "Write a function which sets up a one-qubit basis and apply the various Pauli matrices to these basis states."
   ]
  },
  {
   "cell_type": "markdown",
   "id": "c5d3d36d",
   "metadata": {
    "editable": true
   },
   "source": [
    "## Exercise 2: Hadamard and Phase gates\n",
    "\n",
    "Apply the Hadamard and Phase gates to the same one-qubit basis states and study their actions on these states."
   ]
  },
  {
   "cell_type": "markdown",
   "id": "2d93507b",
   "metadata": {
    "editable": true
   },
   "source": [
    "## Exercise 3: Rewrite simple one-qubit Hamiltonian in terms of Pauli matrices\n",
    "\n",
    "We define a  symmetric matrix  $H\\in {\\mathbb{R}}^{2\\times 2}$"
   ]
  },
  {
   "cell_type": "markdown",
   "id": "76eed381",
   "metadata": {
    "editable": true
   },
   "source": [
    "$$\n",
    "H = \\begin{bmatrix} H_{11} & H_{12} \\\\ H_{21} & H_{22}\n",
    "\\end{bmatrix},\n",
    "$$"
   ]
  },
  {
   "cell_type": "markdown",
   "id": "c3bc1c6f",
   "metadata": {
    "editable": true
   },
   "source": [
    "We  let $H = H_0 + H_I$, where"
   ]
  },
  {
   "cell_type": "markdown",
   "id": "5356239c",
   "metadata": {
    "editable": true
   },
   "source": [
    "$$\n",
    "H_0= \\begin{bmatrix} E_1 & 0 \\\\ 0 & E_2\\end{bmatrix},\n",
    "$$"
   ]
  },
  {
   "cell_type": "markdown",
   "id": "3553a8ad",
   "metadata": {
    "editable": true
   },
   "source": [
    "is a diagonal matrix. Similarly,"
   ]
  },
  {
   "cell_type": "markdown",
   "id": "bf0eb25d",
   "metadata": {
    "editable": true
   },
   "source": [
    "$$\n",
    "H_I= \\begin{bmatrix} V_{11} & V_{12} \\\\ V_{21} & V_{22}\\end{bmatrix},\n",
    "$$"
   ]
  },
  {
   "cell_type": "markdown",
   "id": "369c449a",
   "metadata": {
    "editable": true
   },
   "source": [
    "where $V_{ij}$ represent various interaction matrix elements.\n",
    "We can view $H_0$ as the non-interacting solution"
   ]
  },
  {
   "cell_type": "markdown",
   "id": "c1f79f1e",
   "metadata": {
    "editable": true
   },
   "source": [
    "<!-- Equation labels as ordinary links -->\n",
    "<div id=\"_auto5\"></div>\n",
    "\n",
    "$$\n",
    "\\begin{equation}\n",
    "       H_0\\vert 0 \\rangle =E_1\\vert 0 \\rangle,\n",
    "\\label{_auto5} \\tag{9}\n",
    "\\end{equation}\n",
    "$$"
   ]
  },
  {
   "cell_type": "markdown",
   "id": "31ec5f52",
   "metadata": {
    "editable": true
   },
   "source": [
    "and"
   ]
  },
  {
   "cell_type": "markdown",
   "id": "b010dd0f",
   "metadata": {
    "editable": true
   },
   "source": [
    "<!-- Equation labels as ordinary links -->\n",
    "<div id=\"_auto6\"></div>\n",
    "\n",
    "$$\n",
    "\\begin{equation}\n",
    "       H_0\\vert 1\\rangle =E_2\\vert 1\\rangle,\n",
    "\\label{_auto6} \\tag{10}\n",
    "\\end{equation}\n",
    "$$"
   ]
  },
  {
   "cell_type": "markdown",
   "id": "4125693c",
   "metadata": {
    "editable": true
   },
   "source": [
    "where we have defined the orthogonal computational one-qubit basis states $\\vert 0\\rangle$ and $\\vert 1\\rangle$."
   ]
  },
  {
   "cell_type": "markdown",
   "id": "c973b4ea",
   "metadata": {
    "editable": true
   },
   "source": [
    "**a)**\n",
    "Show that you can rewrite the above Hamiltonian in terms of the Pauli $x$ and $z$ matrices\n",
    "\n",
    "<!-- --- begin solution of exercise --- -->\n",
    "**Solution.**\n",
    "We rewrite $H$ (and $H_0$ and $H_I$)  via Pauli matrices"
   ]
  },
  {
   "cell_type": "markdown",
   "id": "e851050f",
   "metadata": {
    "editable": true
   },
   "source": [
    "$$\n",
    "H_0 = \\mathcal{E} I + \\Omega \\sigma_z, \\quad \\mathcal{E} = \\frac{E_1\n",
    "  + E_2}{2}, \\; \\Omega = \\frac{E_1-E_2}{2},\n",
    "$$"
   ]
  },
  {
   "cell_type": "markdown",
   "id": "875cd8cf",
   "metadata": {
    "editable": true
   },
   "source": [
    "and"
   ]
  },
  {
   "cell_type": "markdown",
   "id": "c391547c",
   "metadata": {
    "editable": true
   },
   "source": [
    "$$\n",
    "H_I = c \\boldsymbol{I} +\\omega_z\\sigma_z + \\omega_x\\sigma_x,\n",
    "$$"
   ]
  },
  {
   "cell_type": "markdown",
   "id": "cce5e935",
   "metadata": {
    "editable": true
   },
   "source": [
    "with $c = (V_{11}+V_{22})/2$, $\\omega_z = (V_{11}-V_{22})/2$ and $\\omega_x = V_{12}=V_{21}$.\n",
    "Study the behavior of these eigenstates as functions of the interaction strength $\\lambda$.\n",
    "<!-- --- end solution of exercise --- -->"
   ]
  },
  {
   "cell_type": "markdown",
   "id": "49951f80",
   "metadata": {
    "editable": true
   },
   "source": [
    "## Exercise 4: Develop code for two and more qubit basis sets\n",
    "\n",
    "Using the one-qubit basis write a code which sets up a two-qubit basis\n",
    "and encodes this basis."
   ]
  },
  {
   "cell_type": "markdown",
   "id": "8d4a3c41",
   "metadata": {
    "editable": true
   },
   "source": [
    "## Exercise 5: Two-qubit Hamiltonian\n",
    "\n",
    "Use the Hamiltonian for the two-qubit example to find the eigenpairs\n",
    "as functions of the interaction strength $\\lambda$ and study the final\n",
    "eigenvectors as functions of the admixture of the original basis\n",
    "states."
   ]
  },
  {
   "cell_type": "markdown",
   "id": "935a3d34",
   "metadata": {
    "editable": true
   },
   "source": [
    "## Reminder on density matrices and traces\n",
    "\n",
    "We have the spectral decomposition of a given operator $\\boldsymbol{A}$ given by"
   ]
  },
  {
   "cell_type": "markdown",
   "id": "a6d16f03",
   "metadata": {
    "editable": true
   },
   "source": [
    "$$\n",
    "\\boldsymbol{A}=\\sum_i\\lambda_i\\vert i \\rangle\\langle i\\vert,\n",
    "$$"
   ]
  },
  {
   "cell_type": "markdown",
   "id": "8282b70c",
   "metadata": {
    "editable": true
   },
   "source": [
    "with the ONB $\\vert i\\rangle$ being eigenvectors of $\\boldsymbol{A}$ and $\\lambda_i$ being the eigenvalues. Similarly, a operator which is a function of $\\boldsymbol{A}$ is given by"
   ]
  },
  {
   "cell_type": "markdown",
   "id": "d6ed5ca0",
   "metadata": {
    "editable": true
   },
   "source": [
    "$$\n",
    "f(\\boldsymbol{A})=\\sum_if(\\boldsymbol{A})\\vert i \\rangle\\langle i\\vert.\n",
    "$$"
   ]
  },
  {
   "cell_type": "markdown",
   "id": "86359275",
   "metadata": {
    "editable": true
   },
   "source": [
    "The trace of a product of matrices is cyclic, that is"
   ]
  },
  {
   "cell_type": "markdown",
   "id": "e1db04a1",
   "metadata": {
    "editable": true
   },
   "source": [
    "$$\n",
    "\\mathrm{tr}[\\boldsymbol{ABC}])=\\mathrm{tr}[\\boldsymbol{BCA}])=\\mathrm{tr}[\\boldsymbol{CBA}]),\n",
    "$$"
   ]
  },
  {
   "cell_type": "markdown",
   "id": "52ac029c",
   "metadata": {
    "editable": true
   },
   "source": [
    "and we have also"
   ]
  },
  {
   "cell_type": "markdown",
   "id": "aec3379a",
   "metadata": {
    "editable": true
   },
   "source": [
    "$$\n",
    "\\mathrm{tr}[\\boldsymbol{A}\\vert \\psi\\rangle\\langle\\psi\\vert])=\\langle\\psi\\vert\\boldsymbol{A}\\vert\\psi\\rangle.\n",
    "$$"
   ]
  },
  {
   "cell_type": "markdown",
   "id": "6abeba99",
   "metadata": {
    "editable": true
   },
   "source": [
    "## Definition of density matrix\n",
    "\n",
    "Using the spectral decomposition we defined also the density matrix as"
   ]
  },
  {
   "cell_type": "markdown",
   "id": "733a1aab",
   "metadata": {
    "editable": true
   },
   "source": [
    "$$\n",
    "\\rho = \\sum_i p_i\\vert i \\rangle\\langle i\\vert,\n",
    "$$"
   ]
  },
  {
   "cell_type": "markdown",
   "id": "7f07fcdb",
   "metadata": {
    "editable": true
   },
   "source": [
    "where the probability $p_i$ are the eigenvalues of the density linked with the ONB $\\vert i \\rangle$.\n",
    "\n",
    "The trace of the density matrix is $\\mathrm{tr}\\rho=1$ and it is invariant under unitary transformations\n",
    "$\\vert \\psi_i'\\rangle = \\boldsymbol{U}\\vert \\psi_i\\rangle$.\n",
    "The unitary transformation of the density matrix gives, with\n",
    "$\\boldsymbol{U}^{\\dagger}\\boldsymbol{U}=\\boldsymbol{U}^{T}\\boldsymbol{U}=\\boldsymbol{I}$,"
   ]
  },
  {
   "cell_type": "markdown",
   "id": "b93f4978",
   "metadata": {
    "editable": true
   },
   "source": [
    "$$\n",
    "\\boldsymbol{U}\\rho\\boldsymbol{U}^{\\dagger}=\\sum_ipi_i\\boldsymbol{U}\\vert \\psi_i\\rangle\\langle\\psi_i\\vert\\boldsymbol{U}^{\\dagger},\n",
    "$$"
   ]
  },
  {
   "cell_type": "markdown",
   "id": "a0bb7468",
   "metadata": {
    "editable": true
   },
   "source": [
    "and with the unitary transformation it is easy to show that thet trace of the transformaed density matrix is equal to one,"
   ]
  },
  {
   "cell_type": "markdown",
   "id": "211d7516",
   "metadata": {
    "editable": true
   },
   "source": [
    "$$\n",
    "\\mathrm{tr}\\left[ \\boldsymbol{U}\\rho\\boldsymbol{U}^{\\dagger}\\right]=\\mathrm{tr}\\left[ \\boldsymbol{U}\\boldsymbol{U}^{\\dagger}\\rho\\right]=1.\n",
    "$$"
   ]
  },
  {
   "cell_type": "markdown",
   "id": "ebad184c",
   "metadata": {
    "editable": true
   },
   "source": [
    "## Discussion of exercises from last week\n",
    "\n",
    "[See jupyter-notebook from week 2](https://github.com/CompPhysics/QuantumComputingMachineLearning/blob/gh-pages/doc/pub/week2/ipynb/week2.ipynb)"
   ]
  },
  {
   "cell_type": "markdown",
   "id": "aae4eb93",
   "metadata": {
    "editable": true
   },
   "source": [
    "## First entanglement encounter, two qubit system\n",
    "\n",
    "We define a system that can be thought of as composed of two subsystems\n",
    "$A$ and $B$. Each subsystem has computational basis states"
   ]
  },
  {
   "cell_type": "markdown",
   "id": "a321154f",
   "metadata": {
    "editable": true
   },
   "source": [
    "$$\n",
    "\\vert 0\\rangle_{\\mathrm{A,B}}=\\begin{bmatrix} 1 & 0\\end{bmatrix}^T \\hspace{1cm} \\vert 1\\rangle_{\\mathrm{A,B}}=\\begin{bmatrix} 0 & 1\\end{bmatrix}^T.\n",
    "$$"
   ]
  },
  {
   "cell_type": "markdown",
   "id": "487c47f4",
   "metadata": {
    "editable": true
   },
   "source": [
    "The subsystems could represent single particles or composite many-particle systems of a given symmetry."
   ]
  },
  {
   "cell_type": "markdown",
   "id": "5a9f5364",
   "metadata": {
    "editable": true
   },
   "source": [
    "## Computational basis\n",
    "This leads to the many-body computational basis states"
   ]
  },
  {
   "cell_type": "markdown",
   "id": "271fa13e",
   "metadata": {
    "editable": true
   },
   "source": [
    "$$\n",
    "\\vert 00\\rangle = \\vert 0\\rangle_{\\mathrm{A}}\\otimes \\vert 0\\rangle_{\\mathrm{B}}=\\begin{bmatrix} 1 & 0 & 0 &0\\end{bmatrix}^T,\n",
    "$$"
   ]
  },
  {
   "cell_type": "markdown",
   "id": "22cc769d",
   "metadata": {
    "editable": true
   },
   "source": [
    "and"
   ]
  },
  {
   "cell_type": "markdown",
   "id": "56f4b9d4",
   "metadata": {
    "editable": true
   },
   "source": [
    "$$\n",
    "\\vert 01\\rangle = \\vert 0\\rangle_{\\mathrm{A}}\\otimes \\vert 1\\rangle_{\\mathrm{B}}=\\begin{bmatrix} 0 & 1 & 0 &0\\end{bmatrix}^T,\n",
    "$$"
   ]
  },
  {
   "cell_type": "markdown",
   "id": "ea377a1b",
   "metadata": {
    "editable": true
   },
   "source": [
    "and"
   ]
  },
  {
   "cell_type": "markdown",
   "id": "e1c581bb",
   "metadata": {
    "editable": true
   },
   "source": [
    "$$\n",
    "\\vert 10\\rangle = \\vert 1\\rangle_{\\mathrm{A}}\\otimes \\vert 0\\rangle_{\\mathrm{B}}=\\begin{bmatrix} 0 & 0 & 1 &0\\end{bmatrix}^T,\n",
    "$$"
   ]
  },
  {
   "cell_type": "markdown",
   "id": "5e898f27",
   "metadata": {
    "editable": true
   },
   "source": [
    "and finally"
   ]
  },
  {
   "cell_type": "markdown",
   "id": "a91224a4",
   "metadata": {
    "editable": true
   },
   "source": [
    "$$\n",
    "\\vert 11\\rangle = \\vert 1\\rangle_{\\mathrm{A}}\\otimes \\vert 1\\rangle_{\\mathrm{B}}=\\begin{bmatrix} 0 & 0 & 0 &1\\end{bmatrix}^T.\n",
    "$$"
   ]
  },
  {
   "cell_type": "markdown",
   "id": "cf41d5ef",
   "metadata": {
    "editable": true
   },
   "source": [
    "## Bell states\n",
    "\n",
    "The above computational basis states, which define an ONB, can in turn\n",
    "be used to define another ONB. As an example, consider the so-called\n",
    "Bell states"
   ]
  },
  {
   "cell_type": "markdown",
   "id": "2abcc2f5",
   "metadata": {
    "editable": true
   },
   "source": [
    "$$\n",
    "\\vert \\Phi^+\\rangle = \\frac{1}{\\sqrt{2}}\\left[\\vert 00\\rangle +\\vert 11\\rangle\\right]=\\frac{1}{\\sqrt{2}}\\begin{bmatrix} 1 \\\\ 0 \\\\ 0 \\\\ 1\\end{bmatrix},\n",
    "$$"
   ]
  },
  {
   "cell_type": "markdown",
   "id": "6b4cdfd3",
   "metadata": {
    "editable": true
   },
   "source": [
    "$$\n",
    "\\vert \\Phi^-\\rangle = \\frac{1}{\\sqrt{2}}\\left[\\vert 00\\rangle -\\vert 11\\rangle\\right]=\\frac{1}{\\sqrt{2}}\\begin{bmatrix} 1 \\\\ 0 \\\\ 0 \\\\ -1\\end{bmatrix},\n",
    "$$"
   ]
  },
  {
   "cell_type": "markdown",
   "id": "cb31e9a0",
   "metadata": {
    "editable": true
   },
   "source": [
    "## The next two"
   ]
  },
  {
   "cell_type": "markdown",
   "id": "8d8daf0f",
   "metadata": {
    "editable": true
   },
   "source": [
    "$$\n",
    "\\vert \\Psi^+\\rangle = \\frac{1}{\\sqrt{2}}\\left[\\vert 10\\rangle +\\vert 01\\rangle\\right]=\\frac{1}{\\sqrt{2}}\\begin{bmatrix} 0 \\\\ 1 \\\\ 1 \\\\ 0\\end{bmatrix},\n",
    "$$"
   ]
  },
  {
   "cell_type": "markdown",
   "id": "89ba0fcb",
   "metadata": {
    "editable": true
   },
   "source": [
    "and"
   ]
  },
  {
   "cell_type": "markdown",
   "id": "60acea39",
   "metadata": {
    "editable": true
   },
   "source": [
    "$$\n",
    "\\vert \\Psi^-\\rangle = \\frac{1}{\\sqrt{2}}\\left[\\vert 10\\rangle -\\vert 01\\rangle\\right]=\\frac{1}{\\sqrt{2}}\\begin{bmatrix} 0 \\\\ 1 \\\\ -1 \\\\ 0\\end{bmatrix}.\n",
    "$$"
   ]
  },
  {
   "cell_type": "markdown",
   "id": "b2ecea1f",
   "metadata": {
    "editable": true
   },
   "source": [
    "It is easy to convince oneself that these states also form an orthonormal basis."
   ]
  },
  {
   "cell_type": "markdown",
   "id": "25e1f429",
   "metadata": {
    "editable": true
   },
   "source": [
    "## Measurement\n",
    "Measuring one of the qubits of one of the above Bell states,\n",
    "automatically determines, as we will see below, the state of the\n",
    "second qubit. To convince ourselves about this, let us assume we perform a measurement on the qubit in system $A$ by introducing the projections with outcomes $0$ or $1$ as"
   ]
  },
  {
   "cell_type": "markdown",
   "id": "8c93332d",
   "metadata": {
    "editable": true
   },
   "source": [
    "$$\n",
    "\\boldsymbol{P}_0=\\vert 0\\rangle\\langle 0\\vert_A\\otimes \\boldsymbol{I}_B=\\begin{bmatrix} 1 & 0\\\\ 0 & 0\\end{bmatrix}\\otimes\\begin{bmatrix} 1& 0 \\\\ 0 & 1\\end{bmatrix}=\\begin{bmatrix} 1 & 0 & 0 & 0 \\\\ 0 & 1 & 0 & 0 \\\\ 0 & 0 & 0 & 0 \\\\ 0 & 0 & 0 & 0\\end{bmatrix},\n",
    "$$"
   ]
  },
  {
   "cell_type": "markdown",
   "id": "86c4f9df",
   "metadata": {
    "editable": true
   },
   "source": [
    "for the projection of the $\\vert 0 \\rangle$ state in system $A$ and similarly"
   ]
  },
  {
   "cell_type": "markdown",
   "id": "22a94635",
   "metadata": {
    "editable": true
   },
   "source": [
    "$$\n",
    "\\boldsymbol{P}_1=\\vert 1\\rangle\\langle 1\\vert_A\\otimes \\boldsymbol{I}_B=\\begin{bmatrix} 0 & 0\\\\ 0 & 1\\end{bmatrix}\\otimes\\begin{bmatrix} 1& 0 \\\\ 0 & 1\\end{bmatrix}=\\begin{bmatrix} 0 & 0 & 0 & 0 \\\\ 0 & 0 & 0 & 0 \\\\ 0 & 0 & 1 & 0 \\\\ 0 & 0 & 0 & 1\\end{bmatrix},\n",
    "$$"
   ]
  },
  {
   "cell_type": "markdown",
   "id": "50a71312",
   "metadata": {
    "editable": true
   },
   "source": [
    "for the projection of the $\\vert 1 \\rangle$ state in system $A$."
   ]
  },
  {
   "cell_type": "markdown",
   "id": "b0f6ea35",
   "metadata": {
    "editable": true
   },
   "source": [
    "## Probability of  outcome\n",
    "\n",
    "We can then calculate the probability for the various outcomes by\n",
    "computing for example the probability for measuring qubit $0$"
   ]
  },
  {
   "cell_type": "markdown",
   "id": "55f60c50",
   "metadata": {
    "editable": true
   },
   "source": [
    "$$\n",
    "\\langle \\Phi^+\\vert \\boldsymbol{P}_0\\vert \\Phi^+\\rangle = \\frac{1}{2} \\left[\\langle 00\\vert +\\langle 11\\vert\\right]\\begin{bmatrix} 1 & 0 & 0 & 0 \\\\ 0 & 1 & 0 & 0 \\\\ 0 & 0 & 0 & 0 \\\\ 0 & 0 & 0 & 0\\end{bmatrix}\\left[\\vert 00\\rangle +\\vert 11\\rangle\\right]=\\frac{1}{2}.\n",
    "$$"
   ]
  },
  {
   "cell_type": "markdown",
   "id": "fcb772ca",
   "metadata": {
    "editable": true
   },
   "source": [
    "Similarly, we obtain"
   ]
  },
  {
   "cell_type": "markdown",
   "id": "1b614973",
   "metadata": {
    "editable": true
   },
   "source": [
    "$$\n",
    "\\langle \\Phi^+\\vert \\boldsymbol{P}_1\\vert \\Phi^+\\rangle = \\frac{1}{2}\\left[\\langle 00\\vert +\\langle 11\\vert\\right]\\begin{bmatrix} 0 & 0 & 0 & 0 \\\\ 0 & 0 & 0 & 0 \\\\ 0 & 0 & 1 & 0 \\\\ 0 & 0 & 0 & 1\\end{bmatrix}\\left[\\vert 00\\rangle +\\vert 11\\rangle\\right]=\\frac{1}{2}.\n",
    "$$"
   ]
  },
  {
   "cell_type": "markdown",
   "id": "8e427a6f",
   "metadata": {
    "editable": true
   },
   "source": [
    "## States after measurement\n",
    "After the above measurements the system is in the states"
   ]
  },
  {
   "cell_type": "markdown",
   "id": "b41e7889",
   "metadata": {
    "editable": true
   },
   "source": [
    "$$\n",
    "\\vert \\Phi'_0 \\rangle = \\sqrt{2}\\left[\\vert 0\\rangle\\langle 0\\vert_A\\otimes \\boldsymbol{I}_B\\right]\\vert\\Phi^+\\rangle=\\vert 00\\rangle,\n",
    "$$"
   ]
  },
  {
   "cell_type": "markdown",
   "id": "bd37bf24",
   "metadata": {
    "editable": true
   },
   "source": [
    "and"
   ]
  },
  {
   "cell_type": "markdown",
   "id": "d6d90ff0",
   "metadata": {
    "editable": true
   },
   "source": [
    "$$\n",
    "\\vert \\Phi'_1 \\rangle = \\sqrt{2}\\left[\\vert 1\\rangle\\langle 1\\vert_A\\otimes \\boldsymbol{I}_B\\right]\\vert\\Phi^+\\rangle=\\vert 11\\rangle.\n",
    "$$"
   ]
  },
  {
   "cell_type": "markdown",
   "id": "3ccd2ccd",
   "metadata": {
    "editable": true
   },
   "source": [
    "We see from the last two equations that the state of the second qubit\n",
    "is determined even though the measurement has only taken place locally\n",
    "on system $A$."
   ]
  },
  {
   "cell_type": "markdown",
   "id": "257a61fc",
   "metadata": {
    "editable": true
   },
   "source": [
    "## Other states\n",
    "\n",
    "If we on the other hand consider a state like"
   ]
  },
  {
   "cell_type": "markdown",
   "id": "301564e1",
   "metadata": {
    "editable": true
   },
   "source": [
    "$$\n",
    "\\vert 00 \\rangle = \\vert 0\\rangle_A\\otimes \\vert 0\\rangle_B,\n",
    "$$"
   ]
  },
  {
   "cell_type": "markdown",
   "id": "3a5f45e1",
   "metadata": {
    "editable": true
   },
   "source": [
    "this is a pure **product** state of the single-qubit, or single-particle\n",
    "states, of two qubits (particles) in system $A$ and system $B$,\n",
    "respectively. We call such a state for a **pure product state**.  Quantum states\n",
    "that cannot be written as a mixture of other states are called pure\n",
    "quantum states or just product states, while all other states are called mixed quantum states."
   ]
  },
  {
   "cell_type": "markdown",
   "id": "3969c2c1",
   "metadata": {
    "editable": true
   },
   "source": [
    "## More on Bell states\n",
    "A state like one of the Bell states (where we introduce the subscript $AB$ to indicate that the state is composed of single states from two subsystem)"
   ]
  },
  {
   "cell_type": "markdown",
   "id": "62ec3949",
   "metadata": {
    "editable": true
   },
   "source": [
    "$$\n",
    "\\vert \\Phi^+\\rangle = \\frac{1}{\\sqrt{2}}\\left[\\vert 00\\rangle_{AB} +\\vert 11\\rangle_{AB}\\right],\n",
    "$$"
   ]
  },
  {
   "cell_type": "markdown",
   "id": "343c1fbc",
   "metadata": {
    "editable": true
   },
   "source": [
    "is on the other hand a mixed state and we cannot determine whether system $A$ is in a state $0$ or $1$. The above state is a superposition of the states $\\vert 00\\rangle_{AB}$ and $\\vert 11\\rangle_{AB}$ and it is not possible to determine individual states of systems $A$ and $B$, respectively."
   ]
  },
  {
   "cell_type": "markdown",
   "id": "9e5ebb98",
   "metadata": {
    "editable": true
   },
   "source": [
    "## Entanglement\n",
    "\n",
    "We say that the state is entangled. This yields the following\n",
    "definition of entangled states: a pure bipartite state $\\vert\n",
    "\\psi\\rangle_{AB}$ is entangled if it cannot be written as a product\n",
    "state $\\vert\\psi\\rangle_{A}\\otimes\\vert\\phi\\rangle_B$ for any choice\n",
    "of the states $\\vert\\psi\\rangle_{A}$ and $\\vert\\phi\\rangle_B$. Otherwise we say the state is separable."
   ]
  },
  {
   "cell_type": "markdown",
   "id": "b65b17e6",
   "metadata": {
    "editable": true
   },
   "source": [
    "## Examples of entanglement\n",
    "\n",
    "As an example, considere an ansatz for the ground state of the helium\n",
    "atom with two electrons in the lowest $1s$ state (hydrogen-like\n",
    "orbits) and with spin $s=1/2$ and spin projections $m_s=-1/2$ and\n",
    "$m_s=1/2$.  The two single-particle states are given by the tensor\n",
    "products of their spatial $1s$ single-particle states\n",
    "$\\vert\\phi_{1s}\\rangle$ and and their spin up or spin down spinors\n",
    "$\\vert\\xi_{sm_s}\\rangle$. The ansatz for the ground state is given by a Slater\n",
    "determinant with total orbital momentum $L=l_1+l_2=0$ and totalt spin\n",
    "$S=s_1+s_2=0$, normally labeled as a spin-singlet state."
   ]
  },
  {
   "cell_type": "markdown",
   "id": "04df623c",
   "metadata": {
    "editable": true
   },
   "source": [
    "## Ground state of helium\n",
    "This ansatz\n",
    "for the ground state is then written as, using the compact notations"
   ]
  },
  {
   "cell_type": "markdown",
   "id": "3397749c",
   "metadata": {
    "editable": true
   },
   "source": [
    "$$\n",
    "\\vert \\psi_{i}\\rangle = \\vert\\phi_{1s}\\rangle_i\\otimes \\vert \\xi\\rangle_{s_im_{s_i}}=\\vert 1s,s,m_s\\rangle_i,\n",
    "$$"
   ]
  },
  {
   "cell_type": "markdown",
   "id": "1023004f",
   "metadata": {
    "editable": true
   },
   "source": [
    "with $i$ being electron $1$ or $2$, and the tensor product of the two single-electron states as\n",
    "$\\vert 1s,s,m_s\\rangle_1\\vert 1s,s,m_s\\rangle_2=\\vert 1s,s,m_s\\rangle_1\\otimes \\vert 1s,s,m_s\\rangle_2$, we arrive at"
   ]
  },
  {
   "cell_type": "markdown",
   "id": "4ea05ab6",
   "metadata": {
    "editable": true
   },
   "source": [
    "$$\n",
    "\\Psi(\\boldsymbol{r}_1,\\boldsymbol{r}_2;s_1,s_2)=\\frac{1}{\\sqrt{2}}\\left[\\vert 1s,1/2,1/2\\rangle_1\\vert 1s,1/2,-1/2\\rangle_2-\\vert 1s,1/2,-1/2\\rangle_1\\vert 1s,1/2,1/2\\rangle_2\\right].\n",
    "$$"
   ]
  },
  {
   "cell_type": "markdown",
   "id": "3f6d6742",
   "metadata": {
    "editable": true
   },
   "source": [
    "This is also an example of a state which cannot be written out as a pure state. We call this for an entangled state as well."
   ]
  },
  {
   "cell_type": "markdown",
   "id": "3808e12c",
   "metadata": {
    "editable": true
   },
   "source": [
    "## Maximally entangled\n",
    "\n",
    "A so-called maximally entangled state for a bipartite system has equal  probability amplitudes"
   ]
  },
  {
   "cell_type": "markdown",
   "id": "6511a2ea",
   "metadata": {
    "editable": true
   },
   "source": [
    "$$\n",
    "\\vert \\Psi \\rangle = \\frac{1}{\\sqrt{d}}\\sum_{i=0}^{d-1}\\vert ii\\rangle.\n",
    "$$"
   ]
  },
  {
   "cell_type": "markdown",
   "id": "1d61529f",
   "metadata": {
    "editable": true
   },
   "source": [
    "We call a bipartite state composed of systems $A$ and $B$ (these\n",
    "systems can be single-particle systems, or single-qubit systems\n",
    "representing low-lying states of complicated many-body systems) for\n",
    "separable if its density matrix $\\rho_{AB}$ can be written out as the\n",
    "tensor product of the individual density matrices $\\rho_A$ and\n",
    "$\\rho_B$, that is we have for a given probability distribution $p_i$"
   ]
  },
  {
   "cell_type": "markdown",
   "id": "d6e9a90c",
   "metadata": {
    "editable": true
   },
   "source": [
    "$$\n",
    "\\rho_{AB}=\\sum_ip_i\\rho_A(i)\\otimes \\rho_B(i).\n",
    "$$"
   ]
  },
  {
   "cell_type": "markdown",
   "id": "1a83d294",
   "metadata": {
    "editable": true
   },
   "source": [
    "## Schmidt decomposition\n",
    "If we cannot write the density matrix in this form, we say the system\n",
    "$AB$ is entangled. In order to see this, we can use the so-called\n",
    "Schmidt decomposition, which is essentially an application of the\n",
    "singular-value decomposition."
   ]
  },
  {
   "cell_type": "markdown",
   "id": "2d1c87e1",
   "metadata": {
    "editable": true
   },
   "source": [
    "## Pure states and Schmidt decomposition\n",
    "\n",
    "The Schmidt decomposition allows us to define a pure state in a\n",
    "bipartite Hilbert space composed of systems $A$ and $B$ as"
   ]
  },
  {
   "cell_type": "markdown",
   "id": "c2e19c3a",
   "metadata": {
    "editable": true
   },
   "source": [
    "$$\n",
    "\\vert\\psi\\rangle=\\sum_{i=0}^{d-1}\\sigma_i\\vert i\\rangle_A\\vert i\\rangle_B,\n",
    "$$"
   ]
  },
  {
   "cell_type": "markdown",
   "id": "0ed857d8",
   "metadata": {
    "editable": true
   },
   "source": [
    "where the amplitudes $\\sigma_i$ are real and positive and their\n",
    "squared values sum up to one, $\\sum_i\\sigma_i^2=1$. The states $\\vert\n",
    "i\\rangle_A$ and $\\vert i\\rangle_B$ form orthornormal bases for systems\n",
    "$A$ and $B$ respectively, the amplitudes $\\lambda_i$ are the so-called\n",
    "Schmidt coefficients and the Schmidt rank $d$ is equal to the number\n",
    "of Schmidt coefficients and is smaller or equal to the minimum\n",
    "dimensionality of system $A$ and system $B$, that is $d\\leq\n",
    "\\mathrm{min}(\\mathrm{dim}(A), \\mathrm{dim}(B))$."
   ]
  },
  {
   "cell_type": "markdown",
   "id": "880a4ca8",
   "metadata": {
    "editable": true
   },
   "source": [
    "## Proof of Schmidt decomposition\n",
    "\n",
    "The proof for the above decomposition is based on the singular-value\n",
    "decomposition. To see this, assume that we have two orthonormal bases\n",
    "sets for systems $A$ and $B$, respectively. That is we have two ONBs\n",
    "$\\vert i\\rangle_A$ and $\\vert j\\rangle_B$. We can always construct a\n",
    "product state (a pure state) as"
   ]
  },
  {
   "cell_type": "markdown",
   "id": "e80c5a5f",
   "metadata": {
    "editable": true
   },
   "source": [
    "$$\n",
    "\\vert\\psi \\rangle = \\sum_{ij} c_{ij}\\vert i\\rangle_A\\vert\n",
    "j\\rangle_B,\n",
    "$$"
   ]
  },
  {
   "cell_type": "markdown",
   "id": "4a919f7c",
   "metadata": {
    "editable": true
   },
   "source": [
    "where the coefficients $c_{ij}$ are the overlap coefficients which\n",
    "belong to a matrix $\\boldsymbol{C}$."
   ]
  },
  {
   "cell_type": "markdown",
   "id": "3ef111c5",
   "metadata": {
    "editable": true
   },
   "source": [
    "## Further parts of proof\n",
    "\n",
    "If we now assume that the\n",
    "dimensionalities of the two subsystems $A$ and $B$ are the same $d$,\n",
    "we can always rewrite the matrix $\\boldsymbol{C}$ in terms of a singular-value\n",
    "decomposition with unitary/orthogonal matrices $\\boldsymbol{U}$ and $\\boldsymbol{V}$\n",
    "of dimension $d\\times d$ and a matrix $\\boldsymbol{\\Sigma}$ which contains the\n",
    "(diagonal) singular values $\\sigma_0\\leq \\sigma_1 \\leq \\dots 0$ as"
   ]
  },
  {
   "cell_type": "markdown",
   "id": "457162a7",
   "metadata": {
    "editable": true
   },
   "source": [
    "$$\n",
    "\\boldsymbol{C}=\\boldsymbol{U}\\boldsymbol{\\Sigma}\\boldsymbol{V}^{\\dagger}.\n",
    "$$"
   ]
  },
  {
   "cell_type": "markdown",
   "id": "80c1b869",
   "metadata": {
    "editable": true
   },
   "source": [
    "## SVD parts in proof\n",
    "\n",
    "This means we can rewrite the coefficients $c_{ij}$ in terms of the singular-value decomposition"
   ]
  },
  {
   "cell_type": "markdown",
   "id": "d63d0605",
   "metadata": {
    "editable": true
   },
   "source": [
    "$$\n",
    "c_{ij}=\\sum_k u_{ik}\\sigma_kv_{kj},\n",
    "$$"
   ]
  },
  {
   "cell_type": "markdown",
   "id": "443864e7",
   "metadata": {
    "editable": true
   },
   "source": [
    "and inserting this in the definition of the pure state $\\vert \\psi\\rangle$ we have"
   ]
  },
  {
   "cell_type": "markdown",
   "id": "3c85f889",
   "metadata": {
    "editable": true
   },
   "source": [
    "$$\n",
    "\\vert\\psi \\rangle = \\sum_{ij} \\left(\\sum_k u_{ik}\\sigma_kv_{kj} \\right)\\vert i\\rangle_A\\vert j\\rangle_B.\n",
    "$$"
   ]
  },
  {
   "cell_type": "markdown",
   "id": "e3137cab",
   "metadata": {
    "editable": true
   },
   "source": [
    "## Slight rewrite\n",
    "We rewrite the last equation as"
   ]
  },
  {
   "cell_type": "markdown",
   "id": "49f42f4d",
   "metadata": {
    "editable": true
   },
   "source": [
    "$$\n",
    "\\vert\\psi \\rangle = \\sum_{k}\\sigma_k \\left(\\sum_i u_{ik}\\vert i\\rangle_A\\right)\\otimes\\left(\\sum_jv_{kj}\\vert j\\rangle_B\\right),\n",
    "$$"
   ]
  },
  {
   "cell_type": "markdown",
   "id": "83663b31",
   "metadata": {
    "editable": true
   },
   "source": [
    "which we identify simply as, since the matrices $\\boldsymbol{U}$ and $\\boldsymbol{V}$ represent unitary transformations,"
   ]
  },
  {
   "cell_type": "markdown",
   "id": "c956b578",
   "metadata": {
    "editable": true
   },
   "source": [
    "$$\n",
    "\\vert\\psi \\rangle = \\sum_{k}\\sigma_k \\vert k\\rangle_A\\vert k\\rangle_B.\n",
    "$$"
   ]
  },
  {
   "cell_type": "markdown",
   "id": "87677a09",
   "metadata": {
    "editable": true
   },
   "source": [
    "## Different dimensionalities\n",
    "\n",
    "It is straight forward to prove this relation in case systems $A$ and\n",
    "$B$ have different dimensionalities.  Once we know the Schmidt\n",
    "decomposition of a state, we can immmediately say whether it is\n",
    "entangled or not. If a state $\\psi$ has is entangled, then its Schmidt\n",
    "decomposition has more than one term. Stated differently, the state is\n",
    "entangled if the so-called Schmidt rank is is greater than one.  There\n",
    "is another important property of the Schmidt decomposition which is\n",
    "related to the properties of the density matrices and their trace\n",
    "operations and the entropies. In order to introduce these concepts let\n",
    "us look at the two-qubit Hamiltonian described here."
   ]
  },
  {
   "cell_type": "markdown",
   "id": "77d384c9",
   "metadata": {
    "editable": true
   },
   "source": [
    "## Entropies and density matrices\n",
    "\n",
    "**Note: more details on whiteboard. This material will be added later**"
   ]
  },
  {
   "cell_type": "markdown",
   "id": "216eb061",
   "metadata": {
    "editable": true
   },
   "source": [
    "## Shannon information entropy\n",
    "\n",
    "We start our discussions with the classical information entropy, or\n",
    "just Shannon entropy, before we move over to a quantum mechanical way\n",
    "to define the entropy based on the density matrices discussed earlier.\n",
    "\n",
    "We define a set of random variables $X=\\{x_0,x_1,\\dots,x_{n-1}\\}$ with probability for an outcome $x\\in X$ given by $p_X(x)$, the\n",
    "information entropy is defined as"
   ]
  },
  {
   "cell_type": "markdown",
   "id": "8ea425c2",
   "metadata": {
    "editable": true
   },
   "source": [
    "$$\n",
    "S=-\\sum_{x\\in X}p_X(x)\\log_2{p_X(x)}.\n",
    "$$"
   ]
  },
  {
   "cell_type": "markdown",
   "id": "d8653850",
   "metadata": {
    "editable": true
   },
   "source": [
    "## Von Neumann entropy"
   ]
  },
  {
   "cell_type": "markdown",
   "id": "98182e8f",
   "metadata": {
    "editable": true
   },
   "source": [
    "$$\n",
    "S=-\\mathrm{Tr}[\\rho\\log_2{\\rho}].\n",
    "$$"
   ]
  },
  {
   "cell_type": "markdown",
   "id": "94b9d58b",
   "metadata": {
    "editable": true
   },
   "source": [
    "## Two-qubit system and calculation of density matrices and exercise\n",
    "\n",
    "**This part is best seen using the jupyter-notebook**.\n",
    "\n",
    "The system we discuss here is a continuation of the two qubit example from week 2.\n",
    "\n",
    "This system can be thought of as composed of two subsystems\n",
    "$A$ and $B$. Each subsystem has computational basis states"
   ]
  },
  {
   "cell_type": "markdown",
   "id": "e51a393a",
   "metadata": {
    "editable": true
   },
   "source": [
    "$$\n",
    "\\vert 0\\rangle_{\\mathrm{A,B}}=\\begin{bmatrix} 1 & 0\\end{bmatrix}^T \\hspace{1cm} \\vert 1\\rangle_{\\mathrm{A,B}}=\\begin{bmatrix} 0 & 1\\end{bmatrix}^T.\n",
    "$$"
   ]
  },
  {
   "cell_type": "markdown",
   "id": "aac2b5d0",
   "metadata": {
    "editable": true
   },
   "source": [
    "The subsystems could represent single particles or composite many-particle systems of a given symmetry.\n",
    "This leads to the many-body computational basis states"
   ]
  },
  {
   "cell_type": "markdown",
   "id": "13984283",
   "metadata": {
    "editable": true
   },
   "source": [
    "$$\n",
    "\\vert 00\\rangle = \\vert 0\\rangle_{\\mathrm{A}}\\otimes \\vert 0\\rangle_{\\mathrm{B}}=\\begin{bmatrix} 1 & 0 & 0 &0\\end{bmatrix}^T,\n",
    "$$"
   ]
  },
  {
   "cell_type": "markdown",
   "id": "36b9384c",
   "metadata": {
    "editable": true
   },
   "source": [
    "and"
   ]
  },
  {
   "cell_type": "markdown",
   "id": "0c5bd4a4",
   "metadata": {
    "editable": true
   },
   "source": [
    "$$\n",
    "\\vert 01\\rangle = \\vert 0\\rangle_{\\mathrm{A}}\\otimes \\vert 1\\rangle_{\\mathrm{B}}=\\begin{bmatrix} 0 & 1 & 0 &0\\end{bmatrix}^T,\n",
    "$$"
   ]
  },
  {
   "cell_type": "markdown",
   "id": "45f3642f",
   "metadata": {
    "editable": true
   },
   "source": [
    "and"
   ]
  },
  {
   "cell_type": "markdown",
   "id": "3092cfcc",
   "metadata": {
    "editable": true
   },
   "source": [
    "$$\n",
    "\\vert 10\\rangle = \\vert 1\\rangle_{\\mathrm{A}}\\otimes \\vert 0\\rangle_{\\mathrm{B}}=\\begin{bmatrix} 0 & 0 & 1 &0\\end{bmatrix}^T,\n",
    "$$"
   ]
  },
  {
   "cell_type": "markdown",
   "id": "78662dd7",
   "metadata": {
    "editable": true
   },
   "source": [
    "and finally"
   ]
  },
  {
   "cell_type": "markdown",
   "id": "24e5ae4e",
   "metadata": {
    "editable": true
   },
   "source": [
    "$$\n",
    "\\vert 11\\rangle = \\vert 1\\rangle_{\\mathrm{A}}\\otimes \\vert 1\\rangle_{\\mathrm{B}}=\\begin{bmatrix} 0 & 0 & 0 &1\\end{bmatrix}^T.\n",
    "$$"
   ]
  },
  {
   "cell_type": "markdown",
   "id": "cc8f6638",
   "metadata": {
    "editable": true
   },
   "source": [
    "These computational basis states define also the eigenstates of the non-interacting  Hamiltonian"
   ]
  },
  {
   "cell_type": "markdown",
   "id": "a811f744",
   "metadata": {
    "editable": true
   },
   "source": [
    "$$\n",
    "H_0\\vert 00 \\rangle = \\epsilon_{00}\\vert 00 \\rangle,\n",
    "$$"
   ]
  },
  {
   "cell_type": "markdown",
   "id": "0d6b521f",
   "metadata": {
    "editable": true
   },
   "source": [
    "$$\n",
    "H_0\\vert 10 \\rangle = \\epsilon_{10}\\vert 10 \\rangle,\n",
    "$$"
   ]
  },
  {
   "cell_type": "markdown",
   "id": "f449dcc9",
   "metadata": {
    "editable": true
   },
   "source": [
    "$$\n",
    "H_0\\vert 01 \\rangle = \\epsilon_{01}\\vert 01 \\rangle,\n",
    "$$"
   ]
  },
  {
   "cell_type": "markdown",
   "id": "aa171701",
   "metadata": {
    "editable": true
   },
   "source": [
    "and"
   ]
  },
  {
   "cell_type": "markdown",
   "id": "833bbd65",
   "metadata": {
    "editable": true
   },
   "source": [
    "$$\n",
    "H_0\\vert 11 \\rangle = \\epsilon_{11}\\vert 11 \\rangle.\n",
    "$$"
   ]
  },
  {
   "cell_type": "markdown",
   "id": "5ef6106f",
   "metadata": {
    "editable": true
   },
   "source": [
    "The interacting part of the Hamiltonian $H_{\\mathrm{I}}$ is given by the tensor product of two $\\sigma_x$ and $\\sigma_z$  matrices, respectively, that is"
   ]
  },
  {
   "cell_type": "markdown",
   "id": "32ee1193",
   "metadata": {
    "editable": true
   },
   "source": [
    "$$\n",
    "H_{\\mathrm{I}}=H_x\\sigma_x\\otimes\\sigma_x+H_z\\sigma_z\\otimes\\sigma_z,\n",
    "$$"
   ]
  },
  {
   "cell_type": "markdown",
   "id": "5c212c8a",
   "metadata": {
    "editable": true
   },
   "source": [
    "where $H_x$ and $H_z$ are interaction strength parameters. Our final Hamiltonian matrix is given by"
   ]
  },
  {
   "cell_type": "markdown",
   "id": "eb1533c7",
   "metadata": {
    "editable": true
   },
   "source": [
    "$$\n",
    "\\boldsymbol{H}=\\begin{bmatrix} \\epsilon_{00}+H_z & 0 & 0 & H_x \\\\\n",
    "                       0  & \\epsilon_{10}-H_z & H_x & 0 \\\\\n",
    "\t\t       0 & H_x & \\epsilon_{01}-H_z & 0 \\\\\n",
    "\t\t       H_x & 0 & 0 & \\epsilon_{11} +H_z \\end{bmatrix}.\n",
    "$$"
   ]
  },
  {
   "cell_type": "markdown",
   "id": "33a76b46",
   "metadata": {
    "editable": true
   },
   "source": [
    "The four eigenstates of the above Hamiltonian matrix can in turn be used to\n",
    "define density matrices. As an example, the density matrix of the\n",
    "first eigenstate (lowest energy $E_0$) $\\Psi_0$ is given by the outerproduct"
   ]
  },
  {
   "cell_type": "markdown",
   "id": "61b1776b",
   "metadata": {
    "editable": true
   },
   "source": [
    "$$\n",
    "\\rho_0=\\left(\\alpha_{00}\\vert 00 \\rangle+\\alpha_{10}\\vert 10 \\rangle+\\alpha_{01}\\vert 01 \\rangle+\\alpha_{11}\\vert 11 \\rangle\\right)\\left(\\alpha_{00}^*\\langle 00\\vert+\\alpha_{10}^*\\langle 10\\vert+\\alpha_{01}^*\\langle 01\\vert+\\alpha_{11}^*\\langle 11\\vert\\right),\n",
    "$$"
   ]
  },
  {
   "cell_type": "markdown",
   "id": "338cc044",
   "metadata": {
    "editable": true
   },
   "source": [
    "where the coefficients $\\alpha_{ij}$ are the eigenvector coefficients\n",
    "resulting from the solution of the above eigenvalue problem. \n",
    "\n",
    "We can\n",
    "then in turn define the density matrix for the subsets $A$ or $B$ as"
   ]
  },
  {
   "cell_type": "markdown",
   "id": "cb7710cf",
   "metadata": {
    "editable": true
   },
   "source": [
    "$$\n",
    "\\rho_A=\\mathrm{Tr}_B(\\rho_{0})=\\langle 0 \\vert \\rho_{0} \\vert 0\\rangle_{B}+\\langle 1 \\vert \\rho_{0} \\vert 1\\rangle_{B},\n",
    "$$"
   ]
  },
  {
   "cell_type": "markdown",
   "id": "3a54ba84",
   "metadata": {
    "editable": true
   },
   "source": [
    "or"
   ]
  },
  {
   "cell_type": "markdown",
   "id": "a5725b60",
   "metadata": {
    "editable": true
   },
   "source": [
    "$$\n",
    "\\rho_B=\\mathrm{Tr}_A(\\rho_0)=\\langle 0 \\vert \\rho_{0} \\vert 0\\rangle_{A}+\\langle 1 \\vert \\rho_{0} \\vert 1\\rangle_{A}.\n",
    "$$"
   ]
  },
  {
   "cell_type": "markdown",
   "id": "b9e4d5a7",
   "metadata": {
    "editable": true
   },
   "source": [
    "The density matrices for these subsets can be used to compute the\n",
    "so-called von Neumann entropy, which is one of the possible measures\n",
    "of entanglement. A pure state has entropy equal zero while entangled\n",
    "state have an entropy larger than zero. The von-Neumann entropy is\n",
    "defined as"
   ]
  },
  {
   "cell_type": "markdown",
   "id": "09b40268",
   "metadata": {
    "editable": true
   },
   "source": [
    "$$\n",
    "S(A,B)=-\\mathrm{Tr}\\left(\\rho_{A,B}\\log_2 (\\rho_{A,B})\\right).\n",
    "$$"
   ]
  },
  {
   "cell_type": "markdown",
   "id": "15e76fab",
   "metadata": {
    "editable": true
   },
   "source": [
    "The example here shows the above von Neumann entropy based on the\n",
    "density matrix for the lowest many-body state. We see clearly a jump\n",
    "in the entropy around the point where we have a level crossing. At\n",
    "interaction strenght $\\lambda=0$ we have many-body states purely\n",
    "defined by their computational basis states. As we switch on the\n",
    "interaction strength, we obtain an increased degree of mixing and the\n",
    "entropy increases till we reach the level crossing point where we see\n",
    "an additional and sudden increase in entropy. Similar behaviors are\n",
    "observed for the other states. The most important result from this\n",
    "example is that entanglement is driven by the Hamiltonian itself and\n",
    "the strength of the interaction matrix elements and the\n",
    "non-interacting energies."
   ]
  },
  {
   "cell_type": "code",
   "execution_count": 3,
   "id": "15e15f6e",
   "metadata": {
    "collapsed": false,
    "editable": true
   },
   "outputs": [],
   "source": [
    "%matplotlib inline\n",
    "from  matplotlib import pyplot as plt\n",
    "import numpy as np\n",
    "from scipy.linalg import logm, expm\n",
    "def log2M(a): # base 2 matrix logarithm\n",
    "    return logm(a)/np.log(2.0)\n",
    "\n",
    "dim = 4\n",
    "Hamiltonian = np.zeros((dim,dim))\n",
    "#number of lambda values\n",
    "n = 40\n",
    "lmbd = np.linspace(0.0,1.0,n)\n",
    "Hx = 2.0\n",
    "Hz = 3.0\n",
    "# Non-diagonal part as sigma_x tensor product with sigma_x\n",
    "sx = np.matrix([[0,1],[1,0]])\n",
    "sx2 = Hx*np.kron(sx, sx)\n",
    "# Diagonal part as sigma_z tensor product with sigma_z\n",
    "sz = np.matrix([[1,0],[0,-1]])\n",
    "sz2 = Hz*np.kron(sz, sz)\n",
    "noninteracting = [0.0, 2.5, 6.5, 7.0]\n",
    "D = np.diag(noninteracting)\n",
    "Eigenvalue = np.zeros((dim,n))\n",
    "Entropy = np.zeros(n)\n",
    "\n",
    "for i in range(n): \n",
    "    Hamiltonian = lmbd[i]*(sx2+sz2)+D\n",
    "    # diagonalize and obtain eigenvalues, not necessarily sorted\n",
    "    EigValues, EigVectors = np.linalg.eig(Hamiltonian)\n",
    "    # sort eigenvectors and eigenvalues\n",
    "    permute = EigValues.argsort()\n",
    "    EigValues = EigValues[permute]\n",
    "    EigVectors = EigVectors[:,permute]\n",
    "    # Compute density matrix for selected system state, here ground state\n",
    "    DensityMatrix = np.zeros((dim,dim))\n",
    "    DensityMatrix = np.outer(EigVectors[:,0],EigVectors[:,0])\n",
    "    # Project down on substates and find density matrix for subsystem\n",
    "    d = np.matrix([[1,0],[0,1]])\n",
    "    v1 = [1.0,0.0]\n",
    "    proj1 = np.kron(v1,d)\n",
    "    x1 = proj1 @ DensityMatrix @ proj1.T\n",
    "    v2 = [0.0,1.0]\n",
    "    proj2 = np.kron(v2,d)\n",
    "    x2 = proj2 @ DensityMatrix @ proj2.T\n",
    "    # Total density matrix for subsystem\n",
    "    total = x1+x2\n",
    "    # von Neumann Entropy for subsystem \n",
    "    Entropy[i] = -np.matrix.trace(total @ log2M(total))\n",
    "    # Plotting eigenvalues and entropy as functions of interaction strengths\n",
    "    Eigenvalue[0,i] = EigValues[0]\n",
    "    Eigenvalue[1,i] = EigValues[1]\n",
    "    Eigenvalue[2,i] = EigValues[2]\n",
    "    Eigenvalue[3,i] = EigValues[3]\n",
    "plt.plot(lmbd, Eigenvalue[0,:] ,'b-',lmbd, Eigenvalue[1,:],'g-',)\n",
    "plt.plot(lmbd, Eigenvalue[2,:] ,'r-',lmbd, Eigenvalue[3,:],'y-',)\n",
    "plt.xlabel('$\\lambda$')\n",
    "plt.ylabel('Eigenvalues')\n",
    "plt.show()\n",
    "plt.plot(lmbd, Entropy)\n",
    "plt.xlabel('$\\lambda$')\n",
    "plt.ylabel('Entropy')          \n",
    "plt.show"
   ]
  },
  {
   "cell_type": "markdown",
   "id": "bf184d6b",
   "metadata": {
    "editable": true
   },
   "source": [
    "## Exercise 6: Two-qubit Hamiltonian\n",
    "\n",
    "Use the Hamiltonian for the two-qubit example to find the eigenpairs\n",
    "as functions of the interaction strength $\\lambda$ and study the final\n",
    "eigenvectors as functions of the admixture of the original basis\n",
    "states.  Discuss the results as functions of the parameter $\\lambda$ and compute the von Neumann\n",
    "entropy and discuss the results. You will need to calculate the entropy of the subsystems $A$ or $B$."
   ]
  }
 ],
 "metadata": {},
 "nbformat": 4,
 "nbformat_minor": 5
}
