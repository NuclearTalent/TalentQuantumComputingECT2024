{
 "cells": [
  {
   "cell_type": "markdown",
   "id": "4e9f704b",
   "metadata": {
    "editable": true
   },
   "source": [
    "<!-- HTML file automatically generated from DocOnce source (https://github.com/doconce/doconce/)\n",
    "doconce format html day4.do.txt --no_abort -->\n",
    "<!-- dom:TITLE: Variational Quantum Eigensolver and the Lipkin model -->"
   ]
  },
  {
   "cell_type": "markdown",
   "id": "ca3246e5",
   "metadata": {
    "editable": true
   },
   "source": [
    "# Variational Quantum Eigensolver and the Lipkin model\n",
    "**Nuclear TALENT course on quantum computing**\n",
    "\n",
    "Date: **May 22, 2024**"
   ]
  },
  {
   "cell_type": "markdown",
   "id": "6c90b857",
   "metadata": {
    "editable": true
   },
   "source": [
    "## Variational Quantum Eigensolver\n",
    "\n",
    "One initial algorithm to estimate the eigenenergies of a quantum\n",
    "Hamiltonian was [quantum phase estimation](https://qiskit.org/textbook/ch-algorithms/quantum-phase-estimation.html). In it, one\n",
    "encodes the eigenenergies, one binary bit at a time (up to $n$ bits),\n",
    "into the complex phases of the quantum states of the Hilbert space for\n",
    "$n$ qubits. It does this by applying powers of controlled unitary\n",
    "evolution operators to a quantum state that can be expanded in terms\n",
    "of the Hamiltonian's eigenvectors of interest. The eigenenergies are\n",
    "encoded into the complex phases in such a way that taking the inverse\n",
    "quantum Fourier transformation (see Hundt sections 6.1-6.2) of the states into which the\n",
    "eigen-energies are encoded results in a measurement probability\n",
    "distribution that has peaks around the bit strings that represent a\n",
    "binary fraction which corresponds to the eigen-energies of the quantum\n",
    "state acted upon by the controlled unitary operators."
   ]
  },
  {
   "cell_type": "markdown",
   "id": "36f06543",
   "metadata": {
    "editable": true
   },
   "source": [
    "## The VQE\n",
    "\n",
    "While quantum\n",
    "phase estimation (QPE) is provably efficient, non-hybrid, and\n",
    "non-variational, the number of qubits and length of circuits required\n",
    "is too great for our NISQ era quantum computers. Thus, QPE is only\n",
    "efficiently applicable to large, fault-tolerant quantum computers that\n",
    "likely won't exist in the near, but the far future.\n",
    "\n",
    "Therefore, a different algorithm for finding the eigen-energies of a\n",
    "quantum Hamiltonian was put forth in 2014 called the variational\n",
    "quantum eigensolver, commonly referred to as [VQE](https://arxiv.org/abs/2111.05176). The\n",
    "algorithm is hybrid, meaning that it requires the use of both a\n",
    "quantum computer and a classical computer. It is also variational,\n",
    "meaning that it relies, ultimately, on solving an optimization problem\n",
    "by varying parameters and thus is not as deterministic as QPE. The\n",
    "variational quantum eigensolver is based on the variational principle:"
   ]
  },
  {
   "cell_type": "markdown",
   "id": "7b485740",
   "metadata": {
    "editable": true
   },
   "source": [
    "## Expectation value of Hamiltonian\n",
    "\n",
    "The expectation value of a Hamiltonian $H$ in a state\n",
    "$|\\psi(\\theta)\\rangle$ parameterized by a set of angles $\\theta$, is\n",
    "always greater than or equal to the minimum eigen-energy $E_0$. To see\n",
    "this, let $|n\\rangle$ be the eigenstates of $H$, that is"
   ]
  },
  {
   "cell_type": "markdown",
   "id": "37e440df",
   "metadata": {
    "editable": true
   },
   "source": [
    "$$\n",
    "H|n\\rangle=E_n|n\\rangle.\n",
    "$$"
   ]
  },
  {
   "cell_type": "markdown",
   "id": "c00ae158",
   "metadata": {
    "editable": true
   },
   "source": [
    "## Expanding in the eigenstates\n",
    "\n",
    "We can then expand our state $|\\psi(\\theta)\\rangle$ in terms of said eigenstates"
   ]
  },
  {
   "cell_type": "markdown",
   "id": "57a33db1",
   "metadata": {
    "editable": true
   },
   "source": [
    "$$\n",
    "|\\psi(\\theta)\\rangle=\\sum_nc_n|n\\rangle,\n",
    "$$"
   ]
  },
  {
   "cell_type": "markdown",
   "id": "fba39fa8",
   "metadata": {
    "editable": true
   },
   "source": [
    "and plug this into the expectation value to yield"
   ]
  },
  {
   "cell_type": "markdown",
   "id": "9e0313b8",
   "metadata": {
    "editable": true
   },
   "source": [
    "$$\n",
    "\\langle\\psi(\\theta)|H|\\psi(\\theta)\\rangle=\\sum_{nm}c^*_mc_n\\langle m|H|n \\rangle\n",
    "=\\sum_{nm}c^*_mc_nE_n\\langle m|n \\rangle=\\sum_{nm}\\delta_{nm}c^*_mc_nE_n=\\sum_{n}|c_n|^2E_n \\geq E_0\\sum_{n}|c_n|^2=E_0,\n",
    "$$"
   ]
  },
  {
   "cell_type": "markdown",
   "id": "855ace2b",
   "metadata": {
    "editable": true
   },
   "source": [
    "which implies that we can minimize over the set of angles $\\theta$ and arrive at the ground state energy $E_0$"
   ]
  },
  {
   "cell_type": "markdown",
   "id": "84d38c0e",
   "metadata": {
    "editable": true
   },
   "source": [
    "$$\n",
    "\\min_\\theta \\ \\langle\\psi(\\theta)|H|\\psi(\\theta)\\rangle=E_0.\n",
    "$$"
   ]
  },
  {
   "cell_type": "markdown",
   "id": "8ff10375",
   "metadata": {
    "editable": true
   },
   "source": [
    "## Basic steps of the VQE algorithm\n",
    "\n",
    "Using this fact, the VQE algorithm can be broken down into the following steps\n",
    "1. Prepare the variational state $|\\psi(\\theta)\\rangle$ on a quantum computer.\n",
    "\n",
    "2. Measure this circuit in various bases and send these measurements to a classical computer\n",
    "\n",
    "3. The classical computer post-processes the measurement data to compute the expectation value $\\langle\\psi(\\theta)|H|\\psi(\\theta)\\rangle$\n",
    "\n",
    "4. The classical computer varies the parameters $\\theta$ according to a classical minimization algorithm and sends them back to the quantum computer which runs step 1 again.\n",
    "\n",
    "This loop continues until the classical optimization algorithm\n",
    "terminates which results in a set of angles $\\theta_{\\text{min}}$ that\n",
    "characterize the ground state $|\\phi(\\theta_{\\text{min}})\\rangle$ and\n",
    "an estimate for the ground state energy\n",
    "$\\langle\\psi(\\theta_{\\text{min}})|H|\\psi(\\theta_{\\text{min}})\\rangle$."
   ]
  },
  {
   "cell_type": "markdown",
   "id": "9d40e4a8",
   "metadata": {
    "editable": true
   },
   "source": [
    "## Expectation values\n",
    "\n",
    "To execute the second step of VQE, we need to understand how\n",
    "expectation values of operators can be estimated via quantum computers\n",
    "by post-processing measurements of quantum circuits in different\n",
    "basis sets. To rotate bases, one uses the basis rotator $R_\\sigma$ which is\n",
    "defined for each Pauli gate $\\sigma$ to be"
   ]
  },
  {
   "cell_type": "markdown",
   "id": "ccd73f4e",
   "metadata": {
    "editable": true
   },
   "source": [
    "<!-- Equation labels as ordinary links -->\n",
    "<div id=\"eq:auto8\"></div>\n",
    "\n",
    "$$\n",
    "\\begin{equation}\n",
    "R_{\\sigma} = H,  \\text{if} \\ \\sigma = X,\n",
    "\\end{equation} \\label{eq:auto8} \\tag{1}\n",
    "$$"
   ]
  },
  {
   "cell_type": "markdown",
   "id": "2e80ec87",
   "metadata": {
    "editable": true
   },
   "source": [
    "and"
   ]
  },
  {
   "cell_type": "markdown",
   "id": "fac49eaf",
   "metadata": {
    "editable": true
   },
   "source": [
    "<!-- Equation labels as ordinary links -->\n",
    "<div id=\"_auto1\"></div>\n",
    "\n",
    "$$\n",
    "\\begin{equation}\n",
    "HS^{\\dagger},  \\text{if} \\ \\sigma = Y,\n",
    "\\label{_auto1} \\tag{2}\n",
    "\\end{equation}\n",
    "$$"
   ]
  },
  {
   "cell_type": "markdown",
   "id": "b1cf60b6",
   "metadata": {
    "editable": true
   },
   "source": [
    "and"
   ]
  },
  {
   "cell_type": "markdown",
   "id": "98bf7126",
   "metadata": {
    "editable": true
   },
   "source": [
    "<!-- Equation labels as ordinary links -->\n",
    "<div id=\"_auto2\"></div>\n",
    "\n",
    "$$\n",
    "\\begin{equation}\n",
    "I,  \\text{if} \\ \\sigma = Z.\n",
    "\\label{_auto2} \\tag{3}\n",
    "\\end{equation}\n",
    "$$"
   ]
  },
  {
   "cell_type": "markdown",
   "id": "d8b2098b",
   "metadata": {
    "editable": true
   },
   "source": [
    "## Measurements of eigenvalues of the Pauli operators\n",
    "We can show that these rotations allow us to measure the eigenvalues of the Pauli operators. The eigenvectors of the Pauli $X$ gate are"
   ]
  },
  {
   "cell_type": "markdown",
   "id": "c63252ba",
   "metadata": {
    "editable": true
   },
   "source": [
    "$$\n",
    "\\vert\\pm\\rangle = \\frac{\\vert 0\\rangle \\pm \\vert 1\\rangle}{\\sqrt{2}},\n",
    "$$"
   ]
  },
  {
   "cell_type": "markdown",
   "id": "b5639b10",
   "metadata": {
    "editable": true
   },
   "source": [
    "with eigenvalues $\\pm 1$.\n",
    "Acting on the eigenstates with the rotation in eq. ([37](#eq:auto8)) gives"
   ]
  },
  {
   "cell_type": "markdown",
   "id": "d2c1b1a2",
   "metadata": {
    "editable": true
   },
   "source": [
    "$$\n",
    "H\\vert +\\rangle = +1\\vert 0\\rangle,\n",
    "$$"
   ]
  },
  {
   "cell_type": "markdown",
   "id": "324a8f17",
   "metadata": {
    "editable": true
   },
   "source": [
    "and"
   ]
  },
  {
   "cell_type": "markdown",
   "id": "de38b85c",
   "metadata": {
    "editable": true
   },
   "source": [
    "$$\n",
    "H\\vert -\\rangle = -1\\vert 1\\rangle.\n",
    "$$"
   ]
  },
  {
   "cell_type": "markdown",
   "id": "bc5950fd",
   "metadata": {
    "editable": true
   },
   "source": [
    "## Single-qubit states\n",
    "\n",
    "Any single-qubit state can be written as a linear combination of these eigenvectors,"
   ]
  },
  {
   "cell_type": "markdown",
   "id": "97be1fdd",
   "metadata": {
    "editable": true
   },
   "source": [
    "$$\n",
    "\\vert \\psi\\rangle = \\alpha \\vert +\\rangle + \\beta \\vert -\\rangle.\n",
    "$$"
   ]
  },
  {
   "cell_type": "markdown",
   "id": "93aa8a3b",
   "metadata": {
    "editable": true
   },
   "source": [
    "We then have the following expectation value for the Pauli $X$ operator"
   ]
  },
  {
   "cell_type": "markdown",
   "id": "658548e7",
   "metadata": {
    "editable": true
   },
   "source": [
    "$$\n",
    "\\langle \\vert X\\vert \\rangle = \\langle \\psi\\vert X \\vert \\psi\\rangle = |\\alpha|^2 - |\\beta|^2.\n",
    "$$"
   ]
  },
  {
   "cell_type": "markdown",
   "id": "f32c89d5",
   "metadata": {
    "editable": true
   },
   "source": [
    "However, we can only measure the qubits in the computational basis. Applying the rotation in eq. ([37](#eq:auto8)) to our state gives"
   ]
  },
  {
   "cell_type": "markdown",
   "id": "8e08a011",
   "metadata": {
    "editable": true
   },
   "source": [
    "$$\n",
    "H \\vert \\psi\\rangle = \\alpha \\vert 0\\rangle - \\beta \\vert 1\\rangle.\n",
    "$$"
   ]
  },
  {
   "cell_type": "markdown",
   "id": "a2497000",
   "metadata": {
    "editable": true
   },
   "source": [
    "## Interpretations\n",
    "\n",
    "This tells us that we are able to estimate $|\\alpha|^2$ and\n",
    "$|\\beta|^2$ (and hence the expectation value of the Pauli $X$\n",
    "operator) by using the rotation in eq. ([37](#eq:auto8)) and measure the\n",
    "resulting state in the computational basis. We can show this for the\n",
    "Pauli $Z$ and Pauli $Y$ similarly."
   ]
  },
  {
   "cell_type": "markdown",
   "id": "cea84cd7",
   "metadata": {
    "editable": true
   },
   "source": [
    "## Reminder on rotations\n",
    "\n",
    "Note the following identity of the basis rotator"
   ]
  },
  {
   "cell_type": "markdown",
   "id": "8689ebe3",
   "metadata": {
    "editable": true
   },
   "source": [
    "$$\n",
    "R^\\dagger_\\sigma Z R_\\sigma = \\sigma,\n",
    "$$"
   ]
  },
  {
   "cell_type": "markdown",
   "id": "71960719",
   "metadata": {
    "editable": true
   },
   "source": [
    "which follows from the fact that $HZH=X$ and $SXS^\\dagger=Y$."
   ]
  },
  {
   "cell_type": "markdown",
   "id": "82cc475a",
   "metadata": {
    "editable": true
   },
   "source": [
    "## Arbitrary Pauli gate\n",
    "\n",
    "With this, we see that the expectation value of an arbitrary\n",
    "Pauli-gate $\\sigma$ in the state $\\vert\\psi\\rangle$ can be expressed as a linear combination of probabilities"
   ]
  },
  {
   "cell_type": "markdown",
   "id": "53403d79",
   "metadata": {
    "editable": true
   },
   "source": [
    "$$\n",
    "E_{\\psi}(\\sigma)\n",
    "= \\langle \\psi\\vert\\sigma\\vert\\psi\\rangle \\nonumber\n",
    "$$"
   ]
  },
  {
   "cell_type": "markdown",
   "id": "7ae364ec",
   "metadata": {
    "editable": true
   },
   "source": [
    "$$\n",
    "=\\langle\\psi\\vert R_{\\sigma}^{\\dagger}ZR_{\\sigma}\\vert\\psi\\rangle =\\langle \\phi\\vert Z\\vert \\phi\\rangle \\nonumber\n",
    "$$"
   ]
  },
  {
   "cell_type": "markdown",
   "id": "5aec5447",
   "metadata": {
    "editable": true
   },
   "source": [
    "$$\n",
    "=\\langle\\phi\\vert\\left(\\sum_{x\\in\\{0,1\\}}(-1)^x\\vert x\\rangle\\langle x\\vert\\right)\\vert\\phi\\rangle \\nonumber\n",
    "$$"
   ]
  },
  {
   "cell_type": "markdown",
   "id": "5d0554ab",
   "metadata": {
    "editable": true
   },
   "source": [
    "$$\n",
    "=\\sum_{x\\in\\{0,1\\}}(-1)^x\\vert\\langle x\\vert \\phi\\rangle\\vert^2\\nonumber\n",
    "$$"
   ]
  },
  {
   "cell_type": "markdown",
   "id": "a7ac5b6f",
   "metadata": {
    "editable": true
   },
   "source": [
    "<!-- Equation labels as ordinary links -->\n",
    "<div id=\"_auto3\"></div>\n",
    "\n",
    "$$\n",
    "\\begin{equation} \n",
    "=\\sum_{x\\in\\{0,1\\}}(-1)^xP(\\vert \\phi\\rangle\\to\\vert x\\rangle),\n",
    "\\label{_auto3} \\tag{4}\n",
    "\\end{equation}\n",
    "$$"
   ]
  },
  {
   "cell_type": "markdown",
   "id": "d1c2c50c",
   "metadata": {
    "editable": true
   },
   "source": [
    "where $\\vert \\phi\\rangle=\\vert R_\\sigma\\phi\\rangle$ and\n",
    "$P(\\vert \\phi\\rangle\\to\\vert x\\rangle$ is the probability that the state\n",
    "$\\vert \\phi\\rangle$ collapses to the state $\\vert x\\rangle$ when measured."
   ]
  },
  {
   "cell_type": "markdown",
   "id": "a5118996",
   "metadata": {
    "editable": true
   },
   "source": [
    "## Arbitrary string of Pauli operators\n",
    "\n",
    "This can\n",
    "be extended to any arbitrary Pauli string: consider the string of\n",
    "Pauli operators $P=\\bigotimes_{p\\in Q}\\sigma_p$ which acts\n",
    "non-trivially on the set of qubits $Q$ which is a subset of the total\n",
    "set of $n$ qubits in the system. Then"
   ]
  },
  {
   "cell_type": "markdown",
   "id": "93a2c21d",
   "metadata": {
    "editable": true
   },
   "source": [
    "$$\n",
    "E_{\\psi}\\left(P\\right)\n",
    "=\\langle \\psi\\vert\\left(\\bigotimes_{p\\in Q}\\sigma_p\\right)\\vert \\psi\\rangle \\nonumber\n",
    "$$"
   ]
  },
  {
   "cell_type": "markdown",
   "id": "0717f4df",
   "metadata": {
    "editable": true
   },
   "source": [
    "$$\n",
    "=\\langle \\psi\\vert\\left(\\bigotimes_{p\\in Q}\\sigma_p\\right)\n",
    "\\left(\\bigotimes_{q\\notin Q}I_q\\right)\\vert \\psi\\rangle \\nonumber\n",
    "$$"
   ]
  },
  {
   "cell_type": "markdown",
   "id": "186f0d49",
   "metadata": {
    "editable": true
   },
   "source": [
    "$$\n",
    "=\\langle \\psi\\vert\\left(\\bigotimes_{p \\in Q}R_{\\sigma_p}^{\\dagger}Z_pR_{\\sigma_p}\\right)\n",
    "\\left(\\bigotimes_{q\\notin Q}I_q\\right)\\vert \\psi\\rangle \\nonumber\n",
    "$$"
   ]
  },
  {
   "cell_type": "markdown",
   "id": "3ac825d0",
   "metadata": {
    "editable": true
   },
   "source": [
    "$$\n",
    "=\n",
    "\\langle \\psi\\vert\\left(\\bigotimes_{p \\in Q}R_{\\sigma_p}^{\\dagger}\\right)\n",
    "\\left(\\bigotimes_{p \\in Q}Z_p\\right)\n",
    "\\left(\\bigotimes_{q\\notin Q}I_q\\right)\n",
    "\\left(\\bigotimes_{p \\in Q}R_{\\sigma_p}\\right)\\vert \\psi\\rangle \\nonumber\n",
    "$$"
   ]
  },
  {
   "cell_type": "markdown",
   "id": "2f08833f",
   "metadata": {
    "editable": true
   },
   "source": [
    "## Which gives us"
   ]
  },
  {
   "cell_type": "markdown",
   "id": "0c8bfb34",
   "metadata": {
    "editable": true
   },
   "source": [
    "$$\n",
    "E_{\\psi}\\left(P\\right)\n",
    "=\n",
    "\\langle \\phi\\vert\n",
    "\\left(\\bigotimes_{p \\in Q}Z_p\\right)\n",
    "\\left(\\bigotimes_{q\\notin Q}I_q\\right)\n",
    "\\vert \\phi\\rangle \\nonumber\n",
    "$$"
   ]
  },
  {
   "cell_type": "markdown",
   "id": "5a727533",
   "metadata": {
    "editable": true
   },
   "source": [
    "$$\n",
    "=\n",
    "\\langle \\phi\\vert\n",
    "\\left(\\bigotimes_{p\\in Q}\\sum_{x_p\\in\\{0_p,1_p\\}}(-1)^{x_p}\\vert x_p\\rangle\\langle x_p\\vert\\right)\n",
    "\\left(\\bigotimes_{q\\notin Q}\\sum_{y_q\\in\\{0_q,1_q\\}}\\vert y_q\\rangle\\langle y_q\\vert\\right)\n",
    "\\vert \\phi\\rangle \n",
    "\\nonumber\n",
    "$$"
   ]
  },
  {
   "cell_type": "markdown",
   "id": "d6bcb665",
   "metadata": {
    "editable": true
   },
   "source": [
    "$$\n",
    "=\n",
    "\\langle \\phi\\vert\n",
    "\\left(\\sum_{x\\in\\{0,1\\}^n}(-1)^{\\sum_{p\\in Q}x_p}\\vert x\\rangle\\langle x\\vert\\right)\n",
    "\\vert \\phi\\rangle \n",
    "\\nonumber\n",
    "$$"
   ]
  },
  {
   "cell_type": "markdown",
   "id": "4e3c1149",
   "metadata": {
    "editable": true
   },
   "source": [
    "$$\n",
    "=\n",
    "\\sum_{x\\in\\{0,1\\}^n}(-1)^{\\sum_{p\\in Q}x_p}\\vert\\langle x\\vert\\vert \\phi\\rangle\\vert^2\n",
    "\\nonumber\n",
    "$$"
   ]
  },
  {
   "cell_type": "markdown",
   "id": "0459d461",
   "metadata": {
    "editable": true
   },
   "source": [
    "<!-- Equation labels as ordinary links -->\n",
    "<div id=\"_auto4\"></div>\n",
    "\n",
    "$$\n",
    "\\begin{equation} \n",
    "=\n",
    "\\sum_{x\\in\\{0,1\\}^n}(-1)^{\\sum_{p\\in Q}x_p}P(\\vert \\phi\\rangle\\to\\vert x\\rangle),\n",
    "\\label{_auto4} \\tag{5}\n",
    "\\end{equation}\n",
    "$$"
   ]
  },
  {
   "cell_type": "markdown",
   "id": "60895103",
   "metadata": {
    "editable": true
   },
   "source": [
    "where $\\vert \\phi\\rangle=\\vert \\bigotimes_{p\\in Q}R_{\\sigma_p}\\psi\\rangle$."
   ]
  },
  {
   "cell_type": "markdown",
   "id": "9c8ec3f0",
   "metadata": {
    "editable": true
   },
   "source": [
    "## Final observables\n",
    "\n",
    "Finally, because the expectation value is\n",
    "linear"
   ]
  },
  {
   "cell_type": "markdown",
   "id": "d8bfdbc1",
   "metadata": {
    "editable": true
   },
   "source": [
    "$$\n",
    "E_\\psi\\left(\\sum_{m}\\lambda_mP_m\\right) = \\sum_m\\lambda_mE_\\psi(P_m),\n",
    "$$"
   ]
  },
  {
   "cell_type": "markdown",
   "id": "dbf64087",
   "metadata": {
    "editable": true
   },
   "source": [
    "one can estimate any observable that can be written as a linear combination of Pauli-string terms."
   ]
  },
  {
   "cell_type": "markdown",
   "id": "e63adc45",
   "metadata": {
    "editable": true
   },
   "source": [
    "## Measurement\n",
    "\n",
    "To estimate the probability $P(\\vert \\phi\\rangle\\to \\vert x\\rangle)$ from the\n",
    "previous results, one prepares the state $\\vert \\phi\\rangle$ on a quantum\n",
    "computer and measures it, and then repeats this process (prepare and\n",
    "measure) several times. The probability $P(\\vert \\phi\\rangle\\to \\vert x\\rangle)$ is\n",
    "estimated to be the number of times that one measures the bit-string\n",
    "$x$ divided by the total number of measurements that one makes; that"
   ]
  },
  {
   "cell_type": "markdown",
   "id": "3dcb3dc3",
   "metadata": {
    "editable": true
   },
   "source": [
    "$$\n",
    "P(\\vert \\phi\\rangle\\to \\vert x\\rangle\\rangle \\approx \\sum_{m=1}^M\\frac{x_m}{M},\n",
    "$$"
   ]
  },
  {
   "cell_type": "markdown",
   "id": "5e53e7bf",
   "metadata": {
    "editable": true
   },
   "source": [
    "where $x_m=1$\n",
    "if the result of measurement is $x$ and  $0$ if the result of measurement is not $x$."
   ]
  },
  {
   "cell_type": "markdown",
   "id": "af22d825",
   "metadata": {
    "editable": true
   },
   "source": [
    "## [Law of large numbers](https://en.wikipedia.org/wiki/Law_of_large_numbers) aka Bernoulli's theorem\n",
    "\n",
    "By the law of large numbers the approximation approaches equality as\n",
    "$M$ goes to infinity"
   ]
  },
  {
   "cell_type": "markdown",
   "id": "4430d3d1",
   "metadata": {
    "editable": true
   },
   "source": [
    "$$\n",
    "P(\\vert \\phi\\rangle\\to \\vert x\\rangle) = \\lim_{M\\to\\infty}\\sum_{m=1}^M\\frac{x_m}{M}.\n",
    "$$"
   ]
  },
  {
   "cell_type": "markdown",
   "id": "e161d2f6",
   "metadata": {
    "editable": true
   },
   "source": [
    "As we obviously do not have infinite time nor infinite quantum\n",
    "computers (which could be run in parallel), we must truncate our\n",
    "number of measurement $M$ to a finite, but sufficiently large\n",
    "number. More precisely, for precision $\\epsilon$, each expectation\n",
    "estimation subroutine within VQE requires $\\mathcal{O}(1/\\epsilon^2)$\n",
    "samples from circuits with depth $\\mathcal{O}(1)$."
   ]
  },
  {
   "cell_type": "markdown",
   "id": "94c3852a",
   "metadata": {
    "editable": true
   },
   "source": [
    "## Implementing the  VQE method, one qubit system\n",
    "\n",
    "We start with a simple $2\\times 2$ Hamiltonian matrix expressed in\n",
    "terms of Pauli $X$ and $Z$ matrices, as discussed in the project text.\n",
    "\n",
    "We define a  symmetric matrix  $H\\in {\\mathbb{R}}^{2\\times 2}$"
   ]
  },
  {
   "cell_type": "markdown",
   "id": "b8f02766",
   "metadata": {
    "editable": true
   },
   "source": [
    "$$\n",
    "H = \\begin{bmatrix} H_{11} & H_{12} \\\\ H_{21} & H_{22}\n",
    "\\end{bmatrix},\n",
    "$$"
   ]
  },
  {
   "cell_type": "markdown",
   "id": "507887c8",
   "metadata": {
    "editable": true
   },
   "source": [
    "## Rewriting the Hamiltonian\n",
    "\n",
    "We  let $H = H_0 + H_I$, where"
   ]
  },
  {
   "cell_type": "markdown",
   "id": "50ec24c6",
   "metadata": {
    "editable": true
   },
   "source": [
    "$$\n",
    "H_0= \\begin{bmatrix} E_1 & 0 \\\\ 0 & E_2\\end{bmatrix},\n",
    "$$"
   ]
  },
  {
   "cell_type": "markdown",
   "id": "ff01622f",
   "metadata": {
    "editable": true
   },
   "source": [
    "is a diagonal matrix. Similarly,"
   ]
  },
  {
   "cell_type": "markdown",
   "id": "39ec9a40",
   "metadata": {
    "editable": true
   },
   "source": [
    "$$\n",
    "H_I= \\begin{bmatrix} V_{11} & V_{12} \\\\ V_{21} & V_{22}\\end{bmatrix},\n",
    "$$"
   ]
  },
  {
   "cell_type": "markdown",
   "id": "09efc018",
   "metadata": {
    "editable": true
   },
   "source": [
    "where $V_{ij}$ represent various interaction matrix elements.\n",
    "We can view $H_0$ as the non-interacting solution"
   ]
  },
  {
   "cell_type": "markdown",
   "id": "27700ffa",
   "metadata": {
    "editable": true
   },
   "source": [
    "<!-- Equation labels as ordinary links -->\n",
    "<div id=\"_auto5\"></div>\n",
    "\n",
    "$$\n",
    "\\begin{equation}\n",
    "       H_0\\vert 0 \\rangle =E_1\\vert 0 \\rangle,\n",
    "\\label{_auto5} \\tag{6}\n",
    "\\end{equation}\n",
    "$$"
   ]
  },
  {
   "cell_type": "markdown",
   "id": "780baad9",
   "metadata": {
    "editable": true
   },
   "source": [
    "and"
   ]
  },
  {
   "cell_type": "markdown",
   "id": "89fe0f80",
   "metadata": {
    "editable": true
   },
   "source": [
    "<!-- Equation labels as ordinary links -->\n",
    "<div id=\"_auto6\"></div>\n",
    "\n",
    "$$\n",
    "\\begin{equation}\n",
    "       H_0\\vert 1\\rangle =E_2\\vert 1\\rangle,\n",
    "\\label{_auto6} \\tag{7}\n",
    "\\end{equation}\n",
    "$$"
   ]
  },
  {
   "cell_type": "markdown",
   "id": "f93d72bd",
   "metadata": {
    "editable": true
   },
   "source": [
    "where we have defined the orthogonal computational one-qubit basis states $\\vert 0\\rangle$ and $\\vert 1\\rangle$."
   ]
  },
  {
   "cell_type": "markdown",
   "id": "e34561c3",
   "metadata": {
    "editable": true
   },
   "source": [
    "## Using Pauli matrices\n",
    "\n",
    "We rewrite $H$ (and $H_0$ and $H_I$)  via Pauli matrices"
   ]
  },
  {
   "cell_type": "markdown",
   "id": "5f3cb694",
   "metadata": {
    "editable": true
   },
   "source": [
    "$$\n",
    "H_0 = \\mathcal{E} I + \\Omega \\sigma_z, \\quad \\mathcal{E} = \\frac{E_1\n",
    "  + E_2}{2}, \\; \\Omega = \\frac{E_1-E_2}{2},\n",
    "$$"
   ]
  },
  {
   "cell_type": "markdown",
   "id": "42776549",
   "metadata": {
    "editable": true
   },
   "source": [
    "and"
   ]
  },
  {
   "cell_type": "markdown",
   "id": "88757f15",
   "metadata": {
    "editable": true
   },
   "source": [
    "$$\n",
    "H_I = c \\boldsymbol{I} +\\omega_z\\sigma_z + \\omega_x\\sigma_x,\n",
    "$$"
   ]
  },
  {
   "cell_type": "markdown",
   "id": "3f6d35f0",
   "metadata": {
    "editable": true
   },
   "source": [
    "with $c = (V_{11}+V_{22})/2$, $\\omega_z = (V_{11}-V_{22})/2$ and $\\omega_x = V_{12}=V_{21}$.\n",
    "We let our Hamiltonian depend linearly on a strength parameter $\\lambda$"
   ]
  },
  {
   "cell_type": "markdown",
   "id": "285fb467",
   "metadata": {
    "editable": true
   },
   "source": [
    "$$\n",
    "H=H_0+\\lambda H_\\mathrm{I},\n",
    "$$"
   ]
  },
  {
   "cell_type": "markdown",
   "id": "f2314e94",
   "metadata": {
    "editable": true
   },
   "source": [
    "with $\\lambda \\in [0,1]$, where the limits $\\lambda=0$ and $\\lambda=1$\n",
    "represent the non-interacting (or unperturbed) and fully interacting\n",
    "system, respectively.  The model is an eigenvalue problem with only\n",
    "two available states."
   ]
  },
  {
   "cell_type": "markdown",
   "id": "c70e0a7f",
   "metadata": {
    "editable": true
   },
   "source": [
    "## Selecting parameters\n",
    "\n",
    "Here we set the parameters $E_1=0$,\n",
    "$E_2=4$, $V_{11}=-V_{22}=3$ and $V_{12}=V_{21}=0.2$.\n",
    "\n",
    "The non-interacting solutions represent our computational basis.\n",
    "Pertinent to our choice of parameters, is that at $\\lambda\\geq 2/3$,\n",
    "the lowest eigenstate is dominated by $\\vert 1\\rangle$ while the upper\n",
    "is $\\vert 0 \\rangle$. At $\\lambda=1$ the $\\vert 0 \\rangle$ mixing of\n",
    "the lowest eigenvalue is $1\\%$ while for $\\lambda\\leq 2/3$ we have a\n",
    "$\\vert 0 \\rangle$ component of more than $90\\%$.  The character of the\n",
    "eigenvectors has therefore been interchanged when passing $z=2/3$. The\n",
    "value of the parameter $V_{12}$ represents the strength of the coupling\n",
    "between the two states."
   ]
  },
  {
   "cell_type": "markdown",
   "id": "8d0610bf",
   "metadata": {
    "editable": true
   },
   "source": [
    "## Setting up the matrix"
   ]
  },
  {
   "cell_type": "code",
   "execution_count": 1,
   "id": "e082a67f",
   "metadata": {
    "collapsed": false,
    "editable": true
   },
   "outputs": [
    {
     "name": "stdout",
     "output_type": "stream",
     "text": [
      "0.9801960972814431\n"
     ]
    }
   ],
   "source": [
    "%matplotlib inline\n",
    "\n",
    "from  matplotlib import pyplot as plt\n",
    "import numpy as np\n",
    "dim = 2\n",
    "Hamiltonian = np.zeros((dim,dim))\n",
    "e0 = 0.0\n",
    "e1 = 4.0\n",
    "Xnondiag = 0.20\n",
    "Xdiag = 3.0\n",
    "Eigenvalue = np.zeros(dim)\n",
    "# setting up the Hamiltonian\n",
    "Hamiltonian[0,0] = Xdiag+e0\n",
    "Hamiltonian[0,1] = Xnondiag\n",
    "Hamiltonian[1,0] = Hamiltonian[0,1]\n",
    "Hamiltonian[1,1] = e1-Xdiag\n",
    "# diagonalize and obtain eigenvalues, not necessarily sorted\n",
    "EigValues, EigVectors = np.linalg.eig(Hamiltonian)\n",
    "permute = EigValues.argsort()\n",
    "EigValues = EigValues[permute]\n",
    "# print only the lowest eigenvalue\n",
    "print(EigValues[0])"
   ]
  },
  {
   "cell_type": "markdown",
   "id": "2f4ee722",
   "metadata": {
    "editable": true
   },
   "source": [
    "Now rewrite it in terms of the identity matrix and the Pauli matrix X and Z"
   ]
  },
  {
   "cell_type": "code",
   "execution_count": 2,
   "id": "e95a252a",
   "metadata": {
    "collapsed": false,
    "editable": true
   },
   "outputs": [
    {
     "name": "stdout",
     "output_type": "stream",
     "text": [
      "0.9801960972814431\n"
     ]
    }
   ],
   "source": [
    "# Now rewrite it in terms of the identity matrix and the Pauli matrix X and Z\n",
    "X = np.array([[0,1],[1,0]])\n",
    "Y = np.array([[0,-1j],[1j,0]])\n",
    "Z = np.array([[1,0],[0,-1]])\n",
    "# identity matrix\n",
    "I = np.array([[1,0],[0,1]])\n",
    "\n",
    "epsilon = (e0+e1)*0.5; omega = (e0-e1)*0.5\n",
    "c = 0.0; omega_z=Xdiag; omega_x = Xnondiag\n",
    "Hamiltonian = (epsilon+c)*I+(omega_z+omega)*Z+omega_x*X\n",
    "EigValues, EigVectors = np.linalg.eig(Hamiltonian)\n",
    "permute = EigValues.argsort()\n",
    "EigValues = EigValues[permute]\n",
    "# print only the lowest eigenvalue\n",
    "print(EigValues[0])"
   ]
  },
  {
   "cell_type": "markdown",
   "id": "7bd21f83",
   "metadata": {
    "editable": true
   },
   "source": [
    "## Implementing the VQE\n",
    "\n",
    "For a one-qubit system we can reach every point on the Bloch sphere\n",
    "(as discussed earlier) with a rotation about the $x$-axis and the\n",
    "$y$-axis.\n",
    "\n",
    "We can express this mathematically through the following operations (see whiteboard for the drawing), giving us a new state $\\vert \\psi\\rangle$"
   ]
  },
  {
   "cell_type": "markdown",
   "id": "e92ed3ca",
   "metadata": {
    "editable": true
   },
   "source": [
    "$$\n",
    "\\vert\\psi\\rangle = R_y(\\phi)R_x(\\theta)\\vert 0 \\rangle.\n",
    "$$"
   ]
  },
  {
   "cell_type": "markdown",
   "id": "f8d3cc93",
   "metadata": {
    "editable": true
   },
   "source": [
    "## Possible ansatzes\n",
    "\n",
    "We can produce multiple ansatzes for the new state in terms of the\n",
    "angles $\\theta$ and $\\phi$.  With these ansatzes we can in turn\n",
    "calculate the expectation value of the above Hamiltonian, now\n",
    "rewritten in terms of various Pauli matrices (and thereby gates), that is compute"
   ]
  },
  {
   "cell_type": "markdown",
   "id": "997ecc16",
   "metadata": {
    "editable": true
   },
   "source": [
    "$$\n",
    "\\langle \\psi \\vert (c+\\mathcal{E})\\boldsymbol{I} + (\\Omega+\\omega_z)\\boldsymbol{\\sigma}_z + \\omega_x\\boldsymbol{\\sigma}_x\\vert \\psi \\rangle.\n",
    "$$"
   ]
  },
  {
   "cell_type": "markdown",
   "id": "e7e66316",
   "metadata": {
    "editable": true
   },
   "source": [
    "We can now set up a series of ansatzes for $\\vert \\psi \\rangle$ as\n",
    "function of the angles $\\theta$ and $\\phi$ and find thereafter the\n",
    "variational minimum using for example a gradient descent method."
   ]
  },
  {
   "cell_type": "markdown",
   "id": "210cc3f4",
   "metadata": {
    "editable": true
   },
   "source": [
    "## More on rotation operators\n",
    "\n",
    "To do so, we need to remind ourselves about the mathematical expressions for\n",
    "the rotational matrices/operators."
   ]
  },
  {
   "cell_type": "markdown",
   "id": "02f3a846",
   "metadata": {
    "editable": true
   },
   "source": [
    "$$\n",
    "R_x(\\theta)=\\cos{\\frac{\\theta}{2}}\\boldsymbol{I}-\\imath \\sin{\\frac{\\theta}{2}}\\boldsymbol{\\sigma}_x,\n",
    "$$"
   ]
  },
  {
   "cell_type": "markdown",
   "id": "6a8c6b11",
   "metadata": {
    "editable": true
   },
   "source": [
    "and"
   ]
  },
  {
   "cell_type": "markdown",
   "id": "6b5a1fe7",
   "metadata": {
    "editable": true
   },
   "source": [
    "$$\n",
    "R_y(\\phi)=\\cos{\\frac{\\phi}{2}}\\boldsymbol{I}-\\imath \\sin{\\frac{\\phi}{2}}\\boldsymbol{\\sigma}_y.\n",
    "$$"
   ]
  },
  {
   "cell_type": "markdown",
   "id": "39f86be2",
   "metadata": {
    "editable": true
   },
   "source": [
    "## Code example"
   ]
  },
  {
   "cell_type": "code",
   "execution_count": 3,
   "id": "efc368f2",
   "metadata": {
    "collapsed": false,
    "editable": true
   },
   "outputs": [
    {
     "name": "stdout",
     "output_type": "stream",
     "text": [
      "[0.67249851+0.21850801j 0.21850801-0.67249851j]\n",
      "(2-1.187159067031975e-16j)\n"
     ]
    }
   ],
   "source": [
    "# define the rotation matrices\n",
    "# Define angles theta and phi\n",
    "theta = 0.5*np.pi; phi = 0.2*np.pi\n",
    "Rx = np.cos(theta*0.5)*I-1j*np.sin(theta*0.5)*X\n",
    "Ry = np.cos(phi*0.5)*I-1j*np.sin(phi*0.5)*Y\n",
    "#define basis states\n",
    "basis0 = np.array([1,0])\n",
    "basis1 = np.array([0,1])\n",
    "\n",
    "NewBasis = Ry @ Rx @ basis0\n",
    "print(NewBasis)\n",
    "# Compute the expectation value\n",
    "#Note hermitian conjugation\n",
    "Energy = NewBasis.conj().T @ Hamiltonian @ NewBasis\n",
    "print(Energy)"
   ]
  },
  {
   "cell_type": "markdown",
   "id": "60e226ba",
   "metadata": {
    "editable": true
   },
   "source": [
    "Not an impressive results. We set up now a loop over many angles $\\theta$ and $\\phi$ and compute the energies"
   ]
  },
  {
   "cell_type": "code",
   "execution_count": 4,
   "id": "77e795f9",
   "metadata": {
    "collapsed": false,
    "editable": true
   },
   "outputs": [
    {
     "name": "stdout",
     "output_type": "stream",
     "text": [
      "0.01575557799303584\n"
     ]
    }
   ],
   "source": [
    "# define a number of angles\n",
    "n = 20\n",
    "angle = np.arange(0,180,10)\n",
    "n = np.size(angle)\n",
    "ExpectationValues = np.zeros((n,n))\n",
    "for i in range (n):\n",
    "    theta = np.pi*angle[i]/180.0\n",
    "    Rx = np.cos(theta*0.5)*I-1j*np.sin(theta*0.5)*X\n",
    "    for j in range (n):\n",
    "        phi = np.pi*angle[j]/180.0\n",
    "        Ry = np.cos(phi*0.5)*I-1j*np.sin(phi*0.5)*Y\n",
    "        NewBasis = Ry @ Rx @ basis0\n",
    "        Energy = NewBasis.conj().T @ Hamiltonian @ NewBasis\n",
    "        Edifference=abs(np.real(EigValues[0]-Energy))\n",
    "        ExpectationValues[i,j]=Edifference\n",
    "\n",
    "print(np.min(ExpectationValues))"
   ]
  },
  {
   "cell_type": "markdown",
   "id": "ae70d479",
   "metadata": {
    "editable": true
   },
   "source": [
    "Clearly, this is not the very best way of proceeding. Rather, here we\n",
    "would compute the gradient and thereby find the minimum as function of\n",
    "the angles $\\theta$ and $\\phi$. Furthermore, in sertting up the\n",
    "angles, a better practice is to select random values for these.\n",
    "\n",
    "For the lectures of April 17-21, we will\n",
    "add code example using gradient descent for the one- and two-qubit case. We will follow\n",
    "<https://journals.aps.org/pra/abstract/10.1103/PhysRevA.99.032331> as a guideline to calculate gradients of the Hamiltonian."
   ]
  },
  {
   "cell_type": "markdown",
   "id": "5d1abe55",
   "metadata": {
    "editable": true
   },
   "source": [
    "## A smarter way of doing this\n",
    "\n",
    "The above approach means that we are setting up several matrix-matrix\n",
    "amd matrix-vector multiplications. Although straight forward it is not\n",
    "the most efficient way of doing this, in particular in case the\n",
    "matrices become large (and sparse). But there are some more important\n",
    "issues.\n",
    "\n",
    "In a physical realization of these systems we cannot just multiply the\n",
    "state with the Hamiltonian. When performing a measurement we can only\n",
    "measure in one particular direction. For the computational basis\n",
    "states which we have, $\\vert 0\\rangle$ and $\\vert 1\\rangle$, we have\n",
    "to measure along the bases of the Pauli matrices and reconstruct the\n",
    "eigenvalues from these measurements."
   ]
  },
  {
   "cell_type": "markdown",
   "id": "426b9ff1",
   "metadata": {
    "editable": true
   },
   "source": [
    "## Using the Pauli $Z$ matrix\n",
    "\n",
    "From our earlier discussions we know that the Pauli $Z$ matrix has the above basis states as eigen states through"
   ]
  },
  {
   "cell_type": "markdown",
   "id": "a7002fa2",
   "metadata": {
    "editable": true
   },
   "source": [
    "$$\n",
    "\\boldsymbol{\\sigma}_z\\vert 0 \\rangle = \\boldsymbol{Z}\\vert 0 \\rangle=+1\\vert 0 \\rangle,\n",
    "$$"
   ]
  },
  {
   "cell_type": "markdown",
   "id": "d72ee7b2",
   "metadata": {
    "editable": true
   },
   "source": [
    "and"
   ]
  },
  {
   "cell_type": "markdown",
   "id": "a6fd485c",
   "metadata": {
    "editable": true
   },
   "source": [
    "$$\n",
    "\\boldsymbol{\\sigma}_z\\vert 1 \\rangle = \\boldsymbol{Z}\\vert 1 \\rangle=-1\\vert 1 \\rangle,\n",
    "$$"
   ]
  },
  {
   "cell_type": "markdown",
   "id": "bc965c54",
   "metadata": {
    "editable": true
   },
   "source": [
    "with eigenvalue $-1$."
   ]
  },
  {
   "cell_type": "markdown",
   "id": "07952253",
   "metadata": {
    "editable": true
   },
   "source": [
    "## The Pauli $X$ matrix\n",
    "For the Pauli $X$ matrix on the other hand we have"
   ]
  },
  {
   "cell_type": "markdown",
   "id": "fac7bffe",
   "metadata": {
    "editable": true
   },
   "source": [
    "$$\n",
    "\\boldsymbol{\\sigma}_x\\vert 0 \\rangle = \\boldsymbol{X}\\vert 0 \\rangle=+1\\vert 1 \\rangle,\n",
    "$$"
   ]
  },
  {
   "cell_type": "markdown",
   "id": "8d739b8c",
   "metadata": {
    "editable": true
   },
   "source": [
    "and"
   ]
  },
  {
   "cell_type": "markdown",
   "id": "34eb7b5b",
   "metadata": {
    "editable": true
   },
   "source": [
    "$$\n",
    "\\boldsymbol{\\sigma}_x\\vert 1 \\rangle = \\boldsymbol{X}\\vert 1 \\rangle=-1\\vert 0 \\rangle,\n",
    "$$"
   ]
  },
  {
   "cell_type": "markdown",
   "id": "4b343bad",
   "metadata": {
    "editable": true
   },
   "source": [
    "with eigenvalues $1$ in both cases. The latter two equations tell us\n",
    "that the computational basis we have chosen, and in which we will\n",
    "prepare our states, is not an eigenbasis of the $\\sigma_x$ matrix."
   ]
  },
  {
   "cell_type": "markdown",
   "id": "7dd34bb8",
   "metadata": {
    "editable": true
   },
   "source": [
    "## Rewriting in terms of Pauli $Z$ matrices\n",
    "\n",
    "We will thus try to rewrite the Pauli $X$ matrix in terms of a Pauli $Z$ matrix. Fortunately this can be done using the Hadamard matrix twice, that is"
   ]
  },
  {
   "cell_type": "markdown",
   "id": "a95943e9",
   "metadata": {
    "editable": true
   },
   "source": [
    "$$\n",
    "\\boldsymbol{X}=\\boldsymbol{\\sigma}_x=\\boldsymbol{H}\\boldsymbol{Z}\\boldsymbol{H}.\n",
    "$$"
   ]
  },
  {
   "cell_type": "markdown",
   "id": "719f2938",
   "metadata": {
    "editable": true
   },
   "source": [
    "The Pauli $Y$ matrix can be written as"
   ]
  },
  {
   "cell_type": "markdown",
   "id": "dff350a3",
   "metadata": {
    "editable": true
   },
   "source": [
    "$$\n",
    "\\boldsymbol{Y}=\\boldsymbol{\\sigma}_y=\\boldsymbol{H}\\boldsymbol{S}^{\\dagger}\\boldsymbol{Z}\\boldsymbol{H}\\boldsymbol{S},\n",
    "$$"
   ]
  },
  {
   "cell_type": "markdown",
   "id": "87f19806",
   "metadata": {
    "editable": true
   },
   "source": [
    "where $S$ is the phase matrix"
   ]
  },
  {
   "cell_type": "markdown",
   "id": "cb5cad77",
   "metadata": {
    "editable": true
   },
   "source": [
    "$$\n",
    "S = \\begin{bmatrix} 1 & 0 \\\\ 0 & \\imath \\end{bmatrix}.\n",
    "$$"
   ]
  },
  {
   "cell_type": "markdown",
   "id": "6ad053ea",
   "metadata": {
    "editable": true
   },
   "source": [
    "## Rewriting the Hamiltonian\n",
    "\n",
    "From here and on we will denote the Pauli matrices by $X$, $Y$ and $Z$ and we can write the expectation value of the Hamiltonian as"
   ]
  },
  {
   "cell_type": "markdown",
   "id": "33c0b544",
   "metadata": {
    "editable": true
   },
   "source": [
    "$$\n",
    "\\langle \\psi \\vert (c+\\mathcal{E})\\boldsymbol{I} + (\\Omega+\\omega_z)\\boldsymbol{Z} + \\omega_x\\boldsymbol{H}\\boldsymbol{Z}\\boldsymbol{H}\\vert \\psi \\rangle,\n",
    "$$"
   ]
  },
  {
   "cell_type": "markdown",
   "id": "e97550e1",
   "metadata": {
    "editable": true
   },
   "source": [
    "which we can rewrite as"
   ]
  },
  {
   "cell_type": "markdown",
   "id": "81cd89c2",
   "metadata": {
    "editable": true
   },
   "source": [
    "$$\n",
    "(c+\\mathcal{E})\\langle \\psi \\vert \\boldsymbol{I}\\vert \\psi \\rangle+(\\Omega+\\omega_z)\\langle \\psi \\vert \\boldsymbol{Z}\\vert \\psi \\rangle+\\omega_x\\langle \\psi \\boldsymbol{H}\\vert \\boldsymbol{Z}\\vert\\boldsymbol{H}\\psi \\rangle.\n",
    "$$"
   ]
  },
  {
   "cell_type": "markdown",
   "id": "842b4dd4",
   "metadata": {
    "editable": true
   },
   "source": [
    "The first and second term are to easy to perform a measurement on since we we just need to compute\n",
    "$\\langle \\psi\\vert \\boldsymbol{I}\\vert \\psi\\rangle$ and $\\langle \\psi\\vert \\boldsymbol{Z}\\vert \\psi\\rangle$.\n",
    "For the final term we need just to add the action of the Hadamard matrix and we are done."
   ]
  },
  {
   "cell_type": "markdown",
   "id": "b22c6549",
   "metadata": {
    "editable": true
   },
   "source": [
    "## Main advantage\n",
    "The main advantage\n",
    "is that VQE uses much smaller circuit depths (or gates) than\n",
    "QPE, what is very important for NISQ (Noisy Intermediate-Scale\n",
    "Quantum) era quantum computation. In the NISQ era (now!) we are\n",
    "working with qubits that are very noisy because they are not isolated\n",
    "from the environment well enough. Thus, there is small and finite time\n",
    "to work with qubits until they will be *spoiled*, because of the\n",
    "environment, imperfect gates and etc. This restriction gives a big\n",
    "advantage to those algorithms (like VQE) that are using small depth\n",
    "circuits."
   ]
  },
  {
   "cell_type": "markdown",
   "id": "a12f93a1",
   "metadata": {
    "editable": true
   },
   "source": [
    "## Basic idea\n",
    "\n",
    "The idea of the VQE algorithm is as follows. We have a Hamiltonian that can be expressed by the sum of tensor products of Pauli operators (Pauli terms):"
   ]
  },
  {
   "cell_type": "markdown",
   "id": "bb0a668b",
   "metadata": {
    "editable": true
   },
   "source": [
    "$$\n",
    "H = 0.4 \\cdot IX + 0.6 \\cdot IZ + 0.8 \\cdot XY.\n",
    "$$"
   ]
  },
  {
   "cell_type": "markdown",
   "id": "35d48124",
   "metadata": {
    "editable": true
   },
   "source": [
    "For a given $\\left| \\psi \\right\\rangle$ we want to measure the expectation value of the Hamiltonian:"
   ]
  },
  {
   "cell_type": "markdown",
   "id": "e4dc4e80",
   "metadata": {
    "editable": true
   },
   "source": [
    "$$\n",
    "\\left\\langle H \\right\\rangle = \\left\\langle \\psi \\right\\vert  H \\left| \\psi \\right\\rangle = 0.4 \\cdot \\left\\langle \\psi \\right\\vert  IX \\left| \\psi \\right\\rangle + 0.6 \\cdot \\left\\langle \\psi \\right\\vert  IZ \\left| \\psi \\right\\rangle + 0.8 \\cdot \\left\\langle \\psi \\right\\vert  XY \\left| \\psi \\right\\rangle.\n",
    "$$"
   ]
  },
  {
   "cell_type": "markdown",
   "id": "d018b64d",
   "metadata": {
    "editable": true
   },
   "source": [
    "## VQE and quantum circuits\n",
    "\n",
    "How one can see the $\\left\\langle H \\right\\rangle$ expectation value\n",
    "could be computed by adding the expectation values of its parts (Pauli\n",
    "terms). The algorithm does exactly that. It constructs a quantum\n",
    "circuit for each Pauli term and computes the expectation value of the\n",
    "corresponding Pauli term. Then, the algorithm sums all calculated\n",
    "expectation values of Pauli terms and obtains the expectation value of\n",
    "$H$. In this algorithm, we will do this routine of estimating the\n",
    "expectation value of $H$ over and over again for different trial\n",
    "wavefunctions (ansatz states) $\\left| \\psi \\right\\rangle$."
   ]
  },
  {
   "cell_type": "markdown",
   "id": "bd0db411",
   "metadata": {
    "editable": true
   },
   "source": [
    "## Varying paramters\n",
    "\n",
    "It is known that the eigenvector $\\left| \\psi_g \\right\\rangle$ that\n",
    "minimizes the expectation value $\\left\\langle H \\right\\rangle$\n",
    "corresponds to the eigenvector of $H$ that has the smallest\n",
    "eigenvalue. So, basically we can try all possible trial wavefunctions\n",
    "$\\left| \\psi \\right\\rangle$s to find the $\\left| \\psi_g \\right\\rangle$\n",
    "that has the smallest expectation value. Here the question is how we\n",
    "create those trial states?"
   ]
  },
  {
   "cell_type": "markdown",
   "id": "a7d770db",
   "metadata": {
    "editable": true
   },
   "source": [
    "## Constructing trial states\n",
    "\n",
    "In the algorithm, the trial states are\n",
    "created from a parametrized circuit. By changing the parameters one\n",
    "obtains different wavefunctions (ansatz states). If your circuit\n",
    "with its parameters is good enough you will have access to the\n",
    "subspace of the states that includes the $\\left| \\psi_g\n",
    "\\right\\rangle$. Otherwise, if the circuit will not have a possibility\n",
    "to generate our desired $\\left| \\psi_g \\right\\rangle$ it will be\n",
    "impossible to find the right solution."
   ]
  },
  {
   "cell_type": "markdown",
   "id": "a2a0dbdf",
   "metadata": {
    "editable": true
   },
   "source": [
    "## Hybrid operations\n",
    "\n",
    "The parameters of the state preparation circuit are controlled by a\n",
    "classical computer. At each step, the classical computer will change\n",
    "the parameters by using some optimization method in order to create an\n",
    "ansatz state that will have a smaller expectation value then previous\n",
    "ansatz states had. This way the classical computer and the quantum\n",
    "computer are working together to archive the goal of the algorithm (to\n",
    "find the ground state energy). That's way, VQE is a quantum-classical\n",
    "hybrid algorithm."
   ]
  },
  {
   "cell_type": "markdown",
   "id": "1e83f8cb",
   "metadata": {
    "editable": true
   },
   "source": [
    "## Reminder on technicalities\n",
    "\n",
    "From our earlier discussions we know that the Pauli $Z$ matrix has the\n",
    "above basis states as eigen states through"
   ]
  },
  {
   "cell_type": "markdown",
   "id": "e032924c",
   "metadata": {
    "editable": true
   },
   "source": [
    "$$\n",
    "\\boldsymbol{Z}\\vert 0 \\rangle=+1\\vert 0 \\rangle,\n",
    "$$"
   ]
  },
  {
   "cell_type": "markdown",
   "id": "82c7c13b",
   "metadata": {
    "editable": true
   },
   "source": [
    "and"
   ]
  },
  {
   "cell_type": "markdown",
   "id": "1e805e92",
   "metadata": {
    "editable": true
   },
   "source": [
    "$$\n",
    "\\boldsymbol{Z}\\vert 1 \\rangle=-1\\vert 1 \\rangle,\n",
    "$$"
   ]
  },
  {
   "cell_type": "markdown",
   "id": "8e0bbf8a",
   "metadata": {
    "editable": true
   },
   "source": [
    "with eigenvalue $-1$."
   ]
  },
  {
   "cell_type": "markdown",
   "id": "0cffda8c",
   "metadata": {
    "editable": true
   },
   "source": [
    "## Pauli $X$ reminder\n",
    "\n",
    "For the Pauli $X$ matrix on the other hand we have"
   ]
  },
  {
   "cell_type": "markdown",
   "id": "8a16bb71",
   "metadata": {
    "editable": true
   },
   "source": [
    "$$\n",
    "\\boldsymbol{X}\\vert 0 \\rangle=+1\\vert 1 \\rangle,\n",
    "$$"
   ]
  },
  {
   "cell_type": "markdown",
   "id": "620d8e1a",
   "metadata": {
    "editable": true
   },
   "source": [
    "and"
   ]
  },
  {
   "cell_type": "markdown",
   "id": "90326d93",
   "metadata": {
    "editable": true
   },
   "source": [
    "$$\n",
    "\\boldsymbol{X}\\vert 1 \\rangle=-1\\vert 0 \\rangle,\n",
    "$$"
   ]
  },
  {
   "cell_type": "markdown",
   "id": "71219941",
   "metadata": {
    "editable": true
   },
   "source": [
    "with eigenvalues $1$ in both cases. The latter two equations tell us\n",
    "that the computational basis we have chosen, and in which we will\n",
    "prepare our states, is not an eigenbasis of the $\\boldsymbol{X}$ matrix."
   ]
  },
  {
   "cell_type": "markdown",
   "id": "122d6d6f",
   "metadata": {
    "editable": true
   },
   "source": [
    "## Rewriting the Pauli $X$ matrix\n",
    "\n",
    "We rewrite the Pauli $X$ matrix in terms of a Pauli\n",
    "$Z$ matrix using the Hadamard matrix\n",
    "twice, that is"
   ]
  },
  {
   "cell_type": "markdown",
   "id": "b7c3acb2",
   "metadata": {
    "editable": true
   },
   "source": [
    "$$\n",
    "\\boldsymbol{X}=\\boldsymbol{H}\\boldsymbol{Z}\\boldsymbol{H}.\n",
    "$$"
   ]
  },
  {
   "cell_type": "markdown",
   "id": "d5bf9414",
   "metadata": {
    "editable": true
   },
   "source": [
    "## The Pauli $Y$ matrix\n",
    "\n",
    "The Pauli $Y$ matrix can be written as"
   ]
  },
  {
   "cell_type": "markdown",
   "id": "c9b59855",
   "metadata": {
    "editable": true
   },
   "source": [
    "$$\n",
    "\\boldsymbol{Y}=\\boldsymbol{H}\\boldsymbol{S}^{\\dagger}\\boldsymbol{Z}\\boldsymbol{H}\\boldsymbol{S},\n",
    "$$"
   ]
  },
  {
   "cell_type": "markdown",
   "id": "0d03b52c",
   "metadata": {
    "editable": true
   },
   "source": [
    "where $S$ is the phase matrix"
   ]
  },
  {
   "cell_type": "markdown",
   "id": "5763c4a9",
   "metadata": {
    "editable": true
   },
   "source": [
    "$$\n",
    "S = \\begin{bmatrix} 1 & 0 \\\\ 0 & \\imath \\end{bmatrix}.\n",
    "$$"
   ]
  },
  {
   "cell_type": "markdown",
   "id": "15676920",
   "metadata": {
    "editable": true
   },
   "source": [
    "## Rotations\n",
    "\n",
    "Another important set of gates are the **rotation operators** $R_x, R_y$ and $R_z$.\n",
    "By application to a qubit, we can reach any point on the Bloch sphere by usage of all three once. They are expressed as"
   ]
  },
  {
   "cell_type": "markdown",
   "id": "a7d4c972",
   "metadata": {
    "editable": true
   },
   "source": [
    "$$\n",
    "\\begin{align*}\n",
    "    \\begin{split}\n",
    "        R_x(\\theta) &= \\exp{-iX\\theta/2} = \\begin{bmatrix}\n",
    "            \\cos(\\theta/2) & -i\\sin(\\theta/2) \\\\\n",
    "            -i\\sin(\\theta/2) & \\cos(\\theta/2)\n",
    "        \\end{bmatrix}, \\\\\n",
    "        R_y(\\theta) &= \\exp{-iY\\theta/2} = \\begin{bmatrix}\n",
    "            \\cos(\\theta/2) & -\\sin(\\theta/2) \\\\\n",
    "            -\\sin(\\theta/2) & \\cos(\\theta/2)\n",
    "        \\end{bmatrix}, \\\\\n",
    "        R_z(\\theta) &= \\exp{-iZ\\theta/2} = \\begin{bmatrix}\n",
    "            \\exp{-i\\theta/2} & 0 \\\\\n",
    "            0 & \\exp{i\\theta/2}\n",
    "        \\end{bmatrix}\n",
    "    \\end{split}\n",
    "\\end{align*}\n",
    "$$"
   ]
  },
  {
   "cell_type": "markdown",
   "id": "127c960e",
   "metadata": {
    "editable": true
   },
   "source": [
    "with all having a period of $4\\pi$."
   ]
  },
  {
   "cell_type": "markdown",
   "id": "3b835dc2",
   "metadata": {
    "editable": true
   },
   "source": [
    "## Rayleigh-Ritz variational principle\n",
    "\n",
    "The Rayleigh-Ritz variational principle states that for a given\n",
    "Hamiltonian $H$, the expectation value of a trial state or\n",
    "just ansatz $\\vert \\psi \\rangle$ puts a lower bound on the ground state\n",
    "energy $E_0$."
   ]
  },
  {
   "cell_type": "markdown",
   "id": "ec362ecf",
   "metadata": {
    "editable": true
   },
   "source": [
    "$$\n",
    "\\frac{\\langle \\psi \\vert H\\vert \\psi \\rangle}{\\langle \\psi \\vert \\psi \\rangle} \\geq E_0.\n",
    "$$"
   ]
  },
  {
   "cell_type": "markdown",
   "id": "61ebc249",
   "metadata": {
    "editable": true
   },
   "source": [
    "## The ansatz\n",
    "\n",
    "The ansatz is typically chosen to be a parameterized superposition of\n",
    "basis states that can be varied to improve the energy estimate,\n",
    "$\\vert \\psi\\rangle \\equiv \\vert psi(\\boldsymbol{\\theta})\\rangle$ where\n",
    "$\\boldsymbol{\\theta} = (\\theta_1, \\ldots, \\theta_M)$ are the $M$\n",
    "optimization parameters."
   ]
  },
  {
   "cell_type": "markdown",
   "id": "be48d91e",
   "metadata": {
    "editable": true
   },
   "source": [
    "## Rotations again\n",
    "\n",
    "To have any flexibility in the\n",
    "ansatz $\\vert \\psi\\rangle$, we need to allow for parametrization. The most\n",
    "common approach is the so-called $R_y$ ansatz, where we apply chained\n",
    "operations of rotating around the $y$-axis by $\\boldsymbol{\\theta} =\n",
    "(\\theta_1,\\ldots,\\theta_Q)$ of the Bloch sphere and CNOT operations.\n",
    "\n",
    "Applications of $y$ rotations\n",
    "specifically ensures that our coefficients always remain real, which\n",
    "often is satisfactory when dealing with many-body systems."
   ]
  },
  {
   "cell_type": "markdown",
   "id": "4c547d3d",
   "metadata": {
    "editable": true
   },
   "source": [
    "## Measurements and more\n",
    "\n",
    "After the ansatz has been constructed, the Hamiltonian must\n",
    "be applied. As discussed, the Hamiltonian must be written in terms of\n",
    "Pauli strings.\n",
    "\n",
    "To obtain the expectation value\n",
    "of the ground state energy, one can measure the expectation value of\n",
    "each Pauli string,"
   ]
  },
  {
   "cell_type": "markdown",
   "id": "5689b738",
   "metadata": {
    "editable": true
   },
   "source": [
    "$$\n",
    "\\begin{align*}\n",
    "    E(\\boldsymbol{\\theta}) = \\sum_i w_i\\langle \\psi(\\boldsymbol{\\theta})\\vert P_i \\vert \\psi(\\boldsymbol{\\theta})\\rangle \\equiv \\sum_i w_i f_i,\n",
    "\\end{align*}\n",
    "$$"
   ]
  },
  {
   "cell_type": "markdown",
   "id": "62f1893e",
   "metadata": {
    "editable": true
   },
   "source": [
    "where $f_i$ is the expectation value of the Pauli string $i$."
   ]
  },
  {
   "cell_type": "markdown",
   "id": "2590cbc2",
   "metadata": {
    "editable": true
   },
   "source": [
    "## Collecting data\n",
    "\n",
    "This is estimated statistically by considering measurements in the\n",
    "appropriate basis of the operator in the Pauli string.\n",
    "\n",
    "With $N_0$ and $N_1$ as the number of $0$ and $1$ measurements respectively, we can estimate $f_i$ since"
   ]
  },
  {
   "cell_type": "markdown",
   "id": "3f83894d",
   "metadata": {
    "editable": true
   },
   "source": [
    "$$\n",
    "\\begin{align*}\n",
    "    f_i = \\lim_{N \\to \\infty} \\frac{N_0 - N_1}{N},\n",
    "\\end{align*}\n",
    "$$"
   ]
  },
  {
   "cell_type": "markdown",
   "id": "3d6d3f48",
   "metadata": {
    "editable": true
   },
   "source": [
    "where $N$ as the number of shots (measurements).\n",
    "\n",
    "Each Pauli string requires it own circuit, where multiple measurements\n",
    "of each string is required. Adding the results together with the\n",
    "corresponding weights, the ground state energy can be estimated. To\n",
    "optimize with respect to  $\\boldsymbol{\\theta}$, a classical optimizer is often\n",
    "applied."
   ]
  },
  {
   "cell_type": "markdown",
   "id": "5c2932e3",
   "metadata": {
    "editable": true
   },
   "source": [
    "## The VQE algoritm\n",
    "\n",
    "The VQE algorithm consists of several steps, partially done on a classical computer:\n",
    "1. A parameterized ansatz for the quantum state is implemented on a quantum computer.\n",
    "\n",
    "2. The ansatz is measured in a given measurement basis.\n",
    "\n",
    "3. Postprocessing on a classical computer converts the measurement outcomes to an expectation value.\n",
    "\n",
    "4. Classical minimization algorithms are used to up- date the variational parameters.\n",
    "\n",
    "The updated variational parameters are then sent back to the quantum\n",
    "computer, and the process is repeated until the optimal variational\n",
    "parameters are found."
   ]
  },
  {
   "cell_type": "markdown",
   "id": "aa5940b0",
   "metadata": {
    "editable": true
   },
   "source": [
    "## VQE overview\n",
    "\n",
    "<!-- dom:FIGURE: [figures/vqe.png, width=700 frac=0.9] -->\n",
    "<!-- begin figure -->\n",
    "\n",
    "<img src=\"figures/vqe.png\" width=\"700\"><p style=\"font-size: 0.9em\"><i>Figure 1: </i></p>\n",
    "<!-- end figure -->"
   ]
  },
  {
   "cell_type": "markdown",
   "id": "5b24a406",
   "metadata": {
    "editable": true
   },
   "source": [
    "## Ansatzes\n",
    "\n",
    "Every possible qubit wavefunction $\\left| \\psi \\right\\rangle$ can be presented as a vector:"
   ]
  },
  {
   "cell_type": "markdown",
   "id": "c9c5e1eb",
   "metadata": {
    "editable": true
   },
   "source": [
    "$$\n",
    "\\left| \\psi \\right\\rangle = \\begin{pmatrix}\n",
    "\\cos{\\left( \\theta/2 \\right)}\\\\\n",
    "e^{i \\varphi} \\cdot \\sin{\\left( \\theta/2 \\right)}\n",
    "\\end{pmatrix},\n",
    "$$"
   ]
  },
  {
   "cell_type": "markdown",
   "id": "c187da57",
   "metadata": {
    "editable": true
   },
   "source": [
    "where the numbers $\\theta$ and $\\varphi$ define a point on the unit\n",
    "three-dimensional sphere, the so-called  Bloch sphere.\n",
    "\n",
    "For a random one qubit Hamiltonian, a *good* quantum state preparation\n",
    "circuit should be able to generate all possible states in the Bloch\n",
    "sphere."
   ]
  },
  {
   "cell_type": "markdown",
   "id": "1d9b3ebb",
   "metadata": {
    "editable": true
   },
   "source": [
    "## Preparing the states\n",
    "\n",
    "Before quantum state preparation, our qubit is in the $\\vert 0\\rangle$ state.\n",
    "This corresponds to the vertical position of\n",
    "the vector in the Bloch sphere. In order to generate any possible\n",
    "$\\left| \\psi \\right\\rangle$ we will apply $R_x(t_1)$ and $R_y(t_2)$\n",
    "gates on the $\\left| 0 \\right\\rangle$ initial state"
   ]
  },
  {
   "cell_type": "markdown",
   "id": "aff801d9",
   "metadata": {
    "editable": true
   },
   "source": [
    "$$\n",
    "R_y(\\phi)R_x(\\theta) \\left| 0 \\right\\rangle = \\left| \\psi\\right\\rangle.\n",
    "$$"
   ]
  },
  {
   "cell_type": "markdown",
   "id": "8a7a651a",
   "metadata": {
    "editable": true
   },
   "source": [
    "The rotation $R_x(\\theta)$\n",
    "corresponds to the rotation in the Bloch\n",
    "sphere around the $x$-axis and $R_y(\\phi)$ the rotation around the $y$-axis."
   ]
  },
  {
   "cell_type": "markdown",
   "id": "b7f6b67f",
   "metadata": {
    "editable": true
   },
   "source": [
    "## Rotations used\n",
    "\n",
    "These two gates with there parameters ($\\theta$ and $\\phi$) will generate\n",
    "for us the trial (ansatz) wavefunctions. The two parameters will be in\n",
    "control of the Classical Computer and its optimization model."
   ]
  },
  {
   "cell_type": "markdown",
   "id": "6a1731fd",
   "metadata": {
    "editable": true
   },
   "source": [
    "## Implementing using qiskit"
   ]
  },
  {
   "cell_type": "code",
   "execution_count": 5,
   "id": "62b8b27b",
   "metadata": {
    "collapsed": false,
    "editable": true
   },
   "outputs": [],
   "source": [
    "import numpy as np\n",
    "from random import random\n",
    "from qiskit import *\n",
    "def quantum_state_preparation(circuit, parameters):\n",
    "    q = circuit.qregs[0] # q is the quantum register where the info about qubits is stored\n",
    "    circuit.rx(parameters[0], q[0]) # q[0] is our one and only qubit XD\n",
    "    circuit.ry(parameters[1], q[0])\n",
    "    return circuit"
   ]
  },
  {
   "cell_type": "markdown",
   "id": "6d15be73",
   "metadata": {
    "editable": true
   },
   "source": [
    "## VQE and efficient computations of gradients\n",
    "\n",
    "We start with a reminder on the VQE method with applications to the\n",
    "one-qubit system discussed last week.\n",
    "\n",
    "Here we revisit the one-qubit system and develop a VQE\n",
    "code for studying this system using gradient descent as a method to\n",
    "optimize the variational ansatz. \n",
    "\n",
    "We start with a simple $2\\times 2$ Hamiltonian matrix expressed in\n",
    "terms of Pauli $X$ and $Z$ matrices, as discussed in the project text."
   ]
  },
  {
   "cell_type": "markdown",
   "id": "7e54ef4c",
   "metadata": {
    "editable": true
   },
   "source": [
    "## Symmetric matrix\n",
    "\n",
    "We define a  symmetric matrix  $H\\in {\\mathbb{R}}^{2\\times 2}$"
   ]
  },
  {
   "cell_type": "markdown",
   "id": "fa5c03f6",
   "metadata": {
    "editable": true
   },
   "source": [
    "$$\n",
    "H = \\begin{bmatrix} H_{11} & H_{12} \\\\ H_{21} & H_{22}\n",
    "\\end{bmatrix},\n",
    "$$"
   ]
  },
  {
   "cell_type": "markdown",
   "id": "8c7e75b1",
   "metadata": {
    "editable": true
   },
   "source": [
    "We  let $H = H_0 + H_I$, where"
   ]
  },
  {
   "cell_type": "markdown",
   "id": "4c71cc17",
   "metadata": {
    "editable": true
   },
   "source": [
    "$$\n",
    "H_0= \\begin{bmatrix} E_1 & 0 \\\\ 0 & E_2\\end{bmatrix},\n",
    "$$"
   ]
  },
  {
   "cell_type": "markdown",
   "id": "b975df38",
   "metadata": {
    "editable": true
   },
   "source": [
    "is a diagonal matrix. Similarly,"
   ]
  },
  {
   "cell_type": "markdown",
   "id": "73aee39b",
   "metadata": {
    "editable": true
   },
   "source": [
    "$$\n",
    "H_I= \\begin{bmatrix} V_{11} & V_{12} \\\\ V_{21} & V_{22}\\end{bmatrix},\n",
    "$$"
   ]
  },
  {
   "cell_type": "markdown",
   "id": "59a6c814",
   "metadata": {
    "editable": true
   },
   "source": [
    "where $V_{ij}$ represent various interaction matrix elements."
   ]
  },
  {
   "cell_type": "markdown",
   "id": "6bedef4a",
   "metadata": {
    "editable": true
   },
   "source": [
    "## Non-interacting solution\n",
    "\n",
    "We can view $H_0$ as the non-interacting solution"
   ]
  },
  {
   "cell_type": "markdown",
   "id": "d5ed9200",
   "metadata": {
    "editable": true
   },
   "source": [
    "<!-- Equation labels as ordinary links -->\n",
    "<div id=\"_auto7\"></div>\n",
    "\n",
    "$$\n",
    "\\begin{equation}\n",
    "       H_0\\vert 0 \\rangle =E_1\\vert 0 \\rangle,\n",
    "\\label{_auto7} \\tag{8}\n",
    "\\end{equation}\n",
    "$$"
   ]
  },
  {
   "cell_type": "markdown",
   "id": "836ddfe5",
   "metadata": {
    "editable": true
   },
   "source": [
    "and"
   ]
  },
  {
   "cell_type": "markdown",
   "id": "e1ac1c52",
   "metadata": {
    "editable": true
   },
   "source": [
    "<!-- Equation labels as ordinary links -->\n",
    "<div id=\"_auto8\"></div>\n",
    "\n",
    "$$\n",
    "\\begin{equation}\n",
    "       H_0\\vert 1\\rangle =E_2\\vert 1\\rangle,\n",
    "\\label{_auto8} \\tag{9}\n",
    "\\end{equation}\n",
    "$$"
   ]
  },
  {
   "cell_type": "markdown",
   "id": "3c4e0c39",
   "metadata": {
    "editable": true
   },
   "source": [
    "where we have defined the orthogonal computational one-qubit basis states $\\vert 0\\rangle$ and $\\vert 1\\rangle$."
   ]
  },
  {
   "cell_type": "markdown",
   "id": "c8311f50",
   "metadata": {
    "editable": true
   },
   "source": [
    "## Rewriting with Pauli matrices\n",
    "We rewrite $H$ (and $H_0$ and $H_I$)  via Pauli matrices"
   ]
  },
  {
   "cell_type": "markdown",
   "id": "23a4c6b6",
   "metadata": {
    "editable": true
   },
   "source": [
    "$$\n",
    "H_0 = \\mathcal{E} I + \\Omega \\sigma_z, \\quad \\mathcal{E} = \\frac{E_1\n",
    "  + E_2}{2}, \\; \\Omega = \\frac{E_1-E_2}{2},\n",
    "$$"
   ]
  },
  {
   "cell_type": "markdown",
   "id": "a42f5c93",
   "metadata": {
    "editable": true
   },
   "source": [
    "and"
   ]
  },
  {
   "cell_type": "markdown",
   "id": "f14c4e56",
   "metadata": {
    "editable": true
   },
   "source": [
    "$$\n",
    "H_I = c \\boldsymbol{I} +\\omega_z\\sigma_z + \\omega_x\\sigma_x,\n",
    "$$"
   ]
  },
  {
   "cell_type": "markdown",
   "id": "d9634052",
   "metadata": {
    "editable": true
   },
   "source": [
    "with $c = (V_{11}+V_{22})/2$, $\\omega_z = (V_{11}-V_{22})/2$ and $\\omega_x = V_{12}=V_{21}$.\n",
    "We let our Hamiltonian depend linearly on a strength parameter $\\lambda$"
   ]
  },
  {
   "cell_type": "markdown",
   "id": "1eb2069f",
   "metadata": {
    "editable": true
   },
   "source": [
    "$$\n",
    "H=H_0+\\lambda H_\\mathrm{I},\n",
    "$$"
   ]
  },
  {
   "cell_type": "markdown",
   "id": "28d57a37",
   "metadata": {
    "editable": true
   },
   "source": [
    "with $\\lambda \\in [0,1]$, where the limits $\\lambda=0$ and $\\lambda=1$\n",
    "represent the non-interacting (or unperturbed) and fully interacting\n",
    "system, respectively."
   ]
  },
  {
   "cell_type": "markdown",
   "id": "dc1bbc14",
   "metadata": {
    "editable": true
   },
   "source": [
    "## Selecting parameters\n",
    "\n",
    "The model is an eigenvalue problem with only\n",
    "two available states.\n",
    "\n",
    "Here we set the parameters $E_1=0$,\n",
    "$E_2=4$, $V_{11}=-V_{22}=3$ and $V_{12}=V_{21}=0.2$.\n",
    "\n",
    "The non-interacting solutions represent our computational basis.\n",
    "Pertinent to our choice of parameters, is that at $\\lambda\\geq 2/3$,\n",
    "the lowest eigenstate is dominated by $\\vert 1\\rangle$ while the upper\n",
    "is $\\vert 0 \\rangle$. At $\\lambda=1$ the $\\vert 0 \\rangle$ mixing of\n",
    "the lowest eigenvalue is $1\\%$ while for $\\lambda\\leq 2/3$ we have a\n",
    "$\\vert 0 \\rangle$ component of more than $90\\%$.  The character of the\n",
    "eigenvectors has therefore been interchanged when passing $z=2/3$. The\n",
    "value of the parameter $V_{12}$ represents the strength of the coupling\n",
    "between the two states."
   ]
  },
  {
   "cell_type": "markdown",
   "id": "8fc3cb50",
   "metadata": {
    "editable": true
   },
   "source": [
    "## Setting up the matrix\n",
    "This part is best seen using the jupyter-notebook"
   ]
  },
  {
   "cell_type": "code",
   "execution_count": 6,
   "id": "5cb99d27",
   "metadata": {
    "collapsed": false,
    "editable": true
   },
   "outputs": [
    {
     "name": "stdout",
     "output_type": "stream",
     "text": [
      "0.9801960972814431\n"
     ]
    }
   ],
   "source": [
    "from  matplotlib import pyplot as plt\n",
    "import numpy as np\n",
    "dim = 2\n",
    "Hamiltonian = np.zeros((dim,dim))\n",
    "e0 = 0.0\n",
    "e1 = 4.0\n",
    "Xnondiag = 0.20\n",
    "Xdiag = 3.0\n",
    "Eigenvalue = np.zeros(dim)\n",
    "# setting up the Hamiltonian\n",
    "Hamiltonian[0,0] = Xdiag+e0\n",
    "Hamiltonian[0,1] = Xnondiag\n",
    "Hamiltonian[1,0] = Hamiltonian[0,1]\n",
    "Hamiltonian[1,1] = e1-Xdiag\n",
    "# diagonalize and obtain eigenvalues, not necessarily sorted\n",
    "EigValues, EigVectors = np.linalg.eig(Hamiltonian)\n",
    "permute = EigValues.argsort()\n",
    "EigValues = EigValues[permute]\n",
    "# print only the lowest eigenvalue\n",
    "print(EigValues[0])"
   ]
  },
  {
   "cell_type": "markdown",
   "id": "398d5f5e",
   "metadata": {
    "editable": true
   },
   "source": [
    "Now rewrite it in terms of the identity matrix and the Pauli matrix X and Z"
   ]
  },
  {
   "cell_type": "code",
   "execution_count": 7,
   "id": "db3ee5ff",
   "metadata": {
    "collapsed": false,
    "editable": true
   },
   "outputs": [
    {
     "name": "stdout",
     "output_type": "stream",
     "text": [
      "0.9801960972814431\n"
     ]
    }
   ],
   "source": [
    "# Now rewrite it in terms of the identity matrix and the Pauli matrix X and Z\n",
    "X = np.array([[0,1],[1,0]])\n",
    "Y = np.array([[0,-1j],[1j,0]])\n",
    "Z = np.array([[1,0],[0,-1]])\n",
    "# identity matrix\n",
    "I = np.array([[1,0],[0,1]])\n",
    "\n",
    "epsilon = (e0+e1)*0.5; omega = (e0-e1)*0.5\n",
    "c = 0.0; omega_z=Xdiag; omega_x = Xnondiag\n",
    "Hamiltonian = (epsilon+c)*I+(omega_z+omega)*Z+omega_x*X\n",
    "EigValues, EigVectors = np.linalg.eig(Hamiltonian)\n",
    "permute = EigValues.argsort()\n",
    "EigValues = EigValues[permute]\n",
    "# print only the lowest eigenvalue\n",
    "print(EigValues[0])"
   ]
  },
  {
   "cell_type": "markdown",
   "id": "91743d10",
   "metadata": {
    "editable": true
   },
   "source": [
    "## Measurements and computational basis\n",
    "\n",
    "We have seen how to rewrite the above $2\\times 2$ eiegenvalue problem in terms of a Hamiltonian defined by Pauli $\\boldsymbol{X}$ and $\\boldsymbol{Z}$ matrices,\n",
    "and the identity matrix $\\boldsymbol{I}$. Let us make this Hamiltonian that involves only one qubit somewhat more general"
   ]
  },
  {
   "cell_type": "markdown",
   "id": "9b889a7d",
   "metadata": {
    "editable": true
   },
   "source": [
    "$$\n",
    "\\left\\langle H \\right\\rangle = \\left\\langle \\psi \\right\\vert  H \\left| \\psi \\right\\rangle = a \\cdot \\left\\langle \\psi \\right\\vert  I \\left| \\psi \\right\\rangle + b \\cdot \\left\\langle \\psi \\right\\vert  Z \\left| \\psi \\right\\rangle + c \\cdot \\left\\langle \\psi \\right\\vert  X \\left| \\psi \\right\\rangle + d \\cdot \\left\\langle \\psi \\right\\vert  Y \\left| \\psi \\right\\rangle.\n",
    "$$"
   ]
  },
  {
   "cell_type": "markdown",
   "id": "1ec638e6",
   "metadata": {
    "editable": true
   },
   "source": [
    "## Expectation value of $\\boldsymbol{I}$\n",
    "\n",
    "For the $I$ operator the expectation value is always unity:"
   ]
  },
  {
   "cell_type": "markdown",
   "id": "a445a7fe",
   "metadata": {
    "editable": true
   },
   "source": [
    "$$\n",
    "\\left\\langle \\psi \\right\\vert  \\boldsymbol{I} \\left| \\psi \\right\\rangle = \\left\\langle \\psi \\right\\vert \\left| \\psi \\right\\rangle = 1.\n",
    "$$"
   ]
  },
  {
   "cell_type": "markdown",
   "id": "bd7bcf5b",
   "metadata": {
    "editable": true
   },
   "source": [
    "Its contribution to the overall expectaction value is thus given by the constant $a$."
   ]
  },
  {
   "cell_type": "markdown",
   "id": "541f3ba4",
   "metadata": {
    "editable": true
   },
   "source": [
    "## The Pauli matrices\n",
    "\n",
    "For rest of the Pauli operators, we should make the following remark:\n",
    "every one qubit quantum state $\\left| \\psi \\right\\rangle$ can be\n",
    "represented via different sets of basis vectors:"
   ]
  },
  {
   "cell_type": "markdown",
   "id": "f59142fe",
   "metadata": {
    "editable": true
   },
   "source": [
    "$$\n",
    "\\left| \\psi \\right\\rangle = c_1^z \\cdot \\left| 0 \\right\\rangle + c_2^z \\cdot \\left| 1 \\right\\rangle = c_1^x \\cdot \\left| + \\right\\rangle + c_2^x \\cdot \\left| - \\right\\rangle = c_1^y \\cdot \\left| +i \\right\\rangle + c_2^y \\cdot \\left| -i \\right\\rangle.\n",
    "$$"
   ]
  },
  {
   "cell_type": "markdown",
   "id": "934086d9",
   "metadata": {
    "editable": true
   },
   "source": [
    "## In more detail\n",
    "We have"
   ]
  },
  {
   "cell_type": "markdown",
   "id": "b7031696",
   "metadata": {
    "editable": true
   },
   "source": [
    "$$\n",
    "\\begin{align*}\n",
    "&\\text{Z eigenvectors} \\qquad\n",
    "\\left| 0 \\right\\rangle = \\begin{pmatrix}\n",
    "1\\\\\n",
    "0\n",
    "\\end{pmatrix},\n",
    "&&\\left| 1 \\right\\rangle = \\begin{pmatrix}\n",
    "0\\\\\n",
    "1\n",
    "\\end{pmatrix},\n",
    "\\end{align*}\n",
    "$$"
   ]
  },
  {
   "cell_type": "markdown",
   "id": "34a0ff4a",
   "metadata": {
    "editable": true
   },
   "source": [
    "## For the other two matrices"
   ]
  },
  {
   "cell_type": "markdown",
   "id": "7f9633c9",
   "metadata": {
    "editable": true
   },
   "source": [
    "$$\n",
    "\\begin{align*}\n",
    "&\\text{X eigenvectors} \\qquad\n",
    "\\left| + \\right\\rangle = \\frac{1}{\\sqrt{2}} \\begin{pmatrix}\n",
    "1\\\\\n",
    "1\n",
    "\\end{pmatrix},\n",
    "&&\\left| - \\right\\rangle = \\frac{1}{\\sqrt{2}} \\begin{pmatrix}\n",
    "1\\\\\n",
    "-1\n",
    "\\end{pmatrix},\n",
    "\\\\\n",
    "&\\text{Y eigenvectors} \\qquad\n",
    "\\left| +i \\right\\rangle = \\frac{1}{\\sqrt{2}} \\begin{pmatrix}\n",
    "1\\\\\n",
    "i\n",
    "\\end{pmatrix}, \n",
    "&&\\left| -i \\right\\rangle = \\frac{1}{\\sqrt{2}} \\begin{pmatrix}\n",
    "1\\\\\n",
    "-i\n",
    "\\end{pmatrix}.\n",
    "\\end{align*}\n",
    "$$"
   ]
  },
  {
   "cell_type": "markdown",
   "id": "82abe67b",
   "metadata": {
    "editable": true
   },
   "source": [
    "## Analyzing these equations\n",
    "\n",
    "The first presented eigenvectors for each Pauli has an eigenvalue equal to $+1$: $Z \\left\\vert 0 \\right\\rangle = +1\\left\\vert 0 \\right\\rangle$, $X \\left\\vert + \\right\\rangle = +1\\left\\vert + \\right\\rangle$, $Y \\left\\vert +i \\right\\rangle = +1\\left\\vert +i \\right\\rangle$. And the second presented eigenvectors for each Pauli has an eigenvalue equal to $-1$: $Z \\left\\vert 1 \\right\\rangle = -1\\left\\vert 1 \\right\\rangle$, $X \\left\\vert - \\right\\rangle = -1\\left\\vert - \\right\\rangle$, $Y \\left\\vert -i \\right\\rangle = -1\\left\\vert -i \\right\\rangle$. Now, let's calculate the expectation values of these Pauli operators:"
   ]
  },
  {
   "cell_type": "markdown",
   "id": "24bfbc44",
   "metadata": {
    "editable": true
   },
   "source": [
    "$$\n",
    "\\begin{align*}\n",
    "\\left\\langle \\psi \\right\\vert  Z \\left\\vert \\psi \\right\\rangle &= \\left( {c_1^z}^* \\cdot \\left\\langle 0 \\right\\vert  + {c_2^z}^* \\cdot \\left\\langle 1 \\right\\vert  \\right) Z \\left( c_1^z \\cdot \\left\\vert 0 \\right\\rangle + c_2^z \\cdot \\left\\vert 1 \\right\\rangle \\right) = {\\left\\vert c_1^z \\right\\vert}^2 - {\\left\\vert c_2^z \\right\\vert}^2,\n",
    "\\\\\n",
    "\\left\\langle \\psi \\right\\vert  X \\left\\vert \\psi \\right\\rangle &= \\left( {c_1^x}^* \\cdot \\left\\langle + \\right\\vert  + {c_2^x}^* \\cdot \\left\\langle - \\right\\vert  \\right) X \\left( c_1^x \\cdot \\left\\vert + \\right\\rangle + c_2^x \\cdot \\left\\vert - \\right\\rangle \\right) = {\\left\\vert c_1^x \\right\\vert }^2 - {\\left\\vert c_2^x \\right\\vert }^2,\n",
    "\\\\\n",
    "\\left\\langle \\psi \\right\\vert  Y \\left\\vert \\psi \\right\\rangle &= \\left( {c_1^y}^* \\cdot \\left\\langle +i \\right\\vert  + {c_2^y}^* \\cdot \\left\\langle -i \\right\\vert  \\right) Y \\left( c_1^y \\cdot \\left\\vert +i \\right\\rangle + c_2^y \\cdot \\left\\vert -i \\right\\rangle \\right) = {\\left\\vert c_1^y \\right\\vert }^2 - {\\left\\vert c_2^y \\right\\vert }^2.\n",
    "\\end{align*}\n",
    "$$"
   ]
  },
  {
   "cell_type": "markdown",
   "id": "0379e6c4",
   "metadata": {
    "editable": true
   },
   "source": [
    "## Using the inner products\n",
    "Here we have taken into account that the inner product of orthonormal vectors is 0 (e.g. $\\left\\langle 0 \\right\\vert  \\left\\vert 1 \\right\\rangle = 0$, $\\left\\langle + \\right\\vert  \\left\\vert - \\right\\rangle = 0$, $\\left\\langle +i \\right\\vert  \\left\\vert -i \\right\\rangle = 0$).\n",
    "\n",
    "But what are these $\\left\\vert c \\right\\vert ^2$s? The ${\\left\\vert c_1^z\n",
    "\\right\\vert }^2$ and ${\\left\\vert c_2^z \\right\\vert }^2$ are by definition the\n",
    "probabilities that after Z basis measurement (measuring is it $\\left\\vert\n",
    "0 \\right\\rangle$ or is it $\\left\\vert 1 \\right\\rangle$) the quantum state\n",
    "$\\left\\vert \\psi \\right\\rangle$ will become $\\left\\vert 0 \\right\\rangle$ or\n",
    "$\\left\\vert 1 \\right\\rangle$ respectively."
   ]
  },
  {
   "cell_type": "markdown",
   "id": "5c01ce1e",
   "metadata": {
    "editable": true
   },
   "source": [
    "## Rethinking the basis\n",
    "\n",
    "In order to find that value, we should run our program with our trial\n",
    "$\\left\\vert \\psi \\right\\rangle$ wavefunction and do $Z$ measurement on the\n",
    "qubit $N$ times (it is  named *shots* in the code).\n",
    "\n",
    "The probability\n",
    "of finding the qubit after measurment in $\\left\\vert 0 \\right\\rangle$\n",
    "state will be equal to ${\\left\\vert c_1^z \\right\\vert }^2 = \\frac{n_0}{N}$,\n",
    "where $n_0$ is the number of the $\\left\\vert 0 \\right\\rangle$ state\n",
    "measurments. Similarly, ${\\left\\vert c_2^z \\right\\vert }^2 = \\frac{n_1}{N}$,\n",
    "where $n_1$ is the number of the $\\left\\vert 1 \\right\\rangle$ state\n",
    "measurments.\n",
    "\n",
    "Thus, the final expectation value will be $\\left\\langle Z\\right\\rangle = \\frac{n_0 - n_1}{N}$."
   ]
  },
  {
   "cell_type": "markdown",
   "id": "baf65726",
   "metadata": {
    "editable": true
   },
   "source": [
    "## Measurements\n",
    "\n",
    "For $\\left\\langle X \\right\\rangle = \\frac{n_+ - n_-}{N}$ and\n",
    "$\\left\\langle Y \\right\\rangle = \\frac{n_{+i} - n_{-i}}{N}$ the\n",
    "expectation value estimation procedure stays the same.\n",
    "\n",
    "Here $n_+$ and $n_-$ are numbers of measurements in X basis that\n",
    "corresponds to $\\left\\vert + \\right\\rangle$ or $\\left\\vert - \\right\\rangle$\n",
    "outcomes respectively. And $n_{+i}$ and $n_{-i}$ are numbers of\n",
    "measurements in $Y$ basis that corresponds to $\\left\\vert +i\n",
    "\\right\\rangle$ or $\\left\\vert -i \\right\\rangle$ outcomes respectively."
   ]
  },
  {
   "cell_type": "markdown",
   "id": "dfa5a12a",
   "metadata": {
    "editable": true
   },
   "source": [
    "## Computational basis\n",
    "\n",
    "The difficulty comes from the fact that one may have the possibility\n",
    "to measure only in the $Z$ basis. To solve this difficulty we still do\n",
    "a $Z$ basis measurement, but, before that, we apply specific operators\n",
    "to the $\\left\\vert \\psi \\right\\rangle$ state.\n",
    "\n",
    "We try to apply such an\n",
    "operator that after measuring the probability of $\\left\\vert 0\n",
    "\\right\\rangle$ outcome will be equal to the probability of $\\left\\vert +\n",
    "\\right\\rangle$ $\\left( \\left\\vert +i \\right\\rangle \\right)$ outcome.\n",
    "\n",
    "And the probability of $\\left\\vert 1 \\right\\rangle$ outcome will be equal to\n",
    "the probability of $\\left\\vert - \\right\\rangle$ $\\left( \\left\\vert -i \\right\\rangle \\right)$ outcome."
   ]
  },
  {
   "cell_type": "markdown",
   "id": "145167e1",
   "metadata": {
    "editable": true
   },
   "source": [
    "## Unitary transformation of $\\boldsymbol{X}$\n",
    "\n",
    "If we use the Hadamard gate"
   ]
  },
  {
   "cell_type": "markdown",
   "id": "31c0bb98",
   "metadata": {
    "editable": true
   },
   "source": [
    "$$\n",
    "\\boldsymbol{H} = \\frac{1}{\\sqrt{2}}\\begin{pmatrix}\n",
    "1 & 1\\\\\n",
    "1 & -1\n",
    "\\end{pmatrix},\n",
    "$$"
   ]
  },
  {
   "cell_type": "markdown",
   "id": "90ea4bb0",
   "metadata": {
    "editable": true
   },
   "source": [
    "we can rewrite"
   ]
  },
  {
   "cell_type": "markdown",
   "id": "f7522931",
   "metadata": {
    "editable": true
   },
   "source": [
    "$$\n",
    "\\boldsymbol{X}=\\boldsymbol{H}\\boldsymbol{Z}\\boldsymbol{H}.\n",
    "$$"
   ]
  },
  {
   "cell_type": "markdown",
   "id": "667f7d5c",
   "metadata": {
    "editable": true
   },
   "source": [
    "The Hadamard gate/matrix is a unitary matrix with the property that $\\boldsymbol{H}^2=\\boldsymbol{I}$."
   ]
  },
  {
   "cell_type": "markdown",
   "id": "8d8909b5",
   "metadata": {
    "editable": true
   },
   "source": [
    "## Generalizing\n",
    "\n",
    "For the one-qubit Hamiltonian we have toyed with till now, we can thus\n",
    "rewrite in an easy way the Hamiltonian so that we can perform\n",
    "measurements using our favorite computational basis.\n",
    "\n",
    "The transformation of the Pauli $\\boldsymbol{X}$ matrix can be generalized, as\n",
    "we will see in more detail next week for the two-qubit Hamiltonian and\n",
    "the Lipkin model, to the following expression"
   ]
  },
  {
   "cell_type": "markdown",
   "id": "503c4ecf",
   "metadata": {
    "editable": true
   },
   "source": [
    "$$\n",
    "{\\cal P}=\\boldsymbol{U}^{\\dagger}\\boldsymbol{M}\\boldsymbol{U},\n",
    "$$"
   ]
  },
  {
   "cell_type": "markdown",
   "id": "95f90a4d",
   "metadata": {
    "editable": true
   },
   "source": [
    "where ${\\cal P}$ represents some combination of the Pauli matrices and\n",
    "the identity matrix, $\\boldsymbol{U}$ is a unitary matrix and $\\boldsymbol{M}$\n",
    "represents the gate/matrix which performs the measurements, often\n",
    "represented by a Pauli $\\boldsymbol{Z}$ gate/matrix."
   ]
  },
  {
   "cell_type": "markdown",
   "id": "5261efba",
   "metadata": {
    "editable": true
   },
   "source": [
    "## Implementing the VQE\n",
    "\n",
    "For a one-qubit system we can reach every point on the Bloch sphere\n",
    "(as discussed earlier) with a rotation about the $x$-axis and the\n",
    "$y$-axis.\n",
    "\n",
    "We can express this mathematically through the following operations (see whiteboard for the drawing), giving us a new state $\\vert \\psi\\rangle$"
   ]
  },
  {
   "cell_type": "markdown",
   "id": "b7164ac7",
   "metadata": {
    "editable": true
   },
   "source": [
    "$$\n",
    "\\vert\\psi\\rangle = R_y(\\phi)R_x(\\theta)\\vert 0 \\rangle.\n",
    "$$"
   ]
  },
  {
   "cell_type": "markdown",
   "id": "2b7b9f25",
   "metadata": {
    "editable": true
   },
   "source": [
    "## Multiple ansatzes\n",
    "\n",
    "We can produce multiple ansatzes for the new state in terms of the\n",
    "angles $\\theta$ and $\\phi$.  With these ansatzes we can in turn\n",
    "calculate the expectation value of the above Hamiltonian, now\n",
    "rewritten in terms of various Pauli matrices (and thereby gates), that is compute"
   ]
  },
  {
   "cell_type": "markdown",
   "id": "eef93a2a",
   "metadata": {
    "editable": true
   },
   "source": [
    "$$\n",
    "\\langle \\psi \\vert (c+\\mathcal{E})\\boldsymbol{I} + (\\Omega+\\omega_z)\\boldsymbol{\\sigma}_z + \\omega_x\\boldsymbol{\\sigma}_x\\vert \\psi \\rangle.\n",
    "$$"
   ]
  },
  {
   "cell_type": "markdown",
   "id": "70aaa6ee",
   "metadata": {
    "editable": true
   },
   "source": [
    "## Rotations again\n",
    "\n",
    "We can now set up a series of ansatzes for $\\vert \\psi \\rangle$ as\n",
    "function of the angles $\\theta$ and $\\phi$ and find thereafter the\n",
    "variational minimum using for example a gradient descent method.\n",
    "\n",
    "To do so, we need to remind ourselves about the mathematical expressions for\n",
    "the rotational matrices/operators."
   ]
  },
  {
   "cell_type": "markdown",
   "id": "7afa58c0",
   "metadata": {
    "editable": true
   },
   "source": [
    "$$\n",
    "R_x(\\theta)=\\cos{\\frac{\\theta}{2}}\\boldsymbol{I}-\\imath \\sin{\\frac{\\theta}{2}}\\boldsymbol{\\sigma}_x,\n",
    "$$"
   ]
  },
  {
   "cell_type": "markdown",
   "id": "22701be3",
   "metadata": {
    "editable": true
   },
   "source": [
    "and"
   ]
  },
  {
   "cell_type": "markdown",
   "id": "24694b32",
   "metadata": {
    "editable": true
   },
   "source": [
    "$$\n",
    "R_y(\\phi)=\\cos{\\frac{\\phi}{2}}\\boldsymbol{I}-\\imath \\sin{\\frac{\\phi}{2}}\\boldsymbol{\\sigma}_y.\n",
    "$$"
   ]
  },
  {
   "cell_type": "markdown",
   "id": "c2f93224",
   "metadata": {
    "editable": true
   },
   "source": [
    "## Simple code"
   ]
  },
  {
   "cell_type": "code",
   "execution_count": 8,
   "id": "ca22adf2",
   "metadata": {
    "collapsed": false,
    "editable": true
   },
   "outputs": [
    {
     "name": "stdout",
     "output_type": "stream",
     "text": [
      "[0.67249851+0.21850801j 0.21850801-0.67249851j]\n",
      "(2-1.187159067031975e-16j)\n"
     ]
    }
   ],
   "source": [
    "# define the rotation matrices\n",
    "# Define angles theta and phi\n",
    "theta = 0.5*np.pi; phi = 0.2*np.pi\n",
    "Rx = np.cos(theta*0.5)*I-1j*np.sin(theta*0.5)*X\n",
    "Ry = np.cos(phi*0.5)*I-1j*np.sin(phi*0.5)*Y\n",
    "#define basis states\n",
    "basis0 = np.array([1,0])\n",
    "basis1 = np.array([0,1])\n",
    "\n",
    "NewBasis = Ry @ Rx @ basis0\n",
    "print(NewBasis)\n",
    "# Compute the expectation value\n",
    "#Note hermitian conjugation\n",
    "Energy = NewBasis.conj().T @ Hamiltonian @ NewBasis\n",
    "print(Energy)"
   ]
  },
  {
   "cell_type": "markdown",
   "id": "a9bb6214",
   "metadata": {
    "editable": true
   },
   "source": [
    "Not an impressive results. We set up now a loop over many angles $\\theta$ and $\\phi$ and compute the energies"
   ]
  },
  {
   "cell_type": "code",
   "execution_count": 9,
   "id": "8dbb94a6",
   "metadata": {
    "collapsed": false,
    "editable": true
   },
   "outputs": [
    {
     "name": "stdout",
     "output_type": "stream",
     "text": [
      "0.01575557799303584\n"
     ]
    }
   ],
   "source": [
    "# define a number of angles\n",
    "n = 20\n",
    "angle = np.arange(0,180,10)\n",
    "n = np.size(angle)\n",
    "ExpectationValues = np.zeros((n,n))\n",
    "for i in range (n):\n",
    "    theta = np.pi*angle[i]/180.0\n",
    "    Rx = np.cos(theta*0.5)*I-1j*np.sin(theta*0.5)*X\n",
    "    for j in range (n):\n",
    "        phi = np.pi*angle[j]/180.0\n",
    "        Ry = np.cos(phi*0.5)*I-1j*np.sin(phi*0.5)*Y\n",
    "        NewBasis = Ry @ Rx @ basis0\n",
    "        Energy = NewBasis.conj().T @ Hamiltonian @ NewBasis\n",
    "        Edifference=abs(np.real(EigValues[0]-Energy))\n",
    "        ExpectationValues[i,j]=Edifference\n",
    "\n",
    "print(np.min(ExpectationValues))"
   ]
  },
  {
   "cell_type": "markdown",
   "id": "0bf904b8",
   "metadata": {
    "editable": true
   },
   "source": [
    "Clearly, this is not the best way of proceeding. Rather, here we\n",
    "could try to find the optimal values for the parameters $\\theta$ and\n",
    "$\\phi$ through computation of their respective gradients and thereby\n",
    "find the minimum as function of the optimal angles $\\hat{\\theta}$ and\n",
    "$\\hat{\\phi}$.\n",
    "\n",
    "Let us now implement a classical gradient descent algorithm to the computation of the energies. \n",
    "We will follow closely  <https://journals.aps.org/pra/abstract/10.1103/PhysRevA.99.032331> in order to calculate gradients of the Hamiltonian."
   ]
  },
  {
   "cell_type": "markdown",
   "id": "fd5b5ffc",
   "metadata": {
    "editable": true
   },
   "source": [
    "## Gradient descent and calculations of gradients\n",
    "\n",
    "In order to optimize the VQE ansatz, we need to compute derivatives\n",
    "with respect to the variational parameters.  Here we develop first a\n",
    "simpler approach tailored to the one-qubit case. For this particular\n",
    "case, we have defined an ansatz in terms of the Pauli rotation\n",
    "matrices."
   ]
  },
  {
   "cell_type": "markdown",
   "id": "ad4a0c0f",
   "metadata": {
    "editable": true
   },
   "source": [
    "## Setting up gradients\n",
    "\n",
    "These define an arbitrary one-qubit state on the Bloch\n",
    "sphere through the expression"
   ]
  },
  {
   "cell_type": "markdown",
   "id": "5aa088a9",
   "metadata": {
    "editable": true
   },
   "source": [
    "$$\n",
    "\\vert\\psi\\rangle = \\vert \\psi(\\theta,\\phi)\\rangle =R_y(\\phi)R_x(\\theta)\\vert 0 \\rangle.\n",
    "$$"
   ]
  },
  {
   "cell_type": "markdown",
   "id": "1cd01655",
   "metadata": {
    "editable": true
   },
   "source": [
    "Each of these rotation matrices can be written in a more general form as"
   ]
  },
  {
   "cell_type": "markdown",
   "id": "511517e8",
   "metadata": {
    "editable": true
   },
   "source": [
    "$$\n",
    "R_{i}(\\gamma)=\\exp{-(\\imath\\frac{\\gamma}{2}\\sigma_i)}=\\cos{(\\frac{\\gamma}{2})}\\boldsymbol{I}-\\imath\\sin{(\\frac{\\gamma}{2})}\\boldsymbol{\\sigma}_i,\n",
    "$$"
   ]
  },
  {
   "cell_type": "markdown",
   "id": "ed8249d0",
   "metadata": {
    "editable": true
   },
   "source": [
    "where $\\sigma_i$ is one of the Pauli matrices $\\sigma_{x,y,z}$."
   ]
  },
  {
   "cell_type": "markdown",
   "id": "2ab81c16",
   "metadata": {
    "editable": true
   },
   "source": [
    "## Derivatives\n",
    "\n",
    "It is easy to see that the derivative with respect to $\\gamma$ is"
   ]
  },
  {
   "cell_type": "markdown",
   "id": "42dd2fc6",
   "metadata": {
    "editable": true
   },
   "source": [
    "$$\n",
    "\\frac{\\partial R_{i}(\\gamma)}{\\partial \\gamma}=-\\frac{\\gamma}{2}\\boldsymbol{\\sigma}_i R_{i}(\\gamma).\n",
    "$$"
   ]
  },
  {
   "cell_type": "markdown",
   "id": "2e552734",
   "metadata": {
    "editable": true
   },
   "source": [
    "## Derivatives of the expectation value of the Hamiltonian\n",
    "\n",
    "We can now calculate the derivative of the expectation value of the\n",
    "Hamiltonian in terms of the angles $\\theta$ and $\\phi$. We have two\n",
    "derivatives"
   ]
  },
  {
   "cell_type": "markdown",
   "id": "128b32a8",
   "metadata": {
    "editable": true
   },
   "source": [
    "$$\n",
    "\\frac{\\partial}{\\partial \\theta}\\left[\\langle \\psi(\\theta,\\phi) \\vert \\boldsymbol{H}\\vert \\psi(\\theta,\\phi)\\rangle\\right]=\\frac{\\partial}{\\partial \\theta}\\left[\\langle\\boldsymbol{H}(\\theta,\\phi)\\rangle\\right]=\\langle \\psi(\\theta,\\phi) \\vert \\boldsymbol{H}(-\\frac{\\imath}{2}\\boldsymbol{\\sigma}_x\\vert \\psi(\\theta,\\phi)\\rangle+\\hspace{0.1cm}\\mathrm{h.c},\n",
    "$$"
   ]
  },
  {
   "cell_type": "markdown",
   "id": "b59977f0",
   "metadata": {
    "editable": true
   },
   "source": [
    "and"
   ]
  },
  {
   "cell_type": "markdown",
   "id": "a6c7eb2f",
   "metadata": {
    "editable": true
   },
   "source": [
    "$$\n",
    "\\frac{\\partial }{\\partial \\phi}\\left[\\langle \\psi(\\theta,\\phi) \\vert \\boldsymbol{H}\\vert \\psi(\\theta,\\phi)\\rangle\\right]=\\frac{\\partial}{\\partial \\phi}\\left[\\langle\\boldsymbol{H}(\\theta,\\phi)\\rangle\\right]=\\langle \\psi(\\theta,\\phi) \\vert \\boldsymbol{H}(-\\frac{\\imath}{2}\\boldsymbol{\\sigma}_y\\vert \\psi(\\theta,\\phi)\\rangle+\\hspace{0.1cm}\\mathrm{h.c}.\n",
    "$$"
   ]
  },
  {
   "cell_type": "markdown",
   "id": "e94041a8",
   "metadata": {
    "editable": true
   },
   "source": [
    "## Two addtional expectation values\n",
    "\n",
    "This means that we have to calculate two additional expectation values\n",
    "in addition to the expectation value of the Hamiltonian itself.  If we\n",
    "stay with an ansatz for the single qubit states given by the above\n",
    "rotation operators, we can, following for example [the article by\n",
    "Maria Schuld et\n",
    "al](https://journals.aps.org/pra/abstract/10.1103/PhysRevA.99.032331),\n",
    "show that the derivative of the expectation value of the Hamiltonian\n",
    "can be written as (we focus only on a given angle $\\phi$)"
   ]
  },
  {
   "cell_type": "markdown",
   "id": "5476c735",
   "metadata": {
    "editable": true
   },
   "source": [
    "$$\n",
    "\\frac{\\partial}{\\partial \\phi}\\left[\\langle\\boldsymbol{H}(\\phi)\\rangle\\right]=\\frac{1}{2}\\left[\\langle\\boldsymbol{H}(\\phi+\\frac{\\pi}{2})\\rangle-\\langle\\boldsymbol{H}(\\phi-\\frac{\\pi}{2})\\rangle\\right].\n",
    "$$"
   ]
  },
  {
   "cell_type": "markdown",
   "id": "61d19614",
   "metadata": {
    "editable": true
   },
   "source": [
    "## Rotations again and again\n",
    "To see this, consider again the definition of the rotation operators.\n",
    "We can write these operators as"
   ]
  },
  {
   "cell_type": "markdown",
   "id": "534ff690",
   "metadata": {
    "editable": true
   },
   "source": [
    "$$\n",
    "R_i(\\phi)=\\exp{-\\imath(\\phi \\boldsymbol{\\sigma}_i)},\n",
    "$$"
   ]
  },
  {
   "cell_type": "markdown",
   "id": "f5188b58",
   "metadata": {
    "editable": true
   },
   "source": [
    "with $\\boldsymbol{sigma}_i$, with $\\boldsymbol{\\sigma}_i$ being any of the Pauli\n",
    "matrices $X$, $Y$ and $Z$. The latter can be generalized to other\n",
    "unitary matrices as well.\n",
    "The derivative with respect to $\\phi$ gives"
   ]
  },
  {
   "cell_type": "markdown",
   "id": "4562ab3f",
   "metadata": {
    "editable": true
   },
   "source": [
    "$$\n",
    "\\frac{\\partial R_i(\\phi)}{\\partial \\phi}=-\\frac{\\imath}{2} \\boldsymbol{\\sigma}_i\\exp{-\\imath(\\phi \\boldsymbol{\\sigma}_i)}=-\\frac{\\imath}{2} \\boldsymbol{\\sigma} R_i(\\phi).\n",
    "$$"
   ]
  },
  {
   "cell_type": "markdown",
   "id": "a728f9b0",
   "metadata": {
    "editable": true
   },
   "source": [
    "## Bloch sphere math\n",
    "\n",
    "Our ansatz for a general one-qubit state on the Bloch sphere contains the product of a rotation around the $x$-axis and the $y$-axis. In the derivation here we focus only on one angle however. Our ansatz is then given by"
   ]
  },
  {
   "cell_type": "markdown",
   "id": "cc9a4302",
   "metadata": {
    "editable": true
   },
   "source": [
    "$$\n",
    "\\vert \\psi \\rangle = R_i(\\phi)\\vert 0 \\rangle,\n",
    "$$"
   ]
  },
  {
   "cell_type": "markdown",
   "id": "ab5b8c89",
   "metadata": {
    "editable": true
   },
   "source": [
    "and the expectation value of our Hamiltonian is"
   ]
  },
  {
   "cell_type": "markdown",
   "id": "a9b807bd",
   "metadata": {
    "editable": true
   },
   "source": [
    "$$\n",
    "\\langle \\psi \\vert \\hat{H}\\vert \\psi \\rangle = \\langle 0 \\vert R_i(\\phi)^{\\dagger} \\hat{H}R_i(\\phi)\\vert 0\\rangle.\n",
    "$$"
   ]
  },
  {
   "cell_type": "markdown",
   "id": "14dbc845",
   "metadata": {
    "editable": true
   },
   "source": [
    "## Derivatives\n",
    "\n",
    "Our derivative with respect to the angle $\\phi$ has a similar structure, that is"
   ]
  },
  {
   "cell_type": "markdown",
   "id": "949ddadb",
   "metadata": {
    "editable": true
   },
   "source": [
    "$$\n",
    "\\frac{\\partial }{\\partial \\phi}\\left[\\langle \\psi(\\theta,\\phi) \\vert \\boldsymbol{H}\\vert \\psi(\\theta,\\phi)\\rangle\\right]=\\langle \\psi(\\theta,\\phi) \\vert \\boldsymbol{H}(-\\frac{\\imath}{2}\\boldsymbol{\\sigma}_y\\vert \\psi(\\theta,\\phi)\\rangle+\\hspace{0.1cm}\\mathrm{h.c}.\n",
    "$$"
   ]
  },
  {
   "cell_type": "markdown",
   "id": "2c13f6eb",
   "metadata": {
    "editable": true
   },
   "source": [
    "## Rewriting\n",
    "\n",
    "In order to rewrite the equation of the derivative,\n",
    "the following relation is useful"
   ]
  },
  {
   "cell_type": "markdown",
   "id": "8ddce5cc",
   "metadata": {
    "editable": true
   },
   "source": [
    "$$\n",
    "\\langle \\psi \\vert \\hat{A}^{\\dagger}\\hat{B}\\hat{C}\\vert \\psi \\rangle = \\frac{1}{2}\\left[\n",
    "\\langle \\psi \\vert (\\hat{A}+\\hat{C})^{\\dagger}\\hat{B}(\\boldsymbol{A}+\\hat{C})\\vert \\psi \\rangle-\\langle \\psi \\vert (\\hat{A}-\\hat{C})^{\\dagger}\\hat{B}(\\boldsymbol{A}-\\hat{C})\\vert \\psi \\rangle\\right],\n",
    "$$"
   ]
  },
  {
   "cell_type": "markdown",
   "id": "340c077f",
   "metadata": {
    "editable": true
   },
   "source": [
    "where $\\hat{A}$, $\\hat{B}$ and $\\hat{C}$ are arbitrary hermitian\n",
    "operators."
   ]
  },
  {
   "cell_type": "markdown",
   "id": "32a694cf",
   "metadata": {
    "editable": true
   },
   "source": [
    "## Final manipulations\n",
    "\n",
    "If we identify these operators as $\\hat{A}=\\boldsymbol{I}$, with\n",
    "$\\boldsymbol{I}$ being the unit operator, $\\hat{B}=\\hat{H}$ our Hamiltonian,\n",
    "and $\\hat{C}=-\\imath \\boldsymbol{\\sigma}_i/2$, we obtain the following\n",
    "expression for the expectation value of the derivative (excluding the hermitian conjugate)"
   ]
  },
  {
   "cell_type": "markdown",
   "id": "d922896c",
   "metadata": {
    "editable": true
   },
   "source": [
    "$$\n",
    "\\langle \\psi \\vert \\boldsymbol{I}^{\\dagger}\\hat{H}(-\\frac{\\imath}{2}\\boldsymbol{\\sigma}_i\\vert \\psi \\rangle = \\frac{1}{2}\\left[\n",
    "\\langle \\psi \\vert (\\boldsymbol{I}-\\frac{\\imath}{2} \\boldsymbol{\\sigma}_i)^{\\dagger}\\hat{H}(\\boldsymbol{I}-\\frac{\\imath}{2} \\boldsymbol{\\sigma}_i)\\vert \\psi \\rangle-\\langle \\psi \\vert (\\boldsymbol{I}+\\frac{\\imath}{2} \\boldsymbol{\\sigma}_i)^{\\dagger}\\hat{H}(\\boldsymbol{I}+\\frac{\\imath}{2} \\boldsymbol{\\sigma}_i)\\vert \\psi \\rangle\\right].\n",
    "$$"
   ]
  },
  {
   "cell_type": "markdown",
   "id": "3d3c6752",
   "metadata": {
    "editable": true
   },
   "source": [
    "## The expressions to implement\n",
    "\n",
    "If we then use that the rotation matrices can be rewritten as"
   ]
  },
  {
   "cell_type": "markdown",
   "id": "ba263f5f",
   "metadata": {
    "editable": true
   },
   "source": [
    "$$\n",
    "R_{i}(\\phi)=\\exp{-(\\imath\\frac{\\phi}{2}\\sigma_i)}=\\cos{(\\frac{\\phi}{2})}\\boldsymbol{I}-\\imath\\sin{(\\frac{\\phi}{2})}\\boldsymbol{\\sigma}_i,\n",
    "$$"
   ]
  },
  {
   "cell_type": "markdown",
   "id": "6cd8b1a4",
   "metadata": {
    "editable": true
   },
   "source": [
    "we see that if we set the angle to $\\phi=\\pi/2$, we have"
   ]
  },
  {
   "cell_type": "markdown",
   "id": "3106cd76",
   "metadata": {
    "editable": true
   },
   "source": [
    "$$\n",
    "R_{i}(\\frac{\\pi}{2})=\\cos{(\\frac{\\pi}{4})}\\boldsymbol{I}-\\imath\\sin{(\\frac{\\pi}{4})}\\boldsymbol{\\sigma}_i=\\frac{1}{\\sqrt{2}}\\left(\\boldsymbol{I}-\\frac{\\imath}{2} \\boldsymbol{\\sigma}_i\\right).\n",
    "$$"
   ]
  },
  {
   "cell_type": "markdown",
   "id": "d820caa7",
   "metadata": {
    "editable": true
   },
   "source": [
    "## Final expression\n",
    "\n",
    "This means that we can write"
   ]
  },
  {
   "cell_type": "markdown",
   "id": "45b45f89",
   "metadata": {
    "editable": true
   },
   "source": [
    "$$\n",
    "\\langle \\psi \\vert \\boldsymbol{I}^{\\dagger}\\hat{H}(-\\frac{\\imath}{2}\\boldsymbol{\\sigma}_i\\vert \\psi \\rangle = \\frac{1}{2}\\left[\n",
    "\\langle \\psi \\vert R_i(\\frac{\\pi}{2})^{\\dagger}\\hat{H}R_i(\\frac{\\pi}{2})\\vert \\psi \\rangle-\\langle \\psi \\vert R_i(-\\frac{\\pi}{2})^{\\dagger}\\hat{H}R_i(-\\frac{\\pi}{2})^{\\dagger}\\vert \\psi \\rangle\\right]=\\frac{1}{2}(\\langle\\hat{H}(\\phi+\\frac{\\pi}{2})\\rangle-\\langle\\hat{H}(\\phi-\\frac{\\pi}{2})\\rangle).\n",
    "$$"
   ]
  },
  {
   "cell_type": "markdown",
   "id": "3a881711",
   "metadata": {
    "editable": true
   },
   "source": [
    "## Basics of gradient descent and stochastic gradient descent\n",
    "\n",
    "In order to implement the above equations, we need to remind the\n",
    "reader about basic elements of various optimization approaches. Our\n",
    "main focus here will be various gradient descent approaches and quasi-Newton methods like Broyden's algorithm and variations thereof.\n",
    "\n",
    "This material is covered by the lectures from [FYS4411 on gradient optimization](https://github.com/CompPhysics/ComputationalPhysics2/blob/gh-pages/doc/pub/week6/ipynb/week6.ipynb)"
   ]
  },
  {
   "cell_type": "markdown",
   "id": "5c4e5597",
   "metadata": {
    "editable": true
   },
   "source": [
    "## Computing quantum gradients\n",
    "\n",
    "Let us implement\n",
    "efficient implementations of gradient methods to the derivatives of\n",
    "the Hamiltonian expectation values."
   ]
  },
  {
   "cell_type": "code",
   "execution_count": 10,
   "id": "42c4c15b",
   "metadata": {
    "collapsed": false,
    "editable": true
   },
   "outputs": [
    {
     "name": "stdout",
     "output_type": "stream",
     "text": [
      "0.9801960972814431\n",
      "0.9801960972814431\n",
      "(0.9801960996535276-5.207892646812515e-23j)\n"
     ]
    }
   ],
   "source": [
    "from  matplotlib import pyplot as plt\n",
    "import numpy as np\n",
    "from scipy.optimize import minimize\n",
    "dim = 2\n",
    "Hamiltonian = np.zeros((dim,dim))\n",
    "e0 = 0.0\n",
    "e1 = 4.0\n",
    "Xnondiag = 0.20\n",
    "Xdiag = 3.0\n",
    "Eigenvalue = np.zeros(dim)\n",
    "# setting up the Hamiltonian\n",
    "Hamiltonian[0,0] = Xdiag+e0\n",
    "Hamiltonian[0,1] = Xnondiag\n",
    "Hamiltonian[1,0] = Hamiltonian[0,1]\n",
    "Hamiltonian[1,1] = e1-Xdiag\n",
    "# diagonalize and obtain eigenvalues, not necessarily sorted\n",
    "EigValues, EigVectors = np.linalg.eig(Hamiltonian)\n",
    "permute = EigValues.argsort()\n",
    "EigValues = EigValues[permute]\n",
    "# print only the lowest eigenvalue\n",
    "print(EigValues[0])\n",
    "\n",
    "# Now rewrite it in terms of the identity matrix and the Pauli matrix X and Z\n",
    "X = np.array([[0,1],[1,0]])\n",
    "Y = np.array([[0,-1j],[1j,0]])\n",
    "Z = np.array([[1,0],[0,-1]])\n",
    "# identity matrix\n",
    "I = np.array([[1,0],[0,1]])\n",
    "\n",
    "epsilon = (e0+e1)*0.5; omega = (e0-e1)*0.5\n",
    "c = 0.0; omega_z=Xdiag; omega_x = Xnondiag\n",
    "Hamiltonian = (epsilon+c)*I+(omega_z+omega)*Z+omega_x*X\n",
    "EigValues, EigVectors = np.linalg.eig(Hamiltonian)\n",
    "permute = EigValues.argsort()\n",
    "EigValues = EigValues[permute]\n",
    "# print only the lowest eigenvalue\n",
    "print(EigValues[0])\n",
    "\n",
    "# define the rotation matrices\n",
    "\n",
    "def Rx(theta):\n",
    "    return np.cos(theta*0.5)*I-1j*np.sin(theta*0.5)*X\n",
    "def Ry(phi):\n",
    "    return np.cos(phi*0.5)*I-1j*np.sin(phi*0.5)*Y\n",
    "\n",
    "#define basis states\n",
    "basis0 = np.array([1,0])\n",
    "basis1 = np.array([0,1])\n",
    "\n",
    "# Computing the expectation value of the energy \n",
    "def Energy(theta,phi):\n",
    "    Basis = Ry(phi) @ Rx(theta) @ basis0\n",
    "    energy = Basis.conj().T @ Hamiltonian @ Basis\n",
    "    return energy\n",
    "\n",
    "\n",
    "# Set up iteration using gradient descent method\n",
    "eta = 0.1\n",
    "Niterations = 100\n",
    "# Random angles using uniform distribution\n",
    "theta = 2*np.pi*np.random.rand()\n",
    "phi = 2*np.pi*np.random.rand()\n",
    "pi2 = 0.5*np.pi\n",
    "for iter in range(Niterations):\n",
    "    thetagradient = 0.5*(Energy(theta+pi2,phi)-Energy(theta-pi2,phi))\n",
    "    phigradient = 0.5*(Energy(theta,phi+pi2)-Energy(theta,phi-pi2))\n",
    "    theta -= eta*thetagradient\n",
    "    phi -= eta*phigradient\n",
    "print(Energy(theta,phi))"
   ]
  },
  {
   "cell_type": "markdown",
   "id": "51901bdb",
   "metadata": {
    "editable": true
   },
   "source": [
    "## A smarter way of doing this\n",
    "\n",
    "The above approach means that we are setting up several matrix-matrix\n",
    "and matrix-vector multiplications. Although straight forward it is not\n",
    "the most efficient way of doing this, in particular in case the\n",
    "matrices become large (and sparse). But there are some more important\n",
    "issues.\n",
    "\n",
    "In a physical realization of these systems we cannot just multiply the\n",
    "state with the Hamiltonian. When performing a measurement we can only\n",
    "measure in one particular direction. For the computational basis\n",
    "states which we have, $\\vert 0\\rangle$ and $\\vert 1\\rangle$, we have\n",
    "to measure along the bases of the Pauli matrices and reconstruct the\n",
    "eigenvalues from these measurements."
   ]
  },
  {
   "cell_type": "markdown",
   "id": "8a3560f8",
   "metadata": {
    "editable": true
   },
   "source": [
    "## The code for the one qubit case (code developed by August Gude, 2023)"
   ]
  },
  {
   "cell_type": "code",
   "execution_count": 11,
   "id": "38ae7fd1",
   "metadata": {
    "collapsed": false,
    "editable": true
   },
   "outputs": [
    {
     "data": {
      "image/png": "[encoded data removed]",
      "text/plain": [
       "<Figure size 1000x1000 with 1 Axes>"
      ]
     },
     "metadata": {
      "filenames": {
       "image/png": "/Users/mhjensen/Teaching/QuantumComputingECT2024/NuclearTalentECT/doc/LectureNotes/_build/jupyter_execute/day4_274_0.png"
      }
     },
     "output_type": "display_data"
    }
   ],
   "source": [
    "import numpy as np\n",
    "import matplotlib.pyplot as plt\n",
    "import seaborn as sns; sns.set_theme(font_scale=1.5)\n",
    "from tqdm import tqdm\n",
    "\n",
    "sigma_x = np.array([[0, 1], [1, 0]])\n",
    "sigma_y = np.array([[0, -1j], [1j, 0]])\n",
    "sigma_z = np.array([[1, 0], [0, -1]])\n",
    "I = np.eye(2)\n",
    "\n",
    "def Hamiltonian(lmb):\n",
    "    E1 = 0\n",
    "    E2 = 4\n",
    "    V11 = 3\n",
    "    V22 = -3\n",
    "    V12 = 0.2\n",
    "    V21 = 0.2\n",
    "\n",
    "    eps = (E1 + E2) / 2\n",
    "    omega = (E1 - E2) / 2\n",
    "    c = (V11 + V22) / 2\n",
    "    omega_z = (V11 - V22) / 2\n",
    "    omega_x = V12\n",
    "\n",
    "    H0 = eps * I + omega * sigma_z\n",
    "    H1 = c * I + omega_z * sigma_z + omega_x * sigma_x\n",
    "    return H0 + lmb * H1\n",
    "    \n",
    "lmbvalues_ana = np.arange(0, 1, 0.01)\n",
    "eigvals_ana = np.zeros((len(lmbvalues_ana), 2))\n",
    "for index, lmb in enumerate(lmbvalues_ana):\n",
    "    H = Hamiltonian(lmb)\n",
    "    eigen, eigvecs = np.linalg.eig(H)\n",
    "    permute = eigen.argsort()\n",
    "    eigvals_ana[index] = eigen[permute]\n",
    "    eigvecs = eigvecs[:,permute]\n",
    "\n",
    "\n",
    "fig, axs = plt.subplots(1, 1, figsize=(10, 10))\n",
    "for i in range(2):\n",
    "    axs.plot(lmbvalues_ana, eigvals_ana[:,i], label=f'$E_{i+1}$')\n",
    "axs.set_xlabel(r'$\\lambda$')\n",
    "axs.set_ylabel('Energy')\n",
    "axs.legend()\n",
    "plt.show()"
   ]
  },
  {
   "cell_type": "markdown",
   "id": "ee00ddc4",
   "metadata": {
    "editable": true
   },
   "source": [
    "This was the standard eigenvalue problem. Let us now switch to our own implementation of the VQE."
   ]
  },
  {
   "cell_type": "code",
   "execution_count": 12,
   "id": "e3e30260",
   "metadata": {
    "collapsed": false,
    "editable": true
   },
   "outputs": [
    {
     "ename": "ModuleNotFoundError",
     "evalue": "No module named 'src'",
     "output_type": "error",
     "traceback": [
      "\u001b[0;31m---------------------------------------------------------------------------\u001b[0m",
      "\u001b[0;31mModuleNotFoundError\u001b[0m                       Traceback (most recent call last)",
      "Cell \u001b[0;32mIn[12], line 1\u001b[0m\n\u001b[0;32m----> 1\u001b[0m \u001b[38;5;28;01mfrom\u001b[39;00m \u001b[38;5;21;01msrc\u001b[39;00m\u001b[38;5;21;01m.\u001b[39;00m\u001b[38;5;21;01mqc\u001b[39;00m \u001b[38;5;28;01mimport\u001b[39;00m \u001b[38;5;241m*\u001b[39m\n\u001b[1;32m      3\u001b[0m \u001b[38;5;28;01mdef\u001b[39;00m \u001b[38;5;21mprepare_state\u001b[39m(theta, phi, target \u001b[38;5;241m=\u001b[39m \u001b[38;5;28;01mNone\u001b[39;00m):\n\u001b[1;32m      4\u001b[0m     I \u001b[38;5;241m=\u001b[39m np\u001b[38;5;241m.\u001b[39meye(\u001b[38;5;241m2\u001b[39m)\n",
      "\u001b[0;31mModuleNotFoundError\u001b[0m: No module named 'src'"
     ]
    }
   ],
   "source": [
    "from src.qc import *\n",
    "\n",
    "def prepare_state(theta, phi, target = None):\n",
    "    I = np.eye(2)\n",
    "    sigma_x = np.array([[0, 1], [1, 0]])\n",
    "    sigma_y = np.array([[0, -1j], [1j, 0]])\n",
    "    state = np.array([1, 0])\n",
    "    Rx = np.cos(theta/2) * I - 1j * np.sin(theta/2) * sigma_x\n",
    "    Ry = np.cos(phi/2) * I - 1j * np.sin(phi/2) * sigma_y\n",
    "    state = Ry @ Rx @ state\n",
    "    if target is not None:\n",
    "        state = target\n",
    "    return state\n",
    "\n",
    "def get_energy(angles, lmb, number_shots, target = None):\n",
    "    theta, phi = angles[0], angles[1]\n",
    "    # print(f'Theta = {theta}, Phi = {phi}')\n",
    "    E1 = 0; E2 = 4; V11 = 3; V22 = -3; V12 = 0.2; V21 = 0.2\n",
    "\n",
    "    eps = (E1 + E2) / 2; omega = (E1 - E2) / 2; c = (V11 + V22) / 2; omega_z = (V11 - V22) / 2; omega_x = V12\n",
    "\n",
    "    init_state = prepare_state(theta, phi, target)\n",
    "    qubit = One_qubit()\n",
    "    qubit.set_state(init_state)\n",
    "    measure_z = qubit.measure(number_shots)\n",
    "\n",
    "    qubit.set_state(init_state)\n",
    "    qubit.apply_hadamard()\n",
    "    measure_x = qubit.measure(number_shots)\n",
    "    \n",
    "    # expected value of Z = (number of 0 measurements - number of 1 measurements)/ number of shots\n",
    "    # number of 1 measurements = sum(measure_z)\n",
    "    exp_val_z = (omega + lmb*omega_z)*(number_shots - 2*np.sum(measure_z)) / number_shots\n",
    "    exp_val_x = lmb*omega_x*(number_shots - 2*np.sum(measure_x)) / number_shots\n",
    "    exp_val_i = (eps + c*lmb) \n",
    "    exp_val = (exp_val_z + exp_val_x + exp_val_i)\n",
    "    return exp_val"
   ]
  },
  {
   "cell_type": "code",
   "execution_count": 13,
   "id": "6869c5d5",
   "metadata": {
    "collapsed": false,
    "editable": true
   },
   "outputs": [],
   "source": [
    "def minimize_energy(lmb, number_shots, angles_0, learning_rate, max_epochs):\n",
    "    # angles = np.random.uniform(low = 0, high = np.pi, size = 2)\n",
    "    angles = angles_0 #lmb*np.array([np.pi, np.pi])\n",
    "    epoch = 0\n",
    "    delta_energy = 1\n",
    "    energy = get_energy(angles, lmb, number_shots)\n",
    "    while (epoch < max_epochs) and (delta_energy > 1e-4):\n",
    "        grad = np.zeros_like(angles)\n",
    "        for idx in range(angles.shape[0]):\n",
    "            angles_temp = angles.copy()\n",
    "            angles_temp[idx] += np.pi/2 \n",
    "            E_plus = get_energy(angles_temp, lmb, number_shots)\n",
    "            angles_temp[idx] -= np.pi \n",
    "            E_minus = get_energy(angles_temp, lmb, number_shots)\n",
    "            grad[idx] = (E_plus - E_minus)/2 \n",
    "        angles -= learning_rate*grad \n",
    "        new_energy = get_energy(angles, lmb, number_shots)\n",
    "        delta_energy = np.abs(new_energy - energy)\n",
    "        energy = new_energy\n",
    "        epoch += 1\n",
    "    return angles, epoch, (epoch < max_epochs), energy, delta_energy"
   ]
  },
  {
   "cell_type": "code",
   "execution_count": 14,
   "id": "388c6408",
   "metadata": {
    "collapsed": false,
    "editable": true
   },
   "outputs": [],
   "source": [
    "number_shots_search = 10_000\n",
    "number_shots = 10_000\n",
    "learning_rate = 0.3\n",
    "max_epochs = 400\n",
    "lmbvalues = np.linspace(0.0, 1.0, 30)\n",
    "min_energy = np.zeros(len(lmbvalues))\n",
    "epochs = np.zeros(len(lmbvalues))\n",
    "for index, lmb in enumerate(tqdm(lmbvalues)):\n",
    "    memory = 0\n",
    "    angles_0 = np.random.uniform(low = 0, high = np.pi, size = 2)\n",
    "    angles, epochs[index], converged, energy, delta_energy = minimize_energy(lmb, number_shots_search, angles_0, learning_rate, max_epochs)\n",
    "    if epochs[index] < (epochs[index-1] - 5):\n",
    "        angles_0 = np.random.uniform(low = 0, high = np.pi, size = 2)\n",
    "        angles, epochs[index], converged, energy, delta_energy = minimize_energy(lmb, number_shots_search, angles_0, learning_rate, max_epochs)\n",
    "    min_energy[index] = get_energy(angles, lmb, number_shots)"
   ]
  },
  {
   "cell_type": "code",
   "execution_count": 15,
   "id": "c4578d78",
   "metadata": {
    "collapsed": false,
    "editable": true
   },
   "outputs": [],
   "source": [
    "from scipy.optimize import minimize\n",
    "number_shots = 10_000\n",
    "lmbvalues_scipy = np.linspace(0.0, 1.0, 50)\n",
    "min_energy_scipy = np.zeros(len(lmbvalues_scipy))\n",
    "for index, lmb in enumerate(tqdm(lmbvalues_scipy)):\n",
    "    angles_start = np.random.uniform(low = 0, high = np.pi, size = 4)\n",
    "    res = minimize(get_energy, angles_start, args = (lmb, number_shots), method = 'Powell', options = {'maxiter': 1000}, tol = 1e-5)\n",
    "    min_energy_scipy[index] = res.fun"
   ]
  },
  {
   "cell_type": "code",
   "execution_count": 16,
   "id": "dc9defbd",
   "metadata": {
    "collapsed": false,
    "editable": true
   },
   "outputs": [],
   "source": [
    "fig, axs = plt.subplots(1, 1, figsize=(10, 10))\n",
    "for i in range(2):\n",
    "    axs.plot(lmbvalues_ana, eigvals_ana[:,i], label=f'$E_{i+1}$', color = '#4c72b0')\n",
    "axs.scatter(lmbvalues, min_energy, label = 'VQE eigenvalues', color = '#dd8452')\n",
    "axs.scatter(lmbvalues_scipy, min_energy_scipy, label = 'VQE Scipy', color = '#55a868')\n",
    "axs.set_xlabel(r'$\\lambda$')\n",
    "axs.set_ylabel('Energy')\n",
    "plt.legend()\n",
    "plt.show()"
   ]
  },
  {
   "cell_type": "markdown",
   "id": "210dae7a",
   "metadata": {
    "editable": true
   },
   "source": [
    "## Lipkin model\n",
    "\n",
    "We will study a schematic model (the Lipkin model, see Nuclear\n",
    "Physics **62** (1965) 188), for the interaction among  $2$ and more \n",
    "fermions that can occupy two different energy levels.\n",
    "\n",
    "For four fermions, the case we consider first here, each levels has\n",
    "degeneration $d=4$, leading to different total spin values.  The two\n",
    "levels have quantum numbers $\\sigma=\\pm 1$, with the upper level\n",
    "having $2\\sigma=+1$ and energy $\\varepsilon_{1}= \\varepsilon/2$. The\n",
    "lower level has $2\\sigma=-1$ and energy\n",
    "$\\varepsilon_{2}=-\\varepsilon/2$. That is, the lowest single-particle\n",
    "level has negative spin projection (or spin down), while the upper\n",
    "level has spin up.  In addition, the substates of each level are\n",
    "characterized by the quantum numbers $p=1,2,3,4$.\n",
    "\n",
    "We define the single-particle states (for the four fermion case which we will work on here)"
   ]
  },
  {
   "cell_type": "markdown",
   "id": "53fba5a0",
   "metadata": {
    "editable": true
   },
   "source": [
    "$$\n",
    "\\vert u_{\\sigma =-1,p}\\rangle=a_{-p}^{\\dagger}\\vert 0\\rangle\n",
    "\\hspace{1cm}\n",
    "\\vert u_{\\sigma =1,p}\\rangle=a_{+p}^{\\dagger}\\vert 0\\rangle.\n",
    "$$"
   ]
  },
  {
   "cell_type": "markdown",
   "id": "e1c48eeb",
   "metadata": {
    "editable": true
   },
   "source": [
    "The single-particle states span an orthonormal basis.\n",
    "The Hamiltonian of the system is given by"
   ]
  },
  {
   "cell_type": "markdown",
   "id": "045103cd",
   "metadata": {
    "editable": true
   },
   "source": [
    "$$\n",
    "\\begin{array}{ll}\n",
    "\\hat{H}=&\\hat{H}_{0}+\\hat{H}_{1}+\\hat{H}_{2}\\\\\n",
    "&\\\\\n",
    "\\hat{H}_{0}=&\\frac{1}{2}\\varepsilon\\sum_{\\sigma ,p}\\sigma\n",
    "a_{\\sigma,p}^{\\dagger}a_{\\sigma ,p}\\\\\n",
    "&\\\\\n",
    "\\hat{H}_{1}=&\\frac{1}{2}V\\sum_{\\sigma ,p,p'}\n",
    "a_{\\sigma,p}^{\\dagger}a_{\\sigma ,p'}^{\\dagger}\n",
    "a_{-\\sigma ,p'}a_{-\\sigma ,p}\\\\\n",
    "&\\\\\n",
    "\\hat{H}_{2}=&\\frac{1}{2}W\\sum_{\\sigma ,p,p'}\n",
    "a_{\\sigma,p}^{\\dagger}a_{-\\sigma ,p'}^{\\dagger}\n",
    "a_{\\sigma ,p'}a_{-\\sigma ,p}\\\\\n",
    "&\\\\\n",
    "\\end{array}\n",
    "$$"
   ]
  },
  {
   "cell_type": "markdown",
   "id": "05c103b2",
   "metadata": {
    "editable": true
   },
   "source": [
    "where $V$ and $W$ are constants. The operator \n",
    "$H_{1}$ can move pairs of fermions\n",
    "while $H_{2}$ is a spin-exchange term. The latter\n",
    "moves a pair of fermions from a state $(p\\sigma ,p' -\\sigma)$ to a state\n",
    "$(p-\\sigma ,p'\\sigma)$.\n",
    "\n",
    "We are going to rewrite the above Hamiltonian in terms of so-called  quasispin operators"
   ]
  },
  {
   "cell_type": "markdown",
   "id": "eb777381",
   "metadata": {
    "editable": true
   },
   "source": [
    "$$\n",
    "\\begin{array}{ll}\n",
    "\\hat{J}_{+}=&\\sum_{p}\n",
    "a_{p+}^{\\dagger}a_{p-}\\\\\n",
    "&\\\\\n",
    "\\hat{J}_{-}=&\\sum_{p}\n",
    "a_{p-}^{\\dagger}a_{p+}\\\\\n",
    "&\\\\\n",
    "\\hat{J}_{z}=&\\frac{1}{2}\\sum_{p\\sigma}\\sigma\n",
    "a_{p\\sigma}^{\\dagger}a_{p\\sigma}\\\\\n",
    "&\\\\\n",
    "\\hat{J}^{2}=&J_{+}J_{-}+J_{z}^{2}-J_{z}\\\\\n",
    "&\\\\\n",
    "\\end{array}\n",
    "$$"
   ]
  },
  {
   "cell_type": "markdown",
   "id": "55b8fcf7",
   "metadata": {
    "editable": true
   },
   "source": [
    "We show here that these operators obey the commutation relations for angular momentum.\n",
    "\n",
    "We can in turn express $\\hat{H}$ in terms of the above quasispin operators and the number operator"
   ]
  },
  {
   "cell_type": "markdown",
   "id": "a0e193f0",
   "metadata": {
    "editable": true
   },
   "source": [
    "$$\n",
    "\\hat{N}=\\sum_{p\\sigma}\n",
    "a_{p\\sigma}^{\\dagger}a_{p\\sigma}.\n",
    "$$"
   ]
  },
  {
   "cell_type": "markdown",
   "id": "6ee8bb21",
   "metadata": {
    "editable": true
   },
   "source": [
    "We have the following quasispin operators"
   ]
  },
  {
   "cell_type": "markdown",
   "id": "eb86ef3e",
   "metadata": {
    "editable": true
   },
   "source": [
    "<!-- Equation labels as ordinary links -->\n",
    "<div id=\"eq:Jpm\"></div>\n",
    "\n",
    "$$\n",
    "\\begin{equation}\n",
    "J_{\\pm} = \\sum_p a_{p\\pm}^\\dagger a_{p\\mp},\n",
    "\\label{eq:Jpm} \\tag{10} \n",
    "\\end{equation}\n",
    "$$"
   ]
  },
  {
   "cell_type": "markdown",
   "id": "e9c38a81",
   "metadata": {
    "editable": true
   },
   "source": [
    "<!-- Equation labels as ordinary links -->\n",
    "<div id=\"eq:Jz\"></div>\n",
    "\n",
    "$$\n",
    "\\begin{equation} \n",
    "J_{z} = \\frac{1}{2}\\sum_{p,\\sigma} \\sigma a_{p\\sigma}^\\dagger a_{p\\sigma},\n",
    "\\label{eq:Jz} \\tag{11} \n",
    "\\end{equation}\n",
    "$$"
   ]
  },
  {
   "cell_type": "markdown",
   "id": "da8e0908",
   "metadata": {
    "editable": true
   },
   "source": [
    "<!-- Equation labels as ordinary links -->\n",
    "<div id=\"eq:J2\"></div>\n",
    "\n",
    "$$\n",
    "\\begin{equation} \n",
    "J^{2} = J_+ J_- + J_z^2 - J_z,\n",
    "\\label{eq:J2} \\tag{12}\n",
    "\\end{equation}\n",
    "$$"
   ]
  },
  {
   "cell_type": "markdown",
   "id": "dec15d06",
   "metadata": {
    "editable": true
   },
   "source": [
    "and we want to compute the commutators"
   ]
  },
  {
   "cell_type": "markdown",
   "id": "07140793",
   "metadata": {
    "editable": true
   },
   "source": [
    "$$\n",
    "[J_z,J_\\pm], \\quad [J_+,J_-], \\quad [J^2,J_\\pm] \\quad \\text{og} \\quad \n",
    "[J^2,J_z].\n",
    "$$"
   ]
  },
  {
   "cell_type": "markdown",
   "id": "25512021",
   "metadata": {
    "editable": true
   },
   "source": [
    "Let us start with the first one and inserting for  $J_z$ and $J_\\pm$ given by the equations ([11](#eq:Jz)) and ([10](#eq:Jpm)), respectively, we obtain"
   ]
  },
  {
   "cell_type": "markdown",
   "id": "4aa5233e",
   "metadata": {
    "editable": true
   },
   "source": [
    "$$\n",
    "\\begin{align*}\n",
    "[J_z,J_\\pm] &= J_z J_\\pm - J_\\pm J_z \\\\\n",
    "%\n",
    "&= \\left( \\frac{1}{2}\\sum_{p,\\sigma} \\sigma a_{p\\sigma}^\\dagger a_{p\\sigma} \\right)\n",
    "\\left( \\sum_{p'} a_{p'\\pm}^\\dagger a_{p'\\mp} \\right) -\n",
    "\\left( \\sum_{p'} a_{p'\\pm}^\\dagger a_{p'\\mp} \\right)\n",
    "\\left( \\frac{1}{2}\\sum_{p,\\sigma} \\sigma a_{p\\sigma}^\\dagger a_{p\\sigma} \\right) \\\\\n",
    "&= \\frac{1}{2} \\sum_{p,p',\\sigma} \\sigma \\left( a_{p\\sigma}^\\dagger a_{p\\sigma} a_{p'\\pm}^\\dagger a_{p'\\mp} - a_{p'\\pm}^\\dagger a_{p'\\mp} a_{p\\sigma}^\\dagger a_{p\\sigma} \\right).\n",
    "\\end{align*}\n",
    "$$"
   ]
  },
  {
   "cell_type": "markdown",
   "id": "8924e813",
   "metadata": {
    "editable": true
   },
   "source": [
    "Using the commutation relations for the creation and annihilation operators"
   ]
  },
  {
   "cell_type": "markdown",
   "id": "df40b588",
   "metadata": {
    "editable": true
   },
   "source": [
    "<!-- Equation labels as ordinary links -->\n",
    "<div id=\"eq:al,ak\"></div>\n",
    "\n",
    "$$\n",
    "\\begin{equation}\n",
    "\\{ a_l,a_k \\} = 0, \\label{eq:al,ak} \\tag{13} \n",
    "\\end{equation}\n",
    "$$"
   ]
  },
  {
   "cell_type": "markdown",
   "id": "a9ca59a1",
   "metadata": {
    "editable": true
   },
   "source": [
    "<!-- Equation labels as ordinary links -->\n",
    "<div id=\"eq:ald,akd\"></div>\n",
    "\n",
    "$$\n",
    "\\begin{equation} \n",
    "\\{ a_l^\\dagger , a_k^\\dagger \\} = 0, \\label{eq:ald,akd} \\tag{14} \n",
    "\\end{equation}\n",
    "$$"
   ]
  },
  {
   "cell_type": "markdown",
   "id": "64db8ebd",
   "metadata": {
    "editable": true
   },
   "source": [
    "<!-- Equation labels as ordinary links -->\n",
    "<div id=\"eq:ald,ak\"></div>\n",
    "\n",
    "$$\n",
    "\\begin{equation} \n",
    "\\{ a_l^\\dagger , a_k \\} = \\delta_{lk}, \\label{eq:ald,ak} \\tag{15}\n",
    "\\end{equation}\n",
    "$$"
   ]
  },
  {
   "cell_type": "markdown",
   "id": "ffe55c19",
   "metadata": {
    "editable": true
   },
   "source": [
    "in order to move the operators in the right product to be in the same order as those in the lefthand product"
   ]
  },
  {
   "cell_type": "markdown",
   "id": "71c954c6",
   "metadata": {
    "editable": true
   },
   "source": [
    "$$\n",
    "\\begin{align*}\n",
    "[J_z,J_\\pm] &= \\frac{1}{2} \\sum_{p,p',\\sigma} \\sigma \\left(\n",
    "a_{p\\sigma}^\\dagger a_{p\\sigma} a_{p'\\pm}^\\dagger a_{p'\\mp} -\n",
    "a_{p'\\pm}^\\dagger \\left( \\delta_{p' p} \\delta_{\\mp \\sigma} - a_{p\\sigma}^\\dagger a_{p'\\mp} \\right) a_{p\\sigma} \\right) \\\\\n",
    "&= \\frac{1}{2} \\sum_{p,p',\\sigma} \\sigma \\left(\n",
    "a_{p\\sigma}^\\dagger a_{p\\sigma} a_{p'\\pm}^\\dagger a_{p'\\mp} -\n",
    "a_{p'\\pm}^\\dagger \\delta_{p' p} \\delta_{\\mp \\sigma} a_{p\\sigma} +\n",
    "a_{p'\\pm}^\\dagger a_{p\\sigma}^\\dagger a_{p'\\mp} a_{p\\sigma} \\right), \\\\\n",
    "\\end{align*}\n",
    "$$"
   ]
  },
  {
   "cell_type": "markdown",
   "id": "10fb8592",
   "metadata": {
    "editable": true
   },
   "source": [
    "which results in"
   ]
  },
  {
   "cell_type": "markdown",
   "id": "1189ab83",
   "metadata": {
    "editable": true
   },
   "source": [
    "$$\n",
    "\\begin{align*}\n",
    "[J_z,J_\\pm]\n",
    "&= \\frac{1}{2} \\sum_{p,p',\\sigma} \\sigma \\left(\n",
    "a_{p\\sigma}^\\dagger a_{p\\sigma} a_{p'\\pm}^\\dagger a_{p'\\mp} -\n",
    "a_{p'\\pm}^\\dagger \\delta_{pp'} \\delta_{\\mp \\sigma} a_{p\\sigma} +\n",
    "a_{p\\sigma}^\\dagger a_{p'\\pm}^\\dagger a_{p\\sigma} a_{p'\\mp} \\right) \\\\\n",
    "&= \\frac{1}{2} \\sum_{p,p',\\sigma} \\sigma \\left(\n",
    "a_{p\\sigma}^\\dagger a_{p\\sigma} a_{p'\\pm}^\\dagger a_{p'\\mp} -\n",
    "a_{p'\\pm}^\\dagger \\delta_{pp'} \\delta_{\\mp \\sigma} a_{p\\sigma} +\n",
    "a_{p\\sigma}^\\dagger \\left( \\delta_{pp'} \\delta_{\\pm \\sigma} - a_{p\\sigma} a_{p'\\pm}^\\dagger \\right) a_{p'\\mp} \\right) \\\\\n",
    "&= \\frac{1}{2} \\sum_{p,p',\\sigma} \\sigma \\left(\n",
    "a_{p\\sigma}^\\dagger \\delta_{pp'} \\delta_{\\pm \\sigma} a_{p'\\mp} -\n",
    "a_{p'\\pm}^\\dagger \\delta_{pp'} \\delta_{\\mp \\sigma} a_{p\\sigma} \\right). \\\\\n",
    "\\end{align*}\n",
    "$$"
   ]
  },
  {
   "cell_type": "markdown",
   "id": "685893b5",
   "metadata": {
    "editable": true
   },
   "source": [
    "The last equality leads to"
   ]
  },
  {
   "cell_type": "markdown",
   "id": "532ecc8f",
   "metadata": {
    "editable": true
   },
   "source": [
    "$$\n",
    "\\begin{align*}\n",
    "[J_z,J_\\pm] &= \\frac{1}{2} \\sum_p \\left(\n",
    "(\\pm 1) a_{p\\pm}^\\dagger a_{p\\mp} - (\\mp 1)\n",
    "a_{p\\pm}^\\dagger a_{p\\mp} \\right) =\n",
    "\\pm \\frac{1}{2} \\sum_p \\left(\n",
    "a_{p\\pm}^\\dagger a_{p\\mp} + (\\pm 1)\n",
    "a_{p\\pm}^\\dagger a_{p\\mp} \\right) \\\\\n",
    "&= \\pm \\sum_p a_{p\\pm}^\\dagger a_{p\\mp} = \\pm J_\\pm,\n",
    "\\end{align*}\n",
    "$$"
   ]
  },
  {
   "cell_type": "markdown",
   "id": "f6292674",
   "metadata": {
    "editable": true
   },
   "source": [
    "where the last results follows from comparing with Eq. ([10](#eq:Jpm)).\n",
    "\n",
    "We can then continue with the next commutation relation, using Eq. ([10](#eq:Jpm)),"
   ]
  },
  {
   "cell_type": "markdown",
   "id": "ab35f534",
   "metadata": {
    "editable": true
   },
   "source": [
    "$$\n",
    "\\begin{align*}\n",
    "[J_+,J_-] &= J_+ J_- - J_- J_+ \\\\\n",
    "&= \\left( \\sum_p a_{p'+}^\\dagger a_{p-} \\right)\n",
    "\\left( \\sum_{p'} a_{p'-}^\\dagger a_{p'+} \\right) -\n",
    "\\left( \\sum_{p'} a_{p'-}^\\dagger a_{p'+} \\right)\n",
    "\\left( \\sum_p a_{p+}^\\dagger a_{p-} \\right) \\\\\n",
    "&= \\sum_{p,p'} \\left(\n",
    "a_{p'+}^\\dagger a_{p-} a_{p'-}^\\dagger a_{p'+} -\n",
    "a_{p'-}^\\dagger a_{p'+} a_{p+}^\\dagger a_{p-} \\right) \\\\\n",
    "&= \\sum_{p,p'} \\left(\n",
    "a_{p'+}^\\dagger a_{p-} a_{p'-}^\\dagger a_{p'+} -\n",
    "a_{p'-}^\\dagger \\left( \\delta_{++} \\delta_{pp'} -\n",
    "a_{p+}^\\dagger a_{p'+} \\right) a_{p-} \\right) \\\\\n",
    "&= \\sum_{p,p'} \\left(\n",
    "a_{p'+}^\\dagger a_{p-} a_{p'-}^\\dagger a_{p'+} -\n",
    "a_{p'-}^\\dagger \\delta_{pp'} a_{p-} +\n",
    "a_{p'-}^\\dagger a_{p+}^\\dagger a_{p'+} a_{p-} \\right) \\\\\n",
    "&= \\sum_{p,p'} \\left(\n",
    "a_{p'+}^\\dagger a_{p-} a_{p'-}^\\dagger a_{p'+} -\n",
    "a_{p'-}^\\dagger \\delta_{pp'} a_{p-} +\n",
    "a_{p+}^\\dagger a_{p'-}^\\dagger a_{p-} a_{p'+} \\right) \\\\\n",
    "&= \\sum_{p,p'} \\left(\n",
    "a_{p'+}^\\dagger a_{p-} a_{p'-}^\\dagger a_{p'+} -\n",
    "a_{p'-}^\\dagger \\delta_{pp'} a_{p-} +\n",
    "a_{p+}^\\dagger \\left( \\delta_{--} \\delta_{pp'} -\n",
    "a_{p-} a_{p'-}^\\dagger \\right) a_{p'+} \\right) \\\\\n",
    "&= \\sum_{p,p'} \\left(\n",
    "a_{p+}^\\dagger \\delta_{pp'} a_{p'+} -\n",
    "a_{p'-}^\\dagger \\delta_{pp'} a_{p-} \\right), \\\\\n",
    "\\end{align*}\n",
    "$$"
   ]
  },
  {
   "cell_type": "markdown",
   "id": "600af870",
   "metadata": {
    "editable": true
   },
   "source": [
    "which results in"
   ]
  },
  {
   "cell_type": "markdown",
   "id": "83b309be",
   "metadata": {
    "editable": true
   },
   "source": [
    "$$\n",
    "[J_+,J_-] = \\sum_p \\left(\n",
    "a_{p+}^\\dagger a_{p+} -\n",
    "a_{p-}^\\dagger a_{p-} \\right) = 2J_z,\n",
    "$$"
   ]
  },
  {
   "cell_type": "markdown",
   "id": "49a5d73c",
   "metadata": {
    "editable": true
   },
   "source": [
    "It is straightforward to show that"
   ]
  },
  {
   "cell_type": "markdown",
   "id": "a4492653",
   "metadata": {
    "editable": true
   },
   "source": [
    "$$\n",
    "[J^2, J_\\pm] = [J_+ J_- + J_z^2 - J_z, J_\\pm] =\n",
    "[J_+ J_-, J_\\pm] + [J_z^2, J_\\pm] - [J_z, J_\\pm].\n",
    "$$"
   ]
  },
  {
   "cell_type": "markdown",
   "id": "4ea07b90",
   "metadata": {
    "editable": true
   },
   "source": [
    "Using the relations"
   ]
  },
  {
   "cell_type": "markdown",
   "id": "ee20fb5e",
   "metadata": {
    "editable": true
   },
   "source": [
    "<!-- Equation labels as ordinary links -->\n",
    "<div id=\"eq:ab,c\"></div>\n",
    "\n",
    "$$\n",
    "\\begin{equation}\n",
    "[AB,C] = A[B,C] + [A,C]B, \\label{eq:ab,c} \\tag{16} \n",
    "\\end{equation}\n",
    "$$"
   ]
  },
  {
   "cell_type": "markdown",
   "id": "e4ff5dc9",
   "metadata": {
    "editable": true
   },
   "source": [
    "<!-- Equation labels as ordinary links -->\n",
    "<div id=\"eq:a,bc\"></div>\n",
    "\n",
    "$$\n",
    "\\begin{equation} \n",
    "[A,BC] = [A,B]C + B[A,C], \\label{eq:a,bc} \\tag{17}\n",
    "\\end{equation}\n",
    "$$"
   ]
  },
  {
   "cell_type": "markdown",
   "id": "27cec44f",
   "metadata": {
    "editable": true
   },
   "source": [
    "we obtain"
   ]
  },
  {
   "cell_type": "markdown",
   "id": "5aaccb9f",
   "metadata": {
    "editable": true
   },
   "source": [
    "$$\n",
    "[J^2, J_\\pm] =\n",
    "J_+ [J_-,J_\\pm] + [J_+,J_\\pm] J_- + J_z [J_z,J_\\pm] + [J_z,J_\\pm] J_z - [J_z,J_\\pm].\n",
    "$$"
   ]
  },
  {
   "cell_type": "markdown",
   "id": "1241983c",
   "metadata": {
    "editable": true
   },
   "source": [
    "Finally, from the above it follows that"
   ]
  },
  {
   "cell_type": "markdown",
   "id": "6d54fee7",
   "metadata": {
    "editable": true
   },
   "source": [
    "$$\n",
    "\\begin{align*}\n",
    "[J^2, J_+] &= -2J_+ J_z + J_z [J_z,J_+] + [J_z,J_+] J_z - [J_z,J_+] \\\\\n",
    "&= -2J_+ J_z + J_z J_+ + J_+ J_z - J_+ \\\\\n",
    "&= -2J_+ J_z + J_+ + J_+ J_z + J_+ J_z - J_+ = 0,\n",
    "\\end{align*}\n",
    "$$"
   ]
  },
  {
   "cell_type": "markdown",
   "id": "ef2b8ce9",
   "metadata": {
    "editable": true
   },
   "source": [
    "and"
   ]
  },
  {
   "cell_type": "markdown",
   "id": "a4e84a78",
   "metadata": {
    "editable": true
   },
   "source": [
    "$$\n",
    "\\begin{align*}\n",
    "[J^2, J_-] &= 2J_z J_- + J_z [J_z,J_-] + [J_z,J_-] J_z - [J_z,J_-] \\\\\n",
    "&= 2J_z J_- - J_z J_- - J_- J_z + J_- \\\\\n",
    "&= J_z J_- - (J_z J_- + J_-) + J_- = 0.\n",
    "\\end{align*}\n",
    "$$"
   ]
  },
  {
   "cell_type": "markdown",
   "id": "2d494293",
   "metadata": {
    "editable": true
   },
   "source": [
    "Our last commutator is given by"
   ]
  },
  {
   "cell_type": "markdown",
   "id": "c086af8b",
   "metadata": {
    "editable": true
   },
   "source": [
    "$$\n",
    "\\begin{align*}\n",
    "[J^2,J_z] &= [J_+ J_- + J_z^2 - J_z, J_z] \\\\\n",
    "&= [J_+ J_-, J_z] + [J_z^2, J_z] - [J_z, J_z] \\\\\n",
    "&= J_+ [J_-, J_z] + [J_+,J_z] J_- \\\\\n",
    "&= J_+ J_- - J_+ J_- = 0\n",
    "\\end{align*}\n",
    "$$"
   ]
  },
  {
   "cell_type": "markdown",
   "id": "c913f9c5",
   "metadata": {
    "editable": true
   },
   "source": [
    "Summing up we have"
   ]
  },
  {
   "cell_type": "markdown",
   "id": "bcc41723",
   "metadata": {
    "editable": true
   },
   "source": [
    "<!-- Equation labels as ordinary links -->\n",
    "<div id=\"eq:kJzJpm\"></div>\n",
    "\n",
    "$$\n",
    "\\begin{equation}\n",
    "[J_z, J_\\pm] = \\pm J_\\pm, \\label{eq:kJzJpm} \\tag{18} \n",
    "\\end{equation}\n",
    "$$"
   ]
  },
  {
   "cell_type": "markdown",
   "id": "46261d66",
   "metadata": {
    "editable": true
   },
   "source": [
    "<!-- Equation labels as ordinary links -->\n",
    "<div id=\"eq:kJpJm\"></div>\n",
    "\n",
    "$$\n",
    "\\begin{equation} \n",
    "[J_+, J_-] = 2J_z, \\label{eq:kJpJm} \\tag{19} \n",
    "\\end{equation}\n",
    "$$"
   ]
  },
  {
   "cell_type": "markdown",
   "id": "c5ef1cfd",
   "metadata": {
    "editable": true
   },
   "source": [
    "<!-- Equation labels as ordinary links -->\n",
    "<div id=\"eq:kJ2Jpm\"></div>\n",
    "\n",
    "$$\n",
    "\\begin{equation} \n",
    "[J^2, J_\\pm] = 0, \\label{eq:kJ2Jpm} \\tag{20} \n",
    "\\end{equation}\n",
    "$$"
   ]
  },
  {
   "cell_type": "markdown",
   "id": "50c5f5e0",
   "metadata": {
    "editable": true
   },
   "source": [
    "<!-- Equation labels as ordinary links -->\n",
    "<div id=\"eq:kJ2Jz\"></div>\n",
    "\n",
    "$$\n",
    "\\begin{equation} \n",
    "[J^2,J_z] = 0, \\label{eq:kJ2Jz} \\tag{21}\n",
    "\\end{equation}\n",
    "$$"
   ]
  },
  {
   "cell_type": "markdown",
   "id": "b72c574c",
   "metadata": {
    "editable": true
   },
   "source": [
    "which are the standard commutation relations for angular (or orbital) momentum $L_\\pm$, $L_z$ og $L^2$."
   ]
  },
  {
   "cell_type": "markdown",
   "id": "4d21be73",
   "metadata": {
    "editable": true
   },
   "source": [
    "## Rewriting the Hamiltonian\n",
    "\n",
    "We wrote the above Hamiltonian as"
   ]
  },
  {
   "cell_type": "markdown",
   "id": "36117f2d",
   "metadata": {
    "editable": true
   },
   "source": [
    "$$\n",
    "H = H_0 + H_1 +H_2,\n",
    "$$"
   ]
  },
  {
   "cell_type": "markdown",
   "id": "098c5d2b",
   "metadata": {
    "editable": true
   },
   "source": [
    "with"
   ]
  },
  {
   "cell_type": "markdown",
   "id": "01ad7759",
   "metadata": {
    "editable": true
   },
   "source": [
    "$$\n",
    "H_0 = \\frac{1}{2} \\varepsilon \\sum_{p\\sigma}\\sigma a_{p\\sigma}^{\\dagger}a_{p\\sigma},\n",
    "$$"
   ]
  },
  {
   "cell_type": "markdown",
   "id": "e0135f35",
   "metadata": {
    "editable": true
   },
   "source": [
    "and"
   ]
  },
  {
   "cell_type": "markdown",
   "id": "7f191499",
   "metadata": {
    "editable": true
   },
   "source": [
    "$$\n",
    "H_1 = \\frac{1}{2} V \\sum_{p,p',\\sigma} a_{p\\sigma}^\\dagger a_{p'\\sigma}^\\dagger a_{p'-\\sigma} a_{p-\\sigma},\n",
    "$$"
   ]
  },
  {
   "cell_type": "markdown",
   "id": "5132ae6f",
   "metadata": {
    "editable": true
   },
   "source": [
    "and"
   ]
  },
  {
   "cell_type": "markdown",
   "id": "65903014",
   "metadata": {
    "editable": true
   },
   "source": [
    "$$\n",
    "H_{2} = \\frac{1}{2} W \\sum_{p,p',\\sigma}a_{p\\sigma}^\\dagger a_{p'-\\sigma}^\\dagger a_{p'\\sigma}a_{p-\\sigma}.\n",
    "$$"
   ]
  },
  {
   "cell_type": "markdown",
   "id": "6284fcb9",
   "metadata": {
    "editable": true
   },
   "source": [
    "We will now rewrite the Hamiltonian in terms of the above quasi-spin operators and the number operator"
   ]
  },
  {
   "cell_type": "markdown",
   "id": "04d9c24f",
   "metadata": {
    "editable": true
   },
   "source": [
    "<!-- Equation labels as ordinary links -->\n",
    "<div id=\"eq:N\"></div>\n",
    "\n",
    "$$\n",
    "\\begin{equation}\n",
    "N = \\sum_{p,\\sigma} a_{p\\sigma}^\\dagger a_{p\\sigma}.\n",
    "\\label{eq:N} \\tag{22}\n",
    "\\end{equation}\n",
    "$$"
   ]
  },
  {
   "cell_type": "markdown",
   "id": "0ab2162f",
   "metadata": {
    "editable": true
   },
   "source": [
    "Going through each term of the Hamiltonian and using the expressions for the quasi-spin operators we obtain"
   ]
  },
  {
   "cell_type": "markdown",
   "id": "5768f17a",
   "metadata": {
    "editable": true
   },
   "source": [
    "<!-- Equation labels as ordinary links -->\n",
    "<div id=\"eq:H0ny\"></div>\n",
    "\n",
    "$$\n",
    "\\begin{equation}\n",
    "H_0 = \\varepsilon J_z.\n",
    "\\label{eq:H0ny} \\tag{23}\n",
    "\\end{equation}\n",
    "$$"
   ]
  },
  {
   "cell_type": "markdown",
   "id": "73f1aa4e",
   "metadata": {
    "editable": true
   },
   "source": [
    "Moving over to $H_1$ and using the anti-commutation relations ([13](#eq:al,ak)) through ([15](#eq:ald,ak)) we obtain"
   ]
  },
  {
   "cell_type": "markdown",
   "id": "17d85816",
   "metadata": {
    "editable": true
   },
   "source": [
    "$$\n",
    "\\begin{align*}\n",
    "H_1 &= \\frac{1}{2} V \\sum_{p,p',\\sigma}\n",
    "a_{p\\sigma}^\\dagger a_{p'\\sigma}^\\dagger a_{p'-\\sigma} a_{p-\\sigma} \\\\\n",
    "&= \\frac{1}{2} V \\sum_{p,p',\\sigma}\n",
    "-a_{p\\sigma}^\\dagger a_{p'\\sigma}^\\dagger a_{p-\\sigma} a_{p'-\\sigma} \\\\\n",
    "&= \\frac{1}{2} V \\sum_{p,p',\\sigma}\n",
    "-a_{p\\sigma}^\\dagger \\left( \\delta_{pp'} \\delta_{\\sigma -\\sigma} - a_{p-\\sigma} a_{p'\\sigma}^\\dagger \\right) a_{p'-\\sigma} \\\\\n",
    "&= \\frac{1}{2} V \\sum_{p,p',\\sigma}\n",
    "a_{p\\sigma}^\\dagger a_{p-\\sigma} a_{p'\\sigma}^\\dagger a_{p'-\\sigma} \\\\\n",
    "\\end{align*}\n",
    "$$"
   ]
  },
  {
   "cell_type": "markdown",
   "id": "93860b86",
   "metadata": {
    "editable": true
   },
   "source": [
    "Rewriting the sum  over $\\sigma$ we arrive at"
   ]
  },
  {
   "cell_type": "markdown",
   "id": "7df9cbfd",
   "metadata": {
    "editable": true
   },
   "source": [
    "$$\n",
    "\\begin{align*}\n",
    "H_1 &= \\frac{1}{2} V\\sum_{p,p'}\n",
    "a_{p+}^\\dagger a_{p-} a_{p'+}^\\dagger a_{p'-} +\n",
    "a_{p-}^\\dagger a_{p+} a_{p'-}^\\dagger a_{p'+} \\\\\n",
    "&= \\frac{1}{2} V \\left[ \\sum_p \\left( a_{p+}^\\dagger a_{p-} \\right)\n",
    "\\sum_{p'} \\left( a_{p'+}^\\dagger a_{p'-} \\right) +\n",
    "\\sum_p \\left( a_{p-}^\\dagger a_{p+} \\right)\n",
    "\\sum_{p'} \\left( a_{p'-}^\\dagger a_{p'+} \\right) \\right] \\\\\n",
    "&= \\frac{1}{2} V \\left[ J_+ J_+ + J_- J_- \\right] = \\frac{1}{2} V \\left[ J_+^2 + J_-^2 \\right] ,\n",
    "\\end{align*}\n",
    "$$"
   ]
  },
  {
   "cell_type": "markdown",
   "id": "44efaf80",
   "metadata": {
    "editable": true
   },
   "source": [
    "which leads to"
   ]
  },
  {
   "cell_type": "markdown",
   "id": "5b1bbba8",
   "metadata": {
    "editable": true
   },
   "source": [
    "<!-- Equation labels as ordinary links -->\n",
    "<div id=\"eq:H1ny\"></div>\n",
    "\n",
    "$$\n",
    "\\begin{equation}\n",
    "H_1 = \\frac{1}{2} V \\left( J_+^2 + J_-^2 \\right).\n",
    "\\label{eq:H1ny} \\tag{24}\n",
    "\\end{equation}\n",
    "$$"
   ]
  },
  {
   "cell_type": "markdown",
   "id": "6e35bf49",
   "metadata": {
    "editable": true
   },
   "source": [
    "Finally, we rewrite the last term"
   ]
  },
  {
   "cell_type": "markdown",
   "id": "df755a08",
   "metadata": {
    "editable": true
   },
   "source": [
    "$$\n",
    "\\begin{align*}\n",
    "H_2 &= \\frac{1}{2} W \\sum_{p,p',\\sigma}\n",
    "a_{p\\sigma}^\\dagger a_{p'-\\sigma}^\\dagger a_{p'\\sigma} a_{p-\\sigma} \\\\\n",
    "&= \\frac{1}{2} W \\sum_{p,p',\\sigma}\n",
    "-a_{p\\sigma}^\\dagger a_{p'-\\sigma}^\\dagger a_{p-\\sigma} a_{p'\\sigma} \\\\\n",
    "&= \\frac{1}{2} W \\sum_{p,p',\\sigma}\n",
    "-a_{p\\sigma}^\\dagger \\left( \\delta_{pp'} \\delta_{-\\sigma -\\sigma} -\n",
    "a_{p-\\sigma} a_{p'-\\sigma}^\\dagger \\right) a_{p'\\sigma} \\\\\n",
    "&= \\frac{1}{2} W \\sum_{p,p',\\sigma}\n",
    "-a_{p\\sigma}^\\dagger \\delta_{pp'} a_{p'\\sigma} +\n",
    "a_{p\\sigma}^\\dagger a_{p-\\sigma} a_{p'-\\sigma}^\\dagger a_{p'\\sigma} \\\\\n",
    "&= \\frac{1}{2} W \\left( -\\sum_{p,\\sigma}\n",
    "a_{p\\sigma}^\\dagger a_{p\\sigma} +\n",
    "\\sum_{p,p',\\sigma} a_{p\\sigma}^\\dagger a_{p-\\sigma} a_{p'-\\sigma}^\\dagger a_{p'\\sigma} \\right) \\\\\n",
    "\\end{align*}\n",
    "$$"
   ]
  },
  {
   "cell_type": "markdown",
   "id": "0789055a",
   "metadata": {
    "editable": true
   },
   "source": [
    "Using the expression for the number operator we obtain"
   ]
  },
  {
   "cell_type": "markdown",
   "id": "96a6fc56",
   "metadata": {
    "editable": true
   },
   "source": [
    "$$\n",
    "\\begin{align*}\n",
    "\\sum_{p,p',\\sigma} a_{p\\sigma}^\\dagger a_{p-\\sigma} a_{p'-\\sigma}^\\dagger a_{p'\\sigma}\n",
    "&= \\sum_{p,p'} a_{p+}^\\dagger a_{p-} a_{p'-}^\\dagger a_{p'+} +\n",
    "a_{p-}^\\dagger a_{p+} a_{p'+}^\\dagger a_{p'-} \\\\\n",
    "&= \\sum_p \\left( a_{p+}^\\dagger a_{p-} \\right)\n",
    "\\sum_{p'} \\left( a_{p'-}^\\dagger a_{p'+} \\right) +\n",
    "\\sum_p \\left( a_{p-}^\\dagger a_{p+} \\right)\n",
    "\\sum_{p'} \\left( a_{p'+}^\\dagger a_{p'-} \\right) \\\\\n",
    "&= J_+ J_- + J_- J_+,\n",
    "\\end{align*}\n",
    "$$"
   ]
  },
  {
   "cell_type": "markdown",
   "id": "cca5b774",
   "metadata": {
    "editable": true
   },
   "source": [
    "resulting in"
   ]
  },
  {
   "cell_type": "markdown",
   "id": "abf5b9c0",
   "metadata": {
    "editable": true
   },
   "source": [
    "<!-- Equation labels as ordinary links -->\n",
    "<div id=\"eq:H2ny\"></div>\n",
    "\n",
    "$$\n",
    "\\begin{equation}\n",
    "H_2 = \\frac{1}{2} W \\left( -N + J_+ J_- + J_- J_+ \\right).\n",
    "\\label{eq:H2ny} \\tag{25}\n",
    "\\end{equation}\n",
    "$$"
   ]
  },
  {
   "cell_type": "markdown",
   "id": "20f35a8c",
   "metadata": {
    "editable": true
   },
   "source": [
    "We have thus expressed the Hamiltonian in term of the quasi-spin operators.\n",
    "Below, we will show how we can rewrite these expressions in terms of Pauli $X$, $Y$ and $Z$ matrices."
   ]
  },
  {
   "cell_type": "markdown",
   "id": "add939e8",
   "metadata": {
    "editable": true
   },
   "source": [
    "## Commutation relations for the Hamiltonian\n",
    "\n",
    "The above expressions can in turn be used to show that the Hamiltonian\n",
    "commutes with the various quasi-spin operators. This leads to quantum\n",
    "numbers which are conserved.  Let us first show that $[H,J^2]=0$,\n",
    "which means that $J$ is a so-called *good* quantum number and that the\n",
    "total spin is a conserved quantum number.\n",
    "\n",
    "We have"
   ]
  },
  {
   "cell_type": "markdown",
   "id": "0ea4ebcb",
   "metadata": {
    "editable": true
   },
   "source": [
    "$$\n",
    "\\begin{align*}\n",
    "[H,J^2] &= [H_0 + H_1 + H_2,J^2] \\\\\n",
    "&= [H_0,J^2] + [H_1,J^2] + [H_2,J^2] \\\\\n",
    "&= \\varepsilon [J_z,J^2] + \\frac{1}{2} V [J_+^2 + J_-^2,J^2] +\n",
    "\\frac{1}{2} W [-N + J_+ J_- + J_- J_+,J^2]. \\\\\n",
    "\\end{align*}\n",
    "$$"
   ]
  },
  {
   "cell_type": "markdown",
   "id": "d3740d47",
   "metadata": {
    "editable": true
   },
   "source": [
    "We have previously shown that"
   ]
  },
  {
   "cell_type": "markdown",
   "id": "0adbbc57",
   "metadata": {
    "editable": true
   },
   "source": [
    "$$\n",
    "[H,J^2] = \\frac{1}{2} V \\left( [J_+^2,J^2] + [J_-^2,J^2] \\right) +\n",
    "\\frac{1}{2} W \\left( -[N,J^2] + [J_+ J_-,J^2] + [J_- J_+, J^2] \\right)\n",
    "$$"
   ]
  },
  {
   "cell_type": "markdown",
   "id": "4c03a7fb",
   "metadata": {
    "editable": true
   },
   "source": [
    "Using that $[J_\\pm,J^2] = 0$, it follows that $[J_\\pm^2,J^2] = 0$. We can then see that $[J_+ J_-,J^2] = 0$ and $[J_- J_+, J^2] = 0$ which leads to"
   ]
  },
  {
   "cell_type": "markdown",
   "id": "91ca53d2",
   "metadata": {
    "editable": true
   },
   "source": [
    "$$\n",
    "\\begin{align*}\n",
    "[H,J^2] &= -\\frac{1}{2} W [N,J^2] \\\\\n",
    "&= \\frac{1}{2} W \\left( -[N,J_+ J_-] - [N,J_z^2] + [N,J_z] \\right) \\\\\n",
    "&= \\frac{1}{2} W \\left( -[N,J_+]J_- - J_+[N,J_-] - [N,J_z]J_z - J_z[N,J_z] + [N,J_z] \\right).\n",
    "\\end{align*}\n",
    "$$"
   ]
  },
  {
   "cell_type": "markdown",
   "id": "9f873513",
   "metadata": {
    "editable": true
   },
   "source": [
    "Combining with the number operator we have"
   ]
  },
  {
   "cell_type": "markdown",
   "id": "8ff3be92",
   "metadata": {
    "editable": true
   },
   "source": [
    "$$\n",
    "\\begin{align*}\n",
    "[N,J_\\pm] &= N J_\\pm - J_\\pm N \\\\\n",
    "&= \\left( \\sum_{p,\\sigma} a_{p\\sigma}^\\dagger a_{p\\sigma} \\right)\n",
    "\\left( \\sum_{p'} a_{p'\\pm}^\\dagger a_{p'\\mp} \\right) -\n",
    "\\left( \\sum_{p'} a_{p'\\pm}^\\dagger a_{p'\\mp} \\right)\n",
    "\\left( \\sum_{p,\\sigma} a_{p\\sigma}^\\dagger a_{p\\sigma} \\right) \\\\\n",
    "&= \\sum_{p,p',\\sigma}\n",
    "a_{p\\sigma}^\\dagger a_{p\\sigma} a_{p'\\pm}^\\dagger a_{p'\\mp} -\n",
    "a_{p'\\pm}^\\dagger a_{p'\\mp} a_{p\\sigma}^\\dagger a_{p\\sigma} \\\\\n",
    "&= \\sum_{p,p',\\sigma}\n",
    "a_{p\\sigma}^\\dagger a_{p\\sigma} a_{p'\\pm}^\\dagger a_{p'\\mp} -\n",
    "a_{p'\\pm}^\\dagger \\left( \\delta_{\\mp \\sigma} \\delta_{pp'} - a_{p\\sigma}^\\dagger a_{p'\\mp} \\right) a_{p\\sigma} \\\\\n",
    "&= \\sum_{p,p',\\sigma}\n",
    "a_{p\\sigma}^\\dagger a_{p\\sigma} a_{p'\\pm}^\\dagger a_{p'\\mp} -\n",
    "a_{p'\\pm}^\\dagger \\delta_{\\mp \\sigma} \\delta_{pp'} a_{p\\sigma} +\n",
    "a_{p'\\pm}^\\dagger a_{p\\sigma}^\\dagger a_{p'\\mp} a_{p\\sigma} \\\\\n",
    "&= \\sum_{p,p',\\sigma}\n",
    "a_{p\\sigma}^\\dagger a_{p\\sigma} a_{p'\\pm}^\\dagger a_{p'\\mp} +\n",
    "a_{p\\sigma}^\\dagger a_{p'\\pm}^\\dagger a_{p\\sigma} a_{p'\\mp} -\n",
    "\\sum_{p} a_{p\\pm}^\\dagger  a_{p\\mp} \\\\\n",
    "&= \\sum_{p,p',\\sigma}\n",
    "a_{p\\sigma}^\\dagger a_{p\\sigma} a_{p'\\pm}^\\dagger a_{p'\\mp} +\n",
    "a_{p\\sigma}^\\dagger \\left( \\delta_{pp'} \\delta_{\\pm \\sigma} -\n",
    "a_{p\\sigma} a_{p'\\pm}^\\dagger \\right) a_{p'\\mp} -\n",
    "\\sum_{p} a_{p\\pm}^\\dagger  a_{p\\mp} \\\\\n",
    "&= \\sum_p a_{p\\pm}^\\dagger a_{p\\mp} -\n",
    "\\sum_{p} a_{p\\pm}^\\dagger  a_{p\\mp} = 0. \\\\\n",
    "\\end{align*}\n",
    "$$"
   ]
  },
  {
   "cell_type": "markdown",
   "id": "cfdd54e0",
   "metadata": {
    "editable": true
   },
   "source": [
    "We obtain then"
   ]
  },
  {
   "cell_type": "markdown",
   "id": "e51f5973",
   "metadata": {
    "editable": true
   },
   "source": [
    "$$\n",
    "\\begin{align*}\n",
    "[N,J_z] &= N J_z - J_z N \\\\\n",
    "&= \\left( \\sum_{p,\\sigma} a_{p\\sigma}^\\dagger a_{p\\sigma} \\right)\n",
    "\\left( \\frac{1}{2}\\sum_{p',\\sigma} \\sigma a_{p'\\sigma}^\\dagger a_{p'\\sigma} \\right) -\n",
    "\\left( \\frac{1}{2}\\sum_{p',\\sigma} \\sigma a_{p'\\sigma}^\\dagger a_{p'\\sigma} \\right)\n",
    "\\left( \\sum_{p,\\sigma} a_{p\\sigma}^\\dagger a_{p\\sigma} \\right) \\\\\n",
    "&= \\sum_{p,p',\\sigma} \n",
    "\\sigma a_{p\\sigma}^\\dagger a_{p\\sigma} a_{p'\\sigma}^\\dagger a_{p'\\sigma} -\n",
    "\\sigma a_{p'\\sigma}^\\dagger a_{p'\\sigma} a_{p\\sigma}^\\dagger a_{p\\sigma} = 0,\n",
    "\\end{align*}\n",
    "$$"
   ]
  },
  {
   "cell_type": "markdown",
   "id": "4a2c148a",
   "metadata": {
    "editable": true
   },
   "source": [
    "which leads to"
   ]
  },
  {
   "cell_type": "markdown",
   "id": "e9831b85",
   "metadata": {
    "editable": true
   },
   "source": [
    "<!-- Equation labels as ordinary links -->\n",
    "<div id=\"eq:kHJ2\"></div>\n",
    "\n",
    "$$\n",
    "\\begin{equation}\n",
    "[H,J^2] = 0,\n",
    "\\label{eq:kHJ2} \\tag{26}\n",
    "\\end{equation}\n",
    "$$"
   ]
  },
  {
   "cell_type": "markdown",
   "id": "74510bee",
   "metadata": {
    "editable": true
   },
   "source": [
    "and $J$ is a good quantum number."
   ]
  },
  {
   "cell_type": "markdown",
   "id": "45a0d774",
   "metadata": {
    "editable": true
   },
   "source": [
    "## Constructing the Hamiltonian matrix for $J=2$\n",
    "\n",
    "We start with the state (unique) where all spins point down"
   ]
  },
  {
   "cell_type": "markdown",
   "id": "443385d8",
   "metadata": {
    "editable": true
   },
   "source": [
    "<!-- Equation labels as ordinary links -->\n",
    "<div id=\"eq:2,-2\"></div>\n",
    "\n",
    "$$\n",
    "\\begin{equation}\n",
    "\\vert 2,-2\\rangle = a_{1-}^{\\dagger} a_{2-}^{\\dagger}\n",
    "a_{3-}^{\\dagger} a_{4-}^{\\dagger} \\vert 0\\rangle\n",
    "\\label{eq:2,-2} \\tag{27}\n",
    "\\end{equation}\n",
    "$$"
   ]
  },
  {
   "cell_type": "markdown",
   "id": "4c9ae071",
   "metadata": {
    "editable": true
   },
   "source": [
    "which is a state with  $J_z = -2$ and $J = 2$. (we label the states as $\\vert J,J_z\\rangle$). For $J = 2$ we have the spin projections $J_z = -2,-1,0,1,2$.\n",
    "We can use the lowering and raising operators for spin in order to define the other states"
   ]
  },
  {
   "cell_type": "markdown",
   "id": "a63a6470",
   "metadata": {
    "editable": true
   },
   "source": [
    "<!-- Equation labels as ordinary links -->\n",
    "<div id=\"eq:J+ket\"></div>\n",
    "\n",
    "$$\n",
    "\\begin{equation}\n",
    "J_+ \\vert J,J_z\\rangle = \\sqrt{J(J+1) - J_z(J_z + 1)} \\vert J,J_z + 1\\rangle,\n",
    "\\label{eq:J+ket} \\tag{28} \n",
    "\\end{equation}\n",
    "$$"
   ]
  },
  {
   "cell_type": "markdown",
   "id": "fcdab645",
   "metadata": {
    "editable": true
   },
   "source": [
    "<!-- Equation labels as ordinary links -->\n",
    "<div id=\"eq:J-ket\"></div>\n",
    "\n",
    "$$\n",
    "\\begin{equation} \n",
    "J_- \\vert J,J_z\\rangle = \\sqrt{J(J+1) - J_z(J_z - 1)} \\vert J,J_z - 1\\rangle.\n",
    "\\label{eq:J-ket} \\tag{29}\n",
    "\\end{equation}\n",
    "$$"
   ]
  },
  {
   "cell_type": "markdown",
   "id": "8320fa11",
   "metadata": {
    "editable": true
   },
   "source": [
    "We can then construct all other states with $J=2$ using the raising operator\n",
    "$J_+$ on $\\vert 2,-2\\rangle$"
   ]
  },
  {
   "cell_type": "markdown",
   "id": "791819e4",
   "metadata": {
    "editable": true
   },
   "source": [
    "$$\n",
    "J_+ \\vert 2,-2\\rangle = \\sqrt{2(2+1) - (-2)(-2+1)} \\vert 2,-2+1\\rangle =\\sqrt{6 - 2} \\vert 2,-1\\rangle = 2\\vert 2,-1\\rangle,\n",
    "$$"
   ]
  },
  {
   "cell_type": "markdown",
   "id": "28689acc",
   "metadata": {
    "editable": true
   },
   "source": [
    "which gives"
   ]
  },
  {
   "cell_type": "markdown",
   "id": "99679fdd",
   "metadata": {
    "editable": true
   },
   "source": [
    "<!-- Equation labels as ordinary links -->\n",
    "<div id=\"_auto9\"></div>\n",
    "\n",
    "$$\n",
    "\\begin{equation}\n",
    "\\vert 2,-1\\rangle = \\frac{1}{2} J_+ \\vert 2,-2\\rangle \\notag \n",
    "\\label{_auto9} \\tag{30}\n",
    "\\end{equation}\n",
    "$$"
   ]
  },
  {
   "cell_type": "markdown",
   "id": "e39882cb",
   "metadata": {
    "editable": true
   },
   "source": [
    "<!-- Equation labels as ordinary links -->\n",
    "<div id=\"_auto10\"></div>\n",
    "\n",
    "$$\n",
    "\\begin{equation} \n",
    "= \\frac{1}{2} \\sum_p a_{p+}^\\dagger a_{p-} a_{1-}^{\\dagger} a_{2-}^{\\dagger}\n",
    "a_{3-}^{\\dagger} a_{4-}^{\\dagger} \\vert 0\\rangle \\notag \n",
    "\\label{_auto10} \\tag{31}\n",
    "\\end{equation}\n",
    "$$"
   ]
  },
  {
   "cell_type": "markdown",
   "id": "8a8d5916",
   "metadata": {
    "editable": true
   },
   "source": [
    "<!-- Equation labels as ordinary links -->\n",
    "<div id=\"eq:2,-1\"></div>\n",
    "\n",
    "$$\n",
    "\\begin{equation} \n",
    "= \\frac{1}{2} \\left(\n",
    "a_{1+}^{\\dagger} a_{2-}^{\\dagger} a_{3-}^{\\dagger} a_{4-}^{\\dagger} +\n",
    "a_{1-}^{\\dagger} a_{2+}^{\\dagger} a_{3-}^{\\dagger} a_{4-}^{\\dagger} +\n",
    "a_{1-}^{\\dagger} a_{2-}^{\\dagger} a_{3+}^{\\dagger} a_{4-}^{\\dagger} +\n",
    "a_{1-}^{\\dagger} a_{2-}^{\\dagger} a_{3-}^{\\dagger} a_{4+}^{\\dagger}\n",
    "\\right) \\vert 0\\rangle. \\label{eq:2,-1} \\tag{32}\n",
    "\\end{equation}\n",
    "$$"
   ]
  },
  {
   "cell_type": "markdown",
   "id": "e750a438",
   "metadata": {
    "editable": true
   },
   "source": [
    "We can construct all the other states in the same way. That is"
   ]
  },
  {
   "cell_type": "markdown",
   "id": "4872c79b",
   "metadata": {
    "editable": true
   },
   "source": [
    "$$\n",
    "J_+ \\vert 2,-1\\rangle = \\sqrt{2(2+1) - (-1)(-1+1)} \\vert 2,-1+1\\rangle = \\sqrt{6} \\vert 2,0\\rangle,\n",
    "$$"
   ]
  },
  {
   "cell_type": "markdown",
   "id": "555c53d1",
   "metadata": {
    "editable": true
   },
   "source": [
    "which results in"
   ]
  },
  {
   "cell_type": "markdown",
   "id": "8fe1a994",
   "metadata": {
    "editable": true
   },
   "source": [
    "<!-- Equation labels as ordinary links -->\n",
    "<div id=\"eq:2,0\"></div>\n",
    "\n",
    "$$\n",
    "\\begin{equation}\n",
    "\\begin{aligned}\n",
    "\\vert 2,0\\rangle &= \\frac{1}{\\sqrt{6}} \\left(\n",
    "a_{1+}^{\\dagger} a_{2+}^{\\dagger} a_{3-}^{\\dagger} a_{4-}^{\\dagger} +\n",
    "a_{1+}^{\\dagger} a_{2-}^{\\dagger} a_{3+}^{\\dagger} a_{4-}^{\\dagger} +\n",
    "a_{1+}^{\\dagger} a_{2-}^{\\dagger} a_{3-}^{\\dagger} a_{4+}^{\\dagger} +\n",
    "a_{1-}^{\\dagger} a_{2+}^{\\dagger} a_{3+}^{\\dagger} a_{4-}^{\\dagger} + \\right. \\\\\n",
    "&\\quad\\,\\, \\left.\n",
    "a_{1-}^{\\dagger} a_{2+}^{\\dagger} a_{3-}^{\\dagger} a_{4+}^{\\dagger} +\n",
    "a_{1-}^{\\dagger} a_{2-}^{\\dagger} a_{3+}^{\\dagger} a_{4+}^{\\dagger} \\right) \\vert 0\\rangle\n",
    "\\end{aligned}\n",
    "\\label{eq:2,0} \\tag{33}\n",
    "\\end{equation}\n",
    "$$"
   ]
  },
  {
   "cell_type": "markdown",
   "id": "8846454f",
   "metadata": {
    "editable": true
   },
   "source": [
    "The two remaining states are"
   ]
  },
  {
   "cell_type": "markdown",
   "id": "df9c5bbe",
   "metadata": {
    "editable": true
   },
   "source": [
    "<!-- Equation labels as ordinary links -->\n",
    "<div id=\"eq:2,1\"></div>\n",
    "\n",
    "$$\n",
    "\\begin{equation}\n",
    "\\vert2,1\\rangle  = \\frac{1}{2} \\left(\n",
    "a_{1+}^{\\dagger} a_{2+}^{\\dagger} a_{3+}^{\\dagger} a_{4-}^{\\dagger} +\n",
    "a_{1+}^{\\dagger} a_{2+}^{\\dagger} a_{3-}^{\\dagger} a_{4+}^{\\dagger} +\n",
    "a_{1+}^{\\dagger} a_{2-}^{\\dagger} a_{3+}^{\\dagger} a_{4+}^{\\dagger} +\n",
    "a_{1-}^{\\dagger} a_{2+}^{\\dagger} a_{3+}^{\\dagger} a_{4+}^{\\dagger}\n",
    " \\right).\n",
    "\\label{eq:2,1} \\tag{34}\n",
    "\\end{equation}\n",
    "$$"
   ]
  },
  {
   "cell_type": "markdown",
   "id": "41335925",
   "metadata": {
    "editable": true
   },
   "source": [
    "and"
   ]
  },
  {
   "cell_type": "markdown",
   "id": "e1d2a3e3",
   "metadata": {
    "editable": true
   },
   "source": [
    "<!-- Equation labels as ordinary links -->\n",
    "<div id=\"eq:2,2\"></div>\n",
    "\n",
    "$$\n",
    "\\begin{equation}\n",
    "\\vert 2,2\\rangle  = a_{1+}^{\\dagger} a_{2+}^{\\dagger} a_{3+}^{\\dagger} a_{4+}^{\\dagger} \\vert 0\\rangle.\n",
    "\\label{eq:2,2} \\tag{35}\n",
    "\\end{equation}\n",
    "$$"
   ]
  },
  {
   "cell_type": "markdown",
   "id": "9330e3e1",
   "metadata": {
    "editable": true
   },
   "source": [
    "These five states can in turn be used as computational basis states in\n",
    "order to define the Hamiltonian matrix to be diagonalized.\n",
    "The matrix elements are given by $\\langle J,J_z \\vert H \\vert J',J_z' \\rangle$.\n",
    "The\n",
    "Hamiltonian is hermitian and we obtain after all this labor of ours"
   ]
  },
  {
   "cell_type": "markdown",
   "id": "3a0c1218",
   "metadata": {
    "editable": true
   },
   "source": [
    "<!-- Equation labels as ordinary links -->\n",
    "<div id=\"eq:HJ=2\"></div>\n",
    "\n",
    "$$\n",
    "\\begin{equation}\n",
    "H_{J = 2} =\n",
    "\\begin{bmatrix}\n",
    "-2\\varepsilon & 0 & \\sqrt{6}V & 0 & 0 \\\\\n",
    "0 & -\\varepsilon + 3W & 0 & 3V & 0 \\\\\n",
    "\\sqrt{6}V & 0 & 4W & 0 & \\sqrt{6}V \\\\\n",
    "0 & 3V & 0 & \\varepsilon + 3W & 0 \\\\\n",
    "0 & 0 & \\sqrt{6}V & 0 & 2\\varepsilon\n",
    "\\end{bmatrix}\n",
    "\\label{eq:HJ=2} \\tag{36}\n",
    "\\end{equation}\n",
    "$$"
   ]
  },
  {
   "cell_type": "markdown",
   "id": "9d796982",
   "metadata": {
    "editable": true
   },
   "source": [
    "We can now select a set of parameters and diagonalize the above matrix. We select $\\epsilon = 2$, $V = -1/3$, $W = -1/4$ and our matrix becoes"
   ]
  },
  {
   "cell_type": "markdown",
   "id": "424cf4cb",
   "metadata": {
    "editable": true
   },
   "source": [
    "$$\n",
    "H_{J=2}^{(1)} =\n",
    "\\begin{bmatrix}\n",
    "-4 & 0 & -\\sqrt{6}/3 & 0 & 0 \\\\\n",
    "0 & -2 - 3/4 & 0 & -1 & 0 \\\\\n",
    "-\\sqrt{6}/3 & 0 & -1 & 0 & -\\sqrt{6}/3 \\\\\n",
    "0 & -1 & 0 & 2 + -3/4 & 0 \\\\\n",
    "0 & 0 & -\\sqrt{6}/3 & 0 & 4\n",
    "\\end{bmatrix},\n",
    "$$"
   ]
  },
  {
   "cell_type": "markdown",
   "id": "55788cec",
   "metadata": {
    "editable": true
   },
   "source": [
    "which gives the eigenvalue"
   ]
  },
  {
   "cell_type": "markdown",
   "id": "b2637dc7",
   "metadata": {
    "editable": true
   },
   "source": [
    "$$\n",
    "D = \\begin{bmatrix}\n",
    "-4.21288 &  0 &  0 &  0 &  0 \\\\\n",
    "0 & -2.98607  & 0  & 0  & 0 \\\\\n",
    "0 &  0 & -0.91914  & 0  & 0 \\\\\n",
    "0 &  0 & 0   & 1.48607  & 0 \\\\\n",
    "0 &  0  & 0  & 0  & 4.13201\n",
    "\\end{bmatrix}.\n",
    "$$"
   ]
  },
  {
   "cell_type": "markdown",
   "id": "480258eb",
   "metadata": {
    "editable": true
   },
   "source": [
    "The lowest state has an admixture of basis states given by"
   ]
  },
  {
   "cell_type": "markdown",
   "id": "3c198baa",
   "metadata": {
    "editable": true
   },
   "source": [
    "$$\n",
    "\\vert \\psi_0\\rangle = 0.96735\\vert2,-2\\rangle + 0.25221\\vert 2,0\\rangle + 0.02507\\vert 2,2\\rangle,\n",
    "$$"
   ]
  },
  {
   "cell_type": "markdown",
   "id": "17cca163",
   "metadata": {
    "editable": true
   },
   "source": [
    "with energy $E_0 = -4.21288$.\n",
    "\n",
    "We can now change the parameters to\n",
    "$\\varepsilon = 2$, $V = -4/3$, $W = -1$. Our matrix reads then"
   ]
  },
  {
   "cell_type": "markdown",
   "id": "c3f6d434",
   "metadata": {
    "editable": true
   },
   "source": [
    "$$\n",
    "H_{J=2}^{(2)} =\n",
    "\\begin{bmatrix}\n",
    "-4 & 0 & -4\\sqrt{6}/3 & 0 & 0 \\\\\n",
    "0 & -5 & 0 & -4 & 0 \\\\\n",
    "-4\\sqrt{6}/3 & 0 & -4 & 0 & -4\\sqrt{6}/3 \\\\\n",
    "0 & -4 & 0 & -1 & 0 \\\\\n",
    "0 & 0 & -4\\sqrt{6}/3 & 0 & 4\n",
    "\\end{bmatrix},\n",
    "$$"
   ]
  },
  {
   "cell_type": "markdown",
   "id": "28657ba4",
   "metadata": {
    "editable": true
   },
   "source": [
    "with the following eigenvalues"
   ]
  },
  {
   "cell_type": "markdown",
   "id": "e78e4df1",
   "metadata": {
    "editable": true
   },
   "source": [
    "$$\n",
    "D = \\begin{bmatrix}\n",
    "-7.75122 &  0 &  0 &  0  & 0 \\\\\n",
    "0 & -7.47214  & 0  & 0  & 0 \\\\\n",
    "0 &  0  & -1.55581 &  0  & 0 \\\\\n",
    "0 &  0  & 0  & 1.47214  & 0 \\\\\n",
    "0 &  0  & 0  & 0  & 5.30704\n",
    "\\end{bmatrix}.\n",
    "$$"
   ]
  },
  {
   "cell_type": "markdown",
   "id": "bb9b29bf",
   "metadata": {
    "editable": true
   },
   "source": [
    "The new ground state (lowest state) has the following admixture of computational basis states"
   ]
  },
  {
   "cell_type": "markdown",
   "id": "dbaff152",
   "metadata": {
    "editable": true
   },
   "source": [
    "$$\n",
    "\\vert \\psi_0\\rangle = 0.64268\\vert 2,-2\\rangle + 0.73816\\vert 2,0\\rangle + 0.20515 \\vert 2,2\\rangle,\n",
    "$$"
   ]
  },
  {
   "cell_type": "markdown",
   "id": "231fa234",
   "metadata": {
    "editable": true
   },
   "source": [
    "with energy $E_0 = -7.75122$.\n",
    "\n",
    "For the first set of parameters, the likelihood for observing the\n",
    "system in the computational basis state $\\vert 2,-2 \\rangle$ is rather\n",
    "large. This is expected since the interaction matrix elements are\n",
    "smaller than the single-particle energies.  For the second case, with\n",
    "larger matrix elements, we see a much stronger mixing of the other\n",
    "states, again as expected due to the ratio of the interaction matrix\n",
    "elements and the single-particle energies."
   ]
  },
  {
   "cell_type": "markdown",
   "id": "9a1a5512",
   "metadata": {
    "editable": true
   },
   "source": [
    "## Reminder from last week on Expectation values\n",
    "\n",
    "To execute the second step of VQE, we need to understand how\n",
    "expectation values of operators can be estimated via quantum computers\n",
    "by post-processing measurements of quantum circuits in different\n",
    "basis. To rotate bases, one uses the basis rotator $R_\\sigma$ which is\n",
    "defined for each Pauli gate $\\sigma$ to be"
   ]
  },
  {
   "cell_type": "markdown",
   "id": "5440108a",
   "metadata": {
    "editable": true
   },
   "source": [
    "<!-- Equation labels as ordinary links -->\n",
    "<div id=\"eq:auto8\"></div>\n",
    "\n",
    "$$\n",
    "\\begin{equation}\n",
    "R_{\\sigma} = H,  \\text{if} \\ \\sigma = X,\n",
    "\\end{equation} \\label{eq:auto8} \\tag{37}\n",
    "$$"
   ]
  },
  {
   "cell_type": "markdown",
   "id": "f7b8ad5a",
   "metadata": {
    "editable": true
   },
   "source": [
    "and"
   ]
  },
  {
   "cell_type": "markdown",
   "id": "aea2f35c",
   "metadata": {
    "editable": true
   },
   "source": [
    "<!-- Equation labels as ordinary links -->\n",
    "<div id=\"_auto11\"></div>\n",
    "\n",
    "$$\n",
    "\\begin{equation}\n",
    "HS^{\\dagger},  \\text{if} \\ \\sigma = Y,\n",
    "\\label{_auto11} \\tag{38}\n",
    "\\end{equation}\n",
    "$$"
   ]
  },
  {
   "cell_type": "markdown",
   "id": "bebc322e",
   "metadata": {
    "editable": true
   },
   "source": [
    "and"
   ]
  },
  {
   "cell_type": "markdown",
   "id": "3274dd9b",
   "metadata": {
    "editable": true
   },
   "source": [
    "<!-- Equation labels as ordinary links -->\n",
    "<div id=\"_auto12\"></div>\n",
    "\n",
    "$$\n",
    "\\begin{equation}\n",
    "I,  \\text{if} \\ \\sigma = Z.\n",
    "\\label{_auto12} \\tag{39}\n",
    "\\end{equation}\n",
    "$$"
   ]
  },
  {
   "cell_type": "markdown",
   "id": "d2bb06f5",
   "metadata": {
    "editable": true
   },
   "source": [
    "We can show that these rotations allow us to measure the eigenvalues of the Pauli operators. The eigenvectors of the Pauli $X$ gate are"
   ]
  },
  {
   "cell_type": "markdown",
   "id": "6d202ee3",
   "metadata": {
    "editable": true
   },
   "source": [
    "$$\n",
    "\\vert\\pm\\rangle = \\frac{\\vert 0\\rangle \\pm \\vert 1\\rangle}{\\sqrt{2}},\n",
    "$$"
   ]
  },
  {
   "cell_type": "markdown",
   "id": "6e286b9b",
   "metadata": {
    "editable": true
   },
   "source": [
    "with eigenvalues $\\pm 1$.\n",
    "Acting on the eigenstates with the rotation in eq. ([37](#eq:auto8)) gives"
   ]
  },
  {
   "cell_type": "markdown",
   "id": "f7c688b8",
   "metadata": {
    "editable": true
   },
   "source": [
    "$$\n",
    "H\\vert +\\rangle = +1\\vert 0\\rangle,\n",
    "$$"
   ]
  },
  {
   "cell_type": "markdown",
   "id": "0dd9adc1",
   "metadata": {
    "editable": true
   },
   "source": [
    "and"
   ]
  },
  {
   "cell_type": "markdown",
   "id": "3a684679",
   "metadata": {
    "editable": true
   },
   "source": [
    "$$\n",
    "H\\vert -\\rangle = -1\\vert 1\\rangle.\n",
    "$$"
   ]
  },
  {
   "cell_type": "markdown",
   "id": "e7e1a6eb",
   "metadata": {
    "editable": true
   },
   "source": [
    "Any single-qubit state can be written as a linear combination of these eigenvectors,"
   ]
  },
  {
   "cell_type": "markdown",
   "id": "9c3ad3b3",
   "metadata": {
    "editable": true
   },
   "source": [
    "$$\n",
    "\\vert \\psi\\rangle = \\alpha \\vert +\\rangle + \\beta \\vert -\\rangle.\n",
    "$$"
   ]
  },
  {
   "cell_type": "markdown",
   "id": "cbaa9d03",
   "metadata": {
    "editable": true
   },
   "source": [
    "We then have the following expectation value for the Pauli $X$ operator"
   ]
  },
  {
   "cell_type": "markdown",
   "id": "212b5eef",
   "metadata": {
    "editable": true
   },
   "source": [
    "$$\n",
    "\\\\angle X\\rangle  = \\langle \\psi\\vert X \\vert \\psi\\rangle = |\\alpha|^2 - |\\beta|^2.\n",
    "$$"
   ]
  },
  {
   "cell_type": "markdown",
   "id": "98632ea2",
   "metadata": {
    "editable": true
   },
   "source": [
    "However, we can only measure the qubits in the computational basis. Applying the rotation in eq. ([37](#eq:auto8)) to our state gives"
   ]
  },
  {
   "cell_type": "markdown",
   "id": "5c7eec00",
   "metadata": {
    "editable": true
   },
   "source": [
    "$$\n",
    "H \\vert \\psi\\rangle = \\alpha \\vert 0\\rangle - \\beta \\vert 1\\rangle.\n",
    "$$"
   ]
  },
  {
   "cell_type": "markdown",
   "id": "31cf9478",
   "metadata": {
    "editable": true
   },
   "source": [
    "This tells us that we are able to estimate $|\\alpha|^2$ and\n",
    "$|\\beta|^2$ (and hence the expectation value of the Pauli $X$\n",
    "operator) by using the rotation in eq. ([37](#eq:auto8)) and measure the\n",
    "resulting state in the computational basis. We can show this for the\n",
    "Pauli $Z$ and Pauli $Y$ similarly.\n",
    "\n",
    "Note the following identity of the basis rotator"
   ]
  },
  {
   "cell_type": "markdown",
   "id": "50d15bfc",
   "metadata": {
    "editable": true
   },
   "source": [
    "$$\n",
    "R^\\dagger_\\sigma Z R_\\sigma = \\sigma,\n",
    "$$"
   ]
  },
  {
   "cell_type": "markdown",
   "id": "bcb03c53",
   "metadata": {
    "editable": true
   },
   "source": [
    "which follows from the fact that $HZH=X$ and $SXS^\\dagger=Y$. With this, we see that the expectation value of an arbitrary\n",
    "Pauli-gate $\\sigma$ in the state $\\vert\\psi\\rangle$ can be expressed as a linear combination of probabilities"
   ]
  },
  {
   "cell_type": "markdown",
   "id": "9e974013",
   "metadata": {
    "editable": true
   },
   "source": [
    "$$\n",
    "E_{\\psi}(\\sigma)\n",
    "= \\langle \\psi\\vert\\sigma\\vert\\psi\\rangle \\nonumber\n",
    "$$"
   ]
  },
  {
   "cell_type": "markdown",
   "id": "37fbabcd",
   "metadata": {
    "editable": true
   },
   "source": [
    "$$\n",
    "=\\langle\\psi\\vert R_{\\sigma}^{\\dagger}ZR_{\\sigma}\\vert\\psi\\rangle =\\langle \\phi\\vert Z\\vert \\phi\\rangle \\nonumber\n",
    "$$"
   ]
  },
  {
   "cell_type": "markdown",
   "id": "67a88604",
   "metadata": {
    "editable": true
   },
   "source": [
    "$$\n",
    "=\\langle\\phi\\vert\\left(\\sum_{x\\in\\{0,1\\}}(-1)^x\\vert x\\rangle\\langle x\\vert\\right)\\vert\\phi\\rangle \\nonumber\n",
    "$$"
   ]
  },
  {
   "cell_type": "markdown",
   "id": "203de248",
   "metadata": {
    "editable": true
   },
   "source": [
    "$$\n",
    "=\\sum_{x\\in\\{0,1\\}}(-1)^x\\vert\\langle x\\vert \\phi\\rangle\\vert^2\\nonumber\n",
    "$$"
   ]
  },
  {
   "cell_type": "markdown",
   "id": "5e0626df",
   "metadata": {
    "editable": true
   },
   "source": [
    "<!-- Equation labels as ordinary links -->\n",
    "<div id=\"_auto13\"></div>\n",
    "\n",
    "$$\n",
    "\\begin{equation} \n",
    "=\\sum_{x\\in\\{0,1\\}}(-1)^xP(\\vert \\phi\\rangle\\to\\vert x\\rangle),\n",
    "\\label{_auto13} \\tag{40}\n",
    "\\end{equation}\n",
    "$$"
   ]
  },
  {
   "cell_type": "markdown",
   "id": "8072c23d",
   "metadata": {
    "editable": true
   },
   "source": [
    "where $\\vert \\phi\\rangle=\\vert R_\\sigma\\phi\\rangle$ and\n",
    "$P(\\vert \\phi\\rangle\\to\\vert x\\rangle$ is the probability that the state\n",
    "$\\vert \\phi\\rangle$ collapses to the state $\\vert x\\rangle$ when measured. This can\n",
    "be extended to any arbitrary Pauli string: consider the string of\n",
    "Pauli operators $P=\\bigotimes_{p\\in Q}\\sigma_p$ which acts\n",
    "non-trivially on the set of qubits $Q$ which is a subset of the total\n",
    "set of $n$ qubits in the system. Then"
   ]
  },
  {
   "cell_type": "markdown",
   "id": "994d44b4",
   "metadata": {
    "editable": true
   },
   "source": [
    "$$\n",
    "E_{\\psi}\\left(P\\right)\n",
    "=\\langle \\psi\\vert\\left(\\bigotimes_{p\\in Q}\\sigma_p\\right)\\vert \\psi\\rangle \\nonumber\n",
    "$$"
   ]
  },
  {
   "cell_type": "markdown",
   "id": "6dc67764",
   "metadata": {
    "editable": true
   },
   "source": [
    "$$\n",
    "=\\langle \\psi\\vert\\left(\\bigotimes_{p\\in Q}\\sigma_p\\right)\n",
    "\\left(\\bigotimes_{q\\notin Q}I_q\\right)\\vert \\psi\\rangle \\nonumber\n",
    "$$"
   ]
  },
  {
   "cell_type": "markdown",
   "id": "c227b803",
   "metadata": {
    "editable": true
   },
   "source": [
    "$$\n",
    "=\\langle \\psi\\vert\\left(\\bigotimes_{p \\in Q}R_{\\sigma_p}^{\\dagger}Z_pR_{\\sigma_p}\\right)\n",
    "\\left(\\bigotimes_{q\\notin Q}I_q\\right)\\vert \\psi\\rangle \\nonumber\n",
    "$$"
   ]
  },
  {
   "cell_type": "markdown",
   "id": "0a2c3a45",
   "metadata": {
    "editable": true
   },
   "source": [
    "$$\n",
    "=\n",
    "\\langle \\psi\\vert\\left(\\bigotimes_{p \\in Q}R_{\\sigma_p}^{\\dagger}\\right)\n",
    "\\left(\\bigotimes_{p \\in Q}Z_p\\right)\n",
    "\\left(\\bigotimes_{q\\notin Q}I_q\\right)\n",
    "\\left(\\bigotimes_{p \\in Q}R_{\\sigma_p}\\right)\\vert \\psi\\rangle \\nonumber\n",
    "$$"
   ]
  },
  {
   "cell_type": "markdown",
   "id": "aa62af4d",
   "metadata": {
    "editable": true
   },
   "source": [
    "$$\n",
    "=\n",
    "\\langle \\phi\\vert\n",
    "\\left(\\bigotimes_{p \\in Q}Z_p\\right)\n",
    "\\left(\\bigotimes_{q\\notin Q}I_q\\right)\n",
    "\\vert \\phi\\rangle \\nonumber\n",
    "$$"
   ]
  },
  {
   "cell_type": "markdown",
   "id": "07ae300e",
   "metadata": {
    "editable": true
   },
   "source": [
    "$$\n",
    "=\n",
    "\\langle \\phi\\vert\n",
    "\\left(\\bigotimes_{p\\in Q}\\sum_{x_p\\in\\{0_p,1_p\\}}(-1)^{x_p}\\vert x_p\\rangle\\langle x_p\\vert\\right)\n",
    "\\left(\\bigotimes_{q\\notin Q}\\sum_{y_q\\in\\{0_q,1_q\\}}\\vert y_q\\rangle\\langle y_q\\vert\\right)\n",
    "\\vert \\phi\\rangle \n",
    "\\nonumber\n",
    "$$"
   ]
  },
  {
   "cell_type": "markdown",
   "id": "8b7d11b9",
   "metadata": {
    "editable": true
   },
   "source": [
    "$$\n",
    "=\n",
    "\\langle \\phi\\vert\n",
    "\\left(\\sum_{x\\in\\{0,1\\}^n}(-1)^{\\sum_{p\\in Q}x_p}\\vert x\\rangle\\langle x\\vert\\right)\n",
    "\\vert \\phi\\rangle \n",
    "\\nonumber\n",
    "$$"
   ]
  },
  {
   "cell_type": "markdown",
   "id": "9f8a4215",
   "metadata": {
    "editable": true
   },
   "source": [
    "$$\n",
    "=\n",
    "\\sum_{x\\in\\{0,1\\}^n}(-1)^{\\sum_{p\\in Q}x_p}\\vert\\langle x\\vert\\vert \\phi\\rangle\\vert^2\n",
    "\\nonumber\n",
    "$$"
   ]
  },
  {
   "cell_type": "markdown",
   "id": "2eb1d549",
   "metadata": {
    "editable": true
   },
   "source": [
    "<!-- Equation labels as ordinary links -->\n",
    "<div id=\"_auto14\"></div>\n",
    "\n",
    "$$\n",
    "\\begin{equation} \n",
    "=\n",
    "\\sum_{x\\in\\{0,1\\}^n}(-1)^{\\sum_{p\\in Q}x_p}P(\\vert \\phi\\rangle\\to\\vert x\\rangle),\n",
    "\\label{_auto14} \\tag{41}\n",
    "\\end{equation}\n",
    "$$"
   ]
  },
  {
   "cell_type": "markdown",
   "id": "15f4ff42",
   "metadata": {
    "editable": true
   },
   "source": [
    "where $\\vert \\phi\\rangle=\\vert \\bigotimes_{p\\in\n",
    "Q}R_{\\sigma_p}\\psi\\rangle$. Finally, because the expectation value is\n",
    "linear"
   ]
  },
  {
   "cell_type": "markdown",
   "id": "f6825cae",
   "metadata": {
    "editable": true
   },
   "source": [
    "<!-- Equation labels as ordinary links -->\n",
    "<div id=\"_auto15\"></div>\n",
    "\n",
    "$$\n",
    "\\begin{equation}\n",
    "E_\\psi\\left(\\sum_{m}\\lambda_mP_m\\right) = \\sum_m\\lambda_mE_\\psi(P_m),\n",
    "\\label{_auto15} \\tag{42}\n",
    "\\end{equation}\n",
    "$$"
   ]
  },
  {
   "cell_type": "markdown",
   "id": "f90691c8",
   "metadata": {
    "editable": true
   },
   "source": [
    "one can estimate any observable that can be written as a linear combination of Pauli-string terms."
   ]
  },
  {
   "cell_type": "markdown",
   "id": "e3ceb069",
   "metadata": {
    "editable": true
   },
   "source": [
    "## Measurement\n",
    "\n",
    "To estimate the probability $P(\\vert \\phi\\rangle\\to \\vert x\\rangle)$ from the\n",
    "formalism above, one prepares the state $\\vert \\phi\\rangle$ on a quantum\n",
    "computer and measures it, and then we repeat this process (prepare and\n",
    "measure) several times. The probability $P(\\vert \\phi\\rangle\\to \\vert x\\rangle)$ is\n",
    "estimated to be the number of times that one measures the bit-string\n",
    "$x$ divided by the total number of measurements that one makes; that"
   ]
  },
  {
   "cell_type": "markdown",
   "id": "654ad9bf",
   "metadata": {
    "editable": true
   },
   "source": [
    "<!-- Equation labels as ordinary links -->\n",
    "<div id=\"_auto16\"></div>\n",
    "\n",
    "$$\n",
    "\\begin{equation}\n",
    "P(\\vert \\phi\\rangle\\to \\vert x\\rangle\\rangle \\approx \\sum_{m=1}^M\\frac{x_m}{M},\n",
    "\\label{_auto16} \\tag{43}\n",
    "\\end{equation}\n",
    "$$"
   ]
  },
  {
   "cell_type": "markdown",
   "id": "3f058497",
   "metadata": {
    "editable": true
   },
   "source": [
    "where $x_m=1$\n",
    "if the result of measurement is $x$ and  $0$ if the result of measurement is not $x$.\n",
    "\n",
    "By the law of large numbers the approximation approaches equality as\n",
    "$M$ goes to infinity"
   ]
  },
  {
   "cell_type": "markdown",
   "id": "c2948684",
   "metadata": {
    "editable": true
   },
   "source": [
    "<!-- Equation labels as ordinary links -->\n",
    "<div id=\"_auto17\"></div>\n",
    "\n",
    "$$\n",
    "\\begin{equation}\n",
    "P(\\vert \\phi\\rangle\\to \\vert x\\rangle) = \\lim_{M\\to\\infty}\\sum_{m=1}^M\\frac{x_m}{M}.\n",
    "\\label{_auto17} \\tag{44}\n",
    "\\end{equation}\n",
    "$$"
   ]
  },
  {
   "cell_type": "markdown",
   "id": "f1987f76",
   "metadata": {
    "editable": true
   },
   "source": [
    "As we obviously do not have infinite time nor infinite quantum\n",
    "computers (which could be run in parallel), we must truncate our\n",
    "number of measurement $M$ to a finite, but sufficiently large\n",
    "number. More precisely, for precision $\\epsilon$, each expectation\n",
    "estimation subroutine within VQE requires $\\mathcal{O}(1/\\epsilon^2)$\n",
    "samples from circuits with depth $\\mathcal{O}(1)$."
   ]
  },
  {
   "cell_type": "markdown",
   "id": "e53d9d04",
   "metadata": {
    "editable": true
   },
   "source": [
    "## Quantum computing and solving  the eigenvalue problem for the Lipkin model\n",
    "\n",
    "We turn now to a simpler variant of the Lipkin model without the $W$-term and a total spin of $J=1$ only as maximum value of the spin.\n",
    "This corresponds to a system with $N=2$ particles (fermions in our case).\n",
    "Our Hamiltonian is given by the quasispin operators (see below)"
   ]
  },
  {
   "cell_type": "markdown",
   "id": "9e857823",
   "metadata": {
    "editable": true
   },
   "source": [
    "$$\n",
    "\\hat{H} = \\epsilon\\hat{J}_z -\\frac{1}{2}V(\\hat{J}_+\\hat{J}_++\\hat{J}_-\\hat{J}_-).\n",
    "$$"
   ]
  },
  {
   "cell_type": "markdown",
   "id": "06cfb84f",
   "metadata": {
    "editable": true
   },
   "source": [
    "As discussed earlier\n",
    "the quasispin operators act like lowering and raising angular momentum\n",
    "operators.\n",
    "\n",
    "With these properties we can calculate the Hamiltonian\n",
    "matrix for the Lipkin model by computing the various matrix elements"
   ]
  },
  {
   "cell_type": "markdown",
   "id": "01656779",
   "metadata": {
    "editable": true
   },
   "source": [
    "<!-- Equation labels as ordinary links -->\n",
    "<div id=\"_auto18\"></div>\n",
    "\n",
    "$$\n",
    "\\begin{equation}\n",
    "\\langle JJ_z|H|JJ_z'\\rangle,\n",
    "\\label{_auto18} \\tag{45}\n",
    "\\end{equation}\n",
    "$$"
   ]
  },
  {
   "cell_type": "markdown",
   "id": "09f8ce3b",
   "metadata": {
    "editable": true
   },
   "source": [
    "where the non-zero elements are given by"
   ]
  },
  {
   "cell_type": "markdown",
   "id": "052507cc",
   "metadata": {
    "editable": true
   },
   "source": [
    "$$\n",
    "\\begin{split}\n",
    "\\langle JJ_z|H|JJ_z'\\rangle & = \\epsilon J_z\\\\\n",
    "\\langle JJ_z|H|JJ_z'\\pm 2\\rangle & = \\langle JJ_z\\pm 2|H|JJ_z'\\rangle \\\\ &= -\\frac{1}{2}VC,\n",
    "\\end{split}\n",
    "$$"
   ]
  },
  {
   "cell_type": "markdown",
   "id": "fa97ea44",
   "metadata": {
    "editable": true
   },
   "source": [
    "where $C$ is the Clebsch-Gordan coefficients (from the raising and lowering operators) one gets when\n",
    "$J_{\\pm}^2$ operates on the state $|JJ_z\\rangle$.  Using the above\n",
    "definitions we can calculate the exact solution to the Lipkin model.\n",
    "\n",
    "With the $V$-interaction terms, we obtain the following Hamiltonian matrix"
   ]
  },
  {
   "cell_type": "markdown",
   "id": "4c3e69b7",
   "metadata": {
    "editable": true
   },
   "source": [
    "<!-- Equation labels as ordinary links -->\n",
    "<div id=\"_auto19\"></div>\n",
    "\n",
    "$$\n",
    "\\begin{equation}\n",
    "\\begin{pmatrix}-\\epsilon & 0 & -V\\\\\n",
    " 0&0&0\\\\\n",
    " -V&0&\\epsilon\n",
    "\\end{pmatrix}\n",
    "\\label{_auto19} \\tag{46}\n",
    "\\end{equation}\n",
    "$$"
   ]
  },
  {
   "cell_type": "markdown",
   "id": "84ed07b5",
   "metadata": {
    "editable": true
   },
   "source": [
    "The following **python** code sets up the above matrix and finds the pertinent eigenvalues."
   ]
  },
  {
   "cell_type": "code",
   "execution_count": 17,
   "id": "6ae9c87a",
   "metadata": {
    "collapsed": false,
    "editable": true
   },
   "outputs": [],
   "source": [
    "import numpy as np\n",
    "import qiskit\n",
    "from qiskit.visualization import circuit_drawer\n",
    "from qiskit.quantum_info import Statevector\n",
    "from matplotlib.pyplot import figure\n",
    "from qiskit import QuantumRegister, QuantumCircuit, ClassicalRegister, Aer, assemble\n",
    "from qiskit.providers.aer.noise import NoiseModel\n",
    "import pylatexenc\n",
    "from qiskit.algorithms import VQE\n",
    "from qiskit.utils import QuantumInstance\n",
    "from qiskit.opflow import X, Z, I, Y\n",
    "from qiskit.circuit import Parameter\n",
    "from qiskit.algorithms.optimizers import ADAM\n",
    "from qiskit.opflow import AerPauliExpectation\n",
    "from qiskit import IBMQ\n",
    "import cmath\n",
    "import pandas as pd\n",
    "from scipy.sparse import diags\n",
    "import numpy.linalg as LA\n",
    "import matplotlib.pyplot as plt\n",
    "from IPython.display import Image\n",
    "import warnings\n",
    "warnings.filterwarnings('ignore')\n",
    "pi=np.pi"
   ]
  },
  {
   "cell_type": "code",
   "execution_count": 18,
   "id": "e0524ffb",
   "metadata": {
    "collapsed": false,
    "editable": true
   },
   "outputs": [],
   "source": [
    "#function that sorts eigenvalues with its eigenvectors in accending order\n",
    "def eigen(A):\n",
    "    eigenValues, eigenVectors = LA.eig(A)\n",
    "    idx = np.argsort(eigenValues)\n",
    "    eigenValues = eigenValues[idx]\n",
    "    eigenVectors = eigenVectors[:,idx]\n",
    "    return (eigenValues, eigenVectors) \n",
    "\n",
    "#one body expectation value\n",
    "def one_body(E,N):\n",
    "  k = N/2\n",
    "  m = np.arange(-k,k+1,1) # Since the collective space is Omega+1\n",
    "  return E*np.diag(m) #return a matrix where its diagonal elemens are epsilon*K_0\n",
    "\n",
    "#two body expectation value\n",
    "def two_body(V,N):\n",
    "  k = N/2\n",
    "  m = np.arange(-k,k+1,1)\n",
    "  left =np.zeros(len(m)-2,dtype=complex)\n",
    "  right = np.zeros(len(m)-2,dtype=complex)\n",
    "  diag = np.zeros(len(m),dtype=complex)\n",
    "  for i in range(len(left)):\n",
    "    CG = cmath.sqrt(k*(k+1)-(m[i]+2)*(m[i]+1))*cmath.sqrt(k*(k+1)-m[i]*(m[i]+1)) #calculate Clebsch-Gordan Coefficients \n",
    "    left[i] = CG\n",
    "    right[i] = CG\n",
    "  k = [left,diag,right]\n",
    "  offset = [-2,0,2]\n",
    "  return -0.5*V*diags(k,offset).toarray() #return a matrix where its off digonal elements are (1/2)V(K^2_+ + K^2_-)\n",
    "\n",
    "#full expectation value\n",
    "def quasi_spin(E,V,N):\n",
    "  ob = one_body(E,N)\n",
    "  tb = two_body(V,N)\n",
    "  H = ob+tb \n",
    "  e,v = eigen(H) # find the eigenvalues of the Hamiltonian\n",
    "  return e,H\n",
    "\n",
    "#converts chi to V\n",
    "def Vp(E,omega,chi):\n",
    "  return (chi*E)/(omega-1)"
   ]
  },
  {
   "cell_type": "code",
   "execution_count": 19,
   "id": "057d12c0",
   "metadata": {
    "collapsed": false,
    "editable": true
   },
   "outputs": [],
   "source": [
    "#parameters\n",
    "E = 1\n",
    "chi = np.arange(0,2.1,0.1)\n",
    "omega = 2\n",
    "\n",
    "EV0 = []\n",
    "EV1 = []\n",
    "EV2 = []\n",
    "Ham = []\n",
    "for i in chi:\n",
    "  v = Vp(E,omega,i)\n",
    "  EigenV,H = quasi_spin(E,v,omega) #return eigenvalues and Hamiltonian\n",
    "  Ham.append(H)\n",
    "  EV0.append(EigenV[0])\n",
    "  EV1.append(EigenV[1])\n",
    "  EV2.append(EigenV[2])"
   ]
  },
  {
   "cell_type": "code",
   "execution_count": 20,
   "id": "61817f63",
   "metadata": {
    "collapsed": false,
    "editable": true
   },
   "outputs": [],
   "source": [
    "matrix = pd.DataFrame(Ham[5].real)\n",
    "print('Hamiltonian matrix')\n",
    "matrix.head()"
   ]
  },
  {
   "cell_type": "code",
   "execution_count": 21,
   "id": "d3c3d55a",
   "metadata": {
    "collapsed": false,
    "editable": true
   },
   "outputs": [],
   "source": [
    "plt.plot(chi,EV0)\n",
    "plt.plot(chi,EV1)\n",
    "plt.plot(chi,EV2)\n",
    "plt.xlabel('$\\chi$')\n",
    "plt.ylabel('Energy')\n",
    "plt.title('$\\Omega=2$ exact Lipkin Model')"
   ]
  },
  {
   "cell_type": "markdown",
   "id": "aee94811",
   "metadata": {
    "editable": true
   },
   "source": [
    "## Quantum Circuit, rewriting the Lipkin model in terms of Pauli matrices\n",
    "\n",
    "To solve the Lipkin model on a quantum computer we have to solve\n",
    "Schrodinger's equation. To achieve this, we will use the Variational\n",
    "Quantum Eigensolver (VQE) discussed earlier.\n",
    "\n",
    "Before we proceed however, we need to rewrite the quasispin operators in terms of Pauli spin matrices/operators.\n",
    "\n",
    "We take the liberty here of reminding you of some of the derivations done previously.\n",
    "\n",
    "We defined the number operator as"
   ]
  },
  {
   "cell_type": "markdown",
   "id": "afb14d50",
   "metadata": {
    "editable": true
   },
   "source": [
    "$$\n",
    "N=\\sum_{n\\sigma}a^\\dagger_{n\\sigma}a_{n\\sigma},\n",
    "$$"
   ]
  },
  {
   "cell_type": "markdown",
   "id": "904c4a4d",
   "metadata": {
    "editable": true
   },
   "source": [
    "which commutes with the Lipkin Hamiltonian. This can be seen by\n",
    "examining the Lipkin model Hamiltonian and noticing that the one-body\n",
    "part simply counts particles while the two-body term moves particles\n",
    "in pairs. Thus, the Hamiltonian conserves particle number. To find\n",
    "more symmetries we rewrote the Lipkin Hamiltonian in terms of $SU(2)$ quasispin\n",
    "operators"
   ]
  },
  {
   "cell_type": "markdown",
   "id": "dd5e715c",
   "metadata": {
    "editable": true
   },
   "source": [
    "<!-- Equation labels as ordinary links -->\n",
    "<div id=\"_auto20\"></div>\n",
    "\n",
    "$$\n",
    "\\begin{equation}\n",
    "H = \\epsilon J_z + \\frac{1}{2}V(J^2_++J^2_-),\n",
    "\\label{_auto20} \\tag{47}\n",
    "\\end{equation}\n",
    "$$"
   ]
  },
  {
   "cell_type": "markdown",
   "id": "a690f039",
   "metadata": {
    "editable": true
   },
   "source": [
    "via the mappings"
   ]
  },
  {
   "cell_type": "markdown",
   "id": "1726bd0c",
   "metadata": {
    "editable": true
   },
   "source": [
    "$$\n",
    "J_z=\\sum_{n}j_z^{(n)},\n",
    "$$"
   ]
  },
  {
   "cell_type": "markdown",
   "id": "a315fefb",
   "metadata": {
    "editable": true
   },
   "source": [
    "and"
   ]
  },
  {
   "cell_type": "markdown",
   "id": "ff1231f2",
   "metadata": {
    "editable": true
   },
   "source": [
    "$$\n",
    "J_\\pm=\\sum_nj^{(n)}_{\\pm},\n",
    "$$"
   ]
  },
  {
   "cell_type": "markdown",
   "id": "374395b8",
   "metadata": {
    "editable": true
   },
   "source": [
    "where we have the onebody operators"
   ]
  },
  {
   "cell_type": "markdown",
   "id": "07a4b75d",
   "metadata": {
    "editable": true
   },
   "source": [
    "$$\n",
    "j_z^{(n)}=\\frac{1}{2}\\sum_{\\sigma}\\sigma a^\\dagger_{n\\sigma}a_{n\\sigma},\n",
    "$$"
   ]
  },
  {
   "cell_type": "markdown",
   "id": "c418f1fd",
   "metadata": {
    "editable": true
   },
   "source": [
    "and"
   ]
  },
  {
   "cell_type": "markdown",
   "id": "314a1fdc",
   "metadata": {
    "editable": true
   },
   "source": [
    "$$\n",
    "j^{(n)}_{\\pm}=a^\\dagger_{n\\pm}a_{n\\mp}.\n",
    "$$"
   ]
  },
  {
   "cell_type": "markdown",
   "id": "1f2f692c",
   "metadata": {
    "editable": true
   },
   "source": [
    "These operators obey the $SU(2)$ commutation relations"
   ]
  },
  {
   "cell_type": "markdown",
   "id": "a7d3aea5",
   "metadata": {
    "editable": true
   },
   "source": [
    "$$\n",
    "[J_+,J_-]=2J_z,\n",
    "$$"
   ]
  },
  {
   "cell_type": "markdown",
   "id": "a6ecc99a",
   "metadata": {
    "editable": true
   },
   "source": [
    "and"
   ]
  },
  {
   "cell_type": "markdown",
   "id": "b3bb0445",
   "metadata": {
    "editable": true
   },
   "source": [
    "$$\n",
    "[J_z,J_\\pm]=\\pm J_\\pm.\n",
    "$$"
   ]
  },
  {
   "cell_type": "markdown",
   "id": "b284b610",
   "metadata": {
    "editable": true
   },
   "source": [
    "Here the ladder operators are defined as $J_{\\pm}= J_x\\pm iJ_y$. With this rewriting, we can see that the total spin operator $J^2$, which is defined as"
   ]
  },
  {
   "cell_type": "markdown",
   "id": "8815c3fa",
   "metadata": {
    "editable": true
   },
   "source": [
    "$$\n",
    "J^2= J^2_x+J^2_y+J^2_z =\n",
    "\\frac{1}{2}\\{J_+,J_-\\}+J_z^2,\n",
    "$$"
   ]
  },
  {
   "cell_type": "markdown",
   "id": "05ac7329",
   "metadata": {
    "editable": true
   },
   "source": [
    "commutes with the Hamiltonian since the Hamiltonian.\n",
    "We note also that the rotation operator"
   ]
  },
  {
   "cell_type": "markdown",
   "id": "b3f43a4c",
   "metadata": {
    "editable": true
   },
   "source": [
    "$$\n",
    "R=e^{i\\phi J_z},\n",
    "$$"
   ]
  },
  {
   "cell_type": "markdown",
   "id": "b96aa485",
   "metadata": {
    "editable": true
   },
   "source": [
    "commutes with the Hamiltonian, which can be explained as follows. Writing $J_z$ as"
   ]
  },
  {
   "cell_type": "markdown",
   "id": "fd648fa6",
   "metadata": {
    "editable": true
   },
   "source": [
    "$$\n",
    "J_z=\\frac{1}{2}(N_+-N_-),\n",
    "$$"
   ]
  },
  {
   "cell_type": "markdown",
   "id": "42b527ad",
   "metadata": {
    "editable": true
   },
   "source": [
    "where $N_\\pm=\\sum_{n\\pm}a^\\dagger_{n\\pm}a_{n\\pm}$, allows us to see that it measures half the difference between the number of particles in the upper and lower levels. Thus, the possible eigenvalues $r$ of the signature operator are"
   ]
  },
  {
   "cell_type": "markdown",
   "id": "a701e8f5",
   "metadata": {
    "editable": true
   },
   "source": [
    "<!-- Equation labels as ordinary links -->\n",
    "<div id=\"_auto21\"></div>\n",
    "\n",
    "$$\n",
    "\\begin{equation}\n",
    "r=+1,  j_z=2n \n",
    "\\label{_auto21} \\tag{48}\n",
    "\\end{equation}\n",
    "$$"
   ]
  },
  {
   "cell_type": "markdown",
   "id": "fa887b11",
   "metadata": {
    "editable": true
   },
   "source": [
    "<!-- Equation labels as ordinary links -->\n",
    "<div id=\"_auto22\"></div>\n",
    "\n",
    "$$\n",
    "\\begin{equation} \n",
    "r=+i,  j_z=2n+\\frac{1}{2} \n",
    "\\label{_auto22} \\tag{49}\n",
    "\\end{equation}\n",
    "$$"
   ]
  },
  {
   "cell_type": "markdown",
   "id": "546be602",
   "metadata": {
    "editable": true
   },
   "source": [
    "<!-- Equation labels as ordinary links -->\n",
    "<div id=\"_auto23\"></div>\n",
    "\n",
    "$$\n",
    "\\begin{equation} \n",
    "r=-1,  j_z=2n+1 \n",
    "\\label{_auto23} \\tag{50}\n",
    "\\end{equation}\n",
    "$$"
   ]
  },
  {
   "cell_type": "markdown",
   "id": "b75e7318",
   "metadata": {
    "editable": true
   },
   "source": [
    "<!-- Equation labels as ordinary links -->\n",
    "<div id=\"_auto24\"></div>\n",
    "\n",
    "$$\n",
    "\\begin{equation} \n",
    "r=-i,  j_z=2n+\\frac{3}{2} \n",
    "\\label{_auto24} \\tag{51}\n",
    "\\end{equation}\n",
    "$$"
   ]
  },
  {
   "cell_type": "markdown",
   "id": "f9615b69",
   "metadata": {
    "editable": true
   },
   "source": [
    "<!-- Equation labels as ordinary links -->\n",
    "<div id=\"_auto25\"></div>\n",
    "\n",
    "$$\n",
    "\\begin{equation} \n",
    "\\label{_auto25} \\tag{52}\n",
    "\\end{equation}\n",
    "$$"
   ]
  },
  {
   "cell_type": "markdown",
   "id": "3052d46e",
   "metadata": {
    "editable": true
   },
   "source": [
    "for $n\\in\\mathbb{Z}$. Note that $r$ is real or imaginary if the number\n",
    "of particles $N$ is even or odd, respectively. Since, as discussed\n",
    "above, the Lipkin Hamiltonian conserves $N$, $r$ cannot jump between\n",
    "being real and imaginary. Additionally, because particles must be\n",
    "moved in pairs, and $J_z$ measures half the difference between\n",
    "particles in the upper and lower levels, $j_z$ can only change by as"
   ]
  },
  {
   "cell_type": "markdown",
   "id": "72d58189",
   "metadata": {
    "editable": true
   },
   "source": [
    "$$\n",
    "j_z\\rightarrow \\frac{1}{2}[(N_+\\pm 2n)-(N_-\\mp 2n)]\n",
    "$$"
   ]
  },
  {
   "cell_type": "markdown",
   "id": "78a24635",
   "metadata": {
    "editable": true
   },
   "source": [
    "or $j_z\\rightarrow J_z\\pm2n$.\n",
    "\n",
    "To solve the Lipkin model with a quantum computer, the first step is\n",
    "to map the system to a set of qubits. We will restrict ourselves here\n",
    "to the half-filled case where the number of particles $N$ equals the\n",
    "degeneracy of the states $\\Omega$. One could assign each possible\n",
    "state $(n,\\sigma)$ a qubit such that the qubit being in the state\n",
    "$\\vert 1\\rangle$ or $\\vert 0\\rangle$ would imply that the state\n",
    "$(n,\\sigma)$ is occupied or unoccupied, respectively. This mapping\n",
    "scheme (which we will call occupation mapping) requires 2$\\Omega$\n",
    "qubits.\n",
    "\n",
    "However, because there are only two energy levels in the Lipkin model,\n",
    "any other natural mapping is possible. In this mapping scheme (which\n",
    "we will call level mapping) each doublet ($(n,+1)$, $(n,-1)$) would be\n",
    "assigned a qubit such that the qubit being in the state $\\vert 0\\rangle$ or\n",
    "$\\vert 1\\rangle$ would imply that the particle is in the $(n,+1)$ or $(n,-1)$\n",
    "state, respectively. Note that these are the only two possible\n",
    "configurations of the doublet as we are restricting ourselves to the\n",
    "half-filled case and the Lipkin Hamiltonian only moves particles\n",
    "between energy levels, not degenerate states. Thus the level mapping\n",
    "only requires $\\Omega$ qubits which is half that of the occupation\n",
    "mapping. Additionally, any ansatz that would restrict the minimization\n",
    "search to the correct subspace of constant Hamming weight $N$ requires\n",
    "at most, only two qubit gates. This is because moving a pair of\n",
    "particles in this scheme only changes the state of two doublets (and\n",
    "therefore qubits). That is, it only takes a two-qubit gate to change\n",
    "between the states $\\vert 00\\rangle$ and $\\vert 11\\rangle$, for example. As an\n",
    "efficient decomposition two-qubit gates is known, the ansatz for this\n",
    "mapping would be shorter (and thus less noisy) than that of the\n",
    "previous mapping.\n",
    "\n",
    "One could imagine a third mapping scheme which would require even less\n",
    "qubits in which each of the possible states in the spin basis\n",
    "$\\vert JJ_z\\rangle$ is mapped to a single qubit. In this spin mapping, there\n",
    "are only $2J+1$ possible states (since $J_z=-J,-J+1,...,J-1,J$) for\n",
    "each value of $J$. And, since the Hamiltonian is block diagonal (with\n",
    "a different block for each $J$) the eigenvalues of the Hamiltonian are\n",
    "simply the eigenvalues of each block, which may be calculated\n",
    "separately. Since the maximum value of $J$ is $J_{\\text{max}}=N/2$,\n",
    "the largest number of qubits would be\n",
    "$2J_{\\text{max}}+1=N+1$. However, $\\left\\lfloor N/2 \\right\\rfloor$\n",
    "different circuit would need to be used for minimization for all\n",
    "possible values of $J$, to explore the entire Hilbert space. (The\n",
    "minimum of the set of minimum energies that each circuit finds would\n",
    "be the ground state energy of the entire system.) This increases,\n",
    "linearly, the amount of time required to find the ground state energy.\n",
    "\n",
    "After reviewing the three possible mappings, it is our view that the\n",
    "level mapping is the best suited for NISQ era\n",
    "devices given its low qubit count and ability to search the entire\n",
    "relevant Hilbert space with one circuit (which reduces time to\n",
    "solution) and the fact that at most, only two-qubit gates are required\n",
    "of the ansatz, leading to shorter depth (and thus less noisy)\n",
    "circuits.\n",
    "\n",
    "The Hamiltonian takes the form"
   ]
  },
  {
   "cell_type": "markdown",
   "id": "cc174a8e",
   "metadata": {
    "editable": true
   },
   "source": [
    "<!-- Equation labels as ordinary links -->\n",
    "<div id=\"_auto26\"></div>\n",
    "\n",
    "$$\n",
    "\\begin{equation}\n",
    "H=\\epsilon J_z + \\frac{1}{2}V(J^2_++J^2_-).\n",
    "\\label{_auto26} \\tag{53}\n",
    "\\end{equation}\n",
    "$$"
   ]
  },
  {
   "cell_type": "markdown",
   "id": "bb0dde15",
   "metadata": {
    "editable": true
   },
   "source": [
    "Plugging the mapping from the total $J$ operators to the individual one-body $j$ operators yields"
   ]
  },
  {
   "cell_type": "markdown",
   "id": "617eca81",
   "metadata": {
    "editable": true
   },
   "source": [
    "<!-- Equation labels as ordinary links -->\n",
    "<div id=\"_auto27\"></div>\n",
    "\n",
    "$$\n",
    "\\begin{equation}\n",
    "H = \\epsilon\\sum_{n}j_z^{(n)} + \\frac{1}{2}V\\left[\\left(\\sum_nj^{(n)}_{+}\\right)^2+\\left(\\sum_nj^{(n)}_{-}\\right)^2\\right]\n",
    "\\label{_auto27} \\tag{54}\n",
    "\\end{equation}\n",
    "$$"
   ]
  },
  {
   "cell_type": "markdown",
   "id": "2d23b57e",
   "metadata": {
    "editable": true
   },
   "source": [
    "<!-- Equation labels as ordinary links -->\n",
    "<div id=\"_auto28\"></div>\n",
    "\n",
    "$$\n",
    "\\begin{equation} \n",
    "= \\epsilon\\sum_{n}j_z^{(n)} + \\frac{1}{2}V\\sum_{n,m}\\left(j^{(n)}_+j^{(m)}_++j^{(n)}_-j^{(m)}_-\\right)\n",
    "\\label{_auto28} \\tag{55}\n",
    "\\end{equation}\n",
    "$$"
   ]
  },
  {
   "cell_type": "markdown",
   "id": "97c3c59f",
   "metadata": {
    "editable": true
   },
   "source": [
    "<!-- Equation labels as ordinary links -->\n",
    "<div id=\"_auto29\"></div>\n",
    "\n",
    "$$\n",
    "\\begin{equation} \n",
    "= \\epsilon\\sum_{n}j_z^{(n)} + 2V\\sum_{n<m}\\left(j^{(n)}_xj^{(m)}_x-j^{(n)}_yj^{(m)}_y\\right),\n",
    "\\label{_auto29} \\tag{56}\n",
    "\\end{equation}\n",
    "$$"
   ]
  },
  {
   "cell_type": "markdown",
   "id": "1d0e6c35",
   "metadata": {
    "editable": true
   },
   "source": [
    "where we have used the definitions"
   ]
  },
  {
   "cell_type": "markdown",
   "id": "46629778",
   "metadata": {
    "editable": true
   },
   "source": [
    "$$\n",
    "j_{\\pm}^{(n)}=j_x^{(n)}\\pm ij_y^{(n)}.\n",
    "$$"
   ]
  },
  {
   "cell_type": "markdown",
   "id": "ad3cb0a6",
   "metadata": {
    "editable": true
   },
   "source": [
    "To convert to Pauli matrices, we make the transformations"
   ]
  },
  {
   "cell_type": "markdown",
   "id": "1f48d54e",
   "metadata": {
    "editable": true
   },
   "source": [
    "$$\n",
    "j_x^{(n)} \\rightarrow X_n/2,\n",
    "$$"
   ]
  },
  {
   "cell_type": "markdown",
   "id": "e247157c",
   "metadata": {
    "editable": true
   },
   "source": [
    "and"
   ]
  },
  {
   "cell_type": "markdown",
   "id": "5d5ae8d9",
   "metadata": {
    "editable": true
   },
   "source": [
    "$$\n",
    "j_y^{(n)} \\rightarrow Y_n/2,\n",
    "$$"
   ]
  },
  {
   "cell_type": "markdown",
   "id": "e30bcef8",
   "metadata": {
    "editable": true
   },
   "source": [
    "and finally"
   ]
  },
  {
   "cell_type": "markdown",
   "id": "fa300c04",
   "metadata": {
    "editable": true
   },
   "source": [
    "$$\n",
    "j_z^{(n)} \\rightarrow Z_n/2,\n",
    "$$"
   ]
  },
  {
   "cell_type": "markdown",
   "id": "621759d5",
   "metadata": {
    "editable": true
   },
   "source": [
    "which preserve the above $SU(2)$  commutation relations.\n",
    "The factor of $1/2$\n",
    "is due to the eigenvalues of the Pauli matrices being $\\pm 1$\n",
    "while we are dealing with spin $1/2$ particles.\n",
    "\n",
    "This transforms our Hamiltonian into"
   ]
  },
  {
   "cell_type": "markdown",
   "id": "7d971acd",
   "metadata": {
    "editable": true
   },
   "source": [
    "$$\n",
    "H=\\frac{1}{2}\\epsilon\\sum_{k=1}^nZ_k+\\frac{1}{2}V\\sum_{n\\neq j=1}^N(X_kX_j-Y_kY_j).\n",
    "$$"
   ]
  },
  {
   "cell_type": "markdown",
   "id": "a6f81569",
   "metadata": {
    "editable": true
   },
   "source": [
    "With this form, we can clearly see that the first (one-body) term in\n",
    "the Hamiltonian returns the energy $-\\epsilon/2$ or $+\\epsilon/2$ if\n",
    "the qubit representing the particle of a doublet is in the ground\n",
    "($\\vert 1\\rangle$) or excited ($\\vert 0\\rangle$) state,\n",
    "respectively. The action of the second (two-body) term in the\n",
    "Hamiltonian can be determined by noting that"
   ]
  },
  {
   "cell_type": "markdown",
   "id": "68274730",
   "metadata": {
    "editable": true
   },
   "source": [
    "<!-- Equation labels as ordinary links -->\n",
    "<div id=\"_auto30\"></div>\n",
    "\n",
    "$$\n",
    "\\begin{equation}\n",
    "\\frac{1}{2}(XX-YY)\\vert 00\\rangle = \\vert 11\\rangle,\n",
    "\\label{_auto30} \\tag{57}\n",
    "\\end{equation}\n",
    "$$"
   ]
  },
  {
   "cell_type": "markdown",
   "id": "b34237f8",
   "metadata": {
    "editable": true
   },
   "source": [
    "<!-- Equation labels as ordinary links -->\n",
    "<div id=\"_auto31\"></div>\n",
    "\n",
    "$$\n",
    "\\begin{equation} \n",
    "\\frac{1}{2}(XX-YY)\\vert 01\\rangle = 0,\n",
    "\\label{_auto31} \\tag{58}\n",
    "\\end{equation}\n",
    "$$"
   ]
  },
  {
   "cell_type": "markdown",
   "id": "917c50b9",
   "metadata": {
    "editable": true
   },
   "source": [
    "<!-- Equation labels as ordinary links -->\n",
    "<div id=\"_auto32\"></div>\n",
    "\n",
    "$$\n",
    "\\begin{equation} \n",
    "\\frac{1}{2}(XX-YY)\\vert 10\\rangle = 0,\n",
    "\\label{_auto32} \\tag{59}\n",
    "\\end{equation}\n",
    "$$"
   ]
  },
  {
   "cell_type": "markdown",
   "id": "0eca8468",
   "metadata": {
    "editable": true
   },
   "source": [
    "<!-- Equation labels as ordinary links -->\n",
    "<div id=\"_auto33\"></div>\n",
    "\n",
    "$$\n",
    "\\begin{equation} \n",
    "\\frac{1}{2}(XX-YY)\\vert 11\\rangle = \\vert 00\\rangle.\n",
    "\\label{_auto33} \\tag{60}\n",
    "\\end{equation}\n",
    "$$"
   ]
  },
  {
   "cell_type": "markdown",
   "id": "33480e92",
   "metadata": {
    "editable": true
   },
   "source": [
    "That is, the two-body term moves a pair of particles between the\n",
    "ground states $\\vert 00\\rangle$ and the excited states $\\vert\n",
    "11\\rangle$ of their respective doublets.\n",
    "\n",
    "To construct an efficient ansatz, we must determine the subspace\n",
    "within which the Hamiltonian lives. To begin, note that particles are\n",
    "only ever moved between energy levels in pairs.\n",
    "Further,\n",
    "note that the Hamiltonian's coefficients ($\\epsilon$ and $V$) are\n",
    "state independent (do not depend on the indices $n$ or $m$) as the\n",
    "states labeled by these indices are degenerate and thus have the same\n",
    "energy level. Thus, the Hamiltonian treats all states with the same\n",
    "number of excited particles (Hamming weight of the state) as the\n",
    "same. Therefore, the following ansatz forms exactly cover the subspace\n",
    "within which the $N$-degenerate Hamiltonian explores:"
   ]
  },
  {
   "cell_type": "markdown",
   "id": "9e4ffb80",
   "metadata": {
    "editable": true
   },
   "source": [
    "<!-- Equation labels as ordinary links -->\n",
    "<div id=\"_auto34\"></div>\n",
    "\n",
    "$$\n",
    "\\begin{equation}\n",
    "\\vert \\psi_{\\text{even}}\\rangle=\\sum_{k=0}^{\\lfloor n/2 \\rfloor}c_{2k}\\vert D^n_{2k}\\rangle,\n",
    "\\label{_auto34} \\tag{61}\n",
    "\\end{equation}\n",
    "$$"
   ]
  },
  {
   "cell_type": "markdown",
   "id": "e1d7a7f9",
   "metadata": {
    "editable": true
   },
   "source": [
    "<!-- Equation labels as ordinary links -->\n",
    "<div id=\"_auto35\"></div>\n",
    "\n",
    "$$\n",
    "\\begin{equation} \n",
    "\\vert \\psi_{\\text{odd}}\\rangle=\\sum_{k=0}^{\\lfloor n/2 \\rfloor}c_{2k+1}\\vert D^n_{2k+1}\\rangle.\n",
    "\\label{_auto35} \\tag{62}\n",
    "\\end{equation}\n",
    "$$"
   ]
  },
  {
   "cell_type": "markdown",
   "id": "376a64fd",
   "metadata": {
    "editable": true
   },
   "source": [
    "Here $\\vert D^n_k\\rangle$ represents a Dicke state which is defined as equal superposition of all $n$-qubit states with Hamming weight $k$. That is"
   ]
  },
  {
   "cell_type": "markdown",
   "id": "fecc07c8",
   "metadata": {
    "editable": true
   },
   "source": [
    "<!-- Equation labels as ordinary links -->\n",
    "<div id=\"_auto36\"></div>\n",
    "\n",
    "$$\n",
    "\\begin{equation}\n",
    "\\vert D^n_k\\rangle= \\frac{1}{\\sqrt{{n \\choose k}}}\\sum_{x\\in h^n_k}\\vert x\\rangle,\n",
    "\\label{_auto36} \\tag{63}\n",
    "\\end{equation}\n",
    "$$"
   ]
  },
  {
   "cell_type": "markdown",
   "id": "7e834591",
   "metadata": {
    "editable": true
   },
   "source": [
    "where $h^n_k= \\{\\vert x\\rangle \\ | \\ \\text{l}(x) = n, \\ \\text{wt}(x) = k\\}$. There are two ways we can think of to prepare such ansatz: The first is to prepare them exactly as it is known how to deterministically prepare Dicke states with linear depth. The reference provides an algorithm for preparing a set of gates $U^n_k$ that prepares a Dicke state from a product state of Hamming weight $k$; that is"
   ]
  },
  {
   "cell_type": "markdown",
   "id": "815ba026",
   "metadata": {
    "editable": true
   },
   "source": [
    "<!-- Equation labels as ordinary links -->\n",
    "<div id=\"_auto37\"></div>\n",
    "\n",
    "$$\n",
    "\\begin{equation}\n",
    "U^n_k\\vert 1\\rangle^{\\otimes k}\\vert 0\\rangle^{\\otimes n-k}=\\vert D^n_k\\rangle.\n",
    "\\label{_auto37} \\tag{64}\n",
    "\\end{equation}\n",
    "$$"
   ]
  },
  {
   "cell_type": "markdown",
   "id": "d59c84bc",
   "metadata": {
    "editable": true
   },
   "source": [
    "It then describes how to one can create an arbitrary superposition of Dicke states, which we modify here to restrict ourselves to a Hamming weight of constant parity. The circuit to construct such a state (for the $k=6$ case, as an example) is discussed next week."
   ]
  }
 ],
 "metadata": {
  "language_info": {
   "codemirror_mode": {
    "name": "ipython",
    "version": 3
   },
   "file_extension": ".py",
   "mimetype": "text/x-python",
   "name": "python",
   "nbconvert_exporter": "python",
   "pygments_lexer": "ipython3",
   "version": "3.9.18"
  }
 },
 "nbformat": 4,
 "nbformat_minor": 5
}