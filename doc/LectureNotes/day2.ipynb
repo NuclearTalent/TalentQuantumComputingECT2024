{
 "cells": [
  {
   "cell_type": "markdown",
   "id": "4effdcc4",
   "metadata": {
    "editable": true
   },
   "source": [
    "<!-- HTML file automatically generated from DocOnce source (https://github.com/doconce/doconce/)\n",
    "doconce format html day2.do.txt  -->\n",
    "<!-- dom:TITLE: Quantum Fourier Transforms and the Quantum Phase Estimation algorithm -->"
   ]
  },
  {
   "cell_type": "markdown",
   "id": "248bca7f",
   "metadata": {
    "editable": true
   },
   "source": [
    "# Quantum Fourier Transforms and the Quantum Phase Estimation algorithm\n",
    "**Nuclear Talent course**\n",
    "\n",
    "Date: **May 22, 2024**"
   ]
  },
  {
   "cell_type": "markdown",
   "id": "8786ee95",
   "metadata": {
    "editable": true
   },
   "source": [
    "## Overarching motivation\n",
    "\n",
    "We will start with discrete Fourier transforms (DFT).  There are many\n",
    "motivations for the DFT. For those of you familiar with signal\n",
    "processing, harmonic oscillations, and many other areas of\n",
    "applications, Fourier transforms are almost standard kitchen\n",
    "items. For those of you who have studied quantum theory, you have\n",
    "probably met Fourier transforms when studying Heisenberg's uncertainty\n",
    "relation between momentum and position."
   ]
  },
  {
   "cell_type": "markdown",
   "id": "a1dd3833",
   "metadata": {
    "editable": true
   },
   "source": [
    "## A familiar case\n",
    "\n",
    "For problems with so-called harmonic oscillations, given by for example the following differential equation"
   ]
  },
  {
   "cell_type": "markdown",
   "id": "c255d1e5",
   "metadata": {
    "editable": true
   },
   "source": [
    "$$\n",
    "m\\frac{d^2x}{dt^2}+\\eta\\frac{dx}{dt}+x(t)=f(t),\n",
    "$$"
   ]
  },
  {
   "cell_type": "markdown",
   "id": "bbad7fdf",
   "metadata": {
    "editable": true
   },
   "source": [
    "where $f(t)$ is an applied external force acting on the system (often\n",
    "called a driving force), one can use the theory of Fourier\n",
    "transformations to find the solutions of this type of equations."
   ]
  },
  {
   "cell_type": "markdown",
   "id": "7dbabd1e",
   "metadata": {
    "editable": true
   },
   "source": [
    "## Several driving forces\n",
    "\n",
    "If one has several driving forces, $f(t)=\\sum_n f_n(t)$, one can find\n",
    "the particular solution $x_{pn}(t)$ to the above differential equation for each $f_n$. The particular\n",
    "solution for the entire driving force is then given by a series like"
   ]
  },
  {
   "cell_type": "markdown",
   "id": "f2966b81",
   "metadata": {
    "editable": true
   },
   "source": [
    "$$\n",
    "x_p(t)=\\sum_nx_{pn}(t).\n",
    "$$"
   ]
  },
  {
   "cell_type": "markdown",
   "id": "5dcabffe",
   "metadata": {
    "editable": true
   },
   "source": [
    "This is known as the principle of superposition. It only applies when\n",
    "the homogenous equation is linear. \n",
    "Superposition is especially useful when $f(t)$ can be written\n",
    "as a sum of sinusoidal terms, because the solutions for each\n",
    "sinusoidal (sine or cosine)  term is analytic."
   ]
  },
  {
   "cell_type": "markdown",
   "id": "d959de75",
   "metadata": {
    "editable": true
   },
   "source": [
    "## Periodicity\n",
    "\n",
    "Driving forces are often periodic, even when they are not\n",
    "sinusoidal. Periodicity implies that for some time $t$ our function repeats itself periodically after a period $T$, that is"
   ]
  },
  {
   "cell_type": "markdown",
   "id": "48a955ef",
   "metadata": {
    "editable": true
   },
   "source": [
    "$$\n",
    "f(t+\\tau)=f(t).\n",
    "$$"
   ]
  },
  {
   "cell_type": "markdown",
   "id": "db284159",
   "metadata": {
    "editable": true
   },
   "source": [
    "One example of a non-sinusoidal periodic force is a square wave. Many\n",
    "components in electric circuits are non-linear, for example diodes. This \n",
    "makes many wave forms non-sinusoidal even when the circuits are being\n",
    "driven by purely sinusoidal sources."
   ]
  },
  {
   "cell_type": "markdown",
   "id": "e4dfb360",
   "metadata": {
    "editable": true
   },
   "source": [
    "## Simple Code Example\n",
    "\n",
    "The code here shows a typical example of such a square wave generated\n",
    "using the functionality included in the **scipy** Python package. We\n",
    "have used a period of $\\tau=0.2$."
   ]
  },
  {
   "cell_type": "code",
   "execution_count": 1,
   "id": "53c097ee",
   "metadata": {
    "collapsed": false,
    "editable": true
   },
   "outputs": [],
   "source": [
    "%matplotlib inline\n",
    "\n",
    "import numpy as np\n",
    "import math\n",
    "from scipy import signal\n",
    "import matplotlib.pyplot as plt\n",
    "\n",
    "# number of points                                                                                       \n",
    "n = 500\n",
    "# start and final times                                                                                  \n",
    "t0 = 0.0\n",
    "tn = 1.0\n",
    "# Period                                                                                                 \n",
    "t = np.linspace(t0, tn, n, endpoint=False)\n",
    "SqrSignal = np.zeros(n)\n",
    "SqrSignal = 1.0+signal.square(2*np.pi*5*t)\n",
    "plt.plot(t, SqrSignal)\n",
    "plt.ylim(-0.5, 2.5)\n",
    "plt.show()"
   ]
  },
  {
   "cell_type": "markdown",
   "id": "2a8169cf",
   "metadata": {
    "editable": true
   },
   "source": [
    "## Continuous Fourier transforms and the principle of Superposition\n",
    "\n",
    "It was Fourier's idea to expand a continuous and periodic function $f(t)$ in terms of sums sinus and cosinus ordered functions (we will use exponentials however)\n",
    "as"
   ]
  },
  {
   "cell_type": "markdown",
   "id": "4e7b7c10",
   "metadata": {
    "editable": true
   },
   "source": [
    "$$\n",
    "f(t) = \\sum_{k=1}^{n}a_k\\sin{(2\\pi kt+\\phi_n)},\n",
    "$$"
   ]
  },
  {
   "cell_type": "markdown",
   "id": "f7609ded",
   "metadata": {
    "editable": true
   },
   "source": [
    "with $\\phi_n$ being a constant phase. The function $f$ is assumed to be bounded in order to be able to define properly the error in truncating the sum\n",
    "over $n$, that is"
   ]
  },
  {
   "cell_type": "markdown",
   "id": "b9dc7347",
   "metadata": {
    "editable": true
   },
   "source": [
    "$$\n",
    "\\int_a^b dt \\vert f(t)\\vert^2 \\le M < \\infty.\n",
    "$$"
   ]
  },
  {
   "cell_type": "markdown",
   "id": "e06db833",
   "metadata": {
    "editable": true
   },
   "source": [
    "Below we discuss how to find the coefficients $a_n$."
   ]
  },
  {
   "cell_type": "markdown",
   "id": "b4ca510a",
   "metadata": {
    "editable": true
   },
   "source": [
    "## Rewriting in terms of sines and cosines\n",
    "\n",
    "It is common to rewrite the above sum in terms of sines and cosines and to add a complex constant $a_0$. This gives us"
   ]
  },
  {
   "cell_type": "markdown",
   "id": "1a6edcce",
   "metadata": {
    "editable": true
   },
   "source": [
    "$$\n",
    "f(t) = \\frac{a_0}{2}+ \\sum_{k=1}^{n}\\left(a_k\\cos{(2\\pi kt)}+b_n\\sin{(2\\pi kt)}\\right).\n",
    "$$"
   ]
  },
  {
   "cell_type": "markdown",
   "id": "eabd433d",
   "metadata": {
    "editable": true
   },
   "source": [
    "Using the standard trigonometric relations"
   ]
  },
  {
   "cell_type": "markdown",
   "id": "362e2af4",
   "metadata": {
    "editable": true
   },
   "source": [
    "$$\n",
    "\\begin{align*}\n",
    "\\cos{t} = \\frac{\\exp{\\imath t}+\\exp{-\\imath t}}{2} & \\hspace{0.5cm} \\sin{t} = \\frac{\\exp{\\imath t}-\\exp{-\\imath t}}{2\\imath}.\n",
    "\\end{align*}\n",
    "$$"
   ]
  },
  {
   "cell_type": "markdown",
   "id": "81ea6463",
   "metadata": {
    "editable": true
   },
   "source": [
    "## Exponential expression\n",
    "\n",
    "We can rewrite the Fourier expansion as"
   ]
  },
  {
   "cell_type": "markdown",
   "id": "ba1f8101",
   "metadata": {
    "editable": true
   },
   "source": [
    "$$\n",
    "f(t) =\\sum_{k=-n}^{n}c_{k}\\exp{(2\\pi\\imath kt)},\n",
    "$$"
   ]
  },
  {
   "cell_type": "markdown",
   "id": "e31c1f92",
   "metadata": {
    "editable": true
   },
   "source": [
    "with $c_0=a_0/2$. The coefficients $c_k$ are complex and satisfy $c_{-k}=c_k^*$.\n",
    "The constant $c_{0}=c_0^*$ is a real number.\n",
    "\n",
    "The above sum can also be rewritten in terms of the real part of the exponetials as"
   ]
  },
  {
   "cell_type": "markdown",
   "id": "fd10badf",
   "metadata": {
    "editable": true
   },
   "source": [
    "$$\n",
    "f(t) =2\\mathrm{Re}\\left(\\sum_{k=0}^{n}c_{k}\\exp{(2\\pi\\imath kt} \\right),\n",
    "$$"
   ]
  },
  {
   "cell_type": "markdown",
   "id": "1f2934b1",
   "metadata": {
    "editable": true
   },
   "source": [
    "where we used that $c_{-k}=c_k^*$. We leave it as an exercise to the reader to show the latter expression.\n",
    "\n",
    "How do we determine the coefficients $c_k$?"
   ]
  },
  {
   "cell_type": "markdown",
   "id": "17480500",
   "metadata": {
    "editable": true
   },
   "source": [
    "## Determining $c_k$\n",
    "\n",
    "Let us assume that we have a periodic function $f(t)$"
   ]
  },
  {
   "cell_type": "markdown",
   "id": "b2739f64",
   "metadata": {
    "editable": true
   },
   "source": [
    "$$\n",
    "f(t) =\\sum_{k=-n}^{n}c_{k}\\exp{(2\\pi\\imath kt)},\n",
    "$$"
   ]
  },
  {
   "cell_type": "markdown",
   "id": "d9c3a114",
   "metadata": {
    "editable": true
   },
   "source": [
    "and we select the coefficient $c_l$, and multiply the l.h.s and r.h.s. with $\\exp{(-2\\pi\\imath lt)}$, and isolate the $c_l$ terms"
   ]
  },
  {
   "cell_type": "markdown",
   "id": "0c91c075",
   "metadata": {
    "editable": true
   },
   "source": [
    "$$\n",
    "c_l=f(t)\\exp{(-2\\pi\\imath lt)}-\\sum_{k=-n, k\\ne l}^{n}c_{k}\\exp{(2\\pi\\imath (k-l)t)}.\n",
    "$$"
   ]
  },
  {
   "cell_type": "markdown",
   "id": "24ff1c1f",
   "metadata": {
    "editable": true
   },
   "source": [
    "## Integrating both sides\n",
    "\n",
    "Then we integrate both sides (note we have assumed a period of one) from $0$ to $1$. This gives"
   ]
  },
  {
   "cell_type": "markdown",
   "id": "87dec857",
   "metadata": {
    "editable": true
   },
   "source": [
    "$$\n",
    "c_l=\\int_0^1 dtf(t)\\exp{(-2\\pi\\imath lt)},\n",
    "$$"
   ]
  },
  {
   "cell_type": "markdown",
   "id": "b926a668",
   "metadata": {
    "editable": true
   },
   "source": [
    "since the terms with the sum is zero.  We leave again this derivation as an exercise to the dedicated reader.\n",
    "If the function $f$ is real ($t$ nd $dt$ are real), then $c_l^*=c_{-l}$.\n",
    "The coefficients $c_n$ are normally called the Fourier coefficients and it is common to relabel them in terms of the function $f$ as"
   ]
  },
  {
   "cell_type": "markdown",
   "id": "972b60dd",
   "metadata": {
    "editable": true
   },
   "source": [
    "$$\n",
    "\\hat{f}(k)=\\int_0^1 dt f(t)\\exp{(-2\\pi\\imath kt)}.\n",
    "$$"
   ]
  },
  {
   "cell_type": "markdown",
   "id": "1c4bf44d",
   "metadata": {
    "editable": true
   },
   "source": [
    "## Independence of interval length\n",
    "\n",
    "In the discussions and equations above, we have assumed that the\n",
    "integration interval has a length of one, that is a period of length one. It is easy to change this\n",
    "length and as we show below, if we integrate from say $a$ to $a+1$, this is the same as integrating over an interval of length $1$.\n",
    "\n",
    "To show this, we need also to recall that our function $f(t)$ is assumed to be periodic, that is we need to satisfy"
   ]
  },
  {
   "cell_type": "markdown",
   "id": "4023dcd1",
   "metadata": {
    "editable": true
   },
   "source": [
    "$$\n",
    "f(a+1)=f(a).\n",
    "$$"
   ]
  },
  {
   "cell_type": "markdown",
   "id": "1da3406c",
   "metadata": {
    "editable": true
   },
   "source": [
    "Later we will generalize this to a period of arbitrary length.\n",
    "\n",
    "Assume that $a$ is any number and taking the derivative of the integral with respect to $a$, we have"
   ]
  },
  {
   "cell_type": "markdown",
   "id": "ca956854",
   "metadata": {
    "editable": true
   },
   "source": [
    "$$\n",
    "\\frac{d}{da}\\left[\\int_a^{a+1} dt f(t)\\exp{(-2\\pi\\imath kt)}\\right].\n",
    "$$"
   ]
  },
  {
   "cell_type": "markdown",
   "id": "af51d92f",
   "metadata": {
    "editable": true
   },
   "source": [
    "## Writing out the various terms\n",
    "\n",
    "From the last equation we have then"
   ]
  },
  {
   "cell_type": "markdown",
   "id": "ae99c235",
   "metadata": {
    "editable": true
   },
   "source": [
    "$$\n",
    "\\exp{(-2\\pi\\imath ka)}\\exp{(-2\\pi\\imath k)}f(a+1)-\\exp{(-2\\pi\\imath ka)}f(a)=0,\n",
    "$$"
   ]
  },
  {
   "cell_type": "markdown",
   "id": "81733713",
   "metadata": {
    "editable": true
   },
   "source": [
    "where we used the periodicity  $f(a+1)=f(a)$ and that $\\exp{(-2\\pi\\imath k)}=1$ since $k$ is an integer.\n",
    "This shows that the expression for $\\hat{f}$ is independent of $a$. A common instance is"
   ]
  },
  {
   "cell_type": "markdown",
   "id": "f92d3317",
   "metadata": {
    "editable": true
   },
   "source": [
    "$$\n",
    "\\hat{f}(k)=\\int_{-\\frac{1}{2}}^{\\frac{1}{2}} dt f(t)\\exp{(-2\\pi\\imath kt)}.\n",
    "$$"
   ]
  },
  {
   "cell_type": "markdown",
   "id": "eeb895bc",
   "metadata": {
    "editable": true
   },
   "source": [
    "## Changing period\n",
    "\n",
    "What if the period is not equal to one? Assume we are working with a\n",
    "function $f(t)$ whose period is $T$. We can then define a function\n",
    "$g(t)$ with period one as"
   ]
  },
  {
   "cell_type": "markdown",
   "id": "bba54105",
   "metadata": {
    "editable": true
   },
   "source": [
    "$$\n",
    "g(t) = f(Tt),\n",
    "$$"
   ]
  },
  {
   "cell_type": "markdown",
   "id": "d5c5c4ca",
   "metadata": {
    "editable": true
   },
   "source": [
    "that is"
   ]
  },
  {
   "cell_type": "markdown",
   "id": "abf8b2a2",
   "metadata": {
    "editable": true
   },
   "source": [
    "$$\n",
    "g(t) =\\sum_{k=-n}^{n}c_{n}\\exp{(2\\pi\\imath kt)},\n",
    "$$"
   ]
  },
  {
   "cell_type": "markdown",
   "id": "cccbc0ee",
   "metadata": {
    "editable": true
   },
   "source": [
    "and introducing the variable $s=Tt$ we have $g(t)=f(s)$ we have"
   ]
  },
  {
   "cell_type": "markdown",
   "id": "e6a5088f",
   "metadata": {
    "editable": true
   },
   "source": [
    "$$\n",
    "f(s) = g(t)=\\sum_{k=-n}^{n}c_{n}\\exp{(2\\pi\\imath kt)}=\\sum_{k=-n}^{n}c_{k}\\exp{(2\\pi\\imath ks/T)}.\n",
    "$$"
   ]
  },
  {
   "cell_type": "markdown",
   "id": "7bc39ec0",
   "metadata": {
    "editable": true
   },
   "source": [
    "## Harmonics\n",
    "\n",
    "The so-called harmonics are now defined as $\\exp{(2\\pi\\imath ks/T)}$.\n",
    "We have"
   ]
  },
  {
   "cell_type": "markdown",
   "id": "6900d033",
   "metadata": {
    "editable": true
   },
   "source": [
    "$$\n",
    "\\hat{g}(k)=\\int_0^1 dt g(t)\\exp{(-2\\pi\\imath kt)},\n",
    "$$"
   ]
  },
  {
   "cell_type": "markdown",
   "id": "ab09e34c",
   "metadata": {
    "editable": true
   },
   "source": [
    "and using $s=Tt$ we have"
   ]
  },
  {
   "cell_type": "markdown",
   "id": "bd09f897",
   "metadata": {
    "editable": true
   },
   "source": [
    "$$\n",
    "\\hat{g}(k)=\\int_0^1 dt g(t)\\exp{(-2\\pi\\imath kt)}=\\frac{1}{T}\\int_0^T ds f(s)\\exp{(-2\\pi\\imath ks/T)}.\n",
    "$$"
   ]
  },
  {
   "cell_type": "markdown",
   "id": "67db3405",
   "metadata": {
    "editable": true
   },
   "source": [
    "For a period $T$ we have thus the general expression for the Fourier transform"
   ]
  },
  {
   "cell_type": "markdown",
   "id": "54396b6d",
   "metadata": {
    "editable": true
   },
   "source": [
    "$$\n",
    "\\hat{f}(k)=c_k=\\frac{1}{T}\\int_0^T dt f(t)\\exp{(-2\\pi\\imath kt/T)}.\n",
    "$$"
   ]
  },
  {
   "cell_type": "markdown",
   "id": "5f49f711",
   "metadata": {
    "editable": true
   },
   "source": [
    "## Typical interval\n",
    "\n",
    "An often used choice of interval is"
   ]
  },
  {
   "cell_type": "markdown",
   "id": "6b4ef5b7",
   "metadata": {
    "editable": true
   },
   "source": [
    "$$\n",
    "\\hat{f}(k)=c_k=\\frac{1}{T}\\int_{-T/2}^{T/2} dt f(t)\\exp{(-2\\pi\\imath kt/T)},\n",
    "$$"
   ]
  },
  {
   "cell_type": "markdown",
   "id": "47937adc",
   "metadata": {
    "editable": true
   },
   "source": [
    "and a common choice for the harmonics is $(1/\\sqrt{T})\\exp{(2\\pi\\imath kt/T)}$.\n",
    "\n",
    "As a small addendum, if the signal (function) $f(t)$ is real and even one has $f(-t)=f(t)$. If $f$ is an even function, then $\\hat{f}$ is also an even function which leads to $\\hat{f}(-k)=\\hat{f}(k)$."
   ]
  },
  {
   "cell_type": "markdown",
   "id": "e7a957bd",
   "metadata": {
    "editable": true
   },
   "source": [
    "## Sinusoidal example\n",
    "For the sinusoidal example the\n",
    "period is $T=2\\pi/\\omega$. However, higher harmonics can also\n",
    "satisfy the periodicity requirement. In general, any force that\n",
    "satisfies the periodicity requirement can be expressed as a sum over\n",
    "harmonics,"
   ]
  },
  {
   "cell_type": "markdown",
   "id": "2063779c",
   "metadata": {
    "editable": true
   },
   "source": [
    "$$\n",
    "f(t)=\\frac{a_0}{2}+\\sum_{n>0} a_n\\cos(2n\\pi t/T)+b_n\\sin(2n\\pi t/T).\n",
    "$$"
   ]
  },
  {
   "cell_type": "markdown",
   "id": "dfa66097",
   "metadata": {
    "editable": true
   },
   "source": [
    "## Square well example\n",
    "\n",
    "In the code discussed earlier, we used a square well as a our\n",
    "example. If we assume our period has length $1$, we can define the\n",
    "square well function $f(t)$ as"
   ]
  },
  {
   "cell_type": "markdown",
   "id": "df39d01f",
   "metadata": {
    "editable": true
   },
   "source": [
    "$$\n",
    "f(t)=\\left\\{\\begin{array}{cc} 1 & 0 \\le t \\le \\frac{1}{2} \\\\\n",
    "                              -1 & \\frac{1}{2} < t \\le 1\\end{array}\\right.\n",
    "$$"
   ]
  },
  {
   "cell_type": "markdown",
   "id": "ea99ca85",
   "metadata": {
    "editable": true
   },
   "source": [
    "The zeroth coefficient $a_0$ is zero since it is the average of the function $f(t)$ over the intergration domain $t\\in [0,1]$."
   ]
  },
  {
   "cell_type": "markdown",
   "id": "f38362aa",
   "metadata": {
    "editable": true
   },
   "source": [
    "## The coefficients\n",
    "\n",
    "We find that the other coefficients are"
   ]
  },
  {
   "cell_type": "markdown",
   "id": "803177da",
   "metadata": {
    "editable": true
   },
   "source": [
    "$$\n",
    "\\hat{f}(n)=c_n=\\int_0^1 dt f(t)\\exp{(-2\\pi\\imath nt)}=\\frac{1}{\\imath\\pi n}\\left(1-\\exp{-\\imath\\pi n}\\right).\n",
    "$$"
   ]
  },
  {
   "cell_type": "markdown",
   "id": "4627409c",
   "metadata": {
    "editable": true
   },
   "source": [
    "We note that $(1-\\exp{-\\imath\\pi n})$ is zero when $n$ is an even\n",
    "number and $2$ when $n$ is an odd number. We can then combine the\n",
    "positive and negative values of $n$ using"
   ]
  },
  {
   "cell_type": "markdown",
   "id": "bc0a1dab",
   "metadata": {
    "editable": true
   },
   "source": [
    "$$\n",
    "\\exp{(2\\pi\\imath nt)}-\\exp{(-2\\pi\\imath nt)}=2\\imath \\sin{(2\\pi nt)},\n",
    "$$"
   ]
  },
  {
   "cell_type": "markdown",
   "id": "a5a5e67b",
   "metadata": {
    "editable": true
   },
   "source": [
    "and we have"
   ]
  },
  {
   "cell_type": "markdown",
   "id": "466fa03d",
   "metadata": {
    "editable": true
   },
   "source": [
    "$$\n",
    "f(t)=\\frac{4}{\\pi}\\sum_{k=0}^{\\infty}\\frac{1}{2k+1}\\sin{(2\\pi(2k+1)t)}.\n",
    "$$"
   ]
  },
  {
   "cell_type": "markdown",
   "id": "0e129ffc",
   "metadata": {
    "editable": true
   },
   "source": [
    "## Code for the  Fourier Transforms\n",
    "\n",
    "The code here uses the Fourier series applied to a \n",
    "square wave signal. The code here\n",
    "visualizes the various approximations given by Fourier series compared\n",
    "with a square wave with period $T=0.2$ (dimensionless time), width $0.1$ and max value of the force $F=2$. We\n",
    "see that when we increase the number of components in the Fourier\n",
    "series, the Fourier series approximation gets closer and closer to the\n",
    "square wave signal."
   ]
  },
  {
   "cell_type": "code",
   "execution_count": 2,
   "id": "8b6ab14c",
   "metadata": {
    "collapsed": false,
    "editable": true
   },
   "outputs": [],
   "source": [
    "import numpy as np\n",
    "import math\n",
    "from scipy import signal\n",
    "import matplotlib.pyplot as plt\n",
    "\n",
    "# number of points                                                                                       \n",
    "n = 500\n",
    "# start and final times                                                                                  \n",
    "t0 = 0.0\n",
    "tn = 1.0\n",
    "# Period                                                                                                 \n",
    "T =0.2\n",
    "# Max value of square signal                                                                             \n",
    "Fmax= 2.0\n",
    "# Width of signal   \n",
    "Width = 0.1\n",
    "t = np.linspace(t0, tn, n, endpoint=False)\n",
    "SqrSignal = np.zeros(n)\n",
    "FourierSeriesSignal = np.zeros(n)\n",
    "SqrSignal = 1.0+signal.square(2*np.pi*5*t+np.pi*Width/T)\n",
    "a0 = Fmax*Width/T\n",
    "FourierSeriesSignal = a0\n",
    "Factor = 2.0*Fmax/np.pi\n",
    "for i in range(1,500):\n",
    "    FourierSeriesSignal += Factor/(i)*np.sin(np.pi*i*Width/T)*np.cos(i*t*2*np.pi/T)\n",
    "plt.plot(t, SqrSignal)\n",
    "plt.plot(t, FourierSeriesSignal)\n",
    "plt.ylim(-0.5, 2.5)\n",
    "plt.show()"
   ]
  },
  {
   "cell_type": "markdown",
   "id": "63fd7a4e",
   "metadata": {
    "editable": true
   },
   "source": [
    "### Fourier transforms and convolution\n",
    "\n",
    "We can use Fourier transforms in our studies of convolution as\n",
    "well. To see this, assume we have two functions $f$ and $g$ and their\n",
    "corresponding Fourier transforms $\\hat{f}$ and $\\hat{g}$. We remind\n",
    "the reader that the Fourier transform reads (say for the function $f$)"
   ]
  },
  {
   "cell_type": "markdown",
   "id": "5df085ab",
   "metadata": {
    "editable": true
   },
   "source": [
    "$$\n",
    "\\hat{f}(y)=\\boldsymbol{F}[f(y)]=\\frac{1}{2\\pi}\\int_{-\\infty}^{\\infty} d\\omega \\exp{-i\\omega y} f(\\omega),\n",
    "$$"
   ]
  },
  {
   "cell_type": "markdown",
   "id": "0a05a6bc",
   "metadata": {
    "editable": true
   },
   "source": [
    "and similarly we have"
   ]
  },
  {
   "cell_type": "markdown",
   "id": "3bcb5ebe",
   "metadata": {
    "editable": true
   },
   "source": [
    "$$\n",
    "\\hat{g}(y)=\\boldsymbol{F}[g(y)]=\\frac{1}{2\\pi}\\int_{-\\infty}^{\\infty} d\\omega \\exp{-i\\omega y} g(\\omega).\n",
    "$$"
   ]
  },
  {
   "cell_type": "markdown",
   "id": "72ae5187",
   "metadata": {
    "editable": true
   },
   "source": [
    "## Inverse Fourier transform\n",
    "\n",
    "The inverse Fourier transform is given by"
   ]
  },
  {
   "cell_type": "markdown",
   "id": "fd943417",
   "metadata": {
    "editable": true
   },
   "source": [
    "$$\n",
    "\\boldsymbol{F}^{-1}[g(y)]=\\frac{1}{2\\pi}\\int_{-\\infty}^{\\infty} d\\omega \\exp{i\\omega y} g(\\omega).\n",
    "$$"
   ]
  },
  {
   "cell_type": "markdown",
   "id": "d18c3cef",
   "metadata": {
    "editable": true
   },
   "source": [
    "The inverse Fourier transform of the product of the two functions $\\hat{f}\\hat{g}$ can be written as"
   ]
  },
  {
   "cell_type": "markdown",
   "id": "20e4bb0b",
   "metadata": {
    "editable": true
   },
   "source": [
    "$$\n",
    "\\boldsymbol{F}^{-1}[(\\hat{f}\\hat{g})(x)]=\\frac{1}{2\\pi}\\int_{-\\infty}^{\\infty} d\\omega \\exp{i\\omega x} \\hat{f}(\\omega)\\hat{g}(\\omega).\n",
    "$$"
   ]
  },
  {
   "cell_type": "markdown",
   "id": "d27a7c45",
   "metadata": {
    "editable": true
   },
   "source": [
    "## Rewriting\n",
    "We can rewrite the latter as"
   ]
  },
  {
   "cell_type": "markdown",
   "id": "c41c117a",
   "metadata": {
    "editable": true
   },
   "source": [
    "$$\n",
    "\\boldsymbol{F}^{-1}[(\\hat{f}\\hat{g})(x)]=\\int_{-\\infty}^{\\infty} d\\omega \\exp{i\\omega x} \\hat{f}(\\omega)\\left[\\frac{1}{2\\pi}\\int_{-\\infty}^{\\infty}g(y)dy \\exp{-i\\omega y}\\right]=\\frac{1}{2\\pi}\\int_{-\\infty}^{\\infty}dy g(y)\\int_{-\\infty}^{\\infty} d\\omega \\hat{f}(\\omega) \\exp{i\\omega(x- y)},\n",
    "$$"
   ]
  },
  {
   "cell_type": "markdown",
   "id": "477fab13",
   "metadata": {
    "editable": true
   },
   "source": [
    "which is simply"
   ]
  },
  {
   "cell_type": "markdown",
   "id": "d587e4f0",
   "metadata": {
    "editable": true
   },
   "source": [
    "$$\n",
    "\\boldsymbol{F}^{-1}[(\\hat{f}\\hat{g})(x)]=\\int_{-\\infty}^{\\infty}dy g(y)f(x-y)=(f*g)(x),\n",
    "$$"
   ]
  },
  {
   "cell_type": "markdown",
   "id": "d7b87663",
   "metadata": {
    "editable": true
   },
   "source": [
    "the convolution of the functions $f$ and $g$."
   ]
  },
  {
   "cell_type": "markdown",
   "id": "7eef69a1",
   "metadata": {
    "editable": true
   },
   "source": [
    "## Transforming to discrete variables\n",
    "\n",
    "In the Fourier transform $c_n$ is transformed from a dicrete variable\n",
    "to a continuous one as $T \\rightarrow \\infty$. We then replace $c_n$ with\n",
    "$f(k)dk$ and let $n/T \\rightarrow k$, and the sum is changed to an\n",
    "integral. This gives"
   ]
  },
  {
   "cell_type": "markdown",
   "id": "3461e18b",
   "metadata": {
    "editable": true
   },
   "source": [
    "$$\n",
    "f(x) = \\int_{-\\infty}^{\\infty}dkF(k) \\exp{i(2\\pi kx)}\n",
    "$$"
   ]
  },
  {
   "cell_type": "markdown",
   "id": "8b654bec",
   "metadata": {
    "editable": true
   },
   "source": [
    "and"
   ]
  },
  {
   "cell_type": "markdown",
   "id": "d63fe9da",
   "metadata": {
    "editable": true
   },
   "source": [
    "$$\n",
    "F(k) = \\int_{-\\infty}^{\\infty}dxf(x) \\exp{-i(2\\pi kx)}\n",
    "$$"
   ]
  },
  {
   "cell_type": "markdown",
   "id": "7261f443",
   "metadata": {
    "editable": true
   },
   "source": [
    "One way to interpret the Fourier transform is then as a transformation from one basis to another."
   ]
  },
  {
   "cell_type": "markdown",
   "id": "e5ced2d5",
   "metadata": {
    "editable": true
   },
   "source": [
    "## Discrete Fourier transform\n",
    "\n",
    "We change notation by replacing $t$ with $x$.\n",
    "\n",
    "Next we make another generalization by having a discrete function,\n",
    "that is $f(x) \\rightarrow f(x_k)$ with $x_k = k\\Delta x$ for $k=0,\\dots, N-1$. This leads to the sums"
   ]
  },
  {
   "cell_type": "markdown",
   "id": "21f4f035",
   "metadata": {
    "editable": true
   },
   "source": [
    "$$\n",
    "f_x = \\frac{1}{n} \\sum_{k=0}^{n-1}F_k \\exp{i(2\\pi kx)/n},\n",
    "$$"
   ]
  },
  {
   "cell_type": "markdown",
   "id": "088acff9",
   "metadata": {
    "editable": true
   },
   "source": [
    "and"
   ]
  },
  {
   "cell_type": "markdown",
   "id": "fdde0b92",
   "metadata": {
    "editable": true
   },
   "source": [
    "$$\n",
    "F_k = \\sum_{x=0}^{n-1}f_x \\exp{-i(2\\pi kx)/n}.\n",
    "$$"
   ]
  },
  {
   "cell_type": "markdown",
   "id": "b91eadb1",
   "metadata": {
    "editable": true
   },
   "source": [
    "Although we have used functions here, this could also be a set of\n",
    "numbers."
   ]
  },
  {
   "cell_type": "markdown",
   "id": "94929319",
   "metadata": {
    "editable": true
   },
   "source": [
    "## Simple example\n",
    "\n",
    "As an example we can have a set of complex numbers\n",
    "$\\{x_0,\\dots,x_{n-1}\\}$ with fixed length $n$, we can Fourier\n",
    "transform this as"
   ]
  },
  {
   "cell_type": "markdown",
   "id": "480f4e6d",
   "metadata": {
    "editable": true
   },
   "source": [
    "$$\n",
    "y_k = \\frac{1}{\\sqrt{n}} \\sum_{j=0}^{n-1} x_j \\exp{i(2\\pi jk)/n},\n",
    "$$"
   ]
  },
  {
   "cell_type": "markdown",
   "id": "998c1d18",
   "metadata": {
    "editable": true
   },
   "source": [
    "leading to a new set of complex numbers $\\{ y_0,\\dots,y_{n-1}\\}$."
   ]
  },
  {
   "cell_type": "markdown",
   "id": "a3def39d",
   "metadata": {
    "editable": true
   },
   "source": [
    "## Discrete Fourier Transformations\n",
    "\n",
    "Consider two sets of complex numbers $x_k$ and $y_k$ with\n",
    "$k=0,1,\\dots,n-1$ entries. The discrete Fourier transform is defined\n",
    "as"
   ]
  },
  {
   "cell_type": "markdown",
   "id": "2c3ae1c9",
   "metadata": {
    "editable": true
   },
   "source": [
    "$$\n",
    "y_k = \\frac{1}{\\sqrt{n}} \\sum_{j=0}^{n-1} \\exp{(\\frac{2\\pi\\imath jk}{n})} x_j.\n",
    "$$"
   ]
  },
  {
   "cell_type": "markdown",
   "id": "b06277db",
   "metadata": {
    "editable": true
   },
   "source": [
    "As an example, assume $x_0=1$ and $x_1=1$. We can then use the above expression to find $y_0$ and $y_1$.\n",
    "\n",
    "With the above formula we get then"
   ]
  },
  {
   "cell_type": "markdown",
   "id": "10bc9dfe",
   "metadata": {
    "editable": true
   },
   "source": [
    "$$\n",
    "\\begin{align*}\n",
    "y_0 &= \\frac{1}{\\sqrt{2}} \\left( \\exp{(\\frac{2\\pi\\imath 0\\times 1}{2})} \\times 1+\\exp{(\\frac{2\\pi\\imath 0\\times 1}{2})}\\times 2\\right)\\\\\n",
    "& =\\frac{1}{\\sqrt{2}}(1+2)=\\frac{3}{\\sqrt{2}},\n",
    "\\end{align*}\n",
    "$$"
   ]
  },
  {
   "cell_type": "markdown",
   "id": "bc255eea",
   "metadata": {
    "editable": true
   },
   "source": [
    "and"
   ]
  },
  {
   "cell_type": "markdown",
   "id": "d7ee8bfc",
   "metadata": {
    "editable": true
   },
   "source": [
    "$$\n",
    "\\begin{align*}\n",
    "y_1 &= \\frac{1}{\\sqrt{2}} \\left( \\exp{(\\frac{2\\pi\\imath 0\\times 1}{2})} \\times 1+\\exp{(\\frac{2\\pi\\imath 1\\times 1}{2})}\\times 2\\right)=\\\\\n",
    "& =\\frac{1}{\\sqrt{2}}(1+2\\exp{(\\pi\\imath)})=-\\frac{1}{\\sqrt{2}}.\n",
    "\\end{align*}\n",
    "$$"
   ]
  },
  {
   "cell_type": "markdown",
   "id": "5ace8d4c",
   "metadata": {
    "editable": true
   },
   "source": [
    "## More details on Discrete Fourier transforms\n",
    "\n",
    "Suppose that we have a vector $f$ of $n$ complex numbers, $f_{k}, k\n",
    "\\in\\{0,1, \\ldots, n-1\\}$. Then the discrete Fourier transform (DFT) is\n",
    "a map from these $n$ complex numbers to $n$ complex numbers, the\n",
    "Fourier transformed coefficients $\\tilde{f}_{j}$, given by"
   ]
  },
  {
   "cell_type": "markdown",
   "id": "ee63a21a",
   "metadata": {
    "editable": true
   },
   "source": [
    "$$\n",
    "\\tilde{f}_{j}=\\frac{1}{\\sqrt{n}} \\sum_{k=0}^{n-1} \\omega^{-j k} f_{k}\n",
    "$$"
   ]
  },
  {
   "cell_type": "markdown",
   "id": "183eb7ff",
   "metadata": {
    "editable": true
   },
   "source": [
    "where $\\omega=\\exp \\left(\\frac{2 \\pi i}{N}\\right)$."
   ]
  },
  {
   "cell_type": "markdown",
   "id": "42d24e17",
   "metadata": {
    "editable": true
   },
   "source": [
    "## Inverse DFT\n",
    "\n",
    "The inverse DFT is given by"
   ]
  },
  {
   "cell_type": "markdown",
   "id": "8dbd4df6",
   "metadata": {
    "editable": true
   },
   "source": [
    "$$\n",
    "f_{j}=\\frac{1}{\\sqrt{n}} \\sum_{k=0}^{n-1} \\omega^{j k} \\tilde{f}_{k}\n",
    "$$"
   ]
  },
  {
   "cell_type": "markdown",
   "id": "27b5909c",
   "metadata": {
    "editable": true
   },
   "source": [
    "To see this consider how the basis vectors transform. If $f_{k}^{l}=\\delta_{k, l}$, then"
   ]
  },
  {
   "cell_type": "markdown",
   "id": "5115370d",
   "metadata": {
    "editable": true
   },
   "source": [
    "$$\n",
    "\\tilde{f}_{j}^{l}=\\frac{1}{\\sqrt{n}} \\sum_{k=0}^{n-1} \\omega^{-j k} \\delta_{k, l}=\\frac{1}{\\sqrt{n}} \\omega^{-j l}\n",
    "$$"
   ]
  },
  {
   "cell_type": "markdown",
   "id": "6e5f2853",
   "metadata": {
    "editable": true
   },
   "source": [
    "## Orthonormality\n",
    "\n",
    "These DFT vectors are orthonormal, that is"
   ]
  },
  {
   "cell_type": "markdown",
   "id": "675b82fe",
   "metadata": {
    "editable": true
   },
   "source": [
    "$$\n",
    "\\sum_{j=0}^{n-1} \\tilde{f}^{l}{ }_{j}^{*} \\tilde{f}_{j}^{m}=\\frac{1}{n} \\sum_{j=0}^{n-1} \\omega^{j l} \\omega^{-j m}=\\frac{1}{N} \\sum_{j=0}^{n-1} \\omega^{j(l-m)}\n",
    "$$"
   ]
  },
  {
   "cell_type": "markdown",
   "id": "febc630f",
   "metadata": {
    "editable": true
   },
   "source": [
    "This last sum can be evaluated as a geometric series, but beware of the $(l-m)=0$ term, and yields"
   ]
  },
  {
   "cell_type": "markdown",
   "id": "85bde269",
   "metadata": {
    "editable": true
   },
   "source": [
    "$$\n",
    "\\sum_{j=0}^{n-1} \\tilde{f}^{l}{ }_{j}^{*} \\tilde{f}_{j}^{m}=\\delta_{l, m}\n",
    "$$"
   ]
  },
  {
   "cell_type": "markdown",
   "id": "05499964",
   "metadata": {
    "editable": true
   },
   "source": [
    "## Inverse transform\n",
    "\n",
    "From this we can check that the inverse DFT does indeed perform the inverse transform:"
   ]
  },
  {
   "cell_type": "markdown",
   "id": "37259176",
   "metadata": {
    "editable": true
   },
   "source": [
    "$$\n",
    "f_{j}=\\frac{1}{\\sqrt{n}} \\sum_{k=0}^{n-1} \\omega^{j k} \\tilde{f}_{k}=\\frac{1}{\\sqrt{n}} \\sum_{k=0}^{n-1} \\omega^{j k} \\frac{1}{\\sqrt{n}} \\sum_{l=0}^{n-1} \\omega^{-l k} f_{l}=\\frac{1}{n} \\sum_{k, l=0}^{n-1} \\omega^{(j-l) k} f_{l}=\\sum_{l=0}^{n-1} \\delta_{j, l} f_{l}=f_{j}\n",
    "$$"
   ]
  },
  {
   "cell_type": "markdown",
   "id": "f23a3860",
   "metadata": {
    "editable": true
   },
   "source": [
    "## Discrete Fourier transforms\n",
    "\n",
    "The Discrete Fourier Transform is a tool used in many different fields\n",
    "and finds applications in for example signal processing.  It has many\n",
    "many applications (in Speech Recognition, Data Processing, Optics,\n",
    "Acoustics). It is used in any application which performs Digital\n",
    "Signal Processing.\n",
    "\n",
    "There\n",
    "is an efficient algorithm, called the Fast Fourier Transform (FFT),\n",
    "which uses the special relationship amongst the roots of unity to\n",
    "compute the entire DFT in $O(n \\log{n})$ time. Moreover, it is possible to take the DFT and recover the original\n",
    "polynomial in its coefficient form in $O(n \\log{n})$ time, by using the\n",
    "FFT to compute the inverse DFT."
   ]
  },
  {
   "cell_type": "markdown",
   "id": "dab1d867",
   "metadata": {
    "editable": true
   },
   "source": [
    "## Fast Fourier transform (FFT)\n",
    "\n",
    "Because of the many important applications of DFT, the Fast Fourier\n",
    "Transform is ranked among the top ten  algorithms in the 20th century.\n",
    "It came to light as a tool for Signal processing in 1965, when\n",
    "Cooley (of IBM) and Tukey (of Princeton) wrote a paper presenting the\n",
    "algorithm. However the basics of the algorithm were known long before\n",
    "that, for example, it was known to Gauss back in 1805.\n",
    "To read more about Fast Fourier transforms and similar topics, see for example [Fast Fourier Transform - Algorithms and Applications](https://link.springer.com/book/10.1007/978-1-4020-6629-0). See also <https://github.com/CompPhysics/QuantumComputingMachineLearning/blob/gh-pages/doc/Textbooks/fastfourier.pdf>\n",
    "\n",
    "Our emphasis is on the link between discrete Fourier transforms and quantum Fourier transforms. We will not discuss FFT in this course."
   ]
  },
  {
   "cell_type": "markdown",
   "id": "d471aea0",
   "metadata": {
    "editable": true
   },
   "source": [
    "## The discrete Fourier transform (DFT)\n",
    "\n",
    "The discrete Fourier transform takes as input a complex vector"
   ]
  },
  {
   "cell_type": "markdown",
   "id": "9baf7de1",
   "metadata": {
    "editable": true
   },
   "source": [
    "$$\n",
    "\\begin{align*}\n",
    "\\boldsymbol{x} =\\vert\\boldsymbol{x}\\rangle= \n",
    "\\begin{bmatrix}\n",
    "x_0 \\\\ \n",
    "x_1 \\\\ \n",
    "x_2 \\\\\n",
    "\\vdots \\\\ \n",
    "x_{n-2} \\\\\n",
    "x_{n-1}\n",
    "\\end{bmatrix}.\n",
    "\\end{align*}\n",
    "$$"
   ]
  },
  {
   "cell_type": "markdown",
   "id": "81c5eb05",
   "metadata": {
    "editable": true
   },
   "source": [
    "Each entry of the output vector $\\vert \\boldsymbol{y}\\rangle$ is given by"
   ]
  },
  {
   "cell_type": "markdown",
   "id": "8f3d3996",
   "metadata": {
    "editable": true
   },
   "source": [
    "$$\n",
    "\\begin{align*}\n",
    "y_k = \\frac{1}{\\sqrt{N}} \\sum_{j=0}^{N-1} x_je^{2 \\pi ijk/N}.\n",
    "\\end{align*}\n",
    "$$"
   ]
  },
  {
   "cell_type": "markdown",
   "id": "531b7f47",
   "metadata": {
    "editable": true
   },
   "source": [
    "## Output vector\n",
    "\n",
    "The output is a complex vector"
   ]
  },
  {
   "cell_type": "markdown",
   "id": "10226435",
   "metadata": {
    "editable": true
   },
   "source": [
    "$$\n",
    "\\begin{align*}\n",
    "\\vert \\boldsymbol{y}\\rangle = \n",
    "\\frac{1}{\\sqrt{n}}\n",
    "\\begin{bmatrix}\n",
    "\\sum_{j=0}^{n-1} x_je^{2\\pi ij0/n} \\\\\n",
    "\\sum_{j=0}^{n-1} x_je^{2\\pi ij1/n} \\\\\n",
    "\\sum_{j=0}^{n-1} x_je^{2\\pi ij2/n} \\\\\n",
    "\\vdots \\\\\n",
    "\\sum_{j=0}^{n-1} x_je^{2\\pi ij(n-2)/n} \\\\\n",
    "\\sum_{j=0}^{n-1} x_je^{2\\pi ij(n-1)/n}\n",
    "\\end{bmatrix}\n",
    "\\end{align*}\n",
    "$$"
   ]
  },
  {
   "cell_type": "markdown",
   "id": "792153f7",
   "metadata": {
    "editable": true
   },
   "source": [
    "## Simple example\n",
    "\n",
    "As an example we can have a set of complex numbers\n",
    "$\\{x_0,\\dots,x_{n-1}\\}$ with fixed length $n$, we can Fourier\n",
    "transform this as"
   ]
  },
  {
   "cell_type": "markdown",
   "id": "f09e4c23",
   "metadata": {
    "editable": true
   },
   "source": [
    "$$\n",
    "y_k = \\frac{1}{\\sqrt{n}} \\sum_{j=0}^{n-1} x_j \\exp{i(2\\pi jk)/n},\n",
    "$$"
   ]
  },
  {
   "cell_type": "markdown",
   "id": "c9bf3732",
   "metadata": {
    "editable": true
   },
   "source": [
    "leading to a new set of complex numbers $\\{ y_0,\\dots,y_{n-1}\\}$."
   ]
  },
  {
   "cell_type": "markdown",
   "id": "2b504554",
   "metadata": {
    "editable": true
   },
   "source": [
    "## Discrete Fourier Transformations\n",
    "\n",
    "Consider two sets of complex numbers $x_k$ and $y_k$ with\n",
    "$k=0,1,\\dots,n-1$ entries. The discrete Fourier transform is defined\n",
    "as"
   ]
  },
  {
   "cell_type": "markdown",
   "id": "98445b5c",
   "metadata": {
    "editable": true
   },
   "source": [
    "$$\n",
    "y_k = \\frac{1}{\\sqrt{n}} \\sum_{j=0}^{n-1} \\exp{(\\frac{2\\pi\\imath jk}{n})} x_j.\n",
    "$$"
   ]
  },
  {
   "cell_type": "markdown",
   "id": "e29e4f05",
   "metadata": {
    "editable": true
   },
   "source": [
    "As an example, assume $x_0=1$ and $x_1=1$. We can then use the above expression to find $y_0$ and $y_1$.\n",
    "\n",
    "With the above formula we get then"
   ]
  },
  {
   "cell_type": "markdown",
   "id": "a7ce54c4",
   "metadata": {
    "editable": true
   },
   "source": [
    "$$\n",
    "\\begin{align*}\n",
    "y_0 &= \\frac{1}{\\sqrt{2}} \\left( \\exp{(\\frac{2\\pi\\imath 0\\times 1}{2})} \\times 1+\\exp{(\\frac{2\\pi\\imath 0\\times 1}{2})}\\times 2\\right)\\\\\n",
    "& =\\frac{1}{\\sqrt{2}}(1+2)=\\frac{3}{\\sqrt{2}},\n",
    "\\end{align*}\n",
    "$$"
   ]
  },
  {
   "cell_type": "markdown",
   "id": "aaa9e50f",
   "metadata": {
    "editable": true
   },
   "source": [
    "and"
   ]
  },
  {
   "cell_type": "markdown",
   "id": "59a13c6b",
   "metadata": {
    "editable": true
   },
   "source": [
    "$$\n",
    "\\begin{align*}\n",
    "y_1 &= \\frac{1}{\\sqrt{2}} \\left( \\exp{(\\frac{2\\pi\\imath 0\\times 1}{2})} \\times 1+\\exp{(\\frac{2\\pi\\imath 1\\times 1}{2})}\\times 2\\right)=\\\\\n",
    "& =\\frac{1}{\\sqrt{2}}(1+2\\exp{(\\pi\\imath)})=-\\frac{1}{\\sqrt{2}}.\n",
    "\\end{align*}\n",
    "$$"
   ]
  },
  {
   "cell_type": "markdown",
   "id": "abbfebfa",
   "metadata": {
    "editable": true
   },
   "source": [
    "## More details on Discrete Fourier transforms\n",
    "\n",
    "Suppose that we have a vector $f$ of $n$ complex numbers, $f_{k}, k\n",
    "\\in\\{0,1, \\ldots, n-1\\}$. Then the discrete Fourier transform (DFT) is\n",
    "a map from these $n$ complex numbers to $n$ complex numbers, the\n",
    "Fourier transformed coefficients $\\tilde{f}_{j}$, given by"
   ]
  },
  {
   "cell_type": "markdown",
   "id": "0679f016",
   "metadata": {
    "editable": true
   },
   "source": [
    "$$\n",
    "\\tilde{f}_{j}=\\frac{1}{\\sqrt{n}} \\sum_{k=0}^{n-1} \\omega^{-j k} f_{k}\n",
    "$$"
   ]
  },
  {
   "cell_type": "markdown",
   "id": "029187b5",
   "metadata": {
    "editable": true
   },
   "source": [
    "where $\\omega=\\exp \\left(\\frac{2 \\pi i}{N}\\right)$."
   ]
  },
  {
   "cell_type": "markdown",
   "id": "11a50d91",
   "metadata": {
    "editable": true
   },
   "source": [
    "## Inverse DFT\n",
    "\n",
    "The inverse DFT is given by"
   ]
  },
  {
   "cell_type": "markdown",
   "id": "0f5ef694",
   "metadata": {
    "editable": true
   },
   "source": [
    "$$\n",
    "f_{j}=\\frac{1}{\\sqrt{n}} \\sum_{k=0}^{n-1} \\omega^{j k} \\tilde{f}_{k}\n",
    "$$"
   ]
  },
  {
   "cell_type": "markdown",
   "id": "a0c7612f",
   "metadata": {
    "editable": true
   },
   "source": [
    "To see this consider how the basis vectors transform. If $f_{k}^{l}=\\delta_{k, l}$, then"
   ]
  },
  {
   "cell_type": "markdown",
   "id": "27c406f2",
   "metadata": {
    "editable": true
   },
   "source": [
    "$$\n",
    "\\tilde{f}_{j}^{l}=\\frac{1}{\\sqrt{n}} \\sum_{k=0}^{n-1} \\omega^{-j k} \\delta_{k, l}=\\frac{1}{\\sqrt{n}} \\omega^{-j l}\n",
    "$$"
   ]
  },
  {
   "cell_type": "markdown",
   "id": "958d37e3",
   "metadata": {
    "editable": true
   },
   "source": [
    "## Orthonormality\n",
    "\n",
    "These DFT vectors are orthonormal, that is"
   ]
  },
  {
   "cell_type": "markdown",
   "id": "6d293087",
   "metadata": {
    "editable": true
   },
   "source": [
    "$$\n",
    "\\sum_{j=0}^{n-1} \\tilde{f}^{l}{ }_{j}^{*} \\tilde{f}_{j}^{m}=\\frac{1}{n} \\sum_{j=0}^{n-1} \\omega^{j l} \\omega^{-j m}=\\frac{1}{N} \\sum_{j=0}^{n-1} \\omega^{j(l-m)}\n",
    "$$"
   ]
  },
  {
   "cell_type": "markdown",
   "id": "0d3c12b2",
   "metadata": {
    "editable": true
   },
   "source": [
    "This last sum can be evaluated as a geometric series, but beware of the $(l-m)=0$ term, and yields"
   ]
  },
  {
   "cell_type": "markdown",
   "id": "34dd5a49",
   "metadata": {
    "editable": true
   },
   "source": [
    "$$\n",
    "\\sum_{j=0}^{n-1} \\tilde{f}^{l}{ }_{j}^{*} \\tilde{f}_{j}^{m}=\\delta_{l, m}\n",
    "$$"
   ]
  },
  {
   "cell_type": "markdown",
   "id": "eaa9f652",
   "metadata": {
    "editable": true
   },
   "source": [
    "## Inverse transform\n",
    "\n",
    "From this we can check that the inverse DFT does indeed perform the inverse transform:"
   ]
  },
  {
   "cell_type": "markdown",
   "id": "6ec25b61",
   "metadata": {
    "editable": true
   },
   "source": [
    "$$\n",
    "f_{j}=\\frac{1}{\\sqrt{n}} \\sum_{k=0}^{n-1} \\omega^{j k} \\tilde{f}_{k}=\\frac{1}{\\sqrt{n}} \\sum_{k=0}^{n-1} \\omega^{j k} \\frac{1}{\\sqrt{n}} \\sum_{l=0}^{n-1} \\omega^{-l k} f_{l}=\\frac{1}{n} \\sum_{k, l=0}^{n-1} \\omega^{(j-l) k} f_{l}=\\sum_{l=0}^{n-1} \\delta_{j, l} f_{l}=f_{j}\n",
    "$$"
   ]
  },
  {
   "cell_type": "markdown",
   "id": "9823ae4c",
   "metadata": {
    "editable": true
   },
   "source": [
    "## Fast Fourier transform and polynomial multiplication\n",
    "\n",
    "The FFT algorithm is an $O(n\\log{n})$ divide and conquer algorithm for DFT, used by\n",
    "Gauss circa 1805, and popularized by Cooley and Turkey and 1965. Gauss used the\n",
    "algorithm to determine periodic asteroid orbits, while Cooley and Turkey used it to\n",
    "detect Soviet nuclear tests from oﬀshore readings.\n",
    "A practical implementation of FFT is FFTW, which was described by Frigo and\n",
    "Johnson at MIT. The algorithm is often implemented directly in hardware, for fixed $n$."
   ]
  },
  {
   "cell_type": "markdown",
   "id": "012df02b",
   "metadata": {
    "editable": true
   },
   "source": [
    "## From DFT to QFT\n",
    "\n",
    "The Quantum Fourier Transform (QFT) has mathematically the same equation as starting point\n",
    "but the notation is generally different. We generally compute the\n",
    "quantum Fourier transform on a set of orthonormal basis state vectors\n",
    "\\(|0\\rangle, |1\\rangle, ..., |N-1\\rangle\\). The linear operator defining\n",
    "the transform is given by the action on basis states"
   ]
  },
  {
   "cell_type": "markdown",
   "id": "ab21c04b",
   "metadata": {
    "editable": true
   },
   "source": [
    "$$\n",
    "|j\\rangle \\mapsto \\frac{1}{\\sqrt{N}} \\sum_{k=0}^{N-1} e^{2\\pi ijk/N}|k\\rangle.\n",
    "$$"
   ]
  },
  {
   "cell_type": "markdown",
   "id": "e94568c3",
   "metadata": {
    "editable": true
   },
   "source": [
    "## In terms of arbitrary states\n",
    "\n",
    "This can be written on arbitrary states,"
   ]
  },
  {
   "cell_type": "markdown",
   "id": "36d9c72e",
   "metadata": {
    "editable": true
   },
   "source": [
    "$$\n",
    "\\sum_{j=0}^{N-1}x_j|j\\rangle \\mapsto \\sum_{k=0}^{N-1} y_k|k\\rangle\n",
    "$$"
   ]
  },
  {
   "cell_type": "markdown",
   "id": "7acc1779",
   "metadata": {
    "editable": true
   },
   "source": [
    "where each amplitude \\(y_k\\) is the discrete Fourier transform of\n",
    "\\(x_j\\)."
   ]
  },
  {
   "cell_type": "markdown",
   "id": "3c3459b3",
   "metadata": {
    "editable": true
   },
   "source": [
    "## Unitarity\n",
    "\n",
    "The quantum Fourier transform is unitary. Taking \\(N = 2^n\\),\n",
    "for \\(n\\) qubits gives us the orthonormal (computational) basis"
   ]
  },
  {
   "cell_type": "markdown",
   "id": "9f1d9bbd",
   "metadata": {
    "editable": true
   },
   "source": [
    "$$\n",
    "|0\\rangle, |1\\rangle, ..., |2^{n}-1\\rangle.\n",
    "$$"
   ]
  },
  {
   "cell_type": "markdown",
   "id": "7be793cb",
   "metadata": {
    "editable": true
   },
   "source": [
    "## Binary representation\n",
    "\n",
    "Each of the computational basis states can be represented in binary"
   ]
  },
  {
   "cell_type": "markdown",
   "id": "24799041",
   "metadata": {
    "editable": true
   },
   "source": [
    "$$\n",
    "j = j_1j_2 \\cdots j_n\n",
    "$$"
   ]
  },
  {
   "cell_type": "markdown",
   "id": "0c8841a3",
   "metadata": {
    "editable": true
   },
   "source": [
    "where each \\(j_k\\) is either \\(0\\) or \\(1\\), and the corresponding\n",
    "binary vector is \\(|j_1j_2 \\cdots j_n\\rangle\\)."
   ]
  },
  {
   "cell_type": "markdown",
   "id": "4983dd48",
   "metadata": {
    "editable": true
   },
   "source": [
    "## Rewriting the QFT\n",
    "\n",
    "The quantum Fourier\n",
    "transform on one of these \\(n\\)-qubit vectors can be written as,"
   ]
  },
  {
   "cell_type": "markdown",
   "id": "312c1610",
   "metadata": {
    "editable": true
   },
   "source": [
    "$$\n",
    "\\begin{align*}\n",
    "|j_1j_2 \\cdots j_n \\rangle = \\frac{\\left(|0\\rangle +e^{2\\pi i0.j_n}|1\\rangle\\right) \\otimes \\left(|0\\rangle +e^{2\\pi i0.j_{n-1}j_n}|1\\rangle\\right) \\otimes \\cdots \\otimes \\left(|0\\rangle +e^{2\\pi i0.j_1j_2 \\cdots j_n}|1\\rangle\\right)}{2^{n/2}}\n",
    "\\end{align*}\n",
    "$$"
   ]
  },
  {
   "cell_type": "markdown",
   "id": "b4d8ec04",
   "metadata": {
    "editable": true
   },
   "source": [
    "## Short hand notation\n",
    "\n",
    "In the above, we use the notation"
   ]
  },
  {
   "cell_type": "markdown",
   "id": "2444cffc",
   "metadata": {
    "editable": true
   },
   "source": [
    "$$\n",
    "0.j_lj_{l+1} \\cdots j_n = \\frac{j+l}{2} + \\frac{j_{l+1}}{2^2} + \\cdots + \\frac{j_n}{2^{m-l+1}}\n",
    "$$"
   ]
  },
  {
   "cell_type": "markdown",
   "id": "7c55a9ba",
   "metadata": {
    "editable": true
   },
   "source": [
    "## Two-qubit system\n",
    "\n",
    "First a two qubit system. See whiteboard notes."
   ]
  },
  {
   "cell_type": "markdown",
   "id": "67ab971b",
   "metadata": {
    "editable": true
   },
   "source": [
    "## Four qubit system\n",
    "Let us then move to  a four qubit system. The basis states are,"
   ]
  },
  {
   "cell_type": "markdown",
   "id": "5b9c412b",
   "metadata": {
    "editable": true
   },
   "source": [
    "$$\n",
    "|j_1j_2j_3j_4 \\rangle\n",
    "$$"
   ]
  },
  {
   "cell_type": "markdown",
   "id": "3019322d",
   "metadata": {
    "editable": true
   },
   "source": [
    "where \\(j_k\\) is either \\(0\\) or \\(1\\). We have"
   ]
  },
  {
   "cell_type": "markdown",
   "id": "b669941f",
   "metadata": {
    "editable": true
   },
   "source": [
    "$$\n",
    "\\begin{align*}\n",
    "0.j_3 &= \\frac{j_3}{2} \\\\\n",
    "0.j_2j_3 &= \\frac{j_2}{2} + \\frac{j_3}{4} \\\\\n",
    "0.j_1j_2j_3 &= \\frac{j_1}{2} + \\frac{j_2}{4} + \\frac{j_3}{8} \\\\\n",
    "0.j_0j_1j_2j_3 &= \\frac{j_0}{2} + \\frac{j_1}{4} + \\frac{j_2}{8} + \\frac{j_3}{16} \\\\\n",
    "\\end{align*}\n",
    "$$"
   ]
  },
  {
   "cell_type": "markdown",
   "id": "c8c09923",
   "metadata": {
    "editable": true
   },
   "source": [
    "## QFT acts as follows\n",
    "\n",
    "The quantum Fourier transform acts as follows:"
   ]
  },
  {
   "cell_type": "markdown",
   "id": "8b5106a0",
   "metadata": {
    "editable": true
   },
   "source": [
    "$$\n",
    "\\begin{align*}\n",
    "|j_1j_2j_3j_4 \\rangle \\mapsto \\frac{1}{\\sqrt{2^{4/2}}}\n",
    "\\left(|0\\rangle + e^{2 \\pi i 0.j4}|1\\rangle \\right) \\otimes \n",
    "\\left(|0\\rangle + e^{2 \\pi i 0.j_3j4}|1\\rangle \\right) \\otimes \n",
    "\\left(|0\\rangle + e^{2 \\pi i 0.j_2j_3j4}|1\\rangle \\right) \\otimes \n",
    "\\left(|0\\rangle + e^{2 \\pi i 0.j_1j_2j_3j4}|1\\rangle \\right) \n",
    "\\end{align*}\n",
    "$$"
   ]
  },
  {
   "cell_type": "markdown",
   "id": "5deb50bb",
   "metadata": {
    "editable": true
   },
   "source": [
    "## Quantum circuits\n",
    "\n",
    "To compose a quantum circuit that calculates the quantum Fourier\n",
    "transform we use the operators"
   ]
  },
  {
   "cell_type": "markdown",
   "id": "c1879fa2",
   "metadata": {
    "editable": true
   },
   "source": [
    "$$\n",
    "\\begin{align*}\n",
    "R_k = \n",
    "\\begin{bmatrix}\n",
    "1 & 0 \\\\\n",
    "0 & e^{2\\pi i/2^k}\n",
    "\\end{bmatrix}.\n",
    "\\end{align*}\n",
    "$$"
   ]
  },
  {
   "cell_type": "markdown",
   "id": "2c1e9e6f",
   "metadata": {
    "editable": true
   },
   "source": [
    "For the circuit computing the QFT on four qubits, see whiteboard notes again."
   ]
  },
  {
   "cell_type": "markdown",
   "id": "e61d2e1d",
   "metadata": {
    "editable": true
   },
   "source": [
    "## Rotation gates\n",
    "\n",
    "In this example, the \\(R_k\\) gates are:"
   ]
  },
  {
   "cell_type": "markdown",
   "id": "29321d65",
   "metadata": {
    "editable": true
   },
   "source": [
    "$$\n",
    "\\begin{align*}\n",
    "R_1 = \\begin{bmatrix}\n",
    "1 & 0 \\\\\n",
    "0 & e^{2 \\pi i /2^0}\n",
    "\\end{bmatrix} = \n",
    "\\begin{bmatrix}\n",
    "1 & 0 \\\\\n",
    "0 & 1\n",
    "\\end{bmatrix}, \\quad \n",
    "R_2 = \\begin{bmatrix}\n",
    "1 & 0 \\\\\n",
    "0 & e^{2 \\pi i /2^2}\n",
    "\\end{bmatrix}, \\quad \n",
    "R_3 = \\begin{bmatrix}\n",
    "1 & 0 \\\\\n",
    "0 & e^{2 \\pi i /2^3}\n",
    "\\end{bmatrix}, \\quad \n",
    "R_4 = \\begin{bmatrix}\n",
    "1 & 0 \\\\\n",
    "0 & e^{2 \\pi i /2^4}\n",
    "\\end{bmatrix}.\n",
    "\\end{align*}\n",
    "$$"
   ]
  },
  {
   "cell_type": "markdown",
   "id": "16ae0c69",
   "metadata": {
    "editable": true
   },
   "source": [
    "## Quantum Fourier transform, more material\n",
    "\n",
    "We have defined the QFT in terms of\n",
    "the unitary operation"
   ]
  },
  {
   "cell_type": "markdown",
   "id": "65f466fc",
   "metadata": {
    "editable": true
   },
   "source": [
    "$$\n",
    "\\vert \\psi'\\rangle \\leftarrow \\hat{F}\\vert \\psi\\rangle, \\quad \\hat{F}^\\dagger \\hat{F} = I\n",
    "$$"
   ]
  },
  {
   "cell_type": "markdown",
   "id": "e120d495",
   "metadata": {
    "editable": true
   },
   "source": [
    "## Orthonormal basis\n",
    "\n",
    "In terms of an orthonormal basis $\\vert 0 \\rangle,\\vert 1\\rangle,\\dots,\\vert 0 \\rangle$ this linear operator has the following action"
   ]
  },
  {
   "cell_type": "markdown",
   "id": "aa755448",
   "metadata": {
    "editable": true
   },
   "source": [
    "$$\n",
    "\\vert j \\rangle \\rightarrow \\sum_{k=0}^{N-1} \\exp{i(2\\pi jk/N)}\\vert k\n",
    "$$"
   ]
  },
  {
   "cell_type": "markdown",
   "id": "bb8b3fe7",
   "metadata": {
    "editable": true
   },
   "source": [
    "or on an arbitrary state"
   ]
  },
  {
   "cell_type": "markdown",
   "id": "9febeb30",
   "metadata": {
    "editable": true
   },
   "source": [
    "$$\n",
    "\\sum_{j=0}^{N-1} x_j \\vert j \\rangle \\rightarrow \\sum_{k=0}^{N-1} y_k\\vert k \\rangle\n",
    "$$"
   ]
  },
  {
   "cell_type": "markdown",
   "id": "9424d912",
   "metadata": {
    "editable": true
   },
   "source": [
    "equivalent to the equation for discrete Fourier transform on a set of complex numbers."
   ]
  },
  {
   "cell_type": "markdown",
   "id": "3d1c4b39",
   "metadata": {
    "editable": true
   },
   "source": [
    "## Using computational basis\n",
    "\n",
    "Next we assume an $n$-qubit system, where we take $N=s^n$ in the computational basis"
   ]
  },
  {
   "cell_type": "markdown",
   "id": "ddcb0d33",
   "metadata": {
    "editable": true
   },
   "source": [
    "$$\n",
    "\\vert 0 \\rangle,\\dots,\\vert 2^n -1\\rangle.\n",
    "$$"
   ]
  },
  {
   "cell_type": "markdown",
   "id": "cd4d2633",
   "metadata": {
    "editable": true
   },
   "source": [
    "We make use of the binary representation $j = j_1 2^{n-1} + j_2\n",
    "2^{n-2} + \\dots + j_n 2^0$ , and take note of the notation $0.j_l\n",
    "j_{l+1} \\dots j_m$ representing the binary fraction $\\frac{j_l}{2^1} +\n",
    "\\frac{j_{l+1}}{2^{2}} + \\dots + \\frac{j_m}{2^{m-l+1}}$. With this we\n",
    "define the product representation of the quantum Fourier transform"
   ]
  },
  {
   "cell_type": "markdown",
   "id": "9ae25352",
   "metadata": {
    "editable": true
   },
   "source": [
    "$$\n",
    "\\vert j_1,\\dots,j_n\\rangle  \\rightarrow \n",
    "\\frac{\n",
    "\\left(\\vert 0 \\rangle + \\exp{i(2\\pi 0.j_n)}\\right)\n",
    "\\left(\\vert 0 \\rangle + \\exp{i(2\\pi 0.j_{j-1}j_n)}\\right)\n",
    "\\dots\n",
    "\\left(\\vert 0 \\rangle + \\exp{i(2\\pi 0.j_1j_2\\dots j_n)}\\right)\n",
    "}{2^{n/2}}\n",
    "$$"
   ]
  },
  {
   "cell_type": "markdown",
   "id": "a3e6f176",
   "metadata": {
    "editable": true
   },
   "source": [
    "## Components\n",
    "\n",
    "From the product representation we can derive a circuit for the\n",
    "quantum Fourier transform. This will make use of the following two\n",
    "single-qubit gates"
   ]
  },
  {
   "cell_type": "markdown",
   "id": "2570490c",
   "metadata": {
    "editable": true
   },
   "source": [
    "$$\n",
    "H = \\frac{1}{\\sqrt{2}}\n",
    "    \\begin{bmatrix}\n",
    "        1 & 1 \\\\\n",
    "        1 & -1\n",
    "    \\end{bmatrix}\n",
    "$$"
   ]
  },
  {
   "cell_type": "markdown",
   "id": "88012662",
   "metadata": {
    "editable": true
   },
   "source": [
    "$$\n",
    "R_k =\n",
    "    \\begin{bmatrix}\n",
    "        1 & 0 \\\\\n",
    "        0 & e^{2\\pi i/2^{k}}\n",
    "    \\end{bmatrix}\n",
    "$$"
   ]
  },
  {
   "cell_type": "markdown",
   "id": "3b3c4688",
   "metadata": {
    "editable": true
   },
   "source": [
    "## Using the Hadamard gate\n",
    "The Hadamard\n",
    "gate on a single qubit creates an equal superposition of its basis\n",
    "states, assuming it is not already in a superposition, such that"
   ]
  },
  {
   "cell_type": "markdown",
   "id": "a7b6ec95",
   "metadata": {
    "editable": true
   },
   "source": [
    "$$\n",
    "H\\vert 0 \\rangle = \\frac{1}{\\sqrt{2}} \\left(\\vert 0 \\rangle + \\vert 1\\rangle\\right), \\quad H\\vert 1\\rangle = \\frac{1}{\\sqrt{2}} \\left(\\vert 0 \\rangle - \\vert 1\\rangle\\right)\n",
    "$$"
   ]
  },
  {
   "cell_type": "markdown",
   "id": "333bb8cc",
   "metadata": {
    "editable": true
   },
   "source": [
    "The $R_k$ gate simply adds a phase if the qubit it acts on is in the state $\\vert 1\\rangle$"
   ]
  },
  {
   "cell_type": "markdown",
   "id": "304fe4ad",
   "metadata": {
    "editable": true
   },
   "source": [
    "$$\n",
    "R_k\\vert 0 \\rangle = \\vert 0 \\rangle, \\quad R_k\\vert 1\\rangle = e^{2\\pi i/2^{k}}\\vert 1\\rangle\n",
    "$$"
   ]
  },
  {
   "cell_type": "markdown",
   "id": "128d1e58",
   "metadata": {
    "editable": true
   },
   "source": [
    "Since all this gates are unitary, the quantum Fourier transfrom is also unitary."
   ]
  },
  {
   "cell_type": "markdown",
   "id": "df7b8210",
   "metadata": {
    "editable": true
   },
   "source": [
    "## Algorithm\n",
    "\n",
    "Assume we have a quantum register of $n$ qubits in the state $\\vert j_1 j_2 \\dots j_n\\rangle$.\n",
    "Applying the Hadamard gate to the first qubit\n",
    "produces the state"
   ]
  },
  {
   "cell_type": "markdown",
   "id": "f46f45e1",
   "metadata": {
    "editable": true
   },
   "source": [
    "$$\n",
    "H\\vert j_1 j_2 \\dots j_n\\rangle = \\frac{\\left(\\vert 0 \\rangle + e^{2\\pi i 0.j_1}\\vert 1\\rangle\\right)}{2^{1/2}} \\vert j_2 \\dots j_n\\rangle.\n",
    "$$"
   ]
  },
  {
   "cell_type": "markdown",
   "id": "483ee671",
   "metadata": {
    "editable": true
   },
   "source": [
    "## Binary fraction\n",
    "\n",
    "Here we have made use of the binary fraction to represent the action of the Hadamard gate"
   ]
  },
  {
   "cell_type": "markdown",
   "id": "66e8a710",
   "metadata": {
    "editable": true
   },
   "source": [
    "$$\n",
    "\\exp{2\\pi i 0.j_1} = -1,\n",
    "$$"
   ]
  },
  {
   "cell_type": "markdown",
   "id": "d5c2619e",
   "metadata": {
    "editable": true
   },
   "source": [
    "if $j_1 = 1$ and $+1$ if $j_1 = 0$."
   ]
  },
  {
   "cell_type": "markdown",
   "id": "d32b88db",
   "metadata": {
    "editable": true
   },
   "source": [
    "## Controlled rotation gate\n",
    "\n",
    "Furthermore we can apply the controlled-$R_k$ gate, with all the other qubits $j_k$ for $k>1$ as control qubits to produce the state"
   ]
  },
  {
   "cell_type": "markdown",
   "id": "44b52871",
   "metadata": {
    "editable": true
   },
   "source": [
    "$$\n",
    "\\frac{\\left(\\vert 0 \\rangle + e^{2\\pi i 0.j_1j_2\\dots j_n}\\vert 1\\rangle\\right)}{2^{1/2}} \\vert j_2 \\dots j_n\\rangle\n",
    "$$"
   ]
  },
  {
   "cell_type": "markdown",
   "id": "aadeb639",
   "metadata": {
    "editable": true
   },
   "source": [
    "Next we do the same procedure on qubit $2$ producing the state"
   ]
  },
  {
   "cell_type": "markdown",
   "id": "b2ac7f6b",
   "metadata": {
    "editable": true
   },
   "source": [
    "$$\n",
    "\\frac{\\left(\\vert 0 \\rangle + e^{2\\pi i 0.j_1j_2\\dots j_n}\\vert 1\\rangle\\right)\\left(\\vert 0 \\rangle + e^{2\\pi i 0.j_2\\dots j_n}\\vert 1\\rangle\\right)}{2^{2/2}} \\vert j_2 \\dots j_n\\rangle\n",
    "$$"
   ]
  },
  {
   "cell_type": "markdown",
   "id": "4c6ab6b0",
   "metadata": {
    "editable": true
   },
   "source": [
    "## Applying to all qubits\n",
    "\n",
    "Doing this for all $n$ qubits yields state"
   ]
  },
  {
   "cell_type": "markdown",
   "id": "1f9f610b",
   "metadata": {
    "editable": true
   },
   "source": [
    "$$\n",
    "\\frac{\\left(\\vert 0 \\rangle + e^{2\\pi i 0.j_1j_2\\dots j_n}\\vert 1\\rangle\\right)\\left(\\vert 0 \\rangle + e^{2\\pi i 0.j_2\\dots j_n}\\vert 1\\rangle\\right)\\dots \\left(\\vert 0 \\rangle + e^{2\\pi i 0.j_n}\\vert 1\\rangle\\right)}{2^{n/2}} \\vert j_2 \\dots j_n\\rangle\n",
    "$$"
   ]
  },
  {
   "cell_type": "markdown",
   "id": "b2281712",
   "metadata": {
    "editable": true
   },
   "source": [
    "At the end we use swap gates to reverse the order of the qubits"
   ]
  },
  {
   "cell_type": "markdown",
   "id": "33ab03dd",
   "metadata": {
    "editable": true
   },
   "source": [
    "$$\n",
    "\\frac{\\left(\\vert 0 \\rangle + e^{2\\pi i 0.j_n}\\vert 1\\rangle\\right)\\left(\\vert 0 \\rangle + e^{2\\pi i 0.j_{n-1}j_n}\\vert 1\\rangle\\right)\\dots\\left(\\vert 0 \\rangle + e^{2\\pi i 0.j_1j_2\\dots j_n}\\vert 1\\rangle\\right) }{2^{n/2}} \\vert j_2 \\dots j_n\\rangle\n",
    "$$"
   ]
  },
  {
   "cell_type": "markdown",
   "id": "62435d02",
   "metadata": {
    "editable": true
   },
   "source": [
    "This is just the product representation from earlier, obviously our desired output."
   ]
  },
  {
   "cell_type": "markdown",
   "id": "c7b9db99",
   "metadata": {
    "editable": true
   },
   "source": [
    "## Quantum Fourier transform\n",
    "\n",
    "Now lets turn to the Quantum Fourier transform (QFT). We've already\n",
    "seen the QFT for $N=2$. It is the Hadamard transform:"
   ]
  },
  {
   "cell_type": "markdown",
   "id": "7aa580c5",
   "metadata": {
    "editable": true
   },
   "source": [
    "$$\n",
    "H=\\frac{1}{\\sqrt{2}}\\left[\\begin{array}{cc}\n",
    "1 & 1  \\\\\n",
    "1 & -1\n",
    "\\end{array}\\right]\n",
    "$$"
   ]
  },
  {
   "cell_type": "markdown",
   "id": "95589f5d",
   "metadata": {
    "editable": true
   },
   "source": [
    "## QFT for $N=2$\n",
    "\n",
    "Why is this the QFT for $N=2$ ? Well suppose have the single qubit\n",
    "state $a_{0}|0\\rangle+a_{1}|1\\rangle$. If we apply the Hadamard\n",
    "operation to this state we obtain the new state"
   ]
  },
  {
   "cell_type": "markdown",
   "id": "c68bcd0e",
   "metadata": {
    "editable": true
   },
   "source": [
    "$$\n",
    "\\frac{1}{\\sqrt{2}}\\left(a_{0}+a_{1}\\right)|0\\rangle+\\frac{1}{\\sqrt{2}}\\left(a_{0}-a_{1}\\right)|1\\rangle=\\tilde{a}_{0}|0\\rangle+\\tilde{a}_{1}|1\\rangle .\n",
    "$$"
   ]
  },
  {
   "cell_type": "markdown",
   "id": "ee7e2088",
   "metadata": {
    "editable": true
   },
   "source": [
    "In other words the Hadamard gate performs the DFT for $N=2$ on the\n",
    "amplitudes of the state! Notice that this is very different that\n",
    "computing the DFT for $N=2$ : remember the amplitudes are not numbers\n",
    "which are accessible to us mere mortals, they just represent our\n",
    "description of the quantum system."
   ]
  },
  {
   "cell_type": "markdown",
   "id": "9a165409",
   "metadata": {
    "editable": true
   },
   "source": [
    "## Full QFT\n",
    "\n",
    "So what is the full quantum Fourier transform? It is the transform\n",
    "which takes the amplitudes of a $N$ dimensional state and computes the\n",
    "Fourier transform on these amplitudes (which are then the new\n",
    "amplitudes in the computational basis.) In other words, the QFT enacts\n",
    "the transform"
   ]
  },
  {
   "cell_type": "markdown",
   "id": "a5f2210d",
   "metadata": {
    "editable": true
   },
   "source": [
    "$$\n",
    "\\sum_{x=0}^{N-1} a_{x}|x\\rangle \\rightarrow \\sum_{x=0}^{N-1} \\tilde{a}_{x}|x\\rangle=\\sum_{x=0}^{N-1} \\frac{1}{\\sqrt{N}} \\sum_{y=0}^{N-1} \\omega_{N}^{-x y} a_{y}|x\\rangle\n",
    "$$"
   ]
  },
  {
   "cell_type": "markdown",
   "id": "67738545",
   "metadata": {
    "editable": true
   },
   "source": [
    "## Explicit transform\n",
    "It is easy to see that this implies that the QFT performs the following transform on basis states:"
   ]
  },
  {
   "cell_type": "markdown",
   "id": "d8a4084f",
   "metadata": {
    "editable": true
   },
   "source": [
    "$$\n",
    "|x\\rangle \\rightarrow \\frac{1}{\\sqrt{N}} \\sum_{y=0}^{N-1} \\omega_{N}^{-x y}|y\\rangle\n",
    "$$"
   ]
  },
  {
   "cell_type": "markdown",
   "id": "132551c4",
   "metadata": {
    "editable": true
   },
   "source": [
    "Thus the QFT is given by the matrix"
   ]
  },
  {
   "cell_type": "markdown",
   "id": "fb31ecac",
   "metadata": {
    "editable": true
   },
   "source": [
    "$$\n",
    "U_{Q F T}=\\frac{1}{\\sqrt{N}} \\sum_{x=0}^{N-1} \\sum_{y=0}^{N-1} \\omega_{N}^{-y x}|y\\rangle\\langle x|\n",
    "$$"
   ]
  },
  {
   "cell_type": "markdown",
   "id": "459a7e9a",
   "metadata": {
    "editable": true
   },
   "source": [
    "## Unitarity\n",
    "The last  matrix is unitary. Let's check this:"
   ]
  },
  {
   "cell_type": "markdown",
   "id": "ca4dc072",
   "metadata": {
    "editable": true
   },
   "source": [
    "$$\n",
    "\\begin{align*}\n",
    "U_{Q F T} U_{Q F T}^{\\dagger} & =\\frac{1}{N} \\sum_{x=0}^{N-1} \\sum_{y=0}^{N-1} \\omega_{N}^{y x}|x\\rangle\\left\\langle y\\left|\\sum_{x^{\\prime}=0}^{N-1} \\sum_{y^{\\prime}=0}^{N-1} \\omega_{N}^{-y^{\\prime} x^{\\prime}}\\right| y^{\\prime}\\right\\rangle\\left\\langle x^{\\prime}\\right| \\\\\n",
    "& =\\frac{1}{N} \\sum_{x, y, x^{\\prime}, y^{\\prime}=0}^{N-1} \\omega_{N}^{y x-y^{\\prime} x^{\\prime}} \\delta_{y, y^{\\prime}}|x\\rangle\\left\\langle x^{\\prime}\\left|=\\frac{1}{N} \\sum_{x, y, x^{\\prime}=0}^{N-1} \\omega_{N}^{y\\left(x-x^{\\prime}\\right)}\\right| x\\right\\rangle\\left\\langle x^{\\prime}\\right| \\\\\n",
    "& =\\sum_{x, x^{\\prime}=0}^{N-1} \\delta_{x, x^{\\prime}}|x\\rangle\\left\\langle x^{\\prime}\\right|=I \n",
    "\\end{align*}\n",
    "$$"
   ]
  },
  {
   "cell_type": "markdown",
   "id": "fe131489",
   "metadata": {
    "editable": true
   },
   "source": [
    "## Importance of QFT\n",
    "\n",
    "The QFT is a very important transform in quantum computing. It can be\n",
    "used for all sorts of cool tasks, including, as we shall see in Shor's\n",
    "algorithm. But before we can use it for quantum computing tasks, we\n",
    "should try to see if we can efficiently implement the QFT with a\n",
    "quantum circuit. Indeed we can and the reason we can is intimately\n",
    "related to the fast Fourier transform."
   ]
  },
  {
   "cell_type": "markdown",
   "id": "934e8cb0",
   "metadata": {
    "editable": true
   },
   "source": [
    "## Circuit QFT\n",
    "\n",
    "Let's derive a circuit for the QFT when $N=2^{n}$. The QFT performs the transform"
   ]
  },
  {
   "cell_type": "markdown",
   "id": "ea9f934a",
   "metadata": {
    "editable": true
   },
   "source": [
    "$$\n",
    "|x\\rangle \\rightarrow \\frac{1}{\\sqrt{2^{n}}} \\sum_{y=0}^{2^{n}-1} \\omega_{N}^{-x y}|y\\rangle\n",
    "$$"
   ]
  },
  {
   "cell_type": "markdown",
   "id": "4e0344ed",
   "metadata": {
    "editable": true
   },
   "source": [
    "Then we can expand out this sum"
   ]
  },
  {
   "cell_type": "markdown",
   "id": "701e36fb",
   "metadata": {
    "editable": true
   },
   "source": [
    "$$\n",
    "|x\\rangle \\rightarrow \\frac{1}{\\sqrt{2^{n}}} \\sum_{y_{1}, y_{2}, \\ldots, y_{n} \\in\\{0,1\\}} \\omega_{N}^{-x \\sum_{k=1}^{n} 2^{n-k} y_{k}}\\left|y_{1}, y_{2}, \\ldots, y_{n}\\right\\rangle\n",
    "$$"
   ]
  },
  {
   "cell_type": "markdown",
   "id": "e56acbc9",
   "metadata": {
    "editable": true
   },
   "source": [
    "## Expanding the exponential\n",
    "\n",
    "Expanding the exponential of a sum to a product of exponentials and\n",
    "collecting these terms in from the appropriate terms we can express\n",
    "this as"
   ]
  },
  {
   "cell_type": "markdown",
   "id": "3da37ae6",
   "metadata": {
    "editable": true
   },
   "source": [
    "$$\n",
    "|x\\rangle \\rightarrow \\frac{1}{\\sqrt{2^{n}}} \\sum_{y_{1}, y_{2}, \\ldots, y_{n} \\in\\{0,1\\}} \\bigotimes_{k=1}^{n} \\omega_{N}^{-x 2^{n-k} y_{k}}\\left|y_{k}\\right\\rangle\n",
    "$$"
   ]
  },
  {
   "cell_type": "markdown",
   "id": "c033cb24",
   "metadata": {
    "editable": true
   },
   "source": [
    "## Rearranging\n",
    "\n",
    "We can rearrange the sum and products as"
   ]
  },
  {
   "cell_type": "markdown",
   "id": "7b680830",
   "metadata": {
    "editable": true
   },
   "source": [
    "$$\n",
    "|x\\rangle \\rightarrow \\frac{1}{\\sqrt{2^{n}}} \\bigotimes_{k=1}^{n}\\left[\\sum_{y_{k} \\in\\{0,1\\}} \\omega_{N}^{-x 2^{n-k} y_{k}}\\left|y_{k}\\right\\rangle\\right]\n",
    "$$"
   ]
  },
  {
   "cell_type": "markdown",
   "id": "6c463863",
   "metadata": {
    "editable": true
   },
   "source": [
    "Expanding this sum yields"
   ]
  },
  {
   "cell_type": "markdown",
   "id": "e6dcd33c",
   "metadata": {
    "editable": true
   },
   "source": [
    "$$\n",
    "|x\\rangle \\rightarrow \\frac{1}{\\sqrt{2^{n}}} \\bigotimes_{k=1}^{n}\\left[|0\\rangle+\\omega_{N}^{-x 2^{n-k}}|1\\rangle\\right]\n",
    "$$"
   ]
  },
  {
   "cell_type": "markdown",
   "id": "66acf324",
   "metadata": {
    "editable": true
   },
   "source": [
    "## Notation for binary fraction\n",
    "\n",
    "But now notice that $\\omega_{N}^{-x 2^{n-k}}$ is not dependent on the\n",
    "higer order bits of $x$. It is convenient to adopt the following\n",
    "expression for a binary fraction:"
   ]
  },
  {
   "cell_type": "markdown",
   "id": "fae9a08d",
   "metadata": {
    "editable": true
   },
   "source": [
    "$$\n",
    "0 . x_{l} x_{l+1} \\ldots x_{n}=\\frac{x_{l}}{2}+\\frac{x_{l+1}}{4}+\\cdots+\\frac{x_{n}}{2^{n-l+1}}\n",
    "$$"
   ]
  },
  {
   "cell_type": "markdown",
   "id": "97eb0b81",
   "metadata": {
    "editable": true
   },
   "source": [
    "## More notations\n",
    "Then we can see that"
   ]
  },
  {
   "cell_type": "markdown",
   "id": "c0a3b64c",
   "metadata": {
    "editable": true
   },
   "source": [
    "$$\n",
    "|x\\rangle \\rightarrow \\frac{1}{\\sqrt{2^{n}}}\\left[|0\\rangle+e^{-2 \\pi i 0 . x_{n}}|1\\rangle\\right] \\otimes\\left[|0\\rangle+e^{-2 \\pi i 0 . x_{n-1} x_{n}}|1\\rangle\\right] \\otimes \\cdots \\otimes\\left[|0\\rangle+e^{-2 \\pi i 0 . x_{1} x_{2} \\cdots x_{n}}|1\\rangle\\right]\n",
    "$$"
   ]
  },
  {
   "cell_type": "markdown",
   "id": "3bfc215a",
   "metadata": {
    "editable": true
   },
   "source": [
    "This is a very useful form of the QFT for $N=2^{n}$. Why? Because we\n",
    "see that only the last qubit depends on the the values of all the\n",
    "other input qubits and each further bit depends less and less on the\n",
    "input qubits. Further we note that $e^{-2 \\pi i 0 . a}$ is either +1\n",
    "or -1 , which reminds us of the Hadamard transform."
   ]
  },
  {
   "cell_type": "markdown",
   "id": "7105605a",
   "metadata": {
    "editable": true
   },
   "source": [
    "## Deriving a circuit\n",
    "\n",
    "So how do we use this to derive a circuit for the QFT over $N=2^{n}$ ?\n",
    "\n",
    "Take the first qubit of $\\left|x_{1}, \\ldots, x_{n}\\right\\rangle$ and\n",
    "apply a Hadamard transform. This produces the transform"
   ]
  },
  {
   "cell_type": "markdown",
   "id": "bd62e759",
   "metadata": {
    "editable": true
   },
   "source": [
    "$$\n",
    "|x\\rangle \\rightarrow \\frac{1}{\\sqrt{2}}\\left[|0\\rangle+e^{-2 \\pi i 0 \\cdot x_{1}}|1\\rangle\\right] \\otimes\\left|x_{2}, x_{3}, \\ldots, x_{n}\\right\\rangle\n",
    "$$"
   ]
  },
  {
   "cell_type": "markdown",
   "id": "0a16e8ee",
   "metadata": {
    "editable": true
   },
   "source": [
    "## Rotation gate\n",
    "Now define the rotation gate"
   ]
  },
  {
   "cell_type": "markdown",
   "id": "41746e95",
   "metadata": {
    "editable": true
   },
   "source": [
    "$$\n",
    "R_{k}=\\left[\\begin{array}{cc}\n",
    "1 & 0  \\tag{30}\\\\\n",
    "0 & \\exp \\left(\\frac{-2 \\pi i}{2^{k}}\\right)\n",
    "\\end{array}\\right]\n",
    "$$"
   ]
  },
  {
   "cell_type": "markdown",
   "id": "834e95c1",
   "metadata": {
    "editable": true
   },
   "source": [
    "If we now apply controlled $R_{2}, R_{3}$, etc. gates controlled on\n",
    "the appropriate bits this enacts the transform"
   ]
  },
  {
   "cell_type": "markdown",
   "id": "234a0ddc",
   "metadata": {
    "editable": true
   },
   "source": [
    "$$\n",
    "|x\\rangle \\rightarrow \\frac{1}{\\sqrt{2}}\\left[|0\\rangle+e^{-2 \\pi i 0 . x_{1} x_{2} \\ldots x_{n}}|1\\rangle\\right] \\otimes\\left|x_{2}, x_{3}, \\ldots, x_{n}\\right\\rangle\n",
    "$$"
   ]
  },
  {
   "cell_type": "markdown",
   "id": "11d07607",
   "metadata": {
    "editable": true
   },
   "source": [
    "## Proceeding\n",
    "\n",
    "Thus we have reproduced the last term in the QFTed state. Of course\n",
    "now we can proceed to the second qubit, perform a Hadamard, and the\n",
    "appropriate controlled $R_{k}$ gates and get the second to last\n",
    "qubit. Thus when we are finished we will have the transform"
   ]
  },
  {
   "cell_type": "markdown",
   "id": "ab84bfe1",
   "metadata": {
    "editable": true
   },
   "source": [
    "$$\n",
    "|x\\rangle \\rightarrow \\frac{1}{\\sqrt{2^{n}}}\\left[|0\\rangle+e^{-2 \\pi i 0 . x_{1} x_{2} \\cdots x_{n}}|1\\rangle\\right] \\otimes\\left[|0\\rangle+e^{-2 \\pi i 0 . x_{1} x_{2} \\cdots x_{n-1}}|1\\rangle\\right] \\otimes \\cdots \\otimes\\left[|0\\rangle+e^{-2 \\pi i 0 . x_{n}}|1\\rangle\\right]\n",
    "$$"
   ]
  },
  {
   "cell_type": "markdown",
   "id": "8b6f030a",
   "metadata": {
    "editable": true
   },
   "source": [
    "Reversing the order of these qubits will then produce the QFT!\n",
    "\n",
    "<!-- The circuit we have constructed on $n$ qubits is -->\n",
    "\n",
    "<!-- \\includegraphics[max width=\\textwidth]{2024_03_18_c1d427fa6b85efa365f1g-5} -->"
   ]
  },
  {
   "cell_type": "markdown",
   "id": "e4834295",
   "metadata": {
    "editable": true
   },
   "source": [
    "## QFT\n",
    "\n",
    "The Quantum Fourier Transform (QFT) has mathematically the same equation as starting point\n",
    "but the notation is generally different. We generally compute the\n",
    "quantum Fourier transform on a set of orthonormal basis state vectors\n",
    "\\(|0\\rangle, |1\\rangle, ..., |N-1\\rangle\\). The linear operator defining\n",
    "the transform is given by the action on basis states"
   ]
  },
  {
   "cell_type": "markdown",
   "id": "80aae890",
   "metadata": {
    "editable": true
   },
   "source": [
    "$$\n",
    "|j\\rangle \\mapsto \\frac{1}{\\sqrt{N}} \\sum_{k=0}^{N-1} e^{2\\pi ijk/N}|k\\rangle.\n",
    "$$"
   ]
  },
  {
   "cell_type": "markdown",
   "id": "ec273101",
   "metadata": {
    "editable": true
   },
   "source": [
    "## In terms of arbitrary states\n",
    "\n",
    "This can be written on arbitrary states,"
   ]
  },
  {
   "cell_type": "markdown",
   "id": "55d45d4f",
   "metadata": {
    "editable": true
   },
   "source": [
    "$$\n",
    "\\sum_{j=0}^{N-1}x_j|j\\rangle \\mapsto \\sum_{k=0}^{N-1} y_k|k\\rangle\n",
    "$$"
   ]
  },
  {
   "cell_type": "markdown",
   "id": "eb4f2454",
   "metadata": {
    "editable": true
   },
   "source": [
    "where each amplitude \\(y_k\\) is the discrete Fourier transform of\n",
    "\\(x_j\\)."
   ]
  },
  {
   "cell_type": "markdown",
   "id": "2010b727",
   "metadata": {
    "editable": true
   },
   "source": [
    "## Unitarity\n",
    "\n",
    "The quantum Fourier transform is unitary. Taking \\(N = 2^n\\),\n",
    "for \\(n\\) qubits gives us the orthonormal (computational) basis"
   ]
  },
  {
   "cell_type": "markdown",
   "id": "004b11f7",
   "metadata": {
    "editable": true
   },
   "source": [
    "$$\n",
    "|0\\rangle, |1\\rangle, ..., |2^{n}-1\\rangle.\n",
    "$$"
   ]
  },
  {
   "cell_type": "markdown",
   "id": "b63347f9",
   "metadata": {
    "editable": true
   },
   "source": [
    "## Binary representation\n",
    "\n",
    "Each of the computational basis states can be represented in binary"
   ]
  },
  {
   "cell_type": "markdown",
   "id": "ff7c289d",
   "metadata": {
    "editable": true
   },
   "source": [
    "$$\n",
    "j = j_1j_2 \\cdots j_n\n",
    "$$"
   ]
  },
  {
   "cell_type": "markdown",
   "id": "4fde88f6",
   "metadata": {
    "editable": true
   },
   "source": [
    "where each \\(j_k\\) is either \\(0\\) or \\(1\\), and the corresponding\n",
    "binary vector is \\(|j_1j_2 \\cdots j_n\\rangle\\)."
   ]
  },
  {
   "cell_type": "markdown",
   "id": "f3fea2a8",
   "metadata": {
    "editable": true
   },
   "source": [
    "## Rewriting the QFT\n",
    "\n",
    "The quantum Fourier\n",
    "transform on one of these \\(n\\)-qubit vectors can be written as,"
   ]
  },
  {
   "cell_type": "markdown",
   "id": "ac8a4bee",
   "metadata": {
    "editable": true
   },
   "source": [
    "$$\n",
    "\\begin{align*}\n",
    "|j_1j_2 \\cdots j_n \\rangle = \\frac{\\left(|0\\rangle +e^{2\\pi i0.j_n}|1\\rangle\\right) \\otimes \\left(|0\\rangle +e^{2\\pi i0.j_{n-1}j_n}|1\\rangle\\right) \\otimes \\cdots \\otimes \\left(|0\\rangle +e^{2\\pi i0.j_1j_2 \\cdots j_n}|1\\rangle\\right)}{2^{n/2}}\n",
    "\\end{align*}\n",
    "$$"
   ]
  },
  {
   "cell_type": "markdown",
   "id": "ca6a9289",
   "metadata": {
    "editable": true
   },
   "source": [
    "## Short hand notation\n",
    "\n",
    "In the above, we use the notation"
   ]
  },
  {
   "cell_type": "markdown",
   "id": "896db4c9",
   "metadata": {
    "editable": true
   },
   "source": [
    "$$\n",
    "0.j_lj_{l+1} \\cdots j_n = \\frac{j_l}{2} + \\frac{j_{l+1}}{2^2} + \\cdots + \\frac{j_n}{2^{n-l+1}}\n",
    "$$"
   ]
  },
  {
   "cell_type": "markdown",
   "id": "f7cdd976",
   "metadata": {
    "editable": true
   },
   "source": [
    "If we start counting from zero, that is we have instead"
   ]
  },
  {
   "cell_type": "markdown",
   "id": "b30e31c2",
   "metadata": {
    "editable": true
   },
   "source": [
    "$$\n",
    "\\begin{align*}\n",
    "|j_0j_1 \\cdots j_{n-1} \\rangle = \\frac{\\left(|0\\rangle +e^{2\\pi i0.j_{n-1}}|1\\rangle\\right) \\otimes \\left(|0\\rangle +e^{2\\pi i0.j_{n-2}j_n}|1\\rangle\\right) \\otimes \\cdots \\otimes \\left(|0\\rangle +e^{2\\pi i0.j_0j_1 \\cdots j_{n-1}}|1\\rangle\\right)}{2^{n/2}},\n",
    "\\end{align*}\n",
    "$$"
   ]
  },
  {
   "cell_type": "markdown",
   "id": "f17c6332",
   "metadata": {
    "editable": true
   },
   "source": [
    "we get"
   ]
  },
  {
   "cell_type": "markdown",
   "id": "f09a319b",
   "metadata": {
    "editable": true
   },
   "source": [
    "$$\n",
    "0.j_lj_{l+1} \\cdots j_{n-1} = \\frac{j_l}{2} + \\frac{j_{l+1}}{2^2} + \\cdots + \\frac{j_{n-1}}{2^{n-l}}\n",
    "$$"
   ]
  },
  {
   "cell_type": "markdown",
   "id": "9f0825bd",
   "metadata": {
    "editable": true
   },
   "source": [
    "## Four qubit system\n",
    "The basis states are"
   ]
  },
  {
   "cell_type": "markdown",
   "id": "553d98cb",
   "metadata": {
    "editable": true
   },
   "source": [
    "$$\n",
    "|j_1j_2j_3j_4 \\rangle\n",
    "$$"
   ]
  },
  {
   "cell_type": "markdown",
   "id": "321d1153",
   "metadata": {
    "editable": true
   },
   "source": [
    "where \\(j_k\\) is either \\(0\\) or \\(1\\). We have"
   ]
  },
  {
   "cell_type": "markdown",
   "id": "c4a9cdb0",
   "metadata": {
    "editable": true
   },
   "source": [
    "$$\n",
    "\\begin{align*}\n",
    "0.j_3 &= \\frac{j_3}{2} \\\\\n",
    "0.j_2j_3 &= \\frac{j_2}{2} + \\frac{j_3}{4} \\\\\n",
    "0.j_1j_2j_3 &= \\frac{j_1}{2} + \\frac{j_2}{4} + \\frac{j_3}{8} \\\\\n",
    "0.j_0j_1j_2j_3 &= \\frac{j_0}{2} + \\frac{j_1}{4} + \\frac{j_2}{8} + \\frac{j_3}{16} \\\\\n",
    "\\end{align*}\n",
    "$$"
   ]
  },
  {
   "cell_type": "markdown",
   "id": "146303e5",
   "metadata": {
    "editable": true
   },
   "source": [
    "## QFT acts as follows\n",
    "\n",
    "The quantum Fourier transform acts as follows:"
   ]
  },
  {
   "cell_type": "markdown",
   "id": "ad8aaedd",
   "metadata": {
    "editable": true
   },
   "source": [
    "$$\n",
    "\\begin{align*}\n",
    "|j_1j_2j_3j_4 \\rangle \\mapsto \\frac{1}{\\sqrt{2^{4/2}}}\n",
    "\\left(|0\\rangle + e^{2 \\pi i 0.j4}|1\\rangle \\right) \\otimes \n",
    "\\left(|0\\rangle + e^{2 \\pi i 0.j_3j4}|1\\rangle \\right) \\otimes \n",
    "\\left(|0\\rangle + e^{2 \\pi i 0.j_2j_3j4}|1\\rangle \\right) \\otimes \n",
    "\\left(|0\\rangle + e^{2 \\pi i 0.j_1j_2j_3j4}|1\\rangle \\right) \n",
    "\\end{align*}\n",
    "$$"
   ]
  },
  {
   "cell_type": "markdown",
   "id": "3dfab983",
   "metadata": {
    "editable": true
   },
   "source": [
    "## Quantum circuits\n",
    "\n",
    "To compose a quantum circuit that calculates the quantum Fourier\n",
    "transform we use the operators"
   ]
  },
  {
   "cell_type": "markdown",
   "id": "c4864ff5",
   "metadata": {
    "editable": true
   },
   "source": [
    "$$\n",
    "\\begin{align*}\n",
    "R_k = \n",
    "\\begin{bmatrix}\n",
    "1 & 0 \\\\\n",
    "0 & e^{2\\pi i/2^k}\n",
    "\\end{bmatrix}.\n",
    "\\end{align*}\n",
    "$$"
   ]
  },
  {
   "cell_type": "markdown",
   "id": "66503dbe",
   "metadata": {
    "editable": true
   },
   "source": [
    "## Rotation gates\n",
    "\n",
    "In this example, the \\(R_k\\) gates are:"
   ]
  },
  {
   "cell_type": "markdown",
   "id": "2352024d",
   "metadata": {
    "editable": true
   },
   "source": [
    "$$\n",
    "\\begin{align*}\n",
    "R_1 = \\begin{bmatrix}\n",
    "1 & 0 \\\\\n",
    "0 & e^{2 \\pi i /2^0}\n",
    "\\end{bmatrix} = \n",
    "\\begin{bmatrix}\n",
    "1 & 0 \\\\\n",
    "0 & 1\n",
    "\\end{bmatrix}, \\quad \n",
    "R_2 = \\begin{bmatrix}\n",
    "1 & 0 \\\\\n",
    "0 & e^{2 \\pi i /2^2}\n",
    "\\end{bmatrix}, \\quad \n",
    "R_3 = \\begin{bmatrix}\n",
    "1 & 0 \\\\\n",
    "0 & e^{2 \\pi i /2^3}\n",
    "\\end{bmatrix}, \\quad \n",
    "R_4 = \\begin{bmatrix}\n",
    "1 & 0 \\\\\n",
    "0 & e^{2 \\pi i /2^4}\n",
    "\\end{bmatrix}.\n",
    "\\end{align*}\n",
    "$$"
   ]
  },
  {
   "cell_type": "markdown",
   "id": "6ec0bc28",
   "metadata": {
    "editable": true
   },
   "source": [
    "## Using the Hadamard gate\n",
    "The Hadamard\n",
    "gate on a single qubit creates an equal superposition of its basis\n",
    "states, assuming it is not already in a superposition, such that"
   ]
  },
  {
   "cell_type": "markdown",
   "id": "febf371b",
   "metadata": {
    "editable": true
   },
   "source": [
    "$$\n",
    "H\\vert 0 \\rangle = \\frac{1}{\\sqrt{2}} \\left(\\vert 0 \\rangle + \\vert 1\\rangle\\right), \\quad H\\vert 1\\rangle = \\frac{1}{\\sqrt{2}} \\left(\\vert 0 \\rangle - \\vert 1\\rangle\\right)\n",
    "$$"
   ]
  },
  {
   "cell_type": "markdown",
   "id": "1d2c83d1",
   "metadata": {
    "editable": true
   },
   "source": [
    "The $R_k$ gate simply adds a phase if the qubit it acts on is in the state $\\vert 1\\rangle$"
   ]
  },
  {
   "cell_type": "markdown",
   "id": "07a4aed8",
   "metadata": {
    "editable": true
   },
   "source": [
    "$$\n",
    "R_k\\vert 0 \\rangle = \\vert 0 \\rangle, \\quad R_k\\vert 1\\rangle = e^{2\\pi i/2^{k}}\\vert 1\\rangle\n",
    "$$"
   ]
  },
  {
   "cell_type": "markdown",
   "id": "076471c9",
   "metadata": {
    "editable": true
   },
   "source": [
    "Since all this gates are unitary, the quantum Fourier transfrom is also unitary."
   ]
  },
  {
   "cell_type": "markdown",
   "id": "bdc3420f",
   "metadata": {
    "editable": true
   },
   "source": [
    "## Algorithm\n",
    "\n",
    "Assume we have a quantum register of $n$ qubits in the state $\\vert j_1 j_2 \\dots j_n\\rangle$.\n",
    "Applying the Hadamard gate to the first qubit\n",
    "produces the state"
   ]
  },
  {
   "cell_type": "markdown",
   "id": "c9466e66",
   "metadata": {
    "editable": true
   },
   "source": [
    "$$\n",
    "H\\vert j_1 j_2 \\dots j_n\\rangle = \\frac{\\left(\\vert 0 \\rangle + e^{2\\pi i 0.j_1}\\vert 1\\rangle\\right)}{2^{1/2}} \\vert j_2 \\dots j_n\\rangle.\n",
    "$$"
   ]
  },
  {
   "cell_type": "markdown",
   "id": "0aa26fd0",
   "metadata": {
    "editable": true
   },
   "source": [
    "## Binary fraction\n",
    "\n",
    "Here we have made use of the binary fraction to represent the action of the Hadamard gate"
   ]
  },
  {
   "cell_type": "markdown",
   "id": "9ccb8627",
   "metadata": {
    "editable": true
   },
   "source": [
    "$$\n",
    "\\exp{2\\pi i 0.j_1} = -1,\n",
    "$$"
   ]
  },
  {
   "cell_type": "markdown",
   "id": "e5a47ffd",
   "metadata": {
    "editable": true
   },
   "source": [
    "if $j_1 = 1$ and $+1$ if $j_1 = 0$."
   ]
  },
  {
   "cell_type": "markdown",
   "id": "d986f74b",
   "metadata": {
    "editable": true
   },
   "source": [
    "## Controlled rotation gate\n",
    "\n",
    "Furthermore we can apply the controlled-$R_k$ gate, with all the other qubits $j_k$ for $k>1$ as control qubits to produce the state"
   ]
  },
  {
   "cell_type": "markdown",
   "id": "7fe8e627",
   "metadata": {
    "editable": true
   },
   "source": [
    "$$\n",
    "\\frac{\\left(\\vert 0 \\rangle + e^{2\\pi i 0.j_1j_2\\dots j_n}\\vert 1\\rangle\\right)}{2^{1/2}} \\vert j_2 \\dots j_n\\rangle\n",
    "$$"
   ]
  },
  {
   "cell_type": "markdown",
   "id": "2005f581",
   "metadata": {
    "editable": true
   },
   "source": [
    "Next we do the same procedure on qubit $2$ producing the state"
   ]
  },
  {
   "cell_type": "markdown",
   "id": "cd33201d",
   "metadata": {
    "editable": true
   },
   "source": [
    "$$\n",
    "\\frac{\\left(\\vert 0 \\rangle + e^{2\\pi i 0.j_1j_2\\dots j_n}\\vert 1\\rangle\\right)\\left(\\vert 0 \\rangle + e^{2\\pi i 0.j_2\\dots j_n}\\vert 1\\rangle\\right)}{2^{2/2}} \\vert j_2 \\dots j_n\\rangle\n",
    "$$"
   ]
  },
  {
   "cell_type": "markdown",
   "id": "5acf7f16",
   "metadata": {
    "editable": true
   },
   "source": [
    "## Applying to all qubits\n",
    "\n",
    "Doing this for all $n$ qubits yields state"
   ]
  },
  {
   "cell_type": "markdown",
   "id": "403b1132",
   "metadata": {
    "editable": true
   },
   "source": [
    "$$\n",
    "\\frac{\\left(\\vert 0 \\rangle + e^{2\\pi i 0.j_1j_2\\dots j_n}\\vert 1\\rangle\\right)\\left(\\vert 0 \\rangle + e^{2\\pi i 0.j_2\\dots j_n}\\vert 1\\rangle\\right)\\dots \\left(\\vert 0 \\rangle + e^{2\\pi i 0.j_n}\\vert 1\\rangle\\right)}{2^{n/2}} \\vert j_2 \\dots j_n\\rangle\n",
    "$$"
   ]
  },
  {
   "cell_type": "markdown",
   "id": "9855b7c5",
   "metadata": {
    "editable": true
   },
   "source": [
    "At the end we use swap gates to reverse the order of the qubits"
   ]
  },
  {
   "cell_type": "markdown",
   "id": "1a40b642",
   "metadata": {
    "editable": true
   },
   "source": [
    "$$\n",
    "\\frac{\\left(\\vert 0 \\rangle + e^{2\\pi i 0.j_n}\\vert 1\\rangle\\right)\\left(\\vert 0 \\rangle + e^{2\\pi i 0.j_{n-1}j_n}\\vert 1\\rangle\\right)\\dots\\left(\\vert 0 \\rangle + e^{2\\pi i 0.j_1j_2\\dots j_n}\\vert 1\\rangle\\right) }{2^{n/2}} \\vert j_2 \\dots j_n\\rangle\n",
    "$$"
   ]
  },
  {
   "cell_type": "markdown",
   "id": "42bcdd05",
   "metadata": {
    "editable": true
   },
   "source": [
    "This is just the product representation from earlier, obviously our desired output."
   ]
  },
  {
   "cell_type": "markdown",
   "id": "0f04b7df",
   "metadata": {
    "editable": true
   },
   "source": [
    "## QFT\n",
    "\n",
    "The Quantum Fourier Transform (QFT) has mathematically the same equation as starting point\n",
    "but the notation is generally different. We generally compute the\n",
    "quantum Fourier transform on a set of orthonormal basis state vectors\n",
    "\\(|0\\rangle, |1\\rangle, ..., |N-1\\rangle\\). The linear operator defining\n",
    "the transform is given by the action on basis states"
   ]
  },
  {
   "cell_type": "markdown",
   "id": "6f006f0c",
   "metadata": {
    "editable": true
   },
   "source": [
    "$$\n",
    "|j\\rangle \\mapsto \\frac{1}{\\sqrt{N}} \\sum_{k=0}^{N-1} e^{2\\pi ijk/N}|k\\rangle.\n",
    "$$"
   ]
  },
  {
   "cell_type": "markdown",
   "id": "b7cb9140",
   "metadata": {
    "editable": true
   },
   "source": [
    "## In terms of arbitrary states\n",
    "\n",
    "This can be written on arbitrary states,"
   ]
  },
  {
   "cell_type": "markdown",
   "id": "4da3bfc8",
   "metadata": {
    "editable": true
   },
   "source": [
    "$$\n",
    "\\sum_{j=0}^{N-1}x_j|j\\rangle \\mapsto \\sum_{k=0}^{N-1} y_k|k\\rangle\n",
    "$$"
   ]
  },
  {
   "cell_type": "markdown",
   "id": "123deb83",
   "metadata": {
    "editable": true
   },
   "source": [
    "where each amplitude \\(y_k\\) is the discrete Fourier transform of\n",
    "\\(x_j\\)."
   ]
  },
  {
   "cell_type": "markdown",
   "id": "86863846",
   "metadata": {
    "editable": true
   },
   "source": [
    "## Unitarity\n",
    "\n",
    "The quantum Fourier transform is unitary. Taking \\(N = 2^n\\),\n",
    "for \\(n\\) qubits gives us the orthonormal (computational) basis"
   ]
  },
  {
   "cell_type": "markdown",
   "id": "f6197803",
   "metadata": {
    "editable": true
   },
   "source": [
    "$$\n",
    "|0\\rangle, |1\\rangle, ..., |2^{n}-1\\rangle.\n",
    "$$"
   ]
  },
  {
   "cell_type": "markdown",
   "id": "85e6d9ca",
   "metadata": {
    "editable": true
   },
   "source": [
    "## Binary representation\n",
    "\n",
    "Each of the computational basis states can be represented in binary"
   ]
  },
  {
   "cell_type": "markdown",
   "id": "ae91afcd",
   "metadata": {
    "editable": true
   },
   "source": [
    "$$\n",
    "j = j_1j_2 \\cdots j_n\n",
    "$$"
   ]
  },
  {
   "cell_type": "markdown",
   "id": "d8c2705a",
   "metadata": {
    "editable": true
   },
   "source": [
    "where each \\(j_k\\) is either \\(0\\) or \\(1\\), and the corresponding\n",
    "binary vector is \\(|j_1j_2 \\cdots j_n\\rangle\\)."
   ]
  },
  {
   "cell_type": "markdown",
   "id": "7f5b2f6a",
   "metadata": {
    "editable": true
   },
   "source": [
    "## Rewriting the QFT\n",
    "\n",
    "The quantum Fourier\n",
    "transform on one of these \\(n\\)-qubit vectors can be written as,"
   ]
  },
  {
   "cell_type": "markdown",
   "id": "80f1b383",
   "metadata": {
    "editable": true
   },
   "source": [
    "$$\n",
    "\\begin{align*}\n",
    "|j_1j_2 \\cdots j_n \\rangle = \\frac{\\left(|0\\rangle +e^{2\\pi i0.j_n}|1\\rangle\\right) \\otimes \\left(|0\\rangle +e^{2\\pi i0.j_{n-1}j_n}|1\\rangle\\right) \\otimes \\cdots \\otimes \\left(|0\\rangle +e^{2\\pi i0.j_1j_2 \\cdots j_n}|1\\rangle\\right)}{2^{n/2}}\n",
    "\\end{align*}\n",
    "$$"
   ]
  },
  {
   "cell_type": "markdown",
   "id": "965e617f",
   "metadata": {
    "editable": true
   },
   "source": [
    "## Short hand notation\n",
    "\n",
    "In the above, we use the notation"
   ]
  },
  {
   "cell_type": "markdown",
   "id": "cf4e1e86",
   "metadata": {
    "editable": true
   },
   "source": [
    "$$\n",
    "0.j_lj_{l+1} \\cdots j_n = \\frac{j+l}{2} + \\frac{j_{l+1}}{2^2} + \\cdots + \\frac{j_n}{2^{m-l+1}}\n",
    "$$"
   ]
  },
  {
   "cell_type": "markdown",
   "id": "d9f8ce6d",
   "metadata": {
    "editable": true
   },
   "source": [
    "## Four qubit system\n",
    "The basis states are"
   ]
  },
  {
   "cell_type": "markdown",
   "id": "a57c01c0",
   "metadata": {
    "editable": true
   },
   "source": [
    "$$\n",
    "|j_1j_2j_3j_4 \\rangle\n",
    "$$"
   ]
  },
  {
   "cell_type": "markdown",
   "id": "0e866fcb",
   "metadata": {
    "editable": true
   },
   "source": [
    "where \\(j_k\\) is either \\(0\\) or \\(1\\). We have"
   ]
  },
  {
   "cell_type": "markdown",
   "id": "1020fe96",
   "metadata": {
    "editable": true
   },
   "source": [
    "$$\n",
    "\\begin{align*}\n",
    "0.j_3 &= \\frac{j_3}{2} \\\\\n",
    "0.j_2j_3 &= \\frac{j_2}{2} + \\frac{j_3}{4} \\\\\n",
    "0.j_1j_2j_3 &= \\frac{j_1}{2} + \\frac{j_2}{4} + \\frac{j_3}{8} \\\\\n",
    "0.j_0j_1j_2j_3 &= \\frac{j_0}{2} + \\frac{j_1}{4} + \\frac{j_2}{8} + \\frac{j_3}{16} \\\\\n",
    "\\end{align*}\n",
    "$$"
   ]
  },
  {
   "cell_type": "markdown",
   "id": "812544da",
   "metadata": {
    "editable": true
   },
   "source": [
    "## QFT acts as follows\n",
    "\n",
    "The quantum Fourier transform acts as follows:"
   ]
  },
  {
   "cell_type": "markdown",
   "id": "2775307f",
   "metadata": {
    "editable": true
   },
   "source": [
    "$$\n",
    "\\begin{align*}\n",
    "|j_1j_2j_3j_4 \\rangle \\mapsto \\frac{1}{\\sqrt{2^{4/2}}}\n",
    "\\left(|0\\rangle + e^{2 \\pi i 0.j4}|1\\rangle \\right) \\otimes \n",
    "\\left(|0\\rangle + e^{2 \\pi i 0.j_3j4}|1\\rangle \\right) \\otimes \n",
    "\\left(|0\\rangle + e^{2 \\pi i 0.j_2j_3j4}|1\\rangle \\right) \\otimes \n",
    "\\left(|0\\rangle + e^{2 \\pi i 0.j_1j_2j_3j4}|1\\rangle \\right) \n",
    "\\end{align*}\n",
    "$$"
   ]
  },
  {
   "cell_type": "markdown",
   "id": "3efb2f76",
   "metadata": {
    "editable": true
   },
   "source": [
    "## Quantum circuits\n",
    "\n",
    "To compose a quantum circuit that calculates the quantum Fourier\n",
    "transform we use the operators"
   ]
  },
  {
   "cell_type": "markdown",
   "id": "0f0bbd66",
   "metadata": {
    "editable": true
   },
   "source": [
    "$$\n",
    "\\begin{align*}\n",
    "R_k = \n",
    "\\begin{bmatrix}\n",
    "1 & 0 \\\\\n",
    "0 & e^{2\\pi i/2^k}\n",
    "\\end{bmatrix}.\n",
    "\\end{align*}\n",
    "$$"
   ]
  },
  {
   "cell_type": "markdown",
   "id": "8855a890",
   "metadata": {
    "editable": true
   },
   "source": [
    "## Rotation gates\n",
    "\n",
    "In this example, the \\(R_k\\) gates are:"
   ]
  },
  {
   "cell_type": "markdown",
   "id": "1fadea50",
   "metadata": {
    "editable": true
   },
   "source": [
    "$$\n",
    "\\begin{align*}\n",
    "R_1 = \\begin{bmatrix}\n",
    "1 & 0 \\\\\n",
    "0 & e^{2 \\pi i /2^0}\n",
    "\\end{bmatrix} = \n",
    "\\begin{bmatrix}\n",
    "1 & 0 \\\\\n",
    "0 & 1\n",
    "\\end{bmatrix}, \\quad \n",
    "R_2 = \\begin{bmatrix}\n",
    "1 & 0 \\\\\n",
    "0 & e^{2 \\pi i /2^2}\n",
    "\\end{bmatrix}, \\quad \n",
    "R_3 = \\begin{bmatrix}\n",
    "1 & 0 \\\\\n",
    "0 & e^{2 \\pi i /2^3}\n",
    "\\end{bmatrix}, \\quad \n",
    "R_4 = \\begin{bmatrix}\n",
    "1 & 0 \\\\\n",
    "0 & e^{2 \\pi i /2^4}\n",
    "\\end{bmatrix}.\n",
    "\\end{align*}\n",
    "$$"
   ]
  },
  {
   "cell_type": "markdown",
   "id": "b1e4e69c",
   "metadata": {
    "editable": true
   },
   "source": [
    "## Using the Hadamard gate\n",
    "The Hadamard\n",
    "gate on a single qubit creates an equal superposition of its basis\n",
    "states, assuming it is not already in a superposition, such that"
   ]
  },
  {
   "cell_type": "markdown",
   "id": "bfe3c00c",
   "metadata": {
    "editable": true
   },
   "source": [
    "$$\n",
    "H\\vert 0 \\rangle = \\frac{1}{\\sqrt{2}} \\left(\\vert 0 \\rangle + \\vert 1\\rangle\\right), \\quad H\\vert 1\\rangle = \\frac{1}{\\sqrt{2}} \\left(\\vert 0 \\rangle - \\vert 1\\rangle\\right)\n",
    "$$"
   ]
  },
  {
   "cell_type": "markdown",
   "id": "587728c1",
   "metadata": {
    "editable": true
   },
   "source": [
    "The $R_k$ gate simply adds a phase if the qubit it acts on is in the state $\\vert 1\\rangle$"
   ]
  },
  {
   "cell_type": "markdown",
   "id": "71828f53",
   "metadata": {
    "editable": true
   },
   "source": [
    "$$\n",
    "R_k\\vert 0 \\rangle = \\vert 0 \\rangle, \\quad R_k\\vert 1\\rangle = e^{2\\pi i/2^{k}}\\vert 1\\rangle\n",
    "$$"
   ]
  },
  {
   "cell_type": "markdown",
   "id": "7ad74e1f",
   "metadata": {
    "editable": true
   },
   "source": [
    "Since all this gates are unitary, the quantum Fourier transfrom is also unitary."
   ]
  },
  {
   "cell_type": "markdown",
   "id": "1f5aa37f",
   "metadata": {
    "editable": true
   },
   "source": [
    "## Algorithm\n",
    "\n",
    "Assume we have a quantum register of $n$ qubits in the state $\\vert j_1 j_2 \\dots j_n\\rangle$.\n",
    "Applying the Hadamard gate to the first qubit\n",
    "produces the state"
   ]
  },
  {
   "cell_type": "markdown",
   "id": "40138666",
   "metadata": {
    "editable": true
   },
   "source": [
    "$$\n",
    "H\\vert j_1 j_2 \\dots j_n\\rangle = \\frac{\\left(\\vert 0 \\rangle + e^{2\\pi i 0.j_1}\\vert 1\\rangle\\right)}{2^{1/2}} \\vert j_2 \\dots j_n\\rangle.\n",
    "$$"
   ]
  },
  {
   "cell_type": "markdown",
   "id": "a13df7af",
   "metadata": {
    "editable": true
   },
   "source": [
    "## Binary fraction\n",
    "\n",
    "Here we have made use of the binary fraction to represent the action of the Hadamard gate"
   ]
  },
  {
   "cell_type": "markdown",
   "id": "6bc26180",
   "metadata": {
    "editable": true
   },
   "source": [
    "$$\n",
    "\\exp{2\\pi i 0.j_1} = -1,\n",
    "$$"
   ]
  },
  {
   "cell_type": "markdown",
   "id": "0ccb2d01",
   "metadata": {
    "editable": true
   },
   "source": [
    "if $j_1 = 1$ and $+1$ if $j_1 = 0$."
   ]
  },
  {
   "cell_type": "markdown",
   "id": "554d60fd",
   "metadata": {
    "editable": true
   },
   "source": [
    "## Controlled rotation gate\n",
    "\n",
    "Furthermore we can apply the controlled-$R_k$ gate, with all the other qubits $j_k$ for $k>1$ as control qubits to produce the state"
   ]
  },
  {
   "cell_type": "markdown",
   "id": "e5aab6f9",
   "metadata": {
    "editable": true
   },
   "source": [
    "$$\n",
    "\\frac{\\left(\\vert 0 \\rangle + e^{2\\pi i 0.j_1j_2\\dots j_n}\\vert 1\\rangle\\right)}{2^{1/2}} \\vert j_2 \\dots j_n\\rangle\n",
    "$$"
   ]
  },
  {
   "cell_type": "markdown",
   "id": "999eade4",
   "metadata": {
    "editable": true
   },
   "source": [
    "Next we do the same procedure on qubit $2$ producing the state"
   ]
  },
  {
   "cell_type": "markdown",
   "id": "c54b3682",
   "metadata": {
    "editable": true
   },
   "source": [
    "$$\n",
    "\\frac{\\left(\\vert 0 \\rangle + e^{2\\pi i 0.j_1j_2\\dots j_n}\\vert 1\\rangle\\right)\\left(\\vert 0 \\rangle + e^{2\\pi i 0.j_2\\dots j_n}\\vert 1\\rangle\\right)}{2^{2/2}} \\vert j_2 \\dots j_n\\rangle\n",
    "$$"
   ]
  },
  {
   "cell_type": "markdown",
   "id": "ae043e96",
   "metadata": {
    "editable": true
   },
   "source": [
    "## Applying to all qubits\n",
    "\n",
    "Doing this for all $n$ qubits yields state"
   ]
  },
  {
   "cell_type": "markdown",
   "id": "e33e0136",
   "metadata": {
    "editable": true
   },
   "source": [
    "$$\n",
    "\\frac{\\left(\\vert 0 \\rangle + e^{2\\pi i 0.j_1j_2\\dots j_n}\\vert 1\\rangle\\right)\\left(\\vert 0 \\rangle + e^{2\\pi i 0.j_2\\dots j_n}\\vert 1\\rangle\\right)\\dots \\left(\\vert 0 \\rangle + e^{2\\pi i 0.j_n}\\vert 1\\rangle\\right)}{2^{n/2}} \\vert j_2 \\dots j_n\\rangle\n",
    "$$"
   ]
  },
  {
   "cell_type": "markdown",
   "id": "8c513e70",
   "metadata": {
    "editable": true
   },
   "source": [
    "At the end we use swap gates to reverse the order of the qubits"
   ]
  },
  {
   "cell_type": "markdown",
   "id": "5e931d6f",
   "metadata": {
    "editable": true
   },
   "source": [
    "$$\n",
    "\\frac{\\left(\\vert 0 \\rangle + e^{2\\pi i 0.j_n}\\vert 1\\rangle\\right)\\left(\\vert 0 \\rangle + e^{2\\pi i 0.j_{n-1}j_n}\\vert 1\\rangle\\right)\\dots\\left(\\vert 0 \\rangle + e^{2\\pi i 0.j_1j_2\\dots j_n}\\vert 1\\rangle\\right) }{2^{n/2}} \\vert j_2 \\dots j_n\\rangle\n",
    "$$"
   ]
  },
  {
   "cell_type": "markdown",
   "id": "88a5ce05",
   "metadata": {
    "editable": true
   },
   "source": [
    "This is just the product representation from earlier, obviously our desired output."
   ]
  }
 ],
 "metadata": {},
 "nbformat": 4,
 "nbformat_minor": 5
}
